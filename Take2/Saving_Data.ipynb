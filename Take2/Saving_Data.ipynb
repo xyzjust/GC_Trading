{
 "cells": [
  {
   "cell_type": "markdown",
   "metadata": {},
   "source": [
    "## Import things "
   ]
  },
  {
   "cell_type": "code",
   "execution_count": 14,
   "metadata": {},
   "outputs": [],
   "source": [
    "import numpy as np"
   ]
  },
  {
   "cell_type": "code",
   "execution_count": 15,
   "metadata": {},
   "outputs": [],
   "source": [
    "from TFANN import ANNR\n",
    "import matplotlib.pyplot as mpl\n",
    "from sklearn.preprocessing import scale"
   ]
  },
  {
   "cell_type": "code",
   "execution_count": 16,
   "metadata": {},
   "outputs": [],
   "source": [
    "import datetime as dt"
   ]
  },
  {
   "cell_type": "code",
   "execution_count": 17,
   "metadata": {},
   "outputs": [],
   "source": [
    "from datetime import datetime"
   ]
  },
  {
   "cell_type": "code",
   "execution_count": 18,
   "metadata": {},
   "outputs": [],
   "source": [
    "import numpy as np\n",
    "import os\n",
    "import pandas as pd\n",
    "import urllib.request\n",
    "     "
   ]
  },
  {
   "cell_type": "code",
   "execution_count": 19,
   "metadata": {},
   "outputs": [],
   "source": [
    "from IPython.display import clear_output\n"
   ]
  },
  {
   "cell_type": "markdown",
   "metadata": {},
   "source": [
    "## Initialisation"
   ]
  },
  {
   "cell_type": "code",
   "execution_count": 20,
   "metadata": {},
   "outputs": [],
   "source": [
    "# valid period : 300, 900, 1800, 7200, 14400, 86400 :seconds\n",
    " \n",
    "def GetCurDF_5min(cur,start):\n",
    "    '''\n",
    "    cur:    3 letter abbreviation for cryptocurrency (BTC, LTC, etc)\n",
    "    fp:     File path (to save price data to CSV)\n",
    "    '''\n",
    "    start = start \n",
    "    end = start + 7776000 #90 days is safe\n",
    "    print(\"https://poloniex.com/public?command=returnChartData&currencyPair=USDT_{0}&start={1}&end={2}&period=300\".format(cur, start,end))\n",
    "    openUrl = urllib.request.urlopen(\"https://poloniex.com/public?command=returnChartData&currencyPair=USDT_{0}&start={1}&end={2}&period=300'\".format(cur, start,end))\n",
    "    r = openUrl.read()\n",
    "    openUrl.close()\n",
    "    df = pd.read_json(r.decode())\n",
    "    df['date'] = df['date'].astype(np.int64) // 1000000000   ## datetime.fromtimestamp(1424138400) to convert back\n",
    "    return df\n",
    "\n",
    "\n",
    "\n",
    "def GetCurDF_30min(cur,start):\n",
    "    '''\n",
    "    cur:    3 letter abbreviation for cryptocurrency (BTC, LTC, etc)\n",
    "    fp:     File path (to save price data to CSV)\n",
    "    '''\n",
    "    start = start \n",
    "    end = start + 7776000 #90 days is safe\n",
    "    print(\"https://poloniex.com/public?command=returnChartData&currencyPair=USDT_{0}&start={1}&end={2}&period=1800\".format(cur, start,end))\n",
    "    openUrl = urllib.request.urlopen(\"https://poloniex.com/public?command=returnChartData&currencyPair=USDT_{0}&start={1}&end={2}&period=1800'\".format(cur, start,end))\n",
    "    r = openUrl.read()\n",
    "    openUrl.close()\n",
    "    df = pd.read_json(r.decode())\n",
    "    df['date'] = df['date'].astype(np.int64) // 1000000000   ## datetime.fromtimestamp(1424138400) to convert back\n",
    "    return df\n",
    "\n",
    "\n",
    "\n",
    "def GetCurDF_2Hours(cur,start):\n",
    "    '''\n",
    "    cur:    3 letter abbreviation for cryptocurrency (BTC, LTC, etc)\n",
    "    fp:     File path (to save price data to CSV)\n",
    "    '''\n",
    "    start = start \n",
    "    end = start + 7776000 #90 days is safe\n",
    "    print(\"https://poloniex.com/public?command=returnChartData&currencyPair=USDT_{0}&start={1}&end={2}&period=7200\".format(cur, start,end))\n",
    "    openUrl = urllib.request.urlopen(\"https://poloniex.com/public?command=returnChartData&currencyPair=USDT_{0}&start={1}&end={2}&period=7200'\".format(cur, start,end))\n",
    "    r = openUrl.read()\n",
    "    openUrl.close()\n",
    "    df = pd.read_json(r.decode())\n",
    "    df['date'] = df['date'].astype(np.int64) // 1000000000   ## datetime.fromtimestamp(1424138400) to convert back\n",
    "    return df\n"
   ]
  },
  {
   "cell_type": "code",
   "execution_count": null,
   "metadata": {},
   "outputs": [],
   "source": []
  },
  {
   "cell_type": "markdown",
   "metadata": {},
   "source": [
    "### Initialisation"
   ]
  },
  {
   "cell_type": "code",
   "execution_count": 21,
   "metadata": {},
   "outputs": [
    {
     "name": "stdout",
     "output_type": "stream",
     "text": [
      "https://poloniex.com/public?command=returnChartData&currencyPair=USDT_BTC&start=1420070400&end=1427846400&period=300\n",
      "https://poloniex.com/public?command=returnChartData&currencyPair=USDT_BTC&start=1420070400&end=1427846400&period=1800\n",
      "https://poloniex.com/public?command=returnChartData&currencyPair=USDT_BTC&start=1420070400&end=1427846400&period=7200\n",
      "BTC 1427846400\n",
      "https://poloniex.com/public?command=returnChartData&currencyPair=USDT_BTC&start=1427846400&end=1435622400&period=300\n",
      "https://poloniex.com/public?command=returnChartData&currencyPair=USDT_BTC&start=1427846400&end=1435622400&period=1800\n",
      "https://poloniex.com/public?command=returnChartData&currencyPair=USDT_BTC&start=1427846400&end=1435622400&period=7200\n",
      "BTC 1435622400\n",
      "https://poloniex.com/public?command=returnChartData&currencyPair=USDT_BTC&start=1435622400&end=1443398400&period=300\n",
      "https://poloniex.com/public?command=returnChartData&currencyPair=USDT_BTC&start=1435622400&end=1443398400&period=1800\n",
      "https://poloniex.com/public?command=returnChartData&currencyPair=USDT_BTC&start=1435622400&end=1443398400&period=7200\n",
      "BTC 1443398400\n",
      "https://poloniex.com/public?command=returnChartData&currencyPair=USDT_BTC&start=1443398400&end=1451174400&period=300\n",
      "https://poloniex.com/public?command=returnChartData&currencyPair=USDT_BTC&start=1443398400&end=1451174400&period=1800\n",
      "https://poloniex.com/public?command=returnChartData&currencyPair=USDT_BTC&start=1443398400&end=1451174400&period=7200\n",
      "BTC 1451174400\n",
      "https://poloniex.com/public?command=returnChartData&currencyPair=USDT_BTC&start=1451174400&end=1458950400&period=300\n",
      "https://poloniex.com/public?command=returnChartData&currencyPair=USDT_BTC&start=1451174400&end=1458950400&period=1800\n",
      "https://poloniex.com/public?command=returnChartData&currencyPair=USDT_BTC&start=1451174400&end=1458950400&period=7200\n",
      "BTC 1458950400\n",
      "https://poloniex.com/public?command=returnChartData&currencyPair=USDT_BTC&start=1458950400&end=1466726400&period=300\n",
      "https://poloniex.com/public?command=returnChartData&currencyPair=USDT_BTC&start=1458950400&end=1466726400&period=1800\n",
      "https://poloniex.com/public?command=returnChartData&currencyPair=USDT_BTC&start=1458950400&end=1466726400&period=7200\n",
      "BTC 1466726400\n",
      "https://poloniex.com/public?command=returnChartData&currencyPair=USDT_BTC&start=1466726400&end=1474502400&period=300\n",
      "https://poloniex.com/public?command=returnChartData&currencyPair=USDT_BTC&start=1466726400&end=1474502400&period=1800\n",
      "https://poloniex.com/public?command=returnChartData&currencyPair=USDT_BTC&start=1466726400&end=1474502400&period=7200\n",
      "BTC 1474502400\n",
      "https://poloniex.com/public?command=returnChartData&currencyPair=USDT_BTC&start=1474502400&end=1482278400&period=300\n",
      "https://poloniex.com/public?command=returnChartData&currencyPair=USDT_BTC&start=1474502400&end=1482278400&period=1800\n",
      "https://poloniex.com/public?command=returnChartData&currencyPair=USDT_BTC&start=1474502400&end=1482278400&period=7200\n",
      "BTC 1482278400\n",
      "https://poloniex.com/public?command=returnChartData&currencyPair=USDT_BTC&start=1482278400&end=1490054400&period=300\n",
      "https://poloniex.com/public?command=returnChartData&currencyPair=USDT_BTC&start=1482278400&end=1490054400&period=1800\n",
      "https://poloniex.com/public?command=returnChartData&currencyPair=USDT_BTC&start=1482278400&end=1490054400&period=7200\n",
      "BTC 1490054400\n",
      "https://poloniex.com/public?command=returnChartData&currencyPair=USDT_BTC&start=1490054400&end=1497830400&period=300\n",
      "https://poloniex.com/public?command=returnChartData&currencyPair=USDT_BTC&start=1490054400&end=1497830400&period=1800\n",
      "https://poloniex.com/public?command=returnChartData&currencyPair=USDT_BTC&start=1490054400&end=1497830400&period=7200\n",
      "BTC 1497830400\n",
      "https://poloniex.com/public?command=returnChartData&currencyPair=USDT_BTC&start=1497830400&end=1505606400&period=300\n",
      "https://poloniex.com/public?command=returnChartData&currencyPair=USDT_BTC&start=1497830400&end=1505606400&period=1800\n",
      "https://poloniex.com/public?command=returnChartData&currencyPair=USDT_BTC&start=1497830400&end=1505606400&period=7200\n",
      "BTC 1505606400\n",
      "https://poloniex.com/public?command=returnChartData&currencyPair=USDT_BTC&start=1505606400&end=1513382400&period=300\n",
      "https://poloniex.com/public?command=returnChartData&currencyPair=USDT_BTC&start=1505606400&end=1513382400&period=1800\n",
      "https://poloniex.com/public?command=returnChartData&currencyPair=USDT_BTC&start=1505606400&end=1513382400&period=7200\n",
      "BTC 1513382400\n",
      "https://poloniex.com/public?command=returnChartData&currencyPair=USDT_BTC&start=1513382400&end=1521158400&period=300\n",
      "https://poloniex.com/public?command=returnChartData&currencyPair=USDT_BTC&start=1513382400&end=1521158400&period=1800\n",
      "https://poloniex.com/public?command=returnChartData&currencyPair=USDT_BTC&start=1513382400&end=1521158400&period=7200\n",
      "BTC 1521158400\n",
      "https://poloniex.com/public?command=returnChartData&currencyPair=USDT_BTC&start=1521158400&end=1528934400&period=300\n",
      "https://poloniex.com/public?command=returnChartData&currencyPair=USDT_BTC&start=1521158400&end=1528934400&period=1800\n",
      "https://poloniex.com/public?command=returnChartData&currencyPair=USDT_BTC&start=1521158400&end=1528934400&period=7200\n",
      "BTC 1528934400\n",
      "https://poloniex.com/public?command=returnChartData&currencyPair=USDT_BTC&start=1528934400&end=1536710400&period=300\n",
      "https://poloniex.com/public?command=returnChartData&currencyPair=USDT_BTC&start=1528934400&end=1536710400&period=1800\n",
      "https://poloniex.com/public?command=returnChartData&currencyPair=USDT_BTC&start=1528934400&end=1536710400&period=7200\n",
      "BTC 1536710400\n",
      "https://poloniex.com/public?command=returnChartData&currencyPair=USDT_BTC&start=1536710400&end=1544486400&period=300\n",
      "https://poloniex.com/public?command=returnChartData&currencyPair=USDT_BTC&start=1536710400&end=1544486400&period=1800\n",
      "https://poloniex.com/public?command=returnChartData&currencyPair=USDT_BTC&start=1536710400&end=1544486400&period=7200\n",
      "BTC 1544486400\n",
      "https://poloniex.com/public?command=returnChartData&currencyPair=USDT_BTC&start=1544486400&end=1552262400&period=300\n",
      "https://poloniex.com/public?command=returnChartData&currencyPair=USDT_BTC&start=1544486400&end=1552262400&period=1800\n",
      "https://poloniex.com/public?command=returnChartData&currencyPair=USDT_BTC&start=1544486400&end=1552262400&period=7200\n",
      "BTC 1552262400\n",
      "https://poloniex.com/public?command=returnChartData&currencyPair=USDT_BTC&start=1552262400&end=1560038400&period=300\n",
      "https://poloniex.com/public?command=returnChartData&currencyPair=USDT_BTC&start=1552262400&end=1560038400&period=1800\n",
      "https://poloniex.com/public?command=returnChartData&currencyPair=USDT_BTC&start=1552262400&end=1560038400&period=7200\n",
      "BTC 1560038400\n",
      "https://poloniex.com/public?command=returnChartData&currencyPair=USDT_BTC&start=1560038400&end=1567814400&period=300\n",
      "https://poloniex.com/public?command=returnChartData&currencyPair=USDT_BTC&start=1560038400&end=1567814400&period=1800\n",
      "https://poloniex.com/public?command=returnChartData&currencyPair=USDT_BTC&start=1560038400&end=1567814400&period=7200\n",
      "BTC 1567814400\n"
     ]
    }
   ],
   "source": [
    "for coin in ['LSK','ETH','ETC','STR','XMR','XRP','LTC','ATOM','XMR','ZEC','BAT','SNT','BTC']:\n",
    "    clear_output()\n",
    "\n",
    "    starting_time_all = 1420070400\n",
    "    \n",
    "    list_5min = []\n",
    "    list_30min = []\n",
    "    list_2H = []\n",
    "\n",
    "    while starting_time_all < datetime.timestamp(datetime.now()):\n",
    "        \n",
    "        timestamp_start = str(datetime.fromtimestamp(starting_time_all)).replace(':','').replace('-','').replace(' ','')\n",
    "\n",
    "        df_5min  =  [GetCurDF_5min(coin,starting_time_all), '{0}_5min_Freq_starting_at_{1}'.format(coin,timestamp_start)]\n",
    "        \n",
    "        df_30min =  [GetCurDF_30min(coin,starting_time_all), '{0}_30min_Freq_starting_at_{1}'.format(coin,timestamp_start)]\n",
    "        \n",
    "        df_2Hour =  [GetCurDF_2Hours(coin,starting_time_all), '{0}_2H_Freq_starting_at_{1}'.format(coin,timestamp_start)]\n",
    "\n",
    "        \n",
    "        for tables in [df_5min, df_30min , df_2Hour]:\n",
    "            if '_5min_' in tables[1]:\n",
    "                tables[0].to_csv('Coin_Data_5min/{0}.csv'.format(tables[1]))\n",
    "                list_5min.append(tables[1])\n",
    "                \n",
    "            elif '_30min_' in tables[1]:\n",
    "                tables[0].to_csv('Coin_Data_30min/{0}.csv'.format(tables[1]))\n",
    "                list_30min.append(tables[1])\n",
    "            else:\n",
    "                tables[0].to_csv('Coin_Data_2H/{0}.csv'.format(tables[1]))\n",
    "                list_2H.append(tables[1])\n",
    "                \n",
    "        starting_time_all += 7776000\n",
    "        \n",
    "        \n",
    "        print(coin, starting_time_all)\n",
    "        \n",
    "        \n",
    "        \n",
    "    to_save_list = [list_5min, list_30min, list_2H]\n",
    "        \n",
    "        \n",
    "    for li in to_save_list:\n",
    "\n",
    "        if '_5min_' in li[0]:\n",
    "            MyFile=open('{0}_5min_Freq.txt'.format(coin),'w')\n",
    "\n",
    "        elif '_30min_' in li[0]:\n",
    "            MyFile=open('{0}_30min_Freq.txt'.format(coin),'w')\n",
    "\n",
    "        else:\n",
    "            MyFile=open('{0}_2H_Freq.txt'.format(coin),'w')\n",
    "\n",
    "        for element in li:\n",
    "            MyFile.write(element)\n",
    "            MyFile.write('\\n')\n",
    "        MyFile.close()\n",
    "        "
   ]
  },
  {
   "cell_type": "code",
   "execution_count": null,
   "metadata": {},
   "outputs": [],
   "source": []
  },
  {
   "cell_type": "code",
   "execution_count": null,
   "metadata": {},
   "outputs": [],
   "source": []
  },
  {
   "cell_type": "code",
   "execution_count": null,
   "metadata": {},
   "outputs": [],
   "source": []
  },
  {
   "cell_type": "code",
   "execution_count": null,
   "metadata": {},
   "outputs": [],
   "source": []
  },
  {
   "cell_type": "code",
   "execution_count": null,
   "metadata": {},
   "outputs": [],
   "source": []
  },
  {
   "cell_type": "code",
   "execution_count": null,
   "metadata": {},
   "outputs": [],
   "source": []
  },
  {
   "cell_type": "code",
   "execution_count": 37,
   "metadata": {},
   "outputs": [],
   "source": [
    "def GetAPIUrl(cur, start):\n",
    "    '''\n",
    "    Makes a URL for querying historical prices of a cyrpto from Poloniex\n",
    "    cur:    3 letter abbreviation for cryptocurrency (BTC, LTC, etc)\n",
    "    '''\n",
    "    start = start\n",
    "    end = start + 7776000\n",
    "    return 'https://poloniex.com/public?command=returnChartData&currencyPair=USDT_{0}&start={1}&end={2}&period=7200'.format(cur, start,end)\n",
    " \n",
    "def GetCurDF(cur,start, fp):\n",
    "    '''\n",
    "    cur:    3 letter abbreviation for cryptocurrency (BTC, LTC, etc)\n",
    "    fp:     File path (to save price data to CSV)\n",
    "    '''\n",
    "    start = start\n",
    "    \n",
    "    openUrl = urllib.request.urlopen(GetAPIUrl(cur,start))\n",
    "    r = openUrl.read()\n",
    "    openUrl.close()\n",
    "    df = pd.read_json(r.decode())\n",
    "    df['date'] = df['date'].astype(np.int64) // 1000000000   ## datetime.fromtimestamp(1424138400) to convert back\n",
    "    return df\n",
    " "
   ]
  },
  {
   "cell_type": "code",
   "execution_count": 61,
   "metadata": {},
   "outputs": [],
   "source": [
    "a =GetCurDF(cur='ETH',start = 1420070400,fp='new')"
   ]
  },
  {
   "cell_type": "code",
   "execution_count": 62,
   "metadata": {},
   "outputs": [],
   "source": [
    "a['date_time'] = a['date'].apply(lambda x : datetime.fromtimestamp(x))"
   ]
  },
  {
   "cell_type": "code",
   "execution_count": 63,
   "metadata": {},
   "outputs": [
    {
     "data": {
      "text/html": [
       "<div>\n",
       "<style scoped>\n",
       "    .dataframe tbody tr th:only-of-type {\n",
       "        vertical-align: middle;\n",
       "    }\n",
       "\n",
       "    .dataframe tbody tr th {\n",
       "        vertical-align: top;\n",
       "    }\n",
       "\n",
       "    .dataframe thead th {\n",
       "        text-align: right;\n",
       "    }\n",
       "</style>\n",
       "<table border=\"1\" class=\"dataframe\">\n",
       "  <thead>\n",
       "    <tr style=\"text-align: right;\">\n",
       "      <th></th>\n",
       "      <th>close</th>\n",
       "      <th>date</th>\n",
       "      <th>high</th>\n",
       "      <th>low</th>\n",
       "      <th>open</th>\n",
       "      <th>quoteVolume</th>\n",
       "      <th>volume</th>\n",
       "      <th>weightedAverage</th>\n",
       "      <th>date_time</th>\n",
       "    </tr>\n",
       "  </thead>\n",
       "  <tbody>\n",
       "    <tr>\n",
       "      <th>0</th>\n",
       "      <td>0</td>\n",
       "      <td>0</td>\n",
       "      <td>0</td>\n",
       "      <td>0</td>\n",
       "      <td>0</td>\n",
       "      <td>0</td>\n",
       "      <td>0</td>\n",
       "      <td>0</td>\n",
       "      <td>1970-01-01</td>\n",
       "    </tr>\n",
       "  </tbody>\n",
       "</table>\n",
       "</div>"
      ],
      "text/plain": [
       "   close  date  high  low  open  quoteVolume  volume  weightedAverage  \\\n",
       "0      0     0     0    0     0            0       0                0   \n",
       "\n",
       "   date_time  \n",
       "0 1970-01-01  "
      ]
     },
     "execution_count": 63,
     "metadata": {},
     "output_type": "execute_result"
    }
   ],
   "source": [
    "a"
   ]
  },
  {
   "cell_type": "code",
   "execution_count": 35,
   "metadata": {},
   "outputs": [
    {
     "data": {
      "text/plain": [
       "7776000"
      ]
     },
     "execution_count": 35,
     "metadata": {},
     "output_type": "execute_result"
    }
   ],
   "source": [
    "90*24*60*60"
   ]
  },
  {
   "cell_type": "code",
   "execution_count": 9,
   "metadata": {},
   "outputs": [
    {
     "data": {
      "text/plain": [
       "<matplotlib.axes._subplots.AxesSubplot at 0x26276c9f400>"
      ]
     },
     "execution_count": 9,
     "metadata": {},
     "output_type": "execute_result"
    },
    {
     "data": {
      "image/png": "[encoded data removed]",
      "text/plain": [
       "<Figure size 432x288 with 1 Axes>"
      ]
     },
     "metadata": {
      "needs_background": "light"
     },
     "output_type": "display_data"
    }
   ],
   "source": [
    "a.set_index('date_time')[['close']].plot()"
   ]
  },
  {
   "cell_type": "code",
   "execution_count": null,
   "metadata": {},
   "outputs": [],
   "source": []
  }
 ],
 "metadata": {
  "kernelspec": {
   "display_name": "Python 3",
   "language": "python",
   "name": "python3"
  },
  "language_info": {
   "codemirror_mode": {
    "name": "ipython",
    "version": 3
   },
   "file_extension": ".py",
   "mimetype": "text/x-python",
   "name": "python",
   "nbconvert_exporter": "python",
   "pygments_lexer": "ipython3",
   "version": "3.7.2"
  }
 },
 "nbformat": 4,
 "nbformat_minor": 2
}

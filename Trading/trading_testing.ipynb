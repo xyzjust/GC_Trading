{
 "cells": [
  {
   "cell_type": "code",
   "execution_count": 1,
   "metadata": {},
   "outputs": [],
   "source": [
    "import sys \n",
    "sys.path.append('C:/Users/Zhen/Desktop/For_Fun/Connections/bitfinex-api-py/')"
   ]
  },
  {
   "cell_type": "code",
   "execution_count": 2,
   "metadata": {},
   "outputs": [],
   "source": [
    "sys.path.append('C:/Users/Zhen/Desktop/Keys')"
   ]
  },
  {
   "cell_type": "code",
   "execution_count": 3,
   "metadata": {},
   "outputs": [],
   "source": [
    "import bfxapi"
   ]
  },
  {
   "cell_type": "code",
   "execution_count": 4,
   "metadata": {},
   "outputs": [],
   "source": [
    "from bfxapi import Client"
   ]
  },
  {
   "cell_type": "code",
   "execution_count": 5,
   "metadata": {},
   "outputs": [],
   "source": [
    "from bfxapi import Order"
   ]
  },
  {
   "cell_type": "code",
   "execution_count": 6,
   "metadata": {},
   "outputs": [],
   "source": [
    "from Asus_Bitfinex_API import Bitfinex_API"
   ]
  },
  {
   "cell_type": "code",
   "execution_count": 7,
   "metadata": {},
   "outputs": [],
   "source": [
    "bfx = Client(\n",
    "  API_KEY=Bitfinex_API['key'],\n",
    "  API_SECRET=Bitfinex_API['secret'],\n",
    "#  logLevel='DEBUG'\n",
    ")"
   ]
  },
  {
   "cell_type": "code",
   "execution_count": null,
   "metadata": {},
   "outputs": [],
   "source": []
  },
  {
   "cell_type": "code",
   "execution_count": 47,
   "metadata": {},
   "outputs": [],
   "source": [
    "@bfx.ws.on('new_trade')\n",
    "def log_trade(trade):\n",
    "    print (\"New trade: {}\".format(trade))\n",
    "\n",
    "@bfx.ws.on('connected')\n",
    "def start():\n",
    "    bfx.ws.subscribe('trades', 'tBTCUSD')"
   ]
  },
  {
   "cell_type": "code",
   "execution_count": 44,
   "metadata": {},
   "outputs": [
    {
     "name": "stderr",
     "output_type": "stream",
     "text": [
      "[\u001b[1m\u001b[90mBfxWebsocket\u001b[0m\u001b[0m] [\u001b[94mINFO\u001b[0m] Wesocket connected to wss://api-pub.bitfinex.com/ws/2\n",
      "[\u001b[1m\u001b[90mBfxWebsocket\u001b[0m\u001b[0m] [\u001b[94mINFO\u001b[0m] {'event': 'info', 'version': 2, 'serverId': 'd39a2863-7009-4d3e-82ab-97e55b3b5fff', 'platform': {'status': 1}}\n",
      "[\u001b[1m\u001b[90mBfxWebsocket\u001b[0m\u001b[0m] [\u001b[94mINFO\u001b[0m] Websocket opened.\n"
     ]
    }
   ],
   "source": [
    "bfx.ws.run()"
   ]
  },
  {
   "cell_type": "code",
   "execution_count": null,
   "metadata": {},
   "outputs": [],
   "source": []
  },
  {
   "cell_type": "code",
   "execution_count": null,
   "metadata": {},
   "outputs": [],
   "source": []
  },
  {
   "cell_type": "code",
   "execution_count": 43,
   "metadata": {},
   "outputs": [
    {
     "data": {
      "text/plain": [
       "[<bfxapi.models.wallet.Wallet at 0x2582185df98>,\n",
       " <bfxapi.models.wallet.Wallet at 0x25823825550>,\n",
       " <bfxapi.models.wallet.Wallet at 0x25821883080>,\n",
       " <bfxapi.models.wallet.Wallet at 0x25821883828>,\n",
       " <bfxapi.models.wallet.Wallet at 0x25821883c88>,\n",
       " <bfxapi.models.wallet.Wallet at 0x25821e4fe48>,\n",
       " <bfxapi.models.wallet.Wallet at 0x25821890860>,\n",
       " <bfxapi.models.wallet.Wallet at 0x258218832b0>]"
      ]
     },
     "execution_count": 43,
     "metadata": {},
     "output_type": "execute_result"
    }
   ],
   "source": [
    "bfx.ws.wallets.get_wallets()"
   ]
  },
  {
   "cell_type": "code",
   "execution_count": 11,
   "metadata": {},
   "outputs": [],
   "source": [
    "wallets = bfx.ws.wallets.get_wallets()"
   ]
  },
  {
   "cell_type": "code",
   "execution_count": 20,
   "metadata": {},
   "outputs": [
    {
     "name": "stderr",
     "output_type": "stream",
     "text": [
      "[\u001b[1m\u001b[90mBfxOrderManager\u001b[0m\u001b[0m] [\u001b[94mINFO\u001b[0m] Order cid=1567281742507 (tBTCUSD 0.000117 @ 0.9) dispatched\n",
      "[\u001b[1m\u001b[90mBfxWebsocket\u001b[0m\u001b[0m] [\u001b[91mERROR\u001b[0m] Notification ERROR: Invalid order: minimum size for BTCUSD is 0.0004\n",
      "[\u001b[1m\u001b[90mBfxWebsocket\u001b[0m\u001b[0m] [\u001b[94mINFO\u001b[0m] Balance update: [208.9879013178516, 208.9879013178516]\n",
      "[\u001b[1m\u001b[90mBfxOrderManager\u001b[0m\u001b[0m] [\u001b[94mINFO\u001b[0m] Order new: Order <'tXRPUSD' amount_orig=12 amount_filled=0 mts_create=1567281872355 status='ACTIVE' id=30493872687>\n",
      "[\u001b[1m\u001b[90mBfxWebsocket\u001b[0m\u001b[0m] [\u001b[94mINFO\u001b[0m] Wallet update: Wallet <'exchange_USD' balance='1.13' unsettled='0'>\n"
     ]
    }
   ],
   "source": [
    "await bfx.ws.submit_order('tBTCUSD', 0.9,0.000117, Order.Type.EXCHANGE_MARKET)"
   ]
  },
  {
   "cell_type": "code",
   "execution_count": null,
   "metadata": {},
   "outputs": [],
   "source": [
    "await bfx.ws.submit_order('tBTCUSD', 0.9,0.000117, Order.Type.EXCHANGE_LIMIT)"
   ]
  },
  {
   "cell_type": "code",
   "execution_count": null,
   "metadata": {},
   "outputs": [],
   "source": []
  },
  {
   "cell_type": "code",
   "execution_count": 40,
   "metadata": {},
   "outputs": [
    {
     "name": "stderr",
     "output_type": "stream",
     "text": [
      "[\u001b[1m\u001b[90mBfxOrderManager\u001b[0m\u001b[0m] [\u001b[94mINFO\u001b[0m] Order cid=1567282428466 (tUSDXRP 12 @ 0.3) dispatched\n",
      "[\u001b[1m\u001b[90mBfxWebsocket\u001b[0m\u001b[0m] [\u001b[91mERROR\u001b[0m] Notification ERROR: action: disabled\n"
     ]
    }
   ],
   "source": [
    "await bfx.ws.submit_order('tUSDXRP', price = 0.30, amount = 12 , market_type = Order.Type.EXCHANGE_MARKET,hidden=True)"
   ]
  },
  {
   "cell_type": "code",
   "execution_count": null,
   "metadata": {},
   "outputs": [],
   "source": [
    "await bfx.ws.submit_order('tUSDXRP', price = 0.30, amount = 12 , market_type = Order.Type.EXCHANGE_LIMIT,hidden=False)"
   ]
  },
  {
   "cell_type": "code",
   "execution_count": null,
   "metadata": {},
   "outputs": [],
   "source": []
  },
  {
   "cell_type": "code",
   "execution_count": 14,
   "metadata": {},
   "outputs": [
    {
     "name": "stderr",
     "output_type": "stream",
     "text": [
      "[\u001b[1m\u001b[90mBfxOrderManager\u001b[0m\u001b[0m] [\u001b[94mINFO\u001b[0m] Order cid=1569705837491 (tUSDXRP 12 @ 0.3) dispatched\n",
      "[\u001b[1m\u001b[90mBfxWebsocket\u001b[0m\u001b[0m] [\u001b[91mERROR\u001b[0m] Notification ERROR: action: disabled\n"
     ]
    }
   ],
   "source": [
    "await bfx.ws.submit_order('tUSDXRP', price = 0.30, amount = 12 , market_type = Order.Type.EXCHANGE_LIMIT,hidden= False)"
   ]
  },
  {
   "cell_type": "code",
   "execution_count": null,
   "metadata": {},
   "outputs": [],
   "source": []
  },
  {
   "cell_type": "code",
   "execution_count": 16,
   "metadata": {},
   "outputs": [
    {
     "name": "stderr",
     "output_type": "stream",
     "text": [
      "[\u001b[1m\u001b[90mBfxOrderManager\u001b[0m\u001b[0m] [\u001b[94mINFO\u001b[0m] Order cid=1569705903180 (tUSDXRP 12 @ 0.3) dispatched\n",
      "[\u001b[1m\u001b[90mBfxWebsocket\u001b[0m\u001b[0m] [\u001b[91mERROR\u001b[0m] Notification ERROR: action: disabled\n",
      "[\u001b[1m\u001b[90mBfxWebsocket\u001b[0m\u001b[0m] [\u001b[94mINFO\u001b[0m] Balance update: [208.81340572572702, 208.81340572572702]\n"
     ]
    }
   ],
   "source": [
    "await bfx.ws.submit_order('tUSDXRP', price = 0.30, amount = 12 , market_type = Order.Type.EXCHANGE_LIMIT,hidden= True)"
   ]
  },
  {
   "cell_type": "code",
   "execution_count": null,
   "metadata": {},
   "outputs": [],
   "source": []
  },
  {
   "cell_type": "code",
   "execution_count": 30,
   "metadata": {},
   "outputs": [
    {
     "name": "stderr",
     "output_type": "stream",
     "text": [
      "[\u001b[1m\u001b[90mBfxOrderManager\u001b[0m\u001b[0m] [\u001b[94mINFO\u001b[0m] Order cid=1569706281965 (USDXRP 12 @ 0.22) dispatched\n",
      "[\u001b[1m\u001b[90mBfxWebsocket\u001b[0m\u001b[0m] [\u001b[91mERROR\u001b[0m] Notification ERROR: action: disabled\n",
      "[\u001b[1m\u001b[90mBfxWebsocket\u001b[0m\u001b[0m] [\u001b[94mINFO\u001b[0m] Balance update: [208.70542633605623, 208.70542633605623]\n"
     ]
    }
   ],
   "source": [
    "await bfx.ws.submit_order('tXRPUSD', price = 0.22, amount = 12 , market_type = Order.Type.EXCHANGE_MARKET,hidden=True)"
   ]
  },
  {
   "cell_type": "code",
   "execution_count": null,
   "metadata": {},
   "outputs": [],
   "source": []
  },
  {
   "cell_type": "code",
   "execution_count": 50,
   "metadata": {},
   "outputs": [
    {
     "name": "stderr",
     "output_type": "stream",
     "text": [
      "[\u001b[1m\u001b[90mBfxOrderManager\u001b[0m\u001b[0m] [\u001b[94mINFO\u001b[0m] Order cid=1569707580547 (tXRPUSD -12 @ 0.3) dispatched\n",
      "[\u001b[1m\u001b[90mBfxWebsocket\u001b[0m\u001b[0m] [\u001b[94mINFO\u001b[0m] Notification SUCCESS: Submitting exchange limit sell order for -12 XRP.\n",
      "[\u001b[1m\u001b[90mBfxOrderManager\u001b[0m\u001b[0m] [\u001b[94mINFO\u001b[0m] Order new: Order <'tXRPUSD' amount_orig=-12 amount_filled=0 mts_create=1569707580546 status='ACTIVE' id=31699752342>\n",
      "[\u001b[1m\u001b[90mBfxWebsocket\u001b[0m\u001b[0m] [\u001b[94mINFO\u001b[0m] Wallet update: Wallet <'exchange_XRP' balance='23.952' unsettled='0'>\n",
      "[\u001b[1m\u001b[90mBfxWebsocket\u001b[0m\u001b[0m] [\u001b[94mINFO\u001b[0m] Wallet update: Wallet <'exchange_USD' balance='1.94456' unsettled='0'>\n"
     ]
    }
   ],
   "source": [
    "await bfx.ws.submit_order('tXRPUSD', price = 0.30, amount = -12 , market_type = Order.Type.EXCHANGE_LIMIT,hidden=True)"
   ]
  },
  {
   "cell_type": "code",
   "execution_count": null,
   "metadata": {},
   "outputs": [],
   "source": []
  },
  {
   "cell_type": "markdown",
   "metadata": {},
   "source": [
    "bfx.ws.submit_order('trading pair', price, amount , market_type = Order.Type.EXCHANGE_LIMIT,hidden=False)\n",
    "\n",
    "- to buy/sell, set price as per coin, e.g. XRP, then do tXRPUSD as trading pair, and set the price as how much each coin, e.g. 0.3 means 0.3 USD per XRP\n",
    "- sell or buy is the amount, negative would mean sell, positive means buy at the price\n"
   ]
  },
  {
   "cell_type": "code",
   "execution_count": 49,
   "metadata": {},
   "outputs": [
    {
     "name": "stderr",
     "output_type": "stream",
     "text": [
      "[\u001b[1m\u001b[90mBfxOrderManager\u001b[0m\u001b[0m] [\u001b[94mINFO\u001b[0m] Order closed: tXRPUSD CANCELED\n",
      "[\u001b[1m\u001b[90mBfxWebsocket\u001b[0m\u001b[0m] [\u001b[94mINFO\u001b[0m] Wallet update: Wallet <'exchange_XRP' balance='23.952' unsettled='0'>\n",
      "[\u001b[1m\u001b[90mBfxWebsocket\u001b[0m\u001b[0m] [\u001b[94mINFO\u001b[0m] Wallet update: Wallet <'exchange_USD' balance='1.94456' unsettled='0'>\n",
      "[\u001b[1m\u001b[90mBfxWebsocket\u001b[0m\u001b[0m] [\u001b[94mINFO\u001b[0m] Balance update: [208.74063869328384, 208.74063869328384]\n",
      "[\u001b[1m\u001b[90mBfxWebsocket\u001b[0m\u001b[0m] [\u001b[94mINFO\u001b[0m] Balance update: [208.76829985091126, 208.76829985091126]\n"
     ]
    }
   ],
   "source": [
    "await bfx.ws.cancel_all_orders()"
   ]
  },
  {
   "cell_type": "code",
   "execution_count": 51,
   "metadata": {},
   "outputs": [
    {
     "name": "stderr",
     "output_type": "stream",
     "text": [
      "[\u001b[1m\u001b[90mBfxOrderManager\u001b[0m\u001b[0m] [\u001b[94mINFO\u001b[0m] Order cancel order_id=31699752342 dispatched\n",
      "[\u001b[1m\u001b[90mBfxWebsocket\u001b[0m\u001b[0m] [\u001b[94mINFO\u001b[0m] Notification SUCCESS: Submitted for cancellation; waiting for confirmation (ID: 31699752342).\n",
      "[\u001b[1m\u001b[90mBfxOrderManager\u001b[0m\u001b[0m] [\u001b[94mINFO\u001b[0m] Order closed: tXRPUSD CANCELED\n",
      "[\u001b[1m\u001b[90mBfxWebsocket\u001b[0m\u001b[0m] [\u001b[94mINFO\u001b[0m] Wallet update: Wallet <'exchange_XRP' balance='23.952' unsettled='0'>\n",
      "[\u001b[1m\u001b[90mBfxWebsocket\u001b[0m\u001b[0m] [\u001b[94mINFO\u001b[0m] Wallet update: Wallet <'exchange_USD' balance='1.94456' unsettled='0'>\n",
      "[\u001b[1m\u001b[90mBfxWebsocket\u001b[0m\u001b[0m] [\u001b[94mINFO\u001b[0m] Balance update: [208.81503346021387, 208.81503346021387]\n"
     ]
    }
   ],
   "source": [
    "await bfx.ws.cancel_order(31699752342)"
   ]
  },
  {
   "cell_type": "code",
   "execution_count": null,
   "metadata": {},
   "outputs": [],
   "source": []
  },
  {
   "cell_type": "code",
   "execution_count": 58,
   "metadata": {},
   "outputs": [
    {
     "name": "stderr",
     "output_type": "stream",
     "text": [
      "[\u001b[1m\u001b[90mBfxOrderManager\u001b[0m\u001b[0m] [\u001b[94mINFO\u001b[0m] Order cid=1567282592836 (tXRPUSD 12 @ 0.22) dispatched\n",
      "[\u001b[1m\u001b[90mBfxWebsocket\u001b[0m\u001b[0m] [\u001b[94mINFO\u001b[0m] Notification SUCCESS: Submitting exchange market buy order for 12 XRP.\n",
      "[\u001b[1m\u001b[90mBfxWebsocket\u001b[0m\u001b[0m] [\u001b[94mINFO\u001b[0m] Wallet update: Wallet <'exchange_XRP' balance='23.976' unsettled='0'>\n",
      "[\u001b[1m\u001b[90mBfxWebsocket\u001b[0m\u001b[0m] [\u001b[94mINFO\u001b[0m] Wallet update: Wallet <'exchange_USD' balance='1.94456' unsettled='0'>\n",
      "[\u001b[1m\u001b[90mBfxOrderManager\u001b[0m\u001b[0m] [\u001b[94mINFO\u001b[0m] Order closed: tXRPUSD EXECUTED @ 0.25462(12.0)\n",
      "[\u001b[1m\u001b[90mBfxWebsocket\u001b[0m\u001b[0m] [\u001b[94mINFO\u001b[0m] Wallet update: Wallet <'exchange_XRP' balance='23.952' unsettled='0'>\n",
      "[\u001b[1m\u001b[90mBfxWebsocket\u001b[0m\u001b[0m] [\u001b[94mINFO\u001b[0m] Wallet update: Wallet <'exchange_XRP' balance='23.952' unsettled='0'>\n",
      "[\u001b[1m\u001b[90mBfxWebsocket\u001b[0m\u001b[0m] [\u001b[94mINFO\u001b[0m] Wallet update: Wallet <'exchange_USD' balance='1.94456' unsettled='0'>\n",
      "[\u001b[1m\u001b[90mBfxWebsocket\u001b[0m\u001b[0m] [\u001b[94mINFO\u001b[0m] Balance update: [208.75200081670522, 208.75200081670522]\n",
      "[\u001b[1m\u001b[90mBfxWebsocket\u001b[0m\u001b[0m] [\u001b[94mINFO\u001b[0m] Balance update: [208.4902054211612, 208.4902054211612]\n",
      "[\u001b[1m\u001b[90mBfxWebsocket\u001b[0m\u001b[0m] [\u001b[94mINFO\u001b[0m] Balance update: [208.6227670892722, 208.6227670892722]\n",
      "[\u001b[1m\u001b[90mBfxWebsocket\u001b[0m\u001b[0m] [\u001b[93mWARNING\u001b[0m] Unknown data event: 'foc' [0, 'foc', [591829151, 'fUSD', 1567282166000, 1567282561000, 129.07292506, 129.07292506, 'LIMIT', None, None, 0, 'CANCELED', None, None, None, 0.0006692, 2, 0, 0, None, 0, None]]\n",
      "[\u001b[1m\u001b[90mBfxWebsocket\u001b[0m\u001b[0m] [\u001b[94mINFO\u001b[0m] Wallet update: Wallet <'funding_USD' balance='124.07292606' unsettled='0'>\n",
      "[\u001b[1m\u001b[90mBfxWebsocket\u001b[0m\u001b[0m] [\u001b[94mINFO\u001b[0m] Balance update: [208.65136078179572, 208.65136078179572]\n",
      "[\u001b[1m\u001b[90mBfxWebsocket\u001b[0m\u001b[0m] [\u001b[94mINFO\u001b[0m] Balance update: [208.77573761700768, 208.77573761700768]\n",
      "[\u001b[1m\u001b[90mBfxWebsocket\u001b[0m\u001b[0m] [\u001b[94mINFO\u001b[0m] Balance update: [208.5703228129951, 208.5703228129951]\n",
      "[\u001b[1m\u001b[90mBfxWebsocket\u001b[0m\u001b[0m] [\u001b[94mINFO\u001b[0m] Balance update: [208.61064251025172, 208.61064251025172]\n",
      "[\u001b[1m\u001b[90mBfxWebsocket\u001b[0m\u001b[0m] [\u001b[94mINFO\u001b[0m] Balance update: [208.5864252890517, 208.5864252890517]\n",
      "[\u001b[1m\u001b[90mBfxWebsocket\u001b[0m\u001b[0m] [\u001b[94mINFO\u001b[0m] Balance update: [208.6304554698317, 208.6304554698317]\n",
      "[\u001b[1m\u001b[90mBfxWebsocket\u001b[0m\u001b[0m] [\u001b[94mINFO\u001b[0m] Balance update: [208.55592559293171, 208.55592559293171]\n",
      "[\u001b[1m\u001b[90mBfxWebsocket\u001b[0m\u001b[0m] [\u001b[94mINFO\u001b[0m] Balance update: [208.57418138509172, 208.57418138509172]\n",
      "[\u001b[1m\u001b[90mBfxWebsocket\u001b[0m\u001b[0m] [\u001b[94mINFO\u001b[0m] Balance update: [208.5736322513317, 208.5736322513317]\n",
      "[\u001b[1m\u001b[90mBfxWebsocket\u001b[0m\u001b[0m] [\u001b[94mINFO\u001b[0m] Balance update: [208.5114159635277, 208.5114159635277]\n",
      "[\u001b[1m\u001b[90mBfxWebsocket\u001b[0m\u001b[0m] [\u001b[94mINFO\u001b[0m] Balance update: [208.4502504936763, 208.4502504936763]\n",
      "[\u001b[1m\u001b[90mBfxWebsocket\u001b[0m\u001b[0m] [\u001b[94mINFO\u001b[0m] Balance update: [208.23627678072356, 208.23627678072356]\n",
      "[\u001b[1m\u001b[90mBfxWebsocket\u001b[0m\u001b[0m] [\u001b[94mINFO\u001b[0m] Balance update: [208.2099956988702, 208.2099956988702]\n",
      "[\u001b[1m\u001b[90mBfxWebsocket\u001b[0m\u001b[0m] [\u001b[94mINFO\u001b[0m] Balance update: [208.2802607200674, 208.2802607200674]\n",
      "[\u001b[1m\u001b[90mBfxWebsocket\u001b[0m\u001b[0m] [\u001b[94mINFO\u001b[0m] Balance update: [208.24246832953986, 208.24246832953986]\n",
      "[\u001b[1m\u001b[90mBfxWebsocket\u001b[0m\u001b[0m] [\u001b[94mINFO\u001b[0m] Balance update: [208.20675853294847, 208.20675853294847]\n",
      "[\u001b[1m\u001b[90mBfxWebsocket\u001b[0m\u001b[0m] [\u001b[94mINFO\u001b[0m] Balance update: [208.19592256959172, 208.19592256959172]\n",
      "[\u001b[1m\u001b[90mBfxWebsocket\u001b[0m\u001b[0m] [\u001b[94mINFO\u001b[0m] Balance update: [208.2185139033741, 208.2185139033741]\n",
      "[\u001b[1m\u001b[90mBfxWebsocket\u001b[0m\u001b[0m] [\u001b[94mINFO\u001b[0m] Balance update: [208.21866298013705, 208.21866298013705]\n",
      "[\u001b[1m\u001b[90mBfxWebsocket\u001b[0m\u001b[0m] [\u001b[94mINFO\u001b[0m] Balance update: [208.33454721567864, 208.33454721567864]\n",
      "[\u001b[1m\u001b[90mBfxWebsocket\u001b[0m\u001b[0m] [\u001b[94mINFO\u001b[0m] Balance update: [208.3484605866708, 208.3484605866708]\n",
      "[\u001b[1m\u001b[90mBfxWebsocket\u001b[0m\u001b[0m] [\u001b[94mINFO\u001b[0m] Balance update: [208.62302872678353, 208.62302872678353]\n",
      "[\u001b[1m\u001b[90mBfxWebsocket\u001b[0m\u001b[0m] [\u001b[94mINFO\u001b[0m] Balance update: [208.559087299999, 208.559087299999]\n",
      "[\u001b[1m\u001b[90mBfxWebsocket\u001b[0m\u001b[0m] [\u001b[94mINFO\u001b[0m] Balance update: [208.5014363727361, 208.5014363727361]\n",
      "[\u001b[1m\u001b[90mBfxWebsocket\u001b[0m\u001b[0m] [\u001b[94mINFO\u001b[0m] Balance update: [208.54477621808874, 208.54477621808874]\n",
      "[\u001b[1m\u001b[90mBfxWebsocket\u001b[0m\u001b[0m] [\u001b[94mINFO\u001b[0m] Balance update: [208.68579872706684, 208.68579872706684]\n",
      "[\u001b[1m\u001b[90mBfxWebsocket\u001b[0m\u001b[0m] [\u001b[94mINFO\u001b[0m] Balance update: [208.65734600598836, 208.65734600598836]\n",
      "[\u001b[1m\u001b[90mBfxWebsocket\u001b[0m\u001b[0m] [\u001b[94mINFO\u001b[0m] Balance update: [208.7124341047907, 208.7124341047907]\n",
      "[\u001b[1m\u001b[90mBfxWebsocket\u001b[0m\u001b[0m] [\u001b[94mINFO\u001b[0m] Balance update: [208.87322328388734, 208.87322328388734]\n",
      "[\u001b[1m\u001b[90mBfxWebsocket\u001b[0m\u001b[0m] [\u001b[94mINFO\u001b[0m] Balance update: [209.00774144075174, 209.00774144075174]\n",
      "[\u001b[1m\u001b[90mBfxWebsocket\u001b[0m\u001b[0m] [\u001b[94mINFO\u001b[0m] Balance update: [209.16950524490832, 209.16950524490832]\n",
      "[\u001b[1m\u001b[90mBfxWebsocket\u001b[0m\u001b[0m] [\u001b[94mINFO\u001b[0m] Balance update: [209.3395324174068, 209.3395324174068]\n",
      "[\u001b[1m\u001b[90mBfxWebsocket\u001b[0m\u001b[0m] [\u001b[94mINFO\u001b[0m] Balance update: [209.60175429625707, 209.60175429625707]\n",
      "[\u001b[1m\u001b[90mBfxWebsocket\u001b[0m\u001b[0m] [\u001b[94mINFO\u001b[0m] Balance update: [209.55289870450798, 209.55289870450798]\n",
      "[\u001b[1m\u001b[90mBfxWebsocket\u001b[0m\u001b[0m] [\u001b[94mINFO\u001b[0m] Balance update: [209.666070548798, 209.666070548798]\n",
      "[\u001b[1m\u001b[90mBfxWebsocket\u001b[0m\u001b[0m] [\u001b[94mINFO\u001b[0m] Balance update: [209.76785481772797, 209.76785481772797]\n",
      "[\u001b[1m\u001b[90mBfxWebsocket\u001b[0m\u001b[0m] [\u001b[94mINFO\u001b[0m] Balance update: [209.6276577937798, 209.6276577937798]\n",
      "[\u001b[1m\u001b[90mBfxWebsocket\u001b[0m\u001b[0m] [\u001b[94mINFO\u001b[0m] Balance update: [209.9639104084483, 209.9639104084483]\n",
      "[\u001b[1m\u001b[90mBfxWebsocket\u001b[0m\u001b[0m] [\u001b[94mINFO\u001b[0m] Balance update: [210.26427930142074, 210.26427930142074]\n",
      "[\u001b[1m\u001b[90mBfxWebsocket\u001b[0m\u001b[0m] [\u001b[94mINFO\u001b[0m] Balance update: [210.41514654106848, 210.41514654106848]\n",
      "[\u001b[1m\u001b[90mBfxWebsocket\u001b[0m\u001b[0m] [\u001b[94mINFO\u001b[0m] Balance update: [210.36580225892192, 210.36580225892192]\n",
      "[\u001b[1m\u001b[90mBfxWebsocket\u001b[0m\u001b[0m] [\u001b[94mINFO\u001b[0m] Balance update: [210.3530368342785, 210.3530368342785]\n",
      "[\u001b[1m\u001b[90mBfxWebsocket\u001b[0m\u001b[0m] [\u001b[94mINFO\u001b[0m] Balance update: [209.97468517308582, 209.97468517308582]\n",
      "[\u001b[1m\u001b[90mBfxWebsocket\u001b[0m\u001b[0m] [\u001b[94mINFO\u001b[0m] Balance update: [209.93770094497694, 209.93770094497694]\n",
      "[\u001b[1m\u001b[90mBfxWebsocket\u001b[0m\u001b[0m] [\u001b[94mINFO\u001b[0m] Balance update: [209.88102601425868, 209.88102601425868]\n",
      "[\u001b[1m\u001b[90mBfxWebsocket\u001b[0m\u001b[0m] [\u001b[94mINFO\u001b[0m] Balance update: [209.93736265250973, 209.93736265250973]\n",
      "[\u001b[1m\u001b[90mBfxWebsocket\u001b[0m\u001b[0m] [\u001b[94mINFO\u001b[0m] Balance update: [209.81197910198728, 209.81197910198728]\n",
      "[\u001b[1m\u001b[90mBfxWebsocket\u001b[0m\u001b[0m] [\u001b[94mINFO\u001b[0m] Balance update: [209.76650126438628, 209.76650126438628]\n",
      "[\u001b[1m\u001b[90mBfxWebsocket\u001b[0m\u001b[0m] [\u001b[94mINFO\u001b[0m] Balance update: [209.83376592808995, 209.83376592808995]\n"
     ]
    }
   ],
   "source": [
    "await bfx.ws.submit_order('tXRPUSD', price = 0.22, amount = 12 , market_type = Order.Type.EXCHANGE_MARKET,hidden=True)"
   ]
  },
  {
   "cell_type": "code",
   "execution_count": null,
   "metadata": {},
   "outputs": [],
   "source": []
  },
  {
   "cell_type": "code",
   "execution_count": 37,
   "metadata": {},
   "outputs": [],
   "source": [
    "await bfx.ws.cancel_all_orders()"
   ]
  },
  {
   "cell_type": "code",
   "execution_count": null,
   "metadata": {},
   "outputs": [],
   "source": []
  },
  {
   "cell_type": "code",
   "execution_count": null,
   "metadata": {},
   "outputs": [],
   "source": []
  },
  {
   "cell_type": "code",
   "execution_count": null,
   "metadata": {},
   "outputs": [],
   "source": []
  }
 ],
 "metadata": {
  "kernelspec": {
   "display_name": "Python 3",
   "language": "python",
   "name": "python3"
  },
  "language_info": {
   "codemirror_mode": {
    "name": "ipython",
    "version": 3
   },
   "file_extension": ".py",
   "mimetype": "text/x-python",
   "name": "python",
   "nbconvert_exporter": "python",
   "pygments_lexer": "ipython3",
   "version": "3.7.2"
  }
 },
 "nbformat": 4,
 "nbformat_minor": 2
}

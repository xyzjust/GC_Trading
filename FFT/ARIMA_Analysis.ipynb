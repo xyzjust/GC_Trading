{
 "cells": [
  {
   "cell_type": "code",
   "execution_count": 6,
   "metadata": {},
   "outputs": [],
   "source": [
    "from statsmodels.tsa.seasonal import seasonal_decompose"
   ]
  },
  {
   "cell_type": "code",
   "execution_count": null,
   "metadata": {},
   "outputs": [],
   "source": [
    "import cufflinks as cf"
   ]
  },
  {
   "cell_type": "code",
   "execution_count": null,
   "metadata": {},
   "outputs": [],
   "source": []
  },
  {
   "cell_type": "code",
   "execution_count": 7,
   "metadata": {},
   "outputs": [],
   "source": [
    "import os\n",
    "os.environ[\"PATH\"] += os.pathsep + 'C:/Program Files (x86)/Graphviz2.38/bin/'\n",
    "os.environ[\"PATH\"] += os.pathsep + 'D:/LatexPackage/miktex/bin/x64'"
   ]
  },
  {
   "cell_type": "code",
   "execution_count": 8,
   "metadata": {},
   "outputs": [],
   "source": [
    "os.environ[\"PATH\"] += os.pathsep + 'D:/Database/Bitfinex-historical-data-master/Bitfinex-historical-data-master'"
   ]
  },
  {
   "cell_type": "code",
   "execution_count": 9,
   "metadata": {},
   "outputs": [],
   "source": [
    "import warnings\n",
    "warnings.filterwarnings(\"ignore\")\n"
   ]
  },
  {
   "cell_type": "code",
   "execution_count": 10,
   "metadata": {},
   "outputs": [],
   "source": [
    "from sklearn.datasets import load_boston"
   ]
  },
  {
   "cell_type": "code",
   "execution_count": 11,
   "metadata": {},
   "outputs": [],
   "source": [
    "import xgboost as xgb\n",
    "from sklearn.metrics import mean_squared_error"
   ]
  },
  {
   "cell_type": "code",
   "execution_count": 12,
   "metadata": {},
   "outputs": [],
   "source": [
    "import numpy as np\n",
    "\n",
    "import matplotlib.pyplot as plt\n",
    "\n",
    "import datetime as dt\n",
    "\n",
    "from datetime import datetime\n",
    "\n",
    "import pandas as pd\n",
    "import urllib.request\n",
    "     \n",
    "\n",
    "from IPython.display import clear_output"
   ]
  },
  {
   "cell_type": "code",
   "execution_count": null,
   "metadata": {},
   "outputs": [],
   "source": []
  },
  {
   "cell_type": "code",
   "execution_count": 13,
   "metadata": {},
   "outputs": [],
   "source": [
    "## Loading BTC and XRP Data"
   ]
  },
  {
   "cell_type": "code",
   "execution_count": 14,
   "metadata": {},
   "outputs": [],
   "source": [
    "header_format = ['timestamp_UTC_millisec',\n",
    "'open_price',\n",
    "'close_price',\n",
    "'highest_price',\n",
    "'lowest_price',\n",
    "'volume']"
   ]
  },
  {
   "cell_type": "code",
   "execution_count": null,
   "metadata": {},
   "outputs": [],
   "source": []
  },
  {
   "cell_type": "code",
   "execution_count": null,
   "metadata": {},
   "outputs": [],
   "source": []
  },
  {
   "cell_type": "code",
   "execution_count": 15,
   "metadata": {},
   "outputs": [],
   "source": [
    "BTC_USD_1min_path = 'D:\\Database\\Bitfinex-historical-data-master_backup\\Bitfinex-historical-data-master\\BTCUSD\\Candles_1m'"
   ]
  },
  {
   "cell_type": "code",
   "execution_count": 16,
   "metadata": {},
   "outputs": [],
   "source": [
    "XRP_USD_1min_path = 'D:\\Database\\Bitfinex-historical-data-master_backup\\Bitfinex-historical-data-master\\XRPUSD\\Candles_1m'"
   ]
  },
  {
   "cell_type": "code",
   "execution_count": null,
   "metadata": {},
   "outputs": [],
   "source": []
  },
  {
   "cell_type": "code",
   "execution_count": null,
   "metadata": {},
   "outputs": [],
   "source": []
  },
  {
   "cell_type": "code",
   "execution_count": 17,
   "metadata": {},
   "outputs": [],
   "source": [
    "BTC_2019 = pd.read_csv(BTC_USD_1min_path + '/2019/merged.csv', header=None ,names =  ['btc_' + d for d in header_format])"
   ]
  },
  {
   "cell_type": "code",
   "execution_count": 18,
   "metadata": {},
   "outputs": [],
   "source": [
    "BTC_2018 = pd.read_csv(BTC_USD_1min_path + '/2018/merged.csv', header=None ,names =  ['btc_' + d for d in header_format])"
   ]
  },
  {
   "cell_type": "code",
   "execution_count": 19,
   "metadata": {},
   "outputs": [],
   "source": [
    "XRP_2018 = pd.read_csv(XRP_USD_1min_path + '/2018/merged.csv', header=None, names = ['xrp_' + d for d in header_format])"
   ]
  },
  {
   "cell_type": "code",
   "execution_count": 20,
   "metadata": {},
   "outputs": [],
   "source": [
    "XRP_2019 = pd.read_csv(XRP_USD_1min_path + '/2019/merged.csv', header=None , names =  ['xrp_' + d for d in header_format])"
   ]
  },
  {
   "cell_type": "code",
   "execution_count": 21,
   "metadata": {},
   "outputs": [],
   "source": [
    "btc_xrp_merged_2019 = BTC_2019.merge(XRP_2019, \n",
    "               left_on = 'btc_timestamp_UTC_millisec', \n",
    "               right_on = 'xrp_timestamp_UTC_millisec', \n",
    "               how = 'outer')"
   ]
  },
  {
   "cell_type": "code",
   "execution_count": 22,
   "metadata": {},
   "outputs": [],
   "source": [
    "btc_xrp_merged_2019['time_stamp_UTC_millisec'] = btc_xrp_merged_2019['xrp_timestamp_UTC_millisec']"
   ]
  },
  {
   "cell_type": "code",
   "execution_count": 23,
   "metadata": {},
   "outputs": [],
   "source": [
    "btc_xrp_merged_2019['time_stamp_UTC_millisec'] = btc_xrp_merged_2019['time_stamp_UTC_millisec'].fillna(btc_xrp_merged_2019['btc_timestamp_UTC_millisec'])"
   ]
  },
  {
   "cell_type": "code",
   "execution_count": 24,
   "metadata": {},
   "outputs": [
    {
     "data": {
      "text/html": [
       "<div>\n",
       "<style scoped>\n",
       "    .dataframe tbody tr th:only-of-type {\n",
       "        vertical-align: middle;\n",
       "    }\n",
       "\n",
       "    .dataframe tbody tr th {\n",
       "        vertical-align: top;\n",
       "    }\n",
       "\n",
       "    .dataframe thead th {\n",
       "        text-align: right;\n",
       "    }\n",
       "</style>\n",
       "<table border=\"1\" class=\"dataframe\">\n",
       "  <thead>\n",
       "    <tr style=\"text-align: right;\">\n",
       "      <th></th>\n",
       "      <th>btc_timestamp_UTC_millisec</th>\n",
       "      <th>btc_open_price</th>\n",
       "      <th>btc_close_price</th>\n",
       "      <th>btc_highest_price</th>\n",
       "      <th>btc_lowest_price</th>\n",
       "      <th>btc_volume</th>\n",
       "      <th>xrp_timestamp_UTC_millisec</th>\n",
       "      <th>xrp_open_price</th>\n",
       "      <th>xrp_close_price</th>\n",
       "      <th>xrp_highest_price</th>\n",
       "      <th>xrp_lowest_price</th>\n",
       "      <th>xrp_volume</th>\n",
       "      <th>time_stamp_UTC_millisec</th>\n",
       "    </tr>\n",
       "  </thead>\n",
       "  <tbody>\n",
       "    <tr>\n",
       "      <th>435091</th>\n",
       "      <td>NaN</td>\n",
       "      <td>NaN</td>\n",
       "      <td>NaN</td>\n",
       "      <td>NaN</td>\n",
       "      <td>NaN</td>\n",
       "      <td>NaN</td>\n",
       "      <td>1.572598e+12</td>\n",
       "      <td>0.29248</td>\n",
       "      <td>0.29254</td>\n",
       "      <td>0.29254</td>\n",
       "      <td>0.29243</td>\n",
       "      <td>35279.507174</td>\n",
       "      <td>1.572598e+12</td>\n",
       "    </tr>\n",
       "    <tr>\n",
       "      <th>435092</th>\n",
       "      <td>NaN</td>\n",
       "      <td>NaN</td>\n",
       "      <td>NaN</td>\n",
       "      <td>NaN</td>\n",
       "      <td>NaN</td>\n",
       "      <td>NaN</td>\n",
       "      <td>1.572601e+12</td>\n",
       "      <td>0.29166</td>\n",
       "      <td>0.29165</td>\n",
       "      <td>0.29166</td>\n",
       "      <td>0.29165</td>\n",
       "      <td>388.265000</td>\n",
       "      <td>1.572601e+12</td>\n",
       "    </tr>\n",
       "    <tr>\n",
       "      <th>435093</th>\n",
       "      <td>NaN</td>\n",
       "      <td>NaN</td>\n",
       "      <td>NaN</td>\n",
       "      <td>NaN</td>\n",
       "      <td>NaN</td>\n",
       "      <td>NaN</td>\n",
       "      <td>1.572601e+12</td>\n",
       "      <td>0.29189</td>\n",
       "      <td>0.29189</td>\n",
       "      <td>0.29189</td>\n",
       "      <td>0.29183</td>\n",
       "      <td>2000.000000</td>\n",
       "      <td>1.572601e+12</td>\n",
       "    </tr>\n",
       "    <tr>\n",
       "      <th>435094</th>\n",
       "      <td>NaN</td>\n",
       "      <td>NaN</td>\n",
       "      <td>NaN</td>\n",
       "      <td>NaN</td>\n",
       "      <td>NaN</td>\n",
       "      <td>NaN</td>\n",
       "      <td>1.572603e+12</td>\n",
       "      <td>0.29201</td>\n",
       "      <td>0.29201</td>\n",
       "      <td>0.29201</td>\n",
       "      <td>0.29201</td>\n",
       "      <td>100.000000</td>\n",
       "      <td>1.572603e+12</td>\n",
       "    </tr>\n",
       "    <tr>\n",
       "      <th>435095</th>\n",
       "      <td>NaN</td>\n",
       "      <td>NaN</td>\n",
       "      <td>NaN</td>\n",
       "      <td>NaN</td>\n",
       "      <td>NaN</td>\n",
       "      <td>NaN</td>\n",
       "      <td>1.572605e+12</td>\n",
       "      <td>0.29211</td>\n",
       "      <td>0.29211</td>\n",
       "      <td>0.29211</td>\n",
       "      <td>0.29211</td>\n",
       "      <td>834.642329</td>\n",
       "      <td>1.572605e+12</td>\n",
       "    </tr>\n",
       "  </tbody>\n",
       "</table>\n",
       "</div>"
      ],
      "text/plain": [
       "        btc_timestamp_UTC_millisec  btc_open_price  btc_close_price  \\\n",
       "435091                         NaN             NaN              NaN   \n",
       "435092                         NaN             NaN              NaN   \n",
       "435093                         NaN             NaN              NaN   \n",
       "435094                         NaN             NaN              NaN   \n",
       "435095                         NaN             NaN              NaN   \n",
       "\n",
       "        btc_highest_price  btc_lowest_price  btc_volume  \\\n",
       "435091                NaN               NaN         NaN   \n",
       "435092                NaN               NaN         NaN   \n",
       "435093                NaN               NaN         NaN   \n",
       "435094                NaN               NaN         NaN   \n",
       "435095                NaN               NaN         NaN   \n",
       "\n",
       "        xrp_timestamp_UTC_millisec  xrp_open_price  xrp_close_price  \\\n",
       "435091                1.572598e+12         0.29248          0.29254   \n",
       "435092                1.572601e+12         0.29166          0.29165   \n",
       "435093                1.572601e+12         0.29189          0.29189   \n",
       "435094                1.572603e+12         0.29201          0.29201   \n",
       "435095                1.572605e+12         0.29211          0.29211   \n",
       "\n",
       "        xrp_highest_price  xrp_lowest_price    xrp_volume  \\\n",
       "435091            0.29254           0.29243  35279.507174   \n",
       "435092            0.29166           0.29165    388.265000   \n",
       "435093            0.29189           0.29183   2000.000000   \n",
       "435094            0.29201           0.29201    100.000000   \n",
       "435095            0.29211           0.29211    834.642329   \n",
       "\n",
       "        time_stamp_UTC_millisec  \n",
       "435091             1.572598e+12  \n",
       "435092             1.572601e+12  \n",
       "435093             1.572601e+12  \n",
       "435094             1.572603e+12  \n",
       "435095             1.572605e+12  "
      ]
     },
     "execution_count": 24,
     "metadata": {},
     "output_type": "execute_result"
    }
   ],
   "source": [
    "btc_xrp_merged_2019.tail()"
   ]
  },
  {
   "cell_type": "code",
   "execution_count": null,
   "metadata": {},
   "outputs": [],
   "source": []
  },
  {
   "cell_type": "code",
   "execution_count": null,
   "metadata": {},
   "outputs": [],
   "source": []
  },
  {
   "cell_type": "markdown",
   "metadata": {},
   "source": [
    "# Starting of analysis"
   ]
  },
  {
   "cell_type": "markdown",
   "metadata": {},
   "source": [
    "### Get 1min XRP data"
   ]
  },
  {
   "cell_type": "code",
   "execution_count": 25,
   "metadata": {},
   "outputs": [],
   "source": [
    "header_format = ['timestamp_UTC_millisec',\n",
    "'open_price',\n",
    "'close_price',\n",
    "'highest_price',\n",
    "'lowest_price',\n",
    "'volume']"
   ]
  },
  {
   "cell_type": "code",
   "execution_count": 26,
   "metadata": {},
   "outputs": [],
   "source": [
    "xrp_2018_full = pd.read_csv(XRP_USD_1min_path + '/2018/merged.csv', header=None)"
   ]
  },
  {
   "cell_type": "code",
   "execution_count": 27,
   "metadata": {},
   "outputs": [],
   "source": [
    "xrp_2019_until_Oct = pd.read_csv(XRP_USD_1min_path + '/2019/merged.csv', header=None)"
   ]
  },
  {
   "cell_type": "code",
   "execution_count": 28,
   "metadata": {},
   "outputs": [],
   "source": [
    "xrp_2018_full.columns = header_format"
   ]
  },
  {
   "cell_type": "code",
   "execution_count": 29,
   "metadata": {},
   "outputs": [],
   "source": [
    "xrp_2019_until_Oct.columns = header_format"
   ]
  },
  {
   "cell_type": "code",
   "execution_count": null,
   "metadata": {},
   "outputs": [],
   "source": []
  },
  {
   "cell_type": "code",
   "execution_count": 30,
   "metadata": {},
   "outputs": [],
   "source": [
    "xrp_2018_onwards = pd.concat([xrp_2018_full, xrp_2019_until_Oct])"
   ]
  },
  {
   "cell_type": "code",
   "execution_count": 31,
   "metadata": {},
   "outputs": [],
   "source": [
    "XRP_Data = xrp_2018_onwards[xrp_2018_onwards['timestamp_UTC_millisec'] >= 1534287600000]"
   ]
  },
  {
   "cell_type": "code",
   "execution_count": 32,
   "metadata": {},
   "outputs": [],
   "source": [
    "XRP_Data['datetime_real'] = XRP_Data['timestamp_UTC_millisec'].apply(lambda x: datetime.utcfromtimestamp(x/1000))"
   ]
  },
  {
   "cell_type": "code",
   "execution_count": 33,
   "metadata": {},
   "outputs": [],
   "source": [
    "XRP_Data['checking_timestamp_UTC_millisec'] = XRP_Data['timestamp_UTC_millisec'].shift(-1)"
   ]
  },
  {
   "cell_type": "code",
   "execution_count": 34,
   "metadata": {},
   "outputs": [],
   "source": [
    "XRP_Data['dif'] = XRP_Data['checking_timestamp_UTC_millisec'] - XRP_Data['timestamp_UTC_millisec']"
   ]
  },
  {
   "cell_type": "code",
   "execution_count": 35,
   "metadata": {},
   "outputs": [],
   "source": [
    "XRP_Data_resample_1min_ffill = XRP_Data.set_index('datetime_real').resample('1T').ffill()"
   ]
  },
  {
   "cell_type": "code",
   "execution_count": 36,
   "metadata": {},
   "outputs": [],
   "source": [
    "XRP_Data_resample_1min_ffill['checking_timestamp_UTC_millisec'] = XRP_Data_resample_1min_ffill['timestamp_UTC_millisec'].shift(-1)"
   ]
  },
  {
   "cell_type": "code",
   "execution_count": 37,
   "metadata": {},
   "outputs": [],
   "source": [
    "XRP_Data_resample_1min_ffill['dif'] = XRP_Data_resample_1min_ffill['checking_timestamp_UTC_millisec'] - XRP_Data_resample_1min_ffill['timestamp_UTC_millisec']"
   ]
  },
  {
   "cell_type": "code",
   "execution_count": 38,
   "metadata": {},
   "outputs": [],
   "source": [
    "XRP_Data_resample_1min_ffill['timestamp_UTC'] = XRP_Data_resample_1min_ffill['timestamp_UTC_millisec']/1000"
   ]
  },
  {
   "cell_type": "code",
   "execution_count": null,
   "metadata": {},
   "outputs": [],
   "source": []
  },
  {
   "cell_type": "code",
   "execution_count": null,
   "metadata": {},
   "outputs": [],
   "source": []
  },
  {
   "cell_type": "code",
   "execution_count": 39,
   "metadata": {},
   "outputs": [
    {
     "data": {
      "text/html": [
       "<div>\n",
       "<style scoped>\n",
       "    .dataframe tbody tr th:only-of-type {\n",
       "        vertical-align: middle;\n",
       "    }\n",
       "\n",
       "    .dataframe tbody tr th {\n",
       "        vertical-align: top;\n",
       "    }\n",
       "\n",
       "    .dataframe thead th {\n",
       "        text-align: right;\n",
       "    }\n",
       "</style>\n",
       "<table border=\"1\" class=\"dataframe\">\n",
       "  <thead>\n",
       "    <tr style=\"text-align: right;\">\n",
       "      <th></th>\n",
       "      <th>timestamp_UTC_millisec</th>\n",
       "      <th>open_price</th>\n",
       "      <th>close_price</th>\n",
       "      <th>highest_price</th>\n",
       "      <th>lowest_price</th>\n",
       "      <th>volume</th>\n",
       "      <th>checking_timestamp_UTC_millisec</th>\n",
       "      <th>dif</th>\n",
       "      <th>timestamp_UTC</th>\n",
       "    </tr>\n",
       "    <tr>\n",
       "      <th>datetime_real</th>\n",
       "      <th></th>\n",
       "      <th></th>\n",
       "      <th></th>\n",
       "      <th></th>\n",
       "      <th></th>\n",
       "      <th></th>\n",
       "      <th></th>\n",
       "      <th></th>\n",
       "      <th></th>\n",
       "    </tr>\n",
       "  </thead>\n",
       "  <tbody>\n",
       "    <tr>\n",
       "      <th>2018-08-14 23:00:00</th>\n",
       "      <td>1534287600000</td>\n",
       "      <td>0.26444</td>\n",
       "      <td>0.26427</td>\n",
       "      <td>0.26448</td>\n",
       "      <td>0.26427</td>\n",
       "      <td>21493.134691</td>\n",
       "      <td>1.534288e+12</td>\n",
       "      <td>60000.0</td>\n",
       "      <td>1.534288e+09</td>\n",
       "    </tr>\n",
       "    <tr>\n",
       "      <th>2018-08-14 23:01:00</th>\n",
       "      <td>1534287660000</td>\n",
       "      <td>0.26410</td>\n",
       "      <td>0.26408</td>\n",
       "      <td>0.26418</td>\n",
       "      <td>0.26408</td>\n",
       "      <td>6316.950507</td>\n",
       "      <td>1.534288e+12</td>\n",
       "      <td>60000.0</td>\n",
       "      <td>1.534288e+09</td>\n",
       "    </tr>\n",
       "    <tr>\n",
       "      <th>2018-08-14 23:02:00</th>\n",
       "      <td>1534287720000</td>\n",
       "      <td>0.26419</td>\n",
       "      <td>0.26429</td>\n",
       "      <td>0.26429</td>\n",
       "      <td>0.26390</td>\n",
       "      <td>15876.859198</td>\n",
       "      <td>1.534288e+12</td>\n",
       "      <td>60000.0</td>\n",
       "      <td>1.534288e+09</td>\n",
       "    </tr>\n",
       "    <tr>\n",
       "      <th>2018-08-14 23:03:00</th>\n",
       "      <td>1534287780000</td>\n",
       "      <td>0.26389</td>\n",
       "      <td>0.26359</td>\n",
       "      <td>0.26389</td>\n",
       "      <td>0.26359</td>\n",
       "      <td>15102.000000</td>\n",
       "      <td>1.534288e+12</td>\n",
       "      <td>60000.0</td>\n",
       "      <td>1.534288e+09</td>\n",
       "    </tr>\n",
       "    <tr>\n",
       "      <th>2018-08-14 23:04:00</th>\n",
       "      <td>1534287840000</td>\n",
       "      <td>0.26368</td>\n",
       "      <td>0.26359</td>\n",
       "      <td>0.26379</td>\n",
       "      <td>0.26359</td>\n",
       "      <td>6305.473357</td>\n",
       "      <td>1.534288e+12</td>\n",
       "      <td>60000.0</td>\n",
       "      <td>1.534288e+09</td>\n",
       "    </tr>\n",
       "  </tbody>\n",
       "</table>\n",
       "</div>"
      ],
      "text/plain": [
       "                     timestamp_UTC_millisec  open_price  close_price  \\\n",
       "datetime_real                                                          \n",
       "2018-08-14 23:00:00           1534287600000     0.26444      0.26427   \n",
       "2018-08-14 23:01:00           1534287660000     0.26410      0.26408   \n",
       "2018-08-14 23:02:00           1534287720000     0.26419      0.26429   \n",
       "2018-08-14 23:03:00           1534287780000     0.26389      0.26359   \n",
       "2018-08-14 23:04:00           1534287840000     0.26368      0.26359   \n",
       "\n",
       "                     highest_price  lowest_price        volume  \\\n",
       "datetime_real                                                    \n",
       "2018-08-14 23:00:00        0.26448       0.26427  21493.134691   \n",
       "2018-08-14 23:01:00        0.26418       0.26408   6316.950507   \n",
       "2018-08-14 23:02:00        0.26429       0.26390  15876.859198   \n",
       "2018-08-14 23:03:00        0.26389       0.26359  15102.000000   \n",
       "2018-08-14 23:04:00        0.26379       0.26359   6305.473357   \n",
       "\n",
       "                     checking_timestamp_UTC_millisec      dif  timestamp_UTC  \n",
       "datetime_real                                                                 \n",
       "2018-08-14 23:00:00                     1.534288e+12  60000.0   1.534288e+09  \n",
       "2018-08-14 23:01:00                     1.534288e+12  60000.0   1.534288e+09  \n",
       "2018-08-14 23:02:00                     1.534288e+12  60000.0   1.534288e+09  \n",
       "2018-08-14 23:03:00                     1.534288e+12  60000.0   1.534288e+09  \n",
       "2018-08-14 23:04:00                     1.534288e+12  60000.0   1.534288e+09  "
      ]
     },
     "execution_count": 39,
     "metadata": {},
     "output_type": "execute_result"
    }
   ],
   "source": [
    "XRP_Data_resample_1min_ffill.head()"
   ]
  },
  {
   "cell_type": "code",
   "execution_count": 51,
   "metadata": {},
   "outputs": [
    {
     "data": {
      "text/html": [
       "<div>\n",
       "<style scoped>\n",
       "    .dataframe tbody tr th:only-of-type {\n",
       "        vertical-align: middle;\n",
       "    }\n",
       "\n",
       "    .dataframe tbody tr th {\n",
       "        vertical-align: top;\n",
       "    }\n",
       "\n",
       "    .dataframe thead th {\n",
       "        text-align: right;\n",
       "    }\n",
       "</style>\n",
       "<table border=\"1\" class=\"dataframe\">\n",
       "  <thead>\n",
       "    <tr style=\"text-align: right;\">\n",
       "      <th></th>\n",
       "      <th>timestamp_UTC_millisec</th>\n",
       "      <th>open_price</th>\n",
       "      <th>close_price</th>\n",
       "      <th>highest_price</th>\n",
       "      <th>lowest_price</th>\n",
       "      <th>volume</th>\n",
       "      <th>checking_timestamp_UTC_millisec</th>\n",
       "      <th>dif</th>\n",
       "      <th>timestamp_UTC</th>\n",
       "    </tr>\n",
       "    <tr>\n",
       "      <th>datetime_real</th>\n",
       "      <th></th>\n",
       "      <th></th>\n",
       "      <th></th>\n",
       "      <th></th>\n",
       "      <th></th>\n",
       "      <th></th>\n",
       "      <th></th>\n",
       "      <th></th>\n",
       "      <th></th>\n",
       "    </tr>\n",
       "  </thead>\n",
       "  <tbody>\n",
       "    <tr>\n",
       "      <th>2019-11-01 15:55:00</th>\n",
       "      <td>1572623700000</td>\n",
       "      <td>0.29083</td>\n",
       "      <td>0.29173</td>\n",
       "      <td>0.29173</td>\n",
       "      <td>0.29083</td>\n",
       "      <td>1570.393827</td>\n",
       "      <td>1.572624e+12</td>\n",
       "      <td>60000.0</td>\n",
       "      <td>1.572624e+09</td>\n",
       "    </tr>\n",
       "    <tr>\n",
       "      <th>2019-11-01 15:56:00</th>\n",
       "      <td>1572623760000</td>\n",
       "      <td>0.29161</td>\n",
       "      <td>0.29150</td>\n",
       "      <td>0.29161</td>\n",
       "      <td>0.29120</td>\n",
       "      <td>4022.034331</td>\n",
       "      <td>1.572624e+12</td>\n",
       "      <td>60000.0</td>\n",
       "      <td>1.572624e+09</td>\n",
       "    </tr>\n",
       "    <tr>\n",
       "      <th>2019-11-01 15:57:00</th>\n",
       "      <td>1572623820000</td>\n",
       "      <td>0.29180</td>\n",
       "      <td>0.29154</td>\n",
       "      <td>0.29207</td>\n",
       "      <td>0.29154</td>\n",
       "      <td>6854.915950</td>\n",
       "      <td>1.572624e+12</td>\n",
       "      <td>60000.0</td>\n",
       "      <td>1.572624e+09</td>\n",
       "    </tr>\n",
       "    <tr>\n",
       "      <th>2019-11-01 15:58:00</th>\n",
       "      <td>1572623880000</td>\n",
       "      <td>0.29139</td>\n",
       "      <td>0.29030</td>\n",
       "      <td>0.29151</td>\n",
       "      <td>0.29030</td>\n",
       "      <td>8296.541362</td>\n",
       "      <td>1.572624e+12</td>\n",
       "      <td>60000.0</td>\n",
       "      <td>1.572624e+09</td>\n",
       "    </tr>\n",
       "    <tr>\n",
       "      <th>2019-11-01 15:59:00</th>\n",
       "      <td>1572623940000</td>\n",
       "      <td>0.29042</td>\n",
       "      <td>0.28860</td>\n",
       "      <td>0.29053</td>\n",
       "      <td>0.28855</td>\n",
       "      <td>210112.952304</td>\n",
       "      <td>NaN</td>\n",
       "      <td>NaN</td>\n",
       "      <td>1.572624e+09</td>\n",
       "    </tr>\n",
       "  </tbody>\n",
       "</table>\n",
       "</div>"
      ],
      "text/plain": [
       "                     timestamp_UTC_millisec  open_price  close_price  \\\n",
       "datetime_real                                                          \n",
       "2019-11-01 15:55:00           1572623700000     0.29083      0.29173   \n",
       "2019-11-01 15:56:00           1572623760000     0.29161      0.29150   \n",
       "2019-11-01 15:57:00           1572623820000     0.29180      0.29154   \n",
       "2019-11-01 15:58:00           1572623880000     0.29139      0.29030   \n",
       "2019-11-01 15:59:00           1572623940000     0.29042      0.28860   \n",
       "\n",
       "                     highest_price  lowest_price         volume  \\\n",
       "datetime_real                                                     \n",
       "2019-11-01 15:55:00        0.29173       0.29083    1570.393827   \n",
       "2019-11-01 15:56:00        0.29161       0.29120    4022.034331   \n",
       "2019-11-01 15:57:00        0.29207       0.29154    6854.915950   \n",
       "2019-11-01 15:58:00        0.29151       0.29030    8296.541362   \n",
       "2019-11-01 15:59:00        0.29053       0.28855  210112.952304   \n",
       "\n",
       "                     checking_timestamp_UTC_millisec      dif  timestamp_UTC  \n",
       "datetime_real                                                                 \n",
       "2019-11-01 15:55:00                     1.572624e+12  60000.0   1.572624e+09  \n",
       "2019-11-01 15:56:00                     1.572624e+12  60000.0   1.572624e+09  \n",
       "2019-11-01 15:57:00                     1.572624e+12  60000.0   1.572624e+09  \n",
       "2019-11-01 15:58:00                     1.572624e+12  60000.0   1.572624e+09  \n",
       "2019-11-01 15:59:00                              NaN      NaN   1.572624e+09  "
      ]
     },
     "execution_count": 51,
     "metadata": {},
     "output_type": "execute_result"
    }
   ],
   "source": [
    "XRP_Data_resample_1min_ffill.tail()"
   ]
  },
  {
   "cell_type": "code",
   "execution_count": 55,
   "metadata": {},
   "outputs": [],
   "source": [
    "data = XRP_Data_resample_1min_ffill[['close_price']]"
   ]
  },
  {
   "cell_type": "code",
   "execution_count": null,
   "metadata": {},
   "outputs": [],
   "source": []
  },
  {
   "cell_type": "code",
   "execution_count": 79,
   "metadata": {},
   "outputs": [],
   "source": [
    "result = seasonal_decompose(data['close_price'].values , model='multiplicative', freq = 600)"
   ]
  },
  {
   "cell_type": "code",
   "execution_count": 81,
   "metadata": {},
   "outputs": [
    {
     "data": {
      "image/png": "[encoded data removed]",
      "text/plain": [
       "<Figure size 432x288 with 4 Axes>"
      ]
     },
     "metadata": {
      "needs_background": "light"
     },
     "output_type": "display_data"
    }
   ],
   "source": [
    "fig = result.plot()\n",
    "fig.show()"
   ]
  },
  {
   "cell_type": "code",
   "execution_count": null,
   "metadata": {},
   "outputs": [],
   "source": []
  },
  {
   "cell_type": "code",
   "execution_count": null,
   "metadata": {},
   "outputs": [],
   "source": []
  },
  {
   "cell_type": "code",
   "execution_count": null,
   "metadata": {},
   "outputs": [],
   "source": []
  }
 ],
 "metadata": {
  "kernelspec": {
   "display_name": "Python 3",
   "language": "python",
   "name": "python3"
  },
  "language_info": {
   "codemirror_mode": {
    "name": "ipython",
    "version": 3
   },
   "file_extension": ".py",
   "mimetype": "text/x-python",
   "name": "python",
   "nbconvert_exporter": "python",
   "pygments_lexer": "ipython3",
   "version": "3.7.2"
  }
 },
 "nbformat": 4,
 "nbformat_minor": 4
}

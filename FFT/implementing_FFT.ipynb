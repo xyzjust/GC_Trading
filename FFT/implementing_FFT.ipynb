{
 "cells": [
  {
   "cell_type": "markdown",
   "metadata": {},
   "source": [
    "### try FFT "
   ]
  },
  {
   "cell_type": "markdown",
   "metadata": {},
   "source": [
    "https://www.datacamp.com/community/tutorials/xgboost-in-python"
   ]
  },
  {
   "cell_type": "code",
   "execution_count": 1,
   "metadata": {},
   "outputs": [],
   "source": [
    "import os\n",
    "os.environ[\"PATH\"] += os.pathsep + 'C:/Program Files (x86)/Graphviz2.38/bin/'\n",
    "os.environ[\"PATH\"] += os.pathsep + 'D:/LatexPackage/miktex/bin/x64'"
   ]
  },
  {
   "cell_type": "code",
   "execution_count": 2,
   "metadata": {},
   "outputs": [],
   "source": [
    "os.environ[\"PATH\"] += os.pathsep + 'D:/Database/Bitfinex-historical-data-master/Bitfinex-historical-data-master'"
   ]
  },
  {
   "cell_type": "code",
   "execution_count": 3,
   "metadata": {},
   "outputs": [],
   "source": [
    "import warnings\n",
    "warnings.filterwarnings(\"ignore\")\n"
   ]
  },
  {
   "cell_type": "code",
   "execution_count": 4,
   "metadata": {},
   "outputs": [],
   "source": [
    "from sklearn.datasets import load_boston"
   ]
  },
  {
   "cell_type": "code",
   "execution_count": 5,
   "metadata": {},
   "outputs": [],
   "source": [
    "import xgboost as xgb\n",
    "from sklearn.metrics import mean_squared_error"
   ]
  },
  {
   "cell_type": "code",
   "execution_count": 6,
   "metadata": {},
   "outputs": [],
   "source": [
    "import numpy as np\n",
    "\n",
    "import matplotlib.pyplot as plt\n",
    "\n",
    "import datetime as dt\n",
    "\n",
    "from datetime import datetime\n",
    "\n",
    "import pandas as pd\n",
    "import urllib.request\n",
    "     \n",
    "\n",
    "from IPython.display import clear_output"
   ]
  },
  {
   "cell_type": "code",
   "execution_count": null,
   "metadata": {},
   "outputs": [],
   "source": []
  },
  {
   "cell_type": "code",
   "execution_count": 7,
   "metadata": {},
   "outputs": [],
   "source": [
    "## Loading BTC and XRP Data"
   ]
  },
  {
   "cell_type": "code",
   "execution_count": 8,
   "metadata": {},
   "outputs": [],
   "source": [
    "header_format = ['timestamp_UTC_millisec',\n",
    "'open_price',\n",
    "'close_price',\n",
    "'highest_price',\n",
    "'lowest_price',\n",
    "'volume']"
   ]
  },
  {
   "cell_type": "code",
   "execution_count": null,
   "metadata": {},
   "outputs": [],
   "source": []
  },
  {
   "cell_type": "code",
   "execution_count": null,
   "metadata": {},
   "outputs": [],
   "source": []
  },
  {
   "cell_type": "code",
   "execution_count": 9,
   "metadata": {},
   "outputs": [],
   "source": [
    "BTC_USD_1min_path = 'D:\\Database\\Bitfinex-historical-data-master_backup\\Bitfinex-historical-data-master\\BTCUSD\\Candles_1m'"
   ]
  },
  {
   "cell_type": "code",
   "execution_count": 12,
   "metadata": {},
   "outputs": [],
   "source": [
    "XRP_USD_1min_path = 'D:\\Database\\Bitfinex-historical-data-master_backup\\Bitfinex-historical-data-master\\XRPUSD\\Candles_1m'"
   ]
  },
  {
   "cell_type": "code",
   "execution_count": null,
   "metadata": {},
   "outputs": [],
   "source": []
  },
  {
   "cell_type": "code",
   "execution_count": null,
   "metadata": {},
   "outputs": [],
   "source": []
  },
  {
   "cell_type": "code",
   "execution_count": 10,
   "metadata": {},
   "outputs": [],
   "source": [
    "BTC_2019 = pd.read_csv(BTC_USD_1min_path + '/2019/merged.csv', header=None ,names =  ['btc_' + d for d in header_format])"
   ]
  },
  {
   "cell_type": "code",
   "execution_count": 11,
   "metadata": {},
   "outputs": [],
   "source": [
    "BTC_2018 = pd.read_csv(BTC_USD_1min_path + '/2018/merged.csv', header=None ,names =  ['btc_' + d for d in header_format])"
   ]
  },
  {
   "cell_type": "code",
   "execution_count": 13,
   "metadata": {},
   "outputs": [],
   "source": [
    "XRP_2018 = pd.read_csv(XRP_USD_1min_path + '/2018/merged.csv', header=None, names = ['xrp_' + d for d in header_format])"
   ]
  },
  {
   "cell_type": "code",
   "execution_count": 14,
   "metadata": {},
   "outputs": [],
   "source": [
    "XRP_2019 = pd.read_csv(XRP_USD_1min_path + '/2019/merged.csv', header=None , names =  ['xrp_' + d for d in header_format])"
   ]
  },
  {
   "cell_type": "code",
   "execution_count": 15,
   "metadata": {},
   "outputs": [],
   "source": [
    "btc_xrp_merged_2019 = BTC_2019.merge(XRP_2019, \n",
    "               left_on = 'btc_timestamp_UTC_millisec', \n",
    "               right_on = 'xrp_timestamp_UTC_millisec', \n",
    "               how = 'outer')"
   ]
  },
  {
   "cell_type": "code",
   "execution_count": 16,
   "metadata": {},
   "outputs": [],
   "source": [
    "btc_xrp_merged_2019['time_stamp_UTC_millisec'] = btc_xrp_merged_2019['xrp_timestamp_UTC_millisec']"
   ]
  },
  {
   "cell_type": "code",
   "execution_count": 17,
   "metadata": {},
   "outputs": [],
   "source": [
    "btc_xrp_merged_2019['time_stamp_UTC_millisec'] = btc_xrp_merged_2019['time_stamp_UTC_millisec'].fillna(btc_xrp_merged_2019['btc_timestamp_UTC_millisec'])"
   ]
  },
  {
   "cell_type": "code",
   "execution_count": 18,
   "metadata": {},
   "outputs": [
    {
     "data": {
      "text/html": [
       "<div>\n",
       "<style scoped>\n",
       "    .dataframe tbody tr th:only-of-type {\n",
       "        vertical-align: middle;\n",
       "    }\n",
       "\n",
       "    .dataframe tbody tr th {\n",
       "        vertical-align: top;\n",
       "    }\n",
       "\n",
       "    .dataframe thead th {\n",
       "        text-align: right;\n",
       "    }\n",
       "</style>\n",
       "<table border=\"1\" class=\"dataframe\">\n",
       "  <thead>\n",
       "    <tr style=\"text-align: right;\">\n",
       "      <th></th>\n",
       "      <th>btc_timestamp_UTC_millisec</th>\n",
       "      <th>btc_open_price</th>\n",
       "      <th>btc_close_price</th>\n",
       "      <th>btc_highest_price</th>\n",
       "      <th>btc_lowest_price</th>\n",
       "      <th>btc_volume</th>\n",
       "      <th>xrp_timestamp_UTC_millisec</th>\n",
       "      <th>xrp_open_price</th>\n",
       "      <th>xrp_close_price</th>\n",
       "      <th>xrp_highest_price</th>\n",
       "      <th>xrp_lowest_price</th>\n",
       "      <th>xrp_volume</th>\n",
       "      <th>time_stamp_UTC_millisec</th>\n",
       "    </tr>\n",
       "  </thead>\n",
       "  <tbody>\n",
       "    <tr>\n",
       "      <th>435091</th>\n",
       "      <td>NaN</td>\n",
       "      <td>NaN</td>\n",
       "      <td>NaN</td>\n",
       "      <td>NaN</td>\n",
       "      <td>NaN</td>\n",
       "      <td>NaN</td>\n",
       "      <td>1.572598e+12</td>\n",
       "      <td>0.29248</td>\n",
       "      <td>0.29254</td>\n",
       "      <td>0.29254</td>\n",
       "      <td>0.29243</td>\n",
       "      <td>35279.507174</td>\n",
       "      <td>1.572598e+12</td>\n",
       "    </tr>\n",
       "    <tr>\n",
       "      <th>435092</th>\n",
       "      <td>NaN</td>\n",
       "      <td>NaN</td>\n",
       "      <td>NaN</td>\n",
       "      <td>NaN</td>\n",
       "      <td>NaN</td>\n",
       "      <td>NaN</td>\n",
       "      <td>1.572601e+12</td>\n",
       "      <td>0.29166</td>\n",
       "      <td>0.29165</td>\n",
       "      <td>0.29166</td>\n",
       "      <td>0.29165</td>\n",
       "      <td>388.265000</td>\n",
       "      <td>1.572601e+12</td>\n",
       "    </tr>\n",
       "    <tr>\n",
       "      <th>435093</th>\n",
       "      <td>NaN</td>\n",
       "      <td>NaN</td>\n",
       "      <td>NaN</td>\n",
       "      <td>NaN</td>\n",
       "      <td>NaN</td>\n",
       "      <td>NaN</td>\n",
       "      <td>1.572601e+12</td>\n",
       "      <td>0.29189</td>\n",
       "      <td>0.29189</td>\n",
       "      <td>0.29189</td>\n",
       "      <td>0.29183</td>\n",
       "      <td>2000.000000</td>\n",
       "      <td>1.572601e+12</td>\n",
       "    </tr>\n",
       "    <tr>\n",
       "      <th>435094</th>\n",
       "      <td>NaN</td>\n",
       "      <td>NaN</td>\n",
       "      <td>NaN</td>\n",
       "      <td>NaN</td>\n",
       "      <td>NaN</td>\n",
       "      <td>NaN</td>\n",
       "      <td>1.572603e+12</td>\n",
       "      <td>0.29201</td>\n",
       "      <td>0.29201</td>\n",
       "      <td>0.29201</td>\n",
       "      <td>0.29201</td>\n",
       "      <td>100.000000</td>\n",
       "      <td>1.572603e+12</td>\n",
       "    </tr>\n",
       "    <tr>\n",
       "      <th>435095</th>\n",
       "      <td>NaN</td>\n",
       "      <td>NaN</td>\n",
       "      <td>NaN</td>\n",
       "      <td>NaN</td>\n",
       "      <td>NaN</td>\n",
       "      <td>NaN</td>\n",
       "      <td>1.572605e+12</td>\n",
       "      <td>0.29211</td>\n",
       "      <td>0.29211</td>\n",
       "      <td>0.29211</td>\n",
       "      <td>0.29211</td>\n",
       "      <td>834.642329</td>\n",
       "      <td>1.572605e+12</td>\n",
       "    </tr>\n",
       "  </tbody>\n",
       "</table>\n",
       "</div>"
      ],
      "text/plain": [
       "        btc_timestamp_UTC_millisec  btc_open_price  btc_close_price  \\\n",
       "435091                         NaN             NaN              NaN   \n",
       "435092                         NaN             NaN              NaN   \n",
       "435093                         NaN             NaN              NaN   \n",
       "435094                         NaN             NaN              NaN   \n",
       "435095                         NaN             NaN              NaN   \n",
       "\n",
       "        btc_highest_price  btc_lowest_price  btc_volume  \\\n",
       "435091                NaN               NaN         NaN   \n",
       "435092                NaN               NaN         NaN   \n",
       "435093                NaN               NaN         NaN   \n",
       "435094                NaN               NaN         NaN   \n",
       "435095                NaN               NaN         NaN   \n",
       "\n",
       "        xrp_timestamp_UTC_millisec  xrp_open_price  xrp_close_price  \\\n",
       "435091                1.572598e+12         0.29248          0.29254   \n",
       "435092                1.572601e+12         0.29166          0.29165   \n",
       "435093                1.572601e+12         0.29189          0.29189   \n",
       "435094                1.572603e+12         0.29201          0.29201   \n",
       "435095                1.572605e+12         0.29211          0.29211   \n",
       "\n",
       "        xrp_highest_price  xrp_lowest_price    xrp_volume  \\\n",
       "435091            0.29254           0.29243  35279.507174   \n",
       "435092            0.29166           0.29165    388.265000   \n",
       "435093            0.29189           0.29183   2000.000000   \n",
       "435094            0.29201           0.29201    100.000000   \n",
       "435095            0.29211           0.29211    834.642329   \n",
       "\n",
       "        time_stamp_UTC_millisec  \n",
       "435091             1.572598e+12  \n",
       "435092             1.572601e+12  \n",
       "435093             1.572601e+12  \n",
       "435094             1.572603e+12  \n",
       "435095             1.572605e+12  "
      ]
     },
     "execution_count": 18,
     "metadata": {},
     "output_type": "execute_result"
    }
   ],
   "source": [
    "btc_xrp_merged_2019.tail()"
   ]
  },
  {
   "cell_type": "code",
   "execution_count": null,
   "metadata": {},
   "outputs": [],
   "source": []
  },
  {
   "cell_type": "code",
   "execution_count": null,
   "metadata": {},
   "outputs": [],
   "source": []
  },
  {
   "cell_type": "markdown",
   "metadata": {},
   "source": [
    "# Starting of analysis"
   ]
  },
  {
   "cell_type": "markdown",
   "metadata": {},
   "source": [
    "### Get 1min XRP data"
   ]
  },
  {
   "cell_type": "code",
   "execution_count": 19,
   "metadata": {},
   "outputs": [],
   "source": [
    "header_format = ['timestamp_UTC_millisec',\n",
    "'open_price',\n",
    "'close_price',\n",
    "'highest_price',\n",
    "'lowest_price',\n",
    "'volume']"
   ]
  },
  {
   "cell_type": "code",
   "execution_count": 20,
   "metadata": {},
   "outputs": [],
   "source": [
    "xrp_2018_full = pd.read_csv(XRP_USD_1min_path + '/2018/merged.csv', header=None)"
   ]
  },
  {
   "cell_type": "code",
   "execution_count": 21,
   "metadata": {},
   "outputs": [],
   "source": [
    "xrp_2019_until_Oct = pd.read_csv(XRP_USD_1min_path + '/2019/merged.csv', header=None)"
   ]
  },
  {
   "cell_type": "code",
   "execution_count": 22,
   "metadata": {},
   "outputs": [],
   "source": [
    "xrp_2018_full.columns = header_format"
   ]
  },
  {
   "cell_type": "code",
   "execution_count": 23,
   "metadata": {},
   "outputs": [],
   "source": [
    "xrp_2019_until_Oct.columns = header_format"
   ]
  },
  {
   "cell_type": "code",
   "execution_count": null,
   "metadata": {},
   "outputs": [],
   "source": []
  },
  {
   "cell_type": "code",
   "execution_count": 24,
   "metadata": {},
   "outputs": [],
   "source": [
    "xrp_2018_onwards = pd.concat([xrp_2018_full, xrp_2019_until_Oct])"
   ]
  },
  {
   "cell_type": "code",
   "execution_count": 25,
   "metadata": {},
   "outputs": [],
   "source": [
    "XRP_Data = xrp_2018_onwards[xrp_2018_onwards['timestamp_UTC_millisec'] >= 1534287600000]"
   ]
  },
  {
   "cell_type": "code",
   "execution_count": 26,
   "metadata": {},
   "outputs": [],
   "source": [
    "XRP_Data['datetime_real'] = XRP_Data['timestamp_UTC_millisec'].apply(lambda x: datetime.utcfromtimestamp(x/1000))"
   ]
  },
  {
   "cell_type": "code",
   "execution_count": 27,
   "metadata": {},
   "outputs": [
    {
     "data": {
      "text/plain": [
       "564561"
      ]
     },
     "execution_count": 27,
     "metadata": {},
     "output_type": "execute_result"
    }
   ],
   "source": [
    "len(XRP_Data)"
   ]
  },
  {
   "cell_type": "code",
   "execution_count": 28,
   "metadata": {},
   "outputs": [
    {
     "data": {
      "text/plain": [
       "Timestamp('2018-08-14 23:00:00')"
      ]
     },
     "execution_count": 28,
     "metadata": {},
     "output_type": "execute_result"
    }
   ],
   "source": [
    "XRP_Data['datetime_real'].min()"
   ]
  },
  {
   "cell_type": "code",
   "execution_count": 29,
   "metadata": {},
   "outputs": [
    {
     "data": {
      "text/plain": [
       "Timestamp('2019-11-01 15:59:00')"
      ]
     },
     "execution_count": 29,
     "metadata": {},
     "output_type": "execute_result"
    }
   ],
   "source": [
    "XRP_Data['datetime_real'].max()"
   ]
  },
  {
   "cell_type": "code",
   "execution_count": 30,
   "metadata": {},
   "outputs": [
    {
     "data": {
      "text/plain": [
       "Timedelta('443 days 16:59:00')"
      ]
     },
     "execution_count": 30,
     "metadata": {},
     "output_type": "execute_result"
    }
   ],
   "source": [
    "(XRP_Data['datetime_real'].max() - XRP_Data['datetime_real'].min())"
   ]
  },
  {
   "cell_type": "code",
   "execution_count": null,
   "metadata": {},
   "outputs": [],
   "source": []
  },
  {
   "cell_type": "code",
   "execution_count": 31,
   "metadata": {},
   "outputs": [],
   "source": [
    "XRP_Data['checking_timestamp_UTC_millisec'] = XRP_Data['timestamp_UTC_millisec'].shift(-1)"
   ]
  },
  {
   "cell_type": "code",
   "execution_count": 32,
   "metadata": {},
   "outputs": [],
   "source": [
    "XRP_Data['dif'] = XRP_Data['checking_timestamp_UTC_millisec'] - XRP_Data['timestamp_UTC_millisec']"
   ]
  },
  {
   "cell_type": "code",
   "execution_count": 33,
   "metadata": {},
   "outputs": [],
   "source": [
    "XRP_Data_resample_1min_ffill = XRP_Data.set_index('datetime_real').resample('1T').ffill()"
   ]
  },
  {
   "cell_type": "code",
   "execution_count": 34,
   "metadata": {},
   "outputs": [],
   "source": [
    "XRP_Data_resample_1min_ffill['checking_timestamp_UTC_millisec'] = XRP_Data_resample_1min_ffill['timestamp_UTC_millisec'].shift(-1)"
   ]
  },
  {
   "cell_type": "code",
   "execution_count": 35,
   "metadata": {},
   "outputs": [],
   "source": [
    "XRP_Data_resample_1min_ffill['dif'] = XRP_Data_resample_1min_ffill['checking_timestamp_UTC_millisec'] - XRP_Data_resample_1min_ffill['timestamp_UTC_millisec']"
   ]
  },
  {
   "cell_type": "code",
   "execution_count": 36,
   "metadata": {},
   "outputs": [],
   "source": [
    "XRP_Data_resample_1min_ffill['timestamp_UTC'] = XRP_Data_resample_1min_ffill['timestamp_UTC_millisec']/1000"
   ]
  },
  {
   "cell_type": "code",
   "execution_count": null,
   "metadata": {},
   "outputs": [],
   "source": []
  },
  {
   "cell_type": "code",
   "execution_count": null,
   "metadata": {},
   "outputs": [],
   "source": []
  },
  {
   "cell_type": "code",
   "execution_count": 37,
   "metadata": {},
   "outputs": [
    {
     "data": {
      "text/html": [
       "<div>\n",
       "<style scoped>\n",
       "    .dataframe tbody tr th:only-of-type {\n",
       "        vertical-align: middle;\n",
       "    }\n",
       "\n",
       "    .dataframe tbody tr th {\n",
       "        vertical-align: top;\n",
       "    }\n",
       "\n",
       "    .dataframe thead th {\n",
       "        text-align: right;\n",
       "    }\n",
       "</style>\n",
       "<table border=\"1\" class=\"dataframe\">\n",
       "  <thead>\n",
       "    <tr style=\"text-align: right;\">\n",
       "      <th></th>\n",
       "      <th>timestamp_UTC_millisec</th>\n",
       "      <th>open_price</th>\n",
       "      <th>close_price</th>\n",
       "      <th>highest_price</th>\n",
       "      <th>lowest_price</th>\n",
       "      <th>volume</th>\n",
       "      <th>checking_timestamp_UTC_millisec</th>\n",
       "      <th>dif</th>\n",
       "      <th>timestamp_UTC</th>\n",
       "    </tr>\n",
       "    <tr>\n",
       "      <th>datetime_real</th>\n",
       "      <th></th>\n",
       "      <th></th>\n",
       "      <th></th>\n",
       "      <th></th>\n",
       "      <th></th>\n",
       "      <th></th>\n",
       "      <th></th>\n",
       "      <th></th>\n",
       "      <th></th>\n",
       "    </tr>\n",
       "  </thead>\n",
       "  <tbody>\n",
       "    <tr>\n",
       "      <th>2018-08-14 23:00:00</th>\n",
       "      <td>1534287600000</td>\n",
       "      <td>0.26444</td>\n",
       "      <td>0.26427</td>\n",
       "      <td>0.26448</td>\n",
       "      <td>0.26427</td>\n",
       "      <td>21493.134691</td>\n",
       "      <td>1.534288e+12</td>\n",
       "      <td>60000.0</td>\n",
       "      <td>1.534288e+09</td>\n",
       "    </tr>\n",
       "    <tr>\n",
       "      <th>2018-08-14 23:01:00</th>\n",
       "      <td>1534287660000</td>\n",
       "      <td>0.26410</td>\n",
       "      <td>0.26408</td>\n",
       "      <td>0.26418</td>\n",
       "      <td>0.26408</td>\n",
       "      <td>6316.950507</td>\n",
       "      <td>1.534288e+12</td>\n",
       "      <td>60000.0</td>\n",
       "      <td>1.534288e+09</td>\n",
       "    </tr>\n",
       "    <tr>\n",
       "      <th>2018-08-14 23:02:00</th>\n",
       "      <td>1534287720000</td>\n",
       "      <td>0.26419</td>\n",
       "      <td>0.26429</td>\n",
       "      <td>0.26429</td>\n",
       "      <td>0.26390</td>\n",
       "      <td>15876.859198</td>\n",
       "      <td>1.534288e+12</td>\n",
       "      <td>60000.0</td>\n",
       "      <td>1.534288e+09</td>\n",
       "    </tr>\n",
       "    <tr>\n",
       "      <th>2018-08-14 23:03:00</th>\n",
       "      <td>1534287780000</td>\n",
       "      <td>0.26389</td>\n",
       "      <td>0.26359</td>\n",
       "      <td>0.26389</td>\n",
       "      <td>0.26359</td>\n",
       "      <td>15102.000000</td>\n",
       "      <td>1.534288e+12</td>\n",
       "      <td>60000.0</td>\n",
       "      <td>1.534288e+09</td>\n",
       "    </tr>\n",
       "    <tr>\n",
       "      <th>2018-08-14 23:04:00</th>\n",
       "      <td>1534287840000</td>\n",
       "      <td>0.26368</td>\n",
       "      <td>0.26359</td>\n",
       "      <td>0.26379</td>\n",
       "      <td>0.26359</td>\n",
       "      <td>6305.473357</td>\n",
       "      <td>1.534288e+12</td>\n",
       "      <td>60000.0</td>\n",
       "      <td>1.534288e+09</td>\n",
       "    </tr>\n",
       "  </tbody>\n",
       "</table>\n",
       "</div>"
      ],
      "text/plain": [
       "                     timestamp_UTC_millisec  open_price  close_price  \\\n",
       "datetime_real                                                          \n",
       "2018-08-14 23:00:00           1534287600000     0.26444      0.26427   \n",
       "2018-08-14 23:01:00           1534287660000     0.26410      0.26408   \n",
       "2018-08-14 23:02:00           1534287720000     0.26419      0.26429   \n",
       "2018-08-14 23:03:00           1534287780000     0.26389      0.26359   \n",
       "2018-08-14 23:04:00           1534287840000     0.26368      0.26359   \n",
       "\n",
       "                     highest_price  lowest_price        volume  \\\n",
       "datetime_real                                                    \n",
       "2018-08-14 23:00:00        0.26448       0.26427  21493.134691   \n",
       "2018-08-14 23:01:00        0.26418       0.26408   6316.950507   \n",
       "2018-08-14 23:02:00        0.26429       0.26390  15876.859198   \n",
       "2018-08-14 23:03:00        0.26389       0.26359  15102.000000   \n",
       "2018-08-14 23:04:00        0.26379       0.26359   6305.473357   \n",
       "\n",
       "                     checking_timestamp_UTC_millisec      dif  timestamp_UTC  \n",
       "datetime_real                                                                 \n",
       "2018-08-14 23:00:00                     1.534288e+12  60000.0   1.534288e+09  \n",
       "2018-08-14 23:01:00                     1.534288e+12  60000.0   1.534288e+09  \n",
       "2018-08-14 23:02:00                     1.534288e+12  60000.0   1.534288e+09  \n",
       "2018-08-14 23:03:00                     1.534288e+12  60000.0   1.534288e+09  \n",
       "2018-08-14 23:04:00                     1.534288e+12  60000.0   1.534288e+09  "
      ]
     },
     "execution_count": 37,
     "metadata": {},
     "output_type": "execute_result"
    }
   ],
   "source": [
    "XRP_Data_resample_1min_ffill.head()"
   ]
  },
  {
   "cell_type": "markdown",
   "metadata": {},
   "source": [
    "#### rough check on data"
   ]
  },
  {
   "cell_type": "code",
   "execution_count": 38,
   "metadata": {},
   "outputs": [
    {
     "data": {
      "text/plain": [
       "<matplotlib.axes._subplots.AxesSubplot at 0x217d3311cf8>"
      ]
     },
     "execution_count": 38,
     "metadata": {},
     "output_type": "execute_result"
    },
    {
     "data": {
      "image/png": "[encoded data removed]",
      "text/plain": [
       "<Figure size 720x360 with 1 Axes>"
      ]
     },
     "metadata": {
      "needs_background": "light"
     },
     "output_type": "display_data"
    }
   ],
   "source": [
    "XRP_Data_resample_1min_ffill[['close_price']].plot(figsize = (10,5))"
   ]
  },
  {
   "cell_type": "code",
   "execution_count": 57,
   "metadata": {},
   "outputs": [
    {
     "data": {
      "text/html": [
       "<div>\n",
       "<style scoped>\n",
       "    .dataframe tbody tr th:only-of-type {\n",
       "        vertical-align: middle;\n",
       "    }\n",
       "\n",
       "    .dataframe tbody tr th {\n",
       "        vertical-align: top;\n",
       "    }\n",
       "\n",
       "    .dataframe thead th {\n",
       "        text-align: right;\n",
       "    }\n",
       "</style>\n",
       "<table border=\"1\" class=\"dataframe\">\n",
       "  <thead>\n",
       "    <tr style=\"text-align: right;\">\n",
       "      <th></th>\n",
       "      <th>timestamp_UTC_millisec</th>\n",
       "      <th>open_price</th>\n",
       "      <th>close_price</th>\n",
       "      <th>highest_price</th>\n",
       "      <th>lowest_price</th>\n",
       "      <th>volume</th>\n",
       "      <th>checking_timestamp_UTC_millisec</th>\n",
       "      <th>dif</th>\n",
       "      <th>timestamp_UTC</th>\n",
       "    </tr>\n",
       "    <tr>\n",
       "      <th>datetime_real</th>\n",
       "      <th></th>\n",
       "      <th></th>\n",
       "      <th></th>\n",
       "      <th></th>\n",
       "      <th></th>\n",
       "      <th></th>\n",
       "      <th></th>\n",
       "      <th></th>\n",
       "      <th></th>\n",
       "    </tr>\n",
       "  </thead>\n",
       "  <tbody>\n",
       "    <tr>\n",
       "      <th>2019-11-01 15:50:00</th>\n",
       "      <td>1572623400000</td>\n",
       "      <td>0.29032</td>\n",
       "      <td>0.29029</td>\n",
       "      <td>0.29032</td>\n",
       "      <td>0.29029</td>\n",
       "      <td>18977.229740</td>\n",
       "      <td>1.572623e+12</td>\n",
       "      <td>60000.0</td>\n",
       "      <td>1.572623e+09</td>\n",
       "    </tr>\n",
       "    <tr>\n",
       "      <th>2019-11-01 15:51:00</th>\n",
       "      <td>1572623460000</td>\n",
       "      <td>0.29034</td>\n",
       "      <td>0.29030</td>\n",
       "      <td>0.29035</td>\n",
       "      <td>0.29030</td>\n",
       "      <td>11583.433064</td>\n",
       "      <td>1.572624e+12</td>\n",
       "      <td>60000.0</td>\n",
       "      <td>1.572623e+09</td>\n",
       "    </tr>\n",
       "    <tr>\n",
       "      <th>2019-11-01 15:52:00</th>\n",
       "      <td>1572623520000</td>\n",
       "      <td>0.29070</td>\n",
       "      <td>0.29046</td>\n",
       "      <td>0.29071</td>\n",
       "      <td>0.29046</td>\n",
       "      <td>205.000000</td>\n",
       "      <td>1.572624e+12</td>\n",
       "      <td>60000.0</td>\n",
       "      <td>1.572624e+09</td>\n",
       "    </tr>\n",
       "    <tr>\n",
       "      <th>2019-11-01 15:53:00</th>\n",
       "      <td>1572623580000</td>\n",
       "      <td>0.29058</td>\n",
       "      <td>0.29077</td>\n",
       "      <td>0.29077</td>\n",
       "      <td>0.29046</td>\n",
       "      <td>20164.038042</td>\n",
       "      <td>1.572624e+12</td>\n",
       "      <td>0.0</td>\n",
       "      <td>1.572624e+09</td>\n",
       "    </tr>\n",
       "    <tr>\n",
       "      <th>2019-11-01 15:54:00</th>\n",
       "      <td>1572623580000</td>\n",
       "      <td>0.29058</td>\n",
       "      <td>0.29077</td>\n",
       "      <td>0.29077</td>\n",
       "      <td>0.29046</td>\n",
       "      <td>20164.038042</td>\n",
       "      <td>1.572624e+12</td>\n",
       "      <td>120000.0</td>\n",
       "      <td>1.572624e+09</td>\n",
       "    </tr>\n",
       "    <tr>\n",
       "      <th>2019-11-01 15:55:00</th>\n",
       "      <td>1572623700000</td>\n",
       "      <td>0.29083</td>\n",
       "      <td>0.29173</td>\n",
       "      <td>0.29173</td>\n",
       "      <td>0.29083</td>\n",
       "      <td>1570.393827</td>\n",
       "      <td>1.572624e+12</td>\n",
       "      <td>60000.0</td>\n",
       "      <td>1.572624e+09</td>\n",
       "    </tr>\n",
       "    <tr>\n",
       "      <th>2019-11-01 15:56:00</th>\n",
       "      <td>1572623760000</td>\n",
       "      <td>0.29161</td>\n",
       "      <td>0.29150</td>\n",
       "      <td>0.29161</td>\n",
       "      <td>0.29120</td>\n",
       "      <td>4022.034331</td>\n",
       "      <td>1.572624e+12</td>\n",
       "      <td>60000.0</td>\n",
       "      <td>1.572624e+09</td>\n",
       "    </tr>\n",
       "    <tr>\n",
       "      <th>2019-11-01 15:57:00</th>\n",
       "      <td>1572623820000</td>\n",
       "      <td>0.29180</td>\n",
       "      <td>0.29154</td>\n",
       "      <td>0.29207</td>\n",
       "      <td>0.29154</td>\n",
       "      <td>6854.915950</td>\n",
       "      <td>1.572624e+12</td>\n",
       "      <td>60000.0</td>\n",
       "      <td>1.572624e+09</td>\n",
       "    </tr>\n",
       "    <tr>\n",
       "      <th>2019-11-01 15:58:00</th>\n",
       "      <td>1572623880000</td>\n",
       "      <td>0.29139</td>\n",
       "      <td>0.29030</td>\n",
       "      <td>0.29151</td>\n",
       "      <td>0.29030</td>\n",
       "      <td>8296.541362</td>\n",
       "      <td>1.572624e+12</td>\n",
       "      <td>60000.0</td>\n",
       "      <td>1.572624e+09</td>\n",
       "    </tr>\n",
       "    <tr>\n",
       "      <th>2019-11-01 15:59:00</th>\n",
       "      <td>1572623940000</td>\n",
       "      <td>0.29042</td>\n",
       "      <td>0.28860</td>\n",
       "      <td>0.29053</td>\n",
       "      <td>0.28855</td>\n",
       "      <td>210112.952304</td>\n",
       "      <td>NaN</td>\n",
       "      <td>NaN</td>\n",
       "      <td>1.572624e+09</td>\n",
       "    </tr>\n",
       "  </tbody>\n",
       "</table>\n",
       "</div>"
      ],
      "text/plain": [
       "                     timestamp_UTC_millisec  open_price  close_price  \\\n",
       "datetime_real                                                          \n",
       "2019-11-01 15:50:00           1572623400000     0.29032      0.29029   \n",
       "2019-11-01 15:51:00           1572623460000     0.29034      0.29030   \n",
       "2019-11-01 15:52:00           1572623520000     0.29070      0.29046   \n",
       "2019-11-01 15:53:00           1572623580000     0.29058      0.29077   \n",
       "2019-11-01 15:54:00           1572623580000     0.29058      0.29077   \n",
       "2019-11-01 15:55:00           1572623700000     0.29083      0.29173   \n",
       "2019-11-01 15:56:00           1572623760000     0.29161      0.29150   \n",
       "2019-11-01 15:57:00           1572623820000     0.29180      0.29154   \n",
       "2019-11-01 15:58:00           1572623880000     0.29139      0.29030   \n",
       "2019-11-01 15:59:00           1572623940000     0.29042      0.28860   \n",
       "\n",
       "                     highest_price  lowest_price         volume  \\\n",
       "datetime_real                                                     \n",
       "2019-11-01 15:50:00        0.29032       0.29029   18977.229740   \n",
       "2019-11-01 15:51:00        0.29035       0.29030   11583.433064   \n",
       "2019-11-01 15:52:00        0.29071       0.29046     205.000000   \n",
       "2019-11-01 15:53:00        0.29077       0.29046   20164.038042   \n",
       "2019-11-01 15:54:00        0.29077       0.29046   20164.038042   \n",
       "2019-11-01 15:55:00        0.29173       0.29083    1570.393827   \n",
       "2019-11-01 15:56:00        0.29161       0.29120    4022.034331   \n",
       "2019-11-01 15:57:00        0.29207       0.29154    6854.915950   \n",
       "2019-11-01 15:58:00        0.29151       0.29030    8296.541362   \n",
       "2019-11-01 15:59:00        0.29053       0.28855  210112.952304   \n",
       "\n",
       "                     checking_timestamp_UTC_millisec       dif  timestamp_UTC  \n",
       "datetime_real                                                                  \n",
       "2019-11-01 15:50:00                     1.572623e+12   60000.0   1.572623e+09  \n",
       "2019-11-01 15:51:00                     1.572624e+12   60000.0   1.572623e+09  \n",
       "2019-11-01 15:52:00                     1.572624e+12   60000.0   1.572624e+09  \n",
       "2019-11-01 15:53:00                     1.572624e+12       0.0   1.572624e+09  \n",
       "2019-11-01 15:54:00                     1.572624e+12  120000.0   1.572624e+09  \n",
       "2019-11-01 15:55:00                     1.572624e+12   60000.0   1.572624e+09  \n",
       "2019-11-01 15:56:00                     1.572624e+12   60000.0   1.572624e+09  \n",
       "2019-11-01 15:57:00                     1.572624e+12   60000.0   1.572624e+09  \n",
       "2019-11-01 15:58:00                     1.572624e+12   60000.0   1.572624e+09  \n",
       "2019-11-01 15:59:00                              NaN       NaN   1.572624e+09  "
      ]
     },
     "execution_count": 57,
     "metadata": {},
     "output_type": "execute_result"
    }
   ],
   "source": [
    "XRP_Data_resample_1min_ffill.tail(10)"
   ]
  },
  {
   "cell_type": "code",
   "execution_count": 39,
   "metadata": {},
   "outputs": [
    {
     "name": "stdout",
     "output_type": "stream",
     "text": [
      "\n",
      " selecting '2018-08-15 00:00:00' as the starting time as it bypasses the past crypto rush\n"
     ]
    },
    {
     "data": {
      "image/png": "[encoded data removed]",
      "text/plain": [
       "<Figure size 1512x504 with 1 Axes>"
      ]
     },
     "metadata": {
      "needs_background": "light"
     },
     "output_type": "display_data"
    }
   ],
   "source": [
    "ploting_breakdown = XRP_Data_resample_1min_ffill.reset_index()\n",
    "\n",
    "plt.figure(figsize= (21,7))\n",
    "\n",
    "\n",
    "# tran_y_low = ploting_breakdown['low']\n",
    "# tran_y_high = ploting_breakdown['high']\n",
    "tran_y_close = ploting_breakdown['close_price']\n",
    "\n",
    "tran_x = ploting_breakdown['timestamp_UTC_millisec']\n",
    "\n",
    "\n",
    "# plt.plot(tran_x, tran_y_low, alpha = 0.1)\n",
    "# plt.plot(tran_x, tran_y_high , alpha  = 0.1)\n",
    "\n",
    "plt.plot(tran_x, tran_y_close, alpha  = 1)\n",
    "\n",
    "\n",
    "# start = 45000\n",
    "# dealta_t = 10000\n",
    "time_section = {45000 : 13000,\n",
    "                63000 : 8000 ,\n",
    "                71000 : 10000,\n",
    "                180000: 10000}  # start // delta_t\n",
    "\n",
    "\n",
    "\n",
    "# plt.vlines(1534287600000, 0, 1, alpha = 1, color = 'g',linestyle = 'dashed')\n",
    "    \n",
    "plt.legend()\n",
    "plt.grid()\n",
    "print(\"\\n selecting '2018-08-15 00:00:00' as the starting time as it bypasses the past crypto rush\")"
   ]
  },
  {
   "cell_type": "code",
   "execution_count": null,
   "metadata": {},
   "outputs": [],
   "source": []
  },
  {
   "cell_type": "code",
   "execution_count": null,
   "metadata": {},
   "outputs": [],
   "source": []
  },
  {
   "cell_type": "code",
   "execution_count": 59,
   "metadata": {},
   "outputs": [
    {
     "data": {
      "text/html": [
       "<div>\n",
       "<style scoped>\n",
       "    .dataframe tbody tr th:only-of-type {\n",
       "        vertical-align: middle;\n",
       "    }\n",
       "\n",
       "    .dataframe tbody tr th {\n",
       "        vertical-align: top;\n",
       "    }\n",
       "\n",
       "    .dataframe thead th {\n",
       "        text-align: right;\n",
       "    }\n",
       "</style>\n",
       "<table border=\"1\" class=\"dataframe\">\n",
       "  <thead>\n",
       "    <tr style=\"text-align: right;\">\n",
       "      <th></th>\n",
       "      <th>datetime_real</th>\n",
       "      <th>timestamp_UTC_millisec</th>\n",
       "      <th>open_price</th>\n",
       "      <th>close_price</th>\n",
       "      <th>highest_price</th>\n",
       "      <th>lowest_price</th>\n",
       "      <th>volume</th>\n",
       "      <th>checking_timestamp_UTC_millisec</th>\n",
       "      <th>dif</th>\n",
       "      <th>timestamp_UTC</th>\n",
       "    </tr>\n",
       "  </thead>\n",
       "  <tbody>\n",
       "    <tr>\n",
       "      <th>60</th>\n",
       "      <td>2018-08-15</td>\n",
       "      <td>1534291200000</td>\n",
       "      <td>0.27279</td>\n",
       "      <td>0.2734</td>\n",
       "      <td>0.27349</td>\n",
       "      <td>0.27279</td>\n",
       "      <td>17252.63782</td>\n",
       "      <td>1.534291e+12</td>\n",
       "      <td>60000.0</td>\n",
       "      <td>1.534291e+09</td>\n",
       "    </tr>\n",
       "  </tbody>\n",
       "</table>\n",
       "</div>"
      ],
      "text/plain": [
       "   datetime_real  timestamp_UTC_millisec  open_price  close_price  \\\n",
       "60    2018-08-15           1534291200000     0.27279       0.2734   \n",
       "\n",
       "    highest_price  lowest_price       volume  checking_timestamp_UTC_millisec  \\\n",
       "60        0.27349       0.27279  17252.63782                     1.534291e+12   \n",
       "\n",
       "        dif  timestamp_UTC  \n",
       "60  60000.0   1.534291e+09  "
      ]
     },
     "execution_count": 59,
     "metadata": {},
     "output_type": "execute_result"
    }
   ],
   "source": [
    "ploting_breakdown[ploting_breakdown['datetime_real'] == '2018-08-15 00:00:00']"
   ]
  },
  {
   "cell_type": "code",
   "execution_count": 60,
   "metadata": {},
   "outputs": [
    {
     "data": {
      "text/html": [
       "<div>\n",
       "<style scoped>\n",
       "    .dataframe tbody tr th:only-of-type {\n",
       "        vertical-align: middle;\n",
       "    }\n",
       "\n",
       "    .dataframe tbody tr th {\n",
       "        vertical-align: top;\n",
       "    }\n",
       "\n",
       "    .dataframe thead th {\n",
       "        text-align: right;\n",
       "    }\n",
       "</style>\n",
       "<table border=\"1\" class=\"dataframe\">\n",
       "  <thead>\n",
       "    <tr style=\"text-align: right;\">\n",
       "      <th></th>\n",
       "      <th>datetime_real</th>\n",
       "      <th>timestamp_UTC_millisec</th>\n",
       "      <th>open_price</th>\n",
       "      <th>close_price</th>\n",
       "      <th>highest_price</th>\n",
       "      <th>lowest_price</th>\n",
       "      <th>volume</th>\n",
       "      <th>checking_timestamp_UTC_millisec</th>\n",
       "      <th>dif</th>\n",
       "      <th>timestamp_UTC</th>\n",
       "    </tr>\n",
       "  </thead>\n",
       "  <tbody>\n",
       "    <tr>\n",
       "      <th>525660</th>\n",
       "      <td>2019-08-15</td>\n",
       "      <td>1565827200000</td>\n",
       "      <td>0.26373</td>\n",
       "      <td>0.26559</td>\n",
       "      <td>0.26559</td>\n",
       "      <td>0.26363</td>\n",
       "      <td>166192.961293</td>\n",
       "      <td>1.565827e+12</td>\n",
       "      <td>60000.0</td>\n",
       "      <td>1.565827e+09</td>\n",
       "    </tr>\n",
       "  </tbody>\n",
       "</table>\n",
       "</div>"
      ],
      "text/plain": [
       "       datetime_real  timestamp_UTC_millisec  open_price  close_price  \\\n",
       "525660    2019-08-15           1565827200000     0.26373      0.26559   \n",
       "\n",
       "        highest_price  lowest_price         volume  \\\n",
       "525660        0.26559       0.26363  166192.961293   \n",
       "\n",
       "        checking_timestamp_UTC_millisec      dif  timestamp_UTC  \n",
       "525660                     1.565827e+12  60000.0   1.565827e+09  "
      ]
     },
     "execution_count": 60,
     "metadata": {},
     "output_type": "execute_result"
    }
   ],
   "source": [
    "ploting_breakdown[ploting_breakdown['datetime_real'] == '2019-08-15 00:00:00']"
   ]
  },
  {
   "cell_type": "code",
   "execution_count": null,
   "metadata": {},
   "outputs": [],
   "source": []
  },
  {
   "cell_type": "code",
   "execution_count": null,
   "metadata": {},
   "outputs": [],
   "source": []
  },
  {
   "cell_type": "markdown",
   "metadata": {},
   "source": [
    "## Saving Data "
   ]
  },
  {
   "cell_type": "code",
   "execution_count": 63,
   "metadata": {},
   "outputs": [],
   "source": [
    "# XRP_Data_backUp = XRP_Data_resample_1min_ffill.copy()"
   ]
  },
  {
   "cell_type": "markdown",
   "metadata": {},
   "source": [
    "## Copy for testing"
   ]
  },
  {
   "cell_type": "raw",
   "metadata": {},
   "source": [
    "here we have a double test, where:\n",
    "    - XRP_for_training : is used as a main source of data for training as well as testing\n",
    "    - XRP_for_testing  : is used as a form of real time blind test"
   ]
  },
  {
   "cell_type": "code",
   "execution_count": 64,
   "metadata": {},
   "outputs": [],
   "source": [
    "XRP_for_training =XRP_Data_resample_1min_ffill[(XRP_Data_resample_1min_ffill['timestamp_UTC'] >= 1534287600) &\n",
    "                           (XRP_Data_resample_1min_ffill['timestamp_UTC'] <1565823600)].reset_index().copy()"
   ]
  },
  {
   "cell_type": "code",
   "execution_count": 65,
   "metadata": {},
   "outputs": [],
   "source": [
    "XRP_for_testing =XRP_Data_resample_1min_ffill[(XRP_Data_resample_1min_ffill['timestamp_UTC'] >= 1565823600)].reset_index().copy()"
   ]
  }
 ],
 "metadata": {
  "kernelspec": {
   "display_name": "Python 3",
   "language": "python",
   "name": "python3"
  },
  "language_info": {
   "codemirror_mode": {
    "name": "ipython",
    "version": 3
   },
   "file_extension": ".py",
   "mimetype": "text/x-python",
   "name": "python",
   "nbconvert_exporter": "python",
   "pygments_lexer": "ipython3",
   "version": "3.7.2"
  }
 },
 "nbformat": 4,
 "nbformat_minor": 4
}

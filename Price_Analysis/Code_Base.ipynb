{
 "cells": [
  {
   "cell_type": "code",
   "execution_count": null,
   "metadata": {},
   "outputs": [],
   "source": [
    "def percent_change(percent,date_of_event, value_compare_to, direction, data_supplied ):\n",
    "    \n",
    "    \n",
    "    XRP_Data = data_supplied\n",
    "    \n",
    "    \"next time it was increased by {0}%\".format(percent)\n",
    "    #print(date_of_event)\n",
    "    if direction.lower() == 'increase':\n",
    "        change = value_compare_to* (1+ percent*0.01)\n",
    "        \n",
    "        if len(XRP_Data[(XRP_Data['date'] > date_of_event) & (XRP_Data['high'] >= change) ]) == 0:\n",
    "            return 3456789123\n",
    "        else:\n",
    "            return XRP_Data[(XRP_Data['date'] > date_of_event) & (XRP_Data['high'] >= change) ].iloc[[0]]['date'].values[0]\n",
    "    \n",
    "    else:\n",
    "        change = value_compare_to* (1- percent*0.01)\n",
    "        \n",
    "        if len(XRP_Data[(XRP_Data['date'] > date_of_event) & (XRP_Data['low'] <= change) ]) == 0:\n",
    "            return 3456789123\n",
    "        else:\n",
    "            return XRP_Data[(XRP_Data['date'] > date_of_event) & (XRP_Data['low'] <= change) ].iloc[[0]]['date'].values[0]"
   ]
  }
 ],
 "metadata": {
  "kernelspec": {
   "display_name": "Python 3",
   "language": "python",
   "name": "python3"
  },
  "language_info": {
   "codemirror_mode": {
    "name": "ipython",
    "version": 3
   },
   "file_extension": ".py",
   "mimetype": "text/x-python",
   "name": "python",
   "nbconvert_exporter": "python",
   "pygments_lexer": "ipython3",
   "version": "3.7.2"
  }
 },
 "nbformat": 4,
 "nbformat_minor": 2
}

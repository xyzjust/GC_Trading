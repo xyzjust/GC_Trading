{
 "cells": [
  {
   "cell_type": "code",
   "execution_count": 2,
   "metadata": {},
   "outputs": [],
   "source": [
    "import pandas as pd"
   ]
  },
  {
   "cell_type": "code",
   "execution_count": 3,
   "metadata": {},
   "outputs": [],
   "source": [
    "import numpy as np"
   ]
  },
  {
   "cell_type": "code",
   "execution_count": 4,
   "metadata": {},
   "outputs": [],
   "source": [
    "import datetime as dt"
   ]
  },
  {
   "cell_type": "code",
   "execution_count": 5,
   "metadata": {},
   "outputs": [],
   "source": [
    "from collections import Counter"
   ]
  },
  {
   "cell_type": "code",
   "execution_count": 6,
   "metadata": {},
   "outputs": [],
   "source": [
    "import matplotlib.pyplot as plt"
   ]
  },
  {
   "cell_type": "markdown",
   "metadata": {},
   "source": [
    "### Import Data"
   ]
  },
  {
   "cell_type": "code",
   "execution_count": 8,
   "metadata": {},
   "outputs": [],
   "source": [
    "XRP_Increase = pd.read_csv('../XRP_5min_Decrease_SmallAmount_5min.csv')"
   ]
  },
  {
   "cell_type": "code",
   "execution_count": 7,
   "metadata": {},
   "outputs": [],
   "source": [
    "original_columns = ['datetime_real','date','close','high','low','open','quoteVolume','volume','weightedAverage']"
   ]
  },
  {
   "cell_type": "code",
   "execution_count": null,
   "metadata": {},
   "outputs": [],
   "source": [
    "XRP_Increase.head()"
   ]
  },
  {
   "cell_type": "code",
   "execution_count": 9,
   "metadata": {},
   "outputs": [
    {
     "data": {
      "text/plain": [
       "array([0.1, 0.2, 0.3, 0.4, 0.5, 0.6])"
      ]
     },
     "execution_count": 9,
     "metadata": {},
     "output_type": "execute_result"
    }
   ],
   "source": [
    "np.array( [1,2,3,4,5,6])*0.1"
   ]
  },
  {
   "cell_type": "code",
   "execution_count": 10,
   "metadata": {},
   "outputs": [],
   "source": [
    "for n in np.array( [1,2,3,4,5,6,8,10])*0.1:\n",
    "    XRP_Increase['shift_open_{}'.format(n)] = XRP_Increase['Increase_{}_percent'.format(n)].shift(1)"
   ]
  },
  {
   "cell_type": "markdown",
   "metadata": {},
   "source": [
    "for 0.6% incraese:\n",
    "\n",
    "how many continous increase are there?"
   ]
  },
  {
   "cell_type": "code",
   "execution_count": 11,
   "metadata": {},
   "outputs": [],
   "source": [
    "XRP_Increase['diff_0.6'] = XRP_Increase['shift_open_0.6000000000000001'] - XRP_Increase['Increase_0.6000000000000001_percent']"
   ]
  },
  {
   "cell_type": "code",
   "execution_count": 12,
   "metadata": {},
   "outputs": [
    {
     "data": {
      "text/plain": [
       "[nan, 0.0, 29763000.0]"
      ]
     },
     "execution_count": 12,
     "metadata": {},
     "output_type": "execute_result"
    }
   ],
   "source": [
    "list(Counter(XRP_Increase['diff_0.6']).keys())[:3]"
   ]
  },
  {
   "cell_type": "code",
   "execution_count": 13,
   "metadata": {},
   "outputs": [],
   "source": [
    "#(XRP_Increase[XRP_Increase['diff_0.6'] != 0]['diff_0.6'].value_counts())/(len(XRP_Increase))"
   ]
  },
  {
   "cell_type": "code",
   "execution_count": 14,
   "metadata": {},
   "outputs": [
    {
     "data": {
      "text/plain": [
       "-3.000000e+02    49080\n",
       " 3.000000e+02     8216\n",
       "-6.000000e+02     6844\n",
       "-9.000000e+02     4038\n",
       " 6.000000e+02     3682\n",
       "-1.200000e+03     2771\n",
       " 9.000000e+02     2549\n",
       "-1.500000e+03     2219\n",
       " 1.200000e+03     1888\n",
       "-1.800000e+03     1704\n",
       " 1.500000e+03     1526\n",
       "-2.100000e+03     1428\n",
       " 1.800000e+03     1278\n",
       "-2.400000e+03     1139\n",
       " 2.100000e+03     1039\n",
       "-2.700000e+03      991\n",
       " 2.400000e+03      908\n",
       "-3.000000e+03      887\n",
       "-3.300000e+03      798\n",
       " 2.700000e+03      780\n",
       " 3.300000e+03      722\n",
       " 3.000000e+03      722\n",
       "-3.600000e+03      701\n",
       "-3.900000e+03      639\n",
       "-4.200000e+03      615\n",
       " 3.600000e+03      563\n",
       " 3.900000e+03      550\n",
       "-4.500000e+03      544\n",
       " 4.200000e+03      514\n",
       " 4.500000e+03      482\n",
       "                 ...  \n",
       " 1.914661e+09        1\n",
       "-4.014900e+06        1\n",
       "-2.545200e+06        1\n",
       " 1.043100e+07        1\n",
       "-1.894923e+09        1\n",
       "-2.608500e+06        1\n",
       " 1.914678e+09        1\n",
       " 2.608800e+06        1\n",
       " 1.043550e+07        1\n",
       " 4.014300e+06        1\n",
       " 2.609100e+06        1\n",
       " 2.606400e+06        1\n",
       "-6.714000e+05        1\n",
       " 3.015000e+05        1\n",
       "-1.003800e+06        1\n",
       " 3.652200e+06        1\n",
       "-1.894837e+09        1\n",
       "-3.246000e+05        1\n",
       "-1.894833e+09        1\n",
       "-5.340000e+05        1\n",
       "-1.894830e+09        1\n",
       " 7.995000e+05        1\n",
       " 2.606100e+06        1\n",
       " 1.041810e+07        1\n",
       "-1.302300e+06        1\n",
       "-1.302600e+06        1\n",
       " 9.135000e+05        1\n",
       " 2.605800e+06        1\n",
       "-1.178400e+06        1\n",
       "-5.244000e+05        1\n",
       "Name: diff_0.6, Length: 7017, dtype: int64"
      ]
     },
     "execution_count": 14,
     "metadata": {},
     "output_type": "execute_result"
    }
   ],
   "source": [
    "XRP_Increase[XRP_Increase['diff_0.6'] != 0]['diff_0.6'].value_counts()#.plot()"
   ]
  },
  {
   "cell_type": "code",
   "execution_count": 15,
   "metadata": {},
   "outputs": [],
   "source": [
    "n = 6*0.1"
   ]
  },
  {
   "cell_type": "code",
   "execution_count": null,
   "metadata": {},
   "outputs": [],
   "source": []
  },
  {
   "cell_type": "markdown",
   "metadata": {},
   "source": [
    "## Adjust for waiting"
   ]
  },
  {
   "cell_type": "code",
   "execution_count": 16,
   "metadata": {},
   "outputs": [],
   "source": [
    "XRP_Analysis_table = XRP_Increase"
   ]
  },
  {
   "cell_type": "code",
   "execution_count": 17,
   "metadata": {},
   "outputs": [],
   "source": [
    "XRP_Analysis_table['2H_RA_on_Close'] = XRP_Analysis_table['close'].rolling(2*2).mean().shift(1)"
   ]
  },
  {
   "cell_type": "code",
   "execution_count": 18,
   "metadata": {},
   "outputs": [],
   "source": [
    "time_event = {}\n",
    "starting_asset = 50\n",
    "bought_crypto = False\n",
    "\n",
    "\n",
    "gold_available = starting_asset \n",
    "XRP_amount = 0\n",
    "\n",
    "\n",
    "drop_limit = 0.005 # used mean on this side, actual 0.004686, but decreased abit for optimistic view \n",
    "\n",
    "stop_loss_limit = 0.01\n",
    "sell_limit = 0.006\n",
    "\n",
    "while gold_available >= 0:\n",
    "    \n",
    "    #for ind, df in XRP_Analysis_table[XRP_Analysis_table['datetime_real'] > '2017-07-07'].iterrows():\n",
    "    for ind, df in XRP_Analysis_table[-5000:].iterrows():\n",
    "#         print(df['date'])\n",
    "        \n",
    "        if bought_crypto != True: # then looking to buy at drop limit or lower\n",
    "            if ( df['2H_RA_on_Close'] - df['low'] ) / df['2H_RA_on_Close'] >= drop_limit:\n",
    "                \"then buy crypto\"\n",
    "                \n",
    "                ## might add here a waiting time!!! ###\n",
    "\n",
    "                XRP_amount += (gold_available/df['low']) * 0.998 # due to 0.2% fee\n",
    "\n",
    "                gold_available -= gold_available\n",
    "                \n",
    "                time_event.update({df['date']  : ( gold_available, XRP_amount , 'brought' , df['low'])})\n",
    "                \n",
    "                last_xrp_traction_price =  df['low']\n",
    "                \n",
    "                bought_crypto = True\n",
    "                \n",
    "#                 print('last_xrp_traction_price ', last_xrp_traction_price)\n",
    "                \n",
    "        else:\n",
    "            if bought_crypto: # has crypto, either wait or sell at stoploss or profit\n",
    "#                 print('hit_sell_limit',\n",
    "#                       (df['high'] - last_xrp_traction_price)/last_xrp_traction_price >= sell_limit ,\n",
    "#                       round((df['high'] - last_xrp_traction_price),6) ,\n",
    "#                       'sell_limit ', sell_limit\n",
    "                     \n",
    "#                       )\n",
    "                \n",
    "                if ( df['2H_RA_on_Close'] - df['low'] ) / df['2H_RA_on_Close'] >= stop_loss_limit: # then hit stop loss, force sell\n",
    "#                     print('stoppppppppppppppppppppppppp')\n",
    "                    gold_available += XRP_amount * df['low'] * 0.998  # sell at low price\n",
    "                    \n",
    "                    XRP_amount -= XRP_amount\n",
    "                    \n",
    "                    time_event.update({df['date']  : ( gold_available, XRP_amount , 'stop_loss_hit' ,  df['low'])})\n",
    "                    \n",
    "                    bought_crypto = False\n",
    "                    \n",
    "                    \n",
    "                \n",
    "                elif  (df['high'] - last_xrp_traction_price)/last_xrp_traction_price >= sell_limit: # then hit target price, sell for profit\n",
    "                    \n",
    "#                     print(last_xrp_traction_price)\n",
    "                                        \n",
    "                    gold_available += XRP_amount * df['high'] * 0.998  # sell at high price\n",
    "                    \n",
    "                    XRP_amount -= XRP_amount\n",
    "                    \n",
    "                    time_event.update({df['date']  : ( gold_available, XRP_amount , 'sell_profit' , df['high'])})\n",
    "                    \n",
    "                    bought_crypto = False\n",
    "\n",
    "    break\n",
    "                \n",
    "else:\n",
    "    print('Negative asset: bankrupt  ->>>   ',  gold_available)"
   ]
  },
  {
   "cell_type": "code",
   "execution_count": 19,
   "metadata": {},
   "outputs": [],
   "source": [
    "transation_log = pd.DataFrame.from_dict(time_event, orient='index', columns= ['Gold', 'XRP_Amount', 'action', 'price_action_happened'])"
   ]
  },
  {
   "cell_type": "code",
   "execution_count": 20,
   "metadata": {},
   "outputs": [],
   "source": [
    "transation_log['Gold'] = round(transation_log['Gold'], 2)"
   ]
  },
  {
   "cell_type": "code",
   "execution_count": 21,
   "metadata": {},
   "outputs": [],
   "source": [
    "transation_log['XRP_Amount'] = round(transation_log['XRP_Amount'], 4)"
   ]
  },
  {
   "cell_type": "code",
   "execution_count": 1,
   "metadata": {},
   "outputs": [
    {
     "ename": "NameError",
     "evalue": "name 'transation_log' is not defined",
     "output_type": "error",
     "traceback": [
      "\u001b[1;31m---------------------------------------------------------------------------\u001b[0m",
      "\u001b[1;31mNameError\u001b[0m                                 Traceback (most recent call last)",
      "\u001b[1;32m<ipython-input-1-dcfe49ea96c4>\u001b[0m in \u001b[0;36m<module>\u001b[1;34m\u001b[0m\n\u001b[1;32m----> 1\u001b[1;33m \u001b[0mtransation_log\u001b[0m\u001b[1;33m.\u001b[0m\u001b[0mhead\u001b[0m\u001b[1;33m(\u001b[0m\u001b[1;33m)\u001b[0m\u001b[1;33m\u001b[0m\u001b[1;33m\u001b[0m\u001b[0m\n\u001b[0m",
      "\u001b[1;31mNameError\u001b[0m: name 'transation_log' is not defined"
     ]
    }
   ],
   "source": [
    "transation_log.head()"
   ]
  },
  {
   "cell_type": "code",
   "execution_count": null,
   "metadata": {},
   "outputs": [],
   "source": []
  },
  {
   "cell_type": "code",
   "execution_count": 23,
   "metadata": {},
   "outputs": [
    {
     "data": {
      "text/plain": [
       "datetime.datetime(2019, 7, 15, 16, 10)"
      ]
     },
     "execution_count": 23,
     "metadata": {},
     "output_type": "execute_result"
    }
   ],
   "source": [
    "dt.datetime.fromtimestamp(transation_log.index.min())"
   ]
  },
  {
   "cell_type": "code",
   "execution_count": 24,
   "metadata": {},
   "outputs": [
    {
     "data": {
      "text/plain": [
       "datetime.datetime(2019, 7, 31, 13, 40)"
      ]
     },
     "execution_count": 24,
     "metadata": {},
     "output_type": "execute_result"
    }
   ],
   "source": [
    "dt.datetime.fromtimestamp(transation_log.index.max())"
   ]
  },
  {
   "cell_type": "code",
   "execution_count": null,
   "metadata": {},
   "outputs": [],
   "source": []
  },
  {
   "cell_type": "code",
   "execution_count": 25,
   "metadata": {},
   "outputs": [
    {
     "data": {
      "text/plain": [
       "<matplotlib.axes._subplots.AxesSubplot at 0x1d4e942a860>"
      ]
     },
     "execution_count": 25,
     "metadata": {},
     "output_type": "execute_result"
    },
    {
     "data": {
      "image/png": "[encoded data removed]",
      "text/plain": [
       "<Figure size 1440x720 with 1 Axes>"
      ]
     },
     "metadata": {
      "needs_background": "light"
     },
     "output_type": "display_data"
    }
   ],
   "source": [
    "transation_log[transation_log['action'] != 'brought'][['Gold']].plot(figsize = (20,10))"
   ]
  },
  {
   "cell_type": "code",
   "execution_count": 26,
   "metadata": {},
   "outputs": [
    {
     "data": {
      "text/plain": [
       "<matplotlib.axes._subplots.AxesSubplot at 0x1d4ea63e710>"
      ]
     },
     "execution_count": 26,
     "metadata": {},
     "output_type": "execute_result"
    },
    {
     "data": {
      "image/png": "[encoded data removed]",
      "text/plain": [
       "<Figure size 1440x720 with 1 Axes>"
      ]
     },
     "metadata": {
      "needs_background": "light"
     },
     "output_type": "display_data"
    }
   ],
   "source": [
    "XRP_Analysis_table[400000:][['date','close']].set_index('date').plot(figsize = (20,10))"
   ]
  },
  {
   "cell_type": "code",
   "execution_count": null,
   "metadata": {},
   "outputs": [],
   "source": []
  },
  {
   "cell_type": "code",
   "execution_count": 27,
   "metadata": {},
   "outputs": [
    {
     "ename": "NameError",
     "evalue": "name 'data1' is not defined",
     "output_type": "error",
     "traceback": [
      "\u001b[1;31m---------------------------------------------------------------------------\u001b[0m",
      "\u001b[1;31mNameError\u001b[0m                                 Traceback (most recent call last)",
      "\u001b[1;32m<ipython-input-27-78cc5b238819>\u001b[0m in \u001b[0;36m<module>\u001b[1;34m\u001b[0m\n\u001b[0;32m      1\u001b[0m \u001b[1;31m#stable phase\u001b[0m\u001b[1;33m\u001b[0m\u001b[1;33m\u001b[0m\u001b[1;33m\u001b[0m\u001b[0m\n\u001b[0;32m      2\u001b[0m \u001b[1;33m\u001b[0m\u001b[0m\n\u001b[1;32m----> 3\u001b[1;33m \u001b[0mprint\u001b[0m\u001b[1;33m(\u001b[0m\u001b[0mdata1\u001b[0m\u001b[1;33m[\u001b[0m\u001b[1;34m'datetime_real'\u001b[0m\u001b[1;33m]\u001b[0m\u001b[1;33m.\u001b[0m\u001b[0mmin\u001b[0m\u001b[1;33m(\u001b[0m\u001b[1;33m)\u001b[0m\u001b[1;33m,\u001b[0m \u001b[1;34m'  slice: '\u001b[0m\u001b[1;33m,\u001b[0m \u001b[0mstart1\u001b[0m\u001b[1;33m)\u001b[0m\u001b[1;33m\u001b[0m\u001b[1;33m\u001b[0m\u001b[0m\n\u001b[0m\u001b[0;32m      4\u001b[0m \u001b[0mprint\u001b[0m\u001b[1;33m(\u001b[0m\u001b[0mdata1\u001b[0m\u001b[1;33m[\u001b[0m\u001b[1;34m'datetime_real'\u001b[0m\u001b[1;33m]\u001b[0m\u001b[1;33m.\u001b[0m\u001b[0mmax\u001b[0m\u001b[1;33m(\u001b[0m\u001b[1;33m)\u001b[0m\u001b[1;33m,\u001b[0m \u001b[1;34m'  slice: '\u001b[0m\u001b[1;33m,\u001b[0m \u001b[0mend1\u001b[0m\u001b[1;33m)\u001b[0m\u001b[1;33m\u001b[0m\u001b[1;33m\u001b[0m\u001b[0m\n",
      "\u001b[1;31mNameError\u001b[0m: name 'data1' is not defined"
     ]
    }
   ],
   "source": [
    "#stable phase\n",
    "\n",
    "print(data1['datetime_real'].min(), '  slice: ', start1)\n",
    "print(data1['datetime_real'].max(), '  slice: ', end1)"
   ]
  },
  {
   "cell_type": "code",
   "execution_count": null,
   "metadata": {},
   "outputs": [],
   "source": []
  },
  {
   "cell_type": "code",
   "execution_count": null,
   "metadata": {},
   "outputs": [],
   "source": [
    "plt.figure(figsize= (20,10))\n",
    "\n",
    "################################\n",
    "\n",
    "\n",
    "data0 = XRP_Analysis_table[original_columns].set_index('date')\n",
    "\n",
    "x0 = data0.index\n",
    "y0 = data0['close']\n",
    "\n",
    "## rolling data\n",
    "# data1['20min_rolling'] = data1['close'].rolling(4).mean().shift(1)\n",
    "# y1_r = data1['20min_rolling']\n",
    "\n",
    "################################\n",
    "\n",
    "start1 = 410000\n",
    "end1 = start1 + 20000\n",
    "\n",
    "print(start, end, (end-start)/12, 'hour')\n",
    "data1 = XRP_Analysis_table[start1:end1][original_columns].set_index('date')\n",
    "\n",
    "\n",
    "\n",
    "x1 = data1.index\n",
    "y1= data1['close']\n",
    "\n",
    "## rolling data\n",
    "# data1['20min_rolling'] = data1['close'].rolling(4).mean().shift(1)\n",
    "# y1_r = data1['20min_rolling']\n",
    "\n",
    "################################\n",
    "\n",
    "\n",
    "xmin = XRP_Analysis_table.set_index('date').index.min()\n",
    "xmax = XRP_Analysis_table.set_index('date').index.max()\n",
    "\n",
    "# ymin = 0.287\n",
    "# ymax = 0.324\n",
    "\n",
    "\n",
    "plt.plot(x0,y0)\n",
    "\n",
    "plt.plot(x1,y1)\n",
    "\n",
    "# plt.plot(x1,y1_r)\n",
    "\n",
    "# plt.plot(x2,y2)\n",
    "\n",
    "# plt.plot(x3,y3)\n",
    "\n",
    "plt.xlim([xmin,xmax])\n",
    "plt.ylim([0,3.5])"
   ]
  },
  {
   "cell_type": "code",
   "execution_count": null,
   "metadata": {},
   "outputs": [],
   "source": [
    "data1[['close']].plot(figsize = (20,10))"
   ]
  },
  {
   "cell_type": "code",
   "execution_count": null,
   "metadata": {},
   "outputs": [],
   "source": [
    "stable_times = XRP_Analysis_table[start1:end1].copy()"
   ]
  },
  {
   "cell_type": "code",
   "execution_count": null,
   "metadata": {},
   "outputs": [],
   "source": [
    "for n in np.array( [1,2,3,4,5,6, 8 , 10])*0.1:\n",
    "    stable_times['diff_{}'.format(round(n, 1))] = stable_times['shift_open_{}'.format(n)] - stable_times['Increase_{}_percent'.format(n)]"
   ]
  },
  {
   "cell_type": "code",
   "execution_count": null,
   "metadata": {},
   "outputs": [],
   "source": [
    "stable_times['diff_0.6'] = stable_times['shift_open_0.6000000000000001'] - stable_times['Increase_0.6000000000000001_percent']"
   ]
  },
  {
   "cell_type": "code",
   "execution_count": null,
   "metadata": {},
   "outputs": [],
   "source": [
    "list(Counter(stable_times['diff_0.6']).keys())[:3]"
   ]
  },
  {
   "cell_type": "code",
   "execution_count": null,
   "metadata": {},
   "outputs": [],
   "source": [
    "stable_times.columns"
   ]
  },
  {
   "cell_type": "code",
   "execution_count": null,
   "metadata": {},
   "outputs": [],
   "source": [
    "[d for d in stable_times.columns if 'diff' in d]"
   ]
  },
  {
   "cell_type": "code",
   "execution_count": null,
   "metadata": {},
   "outputs": [],
   "source": [
    "stable_times['date'].max()"
   ]
  },
  {
   "cell_type": "code",
   "execution_count": null,
   "metadata": {},
   "outputs": [],
   "source": [
    "for col in [d for d in stable_times.columns if 'Increase' in d]:\n",
    "    print(col)\n",
    "    unique_increase_hit = len(stable_times[(stable_times[col] < stable_times['date'].max()) & (stable_times['volume'] != 0)][col].unique())\n",
    "    print( unique_increase_hit/ len(stable_times) )\n",
    "    print('pure_increase:' , float(col.split('_')[1]) * (unique_increase_hit/ len(stable_times)) *100  )\n",
    "    print('at',  float(col.split('_')[1])  )\n",
    "    \n",
    "    print('='*10)"
   ]
  },
  {
   "cell_type": "code",
   "execution_count": null,
   "metadata": {},
   "outputs": [],
   "source": [
    "float(col.split('_')[1])"
   ]
  },
  {
   "cell_type": "code",
   "execution_count": null,
   "metadata": {},
   "outputs": [],
   "source": [
    "for col in [d for d in stable_times.columns if 'diff' in d]:\n",
    "    counting = (stable_times[stable_times[col] != 0][col].value_counts())/(len(stable_times))\n",
    "\n",
    "    counting = pd.DataFrame.from_dict(counting).reset_index()\n",
    "\n",
    "    display(counting.head())\n",
    "\n",
    "# counting_increase = counting[counting['index'] < 0]\n",
    "\n",
    "# counting_decrease = counting[counting['index'] > 0]\n",
    "\n",
    "# counting_increase.head()"
   ]
  },
  {
   "cell_type": "code",
   "execution_count": null,
   "metadata": {},
   "outputs": [],
   "source": []
  },
  {
   "cell_type": "code",
   "execution_count": null,
   "metadata": {},
   "outputs": [],
   "source": []
  },
  {
   "cell_type": "code",
   "execution_count": null,
   "metadata": {},
   "outputs": [],
   "source": [
    "counting.head()"
   ]
  },
  {
   "cell_type": "code",
   "execution_count": 28,
   "metadata": {},
   "outputs": [
    {
     "ename": "NameError",
     "evalue": "name 'counting_increase' is not defined",
     "output_type": "error",
     "traceback": [
      "\u001b[1;31m---------------------------------------------------------------------------\u001b[0m",
      "\u001b[1;31mNameError\u001b[0m                                 Traceback (most recent call last)",
      "\u001b[1;32m<ipython-input-28-5565319737ea>\u001b[0m in \u001b[0;36m<module>\u001b[1;34m\u001b[0m\n\u001b[1;32m----> 1\u001b[1;33m \u001b[0mcounting_increase\u001b[0m\u001b[1;33m[\u001b[0m\u001b[1;34m'diff_0.6'\u001b[0m\u001b[1;33m]\u001b[0m\u001b[1;33m.\u001b[0m\u001b[0mcumsum\u001b[0m\u001b[1;33m(\u001b[0m\u001b[1;33m)\u001b[0m\u001b[1;33m.\u001b[0m\u001b[0mplot\u001b[0m\u001b[1;33m(\u001b[0m \u001b[0mylim\u001b[0m \u001b[1;33m=\u001b[0m \u001b[1;33m[\u001b[0m\u001b[1;36m0\u001b[0m\u001b[1;33m,\u001b[0m\u001b[1;36m0.3\u001b[0m\u001b[1;33m]\u001b[0m\u001b[1;33m)\u001b[0m\u001b[1;33m\u001b[0m\u001b[1;33m\u001b[0m\u001b[0m\n\u001b[0m",
      "\u001b[1;31mNameError\u001b[0m: name 'counting_increase' is not defined"
     ]
    }
   ],
   "source": [
    "counting_increase['diff_0.6'].cumsum().plot( ylim = [0,0.3])"
   ]
  },
  {
   "cell_type": "code",
   "execution_count": 29,
   "metadata": {},
   "outputs": [
    {
     "ename": "NameError",
     "evalue": "name 'counting_decrease' is not defined",
     "output_type": "error",
     "traceback": [
      "\u001b[1;31m---------------------------------------------------------------------------\u001b[0m",
      "\u001b[1;31mNameError\u001b[0m                                 Traceback (most recent call last)",
      "\u001b[1;32m<ipython-input-29-33832477814f>\u001b[0m in \u001b[0;36m<module>\u001b[1;34m\u001b[0m\n\u001b[1;32m----> 1\u001b[1;33m \u001b[0mcounting_decrease\u001b[0m\u001b[1;33m[\u001b[0m\u001b[1;34m'diff_0.6'\u001b[0m\u001b[1;33m]\u001b[0m\u001b[1;33m.\u001b[0m\u001b[0mcumsum\u001b[0m\u001b[1;33m(\u001b[0m\u001b[1;33m)\u001b[0m\u001b[1;33m.\u001b[0m\u001b[0mplot\u001b[0m\u001b[1;33m(\u001b[0m\u001b[1;33m)\u001b[0m\u001b[1;33m\u001b[0m\u001b[1;33m\u001b[0m\u001b[0m\n\u001b[0m",
      "\u001b[1;31mNameError\u001b[0m: name 'counting_decrease' is not defined"
     ]
    }
   ],
   "source": [
    "counting_decrease['diff_0.6'].cumsum().plot()"
   ]
  },
  {
   "cell_type": "code",
   "execution_count": null,
   "metadata": {},
   "outputs": [],
   "source": [
    "stable_times[stable_times['diff_0.6'] != 0]['diff_0.6'].value_counts().head()#.plot()"
   ]
  },
  {
   "cell_type": "code",
   "execution_count": null,
   "metadata": {},
   "outputs": [],
   "source": [
    "stable_times"
   ]
  },
  {
   "cell_type": "code",
   "execution_count": null,
   "metadata": {},
   "outputs": [],
   "source": []
  },
  {
   "cell_type": "code",
   "execution_count": 30,
   "metadata": {},
   "outputs": [],
   "source": [
    "# XRP_Analysis_table[-5000:][['date','close']].set_index('date').plot(figsize = (20,10))"
   ]
  },
  {
   "cell_type": "code",
   "execution_count": 31,
   "metadata": {},
   "outputs": [],
   "source": [
    "# XRP_Analysis_table[-5000:-4500][['date','close']].set_index('date').plot(figsize = (20,10))"
   ]
  },
  {
   "cell_type": "code",
   "execution_count": 32,
   "metadata": {},
   "outputs": [
    {
     "ename": "NameError",
     "evalue": "name 'start' is not defined",
     "output_type": "error",
     "traceback": [
      "\u001b[1;31m---------------------------------------------------------------------------\u001b[0m",
      "\u001b[1;31mNameError\u001b[0m                                 Traceback (most recent call last)",
      "\u001b[1;32m<ipython-input-32-309fc290faf2>\u001b[0m in \u001b[0;36m<module>\u001b[1;34m\u001b[0m\n\u001b[0;32m      6\u001b[0m \u001b[0mend1\u001b[0m \u001b[1;33m=\u001b[0m \u001b[0mstart1\u001b[0m \u001b[1;33m+\u001b[0m \u001b[1;36m24\u001b[0m\u001b[1;33m\u001b[0m\u001b[1;33m\u001b[0m\u001b[0m\n\u001b[0;32m      7\u001b[0m \u001b[1;33m\u001b[0m\u001b[0m\n\u001b[1;32m----> 8\u001b[1;33m \u001b[0mprint\u001b[0m\u001b[1;33m(\u001b[0m\u001b[0mstart\u001b[0m\u001b[1;33m,\u001b[0m \u001b[0mend\u001b[0m\u001b[1;33m,\u001b[0m \u001b[1;33m(\u001b[0m\u001b[0mend\u001b[0m\u001b[1;33m-\u001b[0m\u001b[0mstart\u001b[0m\u001b[1;33m)\u001b[0m\u001b[1;33m/\u001b[0m\u001b[1;36m12\u001b[0m\u001b[1;33m,\u001b[0m \u001b[1;34m'hour'\u001b[0m\u001b[1;33m)\u001b[0m\u001b[1;33m\u001b[0m\u001b[1;33m\u001b[0m\u001b[0m\n\u001b[0m\u001b[0;32m      9\u001b[0m \u001b[0mdata1\u001b[0m \u001b[1;33m=\u001b[0m \u001b[0mXRP_Analysis_table\u001b[0m\u001b[1;33m[\u001b[0m\u001b[0mstart\u001b[0m\u001b[1;33m:\u001b[0m\u001b[0mend\u001b[0m\u001b[1;33m]\u001b[0m\u001b[1;33m[\u001b[0m\u001b[0moriginal_columns\u001b[0m\u001b[1;33m]\u001b[0m\u001b[1;33m.\u001b[0m\u001b[0mset_index\u001b[0m\u001b[1;33m(\u001b[0m\u001b[1;34m'date'\u001b[0m\u001b[1;33m)\u001b[0m\u001b[1;33m\u001b[0m\u001b[1;33m\u001b[0m\u001b[0m\n\u001b[0;32m     10\u001b[0m \u001b[1;33m\u001b[0m\u001b[0m\n",
      "\u001b[1;31mNameError\u001b[0m: name 'start' is not defined"
     ]
    },
    {
     "data": {
      "text/plain": [
       "<Figure size 1440x720 with 0 Axes>"
      ]
     },
     "metadata": {},
     "output_type": "display_data"
    }
   ],
   "source": [
    "plt.figure(figsize= (20,10))\n",
    "\n",
    "################################\n",
    "\n",
    "start1 = -4708\n",
    "end1 = start1 + 24\n",
    "\n",
    "print(start, end, (end-start)/12, 'hour')\n",
    "data1 = XRP_Analysis_table[start:end][original_columns].set_index('date')\n",
    "\n",
    "\n",
    "\n",
    "x1 = data1.index\n",
    "y1= data1['close']\n",
    "\n",
    "## rolling data\n",
    "data1['20min_rolling'] = data1['close'].rolling(4).mean().shift(1)\n",
    "y1_r = data1['20min_rolling']\n",
    "\n",
    "################################\n",
    "\n",
    "\n",
    "start2 = -4780\n",
    "end2 = start2 + 24\n",
    "\n",
    "print(start2, end2, (end2-start2)/12, 'hour')\n",
    "data2 = XRP_Analysis_table[start2:end2][original_columns].set_index('date')\n",
    "\n",
    "x2 = data2.index\n",
    "y2= data2['close']\n",
    "\n",
    "\n",
    "################################\n",
    "\n",
    "start3 = -5000\n",
    "end3 = start3 + 180\n",
    "\n",
    "print(start3, end3, (end3-start3)/12, 'hour')\n",
    "data2 = XRP_Analysis_table[start3:end3][original_columns].set_index('date')\n",
    "\n",
    "x3 = data2.index\n",
    "y3= data2['close']\n",
    "\n",
    "\n",
    "################################\n",
    "\n",
    "\n",
    "xmin = XRP_Analysis_table[-5000:-4500][original_columns].set_index('date').index.min()\n",
    "xmax = XRP_Analysis_table[-5000:-4500][original_columns].set_index('date').index.max()\n",
    "\n",
    "ymin = 0.287\n",
    "ymax = 0.324\n",
    "\n",
    "plt.plot(x1,y1)\n",
    "plt.plot(x1,y1_r)\n",
    "\n",
    "plt.plot(x2,y2)\n",
    "\n",
    "plt.plot(x3,y3)\n",
    "\n",
    "plt.xlim([xmin,xmax])\n",
    "plt.ylim([ymin,ymax])"
   ]
  },
  {
   "cell_type": "markdown",
   "metadata": {},
   "source": [
    "## analysing data1"
   ]
  },
  {
   "cell_type": "code",
   "execution_count": 33,
   "metadata": {},
   "outputs": [
    {
     "ename": "NameError",
     "evalue": "name 'data1' is not defined",
     "output_type": "error",
     "traceback": [
      "\u001b[1;31m---------------------------------------------------------------------------\u001b[0m",
      "\u001b[1;31mNameError\u001b[0m                                 Traceback (most recent call last)",
      "\u001b[1;32m<ipython-input-33-1ba1c1acd6c3>\u001b[0m in \u001b[0;36m<module>\u001b[1;34m\u001b[0m\n\u001b[1;32m----> 1\u001b[1;33m \u001b[0mdata1\u001b[0m\u001b[1;33m[\u001b[0m\u001b[1;34m'close'\u001b[0m\u001b[1;33m]\u001b[0m \u001b[1;33m=\u001b[0m \u001b[0mdata1\u001b[0m\u001b[1;33m.\u001b[0m\u001b[0mapply\u001b[0m\u001b[1;33m(\u001b[0m\u001b[1;32mlambda\u001b[0m \u001b[0mx\u001b[0m\u001b[1;33m:\u001b[0m \u001b[1;32mNone\u001b[0m \u001b[1;32mif\u001b[0m \u001b[0mx\u001b[0m\u001b[1;33m[\u001b[0m\u001b[1;34m'volume'\u001b[0m\u001b[1;33m]\u001b[0m \u001b[1;33m==\u001b[0m \u001b[1;36m0\u001b[0m \u001b[1;32melse\u001b[0m \u001b[0mx\u001b[0m\u001b[1;33m[\u001b[0m\u001b[1;34m'close'\u001b[0m\u001b[1;33m]\u001b[0m\u001b[1;33m,\u001b[0m \u001b[0maxis\u001b[0m \u001b[1;33m=\u001b[0m\u001b[1;36m1\u001b[0m \u001b[1;33m)\u001b[0m\u001b[1;33m\u001b[0m\u001b[1;33m\u001b[0m\u001b[0m\n\u001b[0m",
      "\u001b[1;31mNameError\u001b[0m: name 'data1' is not defined"
     ]
    }
   ],
   "source": [
    "data1['close'] = data1.apply(lambda x: None if x['volume'] == 0 else x['close'], axis =1 )"
   ]
  },
  {
   "cell_type": "code",
   "execution_count": null,
   "metadata": {},
   "outputs": [],
   "source": [
    "data1['10min_rolling'] = data1['close'].rolling(2).mean().shift(1)\n",
    "data1['10min_rolling'] = data1['10min_rolling'].fillna(method = 'ffill')"
   ]
  },
  {
   "cell_type": "code",
   "execution_count": null,
   "metadata": {},
   "outputs": [],
   "source": [
    "data1['10min_dif']= round(((data1['low'] - data1['10min_rolling'])/data1['10min_rolling']) * 100,4)"
   ]
  },
  {
   "cell_type": "code",
   "execution_count": 34,
   "metadata": {},
   "outputs": [
    {
     "ename": "NameError",
     "evalue": "name 'data1' is not defined",
     "output_type": "error",
     "traceback": [
      "\u001b[1;31m---------------------------------------------------------------------------\u001b[0m",
      "\u001b[1;31mNameError\u001b[0m                                 Traceback (most recent call last)",
      "\u001b[1;32m<ipython-input-34-6f4ee057c48d>\u001b[0m in \u001b[0;36m<module>\u001b[1;34m\u001b[0m\n\u001b[1;32m----> 1\u001b[1;33m \u001b[0mdata1\u001b[0m\u001b[1;33m[\u001b[0m\u001b[1;34m'10min_dif'\u001b[0m\u001b[1;33m]\u001b[0m\u001b[1;33m.\u001b[0m\u001b[0mplot\u001b[0m\u001b[1;33m(\u001b[0m\u001b[1;33m)\u001b[0m\u001b[1;33m\u001b[0m\u001b[1;33m\u001b[0m\u001b[0m\n\u001b[0m",
      "\u001b[1;31mNameError\u001b[0m: name 'data1' is not defined"
     ]
    }
   ],
   "source": [
    "data1['10min_dif'].plot()"
   ]
  },
  {
   "cell_type": "code",
   "execution_count": 35,
   "metadata": {},
   "outputs": [
    {
     "ename": "NameError",
     "evalue": "name 'data1' is not defined",
     "output_type": "error",
     "traceback": [
      "\u001b[1;31m---------------------------------------------------------------------------\u001b[0m",
      "\u001b[1;31mNameError\u001b[0m                                 Traceback (most recent call last)",
      "\u001b[1;32m<ipython-input-35-6f4ee057c48d>\u001b[0m in \u001b[0;36m<module>\u001b[1;34m\u001b[0m\n\u001b[1;32m----> 1\u001b[1;33m \u001b[0mdata1\u001b[0m\u001b[1;33m[\u001b[0m\u001b[1;34m'10min_dif'\u001b[0m\u001b[1;33m]\u001b[0m\u001b[1;33m.\u001b[0m\u001b[0mplot\u001b[0m\u001b[1;33m(\u001b[0m\u001b[1;33m)\u001b[0m\u001b[1;33m\u001b[0m\u001b[1;33m\u001b[0m\u001b[0m\n\u001b[0m",
      "\u001b[1;31mNameError\u001b[0m: name 'data1' is not defined"
     ]
    }
   ],
   "source": [
    "data1['10min_dif'].plot()"
   ]
  },
  {
   "cell_type": "code",
   "execution_count": null,
   "metadata": {},
   "outputs": [],
   "source": []
  },
  {
   "cell_type": "code",
   "execution_count": 36,
   "metadata": {},
   "outputs": [
    {
     "ename": "NameError",
     "evalue": "name 'data1' is not defined",
     "output_type": "error",
     "traceback": [
      "\u001b[1;31m---------------------------------------------------------------------------\u001b[0m",
      "\u001b[1;31mNameError\u001b[0m                                 Traceback (most recent call last)",
      "\u001b[1;32m<ipython-input-36-e4a9aa7287ff>\u001b[0m in \u001b[0;36m<module>\u001b[1;34m\u001b[0m\n\u001b[1;32m----> 1\u001b[1;33m \u001b[0mXRP_Analysis_table\u001b[0m\u001b[1;33m[\u001b[0m\u001b[0mXRP_Analysis_table\u001b[0m\u001b[1;33m[\u001b[0m\u001b[1;34m'date'\u001b[0m\u001b[1;33m]\u001b[0m\u001b[1;33m.\u001b[0m\u001b[0misin\u001b[0m\u001b[1;33m(\u001b[0m\u001b[0mlist\u001b[0m\u001b[1;33m(\u001b[0m\u001b[0mdata1\u001b[0m\u001b[1;33m[\u001b[0m\u001b[0mdata1\u001b[0m\u001b[1;33m[\u001b[0m\u001b[1;34m'10min_dif'\u001b[0m\u001b[1;33m]\u001b[0m \u001b[1;33m<\u001b[0m \u001b[1;33m-\u001b[0m\u001b[1;36m1.3\u001b[0m\u001b[1;33m]\u001b[0m\u001b[1;33m.\u001b[0m\u001b[0mindex\u001b[0m \u001b[1;33m)\u001b[0m\u001b[1;33m+\u001b[0m \u001b[1;33m[\u001b[0m\u001b[1;36m1563306600\u001b[0m\u001b[1;33m]\u001b[0m\u001b[1;33m)\u001b[0m\u001b[1;33m]\u001b[0m\u001b[1;33m.\u001b[0m\u001b[0mT\u001b[0m\u001b[1;33m\u001b[0m\u001b[1;33m\u001b[0m\u001b[0m\n\u001b[0m",
      "\u001b[1;31mNameError\u001b[0m: name 'data1' is not defined"
     ]
    }
   ],
   "source": [
    "XRP_Analysis_table[XRP_Analysis_table['date'].isin(list(data1[data1['10min_dif'] < -1.3].index )+ [1563306600])].T"
   ]
  },
  {
   "cell_type": "code",
   "execution_count": null,
   "metadata": {},
   "outputs": [],
   "source": [
    "data1[data1['10min_dif'] < -1.3]"
   ]
  },
  {
   "cell_type": "code",
   "execution_count": null,
   "metadata": {},
   "outputs": [],
   "source": [
    "data1"
   ]
  },
  {
   "cell_type": "code",
   "execution_count": null,
   "metadata": {},
   "outputs": [],
   "source": []
  },
  {
   "cell_type": "code",
   "execution_count": null,
   "metadata": {},
   "outputs": [],
   "source": []
  },
  {
   "cell_type": "code",
   "execution_count": 37,
   "metadata": {},
   "outputs": [
    {
     "data": {
      "text/html": [
       "<div>\n",
       "<style scoped>\n",
       "    .dataframe tbody tr th:only-of-type {\n",
       "        vertical-align: middle;\n",
       "    }\n",
       "\n",
       "    .dataframe tbody tr th {\n",
       "        vertical-align: top;\n",
       "    }\n",
       "\n",
       "    .dataframe thead th {\n",
       "        text-align: right;\n",
       "    }\n",
       "</style>\n",
       "<table border=\"1\" class=\"dataframe\">\n",
       "  <thead>\n",
       "    <tr style=\"text-align: right;\">\n",
       "      <th></th>\n",
       "      <th>Unnamed: 0</th>\n",
       "      <th>Unnamed: 0.1</th>\n",
       "      <th>close</th>\n",
       "      <th>date</th>\n",
       "      <th>high</th>\n",
       "      <th>low</th>\n",
       "      <th>open</th>\n",
       "      <th>quoteVolume</th>\n",
       "      <th>volume</th>\n",
       "      <th>weightedAverage</th>\n",
       "      <th>...</th>\n",
       "      <th>shift_open_0.1</th>\n",
       "      <th>shift_open_0.2</th>\n",
       "      <th>shift_open_0.30000000000000004</th>\n",
       "      <th>shift_open_0.4</th>\n",
       "      <th>shift_open_0.5</th>\n",
       "      <th>shift_open_0.6000000000000001</th>\n",
       "      <th>shift_open_0.8</th>\n",
       "      <th>shift_open_1.0</th>\n",
       "      <th>diff_0.6</th>\n",
       "      <th>2H_RA_on_Close</th>\n",
       "    </tr>\n",
       "  </thead>\n",
       "  <tbody>\n",
       "    <tr>\n",
       "      <th>461096</th>\n",
       "      <td>10548</td>\n",
       "      <td>10548</td>\n",
       "      <td>0.318843</td>\n",
       "      <td>1563202800</td>\n",
       "      <td>0.318843</td>\n",
       "      <td>0.318843</td>\n",
       "      <td>0.318843</td>\n",
       "      <td>0.000000</td>\n",
       "      <td>0.000000</td>\n",
       "      <td>0.318843</td>\n",
       "      <td>...</td>\n",
       "      <td>1.563206e+09</td>\n",
       "      <td>1.563206e+09</td>\n",
       "      <td>1.563206e+09</td>\n",
       "      <td>1.563206e+09</td>\n",
       "      <td>1.563206e+09</td>\n",
       "      <td>1.563206e+09</td>\n",
       "      <td>1.563206e+09</td>\n",
       "      <td>1.563206e+09</td>\n",
       "      <td>0.0</td>\n",
       "      <td>0.317355</td>\n",
       "    </tr>\n",
       "    <tr>\n",
       "      <th>461097</th>\n",
       "      <td>10549</td>\n",
       "      <td>10549</td>\n",
       "      <td>0.316500</td>\n",
       "      <td>1563203100</td>\n",
       "      <td>0.316560</td>\n",
       "      <td>0.316332</td>\n",
       "      <td>0.316560</td>\n",
       "      <td>2651.920401</td>\n",
       "      <td>839.282272</td>\n",
       "      <td>0.316481</td>\n",
       "      <td>...</td>\n",
       "      <td>1.563206e+09</td>\n",
       "      <td>1.563206e+09</td>\n",
       "      <td>1.563206e+09</td>\n",
       "      <td>1.563206e+09</td>\n",
       "      <td>1.563206e+09</td>\n",
       "      <td>1.563206e+09</td>\n",
       "      <td>1.563206e+09</td>\n",
       "      <td>1.563206e+09</td>\n",
       "      <td>900.0</td>\n",
       "      <td>0.317851</td>\n",
       "    </tr>\n",
       "    <tr>\n",
       "      <th>461098</th>\n",
       "      <td>10550</td>\n",
       "      <td>10550</td>\n",
       "      <td>0.316007</td>\n",
       "      <td>1563203400</td>\n",
       "      <td>0.316007</td>\n",
       "      <td>0.316007</td>\n",
       "      <td>0.316007</td>\n",
       "      <td>19.950000</td>\n",
       "      <td>6.304345</td>\n",
       "      <td>0.316007</td>\n",
       "      <td>...</td>\n",
       "      <td>1.563205e+09</td>\n",
       "      <td>1.563206e+09</td>\n",
       "      <td>1.563206e+09</td>\n",
       "      <td>1.563206e+09</td>\n",
       "      <td>1.563206e+09</td>\n",
       "      <td>1.563206e+09</td>\n",
       "      <td>1.563206e+09</td>\n",
       "      <td>1.563206e+09</td>\n",
       "      <td>0.0</td>\n",
       "      <td>0.317761</td>\n",
       "    </tr>\n",
       "    <tr>\n",
       "      <th>461099</th>\n",
       "      <td>10551</td>\n",
       "      <td>10551</td>\n",
       "      <td>0.315460</td>\n",
       "      <td>1563203700</td>\n",
       "      <td>0.316221</td>\n",
       "      <td>0.315460</td>\n",
       "      <td>0.316221</td>\n",
       "      <td>847.429332</td>\n",
       "      <td>267.637396</td>\n",
       "      <td>0.315823</td>\n",
       "      <td>...</td>\n",
       "      <td>1.563205e+09</td>\n",
       "      <td>1.563205e+09</td>\n",
       "      <td>1.563206e+09</td>\n",
       "      <td>1.563206e+09</td>\n",
       "      <td>1.563206e+09</td>\n",
       "      <td>1.563206e+09</td>\n",
       "      <td>1.563206e+09</td>\n",
       "      <td>1.563206e+09</td>\n",
       "      <td>0.0</td>\n",
       "      <td>0.317548</td>\n",
       "    </tr>\n",
       "    <tr>\n",
       "      <th>461100</th>\n",
       "      <td>10552</td>\n",
       "      <td>10552</td>\n",
       "      <td>0.315460</td>\n",
       "      <td>1563204000</td>\n",
       "      <td>0.315460</td>\n",
       "      <td>0.315460</td>\n",
       "      <td>0.315460</td>\n",
       "      <td>0.000000</td>\n",
       "      <td>0.000000</td>\n",
       "      <td>0.315460</td>\n",
       "      <td>...</td>\n",
       "      <td>1.563205e+09</td>\n",
       "      <td>1.563205e+09</td>\n",
       "      <td>1.563205e+09</td>\n",
       "      <td>1.563205e+09</td>\n",
       "      <td>1.563206e+09</td>\n",
       "      <td>1.563206e+09</td>\n",
       "      <td>1.563206e+09</td>\n",
       "      <td>1.563206e+09</td>\n",
       "      <td>0.0</td>\n",
       "      <td>0.316703</td>\n",
       "    </tr>\n",
       "    <tr>\n",
       "      <th>461101</th>\n",
       "      <td>10553</td>\n",
       "      <td>10553</td>\n",
       "      <td>0.315460</td>\n",
       "      <td>1563204300</td>\n",
       "      <td>0.315460</td>\n",
       "      <td>0.315460</td>\n",
       "      <td>0.315460</td>\n",
       "      <td>0.000000</td>\n",
       "      <td>0.000000</td>\n",
       "      <td>0.315460</td>\n",
       "      <td>...</td>\n",
       "      <td>1.563205e+09</td>\n",
       "      <td>1.563205e+09</td>\n",
       "      <td>1.563205e+09</td>\n",
       "      <td>1.563205e+09</td>\n",
       "      <td>1.563206e+09</td>\n",
       "      <td>1.563206e+09</td>\n",
       "      <td>1.563206e+09</td>\n",
       "      <td>1.563206e+09</td>\n",
       "      <td>0.0</td>\n",
       "      <td>0.315857</td>\n",
       "    </tr>\n",
       "    <tr>\n",
       "      <th>461102</th>\n",
       "      <td>10554</td>\n",
       "      <td>10554</td>\n",
       "      <td>0.315460</td>\n",
       "      <td>1563204600</td>\n",
       "      <td>0.315460</td>\n",
       "      <td>0.315460</td>\n",
       "      <td>0.315460</td>\n",
       "      <td>0.000000</td>\n",
       "      <td>0.000000</td>\n",
       "      <td>0.315460</td>\n",
       "      <td>...</td>\n",
       "      <td>1.563205e+09</td>\n",
       "      <td>1.563205e+09</td>\n",
       "      <td>1.563205e+09</td>\n",
       "      <td>1.563205e+09</td>\n",
       "      <td>1.563206e+09</td>\n",
       "      <td>1.563206e+09</td>\n",
       "      <td>1.563206e+09</td>\n",
       "      <td>1.563206e+09</td>\n",
       "      <td>0.0</td>\n",
       "      <td>0.315597</td>\n",
       "    </tr>\n",
       "    <tr>\n",
       "      <th>461103</th>\n",
       "      <td>10555</td>\n",
       "      <td>10555</td>\n",
       "      <td>0.315036</td>\n",
       "      <td>1563204900</td>\n",
       "      <td>0.315036</td>\n",
       "      <td>0.315036</td>\n",
       "      <td>0.315036</td>\n",
       "      <td>1001.624998</td>\n",
       "      <td>315.547642</td>\n",
       "      <td>0.315036</td>\n",
       "      <td>...</td>\n",
       "      <td>1.563205e+09</td>\n",
       "      <td>1.563205e+09</td>\n",
       "      <td>1.563205e+09</td>\n",
       "      <td>1.563205e+09</td>\n",
       "      <td>1.563206e+09</td>\n",
       "      <td>1.563206e+09</td>\n",
       "      <td>1.563206e+09</td>\n",
       "      <td>1.563206e+09</td>\n",
       "      <td>0.0</td>\n",
       "      <td>0.315460</td>\n",
       "    </tr>\n",
       "    <tr>\n",
       "      <th>461104</th>\n",
       "      <td>10556</td>\n",
       "      <td>10556</td>\n",
       "      <td>0.316800</td>\n",
       "      <td>1563205200</td>\n",
       "      <td>0.316800</td>\n",
       "      <td>0.315122</td>\n",
       "      <td>0.315122</td>\n",
       "      <td>6638.620000</td>\n",
       "      <td>2100.623937</td>\n",
       "      <td>0.316425</td>\n",
       "      <td>...</td>\n",
       "      <td>1.563205e+09</td>\n",
       "      <td>1.563205e+09</td>\n",
       "      <td>1.563205e+09</td>\n",
       "      <td>1.563205e+09</td>\n",
       "      <td>1.563205e+09</td>\n",
       "      <td>1.563206e+09</td>\n",
       "      <td>1.563206e+09</td>\n",
       "      <td>1.563206e+09</td>\n",
       "      <td>0.0</td>\n",
       "      <td>0.315354</td>\n",
       "    </tr>\n",
       "    <tr>\n",
       "      <th>461105</th>\n",
       "      <td>10557</td>\n",
       "      <td>10557</td>\n",
       "      <td>0.319790</td>\n",
       "      <td>1563205500</td>\n",
       "      <td>0.319790</td>\n",
       "      <td>0.318843</td>\n",
       "      <td>0.318843</td>\n",
       "      <td>11513.795284</td>\n",
       "      <td>3680.997682</td>\n",
       "      <td>0.319703</td>\n",
       "      <td>...</td>\n",
       "      <td>1.563206e+09</td>\n",
       "      <td>1.563206e+09</td>\n",
       "      <td>1.563206e+09</td>\n",
       "      <td>1.563206e+09</td>\n",
       "      <td>1.563206e+09</td>\n",
       "      <td>1.563206e+09</td>\n",
       "      <td>1.563206e+09</td>\n",
       "      <td>1.563206e+09</td>\n",
       "      <td>-900.0</td>\n",
       "      <td>0.315689</td>\n",
       "    </tr>\n",
       "    <tr>\n",
       "      <th>461106</th>\n",
       "      <td>10558</td>\n",
       "      <td>10558</td>\n",
       "      <td>0.319790</td>\n",
       "      <td>1563205800</td>\n",
       "      <td>0.319790</td>\n",
       "      <td>0.319790</td>\n",
       "      <td>0.319790</td>\n",
       "      <td>0.000000</td>\n",
       "      <td>0.000000</td>\n",
       "      <td>0.319790</td>\n",
       "      <td>...</td>\n",
       "      <td>1.563206e+09</td>\n",
       "      <td>1.563206e+09</td>\n",
       "      <td>1.563206e+09</td>\n",
       "      <td>1.563206e+09</td>\n",
       "      <td>1.563206e+09</td>\n",
       "      <td>1.563206e+09</td>\n",
       "      <td>1.563206e+09</td>\n",
       "      <td>1.563206e+09</td>\n",
       "      <td>0.0</td>\n",
       "      <td>0.316771</td>\n",
       "    </tr>\n",
       "    <tr>\n",
       "      <th>461107</th>\n",
       "      <td>10559</td>\n",
       "      <td>10559</td>\n",
       "      <td>0.318843</td>\n",
       "      <td>1563206100</td>\n",
       "      <td>0.318843</td>\n",
       "      <td>0.318843</td>\n",
       "      <td>0.318843</td>\n",
       "      <td>500.000000</td>\n",
       "      <td>159.421515</td>\n",
       "      <td>0.318843</td>\n",
       "      <td>...</td>\n",
       "      <td>1.563206e+09</td>\n",
       "      <td>1.563206e+09</td>\n",
       "      <td>1.563206e+09</td>\n",
       "      <td>1.563206e+09</td>\n",
       "      <td>1.563206e+09</td>\n",
       "      <td>1.563206e+09</td>\n",
       "      <td>1.563206e+09</td>\n",
       "      <td>1.563382e+09</td>\n",
       "      <td>0.0</td>\n",
       "      <td>0.317854</td>\n",
       "    </tr>\n",
       "    <tr>\n",
       "      <th>461108</th>\n",
       "      <td>10560</td>\n",
       "      <td>10560</td>\n",
       "      <td>0.322885</td>\n",
       "      <td>1563206400</td>\n",
       "      <td>0.322885</td>\n",
       "      <td>0.319757</td>\n",
       "      <td>0.319757</td>\n",
       "      <td>791.251061</td>\n",
       "      <td>254.436628</td>\n",
       "      <td>0.321562</td>\n",
       "      <td>...</td>\n",
       "      <td>1.563206e+09</td>\n",
       "      <td>1.563206e+09</td>\n",
       "      <td>1.563206e+09</td>\n",
       "      <td>1.563206e+09</td>\n",
       "      <td>1.563206e+09</td>\n",
       "      <td>1.563206e+09</td>\n",
       "      <td>1.563206e+09</td>\n",
       "      <td>1.563206e+09</td>\n",
       "      <td>-175800.0</td>\n",
       "      <td>0.318806</td>\n",
       "    </tr>\n",
       "    <tr>\n",
       "      <th>461109</th>\n",
       "      <td>10561</td>\n",
       "      <td>10561</td>\n",
       "      <td>0.317822</td>\n",
       "      <td>1563206700</td>\n",
       "      <td>0.319776</td>\n",
       "      <td>0.317100</td>\n",
       "      <td>0.319776</td>\n",
       "      <td>3232.691141</td>\n",
       "      <td>1026.751441</td>\n",
       "      <td>0.317615</td>\n",
       "      <td>...</td>\n",
       "      <td>1.563382e+09</td>\n",
       "      <td>1.563382e+09</td>\n",
       "      <td>1.563382e+09</td>\n",
       "      <td>1.563382e+09</td>\n",
       "      <td>1.563382e+09</td>\n",
       "      <td>1.563382e+09</td>\n",
       "      <td>1.563382e+09</td>\n",
       "      <td>1.563382e+09</td>\n",
       "      <td>174600.0</td>\n",
       "      <td>0.320327</td>\n",
       "    </tr>\n",
       "    <tr>\n",
       "      <th>461110</th>\n",
       "      <td>10562</td>\n",
       "      <td>10562</td>\n",
       "      <td>0.318385</td>\n",
       "      <td>1563207000</td>\n",
       "      <td>0.318385</td>\n",
       "      <td>0.318385</td>\n",
       "      <td>0.318385</td>\n",
       "      <td>1570.423375</td>\n",
       "      <td>500.000000</td>\n",
       "      <td>0.318385</td>\n",
       "      <td>...</td>\n",
       "      <td>1.563207e+09</td>\n",
       "      <td>1.563207e+09</td>\n",
       "      <td>1.563207e+09</td>\n",
       "      <td>1.563207e+09</td>\n",
       "      <td>1.563208e+09</td>\n",
       "      <td>1.563208e+09</td>\n",
       "      <td>1.563208e+09</td>\n",
       "      <td>1.563382e+09</td>\n",
       "      <td>-174600.0</td>\n",
       "      <td>0.319835</td>\n",
       "    </tr>\n",
       "    <tr>\n",
       "      <th>461111</th>\n",
       "      <td>10563</td>\n",
       "      <td>10563</td>\n",
       "      <td>0.318385</td>\n",
       "      <td>1563207300</td>\n",
       "      <td>0.318385</td>\n",
       "      <td>0.318385</td>\n",
       "      <td>0.318385</td>\n",
       "      <td>0.000000</td>\n",
       "      <td>0.000000</td>\n",
       "      <td>0.318385</td>\n",
       "      <td>...</td>\n",
       "      <td>1.563208e+09</td>\n",
       "      <td>1.563208e+09</td>\n",
       "      <td>1.563208e+09</td>\n",
       "      <td>1.563208e+09</td>\n",
       "      <td>1.563208e+09</td>\n",
       "      <td>1.563382e+09</td>\n",
       "      <td>1.563382e+09</td>\n",
       "      <td>1.563382e+09</td>\n",
       "      <td>0.0</td>\n",
       "      <td>0.319484</td>\n",
       "    </tr>\n",
       "    <tr>\n",
       "      <th>461112</th>\n",
       "      <td>10564</td>\n",
       "      <td>10564</td>\n",
       "      <td>0.320000</td>\n",
       "      <td>1563207600</td>\n",
       "      <td>0.320000</td>\n",
       "      <td>0.318432</td>\n",
       "      <td>0.318432</td>\n",
       "      <td>10185.524017</td>\n",
       "      <td>3243.682827</td>\n",
       "      <td>0.318460</td>\n",
       "      <td>...</td>\n",
       "      <td>1.563208e+09</td>\n",
       "      <td>1.563208e+09</td>\n",
       "      <td>1.563208e+09</td>\n",
       "      <td>1.563208e+09</td>\n",
       "      <td>1.563208e+09</td>\n",
       "      <td>1.563382e+09</td>\n",
       "      <td>1.563382e+09</td>\n",
       "      <td>1.563382e+09</td>\n",
       "      <td>0.0</td>\n",
       "      <td>0.319370</td>\n",
       "    </tr>\n",
       "    <tr>\n",
       "      <th>461113</th>\n",
       "      <td>10565</td>\n",
       "      <td>10565</td>\n",
       "      <td>0.319433</td>\n",
       "      <td>1563207900</td>\n",
       "      <td>0.319433</td>\n",
       "      <td>0.319433</td>\n",
       "      <td>0.319433</td>\n",
       "      <td>1513.651807</td>\n",
       "      <td>483.509869</td>\n",
       "      <td>0.319433</td>\n",
       "      <td>...</td>\n",
       "      <td>1.563208e+09</td>\n",
       "      <td>1.563208e+09</td>\n",
       "      <td>1.563208e+09</td>\n",
       "      <td>1.563208e+09</td>\n",
       "      <td>1.563382e+09</td>\n",
       "      <td>1.563382e+09</td>\n",
       "      <td>1.563382e+09</td>\n",
       "      <td>1.563382e+09</td>\n",
       "      <td>0.0</td>\n",
       "      <td>0.318648</td>\n",
       "    </tr>\n",
       "    <tr>\n",
       "      <th>461114</th>\n",
       "      <td>10566</td>\n",
       "      <td>10566</td>\n",
       "      <td>0.315619</td>\n",
       "      <td>1563208200</td>\n",
       "      <td>0.319998</td>\n",
       "      <td>0.315619</td>\n",
       "      <td>0.319998</td>\n",
       "      <td>111.000000</td>\n",
       "      <td>35.497580</td>\n",
       "      <td>0.319798</td>\n",
       "      <td>...</td>\n",
       "      <td>1.563208e+09</td>\n",
       "      <td>1.563382e+09</td>\n",
       "      <td>1.563382e+09</td>\n",
       "      <td>1.563382e+09</td>\n",
       "      <td>1.563382e+09</td>\n",
       "      <td>1.563382e+09</td>\n",
       "      <td>1.563382e+09</td>\n",
       "      <td>1.563382e+09</td>\n",
       "      <td>173700.0</td>\n",
       "      <td>0.319051</td>\n",
       "    </tr>\n",
       "    <tr>\n",
       "      <th>461115</th>\n",
       "      <td>10567</td>\n",
       "      <td>10567</td>\n",
       "      <td>0.317976</td>\n",
       "      <td>1563208500</td>\n",
       "      <td>0.317976</td>\n",
       "      <td>0.317976</td>\n",
       "      <td>0.317976</td>\n",
       "      <td>10000.000000</td>\n",
       "      <td>3179.763500</td>\n",
       "      <td>0.317976</td>\n",
       "      <td>...</td>\n",
       "      <td>1.563208e+09</td>\n",
       "      <td>1.563208e+09</td>\n",
       "      <td>1.563208e+09</td>\n",
       "      <td>1.563208e+09</td>\n",
       "      <td>1.563208e+09</td>\n",
       "      <td>1.563208e+09</td>\n",
       "      <td>1.563209e+09</td>\n",
       "      <td>1.563209e+09</td>\n",
       "      <td>-173700.0</td>\n",
       "      <td>0.318359</td>\n",
       "    </tr>\n",
       "  </tbody>\n",
       "</table>\n",
       "<p>20 rows × 33 columns</p>\n",
       "</div>"
      ],
      "text/plain": [
       "        Unnamed: 0  Unnamed: 0.1     close        date      high       low  \\\n",
       "461096       10548         10548  0.318843  1563202800  0.318843  0.318843   \n",
       "461097       10549         10549  0.316500  1563203100  0.316560  0.316332   \n",
       "461098       10550         10550  0.316007  1563203400  0.316007  0.316007   \n",
       "461099       10551         10551  0.315460  1563203700  0.316221  0.315460   \n",
       "461100       10552         10552  0.315460  1563204000  0.315460  0.315460   \n",
       "461101       10553         10553  0.315460  1563204300  0.315460  0.315460   \n",
       "461102       10554         10554  0.315460  1563204600  0.315460  0.315460   \n",
       "461103       10555         10555  0.315036  1563204900  0.315036  0.315036   \n",
       "461104       10556         10556  0.316800  1563205200  0.316800  0.315122   \n",
       "461105       10557         10557  0.319790  1563205500  0.319790  0.318843   \n",
       "461106       10558         10558  0.319790  1563205800  0.319790  0.319790   \n",
       "461107       10559         10559  0.318843  1563206100  0.318843  0.318843   \n",
       "461108       10560         10560  0.322885  1563206400  0.322885  0.319757   \n",
       "461109       10561         10561  0.317822  1563206700  0.319776  0.317100   \n",
       "461110       10562         10562  0.318385  1563207000  0.318385  0.318385   \n",
       "461111       10563         10563  0.318385  1563207300  0.318385  0.318385   \n",
       "461112       10564         10564  0.320000  1563207600  0.320000  0.318432   \n",
       "461113       10565         10565  0.319433  1563207900  0.319433  0.319433   \n",
       "461114       10566         10566  0.315619  1563208200  0.319998  0.315619   \n",
       "461115       10567         10567  0.317976  1563208500  0.317976  0.317976   \n",
       "\n",
       "            open   quoteVolume       volume  weightedAverage  ...  \\\n",
       "461096  0.318843      0.000000     0.000000         0.318843  ...   \n",
       "461097  0.316560   2651.920401   839.282272         0.316481  ...   \n",
       "461098  0.316007     19.950000     6.304345         0.316007  ...   \n",
       "461099  0.316221    847.429332   267.637396         0.315823  ...   \n",
       "461100  0.315460      0.000000     0.000000         0.315460  ...   \n",
       "461101  0.315460      0.000000     0.000000         0.315460  ...   \n",
       "461102  0.315460      0.000000     0.000000         0.315460  ...   \n",
       "461103  0.315036   1001.624998   315.547642         0.315036  ...   \n",
       "461104  0.315122   6638.620000  2100.623937         0.316425  ...   \n",
       "461105  0.318843  11513.795284  3680.997682         0.319703  ...   \n",
       "461106  0.319790      0.000000     0.000000         0.319790  ...   \n",
       "461107  0.318843    500.000000   159.421515         0.318843  ...   \n",
       "461108  0.319757    791.251061   254.436628         0.321562  ...   \n",
       "461109  0.319776   3232.691141  1026.751441         0.317615  ...   \n",
       "461110  0.318385   1570.423375   500.000000         0.318385  ...   \n",
       "461111  0.318385      0.000000     0.000000         0.318385  ...   \n",
       "461112  0.318432  10185.524017  3243.682827         0.318460  ...   \n",
       "461113  0.319433   1513.651807   483.509869         0.319433  ...   \n",
       "461114  0.319998    111.000000    35.497580         0.319798  ...   \n",
       "461115  0.317976  10000.000000  3179.763500         0.317976  ...   \n",
       "\n",
       "       shift_open_0.1  shift_open_0.2  shift_open_0.30000000000000004  \\\n",
       "461096   1.563206e+09    1.563206e+09                    1.563206e+09   \n",
       "461097   1.563206e+09    1.563206e+09                    1.563206e+09   \n",
       "461098   1.563205e+09    1.563206e+09                    1.563206e+09   \n",
       "461099   1.563205e+09    1.563205e+09                    1.563206e+09   \n",
       "461100   1.563205e+09    1.563205e+09                    1.563205e+09   \n",
       "461101   1.563205e+09    1.563205e+09                    1.563205e+09   \n",
       "461102   1.563205e+09    1.563205e+09                    1.563205e+09   \n",
       "461103   1.563205e+09    1.563205e+09                    1.563205e+09   \n",
       "461104   1.563205e+09    1.563205e+09                    1.563205e+09   \n",
       "461105   1.563206e+09    1.563206e+09                    1.563206e+09   \n",
       "461106   1.563206e+09    1.563206e+09                    1.563206e+09   \n",
       "461107   1.563206e+09    1.563206e+09                    1.563206e+09   \n",
       "461108   1.563206e+09    1.563206e+09                    1.563206e+09   \n",
       "461109   1.563382e+09    1.563382e+09                    1.563382e+09   \n",
       "461110   1.563207e+09    1.563207e+09                    1.563207e+09   \n",
       "461111   1.563208e+09    1.563208e+09                    1.563208e+09   \n",
       "461112   1.563208e+09    1.563208e+09                    1.563208e+09   \n",
       "461113   1.563208e+09    1.563208e+09                    1.563208e+09   \n",
       "461114   1.563208e+09    1.563382e+09                    1.563382e+09   \n",
       "461115   1.563208e+09    1.563208e+09                    1.563208e+09   \n",
       "\n",
       "        shift_open_0.4  shift_open_0.5  shift_open_0.6000000000000001  \\\n",
       "461096    1.563206e+09    1.563206e+09                   1.563206e+09   \n",
       "461097    1.563206e+09    1.563206e+09                   1.563206e+09   \n",
       "461098    1.563206e+09    1.563206e+09                   1.563206e+09   \n",
       "461099    1.563206e+09    1.563206e+09                   1.563206e+09   \n",
       "461100    1.563205e+09    1.563206e+09                   1.563206e+09   \n",
       "461101    1.563205e+09    1.563206e+09                   1.563206e+09   \n",
       "461102    1.563205e+09    1.563206e+09                   1.563206e+09   \n",
       "461103    1.563205e+09    1.563206e+09                   1.563206e+09   \n",
       "461104    1.563205e+09    1.563205e+09                   1.563206e+09   \n",
       "461105    1.563206e+09    1.563206e+09                   1.563206e+09   \n",
       "461106    1.563206e+09    1.563206e+09                   1.563206e+09   \n",
       "461107    1.563206e+09    1.563206e+09                   1.563206e+09   \n",
       "461108    1.563206e+09    1.563206e+09                   1.563206e+09   \n",
       "461109    1.563382e+09    1.563382e+09                   1.563382e+09   \n",
       "461110    1.563207e+09    1.563208e+09                   1.563208e+09   \n",
       "461111    1.563208e+09    1.563208e+09                   1.563382e+09   \n",
       "461112    1.563208e+09    1.563208e+09                   1.563382e+09   \n",
       "461113    1.563208e+09    1.563382e+09                   1.563382e+09   \n",
       "461114    1.563382e+09    1.563382e+09                   1.563382e+09   \n",
       "461115    1.563208e+09    1.563208e+09                   1.563208e+09   \n",
       "\n",
       "        shift_open_0.8  shift_open_1.0  diff_0.6  2H_RA_on_Close  \n",
       "461096    1.563206e+09    1.563206e+09       0.0        0.317355  \n",
       "461097    1.563206e+09    1.563206e+09     900.0        0.317851  \n",
       "461098    1.563206e+09    1.563206e+09       0.0        0.317761  \n",
       "461099    1.563206e+09    1.563206e+09       0.0        0.317548  \n",
       "461100    1.563206e+09    1.563206e+09       0.0        0.316703  \n",
       "461101    1.563206e+09    1.563206e+09       0.0        0.315857  \n",
       "461102    1.563206e+09    1.563206e+09       0.0        0.315597  \n",
       "461103    1.563206e+09    1.563206e+09       0.0        0.315460  \n",
       "461104    1.563206e+09    1.563206e+09       0.0        0.315354  \n",
       "461105    1.563206e+09    1.563206e+09    -900.0        0.315689  \n",
       "461106    1.563206e+09    1.563206e+09       0.0        0.316771  \n",
       "461107    1.563206e+09    1.563382e+09       0.0        0.317854  \n",
       "461108    1.563206e+09    1.563206e+09 -175800.0        0.318806  \n",
       "461109    1.563382e+09    1.563382e+09  174600.0        0.320327  \n",
       "461110    1.563208e+09    1.563382e+09 -174600.0        0.319835  \n",
       "461111    1.563382e+09    1.563382e+09       0.0        0.319484  \n",
       "461112    1.563382e+09    1.563382e+09       0.0        0.319370  \n",
       "461113    1.563382e+09    1.563382e+09       0.0        0.318648  \n",
       "461114    1.563382e+09    1.563382e+09  173700.0        0.319051  \n",
       "461115    1.563209e+09    1.563209e+09 -173700.0        0.318359  \n",
       "\n",
       "[20 rows x 33 columns]"
      ]
     },
     "execution_count": 37,
     "metadata": {},
     "output_type": "execute_result"
    }
   ],
   "source": [
    "XRP_Analysis_table[-5000:-4980]"
   ]
  },
  {
   "cell_type": "code",
   "execution_count": null,
   "metadata": {},
   "outputs": [],
   "source": []
  },
  {
   "cell_type": "code",
   "execution_count": null,
   "metadata": {},
   "outputs": [],
   "source": []
  },
  {
   "cell_type": "code",
   "execution_count": null,
   "metadata": {},
   "outputs": [],
   "source": []
  },
  {
   "cell_type": "code",
   "execution_count": 38,
   "metadata": {},
   "outputs": [
    {
     "data": {
      "text/html": [
       "<div>\n",
       "<style scoped>\n",
       "    .dataframe tbody tr th:only-of-type {\n",
       "        vertical-align: middle;\n",
       "    }\n",
       "\n",
       "    .dataframe tbody tr th {\n",
       "        vertical-align: top;\n",
       "    }\n",
       "\n",
       "    .dataframe thead th {\n",
       "        text-align: right;\n",
       "    }\n",
       "</style>\n",
       "<table border=\"1\" class=\"dataframe\">\n",
       "  <thead>\n",
       "    <tr style=\"text-align: right;\">\n",
       "      <th></th>\n",
       "      <th>datetime_real</th>\n",
       "      <th>close</th>\n",
       "      <th>high</th>\n",
       "      <th>low</th>\n",
       "      <th>open</th>\n",
       "      <th>quoteVolume</th>\n",
       "      <th>volume</th>\n",
       "      <th>weightedAverage</th>\n",
       "    </tr>\n",
       "    <tr>\n",
       "      <th>date</th>\n",
       "      <th></th>\n",
       "      <th></th>\n",
       "      <th></th>\n",
       "      <th></th>\n",
       "      <th></th>\n",
       "      <th></th>\n",
       "      <th></th>\n",
       "      <th></th>\n",
       "    </tr>\n",
       "  </thead>\n",
       "  <tbody>\n",
       "    <tr>\n",
       "      <th>1563202800</th>\n",
       "      <td>2019-07-15 16:00:00</td>\n",
       "      <td>0.318843</td>\n",
       "      <td>0.318843</td>\n",
       "      <td>0.318843</td>\n",
       "      <td>0.318843</td>\n",
       "      <td>0.000000</td>\n",
       "      <td>0.000000</td>\n",
       "      <td>0.318843</td>\n",
       "    </tr>\n",
       "    <tr>\n",
       "      <th>1563203100</th>\n",
       "      <td>2019-07-15 16:05:00</td>\n",
       "      <td>0.316500</td>\n",
       "      <td>0.316560</td>\n",
       "      <td>0.316332</td>\n",
       "      <td>0.316560</td>\n",
       "      <td>2651.920401</td>\n",
       "      <td>839.282272</td>\n",
       "      <td>0.316481</td>\n",
       "    </tr>\n",
       "    <tr>\n",
       "      <th>1563203400</th>\n",
       "      <td>2019-07-15 16:10:00</td>\n",
       "      <td>0.316007</td>\n",
       "      <td>0.316007</td>\n",
       "      <td>0.316007</td>\n",
       "      <td>0.316007</td>\n",
       "      <td>19.950000</td>\n",
       "      <td>6.304345</td>\n",
       "      <td>0.316007</td>\n",
       "    </tr>\n",
       "    <tr>\n",
       "      <th>1563203700</th>\n",
       "      <td>2019-07-15 16:15:00</td>\n",
       "      <td>0.315460</td>\n",
       "      <td>0.316221</td>\n",
       "      <td>0.315460</td>\n",
       "      <td>0.316221</td>\n",
       "      <td>847.429332</td>\n",
       "      <td>267.637396</td>\n",
       "      <td>0.315823</td>\n",
       "    </tr>\n",
       "    <tr>\n",
       "      <th>1563204000</th>\n",
       "      <td>2019-07-15 16:20:00</td>\n",
       "      <td>0.315460</td>\n",
       "      <td>0.315460</td>\n",
       "      <td>0.315460</td>\n",
       "      <td>0.315460</td>\n",
       "      <td>0.000000</td>\n",
       "      <td>0.000000</td>\n",
       "      <td>0.315460</td>\n",
       "    </tr>\n",
       "    <tr>\n",
       "      <th>1563204300</th>\n",
       "      <td>2019-07-15 16:25:00</td>\n",
       "      <td>0.315460</td>\n",
       "      <td>0.315460</td>\n",
       "      <td>0.315460</td>\n",
       "      <td>0.315460</td>\n",
       "      <td>0.000000</td>\n",
       "      <td>0.000000</td>\n",
       "      <td>0.315460</td>\n",
       "    </tr>\n",
       "    <tr>\n",
       "      <th>1563204600</th>\n",
       "      <td>2019-07-15 16:30:00</td>\n",
       "      <td>0.315460</td>\n",
       "      <td>0.315460</td>\n",
       "      <td>0.315460</td>\n",
       "      <td>0.315460</td>\n",
       "      <td>0.000000</td>\n",
       "      <td>0.000000</td>\n",
       "      <td>0.315460</td>\n",
       "    </tr>\n",
       "    <tr>\n",
       "      <th>1563204900</th>\n",
       "      <td>2019-07-15 16:35:00</td>\n",
       "      <td>0.315036</td>\n",
       "      <td>0.315036</td>\n",
       "      <td>0.315036</td>\n",
       "      <td>0.315036</td>\n",
       "      <td>1001.624998</td>\n",
       "      <td>315.547642</td>\n",
       "      <td>0.315036</td>\n",
       "    </tr>\n",
       "    <tr>\n",
       "      <th>1563205200</th>\n",
       "      <td>2019-07-15 16:40:00</td>\n",
       "      <td>0.316800</td>\n",
       "      <td>0.316800</td>\n",
       "      <td>0.315122</td>\n",
       "      <td>0.315122</td>\n",
       "      <td>6638.620000</td>\n",
       "      <td>2100.623937</td>\n",
       "      <td>0.316425</td>\n",
       "    </tr>\n",
       "    <tr>\n",
       "      <th>1563205500</th>\n",
       "      <td>2019-07-15 16:45:00</td>\n",
       "      <td>0.319790</td>\n",
       "      <td>0.319790</td>\n",
       "      <td>0.318843</td>\n",
       "      <td>0.318843</td>\n",
       "      <td>11513.795284</td>\n",
       "      <td>3680.997682</td>\n",
       "      <td>0.319703</td>\n",
       "    </tr>\n",
       "    <tr>\n",
       "      <th>1563205800</th>\n",
       "      <td>2019-07-15 16:50:00</td>\n",
       "      <td>0.319790</td>\n",
       "      <td>0.319790</td>\n",
       "      <td>0.319790</td>\n",
       "      <td>0.319790</td>\n",
       "      <td>0.000000</td>\n",
       "      <td>0.000000</td>\n",
       "      <td>0.319790</td>\n",
       "    </tr>\n",
       "    <tr>\n",
       "      <th>1563206100</th>\n",
       "      <td>2019-07-15 16:55:00</td>\n",
       "      <td>0.318843</td>\n",
       "      <td>0.318843</td>\n",
       "      <td>0.318843</td>\n",
       "      <td>0.318843</td>\n",
       "      <td>500.000000</td>\n",
       "      <td>159.421515</td>\n",
       "      <td>0.318843</td>\n",
       "    </tr>\n",
       "    <tr>\n",
       "      <th>1563206400</th>\n",
       "      <td>2019-07-15 17:00:00</td>\n",
       "      <td>0.322885</td>\n",
       "      <td>0.322885</td>\n",
       "      <td>0.319757</td>\n",
       "      <td>0.319757</td>\n",
       "      <td>791.251061</td>\n",
       "      <td>254.436628</td>\n",
       "      <td>0.321562</td>\n",
       "    </tr>\n",
       "    <tr>\n",
       "      <th>1563206700</th>\n",
       "      <td>2019-07-15 17:05:00</td>\n",
       "      <td>0.317822</td>\n",
       "      <td>0.319776</td>\n",
       "      <td>0.317100</td>\n",
       "      <td>0.319776</td>\n",
       "      <td>3232.691141</td>\n",
       "      <td>1026.751441</td>\n",
       "      <td>0.317615</td>\n",
       "    </tr>\n",
       "    <tr>\n",
       "      <th>1563207000</th>\n",
       "      <td>2019-07-15 17:10:00</td>\n",
       "      <td>0.318385</td>\n",
       "      <td>0.318385</td>\n",
       "      <td>0.318385</td>\n",
       "      <td>0.318385</td>\n",
       "      <td>1570.423375</td>\n",
       "      <td>500.000000</td>\n",
       "      <td>0.318385</td>\n",
       "    </tr>\n",
       "    <tr>\n",
       "      <th>1563207300</th>\n",
       "      <td>2019-07-15 17:15:00</td>\n",
       "      <td>0.318385</td>\n",
       "      <td>0.318385</td>\n",
       "      <td>0.318385</td>\n",
       "      <td>0.318385</td>\n",
       "      <td>0.000000</td>\n",
       "      <td>0.000000</td>\n",
       "      <td>0.318385</td>\n",
       "    </tr>\n",
       "    <tr>\n",
       "      <th>1563207600</th>\n",
       "      <td>2019-07-15 17:20:00</td>\n",
       "      <td>0.320000</td>\n",
       "      <td>0.320000</td>\n",
       "      <td>0.318432</td>\n",
       "      <td>0.318432</td>\n",
       "      <td>10185.524017</td>\n",
       "      <td>3243.682827</td>\n",
       "      <td>0.318460</td>\n",
       "    </tr>\n",
       "    <tr>\n",
       "      <th>1563207900</th>\n",
       "      <td>2019-07-15 17:25:00</td>\n",
       "      <td>0.319433</td>\n",
       "      <td>0.319433</td>\n",
       "      <td>0.319433</td>\n",
       "      <td>0.319433</td>\n",
       "      <td>1513.651807</td>\n",
       "      <td>483.509869</td>\n",
       "      <td>0.319433</td>\n",
       "    </tr>\n",
       "    <tr>\n",
       "      <th>1563208200</th>\n",
       "      <td>2019-07-15 17:30:00</td>\n",
       "      <td>0.315619</td>\n",
       "      <td>0.319998</td>\n",
       "      <td>0.315619</td>\n",
       "      <td>0.319998</td>\n",
       "      <td>111.000000</td>\n",
       "      <td>35.497580</td>\n",
       "      <td>0.319798</td>\n",
       "    </tr>\n",
       "    <tr>\n",
       "      <th>1563208500</th>\n",
       "      <td>2019-07-15 17:35:00</td>\n",
       "      <td>0.317976</td>\n",
       "      <td>0.317976</td>\n",
       "      <td>0.317976</td>\n",
       "      <td>0.317976</td>\n",
       "      <td>10000.000000</td>\n",
       "      <td>3179.763500</td>\n",
       "      <td>0.317976</td>\n",
       "    </tr>\n",
       "    <tr>\n",
       "      <th>1563208800</th>\n",
       "      <td>2019-07-15 17:40:00</td>\n",
       "      <td>0.318905</td>\n",
       "      <td>0.319554</td>\n",
       "      <td>0.318905</td>\n",
       "      <td>0.319554</td>\n",
       "      <td>5326.704464</td>\n",
       "      <td>1700.391580</td>\n",
       "      <td>0.319220</td>\n",
       "    </tr>\n",
       "    <tr>\n",
       "      <th>1563209100</th>\n",
       "      <td>2019-07-15 17:45:00</td>\n",
       "      <td>0.317189</td>\n",
       "      <td>0.319672</td>\n",
       "      <td>0.317189</td>\n",
       "      <td>0.319672</td>\n",
       "      <td>1129.123074</td>\n",
       "      <td>360.198789</td>\n",
       "      <td>0.319008</td>\n",
       "    </tr>\n",
       "    <tr>\n",
       "      <th>1563209400</th>\n",
       "      <td>2019-07-15 17:50:00</td>\n",
       "      <td>0.317189</td>\n",
       "      <td>0.317189</td>\n",
       "      <td>0.317189</td>\n",
       "      <td>0.317189</td>\n",
       "      <td>2271.125389</td>\n",
       "      <td>720.375401</td>\n",
       "      <td>0.317189</td>\n",
       "    </tr>\n",
       "    <tr>\n",
       "      <th>1563209700</th>\n",
       "      <td>2019-07-15 17:55:00</td>\n",
       "      <td>0.319850</td>\n",
       "      <td>0.319853</td>\n",
       "      <td>0.319850</td>\n",
       "      <td>0.319853</td>\n",
       "      <td>340.093961</td>\n",
       "      <td>108.779930</td>\n",
       "      <td>0.319853</td>\n",
       "    </tr>\n",
       "    <tr>\n",
       "      <th>1563210000</th>\n",
       "      <td>2019-07-15 18:00:00</td>\n",
       "      <td>0.318016</td>\n",
       "      <td>0.318016</td>\n",
       "      <td>0.317566</td>\n",
       "      <td>0.317566</td>\n",
       "      <td>3419.367292</td>\n",
       "      <td>1085.996317</td>\n",
       "      <td>0.317602</td>\n",
       "    </tr>\n",
       "    <tr>\n",
       "      <th>1563210300</th>\n",
       "      <td>2019-07-15 18:05:00</td>\n",
       "      <td>0.318315</td>\n",
       "      <td>0.318315</td>\n",
       "      <td>0.317556</td>\n",
       "      <td>0.318315</td>\n",
       "      <td>2470.472133</td>\n",
       "      <td>786.356289</td>\n",
       "      <td>0.318302</td>\n",
       "    </tr>\n",
       "    <tr>\n",
       "      <th>1563210600</th>\n",
       "      <td>2019-07-15 18:10:00</td>\n",
       "      <td>0.317556</td>\n",
       "      <td>0.317556</td>\n",
       "      <td>0.317556</td>\n",
       "      <td>0.317556</td>\n",
       "      <td>472.904555</td>\n",
       "      <td>150.173750</td>\n",
       "      <td>0.317556</td>\n",
       "    </tr>\n",
       "    <tr>\n",
       "      <th>1563210900</th>\n",
       "      <td>2019-07-15 18:15:00</td>\n",
       "      <td>0.316891</td>\n",
       "      <td>0.316891</td>\n",
       "      <td>0.316891</td>\n",
       "      <td>0.316891</td>\n",
       "      <td>1222.867120</td>\n",
       "      <td>387.515829</td>\n",
       "      <td>0.316891</td>\n",
       "    </tr>\n",
       "    <tr>\n",
       "      <th>1563211200</th>\n",
       "      <td>2019-07-15 18:20:00</td>\n",
       "      <td>0.317249</td>\n",
       "      <td>0.317249</td>\n",
       "      <td>0.315806</td>\n",
       "      <td>0.315806</td>\n",
       "      <td>418.806314</td>\n",
       "      <td>132.337988</td>\n",
       "      <td>0.315989</td>\n",
       "    </tr>\n",
       "    <tr>\n",
       "      <th>1563211500</th>\n",
       "      <td>2019-07-15 18:25:00</td>\n",
       "      <td>0.317246</td>\n",
       "      <td>0.317246</td>\n",
       "      <td>0.317246</td>\n",
       "      <td>0.317246</td>\n",
       "      <td>50.000000</td>\n",
       "      <td>15.862299</td>\n",
       "      <td>0.317246</td>\n",
       "    </tr>\n",
       "    <tr>\n",
       "      <th>...</th>\n",
       "      <td>...</td>\n",
       "      <td>...</td>\n",
       "      <td>...</td>\n",
       "      <td>...</td>\n",
       "      <td>...</td>\n",
       "      <td>...</td>\n",
       "      <td>...</td>\n",
       "      <td>...</td>\n",
       "    </tr>\n",
       "    <tr>\n",
       "      <th>1563343800</th>\n",
       "      <td>2019-07-17 07:10:00</td>\n",
       "      <td>0.297575</td>\n",
       "      <td>0.297575</td>\n",
       "      <td>0.297575</td>\n",
       "      <td>0.297575</td>\n",
       "      <td>139.494741</td>\n",
       "      <td>41.510192</td>\n",
       "      <td>0.297575</td>\n",
       "    </tr>\n",
       "    <tr>\n",
       "      <th>1563344100</th>\n",
       "      <td>2019-07-17 07:15:00</td>\n",
       "      <td>0.297575</td>\n",
       "      <td>0.297575</td>\n",
       "      <td>0.297575</td>\n",
       "      <td>0.297575</td>\n",
       "      <td>0.000000</td>\n",
       "      <td>0.000000</td>\n",
       "      <td>0.297575</td>\n",
       "    </tr>\n",
       "    <tr>\n",
       "      <th>1563344400</th>\n",
       "      <td>2019-07-17 07:20:00</td>\n",
       "      <td>0.298519</td>\n",
       "      <td>0.298689</td>\n",
       "      <td>0.298191</td>\n",
       "      <td>0.298191</td>\n",
       "      <td>292.610982</td>\n",
       "      <td>87.329389</td>\n",
       "      <td>0.298449</td>\n",
       "    </tr>\n",
       "    <tr>\n",
       "      <th>1563344700</th>\n",
       "      <td>2019-07-17 07:25:00</td>\n",
       "      <td>0.298191</td>\n",
       "      <td>0.298191</td>\n",
       "      <td>0.298191</td>\n",
       "      <td>0.298191</td>\n",
       "      <td>9377.957546</td>\n",
       "      <td>2796.420851</td>\n",
       "      <td>0.298191</td>\n",
       "    </tr>\n",
       "    <tr>\n",
       "      <th>1563345000</th>\n",
       "      <td>2019-07-17 07:30:00</td>\n",
       "      <td>0.297007</td>\n",
       "      <td>0.297007</td>\n",
       "      <td>0.297007</td>\n",
       "      <td>0.297007</td>\n",
       "      <td>33.451734</td>\n",
       "      <td>9.935416</td>\n",
       "      <td>0.297007</td>\n",
       "    </tr>\n",
       "    <tr>\n",
       "      <th>1563345300</th>\n",
       "      <td>2019-07-17 07:35:00</td>\n",
       "      <td>0.297007</td>\n",
       "      <td>0.297007</td>\n",
       "      <td>0.297007</td>\n",
       "      <td>0.297007</td>\n",
       "      <td>0.000000</td>\n",
       "      <td>0.000000</td>\n",
       "      <td>0.297007</td>\n",
       "    </tr>\n",
       "    <tr>\n",
       "      <th>1563345600</th>\n",
       "      <td>2019-07-17 07:40:00</td>\n",
       "      <td>0.298970</td>\n",
       "      <td>0.298970</td>\n",
       "      <td>0.298700</td>\n",
       "      <td>0.298700</td>\n",
       "      <td>171.731302</td>\n",
       "      <td>51.314344</td>\n",
       "      <td>0.298806</td>\n",
       "    </tr>\n",
       "    <tr>\n",
       "      <th>1563345900</th>\n",
       "      <td>2019-07-17 07:45:00</td>\n",
       "      <td>0.299478</td>\n",
       "      <td>0.299478</td>\n",
       "      <td>0.299478</td>\n",
       "      <td>0.299478</td>\n",
       "      <td>33.448169</td>\n",
       "      <td>10.016984</td>\n",
       "      <td>0.299478</td>\n",
       "    </tr>\n",
       "    <tr>\n",
       "      <th>1563346200</th>\n",
       "      <td>2019-07-17 07:50:00</td>\n",
       "      <td>0.299935</td>\n",
       "      <td>0.299935</td>\n",
       "      <td>0.299478</td>\n",
       "      <td>0.299478</td>\n",
       "      <td>706.865019</td>\n",
       "      <td>211.723450</td>\n",
       "      <td>0.299525</td>\n",
       "    </tr>\n",
       "    <tr>\n",
       "      <th>1563346500</th>\n",
       "      <td>2019-07-17 07:55:00</td>\n",
       "      <td>0.299002</td>\n",
       "      <td>0.299002</td>\n",
       "      <td>0.298470</td>\n",
       "      <td>0.298470</td>\n",
       "      <td>37.364548</td>\n",
       "      <td>11.169959</td>\n",
       "      <td>0.298945</td>\n",
       "    </tr>\n",
       "    <tr>\n",
       "      <th>1563346800</th>\n",
       "      <td>2019-07-17 08:00:00</td>\n",
       "      <td>0.300031</td>\n",
       "      <td>0.300450</td>\n",
       "      <td>0.299935</td>\n",
       "      <td>0.299935</td>\n",
       "      <td>4009.230538</td>\n",
       "      <td>1202.852613</td>\n",
       "      <td>0.300021</td>\n",
       "    </tr>\n",
       "    <tr>\n",
       "      <th>1563347100</th>\n",
       "      <td>2019-07-17 08:05:00</td>\n",
       "      <td>0.300450</td>\n",
       "      <td>0.300796</td>\n",
       "      <td>0.300450</td>\n",
       "      <td>0.300450</td>\n",
       "      <td>3702.501388</td>\n",
       "      <td>1112.497489</td>\n",
       "      <td>0.300472</td>\n",
       "    </tr>\n",
       "    <tr>\n",
       "      <th>1563347400</th>\n",
       "      <td>2019-07-17 08:10:00</td>\n",
       "      <td>0.300450</td>\n",
       "      <td>0.301277</td>\n",
       "      <td>0.300450</td>\n",
       "      <td>0.301277</td>\n",
       "      <td>37.247107</td>\n",
       "      <td>11.218419</td>\n",
       "      <td>0.301189</td>\n",
       "    </tr>\n",
       "    <tr>\n",
       "      <th>1563347700</th>\n",
       "      <td>2019-07-17 08:15:00</td>\n",
       "      <td>0.299074</td>\n",
       "      <td>0.299652</td>\n",
       "      <td>0.299074</td>\n",
       "      <td>0.299652</td>\n",
       "      <td>356.509200</td>\n",
       "      <td>106.809586</td>\n",
       "      <td>0.299598</td>\n",
       "    </tr>\n",
       "    <tr>\n",
       "      <th>1563348000</th>\n",
       "      <td>2019-07-17 08:20:00</td>\n",
       "      <td>0.299074</td>\n",
       "      <td>0.299074</td>\n",
       "      <td>0.299074</td>\n",
       "      <td>0.299074</td>\n",
       "      <td>0.000000</td>\n",
       "      <td>0.000000</td>\n",
       "      <td>0.299074</td>\n",
       "    </tr>\n",
       "    <tr>\n",
       "      <th>1563348300</th>\n",
       "      <td>2019-07-17 08:25:00</td>\n",
       "      <td>0.301729</td>\n",
       "      <td>0.301729</td>\n",
       "      <td>0.301729</td>\n",
       "      <td>0.301729</td>\n",
       "      <td>4.838000</td>\n",
       "      <td>1.459764</td>\n",
       "      <td>0.301729</td>\n",
       "    </tr>\n",
       "    <tr>\n",
       "      <th>1563348600</th>\n",
       "      <td>2019-07-17 08:30:00</td>\n",
       "      <td>0.300393</td>\n",
       "      <td>0.301729</td>\n",
       "      <td>0.300393</td>\n",
       "      <td>0.301729</td>\n",
       "      <td>66.873690</td>\n",
       "      <td>20.088365</td>\n",
       "      <td>0.300393</td>\n",
       "    </tr>\n",
       "    <tr>\n",
       "      <th>1563348900</th>\n",
       "      <td>2019-07-17 08:35:00</td>\n",
       "      <td>0.300183</td>\n",
       "      <td>0.300183</td>\n",
       "      <td>0.300183</td>\n",
       "      <td>0.300183</td>\n",
       "      <td>1545.729491</td>\n",
       "      <td>464.001314</td>\n",
       "      <td>0.300183</td>\n",
       "    </tr>\n",
       "    <tr>\n",
       "      <th>1563349200</th>\n",
       "      <td>2019-07-17 08:40:00</td>\n",
       "      <td>0.301747</td>\n",
       "      <td>0.303569</td>\n",
       "      <td>0.301746</td>\n",
       "      <td>0.302000</td>\n",
       "      <td>9329.925725</td>\n",
       "      <td>2816.700579</td>\n",
       "      <td>0.301900</td>\n",
       "    </tr>\n",
       "    <tr>\n",
       "      <th>1563349500</th>\n",
       "      <td>2019-07-17 08:45:00</td>\n",
       "      <td>0.303566</td>\n",
       "      <td>0.303566</td>\n",
       "      <td>0.303566</td>\n",
       "      <td>0.303566</td>\n",
       "      <td>33.140391</td>\n",
       "      <td>10.060312</td>\n",
       "      <td>0.303566</td>\n",
       "    </tr>\n",
       "    <tr>\n",
       "      <th>1563349800</th>\n",
       "      <td>2019-07-17 08:50:00</td>\n",
       "      <td>0.300001</td>\n",
       "      <td>0.300188</td>\n",
       "      <td>0.300001</td>\n",
       "      <td>0.300188</td>\n",
       "      <td>1350.839041</td>\n",
       "      <td>405.504094</td>\n",
       "      <td>0.300187</td>\n",
       "    </tr>\n",
       "    <tr>\n",
       "      <th>1563350100</th>\n",
       "      <td>2019-07-17 08:55:00</td>\n",
       "      <td>0.300001</td>\n",
       "      <td>0.300001</td>\n",
       "      <td>0.300001</td>\n",
       "      <td>0.300001</td>\n",
       "      <td>33.057540</td>\n",
       "      <td>9.917303</td>\n",
       "      <td>0.300001</td>\n",
       "    </tr>\n",
       "    <tr>\n",
       "      <th>1563350400</th>\n",
       "      <td>2019-07-17 09:00:00</td>\n",
       "      <td>0.300001</td>\n",
       "      <td>0.300001</td>\n",
       "      <td>0.300001</td>\n",
       "      <td>0.300001</td>\n",
       "      <td>0.000000</td>\n",
       "      <td>0.000000</td>\n",
       "      <td>0.300001</td>\n",
       "    </tr>\n",
       "    <tr>\n",
       "      <th>1563350700</th>\n",
       "      <td>2019-07-17 09:05:00</td>\n",
       "      <td>0.300740</td>\n",
       "      <td>0.300740</td>\n",
       "      <td>0.300330</td>\n",
       "      <td>0.300510</td>\n",
       "      <td>6154.596870</td>\n",
       "      <td>1849.560342</td>\n",
       "      <td>0.300517</td>\n",
       "    </tr>\n",
       "    <tr>\n",
       "      <th>1563351000</th>\n",
       "      <td>2019-07-17 09:10:00</td>\n",
       "      <td>0.300000</td>\n",
       "      <td>0.300001</td>\n",
       "      <td>0.300000</td>\n",
       "      <td>0.300001</td>\n",
       "      <td>1170.000000</td>\n",
       "      <td>351.000400</td>\n",
       "      <td>0.300000</td>\n",
       "    </tr>\n",
       "    <tr>\n",
       "      <th>1563351300</th>\n",
       "      <td>2019-07-17 09:15:00</td>\n",
       "      <td>0.300212</td>\n",
       "      <td>0.300361</td>\n",
       "      <td>0.300212</td>\n",
       "      <td>0.300361</td>\n",
       "      <td>375.812379</td>\n",
       "      <td>112.828259</td>\n",
       "      <td>0.300225</td>\n",
       "    </tr>\n",
       "    <tr>\n",
       "      <th>1563351600</th>\n",
       "      <td>2019-07-17 09:20:00</td>\n",
       "      <td>0.300212</td>\n",
       "      <td>0.300212</td>\n",
       "      <td>0.300212</td>\n",
       "      <td>0.300212</td>\n",
       "      <td>0.000000</td>\n",
       "      <td>0.000000</td>\n",
       "      <td>0.300212</td>\n",
       "    </tr>\n",
       "    <tr>\n",
       "      <th>1563351900</th>\n",
       "      <td>2019-07-17 09:25:00</td>\n",
       "      <td>0.300212</td>\n",
       "      <td>0.300212</td>\n",
       "      <td>0.300212</td>\n",
       "      <td>0.300212</td>\n",
       "      <td>0.000000</td>\n",
       "      <td>0.000000</td>\n",
       "      <td>0.300212</td>\n",
       "    </tr>\n",
       "    <tr>\n",
       "      <th>1563352200</th>\n",
       "      <td>2019-07-17 09:30:00</td>\n",
       "      <td>0.301000</td>\n",
       "      <td>0.301000</td>\n",
       "      <td>0.301000</td>\n",
       "      <td>0.301000</td>\n",
       "      <td>10.000000</td>\n",
       "      <td>3.010000</td>\n",
       "      <td>0.301000</td>\n",
       "    </tr>\n",
       "    <tr>\n",
       "      <th>1563352500</th>\n",
       "      <td>2019-07-17 09:35:00</td>\n",
       "      <td>0.301000</td>\n",
       "      <td>0.301000</td>\n",
       "      <td>0.301000</td>\n",
       "      <td>0.301000</td>\n",
       "      <td>0.000000</td>\n",
       "      <td>0.000000</td>\n",
       "      <td>0.301000</td>\n",
       "    </tr>\n",
       "  </tbody>\n",
       "</table>\n",
       "<p>500 rows × 8 columns</p>\n",
       "</div>"
      ],
      "text/plain": [
       "                  datetime_real     close      high       low      open  \\\n",
       "date                                                                      \n",
       "1563202800  2019-07-15 16:00:00  0.318843  0.318843  0.318843  0.318843   \n",
       "1563203100  2019-07-15 16:05:00  0.316500  0.316560  0.316332  0.316560   \n",
       "1563203400  2019-07-15 16:10:00  0.316007  0.316007  0.316007  0.316007   \n",
       "1563203700  2019-07-15 16:15:00  0.315460  0.316221  0.315460  0.316221   \n",
       "1563204000  2019-07-15 16:20:00  0.315460  0.315460  0.315460  0.315460   \n",
       "1563204300  2019-07-15 16:25:00  0.315460  0.315460  0.315460  0.315460   \n",
       "1563204600  2019-07-15 16:30:00  0.315460  0.315460  0.315460  0.315460   \n",
       "1563204900  2019-07-15 16:35:00  0.315036  0.315036  0.315036  0.315036   \n",
       "1563205200  2019-07-15 16:40:00  0.316800  0.316800  0.315122  0.315122   \n",
       "1563205500  2019-07-15 16:45:00  0.319790  0.319790  0.318843  0.318843   \n",
       "1563205800  2019-07-15 16:50:00  0.319790  0.319790  0.319790  0.319790   \n",
       "1563206100  2019-07-15 16:55:00  0.318843  0.318843  0.318843  0.318843   \n",
       "1563206400  2019-07-15 17:00:00  0.322885  0.322885  0.319757  0.319757   \n",
       "1563206700  2019-07-15 17:05:00  0.317822  0.319776  0.317100  0.319776   \n",
       "1563207000  2019-07-15 17:10:00  0.318385  0.318385  0.318385  0.318385   \n",
       "1563207300  2019-07-15 17:15:00  0.318385  0.318385  0.318385  0.318385   \n",
       "1563207600  2019-07-15 17:20:00  0.320000  0.320000  0.318432  0.318432   \n",
       "1563207900  2019-07-15 17:25:00  0.319433  0.319433  0.319433  0.319433   \n",
       "1563208200  2019-07-15 17:30:00  0.315619  0.319998  0.315619  0.319998   \n",
       "1563208500  2019-07-15 17:35:00  0.317976  0.317976  0.317976  0.317976   \n",
       "1563208800  2019-07-15 17:40:00  0.318905  0.319554  0.318905  0.319554   \n",
       "1563209100  2019-07-15 17:45:00  0.317189  0.319672  0.317189  0.319672   \n",
       "1563209400  2019-07-15 17:50:00  0.317189  0.317189  0.317189  0.317189   \n",
       "1563209700  2019-07-15 17:55:00  0.319850  0.319853  0.319850  0.319853   \n",
       "1563210000  2019-07-15 18:00:00  0.318016  0.318016  0.317566  0.317566   \n",
       "1563210300  2019-07-15 18:05:00  0.318315  0.318315  0.317556  0.318315   \n",
       "1563210600  2019-07-15 18:10:00  0.317556  0.317556  0.317556  0.317556   \n",
       "1563210900  2019-07-15 18:15:00  0.316891  0.316891  0.316891  0.316891   \n",
       "1563211200  2019-07-15 18:20:00  0.317249  0.317249  0.315806  0.315806   \n",
       "1563211500  2019-07-15 18:25:00  0.317246  0.317246  0.317246  0.317246   \n",
       "...                         ...       ...       ...       ...       ...   \n",
       "1563343800  2019-07-17 07:10:00  0.297575  0.297575  0.297575  0.297575   \n",
       "1563344100  2019-07-17 07:15:00  0.297575  0.297575  0.297575  0.297575   \n",
       "1563344400  2019-07-17 07:20:00  0.298519  0.298689  0.298191  0.298191   \n",
       "1563344700  2019-07-17 07:25:00  0.298191  0.298191  0.298191  0.298191   \n",
       "1563345000  2019-07-17 07:30:00  0.297007  0.297007  0.297007  0.297007   \n",
       "1563345300  2019-07-17 07:35:00  0.297007  0.297007  0.297007  0.297007   \n",
       "1563345600  2019-07-17 07:40:00  0.298970  0.298970  0.298700  0.298700   \n",
       "1563345900  2019-07-17 07:45:00  0.299478  0.299478  0.299478  0.299478   \n",
       "1563346200  2019-07-17 07:50:00  0.299935  0.299935  0.299478  0.299478   \n",
       "1563346500  2019-07-17 07:55:00  0.299002  0.299002  0.298470  0.298470   \n",
       "1563346800  2019-07-17 08:00:00  0.300031  0.300450  0.299935  0.299935   \n",
       "1563347100  2019-07-17 08:05:00  0.300450  0.300796  0.300450  0.300450   \n",
       "1563347400  2019-07-17 08:10:00  0.300450  0.301277  0.300450  0.301277   \n",
       "1563347700  2019-07-17 08:15:00  0.299074  0.299652  0.299074  0.299652   \n",
       "1563348000  2019-07-17 08:20:00  0.299074  0.299074  0.299074  0.299074   \n",
       "1563348300  2019-07-17 08:25:00  0.301729  0.301729  0.301729  0.301729   \n",
       "1563348600  2019-07-17 08:30:00  0.300393  0.301729  0.300393  0.301729   \n",
       "1563348900  2019-07-17 08:35:00  0.300183  0.300183  0.300183  0.300183   \n",
       "1563349200  2019-07-17 08:40:00  0.301747  0.303569  0.301746  0.302000   \n",
       "1563349500  2019-07-17 08:45:00  0.303566  0.303566  0.303566  0.303566   \n",
       "1563349800  2019-07-17 08:50:00  0.300001  0.300188  0.300001  0.300188   \n",
       "1563350100  2019-07-17 08:55:00  0.300001  0.300001  0.300001  0.300001   \n",
       "1563350400  2019-07-17 09:00:00  0.300001  0.300001  0.300001  0.300001   \n",
       "1563350700  2019-07-17 09:05:00  0.300740  0.300740  0.300330  0.300510   \n",
       "1563351000  2019-07-17 09:10:00  0.300000  0.300001  0.300000  0.300001   \n",
       "1563351300  2019-07-17 09:15:00  0.300212  0.300361  0.300212  0.300361   \n",
       "1563351600  2019-07-17 09:20:00  0.300212  0.300212  0.300212  0.300212   \n",
       "1563351900  2019-07-17 09:25:00  0.300212  0.300212  0.300212  0.300212   \n",
       "1563352200  2019-07-17 09:30:00  0.301000  0.301000  0.301000  0.301000   \n",
       "1563352500  2019-07-17 09:35:00  0.301000  0.301000  0.301000  0.301000   \n",
       "\n",
       "             quoteVolume       volume  weightedAverage  \n",
       "date                                                    \n",
       "1563202800      0.000000     0.000000         0.318843  \n",
       "1563203100   2651.920401   839.282272         0.316481  \n",
       "1563203400     19.950000     6.304345         0.316007  \n",
       "1563203700    847.429332   267.637396         0.315823  \n",
       "1563204000      0.000000     0.000000         0.315460  \n",
       "1563204300      0.000000     0.000000         0.315460  \n",
       "1563204600      0.000000     0.000000         0.315460  \n",
       "1563204900   1001.624998   315.547642         0.315036  \n",
       "1563205200   6638.620000  2100.623937         0.316425  \n",
       "1563205500  11513.795284  3680.997682         0.319703  \n",
       "1563205800      0.000000     0.000000         0.319790  \n",
       "1563206100    500.000000   159.421515         0.318843  \n",
       "1563206400    791.251061   254.436628         0.321562  \n",
       "1563206700   3232.691141  1026.751441         0.317615  \n",
       "1563207000   1570.423375   500.000000         0.318385  \n",
       "1563207300      0.000000     0.000000         0.318385  \n",
       "1563207600  10185.524017  3243.682827         0.318460  \n",
       "1563207900   1513.651807   483.509869         0.319433  \n",
       "1563208200    111.000000    35.497580         0.319798  \n",
       "1563208500  10000.000000  3179.763500         0.317976  \n",
       "1563208800   5326.704464  1700.391580         0.319220  \n",
       "1563209100   1129.123074   360.198789         0.319008  \n",
       "1563209400   2271.125389   720.375401         0.317189  \n",
       "1563209700    340.093961   108.779930         0.319853  \n",
       "1563210000   3419.367292  1085.996317         0.317602  \n",
       "1563210300   2470.472133   786.356289         0.318302  \n",
       "1563210600    472.904555   150.173750         0.317556  \n",
       "1563210900   1222.867120   387.515829         0.316891  \n",
       "1563211200    418.806314   132.337988         0.315989  \n",
       "1563211500     50.000000    15.862299         0.317246  \n",
       "...                  ...          ...              ...  \n",
       "1563343800    139.494741    41.510192         0.297575  \n",
       "1563344100      0.000000     0.000000         0.297575  \n",
       "1563344400    292.610982    87.329389         0.298449  \n",
       "1563344700   9377.957546  2796.420851         0.298191  \n",
       "1563345000     33.451734     9.935416         0.297007  \n",
       "1563345300      0.000000     0.000000         0.297007  \n",
       "1563345600    171.731302    51.314344         0.298806  \n",
       "1563345900     33.448169    10.016984         0.299478  \n",
       "1563346200    706.865019   211.723450         0.299525  \n",
       "1563346500     37.364548    11.169959         0.298945  \n",
       "1563346800   4009.230538  1202.852613         0.300021  \n",
       "1563347100   3702.501388  1112.497489         0.300472  \n",
       "1563347400     37.247107    11.218419         0.301189  \n",
       "1563347700    356.509200   106.809586         0.299598  \n",
       "1563348000      0.000000     0.000000         0.299074  \n",
       "1563348300      4.838000     1.459764         0.301729  \n",
       "1563348600     66.873690    20.088365         0.300393  \n",
       "1563348900   1545.729491   464.001314         0.300183  \n",
       "1563349200   9329.925725  2816.700579         0.301900  \n",
       "1563349500     33.140391    10.060312         0.303566  \n",
       "1563349800   1350.839041   405.504094         0.300187  \n",
       "1563350100     33.057540     9.917303         0.300001  \n",
       "1563350400      0.000000     0.000000         0.300001  \n",
       "1563350700   6154.596870  1849.560342         0.300517  \n",
       "1563351000   1170.000000   351.000400         0.300000  \n",
       "1563351300    375.812379   112.828259         0.300225  \n",
       "1563351600      0.000000     0.000000         0.300212  \n",
       "1563351900      0.000000     0.000000         0.300212  \n",
       "1563352200     10.000000     3.010000         0.301000  \n",
       "1563352500      0.000000     0.000000         0.301000  \n",
       "\n",
       "[500 rows x 8 columns]"
      ]
     },
     "execution_count": 38,
     "metadata": {},
     "output_type": "execute_result"
    }
   ],
   "source": [
    "XRP_Analysis_table[-5000:-4500][original_columns].set_index('date')#.plot(figsize = (20,10))"
   ]
  },
  {
   "cell_type": "code",
   "execution_count": 39,
   "metadata": {},
   "outputs": [
    {
     "data": {
      "text/plain": [
       "<matplotlib.axes._subplots.AxesSubplot at 0x1d4ecff3128>"
      ]
     },
     "execution_count": 39,
     "metadata": {},
     "output_type": "execute_result"
    },
    {
     "data": {
      "image/png": "[encoded data removed]",
      "text/plain": [
       "<Figure size 1440x720 with 1 Axes>"
      ]
     },
     "metadata": {
      "needs_background": "light"
     },
     "output_type": "display_data"
    }
   ],
   "source": [
    "XRP_Analysis_table[XRP_Analysis_table['datetime_real'] > '2017-07-07'][['date','close']].set_index('date').plot(figsize = (20,10))"
   ]
  },
  {
   "cell_type": "code",
   "execution_count": null,
   "metadata": {},
   "outputs": [],
   "source": []
  },
  {
   "cell_type": "code",
   "execution_count": null,
   "metadata": {},
   "outputs": [],
   "source": []
  },
  {
   "cell_type": "code",
   "execution_count": null,
   "metadata": {},
   "outputs": [],
   "source": []
  },
  {
   "cell_type": "code",
   "execution_count": 40,
   "metadata": {},
   "outputs": [
    {
     "data": {
      "text/plain": [
       "array(['brought', 'sell_profit', 'stop_loss_hit'], dtype=object)"
      ]
     },
     "execution_count": 40,
     "metadata": {},
     "output_type": "execute_result"
    }
   ],
   "source": [
    "transation_log['action'].unique()"
   ]
  },
  {
   "cell_type": "code",
   "execution_count": null,
   "metadata": {},
   "outputs": [],
   "source": []
  },
  {
   "cell_type": "code",
   "execution_count": null,
   "metadata": {},
   "outputs": [],
   "source": []
  },
  {
   "cell_type": "code",
   "execution_count": null,
   "metadata": {},
   "outputs": [],
   "source": []
  },
  {
   "cell_type": "code",
   "execution_count": null,
   "metadata": {},
   "outputs": [],
   "source": []
  },
  {
   "cell_type": "code",
   "execution_count": null,
   "metadata": {},
   "outputs": [],
   "source": []
  },
  {
   "cell_type": "code",
   "execution_count": null,
   "metadata": {},
   "outputs": [],
   "source": []
  },
  {
   "cell_type": "markdown",
   "metadata": {},
   "source": [
    "### Transaction "
   ]
  },
  {
   "cell_type": "markdown",
   "metadata": {},
   "source": [
    "stable times :\n",
    "    \n",
    "start1 = 410000\n",
    "\n",
    "end1 = start1 + 20000"
   ]
  },
  {
   "cell_type": "code",
   "execution_count": 41,
   "metadata": {},
   "outputs": [],
   "source": [
    "start1 = 410000\n",
    "\n",
    "end1 = start1 + 20000"
   ]
  },
  {
   "cell_type": "code",
   "execution_count": 42,
   "metadata": {},
   "outputs": [],
   "source": [
    "trading_data = XRP_Analysis_table[start1:end1][original_columns + ['Increase_0.5_percent']]"
   ]
  },
  {
   "cell_type": "code",
   "execution_count": 43,
   "metadata": {},
   "outputs": [],
   "source": [
    "trading_data['2H_RA_on_Close'] = trading_data['close'].rolling(2*2).mean().shift(1)"
   ]
  },
  {
   "cell_type": "code",
   "execution_count": 122,
   "metadata": {},
   "outputs": [],
   "source": [
    "trading_data['below_2H'] = (trading_data['low'] - trading_data['2H_RA_on_Close'])/trading_data['2H_RA_on_Close']"
   ]
  },
  {
   "cell_type": "code",
   "execution_count": null,
   "metadata": {},
   "outputs": [],
   "source": []
  },
  {
   "cell_type": "code",
   "execution_count": null,
   "metadata": {},
   "outputs": [],
   "source": []
  },
  {
   "cell_type": "markdown",
   "metadata": {},
   "source": [
    "#### increa_decre     * need to impliment!\n",
    "\n",
    "very important factor to eliminate those that decrease more than the stop limit before increase happens"
   ]
  },
  {
   "cell_type": "code",
   "execution_count": 127,
   "metadata": {},
   "outputs": [],
   "source": [
    "# g1 = trading_data[~trading_data['increa_decre']][['date','below_2H_RA']]\n",
    "\n",
    "# plt.plot(g1['date'], g1['below_2H_RA'], 'r', label = 'loss')"
   ]
  },
  {
   "cell_type": "code",
   "execution_count": 129,
   "metadata": {},
   "outputs": [
    {
     "data": {
      "text/plain": [
       "[<matplotlib.lines.Line2D at 0x1d48d945f28>]"
      ]
     },
     "execution_count": 129,
     "metadata": {},
     "output_type": "execute_result"
    },
    {
     "data": {
      "image/png": "[encoded data removed]",
      "text/plain": [
       "<Figure size 432x288 with 1 Axes>"
      ]
     },
     "metadata": {
      "needs_background": "light"
     },
     "output_type": "display_data"
    }
   ],
   "source": [
    "g1 = trading_data[['date','below_2H']]\n",
    "\n",
    "plt.plot(g1['date'], g1['below_2H'], 'r', label = 'loss')"
   ]
  },
  {
   "cell_type": "code",
   "execution_count": 133,
   "metadata": {},
   "outputs": [
    {
     "data": {
      "text/plain": [
       "count    1.999600e+04\n",
       "mean    -3.839776e-04\n",
       "std      2.840165e-03\n",
       "min     -7.048004e-02\n",
       "25%     -1.274045e-03\n",
       "50%     -7.915321e-15\n",
       "75%      7.136058e-04\n",
       "max      3.116528e-02\n",
       "Name: below_2H, dtype: float64"
      ]
     },
     "execution_count": 133,
     "metadata": {},
     "output_type": "execute_result"
    }
   ],
   "source": [
    "g1['below_2H'].describe()"
   ]
  },
  {
   "cell_type": "code",
   "execution_count": 131,
   "metadata": {},
   "outputs": [
    {
     "data": {
      "text/plain": [
       "<matplotlib.axes._subplots.AxesSubplot at 0x1d48d563630>"
      ]
     },
     "execution_count": 131,
     "metadata": {},
     "output_type": "execute_result"
    },
    {
     "data": {
      "image/png": "[encoded data removed]",
      "text/plain": [
       "<Figure size 432x288 with 1 Axes>"
      ]
     },
     "metadata": {
      "needs_background": "light"
     },
     "output_type": "display_data"
    }
   ],
   "source": [
    "g1.boxplot(column = 'below_2H')"
   ]
  },
  {
   "cell_type": "code",
   "execution_count": null,
   "metadata": {},
   "outputs": [],
   "source": []
  },
  {
   "cell_type": "code",
   "execution_count": 177,
   "metadata": {},
   "outputs": [],
   "source": [
    "time_event = {}\n",
    "starting_asset = 100\n",
    "bought_crypto = False\n",
    "\n",
    "\n",
    "gold_available = starting_asset \n",
    "XRP_amount = 0\n",
    "\n",
    "\n",
    "drop_limit = 0.005 # used mean on this side, actual 0.004686, but decreased abit for optimistic view \n",
    "\n",
    "stop_loss_limit = 0.01\n",
    "sell_limit = 0.005\n",
    "\n",
    "while gold_available >= 0:\n",
    "    \n",
    "    for ind, df in trading_data.iterrows():\n",
    "#         print(df['date'])\n",
    "        \n",
    "        if bought_crypto != True: # then looking to buy at drop limit or lower\n",
    "            if ( df['2H_RA_on_Close'] - df['low'] ) / df['2H_RA_on_Close'] >= drop_limit:\n",
    "                \"then buy crypto\"\n",
    "\n",
    "                XRP_amount += (gold_available/df['low']) * 0.998 # due to 0.2% fee\n",
    "\n",
    "                gold_available -= gold_available\n",
    "                \n",
    "                time_event.update({df['date']  : ( gold_available, XRP_amount , 'brought' , df['low'])})\n",
    "                \n",
    "                last_xrp_traction_price =  df['low']\n",
    "                \n",
    "                bought_crypto = True\n",
    "                \n",
    "                latest_bought_crypto_timestamp = df['date']\n",
    "                \n",
    "#                 print('last_xrp_traction_price ', last_xrp_traction_price)\n",
    "                \n",
    "        else:\n",
    "            if bought_crypto: # has crypto, either wait or sell at stoploss or profit\n",
    "#                 print('hit_sell_limit',\n",
    "#                       (df['high'] - last_xrp_traction_price)/last_xrp_traction_price >= sell_limit ,\n",
    "#                       round((df['high'] - last_xrp_traction_price),6) ,\n",
    "#                       'sell_limit ', sell_limit\n",
    "                     \n",
    "#                       )\n",
    "\n",
    "                if df['date'] - latest_bought_crypto_timestamp > 1800:\n",
    "                    \n",
    "                    gold_available += XRP_amount * df['high'] * 0.998  # sell at low price\n",
    "                    \n",
    "                    XRP_amount -= XRP_amount\n",
    "                    \n",
    "                    time_event.update({df['date']  : ( gold_available, XRP_amount , 'time_stop' ,  df['low'])})\n",
    "                    \n",
    "                    bought_crypto = False\n",
    "                    \n",
    "                \n",
    "                elif ( df['2H_RA_on_Close'] - df['low'] ) / df['2H_RA_on_Close'] >= stop_loss_limit: # then hit stop loss, force sell\n",
    "#                     print('stoppppppppppppppppppppppppp')\n",
    "                    gold_available += XRP_amount * df['low'] * 0.998  # sell at low price\n",
    "                    \n",
    "                    XRP_amount -= XRP_amount\n",
    "                    \n",
    "                    time_event.update({df['date']  : ( gold_available, XRP_amount , 'stop_loss_hit' ,  df['low'])})\n",
    "                    \n",
    "                    bought_crypto = False\n",
    "                    \n",
    "                    \n",
    "                \n",
    "                elif  (df['high'] - last_xrp_traction_price)/last_xrp_traction_price >= sell_limit: # then hit target price, sell for profit\n",
    "                    \n",
    "#                     print(last_xrp_traction_price)\n",
    "                                        \n",
    "                    gold_available += XRP_amount * df['high'] * 0.998  # sell at high price\n",
    "                    \n",
    "                    XRP_amount -= XRP_amount\n",
    "                    \n",
    "                    time_event.update({df['date']  : ( gold_available, XRP_amount , 'sell_profit' , df['high'])})\n",
    "                    \n",
    "                    bought_crypto = False\n",
    "\n",
    "    break\n",
    "                \n",
    "else:\n",
    "    print('Negative asset: bankrupt  ->>>   ',  gold_available)"
   ]
  },
  {
   "cell_type": "code",
   "execution_count": null,
   "metadata": {},
   "outputs": [],
   "source": []
  },
  {
   "cell_type": "code",
   "execution_count": 178,
   "metadata": {},
   "outputs": [],
   "source": [
    "transation_log = pd.DataFrame.from_dict(time_event, orient='index', columns= ['Gold', 'XRP_Amount', 'action', 'price_action_happened'])\n",
    "\n",
    "transation_log['Gold'] = round(transation_log['Gold'], 2)\n",
    "\n",
    "transation_log['XRP_Amount'] = round(transation_log['XRP_Amount'], 4)"
   ]
  },
  {
   "cell_type": "code",
   "execution_count": 179,
   "metadata": {},
   "outputs": [
    {
     "data": {
      "text/html": [
       "<div>\n",
       "<style scoped>\n",
       "    .dataframe tbody tr th:only-of-type {\n",
       "        vertical-align: middle;\n",
       "    }\n",
       "\n",
       "    .dataframe tbody tr th {\n",
       "        vertical-align: top;\n",
       "    }\n",
       "\n",
       "    .dataframe thead th {\n",
       "        text-align: right;\n",
       "    }\n",
       "</style>\n",
       "<table border=\"1\" class=\"dataframe\">\n",
       "  <thead>\n",
       "    <tr style=\"text-align: right;\">\n",
       "      <th></th>\n",
       "      <th>Gold</th>\n",
       "      <th>XRP_Amount</th>\n",
       "      <th>action</th>\n",
       "      <th>price_action_happened</th>\n",
       "    </tr>\n",
       "  </thead>\n",
       "  <tbody>\n",
       "    <tr>\n",
       "      <th>1547880900</th>\n",
       "      <td>0.00</td>\n",
       "      <td>311.1054</td>\n",
       "      <td>brought</td>\n",
       "      <td>0.320792</td>\n",
       "    </tr>\n",
       "    <tr>\n",
       "      <th>1547883000</th>\n",
       "      <td>99.65</td>\n",
       "      <td>0.0000</td>\n",
       "      <td>time_stop</td>\n",
       "      <td>0.320951</td>\n",
       "    </tr>\n",
       "    <tr>\n",
       "      <th>1547894100</th>\n",
       "      <td>0.00</td>\n",
       "      <td>301.3852</td>\n",
       "      <td>brought</td>\n",
       "      <td>0.329978</td>\n",
       "    </tr>\n",
       "    <tr>\n",
       "      <th>1547896200</th>\n",
       "      <td>98.95</td>\n",
       "      <td>0.0000</td>\n",
       "      <td>time_stop</td>\n",
       "      <td>0.327319</td>\n",
       "    </tr>\n",
       "    <tr>\n",
       "      <th>1547904900</th>\n",
       "      <td>0.00</td>\n",
       "      <td>302.1940</td>\n",
       "      <td>brought</td>\n",
       "      <td>0.326771</td>\n",
       "    </tr>\n",
       "    <tr>\n",
       "      <th>1547907000</th>\n",
       "      <td>98.55</td>\n",
       "      <td>0.0000</td>\n",
       "      <td>time_stop</td>\n",
       "      <td>0.326767</td>\n",
       "    </tr>\n",
       "    <tr>\n",
       "      <th>1547922300</th>\n",
       "      <td>0.00</td>\n",
       "      <td>301.5202</td>\n",
       "      <td>brought</td>\n",
       "      <td>0.326189</td>\n",
       "    </tr>\n",
       "    <tr>\n",
       "      <th>1547922900</th>\n",
       "      <td>98.74</td>\n",
       "      <td>0.0000</td>\n",
       "      <td>sell_profit</td>\n",
       "      <td>0.328135</td>\n",
       "    </tr>\n",
       "    <tr>\n",
       "      <th>1547925000</th>\n",
       "      <td>0.00</td>\n",
       "      <td>302.6027</td>\n",
       "      <td>brought</td>\n",
       "      <td>0.325655</td>\n",
       "    </tr>\n",
       "    <tr>\n",
       "      <th>1547926200</th>\n",
       "      <td>98.86</td>\n",
       "      <td>0.0000</td>\n",
       "      <td>sell_profit</td>\n",
       "      <td>0.327343</td>\n",
       "    </tr>\n",
       "  </tbody>\n",
       "</table>\n",
       "</div>"
      ],
      "text/plain": [
       "             Gold  XRP_Amount       action  price_action_happened\n",
       "1547880900   0.00    311.1054      brought               0.320792\n",
       "1547883000  99.65      0.0000    time_stop               0.320951\n",
       "1547894100   0.00    301.3852      brought               0.329978\n",
       "1547896200  98.95      0.0000    time_stop               0.327319\n",
       "1547904900   0.00    302.1940      brought               0.326771\n",
       "1547907000  98.55      0.0000    time_stop               0.326767\n",
       "1547922300   0.00    301.5202      brought               0.326189\n",
       "1547922900  98.74      0.0000  sell_profit               0.328135\n",
       "1547925000   0.00    302.6027      brought               0.325655\n",
       "1547926200  98.86      0.0000  sell_profit               0.327343"
      ]
     },
     "execution_count": 179,
     "metadata": {},
     "output_type": "execute_result"
    }
   ],
   "source": [
    "transation_log.head(10)"
   ]
  },
  {
   "cell_type": "code",
   "execution_count": 180,
   "metadata": {},
   "outputs": [
    {
     "data": {
      "text/plain": [
       "<matplotlib.axes._subplots.AxesSubplot at 0x1d486e8e198>"
      ]
     },
     "execution_count": 180,
     "metadata": {},
     "output_type": "execute_result"
    },
    {
     "data": {
      "image/png": "[encoded data removed]",
      "text/plain": [
       "<Figure size 432x288 with 1 Axes>"
      ]
     },
     "metadata": {
      "needs_background": "light"
     },
     "output_type": "display_data"
    }
   ],
   "source": [
    "transation_log[transation_log['action'] != 'brought'][:50][['Gold']].plot()"
   ]
  },
  {
   "cell_type": "code",
   "execution_count": 181,
   "metadata": {},
   "outputs": [],
   "source": [
    "transaction_display = transation_log#['time_end']"
   ]
  },
  {
   "cell_type": "code",
   "execution_count": 182,
   "metadata": {},
   "outputs": [],
   "source": [
    "\n",
    "transaction_display['time_start'] = transaction_display.index\n",
    "transaction_display['time_end'] = round(transaction_display['time_start'].shift(-1), 0)\n",
    "\n",
    "transaction_display['action_to_color'] = transaction_display['action'].shift(-1)"
   ]
  },
  {
   "cell_type": "code",
   "execution_count": 183,
   "metadata": {},
   "outputs": [],
   "source": [
    "transaction_display['colour_section'] = transaction_display['action_to_color'].apply(lambda x: 'r' if x == 'stop_loss_hit' else 'g')"
   ]
  },
  {
   "cell_type": "code",
   "execution_count": 184,
   "metadata": {},
   "outputs": [
    {
     "data": {
      "text/plain": [
       "Int64Index([1547880900, 1547883000, 1547894100, 1547896200, 1547904900,\n",
       "            1547907000, 1547922300, 1547922900, 1547925000, 1547926200,\n",
       "            ...\n",
       "            1553835300, 1553837400, 1553854200, 1553856300, 1553856900,\n",
       "            1553859000, 1553859300, 1553860800, 1553868900, 1553871000],\n",
       "           dtype='int64', length=1164)"
      ]
     },
     "execution_count": 184,
     "metadata": {},
     "output_type": "execute_result"
    }
   ],
   "source": [
    "transaction_display.index"
   ]
  },
  {
   "cell_type": "code",
   "execution_count": 185,
   "metadata": {},
   "outputs": [
    {
     "data": {
      "text/html": [
       "<div>\n",
       "<style scoped>\n",
       "    .dataframe tbody tr th:only-of-type {\n",
       "        vertical-align: middle;\n",
       "    }\n",
       "\n",
       "    .dataframe tbody tr th {\n",
       "        vertical-align: top;\n",
       "    }\n",
       "\n",
       "    .dataframe thead th {\n",
       "        text-align: right;\n",
       "    }\n",
       "</style>\n",
       "<table border=\"1\" class=\"dataframe\">\n",
       "  <thead>\n",
       "    <tr style=\"text-align: right;\">\n",
       "      <th></th>\n",
       "      <th>Gold</th>\n",
       "      <th>XRP_Amount</th>\n",
       "      <th>action</th>\n",
       "      <th>price_action_happened</th>\n",
       "      <th>time_start</th>\n",
       "      <th>time_end</th>\n",
       "      <th>action_to_color</th>\n",
       "      <th>colour_section</th>\n",
       "    </tr>\n",
       "  </thead>\n",
       "  <tbody>\n",
       "    <tr>\n",
       "      <th>1547880900</th>\n",
       "      <td>0.0</td>\n",
       "      <td>311.1054</td>\n",
       "      <td>brought</td>\n",
       "      <td>0.320792</td>\n",
       "      <td>1547880900</td>\n",
       "      <td>1.547883e+09</td>\n",
       "      <td>time_stop</td>\n",
       "      <td>g</td>\n",
       "    </tr>\n",
       "    <tr>\n",
       "      <th>1547894100</th>\n",
       "      <td>0.0</td>\n",
       "      <td>301.3852</td>\n",
       "      <td>brought</td>\n",
       "      <td>0.329978</td>\n",
       "      <td>1547894100</td>\n",
       "      <td>1.547896e+09</td>\n",
       "      <td>time_stop</td>\n",
       "      <td>g</td>\n",
       "    </tr>\n",
       "    <tr>\n",
       "      <th>1547904900</th>\n",
       "      <td>0.0</td>\n",
       "      <td>302.1940</td>\n",
       "      <td>brought</td>\n",
       "      <td>0.326771</td>\n",
       "      <td>1547904900</td>\n",
       "      <td>1.547907e+09</td>\n",
       "      <td>time_stop</td>\n",
       "      <td>g</td>\n",
       "    </tr>\n",
       "  </tbody>\n",
       "</table>\n",
       "</div>"
      ],
      "text/plain": [
       "            Gold  XRP_Amount   action  price_action_happened  time_start  \\\n",
       "1547880900   0.0    311.1054  brought               0.320792  1547880900   \n",
       "1547894100   0.0    301.3852  brought               0.329978  1547894100   \n",
       "1547904900   0.0    302.1940  brought               0.326771  1547904900   \n",
       "\n",
       "                time_end action_to_color colour_section  \n",
       "1547880900  1.547883e+09       time_stop              g  \n",
       "1547894100  1.547896e+09       time_stop              g  \n",
       "1547904900  1.547907e+09       time_stop              g  "
      ]
     },
     "execution_count": 185,
     "metadata": {},
     "output_type": "execute_result"
    }
   ],
   "source": [
    "transaction_display[transaction_display['action'] == 'brought'].head(3)"
   ]
  },
  {
   "cell_type": "code",
   "execution_count": 186,
   "metadata": {},
   "outputs": [
    {
     "data": {
      "text/html": [
       "<div>\n",
       "<style scoped>\n",
       "    .dataframe tbody tr th:only-of-type {\n",
       "        vertical-align: middle;\n",
       "    }\n",
       "\n",
       "    .dataframe tbody tr th {\n",
       "        vertical-align: top;\n",
       "    }\n",
       "\n",
       "    .dataframe thead th {\n",
       "        text-align: right;\n",
       "    }\n",
       "</style>\n",
       "<table border=\"1\" class=\"dataframe\">\n",
       "  <thead>\n",
       "    <tr style=\"text-align: right;\">\n",
       "      <th></th>\n",
       "      <th>Gold</th>\n",
       "      <th>XRP_Amount</th>\n",
       "      <th>action</th>\n",
       "      <th>price_action_happened</th>\n",
       "      <th>time_start</th>\n",
       "      <th>time_end</th>\n",
       "      <th>action_to_color</th>\n",
       "      <th>colour_section</th>\n",
       "    </tr>\n",
       "  </thead>\n",
       "  <tbody>\n",
       "    <tr>\n",
       "      <th>1547880900</th>\n",
       "      <td>0.00</td>\n",
       "      <td>311.1054</td>\n",
       "      <td>brought</td>\n",
       "      <td>0.320792</td>\n",
       "      <td>1547880900</td>\n",
       "      <td>1.547883e+09</td>\n",
       "      <td>time_stop</td>\n",
       "      <td>g</td>\n",
       "    </tr>\n",
       "    <tr>\n",
       "      <th>1547883000</th>\n",
       "      <td>99.65</td>\n",
       "      <td>0.0000</td>\n",
       "      <td>time_stop</td>\n",
       "      <td>0.320951</td>\n",
       "      <td>1547883000</td>\n",
       "      <td>1.547894e+09</td>\n",
       "      <td>brought</td>\n",
       "      <td>g</td>\n",
       "    </tr>\n",
       "    <tr>\n",
       "      <th>1547894100</th>\n",
       "      <td>0.00</td>\n",
       "      <td>301.3852</td>\n",
       "      <td>brought</td>\n",
       "      <td>0.329978</td>\n",
       "      <td>1547894100</td>\n",
       "      <td>1.547896e+09</td>\n",
       "      <td>time_stop</td>\n",
       "      <td>g</td>\n",
       "    </tr>\n",
       "    <tr>\n",
       "      <th>1547896200</th>\n",
       "      <td>98.95</td>\n",
       "      <td>0.0000</td>\n",
       "      <td>time_stop</td>\n",
       "      <td>0.327319</td>\n",
       "      <td>1547896200</td>\n",
       "      <td>1.547905e+09</td>\n",
       "      <td>brought</td>\n",
       "      <td>g</td>\n",
       "    </tr>\n",
       "    <tr>\n",
       "      <th>1547904900</th>\n",
       "      <td>0.00</td>\n",
       "      <td>302.1940</td>\n",
       "      <td>brought</td>\n",
       "      <td>0.326771</td>\n",
       "      <td>1547904900</td>\n",
       "      <td>1.547907e+09</td>\n",
       "      <td>time_stop</td>\n",
       "      <td>g</td>\n",
       "    </tr>\n",
       "  </tbody>\n",
       "</table>\n",
       "</div>"
      ],
      "text/plain": [
       "             Gold  XRP_Amount     action  price_action_happened  time_start  \\\n",
       "1547880900   0.00    311.1054    brought               0.320792  1547880900   \n",
       "1547883000  99.65      0.0000  time_stop               0.320951  1547883000   \n",
       "1547894100   0.00    301.3852    brought               0.329978  1547894100   \n",
       "1547896200  98.95      0.0000  time_stop               0.327319  1547896200   \n",
       "1547904900   0.00    302.1940    brought               0.326771  1547904900   \n",
       "\n",
       "                time_end action_to_color colour_section  \n",
       "1547880900  1.547883e+09       time_stop              g  \n",
       "1547883000  1.547894e+09         brought              g  \n",
       "1547894100  1.547896e+09       time_stop              g  \n",
       "1547896200  1.547905e+09         brought              g  \n",
       "1547904900  1.547907e+09       time_stop              g  "
      ]
     },
     "execution_count": 186,
     "metadata": {},
     "output_type": "execute_result"
    }
   ],
   "source": [
    "transaction_display.head()"
   ]
  },
  {
   "cell_type": "code",
   "execution_count": 187,
   "metadata": {},
   "outputs": [
    {
     "data": {
      "text/html": [
       "<div>\n",
       "<style scoped>\n",
       "    .dataframe tbody tr th:only-of-type {\n",
       "        vertical-align: middle;\n",
       "    }\n",
       "\n",
       "    .dataframe tbody tr th {\n",
       "        vertical-align: top;\n",
       "    }\n",
       "\n",
       "    .dataframe thead th {\n",
       "        text-align: right;\n",
       "    }\n",
       "</style>\n",
       "<table border=\"1\" class=\"dataframe\">\n",
       "  <thead>\n",
       "    <tr style=\"text-align: right;\">\n",
       "      <th></th>\n",
       "      <th>datetime_real</th>\n",
       "      <th>date</th>\n",
       "      <th>close</th>\n",
       "      <th>high</th>\n",
       "      <th>low</th>\n",
       "      <th>open</th>\n",
       "      <th>quoteVolume</th>\n",
       "      <th>volume</th>\n",
       "      <th>weightedAverage</th>\n",
       "      <th>Increase_0.5_percent</th>\n",
       "      <th>2H_RA_on_Close</th>\n",
       "      <th>below_2H</th>\n",
       "    </tr>\n",
       "  </thead>\n",
       "  <tbody>\n",
       "    <tr>\n",
       "      <th>410000</th>\n",
       "      <td>2019-01-19 04:45:00</td>\n",
       "      <td>1547873100</td>\n",
       "      <td>0.323119</td>\n",
       "      <td>0.323119</td>\n",
       "      <td>0.323119</td>\n",
       "      <td>0.323119</td>\n",
       "      <td>0.0</td>\n",
       "      <td>0.0</td>\n",
       "      <td>0.323119</td>\n",
       "      <td>1547892000</td>\n",
       "      <td>NaN</td>\n",
       "      <td>NaN</td>\n",
       "    </tr>\n",
       "    <tr>\n",
       "      <th>410001</th>\n",
       "      <td>2019-01-19 04:50:00</td>\n",
       "      <td>1547873400</td>\n",
       "      <td>0.323119</td>\n",
       "      <td>0.323119</td>\n",
       "      <td>0.323119</td>\n",
       "      <td>0.323119</td>\n",
       "      <td>0.0</td>\n",
       "      <td>0.0</td>\n",
       "      <td>0.323119</td>\n",
       "      <td>1547892000</td>\n",
       "      <td>NaN</td>\n",
       "      <td>NaN</td>\n",
       "    </tr>\n",
       "    <tr>\n",
       "      <th>410002</th>\n",
       "      <td>2019-01-19 04:55:00</td>\n",
       "      <td>1547873700</td>\n",
       "      <td>0.323119</td>\n",
       "      <td>0.323119</td>\n",
       "      <td>0.323119</td>\n",
       "      <td>0.323119</td>\n",
       "      <td>0.0</td>\n",
       "      <td>0.0</td>\n",
       "      <td>0.323119</td>\n",
       "      <td>1547892000</td>\n",
       "      <td>NaN</td>\n",
       "      <td>NaN</td>\n",
       "    </tr>\n",
       "    <tr>\n",
       "      <th>410003</th>\n",
       "      <td>2019-01-19 05:00:00</td>\n",
       "      <td>1547874000</td>\n",
       "      <td>0.323119</td>\n",
       "      <td>0.323119</td>\n",
       "      <td>0.323119</td>\n",
       "      <td>0.323119</td>\n",
       "      <td>0.0</td>\n",
       "      <td>0.0</td>\n",
       "      <td>0.323119</td>\n",
       "      <td>1547892000</td>\n",
       "      <td>NaN</td>\n",
       "      <td>NaN</td>\n",
       "    </tr>\n",
       "    <tr>\n",
       "      <th>410004</th>\n",
       "      <td>2019-01-19 05:05:00</td>\n",
       "      <td>1547874300</td>\n",
       "      <td>0.323119</td>\n",
       "      <td>0.323119</td>\n",
       "      <td>0.323119</td>\n",
       "      <td>0.323119</td>\n",
       "      <td>0.0</td>\n",
       "      <td>0.0</td>\n",
       "      <td>0.323119</td>\n",
       "      <td>1547892000</td>\n",
       "      <td>0.323119</td>\n",
       "      <td>0.0</td>\n",
       "    </tr>\n",
       "  </tbody>\n",
       "</table>\n",
       "</div>"
      ],
      "text/plain": [
       "              datetime_real        date     close      high       low  \\\n",
       "410000  2019-01-19 04:45:00  1547873100  0.323119  0.323119  0.323119   \n",
       "410001  2019-01-19 04:50:00  1547873400  0.323119  0.323119  0.323119   \n",
       "410002  2019-01-19 04:55:00  1547873700  0.323119  0.323119  0.323119   \n",
       "410003  2019-01-19 05:00:00  1547874000  0.323119  0.323119  0.323119   \n",
       "410004  2019-01-19 05:05:00  1547874300  0.323119  0.323119  0.323119   \n",
       "\n",
       "            open  quoteVolume  volume  weightedAverage  Increase_0.5_percent  \\\n",
       "410000  0.323119          0.0     0.0         0.323119            1547892000   \n",
       "410001  0.323119          0.0     0.0         0.323119            1547892000   \n",
       "410002  0.323119          0.0     0.0         0.323119            1547892000   \n",
       "410003  0.323119          0.0     0.0         0.323119            1547892000   \n",
       "410004  0.323119          0.0     0.0         0.323119            1547892000   \n",
       "\n",
       "        2H_RA_on_Close  below_2H  \n",
       "410000             NaN       NaN  \n",
       "410001             NaN       NaN  \n",
       "410002             NaN       NaN  \n",
       "410003             NaN       NaN  \n",
       "410004        0.323119       0.0  "
      ]
     },
     "execution_count": 187,
     "metadata": {},
     "output_type": "execute_result"
    }
   ],
   "source": [
    "trading_data.head()"
   ]
  },
  {
   "cell_type": "code",
   "execution_count": 188,
   "metadata": {},
   "outputs": [],
   "source": [
    "time_of_trade=  trading_data.groupby('Increase_0.5_percent').agg({'date':'min'}).reset_index()"
   ]
  },
  {
   "cell_type": "code",
   "execution_count": 189,
   "metadata": {},
   "outputs": [
    {
     "data": {
      "text/plain": [
       "2062"
      ]
     },
     "execution_count": 189,
     "metadata": {},
     "output_type": "execute_result"
    }
   ],
   "source": [
    "len(time_of_trade)"
   ]
  },
  {
   "cell_type": "code",
   "execution_count": 190,
   "metadata": {},
   "outputs": [
    {
     "data": {
      "text/plain": [
       "0.03588748787584869"
      ]
     },
     "execution_count": 190,
     "metadata": {},
     "output_type": "execute_result"
    }
   ],
   "source": [
    "74/2062"
   ]
  },
  {
   "cell_type": "code",
   "execution_count": 191,
   "metadata": {},
   "outputs": [],
   "source": [
    "time_waiting_stats = pd.DataFrame.from_dict(Counter(time_of_trade['Increase_0.5_percent'] - time_of_trade['date']), orient='index')/len(time_of_trade)"
   ]
  },
  {
   "cell_type": "code",
   "execution_count": 192,
   "metadata": {},
   "outputs": [
    {
     "data": {
      "text/plain": [
       "7200"
      ]
     },
     "execution_count": 192,
     "metadata": {},
     "output_type": "execute_result"
    }
   ],
   "source": [
    "120*60"
   ]
  },
  {
   "cell_type": "code",
   "execution_count": 193,
   "metadata": {},
   "outputs": [
    {
     "data": {
      "text/html": [
       "<div>\n",
       "<style scoped>\n",
       "    .dataframe tbody tr th:only-of-type {\n",
       "        vertical-align: middle;\n",
       "    }\n",
       "\n",
       "    .dataframe tbody tr th {\n",
       "        vertical-align: top;\n",
       "    }\n",
       "\n",
       "    .dataframe thead th {\n",
       "        text-align: right;\n",
       "    }\n",
       "</style>\n",
       "<table border=\"1\" class=\"dataframe\">\n",
       "  <thead>\n",
       "    <tr style=\"text-align: right;\">\n",
       "      <th></th>\n",
       "      <th>0</th>\n",
       "    </tr>\n",
       "  </thead>\n",
       "  <tbody>\n",
       "    <tr>\n",
       "      <th>300</th>\n",
       "      <td>0.258002</td>\n",
       "    </tr>\n",
       "    <tr>\n",
       "      <th>600</th>\n",
       "      <td>0.331232</td>\n",
       "    </tr>\n",
       "    <tr>\n",
       "      <th>900</th>\n",
       "      <td>0.382638</td>\n",
       "    </tr>\n",
       "    <tr>\n",
       "      <th>1200</th>\n",
       "      <td>0.422890</td>\n",
       "    </tr>\n",
       "    <tr>\n",
       "      <th>1500</th>\n",
       "      <td>0.458778</td>\n",
       "    </tr>\n",
       "  </tbody>\n",
       "</table>\n",
       "</div>"
      ],
      "text/plain": [
       "             0\n",
       "300   0.258002\n",
       "600   0.331232\n",
       "900   0.382638\n",
       "1200  0.422890\n",
       "1500  0.458778"
      ]
     },
     "execution_count": 193,
     "metadata": {},
     "output_type": "execute_result"
    }
   ],
   "source": [
    "time_waiting_stats.sort_index(ascending= True).cumsum().head(5)#.plot()"
   ]
  },
  {
   "cell_type": "code",
   "execution_count": null,
   "metadata": {},
   "outputs": [],
   "source": []
  },
  {
   "cell_type": "code",
   "execution_count": 194,
   "metadata": {},
   "outputs": [
    {
     "data": {
      "text/plain": [
       "(1547873100, 1548022800)"
      ]
     },
     "execution_count": 194,
     "metadata": {},
     "output_type": "execute_result"
    },
    {
     "data": {
      "image/png": "[encoded data removed]",
      "text/plain": [
       "<Figure size 1440x720 with 1 Axes>"
      ]
     },
     "metadata": {
      "needs_background": "light"
     },
     "output_type": "display_data"
    }
   ],
   "source": [
    "ploting_breakdown = trading_data[:500]\n",
    "\n",
    "plt.figure(figsize= (20,10))\n",
    "\n",
    "\n",
    "tran_y_low = ploting_breakdown['low']\n",
    "tran_y_high = ploting_breakdown['high']\n",
    "\n",
    "tran_y_ra = ploting_breakdown['2H_RA_on_Close']\n",
    "\n",
    "tran_x = ploting_breakdown['date']\n",
    "\n",
    "\n",
    "plt.plot(tran_x, tran_y_low)\n",
    "plt.plot(tran_x, tran_y_high)\n",
    "\n",
    "plt.plot(tran_x, tran_y_ra)\n",
    "\n",
    "# plotting transaction\n",
    "for ind, value in transaction_display[ (transaction_display['time_start'] <= ploting_breakdown['date'].max()) &\n",
    "                                       (transaction_display['time_start'] >= ploting_breakdown['date'].min()) &                      \n",
    "                                       (transaction_display['action'] == 'brought')].iterrows():\n",
    "\n",
    "    plt.axvspan(value['time_start'], value['time_end'], alpha = 0.1 , facecolor = value['colour_section'])\n",
    "    \n",
    "    plt.vlines(value['time_start'], 0,1, alpha = 0.4, color = value['colour_section'])\n",
    "    plt.vlines(value['time_end'], 0,1, alpha = 0.4, color = value['colour_section'], linestyle = 'dashed')\n",
    "    \n",
    "    \n",
    "for ind, value in ploting_breakdown[ploting_breakdown['Increase_0.5_percent'] <= ploting_breakdown['date'].max()].iterrows():\n",
    "#     print(value['Increase_0.5_percent'])\n",
    "#     plt.vlines(value['date'], 0, 1, alpha = 0.2, color = 'b',linestyle = 'dashed')\n",
    "    plt.vlines(value['Increase_0.5_percent'], 0, 1, alpha = 0.2, color = 'b',linestyle = 'dashed')\n",
    "    \n",
    "\n",
    "plt.ylim(0.31, 0.335)\n",
    "\n",
    "plt.xlim(ploting_breakdown['date'].min(), ploting_breakdown['date'].max())"
   ]
  },
  {
   "cell_type": "code",
   "execution_count": null,
   "metadata": {},
   "outputs": [],
   "source": []
  },
  {
   "cell_type": "code",
   "execution_count": null,
   "metadata": {},
   "outputs": [],
   "source": []
  },
  {
   "cell_type": "code",
   "execution_count": 195,
   "metadata": {},
   "outputs": [
    {
     "data": {
      "text/plain": [
       "<matplotlib.axes._subplots.AxesSubplot at 0x1d486c2c710>"
      ]
     },
     "execution_count": 195,
     "metadata": {},
     "output_type": "execute_result"
    },
    {
     "data": {
      "image/png": "[encoded data removed]",
      "text/plain": [
       "<Figure size 432x288 with 1 Axes>"
      ]
     },
     "metadata": {
      "needs_background": "light"
     },
     "output_type": "display_data"
    }
   ],
   "source": [
    "trading_data[['close']].plot()"
   ]
  },
  {
   "cell_type": "code",
   "execution_count": 375,
   "metadata": {},
   "outputs": [
    {
     "data": {
      "text/plain": [
       "<matplotlib.axes._subplots.AxesSubplot at 0x183078b72b0>"
      ]
     },
     "execution_count": 375,
     "metadata": {},
     "output_type": "execute_result"
    },
    {
     "data": {
      "image/png": "[encoded data removed]",
      "text/plain": [
       "<Figure size 432x288 with 1 Axes>"
      ]
     },
     "metadata": {
      "needs_background": "light"
     },
     "output_type": "display_data"
    }
   ],
   "source": [
    "transation_log[transation_log['action'] != 'brought'][:50][['Gold']].plot()"
   ]
  },
  {
   "cell_type": "code",
   "execution_count": null,
   "metadata": {},
   "outputs": [],
   "source": []
  },
  {
   "cell_type": "code",
   "execution_count": null,
   "metadata": {},
   "outputs": [],
   "source": []
  },
  {
   "cell_type": "code",
   "execution_count": null,
   "metadata": {},
   "outputs": [],
   "source": []
  },
  {
   "cell_type": "code",
   "execution_count": null,
   "metadata": {},
   "outputs": [],
   "source": []
  }
 ],
 "metadata": {
  "kernelspec": {
   "display_name": "Python 3",
   "language": "python",
   "name": "python3"
  },
  "language_info": {
   "codemirror_mode": {
    "name": "ipython",
    "version": 3
   },
   "file_extension": ".py",
   "mimetype": "text/x-python",
   "name": "python",
   "nbconvert_exporter": "python",
   "pygments_lexer": "ipython3",
   "version": "3.7.2"
  }
 },
 "nbformat": 4,
 "nbformat_minor": 4
}

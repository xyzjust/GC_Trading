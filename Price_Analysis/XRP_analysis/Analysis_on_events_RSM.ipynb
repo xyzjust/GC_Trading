{
 "cells": [
  {
   "cell_type": "code",
   "execution_count": 3,
   "metadata": {},
   "outputs": [],
   "source": [
    "import pandas as pd"
   ]
  },
  {
   "cell_type": "code",
   "execution_count": 4,
   "metadata": {},
   "outputs": [],
   "source": [
    "import numpy as np"
   ]
  },
  {
   "cell_type": "code",
   "execution_count": 5,
   "metadata": {},
   "outputs": [],
   "source": [
    "import datetime as dt"
   ]
  },
  {
   "cell_type": "code",
   "execution_count": 6,
   "metadata": {},
   "outputs": [],
   "source": [
    "from collections import Counter"
   ]
  },
  {
   "cell_type": "code",
   "execution_count": 7,
   "metadata": {},
   "outputs": [],
   "source": [
    "%matplotlib inline"
   ]
  },
  {
   "cell_type": "code",
   "execution_count": 8,
   "metadata": {},
   "outputs": [],
   "source": [
    "import matplotlib.pyplot as plt"
   ]
  },
  {
   "cell_type": "code",
   "execution_count": 9,
   "metadata": {},
   "outputs": [],
   "source": [
    "from mpl_toolkits import mplot3d"
   ]
  },
  {
   "cell_type": "markdown",
   "metadata": {},
   "source": [
    "# Loading Data"
   ]
  },
  {
   "cell_type": "code",
   "execution_count": 10,
   "metadata": {},
   "outputs": [],
   "source": [
    "XRP_Increase = pd.read_csv('../XRP_5min_Increase_SmallAmount_5min.csv')\n",
    "XRP_Decrease = pd.read_csv('../XRP_5min_Decrease_SmallAmount_5min.csv')"
   ]
  },
  {
   "cell_type": "code",
   "execution_count": 11,
   "metadata": {},
   "outputs": [],
   "source": [
    "original_columns = ['datetime_real','date','close','high','low','open','quoteVolume','volume','weightedAverage']"
   ]
  },
  {
   "cell_type": "code",
   "execution_count": 12,
   "metadata": {},
   "outputs": [],
   "source": [
    "max_time = 3456789123"
   ]
  },
  {
   "cell_type": "code",
   "execution_count": 13,
   "metadata": {},
   "outputs": [
    {
     "data": {
      "text/html": [
       "<div>\n",
       "<style scoped>\n",
       "    .dataframe tbody tr th:only-of-type {\n",
       "        vertical-align: middle;\n",
       "    }\n",
       "\n",
       "    .dataframe tbody tr th {\n",
       "        vertical-align: top;\n",
       "    }\n",
       "\n",
       "    .dataframe thead th {\n",
       "        text-align: right;\n",
       "    }\n",
       "</style>\n",
       "<table border=\"1\" class=\"dataframe\">\n",
       "  <thead>\n",
       "    <tr style=\"text-align: right;\">\n",
       "      <th></th>\n",
       "      <th>datetime_real</th>\n",
       "      <th>date</th>\n",
       "      <th>close</th>\n",
       "      <th>high</th>\n",
       "      <th>low</th>\n",
       "      <th>open</th>\n",
       "      <th>quoteVolume</th>\n",
       "      <th>volume</th>\n",
       "      <th>weightedAverage</th>\n",
       "    </tr>\n",
       "  </thead>\n",
       "  <tbody>\n",
       "    <tr>\n",
       "      <th>0</th>\n",
       "      <td>2017-05-04 06:20:00</td>\n",
       "      <td>1493875200</td>\n",
       "      <td>0.069288</td>\n",
       "      <td>0.069960</td>\n",
       "      <td>0.069288</td>\n",
       "      <td>0.069960</td>\n",
       "      <td>163.538132</td>\n",
       "      <td>11.431388</td>\n",
       "      <td>0.069900</td>\n",
       "    </tr>\n",
       "    <tr>\n",
       "      <th>1</th>\n",
       "      <td>2017-05-04 06:25:00</td>\n",
       "      <td>1493875500</td>\n",
       "      <td>0.069100</td>\n",
       "      <td>0.069949</td>\n",
       "      <td>0.069000</td>\n",
       "      <td>0.069949</td>\n",
       "      <td>113714.544855</td>\n",
       "      <td>7909.709770</td>\n",
       "      <td>0.069558</td>\n",
       "    </tr>\n",
       "  </tbody>\n",
       "</table>\n",
       "</div>"
      ],
      "text/plain": [
       "         datetime_real        date     close      high       low      open  \\\n",
       "0  2017-05-04 06:20:00  1493875200  0.069288  0.069960  0.069288  0.069960   \n",
       "1  2017-05-04 06:25:00  1493875500  0.069100  0.069949  0.069000  0.069949   \n",
       "\n",
       "     quoteVolume       volume  weightedAverage  \n",
       "0     163.538132    11.431388         0.069900  \n",
       "1  113714.544855  7909.709770         0.069558  "
      ]
     },
     "execution_count": 13,
     "metadata": {},
     "output_type": "execute_result"
    }
   ],
   "source": [
    "XRP_Increase[original_columns].head(2)"
   ]
  },
  {
   "cell_type": "code",
   "execution_count": 14,
   "metadata": {},
   "outputs": [
    {
     "data": {
      "text/plain": [
       "['Decrease_0.1_percent',\n",
       " 'Decrease_0.2_percent',\n",
       " 'Decrease_0.3_percent',\n",
       " 'Decrease_0.4_percent',\n",
       " 'Decrease_0.5_percent',\n",
       " 'Decrease_0.6_percent',\n",
       " 'Decrease_0.8_percent',\n",
       " 'Decrease_1.0_percent',\n",
       " 'Decrease_1.2_percent',\n",
       " 'Decrease_1.5_percent']"
      ]
     },
     "execution_count": 14,
     "metadata": {},
     "output_type": "execute_result"
    }
   ],
   "source": [
    "[d for d in XRP_Decrease.columns if 'decrease' in d.lower()]"
   ]
  },
  {
   "cell_type": "code",
   "execution_count": 15,
   "metadata": {},
   "outputs": [
    {
     "data": {
      "text/html": [
       "<div>\n",
       "<style scoped>\n",
       "    .dataframe tbody tr th:only-of-type {\n",
       "        vertical-align: middle;\n",
       "    }\n",
       "\n",
       "    .dataframe tbody tr th {\n",
       "        vertical-align: top;\n",
       "    }\n",
       "\n",
       "    .dataframe thead th {\n",
       "        text-align: right;\n",
       "    }\n",
       "</style>\n",
       "<table border=\"1\" class=\"dataframe\">\n",
       "  <thead>\n",
       "    <tr style=\"text-align: right;\">\n",
       "      <th></th>\n",
       "      <th>Unnamed: 0</th>\n",
       "      <th>Unnamed: 0.1</th>\n",
       "      <th>close</th>\n",
       "      <th>date</th>\n",
       "      <th>high</th>\n",
       "      <th>low</th>\n",
       "      <th>open</th>\n",
       "      <th>quoteVolume</th>\n",
       "      <th>volume</th>\n",
       "      <th>weightedAverage</th>\n",
       "      <th>...</th>\n",
       "      <th>Decrease_0.1_percent</th>\n",
       "      <th>Decrease_0.2_percent</th>\n",
       "      <th>Decrease_0.3_percent</th>\n",
       "      <th>Decrease_0.4_percent</th>\n",
       "      <th>Decrease_0.5_percent</th>\n",
       "      <th>Decrease_0.6_percent</th>\n",
       "      <th>Decrease_0.8_percent</th>\n",
       "      <th>Decrease_1.0_percent</th>\n",
       "      <th>Decrease_1.2_percent</th>\n",
       "      <th>Decrease_1.5_percent</th>\n",
       "    </tr>\n",
       "  </thead>\n",
       "  <tbody>\n",
       "    <tr>\n",
       "      <th>0</th>\n",
       "      <td>12736</td>\n",
       "      <td>12736</td>\n",
       "      <td>0.069288</td>\n",
       "      <td>1493875200</td>\n",
       "      <td>0.069960</td>\n",
       "      <td>0.069288</td>\n",
       "      <td>0.069960</td>\n",
       "      <td>163.538132</td>\n",
       "      <td>11.431388</td>\n",
       "      <td>0.069900</td>\n",
       "      <td>...</td>\n",
       "      <td>1493875500</td>\n",
       "      <td>1493875500</td>\n",
       "      <td>1493875500</td>\n",
       "      <td>1493875500</td>\n",
       "      <td>1493875800</td>\n",
       "      <td>1493875800</td>\n",
       "      <td>1493875800</td>\n",
       "      <td>1493875800</td>\n",
       "      <td>1493875800</td>\n",
       "      <td>1493875800</td>\n",
       "    </tr>\n",
       "    <tr>\n",
       "      <th>1</th>\n",
       "      <td>12737</td>\n",
       "      <td>12737</td>\n",
       "      <td>0.069100</td>\n",
       "      <td>1493875500</td>\n",
       "      <td>0.069949</td>\n",
       "      <td>0.069000</td>\n",
       "      <td>0.069949</td>\n",
       "      <td>113714.544855</td>\n",
       "      <td>7909.709770</td>\n",
       "      <td>0.069558</td>\n",
       "      <td>...</td>\n",
       "      <td>1493875800</td>\n",
       "      <td>1493875800</td>\n",
       "      <td>1493875800</td>\n",
       "      <td>1493875800</td>\n",
       "      <td>1493875800</td>\n",
       "      <td>1493875800</td>\n",
       "      <td>1493875800</td>\n",
       "      <td>1493875800</td>\n",
       "      <td>1493875800</td>\n",
       "      <td>1493875800</td>\n",
       "    </tr>\n",
       "    <tr>\n",
       "      <th>2</th>\n",
       "      <td>12738</td>\n",
       "      <td>12738</td>\n",
       "      <td>0.068000</td>\n",
       "      <td>1493875800</td>\n",
       "      <td>0.069100</td>\n",
       "      <td>0.067500</td>\n",
       "      <td>0.069000</td>\n",
       "      <td>220670.240024</td>\n",
       "      <td>15126.256548</td>\n",
       "      <td>0.068547</td>\n",
       "      <td>...</td>\n",
       "      <td>1493876100</td>\n",
       "      <td>1493876100</td>\n",
       "      <td>1493876100</td>\n",
       "      <td>1493876100</td>\n",
       "      <td>1493876100</td>\n",
       "      <td>1493876100</td>\n",
       "      <td>1493876100</td>\n",
       "      <td>1493876100</td>\n",
       "      <td>1493876100</td>\n",
       "      <td>1493876100</td>\n",
       "    </tr>\n",
       "    <tr>\n",
       "      <th>3</th>\n",
       "      <td>12739</td>\n",
       "      <td>12739</td>\n",
       "      <td>0.068465</td>\n",
       "      <td>1493876100</td>\n",
       "      <td>0.068465</td>\n",
       "      <td>0.066432</td>\n",
       "      <td>0.067800</td>\n",
       "      <td>271144.858354</td>\n",
       "      <td>18298.825581</td>\n",
       "      <td>0.067487</td>\n",
       "      <td>...</td>\n",
       "      <td>3456789123</td>\n",
       "      <td>3456789123</td>\n",
       "      <td>3456789123</td>\n",
       "      <td>3456789123</td>\n",
       "      <td>3456789123</td>\n",
       "      <td>3456789123</td>\n",
       "      <td>3456789123</td>\n",
       "      <td>3456789123</td>\n",
       "      <td>3456789123</td>\n",
       "      <td>3456789123</td>\n",
       "    </tr>\n",
       "    <tr>\n",
       "      <th>4</th>\n",
       "      <td>12740</td>\n",
       "      <td>12740</td>\n",
       "      <td>0.068646</td>\n",
       "      <td>1493876400</td>\n",
       "      <td>0.068646</td>\n",
       "      <td>0.067517</td>\n",
       "      <td>0.067802</td>\n",
       "      <td>595249.214904</td>\n",
       "      <td>40678.358104</td>\n",
       "      <td>0.068338</td>\n",
       "      <td>...</td>\n",
       "      <td>3456789123</td>\n",
       "      <td>3456789123</td>\n",
       "      <td>3456789123</td>\n",
       "      <td>3456789123</td>\n",
       "      <td>3456789123</td>\n",
       "      <td>3456789123</td>\n",
       "      <td>3456789123</td>\n",
       "      <td>3456789123</td>\n",
       "      <td>3456789123</td>\n",
       "      <td>3456789123</td>\n",
       "    </tr>\n",
       "  </tbody>\n",
       "</table>\n",
       "<p>5 rows × 26 columns</p>\n",
       "</div>"
      ],
      "text/plain": [
       "   Unnamed: 0  Unnamed: 0.1     close        date      high       low  \\\n",
       "0       12736         12736  0.069288  1493875200  0.069960  0.069288   \n",
       "1       12737         12737  0.069100  1493875500  0.069949  0.069000   \n",
       "2       12738         12738  0.068000  1493875800  0.069100  0.067500   \n",
       "3       12739         12739  0.068465  1493876100  0.068465  0.066432   \n",
       "4       12740         12740  0.068646  1493876400  0.068646  0.067517   \n",
       "\n",
       "       open    quoteVolume        volume  weightedAverage  ...  \\\n",
       "0  0.069960     163.538132     11.431388         0.069900  ...   \n",
       "1  0.069949  113714.544855   7909.709770         0.069558  ...   \n",
       "2  0.069000  220670.240024  15126.256548         0.068547  ...   \n",
       "3  0.067800  271144.858354  18298.825581         0.067487  ...   \n",
       "4  0.067802  595249.214904  40678.358104         0.068338  ...   \n",
       "\n",
       "  Decrease_0.1_percent  Decrease_0.2_percent  Decrease_0.3_percent  \\\n",
       "0           1493875500            1493875500            1493875500   \n",
       "1           1493875800            1493875800            1493875800   \n",
       "2           1493876100            1493876100            1493876100   \n",
       "3           3456789123            3456789123            3456789123   \n",
       "4           3456789123            3456789123            3456789123   \n",
       "\n",
       "   Decrease_0.4_percent Decrease_0.5_percent  Decrease_0.6_percent  \\\n",
       "0            1493875500           1493875800            1493875800   \n",
       "1            1493875800           1493875800            1493875800   \n",
       "2            1493876100           1493876100            1493876100   \n",
       "3            3456789123           3456789123            3456789123   \n",
       "4            3456789123           3456789123            3456789123   \n",
       "\n",
       "   Decrease_0.8_percent  Decrease_1.0_percent  Decrease_1.2_percent  \\\n",
       "0            1493875800            1493875800            1493875800   \n",
       "1            1493875800            1493875800            1493875800   \n",
       "2            1493876100            1493876100            1493876100   \n",
       "3            3456789123            3456789123            3456789123   \n",
       "4            3456789123            3456789123            3456789123   \n",
       "\n",
       "   Decrease_1.5_percent  \n",
       "0            1493875800  \n",
       "1            1493875800  \n",
       "2            1493876100  \n",
       "3            3456789123  \n",
       "4            3456789123  \n",
       "\n",
       "[5 rows x 26 columns]"
      ]
     },
     "execution_count": 15,
     "metadata": {},
     "output_type": "execute_result"
    }
   ],
   "source": [
    "XRP_Decrease.head()"
   ]
  },
  {
   "cell_type": "markdown",
   "metadata": {},
   "source": [
    "### Different stages of the life of XRP"
   ]
  },
  {
   "cell_type": "code",
   "execution_count": null,
   "metadata": {},
   "outputs": [],
   "source": []
  },
  {
   "cell_type": "code",
   "execution_count": 16,
   "metadata": {},
   "outputs": [
    {
     "name": "stdout",
     "output_type": "stream",
     "text": [
      "1507374600 1511274300\n",
      "1512774600 1515174000\n",
      "1515174300 1518174000\n",
      "1547873100 1550872800\n"
     ]
    },
    {
     "data": {
      "image/png": "[encoded data removed]",
      "text/plain": [
       "<Figure size 1512x504 with 1 Axes>"
      ]
     },
     "metadata": {
      "needs_background": "light"
     },
     "output_type": "display_data"
    }
   ],
   "source": [
    "ploting_breakdown = XRP_Increase\n",
    "\n",
    "plt.figure(figsize= (21,7))\n",
    "\n",
    "\n",
    "tran_y_low = ploting_breakdown['low']\n",
    "tran_y_high = ploting_breakdown['high']\n",
    "tran_y_close = ploting_breakdown['close']\n",
    "\n",
    "tran_x = ploting_breakdown['date']\n",
    "\n",
    "\n",
    "# plt.plot(tran_x, tran_y_low, alpha = 0.1)\n",
    "# plt.plot(tran_x, tran_y_high , alpha  = 0.1)\n",
    "\n",
    "plt.plot(tran_x, tran_y_close, alpha  = 0.3)\n",
    "\n",
    "\n",
    "# start = 45000\n",
    "# dealta_t = 10000\n",
    "time_section = {45000 : 13000,\n",
    "                63000 : 8000 ,\n",
    "                71000 : 10000,\n",
    "                180000: 10000}  # start // delta_t\n",
    "\n",
    "\n",
    "for key, val in time_section.items():\n",
    "    xrp_part = ploting_breakdown[ key :   key + val ]\n",
    "    xrp_y = xrp_part['close']\n",
    "    xrp_date = xrp_part['date']\n",
    "\n",
    "    plt.plot(xrp_date, xrp_y, alpha  = 1, label = '{0} - {1}'.format(xrp_part['datetime_real'].min().split(' ')[0],\n",
    "                                                                     xrp_part['datetime_real'].max().split(' ')[0]))\n",
    "\n",
    "    \n",
    "    print(xrp_part['date'].min(), xrp_part['date'].max() )\n",
    "    plt.vlines(1561935900, 0, 1, alpha = 0.2, color = 'b',linestyle = 'dashed')\n",
    "    \n",
    "plt.legend()\n",
    "plt.grid()"
   ]
  },
  {
   "cell_type": "code",
   "execution_count": 17,
   "metadata": {},
   "outputs": [],
   "source": [
    "XRP_Analysis_table = XRP_Increase[original_columns].copy()"
   ]
  },
  {
   "cell_type": "code",
   "execution_count": 18,
   "metadata": {},
   "outputs": [],
   "source": [
    "XRP_Analysis_table['20min_RA_on_Close'] = XRP_Analysis_table['close'].rolling(4).mean().shift(1)\n",
    "XRP_Analysis_table['1H_RA_on_Close'] = XRP_Analysis_table['close'].rolling(12).mean().shift(1)\n",
    "# XRP_Analysis_table['2H_RA_on_Close'] = XRP_Analysis_table['close'].rolling(24).mean().shift(1)\n",
    "XRP_Analysis_table['4H_RA_on_Close'] = XRP_Analysis_table['close'].rolling(48).mean().shift(1)\n",
    "XRP_Analysis_table['12H_RA_on_Close'] = XRP_Analysis_table['close'].rolling(144).mean().shift(1)\n",
    "XRP_Analysis_table['24H_RA_on_Close'] = XRP_Analysis_table['close'].rolling(288).mean().shift(1)\n",
    "XRP_Analysis_table['5D_RA_on_Close'] = XRP_Analysis_table['close'].rolling(1440).mean().shift(1)\n",
    "XRP_Analysis_table['10D_RA_on_Close'] = XRP_Analysis_table['close'].rolling(2880).mean().shift(1)"
   ]
  },
  {
   "cell_type": "code",
   "execution_count": 19,
   "metadata": {},
   "outputs": [],
   "source": [
    "on_close = [d for d in XRP_Analysis_table.columns if '_on_close' in d.lower()]"
   ]
  },
  {
   "cell_type": "code",
   "execution_count": 20,
   "metadata": {},
   "outputs": [
    {
     "data": {
      "text/plain": [
       "['20min_RA_on_Close',\n",
       " '1H_RA_on_Close',\n",
       " '4H_RA_on_Close',\n",
       " '12H_RA_on_Close',\n",
       " '24H_RA_on_Close',\n",
       " '5D_RA_on_Close',\n",
       " '10D_RA_on_Close']"
      ]
     },
     "execution_count": 20,
     "metadata": {},
     "output_type": "execute_result"
    }
   ],
   "source": [
    "on_close"
   ]
  },
  {
   "cell_type": "code",
   "execution_count": 21,
   "metadata": {},
   "outputs": [],
   "source": [
    "for close in on_close:\n",
    "    XRP_Analysis_table['{0}_close_RSM'.format(close.split('_RA_')[0])] = np.sqrt((XRP_Analysis_table['close']- XRP_Analysis_table[close]) **2)\n",
    "    XRP_Analysis_table['{0}_close_dif'.format(close.split('_RA_')[0])] = (XRP_Analysis_table['close']- XRP_Analysis_table[close] )"
   ]
  },
  {
   "cell_type": "code",
   "execution_count": 22,
   "metadata": {},
   "outputs": [
    {
     "data": {
      "text/plain": [
       "['close',\n",
       " '20min_close_RSM',\n",
       " '20min_close_dif',\n",
       " '1H_close_RSM',\n",
       " '1H_close_dif',\n",
       " '4H_close_RSM',\n",
       " '4H_close_dif',\n",
       " '12H_close_RSM',\n",
       " '12H_close_dif',\n",
       " '24H_close_RSM',\n",
       " '24H_close_dif',\n",
       " '5D_close_RSM',\n",
       " '5D_close_dif',\n",
       " '10D_close_RSM',\n",
       " '10D_close_dif']"
      ]
     },
     "execution_count": 22,
     "metadata": {},
     "output_type": "execute_result"
    }
   ],
   "source": [
    "[d for d in XRP_Analysis_table.columns if ('close' in d.lower() and 'RA' not in d)]"
   ]
  },
  {
   "cell_type": "code",
   "execution_count": 23,
   "metadata": {},
   "outputs": [
    {
     "ename": "SyntaxError",
     "evalue": "invalid syntax (<ipython-input-23-863aa400ee3f>, line 1)",
     "output_type": "error",
     "traceback": [
      "\u001b[1;36m  File \u001b[1;32m\"<ipython-input-23-863aa400ee3f>\"\u001b[1;36m, line \u001b[1;32m1\u001b[0m\n\u001b[1;33m    for [d for d in XRP_Analysis_table.columns if ('close' in d.lower() and 'RA' not in d)]\u001b[0m\n\u001b[1;37m                                                                                           ^\u001b[0m\n\u001b[1;31mSyntaxError\u001b[0m\u001b[1;31m:\u001b[0m invalid syntax\n"
     ]
    }
   ],
   "source": [
    "for [d for d in XRP_Analysis_table.columns if ('close' in d.lower() and 'RA' not in d)]"
   ]
  },
  {
   "cell_type": "code",
   "execution_count": null,
   "metadata": {},
   "outputs": [],
   "source": [
    "#XRP_Analysis_table[ ['date']  + [d for d in XRP_Analysis_table.columns if ('close' in d.lower() and 'RA' not in d)]]"
   ]
  },
  {
   "cell_type": "code",
   "execution_count": null,
   "metadata": {},
   "outputs": [],
   "source": []
  },
  {
   "cell_type": "code",
   "execution_count": null,
   "metadata": {},
   "outputs": [],
   "source": [
    "1507374600 1511274300\n",
    "1512774600 1515174000\n",
    "1515174300 1518174000\n",
    "1547873100 1550872800"
   ]
  },
  {
   "cell_type": "code",
   "execution_count": 24,
   "metadata": {},
   "outputs": [],
   "source": [
    "data_selection_section1 = XRP_Analysis_table[(XRP_Analysis_table['date'] >=1507374600 ) & \n",
    "                                    (XRP_Analysis_table['date'] <=1511274300 )][ ['date','close'] + ['1H_close_dif','1H_close_RSM']].reset_index().reset_index()# .set_index('date').plot()\n",
    "\n",
    "data_selection_section2 = XRP_Analysis_table[(XRP_Analysis_table['date'] >=1512774600 ) & \n",
    "                                    (XRP_Analysis_table['date'] <=1516174000 )][ ['date','close'] + ['1H_close_dif','1H_close_RSM']].reset_index().reset_index()# .set_index('date').plot()\n",
    "\n",
    "data_selection_section3 = XRP_Analysis_table[(XRP_Analysis_table['date'] >=1515174300 ) & \n",
    "                                    (XRP_Analysis_table['date'] <=1518174000 )][ ['date','close'] + ['1H_close_dif','1H_close_RSM']].reset_index().reset_index()# .set_index('date').plot()\n",
    "\n",
    "data_selection_section4 = XRP_Analysis_table[(XRP_Analysis_table['date'] >=1547873100 ) & \n",
    "                                    (XRP_Analysis_table['date'] <=1550872800 )][ ['date','close'] + ['1H_close_dif','1H_close_RSM']].reset_index().reset_index()# .set_index('date').plot()"
   ]
  },
  {
   "cell_type": "code",
   "execution_count": 25,
   "metadata": {},
   "outputs": [
    {
     "name": "stdout",
     "output_type": "stream",
     "text": [
      "13000\n",
      "11333\n",
      "10000\n",
      "10000\n"
     ]
    }
   ],
   "source": [
    "for t in [data_selection_section1,\n",
    "data_selection_section2,\n",
    "data_selection_section3,\n",
    "data_selection_section4]:\n",
    "    print(len(t))"
   ]
  },
  {
   "cell_type": "code",
   "execution_count": null,
   "metadata": {},
   "outputs": [],
   "source": []
  },
  {
   "cell_type": "code",
   "execution_count": null,
   "metadata": {},
   "outputs": [],
   "source": []
  },
  {
   "cell_type": "code",
   "execution_count": null,
   "metadata": {},
   "outputs": [],
   "source": []
  },
  {
   "cell_type": "code",
   "execution_count": 48,
   "metadata": {},
   "outputs": [
    {
     "data": {
      "image/png": "[encoded data removed]",
      "text/plain": [
       "<Figure size 1440x720 with 1 Axes>"
      ]
     },
     "metadata": {
      "needs_background": "light"
     },
     "output_type": "display_data"
    }
   ],
   "source": [
    "# Create some mock data\n",
    "t = data_selection_section1[:8000]['level_0']\n",
    "\n",
    "data1_sec1 = data_selection_section1[:8000]['1H_close_dif'].cumsum()/t\n",
    "data1_sec2 = data_selection_section2[:8000]['1H_close_dif'].cumsum()/t\n",
    "data1_sec3 = data_selection_section3[:8000]['1H_close_dif'].cumsum()/t\n",
    "data1_sec4 = data_selection_section4[:8000]['1H_close_dif'].cumsum()/t\n",
    "\n",
    "fig, ax1 = plt.subplots(figsize= (20,10))\n",
    "\n",
    "color1 = 'tab:red'\n",
    "color1_2 = 'tab:green'\n",
    "ax1.set_xlabel('time (s)')\n",
    "ax1.set_ylabel('RSM')\n",
    "ax1.plot(t[50:], data1_sec1[50:], alpha = 0.6, label = 'data1_sec1')\n",
    "# ax1.plot(t[50:], data1_sec2[50:], alpha = 0.6, label = 'data1_sec2')\n",
    "# ax1.plot(t[200:], data1_sec3[200:], alpha = 0.6, label = 'data1_sec3')\n",
    "ax1.plot(t[50:], data1_sec4[50:], alpha = 0.6, label = 'data1_sec4')\n",
    "\n",
    "\n",
    "ax1.axhline(0)\n",
    "\n",
    "ax1.tick_params(axis='y')\n",
    "\n",
    "\n",
    "# ax2 = ax1.twinx()  # instantiate a second axes that shares the same x-axis\n",
    "\n",
    "\n",
    "# data2 = data_selection['close']\n",
    "# color2 = 'tab:blue'\n",
    "# ax2.set_ylabel('XRP', color=color)  # we already handled the x-label with ax1\n",
    "# ax2.plot(t, data2, color=color)\n",
    "# ax2.tick_params(axis='y', labelcolor=color)\n",
    "\n",
    "\n",
    "## vertical lines\n",
    "# ax1.axhline(y=0.0005)\n",
    "# ax1.axhline(y=-0.0005)\n",
    "\n",
    "ax1.axhline(y=0.0002)\n",
    "ax1.axhline(y=-0.0002)\n",
    "\n",
    "\n",
    "\n",
    "fig.tight_layout()  # otherwise the right y-label is slightly clipped\n",
    "\n",
    "ax1.legend()\n",
    "plt.show()"
   ]
  },
  {
   "cell_type": "code",
   "execution_count": 49,
   "metadata": {},
   "outputs": [],
   "source": [
    "RSM: 0.0002"
   ]
  },
  {
   "cell_type": "code",
   "execution_count": null,
   "metadata": {},
   "outputs": [],
   "source": []
  },
  {
   "cell_type": "code",
   "execution_count": null,
   "metadata": {},
   "outputs": [],
   "source": []
  },
  {
   "cell_type": "code",
   "execution_count": null,
   "metadata": {},
   "outputs": [],
   "source": []
  },
  {
   "cell_type": "code",
   "execution_count": null,
   "metadata": {},
   "outputs": [],
   "source": []
  },
  {
   "cell_type": "code",
   "execution_count": null,
   "metadata": {},
   "outputs": [],
   "source": []
  },
  {
   "cell_type": "code",
   "execution_count": null,
   "metadata": {},
   "outputs": [],
   "source": []
  },
  {
   "cell_type": "code",
   "execution_count": null,
   "metadata": {},
   "outputs": [],
   "source": []
  },
  {
   "cell_type": "code",
   "execution_count": null,
   "metadata": {},
   "outputs": [],
   "source": []
  },
  {
   "cell_type": "code",
   "execution_count": null,
   "metadata": {},
   "outputs": [],
   "source": []
  },
  {
   "cell_type": "code",
   "execution_count": null,
   "metadata": {},
   "outputs": [],
   "source": []
  },
  {
   "cell_type": "code",
   "execution_count": null,
   "metadata": {},
   "outputs": [],
   "source": []
  },
  {
   "cell_type": "code",
   "execution_count": null,
   "metadata": {},
   "outputs": [],
   "source": []
  },
  {
   "cell_type": "code",
   "execution_count": null,
   "metadata": {},
   "outputs": [],
   "source": []
  },
  {
   "cell_type": "code",
   "execution_count": null,
   "metadata": {},
   "outputs": [],
   "source": []
  },
  {
   "cell_type": "markdown",
   "metadata": {},
   "source": [
    "## Above 4 graphs shows more profit are made when the market oscillates\n",
    "- which was suspected "
   ]
  },
  {
   "cell_type": "markdown",
   "metadata": {},
   "source": [
    "#### Analysis of the 4 section properties"
   ]
  },
  {
   "cell_type": "raw",
   "metadata": {},
   "source": [
    "Important factors to be considered:\n",
    "    - Rolling Averages\n",
    "    - Accelerations ( dXRP/dt , where XRP is the price)\n",
    "    - Differences from RA"
   ]
  },
  {
   "cell_type": "code",
   "execution_count": null,
   "metadata": {},
   "outputs": [],
   "source": []
  },
  {
   "cell_type": "code",
   "execution_count": null,
   "metadata": {},
   "outputs": [],
   "source": []
  },
  {
   "cell_type": "code",
   "execution_count": null,
   "metadata": {},
   "outputs": [],
   "source": []
  },
  {
   "cell_type": "code",
   "execution_count": null,
   "metadata": {},
   "outputs": [],
   "source": []
  },
  {
   "cell_type": "code",
   "execution_count": null,
   "metadata": {},
   "outputs": [],
   "source": []
  },
  {
   "cell_type": "code",
   "execution_count": null,
   "metadata": {},
   "outputs": [],
   "source": []
  },
  {
   "cell_type": "code",
   "execution_count": null,
   "metadata": {},
   "outputs": [],
   "source": []
  },
  {
   "cell_type": "code",
   "execution_count": null,
   "metadata": {},
   "outputs": [],
   "source": []
  }
 ],
 "metadata": {
  "kernelspec": {
   "display_name": "Python 3",
   "language": "python",
   "name": "python3"
  },
  "language_info": {
   "codemirror_mode": {
    "name": "ipython",
    "version": 3
   },
   "file_extension": ".py",
   "mimetype": "text/x-python",
   "name": "python",
   "nbconvert_exporter": "python",
   "pygments_lexer": "ipython3",
   "version": "3.7.2"
  }
 },
 "nbformat": 4,
 "nbformat_minor": 4
}

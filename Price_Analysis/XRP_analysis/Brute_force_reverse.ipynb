{
 "cells": [
  {
   "cell_type": "code",
   "execution_count": 1,
   "metadata": {},
   "outputs": [],
   "source": [
    "import pandas as pd"
   ]
  },
  {
   "cell_type": "code",
   "execution_count": 2,
   "metadata": {},
   "outputs": [],
   "source": [
    "import numpy as np"
   ]
  },
  {
   "cell_type": "code",
   "execution_count": 3,
   "metadata": {},
   "outputs": [],
   "source": [
    "import datetime as dt"
   ]
  },
  {
   "cell_type": "code",
   "execution_count": 4,
   "metadata": {},
   "outputs": [],
   "source": [
    "from collections import Counter"
   ]
  },
  {
   "cell_type": "code",
   "execution_count": 5,
   "metadata": {},
   "outputs": [],
   "source": [
    "import matplotlib.pyplot as plt"
   ]
  },
  {
   "cell_type": "code",
   "execution_count": 6,
   "metadata": {},
   "outputs": [],
   "source": [
    "from IPython.display import clear_output\n",
    "\n"
   ]
  },
  {
   "cell_type": "markdown",
   "metadata": {},
   "source": [
    "### Import Data"
   ]
  },
  {
   "cell_type": "code",
   "execution_count": 7,
   "metadata": {},
   "outputs": [],
   "source": [
    "XRP_Increase = pd.read_csv('../XRP_5min_Increase_SmallAmount_5min.csv')\n",
    "XRP_Decrease = pd.read_csv('../XRP_5min_Decrease_SmallAmount_5min.csv')"
   ]
  },
  {
   "cell_type": "code",
   "execution_count": 8,
   "metadata": {},
   "outputs": [],
   "source": [
    "original_columns = ['datetime_real','date','close','high','low','open','quoteVolume','volume','weightedAverage']"
   ]
  },
  {
   "cell_type": "code",
   "execution_count": 9,
   "metadata": {},
   "outputs": [
    {
     "data": {
      "text/html": [
       "<div>\n",
       "<style scoped>\n",
       "    .dataframe tbody tr th:only-of-type {\n",
       "        vertical-align: middle;\n",
       "    }\n",
       "\n",
       "    .dataframe tbody tr th {\n",
       "        vertical-align: top;\n",
       "    }\n",
       "\n",
       "    .dataframe thead th {\n",
       "        text-align: right;\n",
       "    }\n",
       "</style>\n",
       "<table border=\"1\" class=\"dataframe\">\n",
       "  <thead>\n",
       "    <tr style=\"text-align: right;\">\n",
       "      <th></th>\n",
       "      <th>Unnamed: 0</th>\n",
       "      <th>Unnamed: 0.1</th>\n",
       "      <th>close</th>\n",
       "      <th>date</th>\n",
       "      <th>high</th>\n",
       "      <th>low</th>\n",
       "      <th>open</th>\n",
       "      <th>quoteVolume</th>\n",
       "      <th>volume</th>\n",
       "      <th>weightedAverage</th>\n",
       "      <th>...</th>\n",
       "      <th>Increase_0.1_percent</th>\n",
       "      <th>Increase_0.2_percent</th>\n",
       "      <th>Increase_0.3_percent</th>\n",
       "      <th>Increase_0.4_percent</th>\n",
       "      <th>Increase_0.5_percent</th>\n",
       "      <th>Increase_0.6_percent</th>\n",
       "      <th>Increase_0.8_percent</th>\n",
       "      <th>Increase_1.0_percent</th>\n",
       "      <th>Increase_1.2_percent</th>\n",
       "      <th>Increase_1.5_percent</th>\n",
       "    </tr>\n",
       "  </thead>\n",
       "  <tbody>\n",
       "    <tr>\n",
       "      <th>0</th>\n",
       "      <td>12736</td>\n",
       "      <td>12736</td>\n",
       "      <td>0.069288</td>\n",
       "      <td>1493875200</td>\n",
       "      <td>0.069960</td>\n",
       "      <td>0.069288</td>\n",
       "      <td>0.069960</td>\n",
       "      <td>163.538132</td>\n",
       "      <td>11.431388</td>\n",
       "      <td>0.069900</td>\n",
       "      <td>...</td>\n",
       "      <td>1493875500</td>\n",
       "      <td>1493875500</td>\n",
       "      <td>1493875500</td>\n",
       "      <td>1493875500</td>\n",
       "      <td>1493875500</td>\n",
       "      <td>1493875500</td>\n",
       "      <td>1493875500</td>\n",
       "      <td>1493881200</td>\n",
       "      <td>1493881500</td>\n",
       "      <td>1493881500</td>\n",
       "    </tr>\n",
       "    <tr>\n",
       "      <th>1</th>\n",
       "      <td>12737</td>\n",
       "      <td>12737</td>\n",
       "      <td>0.069100</td>\n",
       "      <td>1493875500</td>\n",
       "      <td>0.069949</td>\n",
       "      <td>0.069000</td>\n",
       "      <td>0.069949</td>\n",
       "      <td>113714.544855</td>\n",
       "      <td>7909.709770</td>\n",
       "      <td>0.069558</td>\n",
       "      <td>...</td>\n",
       "      <td>1493875800</td>\n",
       "      <td>1493876700</td>\n",
       "      <td>1493876700</td>\n",
       "      <td>1493876700</td>\n",
       "      <td>1493876700</td>\n",
       "      <td>1493877000</td>\n",
       "      <td>1493881200</td>\n",
       "      <td>1493881200</td>\n",
       "      <td>1493881200</td>\n",
       "      <td>1493881500</td>\n",
       "    </tr>\n",
       "    <tr>\n",
       "      <th>2</th>\n",
       "      <td>12738</td>\n",
       "      <td>12738</td>\n",
       "      <td>0.068000</td>\n",
       "      <td>1493875800</td>\n",
       "      <td>0.069100</td>\n",
       "      <td>0.067500</td>\n",
       "      <td>0.069000</td>\n",
       "      <td>220670.240024</td>\n",
       "      <td>15126.256548</td>\n",
       "      <td>0.068547</td>\n",
       "      <td>...</td>\n",
       "      <td>1493876100</td>\n",
       "      <td>1493876100</td>\n",
       "      <td>1493876100</td>\n",
       "      <td>1493876100</td>\n",
       "      <td>1493876100</td>\n",
       "      <td>1493876100</td>\n",
       "      <td>1493876100</td>\n",
       "      <td>1493876100</td>\n",
       "      <td>1493876100</td>\n",
       "      <td>1493876400</td>\n",
       "    </tr>\n",
       "    <tr>\n",
       "      <th>3</th>\n",
       "      <td>12739</td>\n",
       "      <td>12739</td>\n",
       "      <td>0.068465</td>\n",
       "      <td>1493876100</td>\n",
       "      <td>0.068465</td>\n",
       "      <td>0.066432</td>\n",
       "      <td>0.067800</td>\n",
       "      <td>271144.858354</td>\n",
       "      <td>18298.825581</td>\n",
       "      <td>0.067487</td>\n",
       "      <td>...</td>\n",
       "      <td>1493876400</td>\n",
       "      <td>1493876400</td>\n",
       "      <td>1493876400</td>\n",
       "      <td>1493876400</td>\n",
       "      <td>1493876400</td>\n",
       "      <td>1493876400</td>\n",
       "      <td>1493876400</td>\n",
       "      <td>1493876400</td>\n",
       "      <td>1493876400</td>\n",
       "      <td>1493876400</td>\n",
       "    </tr>\n",
       "    <tr>\n",
       "      <th>4</th>\n",
       "      <td>12740</td>\n",
       "      <td>12740</td>\n",
       "      <td>0.068646</td>\n",
       "      <td>1493876400</td>\n",
       "      <td>0.068646</td>\n",
       "      <td>0.067517</td>\n",
       "      <td>0.067802</td>\n",
       "      <td>595249.214904</td>\n",
       "      <td>40678.358104</td>\n",
       "      <td>0.068338</td>\n",
       "      <td>...</td>\n",
       "      <td>1493876700</td>\n",
       "      <td>1493876700</td>\n",
       "      <td>1493876700</td>\n",
       "      <td>1493876700</td>\n",
       "      <td>1493876700</td>\n",
       "      <td>1493876700</td>\n",
       "      <td>1493876700</td>\n",
       "      <td>1493876700</td>\n",
       "      <td>1493876700</td>\n",
       "      <td>1493876700</td>\n",
       "    </tr>\n",
       "  </tbody>\n",
       "</table>\n",
       "<p>5 rows × 24 columns</p>\n",
       "</div>"
      ],
      "text/plain": [
       "   Unnamed: 0  Unnamed: 0.1     close        date      high       low  \\\n",
       "0       12736         12736  0.069288  1493875200  0.069960  0.069288   \n",
       "1       12737         12737  0.069100  1493875500  0.069949  0.069000   \n",
       "2       12738         12738  0.068000  1493875800  0.069100  0.067500   \n",
       "3       12739         12739  0.068465  1493876100  0.068465  0.066432   \n",
       "4       12740         12740  0.068646  1493876400  0.068646  0.067517   \n",
       "\n",
       "       open    quoteVolume        volume  weightedAverage  ...  \\\n",
       "0  0.069960     163.538132     11.431388         0.069900  ...   \n",
       "1  0.069949  113714.544855   7909.709770         0.069558  ...   \n",
       "2  0.069000  220670.240024  15126.256548         0.068547  ...   \n",
       "3  0.067800  271144.858354  18298.825581         0.067487  ...   \n",
       "4  0.067802  595249.214904  40678.358104         0.068338  ...   \n",
       "\n",
       "  Increase_0.1_percent  Increase_0.2_percent  Increase_0.3_percent  \\\n",
       "0           1493875500            1493875500            1493875500   \n",
       "1           1493875800            1493876700            1493876700   \n",
       "2           1493876100            1493876100            1493876100   \n",
       "3           1493876400            1493876400            1493876400   \n",
       "4           1493876700            1493876700            1493876700   \n",
       "\n",
       "   Increase_0.4_percent  Increase_0.5_percent  Increase_0.6_percent  \\\n",
       "0            1493875500            1493875500            1493875500   \n",
       "1            1493876700            1493876700            1493877000   \n",
       "2            1493876100            1493876100            1493876100   \n",
       "3            1493876400            1493876400            1493876400   \n",
       "4            1493876700            1493876700            1493876700   \n",
       "\n",
       "   Increase_0.8_percent  Increase_1.0_percent  Increase_1.2_percent  \\\n",
       "0            1493875500            1493881200            1493881500   \n",
       "1            1493881200            1493881200            1493881200   \n",
       "2            1493876100            1493876100            1493876100   \n",
       "3            1493876400            1493876400            1493876400   \n",
       "4            1493876700            1493876700            1493876700   \n",
       "\n",
       "   Increase_1.5_percent  \n",
       "0            1493881500  \n",
       "1            1493881500  \n",
       "2            1493876400  \n",
       "3            1493876400  \n",
       "4            1493876700  \n",
       "\n",
       "[5 rows x 24 columns]"
      ]
     },
     "execution_count": 9,
     "metadata": {},
     "output_type": "execute_result"
    }
   ],
   "source": [
    "XRP_Increase.head()"
   ]
  },
  {
   "cell_type": "code",
   "execution_count": 10,
   "metadata": {},
   "outputs": [
    {
     "data": {
      "text/plain": [
       "array([0.1, 0.2, 0.3, 0.4, 0.5, 0.6])"
      ]
     },
     "execution_count": 10,
     "metadata": {},
     "output_type": "execute_result"
    }
   ],
   "source": [
    "np.array( [1,2,3,4,5,6])*0.1"
   ]
  },
  {
   "cell_type": "code",
   "execution_count": 11,
   "metadata": {},
   "outputs": [],
   "source": [
    "# for n in np.array( [1,2,3,4,5,6,8,10])*0.1:\n",
    "#     XRP_Increase['shift_open_{}'.format(n)] = XRP_Increase['Increase_{}_percent'.format(n)].shift(1)"
   ]
  },
  {
   "cell_type": "markdown",
   "metadata": {},
   "source": [
    "for 0.6% incraese:\n",
    "\n",
    "how many continous increase are there?"
   ]
  },
  {
   "cell_type": "code",
   "execution_count": 12,
   "metadata": {},
   "outputs": [],
   "source": [
    "# XRP_Increase['diff_0.6'] = XRP_Increase['shift_open_0.6000000000000001'] - XRP_Increase['Increase_0.6000000000000001_percent']"
   ]
  },
  {
   "cell_type": "code",
   "execution_count": 13,
   "metadata": {},
   "outputs": [],
   "source": [
    "#(XRP_Increase[XRP_Increase['diff_0.6'] != 0]['diff_0.6'].value_counts())/(len(XRP_Increase))"
   ]
  },
  {
   "cell_type": "code",
   "execution_count": null,
   "metadata": {},
   "outputs": [],
   "source": []
  },
  {
   "cell_type": "code",
   "execution_count": null,
   "metadata": {},
   "outputs": [],
   "source": []
  },
  {
   "cell_type": "code",
   "execution_count": null,
   "metadata": {},
   "outputs": [],
   "source": []
  },
  {
   "cell_type": "code",
   "execution_count": 14,
   "metadata": {},
   "outputs": [],
   "source": [
    "n = 6*0.1"
   ]
  },
  {
   "cell_type": "code",
   "execution_count": null,
   "metadata": {},
   "outputs": [],
   "source": []
  },
  {
   "cell_type": "markdown",
   "metadata": {},
   "source": [
    "## Adjust for waiting"
   ]
  },
  {
   "cell_type": "code",
   "execution_count": 15,
   "metadata": {},
   "outputs": [],
   "source": [
    "for col in ['Unnamed: 0','Unnamed: 0.1']:\n",
    "    try:\n",
    "        del XRP_Increase[col]\n",
    "    except:\n",
    "        None"
   ]
  },
  {
   "cell_type": "code",
   "execution_count": 16,
   "metadata": {},
   "outputs": [],
   "source": [
    "XRP_Analysis_table = XRP_Increase"
   ]
  },
  {
   "cell_type": "code",
   "execution_count": 17,
   "metadata": {},
   "outputs": [],
   "source": [
    "def brute_force_finding(drop_limit, stop_loss_limit, sell_limit, RH_time, data_to_use, timing_stop = 31536000):\n",
    "    \"\"\"     \n",
    "    inputs:\n",
    "            drop_limit\n",
    "            stop_loss_limit\n",
    "            sell_limit\n",
    "            RH_time\n",
    "            XRP_Analysis_table\n",
    "            \n",
    "            timing_stop (options), defult = 31536000 ( 1 year time )\n",
    "            \n",
    "    \"\"\"\n",
    "    \n",
    "    time_event = {}\n",
    "    starting_asset = 50\n",
    "    bought_crypto = False\n",
    "    gold_available = starting_asset \n",
    "    XRP_amount = 0\n",
    "\n",
    "\n",
    "#     drop_limit = 0.005 # used mean on this side, actual 0.004686, but decreased abit for optimistic view \n",
    "#     stop_loss_limit = 0.01\n",
    "#     sell_limit = 0.006\n",
    "#     RH_time = '2H_RA_on_Close'\n",
    "\n",
    "\n",
    "    \"inputs\"\n",
    "    drop_limit         = drop_limit\n",
    "    stop_loss_limit    = stop_loss_limit\n",
    "    sell_limit         = sell_limit\n",
    "    RH_time            = RH_time\n",
    "    XRP_Analysis_table = data_to_use\n",
    "    timing_stop        = timing_stop\n",
    "    \n",
    "    \n",
    "    if RH_time not in data_to_use.columns:\n",
    "        print(\"check columns of data imported, column of RH attempted : {}\".format(RH_time))\n",
    "        return \"Wrong data input\"\n",
    "    \n",
    "\n",
    "    while gold_available >= 0:\n",
    "\n",
    "        #for ind, df in XRP_Analysis_table[XRP_Analysis_table['datetime_real'] > '2017-07-07'].iterrows():\n",
    "        for ind, df in XRP_Analysis_table.iterrows():\n",
    "    #         print(df['date'])\n",
    "\n",
    "            if bought_crypto != True: # then looking to buy at drop limit or lower\n",
    "                if ( df[RH_time] - df['low'] ) / df[RH_time] >= drop_limit:\n",
    "                    \"then buy crypto\"\n",
    "\n",
    "                    ## might add here a waiting time!!! ###\n",
    "\n",
    "                    XRP_amount += (gold_available/df['low']) * 0.998 # due to 0.2% fee\n",
    "\n",
    "                    gold_available -= gold_available\n",
    "\n",
    "                    time_event.update({df['date']  : ( gold_available, XRP_amount , 'brought' , df['low'])})\n",
    "\n",
    "                    last_xrp_traction_price =  df['low']\n",
    "\n",
    "                    bought_crypto = True\n",
    "                    \n",
    "                    time_brought = df['date'] \n",
    "    #                 print('last_xrp_traction_price ', last_xrp_traction_price)\n",
    "\n",
    "            else:\n",
    "                if ( df[RH_time] - df['low'] ) / df[RH_time] >= stop_loss_limit: # then hit stop loss, force sell\n",
    "#                     print('stoppppppppppppppppppppppppp')\n",
    "                    gold_available += XRP_amount * df['low'] * 0.998  # sell at low price\n",
    "\n",
    "                    XRP_amount -= XRP_amount\n",
    "\n",
    "                    time_event.update({df['date']  : ( gold_available, XRP_amount , 'stop_loss_hit' ,  df['low'])})\n",
    "\n",
    "                    bought_crypto = False\n",
    "\n",
    "                # Time limit, might not need\n",
    "#                 \" other limits needed - such as RA \"\n",
    "                elif df['date'] - time_brought >= timing_stop: # then time limit reached, sell\n",
    "\n",
    "                    #print(last_xrp_traction_price)\n",
    "\n",
    "                    gold_available += XRP_amount * df['high'] * 0.998  # sell at high price\n",
    "\n",
    "                    XRP_amount -= XRP_amount\n",
    "\n",
    "                    time_event.update({df['date']  : ( gold_available, XRP_amount , 'time_stop' , df['close'])})\n",
    "\n",
    "                    bought_crypto = False\n",
    "\n",
    "                elif (df['high'] - last_xrp_traction_price)/last_xrp_traction_price >= sell_limit: # then hit target price, sell for profit\n",
    "\n",
    "#                     print(last_xrp_traction_price)\n",
    "\n",
    "                    gold_available += XRP_amount * df['high'] * 0.998  # sell at high price\n",
    "\n",
    "                    XRP_amount -= XRP_amount\n",
    "\n",
    "                    time_event.update({df['date']  : ( gold_available, XRP_amount , 'sell_profit' , df['high'])})\n",
    "\n",
    "                    bought_crypto = False                    \n",
    "                    \n",
    "                    \n",
    "\n",
    "        break\n",
    "\n",
    "    else:\n",
    "        print('Negative asset: bankrupt  ->>>   ',  gold_available)\n",
    "        \n",
    "    transation_log = pd.DataFrame.from_dict(time_event, orient='index', columns= ['Gold', 'XRP_Amount', 'action', 'price_action_happened'])\n",
    "    transation_log['Gold'] = round(transation_log['Gold'], 2)\n",
    "    transation_log['XRP_Amount'] = round(transation_log['XRP_Amount'], 4)\n",
    "    \n",
    "#     print('end Gold amount ' , transation_log.iloc[-1]['Gold'])\n",
    "    return (transation_log.iloc[-1]['Gold'] , transation_log)"
   ]
  },
  {
   "cell_type": "code",
   "execution_count": 18,
   "metadata": {},
   "outputs": [],
   "source": [
    "XRP_Analysis_table['20min_RA_on_Close'] = XRP_Analysis_table['close'].rolling(4).mean().shift(1)\n",
    "XRP_Analysis_table['1H_RA_on_Close'] = XRP_Analysis_table['close'].rolling(12).mean().shift(1)\n",
    "XRP_Analysis_table['2H_RA_on_Close'] = XRP_Analysis_table['close'].rolling(24).mean().shift(1)\n",
    "XRP_Analysis_table['4H_RA_on_Close'] = XRP_Analysis_table['close'].rolling(48).mean().shift(1)\n",
    "XRP_Analysis_table['12H_RA_on_Close'] = XRP_Analysis_table['close'].rolling(144).mean().shift(1)"
   ]
  },
  {
   "cell_type": "code",
   "execution_count": 42,
   "metadata": {},
   "outputs": [],
   "source": [
    "ra_list            =    ['20min_RA_on_Close', '1H_RA_on_Close', '2H_RA_on_Close', '4H_RA_on_Close', '12H_RA_on_Close']\n",
    "buy_in_list        =    np.arange(0.002,0.022, 0.002)\n",
    "stop_loss_list     =    np.arange(0.01,0.03, 0.002)\n",
    "time_waiting_list  =    [2, 5, 8, 12, 16, 24] # in hours\n",
    "sell_limit_list    =    np.arange(0.002,0.032, 0.002)\n"
   ]
  },
  {
   "cell_type": "markdown",
   "metadata": {},
   "source": [
    "## reversing"
   ]
  },
  {
   "cell_type": "code",
   "execution_count": 43,
   "metadata": {},
   "outputs": [],
   "source": [
    "ra_list.reverse()\n",
    "time_waiting_list.reverse()\n",
    "\n",
    "buy_in_list = buy_in_list[::-1]\n",
    "stop_loss_list = stop_loss_list[::-1]\n",
    "sell_limit_list = sell_limit_list[::-1]"
   ]
  },
  {
   "cell_type": "code",
   "execution_count": 44,
   "metadata": {},
   "outputs": [],
   "source": [
    "dates_cors = {  1507374600: 1511274300,\n",
    "                1512774600: 1515174000,\n",
    "                1515174300: 1518174000,\n",
    "                1547873100: 1550872800}"
   ]
  },
  {
   "cell_type": "code",
   "execution_count": 45,
   "metadata": {},
   "outputs": [
    {
     "name": "stdout",
     "output_type": "stream",
     "text": [
      "1507374600 1511274300\n",
      "1512774600 1515174000\n",
      "1515174300 1518174000\n",
      "1547873100 1550872800\n"
     ]
    }
   ],
   "source": [
    "for time in dates_cors.items():\n",
    "    print(time[0], time[1])"
   ]
  },
  {
   "cell_type": "code",
   "execution_count": 46,
   "metadata": {},
   "outputs": [],
   "source": [
    "from IPython.display import clear_output"
   ]
  },
  {
   "cell_type": "code",
   "execution_count": 47,
   "metadata": {},
   "outputs": [
    {
     "name": "stdout",
     "output_type": "stream",
     "text": [
      "------------------------------------------------------------------------------------------\n",
      "51.94444% progress, for 180,000 iterations\n",
      "buy_in at: 0.01 ;  stop_loss at: 0.026000000000000002 ;  sell_limit at: 0.002 ;  time_waiting at: 24  Hours;  ra at: 20min_RA_on_Close ;  time at: 1547873100 - 1550872800 \n",
      " buyin:          56 \n",
      " sell_profit:    54 \n",
      " stop_loss_hit:  1 \n",
      " time_stop:      1 \n",
      " final amount:   56.73\n",
      "------------------------------------------------------------------------------------------\n",
      "51.945% progress, for 180,000 iterations\n",
      "buy_in at: 0.01 ;  stop_loss at: 0.026000000000000002 ;  sell_limit at: 0.002 ;  time_waiting at: 16  Hours;  ra at: 12H_RA_on_Close ;  time at: 1507374600 - 1511274300 \n",
      " buyin:          1588 \n",
      " sell_profit:    936 \n",
      " stop_loss_hit:  652 \n",
      " time_stop:      0 \n",
      " final amount:   22.46\n",
      "------------------------------------------------------------------------------------------\n",
      "51.94556% progress, for 180,000 iterations\n",
      "buy_in at: 0.01 ;  stop_loss at: 0.026000000000000002 ;  sell_limit at: 0.002 ;  time_waiting at: 16  Hours;  ra at: 12H_RA_on_Close ;  time at: 1512774600 - 1515174000 \n",
      " buyin:          1248 \n",
      " sell_profit:    480 \n",
      " stop_loss_hit:  766 \n",
      " time_stop:      0 \n",
      " final amount:   63.87\n",
      "------------------------------------------------------------------------------------------\n",
      "51.94611% progress, for 180,000 iterations\n"
     ]
    },
    {
     "ename": "KeyboardInterrupt",
     "evalue": "",
     "output_type": "error",
     "traceback": [
      "\u001b[1;31m---------------------------------------------------------------------------\u001b[0m",
      "\u001b[1;31mKeyboardInterrupt\u001b[0m                         Traceback (most recent call last)",
      "\u001b[1;32m<ipython-input-47-6ff0e3438a31>\u001b[0m in \u001b[0;36m<module>\u001b[1;34m\u001b[0m\n\u001b[0;32m     41\u001b[0m                                                                                   (XRP_Analysis_table['date'] <= time[1] )],\n\u001b[0;32m     42\u001b[0m \u001b[1;33m\u001b[0m\u001b[0m\n\u001b[1;32m---> 43\u001b[1;33m                                             \u001b[0mtiming_stop\u001b[0m     \u001b[1;33m=\u001b[0m  \u001b[0mtime_waiting_input\u001b[0m\u001b[1;33m*\u001b[0m\u001b[1;36m60\u001b[0m\u001b[1;33m*\u001b[0m\u001b[1;36m60\u001b[0m\u001b[1;33m\u001b[0m\u001b[1;33m\u001b[0m\u001b[0m\n\u001b[0m\u001b[0;32m     44\u001b[0m                                            )\n\u001b[0;32m     45\u001b[0m \u001b[1;33m\u001b[0m\u001b[0m\n",
      "\u001b[1;32m<ipython-input-17-0ff097e646fa>\u001b[0m in \u001b[0;36mbrute_force_finding\u001b[1;34m(drop_limit, stop_loss_limit, sell_limit, RH_time, data_to_use, timing_stop)\u001b[0m\n\u001b[0;32m     65\u001b[0m \u001b[1;33m\u001b[0m\u001b[0m\n\u001b[0;32m     66\u001b[0m             \u001b[1;32melse\u001b[0m\u001b[1;33m:\u001b[0m\u001b[1;33m\u001b[0m\u001b[1;33m\u001b[0m\u001b[0m\n\u001b[1;32m---> 67\u001b[1;33m                 \u001b[1;32mif\u001b[0m \u001b[1;33m(\u001b[0m \u001b[0mdf\u001b[0m\u001b[1;33m[\u001b[0m\u001b[0mRH_time\u001b[0m\u001b[1;33m]\u001b[0m \u001b[1;33m-\u001b[0m \u001b[0mdf\u001b[0m\u001b[1;33m[\u001b[0m\u001b[1;34m'low'\u001b[0m\u001b[1;33m]\u001b[0m \u001b[1;33m)\u001b[0m \u001b[1;33m/\u001b[0m \u001b[0mdf\u001b[0m\u001b[1;33m[\u001b[0m\u001b[0mRH_time\u001b[0m\u001b[1;33m]\u001b[0m \u001b[1;33m>=\u001b[0m \u001b[0mstop_loss_limit\u001b[0m\u001b[1;33m:\u001b[0m \u001b[1;31m# then hit stop loss, force sell\u001b[0m\u001b[1;33m\u001b[0m\u001b[1;33m\u001b[0m\u001b[0m\n\u001b[0m\u001b[0;32m     68\u001b[0m \u001b[1;31m#                     print('stoppppppppppppppppppppppppp')\u001b[0m\u001b[1;33m\u001b[0m\u001b[1;33m\u001b[0m\u001b[1;33m\u001b[0m\u001b[0m\n\u001b[0;32m     69\u001b[0m                     \u001b[0mgold_available\u001b[0m \u001b[1;33m+=\u001b[0m \u001b[0mXRP_amount\u001b[0m \u001b[1;33m*\u001b[0m \u001b[0mdf\u001b[0m\u001b[1;33m[\u001b[0m\u001b[1;34m'low'\u001b[0m\u001b[1;33m]\u001b[0m \u001b[1;33m*\u001b[0m \u001b[1;36m0.998\u001b[0m  \u001b[1;31m# sell at low price\u001b[0m\u001b[1;33m\u001b[0m\u001b[1;33m\u001b[0m\u001b[0m\n",
      "\u001b[1;32mc:\\users\\zhen\\appdata\\local\\programs\\python\\python37\\lib\\site-packages\\pandas\\core\\series.py\u001b[0m in \u001b[0;36m__getitem__\u001b[1;34m(self, key)\u001b[0m\n\u001b[0;32m    866\u001b[0m         \u001b[0mkey\u001b[0m \u001b[1;33m=\u001b[0m \u001b[0mcom\u001b[0m\u001b[1;33m.\u001b[0m\u001b[0mapply_if_callable\u001b[0m\u001b[1;33m(\u001b[0m\u001b[0mkey\u001b[0m\u001b[1;33m,\u001b[0m \u001b[0mself\u001b[0m\u001b[1;33m)\u001b[0m\u001b[1;33m\u001b[0m\u001b[1;33m\u001b[0m\u001b[0m\n\u001b[0;32m    867\u001b[0m         \u001b[1;32mtry\u001b[0m\u001b[1;33m:\u001b[0m\u001b[1;33m\u001b[0m\u001b[1;33m\u001b[0m\u001b[0m\n\u001b[1;32m--> 868\u001b[1;33m             \u001b[0mresult\u001b[0m \u001b[1;33m=\u001b[0m \u001b[0mself\u001b[0m\u001b[1;33m.\u001b[0m\u001b[0mindex\u001b[0m\u001b[1;33m.\u001b[0m\u001b[0mget_value\u001b[0m\u001b[1;33m(\u001b[0m\u001b[0mself\u001b[0m\u001b[1;33m,\u001b[0m \u001b[0mkey\u001b[0m\u001b[1;33m)\u001b[0m\u001b[1;33m\u001b[0m\u001b[1;33m\u001b[0m\u001b[0m\n\u001b[0m\u001b[0;32m    869\u001b[0m \u001b[1;33m\u001b[0m\u001b[0m\n\u001b[0;32m    870\u001b[0m             \u001b[1;32mif\u001b[0m \u001b[1;32mnot\u001b[0m \u001b[0mis_scalar\u001b[0m\u001b[1;33m(\u001b[0m\u001b[0mresult\u001b[0m\u001b[1;33m)\u001b[0m\u001b[1;33m:\u001b[0m\u001b[1;33m\u001b[0m\u001b[1;33m\u001b[0m\u001b[0m\n",
      "\u001b[1;31mKeyboardInterrupt\u001b[0m: "
     ]
    }
   ],
   "source": [
    "event_dictionary = [(   'buy_in',\n",
    "                        'stop_loss',\n",
    "                        'sell_limit',\n",
    "                        'time_waiting',\n",
    "                        'ra_column',\n",
    "                        'time',\n",
    "                        'buyin',\n",
    "                        'sell_profit',\n",
    "                        'stop_loss_hit',\n",
    "                        'time_stop',\n",
    "                        'final amount')]\n",
    "\n",
    "n = 0\n",
    "\n",
    "for buy_in_input in buy_in_list:\n",
    "    \n",
    "    for stop_loss_input in stop_loss_list:\n",
    "        \n",
    "        for sell_limit_input in sell_limit_list:\n",
    "            \n",
    "            for time_waiting_input in time_waiting_list:\n",
    "                \n",
    "                for ra in ra_list:\n",
    "                    \n",
    "                    for time in dates_cors.items():\n",
    "                        n += 1\n",
    "                        \n",
    "                        if n%5 == 0:\n",
    "                            clear_output()\n",
    "                        \n",
    "                        print('------------------------------------------------------------------------------------------')\n",
    "                        print( str(round((n/180000) * 100,5)) + '% progress, for 180,000 iterations')\n",
    "                        \n",
    "\n",
    "                        \n",
    "                        temp = brute_force_finding(drop_limit      =  buy_in_input,\n",
    "                                            stop_loss_limit =  stop_loss_input,\n",
    "                                            sell_limit      =  sell_limit_input,\n",
    "                                            RH_time         =  ra,\n",
    "                                            data_to_use     =  XRP_Analysis_table[(XRP_Analysis_table['date'] >= time[0] ) &\n",
    "                                                                                  (XRP_Analysis_table['date'] <= time[1] )],\n",
    "                                            \n",
    "                                            timing_stop     =  time_waiting_input*60*60\n",
    "                                           )\n",
    "                        \n",
    "                        event_dictionary.append((buy_in_input,\n",
    "                                                 stop_loss_input,\n",
    "                                                 sell_limit_input,\n",
    "                                                 ra,\n",
    "                                                 time[0],\n",
    "                                                 time[1],\n",
    "                                                 len(temp[1][temp[1]['action'] == 'brought']),\n",
    "                                                 len(temp[1][temp[1]['action'] == 'sell_profit']),\n",
    "                                                 len(temp[1][temp[1]['action'] == 'stop_loss_hit']),\n",
    "                                                 len(temp[1][temp[1]['action'] == 'time_stop']),\n",
    "                                                 sum(temp[1][-2:]['Gold']) # append last gold value (append df take too much data)\n",
    "                                                ))\n",
    "                        \n",
    "                        \n",
    "                        print('buy_in at:', buy_in_input , '; ',\n",
    "                              'stop_loss at:', stop_loss_input , '; ',\n",
    "                              'sell_limit at:', sell_limit_input , '; ',\n",
    "                              'time_waiting at:', time_waiting_input , ' Hours; ',\n",
    "                              'ra at:', ra , '; ',\n",
    "                              'time at:', time[0], '-' , time[1] , '\\n',\n",
    "                              'buyin:         ' , len(temp[1][temp[1]['action'] == 'brought']) , '\\n',\n",
    "                              'sell_profit:   ', len(temp[1][temp[1]['action'] == 'sell_profit']) , '\\n',\n",
    "                              'stop_loss_hit: ' , len(temp[1][temp[1]['action'] == 'stop_loss_hit']) , '\\n',\n",
    "                              'time_stop:     ' , len(temp[1][temp[1]['action'] == 'time_stop']) , '\\n',\n",
    "                              'final amount:  ' ,  sum(temp[1][-2:]['Gold']) )\n",
    "\n"
   ]
  },
  {
   "cell_type": "code",
   "execution_count": 54,
   "metadata": {},
   "outputs": [],
   "source": [
    "reverse_table_save = pd.DataFrame(event_dictionary)"
   ]
  },
  {
   "cell_type": "code",
   "execution_count": 55,
   "metadata": {},
   "outputs": [],
   "source": [
    "# reverse_table_save_1 = reverse_table_save.copy()"
   ]
  },
  {
   "cell_type": "code",
   "execution_count": 73,
   "metadata": {},
   "outputs": [],
   "source": [
    "reverse_table_save.columns = reverse_table_save.iloc[0].values"
   ]
  },
  {
   "cell_type": "code",
   "execution_count": 76,
   "metadata": {},
   "outputs": [],
   "source": [
    "reverse_table_save[1:].to_pickle('reverse_save_xrp_brute.pkl')"
   ]
  },
  {
   "cell_type": "code",
   "execution_count": 78,
   "metadata": {},
   "outputs": [],
   "source": [
    "reverse_table_save = reverse_table_save[1:]"
   ]
  },
  {
   "cell_type": "code",
   "execution_count": 80,
   "metadata": {},
   "outputs": [
    {
     "data": {
      "text/plain": [
       "array([0.020000000000000004, 0.018000000000000002, 0.016, 0.014, 0.012,\n",
       "       0.01], dtype=object)"
      ]
     },
     "execution_count": 80,
     "metadata": {},
     "output_type": "execute_result"
    }
   ],
   "source": [
    "reverse_table_save['buy_in'].unique()"
   ]
  },
  {
   "cell_type": "code",
   "execution_count": 81,
   "metadata": {},
   "outputs": [
    {
     "data": {
      "text/plain": [
       "array([0.02 , 0.018, 0.016, 0.014, 0.012, 0.01 , 0.008, 0.006, 0.004,\n",
       "       0.002])"
      ]
     },
     "execution_count": 81,
     "metadata": {},
     "output_type": "execute_result"
    }
   ],
   "source": [
    "buy_in_list"
   ]
  },
  {
   "cell_type": "code",
   "execution_count": null,
   "metadata": {},
   "outputs": [],
   "source": []
  },
  {
   "cell_type": "code",
   "execution_count": null,
   "metadata": {},
   "outputs": [],
   "source": []
  },
  {
   "cell_type": "code",
   "execution_count": null,
   "metadata": {},
   "outputs": [],
   "source": []
  },
  {
   "cell_type": "code",
   "execution_count": null,
   "metadata": {},
   "outputs": [],
   "source": []
  },
  {
   "cell_type": "code",
   "execution_count": 53,
   "metadata": {},
   "outputs": [],
   "source": [
    "def plotting_view(xrp_data_input , trading_log ):\n",
    "\n",
    "#     ploting_breakdown = XRP_Analysis_table[(XRP_Analysis_table['date'] >= 1507374600 ) &\n",
    "#                                            (XRP_Analysis_table['date'] <= 1511274300 )]\n",
    "\n",
    "\n",
    "    transaction_display = trading_log\n",
    "    transaction_display['time_start'] = transaction_display.index\n",
    "    transaction_display['time_end'] = round(transaction_display['time_start'].shift(-1), 0)\n",
    "\n",
    "    transaction_display['action_to_color'] = transaction_display['action'].shift(-1)\n",
    "\n",
    "    transaction_display['colour_section'] = transaction_display['action_to_color'].apply(lambda x: 'r' if x == 'stop_loss_hit' else 'g')\n",
    "    \n",
    "    ploting_breakdown = xrp_data_input\n",
    "    plt.figure(figsize= (20,10))\n",
    "\n",
    "\n",
    "    tran_y_low = ploting_breakdown['low']\n",
    "    tran_y_high = ploting_breakdown['high']\n",
    "\n",
    "    tran_y_ra = ploting_breakdown['2H_RA_on_Close']\n",
    "\n",
    "    tran_x = ploting_breakdown['date']\n",
    "\n",
    "\n",
    "    plt.plot(tran_x, tran_y_low)\n",
    "    plt.plot(tran_x, tran_y_high)\n",
    "\n",
    "    plt.plot(tran_x, tran_y_ra)\n",
    "\n",
    "    graph_min = ploting_breakdown['low'].min() * 0.9\n",
    "    graph_max = ploting_breakdown['high'].max() * 1.1\n",
    "\n",
    "    # plotting transaction\n",
    "    for ind, value in transaction_display[ (transaction_display['time_start'] <= ploting_breakdown['date'].max()) &\n",
    "                                           (transaction_display['time_start'] >= ploting_breakdown['date'].min()) &                      \n",
    "                                           (transaction_display['action'] == 'brought')].iterrows():\n",
    "\n",
    "        plt.axvspan(value['time_start'], value['time_end'], alpha = 0.1 , facecolor = value['colour_section'])\n",
    "\n",
    "    #     plt.vlines(value['time_start'], graph_min, graph_max, alpha = 0.4, color = value['colour_section'])\n",
    "    #     plt.vlines(value['time_end'], graph_min, graph_max, alpha = 0.4, color = value['colour_section'], linestyle = 'dashed')\n",
    "\n",
    "\n",
    "    # for ind, value in ploting_breakdown[ploting_breakdown['Increase_0.5_percent'] <= ploting_breakdown['date'].max()].iterrows():\n",
    "    # #     print(value['Increase_0.5_percent'])\n",
    "    # #     plt.vlines(value['date'], 0, 1, alpha = 0.2, color = 'b',linestyle = 'dashed')\n",
    "    #     plt.vlines(value['Increase_0.5_percent'], 0, 1, alpha = 0.2, color = 'b',linestyle = 'dashed')\n",
    "\n",
    "\n",
    "    plt.ylim(graph_min, graph_max )\n",
    "\n",
    "    plt.xlim(ploting_breakdown['date'].min(), ploting_breakdown['date'].max())\n",
    "    plt.legend()"
   ]
  },
  {
   "cell_type": "code",
   "execution_count": null,
   "metadata": {},
   "outputs": [],
   "source": []
  },
  {
   "cell_type": "code",
   "execution_count": null,
   "metadata": {},
   "outputs": [],
   "source": []
  },
  {
   "cell_type": "code",
   "execution_count": null,
   "metadata": {},
   "outputs": [],
   "source": []
  },
  {
   "cell_type": "code",
   "execution_count": null,
   "metadata": {},
   "outputs": [],
   "source": []
  }
 ],
 "metadata": {
  "kernelspec": {
   "display_name": "Python 3",
   "language": "python",
   "name": "python3"
  },
  "language_info": {
   "codemirror_mode": {
    "name": "ipython",
    "version": 3
   },
   "file_extension": ".py",
   "mimetype": "text/x-python",
   "name": "python",
   "nbconvert_exporter": "python",
   "pygments_lexer": "ipython3",
   "version": "3.7.2"
  }
 },
 "nbformat": 4,
 "nbformat_minor": 4
}

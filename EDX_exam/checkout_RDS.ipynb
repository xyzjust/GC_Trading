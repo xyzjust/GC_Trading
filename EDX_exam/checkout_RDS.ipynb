{
 "cells": [
  {
   "cell_type": "markdown",
   "metadata": {},
   "source": [
    "Given the volatility of cryptocurrencies, this research seeks to understand if swing trade XRP* will be possible by observing trends of long term as well as short term trade prices of XRP. Then use these characteristics to predict when to buy and sell XRP using classification techniques. (Since the end results are specific actions such as \"Buy\", Classification techniques will be used rather than Regression)\n",
    "\n",
    "The data of XRP trade history (of 5-minute intervals) will be taken from the exchange:\n",
    "https://poloniex.com\n",
    "\n",
    "\n",
    "* what is XRP: https://en.wikipedia.org/wiki/Ripple_(payment_protocol)"
   ]
  },
  {
   "cell_type": "markdown",
   "metadata": {},
   "source": [
    "## Import things "
   ]
  },
  {
   "cell_type": "code",
   "execution_count": 4,
   "metadata": {},
   "outputs": [],
   "source": [
    "import os\n",
    "os.environ[\"PATH\"] += os.pathsep + 'C:/Program Files (x86)/Graphviz2.38/bin/'\n",
    "os.environ[\"PATH\"] += os.pathsep + 'D:/LatexPackage/miktex/bin/x64'"
   ]
  },
  {
   "cell_type": "code",
   "execution_count": 5,
   "metadata": {},
   "outputs": [],
   "source": [
    "import warnings\n",
    "warnings.filterwarnings(\"ignore\")\n"
   ]
  },
  {
   "cell_type": "code",
   "execution_count": 6,
   "metadata": {},
   "outputs": [],
   "source": [
    "import numpy as np\n",
    "\n",
    "import matplotlib.pyplot as plt\n",
    "\n",
    "import datetime as dt\n",
    "\n",
    "from datetime import datetime\n",
    "\n",
    "import numpy as np\n",
    "\n",
    "import pandas as pd\n",
    "import urllib.request\n",
    "     \n",
    "\n",
    "from IPython.display import clear_output"
   ]
  },
  {
   "cell_type": "markdown",
   "metadata": {},
   "source": [
    "## Initialisation Set up"
   ]
  },
  {
   "cell_type": "code",
   "execution_count": 10,
   "metadata": {},
   "outputs": [],
   "source": [
    "# valid period : 300, 900, 1800, 7200, 14400, 86400 :seconds\n",
    " \n",
    "def GetCurDF_5min(cur,start):\n",
    "    '''\n",
    "    cur:    3 letter abbreviation for cryptocurrency (BTC, LTC, etc)\n",
    "    fp:     File path (to save price data to CSV)\n",
    "    '''\n",
    "    start = start \n",
    "    end = start + 7776000 #90 days is safe\n",
    "    print(\"https://poloniex.com/public?command=returnChartData&currencyPair=USDT_{0}&start={1}&end={2}&period=300\".format(cur, start,end))\n",
    "    openUrl = urllib.request.urlopen(\"https://poloniex.com/public?command=returnChartData&currencyPair=USDT_{0}&start={1}&end={2}&period=300'\".format(cur, start,end))\n",
    "    r = openUrl.read()\n",
    "    openUrl.close()\n",
    "    df = pd.read_json(r.decode())\n",
    "    df['date'] = df['date'].astype(np.int64) // 1000000000   ## datetime.fromtimestamp(1424138400) to convert back\n",
    "    return df"
   ]
  },
  {
   "cell_type": "code",
   "execution_count": null,
   "metadata": {},
   "outputs": [],
   "source": []
  },
  {
   "cell_type": "markdown",
   "metadata": {},
   "source": [
    "## Initialisation"
   ]
  },
  {
   "cell_type": "markdown",
   "metadata": {},
   "source": [
    "adjusted for only XRP 5 minute responses, other timing and crypto can also be selected"
   ]
  },
  {
   "cell_type": "code",
   "execution_count": 11,
   "metadata": {
    "collapsed": true,
    "jupyter": {
     "outputs_hidden": true
    }
   },
   "outputs": [
    {
     "name": "stdout",
     "output_type": "stream",
     "text": [
      "https://poloniex.com/public?command=returnChartData&currencyPair=USDT_XRP&start=1420070400&end=1427846400&period=300\n",
      "XRP 1427846400\n",
      "https://poloniex.com/public?command=returnChartData&currencyPair=USDT_XRP&start=1427846400&end=1435622400&period=300\n",
      "XRP 1435622400\n",
      "https://poloniex.com/public?command=returnChartData&currencyPair=USDT_XRP&start=1435622400&end=1443398400&period=300\n",
      "XRP 1443398400\n",
      "https://poloniex.com/public?command=returnChartData&currencyPair=USDT_XRP&start=1443398400&end=1451174400&period=300\n",
      "XRP 1451174400\n",
      "https://poloniex.com/public?command=returnChartData&currencyPair=USDT_XRP&start=1451174400&end=1458950400&period=300\n",
      "XRP 1458950400\n",
      "https://poloniex.com/public?command=returnChartData&currencyPair=USDT_XRP&start=1458950400&end=1466726400&period=300\n",
      "XRP 1466726400\n",
      "https://poloniex.com/public?command=returnChartData&currencyPair=USDT_XRP&start=1466726400&end=1474502400&period=300\n",
      "XRP 1474502400\n",
      "https://poloniex.com/public?command=returnChartData&currencyPair=USDT_XRP&start=1474502400&end=1482278400&period=300\n",
      "XRP 1482278400\n",
      "https://poloniex.com/public?command=returnChartData&currencyPair=USDT_XRP&start=1482278400&end=1490054400&period=300\n",
      "XRP 1490054400\n",
      "https://poloniex.com/public?command=returnChartData&currencyPair=USDT_XRP&start=1490054400&end=1497830400&period=300\n",
      "XRP 1497830400\n",
      "https://poloniex.com/public?command=returnChartData&currencyPair=USDT_XRP&start=1497830400&end=1505606400&period=300\n",
      "XRP 1505606400\n",
      "https://poloniex.com/public?command=returnChartData&currencyPair=USDT_XRP&start=1505606400&end=1513382400&period=300\n",
      "XRP 1513382400\n",
      "https://poloniex.com/public?command=returnChartData&currencyPair=USDT_XRP&start=1513382400&end=1521158400&period=300\n",
      "XRP 1521158400\n",
      "https://poloniex.com/public?command=returnChartData&currencyPair=USDT_XRP&start=1521158400&end=1528934400&period=300\n",
      "XRP 1528934400\n",
      "https://poloniex.com/public?command=returnChartData&currencyPair=USDT_XRP&start=1528934400&end=1536710400&period=300\n",
      "XRP 1536710400\n",
      "https://poloniex.com/public?command=returnChartData&currencyPair=USDT_XRP&start=1536710400&end=1544486400&period=300\n",
      "XRP 1544486400\n",
      "https://poloniex.com/public?command=returnChartData&currencyPair=USDT_XRP&start=1544486400&end=1552262400&period=300\n",
      "XRP 1552262400\n",
      "https://poloniex.com/public?command=returnChartData&currencyPair=USDT_XRP&start=1552262400&end=1560038400&period=300\n",
      "XRP 1560038400\n",
      "https://poloniex.com/public?command=returnChartData&currencyPair=USDT_XRP&start=1560038400&end=1567814400&period=300\n",
      "XRP 1567814400\n",
      "https://poloniex.com/public?command=returnChartData&currencyPair=USDT_XRP&start=1567814400&end=1575590400&period=300\n",
      "XRP 1575590400\n"
     ]
    }
   ],
   "source": [
    "# for coin in ['LSK','ETH','ETC','STR','XMR','XRP','LTC','ATOM','XMR','ZEC','BAT','SNT','BTC']:\n",
    "    \n",
    "for coin in ['XRP']:\n",
    "    clear_output()\n",
    "\n",
    "    starting_time_all = 1420070400\n",
    "    \n",
    "    list_5min = []\n",
    "    list_30min = []\n",
    "    list_2H = []\n",
    "\n",
    "    while starting_time_all < datetime.timestamp(datetime.now()):\n",
    "        \n",
    "        timestamp_start = str(datetime.fromtimestamp(starting_time_all)).replace(':','').replace('-','').replace(' ','')\n",
    "\n",
    "        df_5min  =  [GetCurDF_5min(coin,starting_time_all), '{0}_5min_Freq_starting_at_{1}'.format(coin,timestamp_start)]\n",
    "        \n",
    "        for tables in [df_5min]:\n",
    "            if '_5min_' in tables[1]:\n",
    "                tables[0].to_csv('Coin_Data_5min/{0}.csv'.format(tables[1]))\n",
    "                list_5min.append(tables[1])\n",
    "\n",
    "        starting_time_all += 7776000\n",
    "        \n",
    "        \n",
    "        print(coin, starting_time_all)\n",
    "        \n",
    "        \n",
    "        \n",
    "    to_save_list = [list_5min]\n",
    "        \n",
    "        \n",
    "    for li in to_save_list:\n",
    "\n",
    "        MyFile=open('{0}_5min_Freq.txt'.format(coin),'w')\n",
    "\n",
    "        for element in li:\n",
    "            MyFile.write(element)\n",
    "            MyFile.write('\\n')\n",
    "        MyFile.close()\n",
    "        "
   ]
  },
  {
   "cell_type": "code",
   "execution_count": null,
   "metadata": {},
   "outputs": [],
   "source": []
  },
  {
   "cell_type": "markdown",
   "metadata": {},
   "source": [
    "## Updating existing data if needed"
   ]
  },
  {
   "cell_type": "code",
   "execution_count": 135,
   "metadata": {},
   "outputs": [
    {
     "name": "stdout",
     "output_type": "stream",
     "text": [
      "https://poloniex.com/public?command=returnChartData&currencyPair=USDT_XRP&start=1564702500&end=1572478500&period=300\n",
      "XRP 1572478500\n",
      "https://poloniex.com/public?command=returnChartData&currencyPair=USDT_XRP&start=1572478500&end=1580254500&period=300\n",
      "XRP 1580254500\n"
     ]
    }
   ],
   "source": [
    "for coin in ['XRP']:\n",
    "    clear_output()\n",
    "\n",
    "    starting_time_all = 1564702500 # starting on aug 2nd 2019 due to refresh data\n",
    "    \n",
    "    list_5min = []\n",
    "    list_30min = []\n",
    "    list_2H = []\n",
    "\n",
    "    while starting_time_all < datetime.timestamp(datetime.now()):\n",
    "        \n",
    "        timestamp_start = str(datetime.fromtimestamp(starting_time_all)).replace(':','').replace('-','').replace(' ','')\n",
    "\n",
    "        df_5min  =  [GetCurDF_5min(coin,starting_time_all), '{0}_5min_Freq_starting_at_{1}'.format(coin,timestamp_start)]\n",
    "        \n",
    "#         df_30min =  [GetCurDF_30min(coin,starting_time_all), '{0}_30min_Freq_starting_at_{1}'.format(coin,timestamp_start)]\n",
    "        \n",
    "#         df_2Hour =  [GetCurDF_2Hours(coin,starting_time_all), '{0}_2H_Freq_starting_at_{1}'.format(coin,timestamp_start)]\n",
    "\n",
    "        \n",
    "        for tables in [df_5min]:#, df_30min , df_2Hour]:\n",
    "            if '_5min_' in tables[1]:\n",
    "                tables[0].to_csv('./Coin_Data_5min/{0}.csv'.format(tables[1]))\n",
    "                list_5min.append(tables[1])\n",
    "                \n",
    "#             elif '_30min_' in tables[1]:\n",
    "#                 tables[0].to_csv('Coin_Data_30min/{0}.csv'.format(tables[1]))\n",
    "#                 list_30min.append(tables[1])\n",
    "#             else:\n",
    "#                 tables[0].to_csv('Coin_Data_2H/{0}.csv'.format(tables[1]))\n",
    "#                 list_2H.append(tables[1])\n",
    "                \n",
    "        starting_time_all += 7776000\n",
    "        \n",
    "        \n",
    "        print(coin, starting_time_all)\n",
    "        \n",
    "        \n",
    "        \n",
    "    to_save_list = [list_5min]#, list_30min, list_2H]\n",
    "        \n",
    "        \n",
    "    for li in to_save_list:\n",
    "\n",
    "        if '_5min_' in li[0]:\n",
    "            \n",
    "            list_5min = []\n",
    "            \n",
    "            read_MyFile=open('{0}_5min_Freq.txt'.format(coin),'r')\n",
    "            \n",
    "            for i in read_MyFile:\n",
    "                list_5min.append(int(i.split('_')[-1]))\n",
    "                \n",
    "            read_MyFile.close()\n",
    "            \n",
    "            MyFile=open('{0}_5min_Freq.txt'.format(coin),'a')\n",
    "\n",
    "#         elif '_30min_' in li[0]:\n",
    "#             MyFile=open('{0}_30min_Freq.txt'.format(coin),'w')\n",
    "\n",
    "#         else:\n",
    "#             MyFile=open('{0}_2H_Freq.txt'.format(coin),'w')\n",
    "\n",
    "            for element in li:\n",
    "                if int(element.split('_')[-1]) not in list_5min:\n",
    "                    MyFile.write(element)\n",
    "                    MyFile.write('\\n')\n",
    "            MyFile.close()\n"
   ]
  },
  {
   "cell_type": "code",
   "execution_count": null,
   "metadata": {},
   "outputs": [],
   "source": []
  },
  {
   "cell_type": "code",
   "execution_count": null,
   "metadata": {},
   "outputs": [],
   "source": []
  },
  {
   "cell_type": "code",
   "execution_count": null,
   "metadata": {},
   "outputs": [],
   "source": []
  },
  {
   "cell_type": "code",
   "execution_count": null,
   "metadata": {},
   "outputs": [],
   "source": []
  },
  {
   "cell_type": "markdown",
   "metadata": {},
   "source": [
    "# Starting of analysis"
   ]
  },
  {
   "cell_type": "markdown",
   "metadata": {},
   "source": [
    "### Get 5min XRP data"
   ]
  },
  {
   "cell_type": "code",
   "execution_count": 7,
   "metadata": {},
   "outputs": [],
   "source": [
    "XRP = []\n",
    "for myf in open('./XRP_5min_Freq.txt'):\n",
    "    XRP.append(myf.replace('\\n',''))"
   ]
  },
  {
   "cell_type": "code",
   "execution_count": 8,
   "metadata": {},
   "outputs": [],
   "source": [
    "XRP_Data = []\n",
    "for E in XRP:\n",
    "    XRP_Temp = pd.read_csv('./Coin_Data_5min/{0}.csv'.format(E))\n",
    "    XRP_Data.append(XRP_Temp)"
   ]
  },
  {
   "cell_type": "code",
   "execution_count": 9,
   "metadata": {},
   "outputs": [],
   "source": [
    "XRP_Data = pd.concat(XRP_Data)"
   ]
  },
  {
   "cell_type": "code",
   "execution_count": 10,
   "metadata": {},
   "outputs": [],
   "source": [
    "XRP_Data = XRP_Data.drop(columns = ['Unnamed: 0']).drop_duplicates()"
   ]
  },
  {
   "cell_type": "code",
   "execution_count": 11,
   "metadata": {},
   "outputs": [],
   "source": [
    "XRP_Data['datetime_real'] = XRP_Data['date'].apply(lambda x: datetime.fromtimestamp(x))"
   ]
  },
  {
   "cell_type": "code",
   "execution_count": null,
   "metadata": {},
   "outputs": [],
   "source": []
  },
  {
   "cell_type": "markdown",
   "metadata": {},
   "source": [
    "#### rough check on data"
   ]
  },
  {
   "cell_type": "code",
   "execution_count": 12,
   "metadata": {},
   "outputs": [
    {
     "data": {
      "text/plain": [
       "<matplotlib.axes._subplots.AxesSubplot at 0x10ec0b630>"
      ]
     },
     "execution_count": 12,
     "metadata": {},
     "output_type": "execute_result"
    },
    {
     "data": {
      "image/png": "[encoded data removed]",
      "text/plain": [
       "<Figure size 720x360 with 1 Axes>"
      ]
     },
     "metadata": {
      "needs_background": "light"
     },
     "output_type": "display_data"
    }
   ],
   "source": [
    "XRP_Data.set_index('datetime_real')[['close']].plot(figsize = (10,5))"
   ]
  },
  {
   "cell_type": "code",
   "execution_count": 13,
   "metadata": {},
   "outputs": [
    {
     "data": {
      "text/html": [
       "<div>\n",
       "<style scoped>\n",
       "    .dataframe tbody tr th:only-of-type {\n",
       "        vertical-align: middle;\n",
       "    }\n",
       "\n",
       "    .dataframe tbody tr th {\n",
       "        vertical-align: top;\n",
       "    }\n",
       "\n",
       "    .dataframe thead th {\n",
       "        text-align: right;\n",
       "    }\n",
       "</style>\n",
       "<table border=\"1\" class=\"dataframe\">\n",
       "  <thead>\n",
       "    <tr style=\"text-align: right;\">\n",
       "      <th></th>\n",
       "      <th>close</th>\n",
       "      <th>date</th>\n",
       "      <th>high</th>\n",
       "      <th>low</th>\n",
       "      <th>open</th>\n",
       "      <th>quoteVolume</th>\n",
       "      <th>volume</th>\n",
       "      <th>weightedAverage</th>\n",
       "      <th>datetime_real</th>\n",
       "    </tr>\n",
       "  </thead>\n",
       "  <tbody>\n",
       "    <tr>\n",
       "      <th>22457</th>\n",
       "      <td>0.234104</td>\n",
       "      <td>1574551500</td>\n",
       "      <td>0.234104</td>\n",
       "      <td>0.234104</td>\n",
       "      <td>0.234104</td>\n",
       "      <td>404.882540</td>\n",
       "      <td>94.784715</td>\n",
       "      <td>0.234104</td>\n",
       "      <td>2019-11-23 23:25:00</td>\n",
       "    </tr>\n",
       "    <tr>\n",
       "      <th>22458</th>\n",
       "      <td>0.234104</td>\n",
       "      <td>1574551800</td>\n",
       "      <td>0.234104</td>\n",
       "      <td>0.234104</td>\n",
       "      <td>0.234104</td>\n",
       "      <td>0.000000</td>\n",
       "      <td>0.000000</td>\n",
       "      <td>0.234104</td>\n",
       "      <td>2019-11-23 23:30:00</td>\n",
       "    </tr>\n",
       "    <tr>\n",
       "      <th>22459</th>\n",
       "      <td>0.234104</td>\n",
       "      <td>1574552100</td>\n",
       "      <td>0.234104</td>\n",
       "      <td>0.234104</td>\n",
       "      <td>0.234104</td>\n",
       "      <td>0.000000</td>\n",
       "      <td>0.000000</td>\n",
       "      <td>0.234104</td>\n",
       "      <td>2019-11-23 23:35:00</td>\n",
       "    </tr>\n",
       "    <tr>\n",
       "      <th>22460</th>\n",
       "      <td>0.234104</td>\n",
       "      <td>1574552400</td>\n",
       "      <td>0.234104</td>\n",
       "      <td>0.234104</td>\n",
       "      <td>0.234104</td>\n",
       "      <td>0.000000</td>\n",
       "      <td>0.000000</td>\n",
       "      <td>0.234104</td>\n",
       "      <td>2019-11-23 23:40:00</td>\n",
       "    </tr>\n",
       "    <tr>\n",
       "      <th>22461</th>\n",
       "      <td>0.234104</td>\n",
       "      <td>1574552700</td>\n",
       "      <td>0.234104</td>\n",
       "      <td>0.234104</td>\n",
       "      <td>0.234104</td>\n",
       "      <td>0.000000</td>\n",
       "      <td>0.000000</td>\n",
       "      <td>0.234104</td>\n",
       "      <td>2019-11-23 23:45:00</td>\n",
       "    </tr>\n",
       "    <tr>\n",
       "      <th>22462</th>\n",
       "      <td>0.233862</td>\n",
       "      <td>1574553000</td>\n",
       "      <td>0.233862</td>\n",
       "      <td>0.233862</td>\n",
       "      <td>0.233862</td>\n",
       "      <td>12038.620000</td>\n",
       "      <td>2815.375109</td>\n",
       "      <td>0.233862</td>\n",
       "      <td>2019-11-23 23:50:00</td>\n",
       "    </tr>\n",
       "    <tr>\n",
       "      <th>6916</th>\n",
       "      <td>0.233862</td>\n",
       "      <td>1574553300</td>\n",
       "      <td>0.233862</td>\n",
       "      <td>0.233862</td>\n",
       "      <td>0.233862</td>\n",
       "      <td>0.000000</td>\n",
       "      <td>0.000000</td>\n",
       "      <td>0.233862</td>\n",
       "      <td>2019-11-23 23:55:00</td>\n",
       "    </tr>\n",
       "    <tr>\n",
       "      <th>6917</th>\n",
       "      <td>0.234757</td>\n",
       "      <td>1574553600</td>\n",
       "      <td>0.234757</td>\n",
       "      <td>0.234353</td>\n",
       "      <td>0.234353</td>\n",
       "      <td>9131.855007</td>\n",
       "      <td>2140.819885</td>\n",
       "      <td>0.234434</td>\n",
       "      <td>2019-11-24 00:00:00</td>\n",
       "    </tr>\n",
       "    <tr>\n",
       "      <th>6918</th>\n",
       "      <td>0.233364</td>\n",
       "      <td>1574553900</td>\n",
       "      <td>0.234395</td>\n",
       "      <td>0.233126</td>\n",
       "      <td>0.233637</td>\n",
       "      <td>11273.953602</td>\n",
       "      <td>2630.939680</td>\n",
       "      <td>0.233364</td>\n",
       "      <td>2019-11-24 00:05:00</td>\n",
       "    </tr>\n",
       "    <tr>\n",
       "      <th>6919</th>\n",
       "      <td>0.232727</td>\n",
       "      <td>1574554200</td>\n",
       "      <td>0.232727</td>\n",
       "      <td>0.232727</td>\n",
       "      <td>0.232727</td>\n",
       "      <td>5.000000</td>\n",
       "      <td>1.163636</td>\n",
       "      <td>0.232727</td>\n",
       "      <td>2019-11-24 00:10:00</td>\n",
       "    </tr>\n",
       "  </tbody>\n",
       "</table>\n",
       "</div>"
      ],
      "text/plain": [
       "          close        date      high       low      open   quoteVolume  \\\n",
       "22457  0.234104  1574551500  0.234104  0.234104  0.234104    404.882540   \n",
       "22458  0.234104  1574551800  0.234104  0.234104  0.234104      0.000000   \n",
       "22459  0.234104  1574552100  0.234104  0.234104  0.234104      0.000000   \n",
       "22460  0.234104  1574552400  0.234104  0.234104  0.234104      0.000000   \n",
       "22461  0.234104  1574552700  0.234104  0.234104  0.234104      0.000000   \n",
       "22462  0.233862  1574553000  0.233862  0.233862  0.233862  12038.620000   \n",
       "6916   0.233862  1574553300  0.233862  0.233862  0.233862      0.000000   \n",
       "6917   0.234757  1574553600  0.234757  0.234353  0.234353   9131.855007   \n",
       "6918   0.233364  1574553900  0.234395  0.233126  0.233637  11273.953602   \n",
       "6919   0.232727  1574554200  0.232727  0.232727  0.232727      5.000000   \n",
       "\n",
       "            volume  weightedAverage       datetime_real  \n",
       "22457    94.784715         0.234104 2019-11-23 23:25:00  \n",
       "22458     0.000000         0.234104 2019-11-23 23:30:00  \n",
       "22459     0.000000         0.234104 2019-11-23 23:35:00  \n",
       "22460     0.000000         0.234104 2019-11-23 23:40:00  \n",
       "22461     0.000000         0.234104 2019-11-23 23:45:00  \n",
       "22462  2815.375109         0.233862 2019-11-23 23:50:00  \n",
       "6916      0.000000         0.233862 2019-11-23 23:55:00  \n",
       "6917   2140.819885         0.234434 2019-11-24 00:00:00  \n",
       "6918   2630.939680         0.233364 2019-11-24 00:05:00  \n",
       "6919      1.163636         0.232727 2019-11-24 00:10:00  "
      ]
     },
     "execution_count": 13,
     "metadata": {},
     "output_type": "execute_result"
    }
   ],
   "source": [
    "XRP_Data.tail(10)"
   ]
  },
  {
   "cell_type": "code",
   "execution_count": 14,
   "metadata": {},
   "outputs": [
    {
     "name": "stderr",
     "output_type": "stream",
     "text": [
      "No handles with labels found to put in legend.\n"
     ]
    },
    {
     "name": "stdout",
     "output_type": "stream",
     "text": [
      "\n",
      " selecting '2018-08-15 00:00:00' as the starting time as it bypasses the past crypto rush\n"
     ]
    },
    {
     "data": {
      "image/png": "[encoded data removed]",
      "text/plain": [
       "<Figure size 1512x504 with 1 Axes>"
      ]
     },
     "metadata": {
      "needs_background": "light"
     },
     "output_type": "display_data"
    }
   ],
   "source": [
    "ploting_breakdown = XRP_Data[150000:]\n",
    "\n",
    "plt.figure(figsize= (21,7))\n",
    "\n",
    "\n",
    "# tran_y_low = ploting_breakdown['low']\n",
    "# tran_y_high = ploting_breakdown['high']\n",
    "tran_y_close = ploting_breakdown['close']\n",
    "\n",
    "tran_x = ploting_breakdown['date']\n",
    "\n",
    "\n",
    "# plt.plot(tran_x, tran_y_low, alpha = 0.1)\n",
    "# plt.plot(tran_x, tran_y_high , alpha  = 0.1)\n",
    "\n",
    "plt.plot(tran_x, tran_y_close, alpha  = 1)\n",
    "\n",
    "\n",
    "# start = 45000\n",
    "# dealta_t = 10000\n",
    "time_section = {45000 : 13000,\n",
    "                63000 : 8000 ,\n",
    "                71000 : 10000,\n",
    "                180000: 10000}  # start // delta_t\n",
    "\n",
    "\n",
    "\n",
    "plt.vlines(1534287600, 0, 3, alpha = 1, color = 'g',linestyle = 'dashed')\n",
    "    \n",
    "plt.legend()\n",
    "plt.grid()\n",
    "print(\"\\n selecting '2018-08-15 00:00:00' as the starting time as it bypasses the past crypto rush\")"
   ]
  },
  {
   "cell_type": "code",
   "execution_count": null,
   "metadata": {},
   "outputs": [],
   "source": []
  },
  {
   "cell_type": "code",
   "execution_count": null,
   "metadata": {},
   "outputs": [],
   "source": []
  },
  {
   "cell_type": "code",
   "execution_count": 15,
   "metadata": {},
   "outputs": [
    {
     "data": {
      "text/html": [
       "<div>\n",
       "<style scoped>\n",
       "    .dataframe tbody tr th:only-of-type {\n",
       "        vertical-align: middle;\n",
       "    }\n",
       "\n",
       "    .dataframe tbody tr th {\n",
       "        vertical-align: top;\n",
       "    }\n",
       "\n",
       "    .dataframe thead th {\n",
       "        text-align: right;\n",
       "    }\n",
       "</style>\n",
       "<table border=\"1\" class=\"dataframe\">\n",
       "  <thead>\n",
       "    <tr style=\"text-align: right;\">\n",
       "      <th></th>\n",
       "      <th>close</th>\n",
       "      <th>date</th>\n",
       "      <th>high</th>\n",
       "      <th>low</th>\n",
       "      <th>open</th>\n",
       "      <th>quoteVolume</th>\n",
       "      <th>volume</th>\n",
       "      <th>weightedAverage</th>\n",
       "      <th>datetime_real</th>\n",
       "    </tr>\n",
       "  </thead>\n",
       "  <tbody>\n",
       "    <tr>\n",
       "      <th>17844</th>\n",
       "      <td>0.26425</td>\n",
       "      <td>1534287600</td>\n",
       "      <td>0.26425</td>\n",
       "      <td>0.26425</td>\n",
       "      <td>0.26425</td>\n",
       "      <td>0.0</td>\n",
       "      <td>0.0</td>\n",
       "      <td>0.26425</td>\n",
       "      <td>2018-08-15</td>\n",
       "    </tr>\n",
       "  </tbody>\n",
       "</table>\n",
       "</div>"
      ],
      "text/plain": [
       "         close        date     high      low     open  quoteVolume  volume  \\\n",
       "17844  0.26425  1534287600  0.26425  0.26425  0.26425          0.0     0.0   \n",
       "\n",
       "       weightedAverage datetime_real  \n",
       "17844          0.26425    2018-08-15  "
      ]
     },
     "execution_count": 15,
     "metadata": {},
     "output_type": "execute_result"
    }
   ],
   "source": [
    "ploting_breakdown[ploting_breakdown['datetime_real'] == '2018-08-15 00:00:00']"
   ]
  },
  {
   "cell_type": "code",
   "execution_count": 16,
   "metadata": {},
   "outputs": [
    {
     "data": {
      "text/html": [
       "<div>\n",
       "<style scoped>\n",
       "    .dataframe tbody tr th:only-of-type {\n",
       "        vertical-align: middle;\n",
       "    }\n",
       "\n",
       "    .dataframe tbody tr th {\n",
       "        vertical-align: top;\n",
       "    }\n",
       "\n",
       "    .dataframe thead th {\n",
       "        text-align: right;\n",
       "    }\n",
       "</style>\n",
       "<table border=\"1\" class=\"dataframe\">\n",
       "  <thead>\n",
       "    <tr style=\"text-align: right;\">\n",
       "      <th></th>\n",
       "      <th>close</th>\n",
       "      <th>date</th>\n",
       "      <th>high</th>\n",
       "      <th>low</th>\n",
       "      <th>open</th>\n",
       "      <th>quoteVolume</th>\n",
       "      <th>volume</th>\n",
       "      <th>weightedAverage</th>\n",
       "      <th>datetime_real</th>\n",
       "    </tr>\n",
       "  </thead>\n",
       "  <tbody>\n",
       "    <tr>\n",
       "      <th>19284</th>\n",
       "      <td>0.269059</td>\n",
       "      <td>1565823600</td>\n",
       "      <td>0.269059</td>\n",
       "      <td>0.269059</td>\n",
       "      <td>0.269059</td>\n",
       "      <td>0.0</td>\n",
       "      <td>0.0</td>\n",
       "      <td>0.269059</td>\n",
       "      <td>2019-08-15</td>\n",
       "    </tr>\n",
       "  </tbody>\n",
       "</table>\n",
       "</div>"
      ],
      "text/plain": [
       "          close        date      high       low      open  quoteVolume  \\\n",
       "19284  0.269059  1565823600  0.269059  0.269059  0.269059          0.0   \n",
       "\n",
       "       volume  weightedAverage datetime_real  \n",
       "19284     0.0         0.269059    2019-08-15  "
      ]
     },
     "execution_count": 16,
     "metadata": {},
     "output_type": "execute_result"
    }
   ],
   "source": [
    "ploting_breakdown[ploting_breakdown['datetime_real'] == '2019-08-15 00:00:00']"
   ]
  },
  {
   "cell_type": "code",
   "execution_count": 17,
   "metadata": {},
   "outputs": [],
   "source": [
    "XRP_Data_backUp = XRP_Data.copy()"
   ]
  },
  {
   "cell_type": "markdown",
   "metadata": {},
   "source": [
    "## Copy for testing"
   ]
  },
  {
   "cell_type": "raw",
   "metadata": {},
   "source": [
    "here we have a double test, where:\n",
    "    - XRP_for_training : is used as a main source of data for training as well as testing\n",
    "    - XRP_for_testing  : is used as a form of real time blind test"
   ]
  },
  {
   "cell_type": "code",
   "execution_count": 18,
   "metadata": {},
   "outputs": [],
   "source": [
    "XRP_for_training =XRP_Data[(XRP_Data['date'] >= 1534287600) &\n",
    "                           (XRP_Data['date'] <1565823600)].copy()"
   ]
  },
  {
   "cell_type": "code",
   "execution_count": 19,
   "metadata": {},
   "outputs": [],
   "source": [
    "XRP_for_testing =XRP_Data[(XRP_Data['date'] >= 1565823600)].copy()"
   ]
  },
  {
   "cell_type": "code",
   "execution_count": null,
   "metadata": {},
   "outputs": [],
   "source": []
  },
  {
   "cell_type": "code",
   "execution_count": null,
   "metadata": {},
   "outputs": [],
   "source": []
  },
  {
   "cell_type": "markdown",
   "metadata": {},
   "source": [
    "## Analysis on training datasets"
   ]
  },
  {
   "cell_type": "code",
   "execution_count": 20,
   "metadata": {},
   "outputs": [
    {
     "data": {
      "text/plain": [
       "<matplotlib.axes._subplots.AxesSubplot at 0x102de2ef0>"
      ]
     },
     "execution_count": 20,
     "metadata": {},
     "output_type": "execute_result"
    },
    {
     "data": {
      "image/png": "[encoded data removed]",
      "text/plain": [
       "<Figure size 1440x720 with 1 Axes>"
      ]
     },
     "metadata": {
      "needs_background": "light"
     },
     "output_type": "display_data"
    }
   ],
   "source": [
    "XRP_for_training.set_index('datetime_real')[['close']].plot(figsize = (20,10))"
   ]
  },
  {
   "cell_type": "code",
   "execution_count": null,
   "metadata": {},
   "outputs": [],
   "source": []
  },
  {
   "cell_type": "markdown",
   "metadata": {},
   "source": [
    "## Data mining, making own properties and features"
   ]
  },
  {
   "cell_type": "code",
   "execution_count": 21,
   "metadata": {},
   "outputs": [],
   "source": [
    "section_period = {  '5min': 1,\n",
    "                    '10min': 2,\n",
    "                    '15min': 3,\n",
    "                    '20min': 4,\n",
    "                    '1H': 12,\n",
    "                    '2H': 24,\n",
    "                    '4H': 48,\n",
    "                    '12H': 144,\n",
    "                    '24H': 288,\n",
    "                    '5D': 1440,\n",
    "                    '10D': 2880}"
   ]
  },
  {
   "cell_type": "code",
   "execution_count": 22,
   "metadata": {},
   "outputs": [],
   "source": [
    "for k,v in section_period.items():\n",
    "    XRP_for_training['{0}_RA_on_Close'.format(k)] = XRP_for_training['close'].rolling(v).mean()"
   ]
  },
  {
   "cell_type": "code",
   "execution_count": 23,
   "metadata": {},
   "outputs": [],
   "source": [
    "compare_sequence = {}"
   ]
  },
  {
   "cell_type": "code",
   "execution_count": 24,
   "metadata": {},
   "outputs": [],
   "source": [
    "for col_1 in [d for d in XRP_for_training.columns if '_RA_on_Close' in d]:\n",
    "    for col_2 in [d for d in XRP_for_training.columns if '_RA_on_Close' in d]:\n",
    "        temp_1 = col_1.split('_RA_on_Close')[0]\n",
    "        temp_2 = col_2.split('_RA_on_Close')[0]\n",
    "        if temp_1 != temp_2:\n",
    "            if ((temp_1 + '_minus_' + temp_2) not in compare_sequence.keys() and (temp_2 + '_minus_' + temp_1) not in compare_sequence.keys() ):\n",
    "                compare_sequence.update({temp_1 + '_minus_' + temp_2 : [col_1, col_2]})"
   ]
  },
  {
   "cell_type": "code",
   "execution_count": 25,
   "metadata": {},
   "outputs": [],
   "source": [
    "for k, val in compare_sequence.items():\n",
    "    XRP_for_training[k] = (XRP_for_training[val[0]] - XRP_for_training[val[1]])/XRP_for_training[val[1]] \n",
    "#     print(k, val[0], val[1])"
   ]
  },
  {
   "cell_type": "code",
   "execution_count": 26,
   "metadata": {},
   "outputs": [],
   "source": [
    "for col in [d for d in XRP_for_training.columns if '_RA_on_Close' in d]:\n",
    "    XRP_for_training[col] = XRP_for_training[col].shift(1)\n",
    "    \n",
    "    XRP_for_training['{0}_close_percent_dif'.format(col.split('_RA_on_Close')[0])] = (XRP_for_training['close']-XRP_for_training[col])/XRP_for_training[col] "
   ]
  },
  {
   "cell_type": "code",
   "execution_count": 27,
   "metadata": {},
   "outputs": [
    {
     "name": "stdout",
     "output_type": "stream",
     "text": [
      "5min 1\n",
      "10min 2\n",
      "15min 3\n",
      "20min 4\n",
      "1H 12\n",
      "2H 24\n",
      "4H 48\n",
      "12H 144\n",
      "24H 288\n",
      "5D 1440\n",
      "10D 2880\n",
      "5min 1\n",
      "10min 2\n",
      "15min 3\n",
      "20min 4\n",
      "1H 12\n",
      "2H 24\n",
      "4H 48\n",
      "12H 144\n",
      "24H 288\n",
      "5D 1440\n",
      "10D 2880\n"
     ]
    }
   ],
   "source": [
    "for k,v in section_period.items():\n",
    "    print(k,v)\n",
    "    XRP_for_training['look_back_{}'.format(k)] = XRP_for_training['close'].shift(v)   # i.e. 20min ago, this is what the close price is\n",
    "    XRP_for_training['look_forward_{}'.format(k)] = XRP_for_training['close'].shift(-v)  # i.e. 20min later, the close price is\n",
    "\n",
    "\n",
    "for k,v in section_period.items():\n",
    "    print(k,v)\n",
    "    XRP_for_training['calculate_look_back_Percent_{}'.format(k)]    = 100*(XRP_for_training['close'] - XRP_for_training['look_back_{}'.format(k)])/(5*v)\n",
    "    XRP_for_training['calculate_look_forward_Percent_{}'.format(k)] =  100*(XRP_for_training['look_forward_{}'.format(k)] - XRP_for_training['close'])/(5*v)"
   ]
  },
  {
   "cell_type": "code",
   "execution_count": null,
   "metadata": {},
   "outputs": [],
   "source": []
  },
  {
   "cell_type": "raw",
   "metadata": {},
   "source": [
    "increase to at least 0.3% = 0.003\n",
    "\n",
    "difference of:\n",
    "- 0.004\n",
    "- 0.005"
   ]
  },
  {
   "cell_type": "markdown",
   "metadata": {},
   "source": [
    "net_{net_percent}_percent is the net_percent + minimum for profit, \n",
    "\n",
    "i.e. net_01_percent = 0.1% + 0.003 = 0.004"
   ]
  },
  {
   "cell_type": "code",
   "execution_count": 28,
   "metadata": {},
   "outputs": [],
   "source": [
    "net_01_percent = 0.004\n",
    "net_02_percent = 0.005"
   ]
  },
  {
   "cell_type": "code",
   "execution_count": null,
   "metadata": {},
   "outputs": [],
   "source": []
  },
  {
   "cell_type": "raw",
   "metadata": {},
   "source": [
    "Buy_in_decision : is it the targets that I came up with, where if the price will be greated than 0.5% increase, then a profit can be made, hence there can be made.\n",
    "    (0.5% is set as there is a fee of exchange on many crypotoexchanges, i.e. 0.3% on Bitfinx. \n",
    "    source: https://tradesanta.com/en/bitfinex)"
   ]
  },
  {
   "cell_type": "code",
   "execution_count": 29,
   "metadata": {},
   "outputs": [],
   "source": [
    "Buy_in_decision = pd.DataFrame((XRP_for_training[['date'] + [d for d in XRP_for_training.columns if '_forward_Percent_' in d]].set_index('date') > 0.005).any(axis =1 )).rename(columns ={0: 'Buy_In'})"
   ]
  },
  {
   "cell_type": "code",
   "execution_count": 30,
   "metadata": {},
   "outputs": [],
   "source": [
    "within_target_02_profit = XRP_for_training.merge(Buy_in_decision.reset_index(), on ='date', how='left').dropna()"
   ]
  },
  {
   "cell_type": "code",
   "execution_count": null,
   "metadata": {},
   "outputs": [],
   "source": []
  },
  {
   "cell_type": "code",
   "execution_count": null,
   "metadata": {},
   "outputs": [],
   "source": []
  },
  {
   "cell_type": "markdown",
   "metadata": {},
   "source": [
    "#### Selecting properties and becareful not to have any properties that look forward"
   ]
  },
  {
   "cell_type": "code",
   "execution_count": 31,
   "metadata": {},
   "outputs": [],
   "source": [
    "properties = [\n",
    "#     'close',\n",
    "#  'date',\n",
    "#  'high',\n",
    "#  'low',\n",
    "#  'open',\n",
    " 'quoteVolume',\n",
    " 'volume',\n",
    "#  'weightedAverage',\n",
    "#  'datetime_real',\n",
    " '5min_close_percent_dif',\n",
    " '10min_close_percent_dif',\n",
    " '15min_close_percent_dif',\n",
    " '20min_close_percent_dif',\n",
    " '1H_close_percent_dif',\n",
    " '2H_close_percent_dif',\n",
    " '4H_close_percent_dif',\n",
    " '12H_close_percent_dif',\n",
    " '24H_close_percent_dif',\n",
    " '5D_close_percent_dif',\n",
    " '10D_close_percent_dif',\n",
    " 'calculate_look_back_Percent_5min',\n",
    " 'calculate_look_back_Percent_10min',\n",
    " 'calculate_look_back_Percent_15min',\n",
    " 'calculate_look_back_Percent_20min',\n",
    " 'calculate_look_back_Percent_1H',\n",
    " 'calculate_look_back_Percent_2H',\n",
    " 'calculate_look_back_Percent_4H',\n",
    " 'calculate_look_back_Percent_12H',\n",
    " 'calculate_look_back_Percent_24H',\n",
    " 'calculate_look_back_Percent_5D',\n",
    " 'calculate_look_back_Percent_10D',\n",
    " '5min_minus_10min',\n",
    " '5min_minus_15min',\n",
    " '5min_minus_20min',\n",
    " '5min_minus_1H',\n",
    " '5min_minus_2H',\n",
    " '5min_minus_4H',\n",
    " '5min_minus_12H',\n",
    " '5min_minus_24H',\n",
    " '5min_minus_5D',\n",
    " '5min_minus_10D',\n",
    " '10min_minus_15min',\n",
    " '10min_minus_20min',\n",
    " '10min_minus_1H',\n",
    " '10min_minus_2H',\n",
    " '10min_minus_4H',\n",
    " '10min_minus_12H',\n",
    " '10min_minus_24H',\n",
    " '10min_minus_5D',\n",
    " '10min_minus_10D',\n",
    " '15min_minus_20min',\n",
    " '15min_minus_1H',\n",
    " '15min_minus_2H',\n",
    " '15min_minus_4H',\n",
    " '15min_minus_12H',\n",
    " '15min_minus_24H',\n",
    " '15min_minus_5D',\n",
    " '15min_minus_10D',\n",
    " '20min_minus_1H',\n",
    " '20min_minus_2H',\n",
    " '20min_minus_4H',\n",
    " '20min_minus_12H',\n",
    " '20min_minus_24H',\n",
    " '20min_minus_5D',\n",
    " '20min_minus_10D',\n",
    " '1H_minus_2H',\n",
    " '1H_minus_4H',\n",
    " '1H_minus_12H',\n",
    " '1H_minus_24H',\n",
    " '1H_minus_5D',\n",
    " '1H_minus_10D',\n",
    " '2H_minus_4H',\n",
    " '2H_minus_12H',\n",
    " '2H_minus_24H',\n",
    " '2H_minus_5D',\n",
    " '2H_minus_10D',\n",
    " '4H_minus_12H',\n",
    " '4H_minus_24H',\n",
    " '4H_minus_5D',\n",
    " '4H_minus_10D',\n",
    " '12H_minus_24H',\n",
    " '12H_minus_5D',\n",
    " '12H_minus_10D',\n",
    " '24H_minus_5D',\n",
    " '24H_minus_10D',\n",
    " '5D_minus_10D']"
   ]
  },
  {
   "cell_type": "markdown",
   "metadata": {},
   "source": [
    "## split into target and properties"
   ]
  },
  {
   "cell_type": "code",
   "execution_count": 32,
   "metadata": {},
   "outputs": [],
   "source": [
    "import pandas as pd\n",
    "from sklearn.metrics import accuracy_score\n",
    "from sklearn.model_selection import train_test_split\n",
    "from sklearn import tree\n",
    "from sklearn.tree import DecisionTreeClassifier"
   ]
  },
  {
   "cell_type": "code",
   "execution_count": 35,
   "metadata": {},
   "outputs": [],
   "source": [
    "from sklearn.externals.six import StringIO  \n",
    "from IPython.display import Image\n",
    "from sklearn.tree import export_graphviz\n",
    "# import pydotplus\n",
    "import os\n",
    "\n",
    "# import pydot"
   ]
  },
  {
   "cell_type": "code",
   "execution_count": 36,
   "metadata": {},
   "outputs": [],
   "source": [
    "from collections import Counter"
   ]
  },
  {
   "cell_type": "code",
   "execution_count": 37,
   "metadata": {},
   "outputs": [],
   "source": [
    "import math"
   ]
  },
  {
   "cell_type": "code",
   "execution_count": 38,
   "metadata": {},
   "outputs": [],
   "source": [
    "target_y = within_target_02_profit[['Buy_In']].copy()"
   ]
  },
  {
   "cell_type": "code",
   "execution_count": 39,
   "metadata": {},
   "outputs": [],
   "source": [
    "train_x = within_target_02_profit[properties].copy()"
   ]
  },
  {
   "cell_type": "code",
   "execution_count": 40,
   "metadata": {},
   "outputs": [
    {
     "data": {
      "text/plain": [
       "Index(['quoteVolume', 'volume', '5min_close_percent_dif',\n",
       "       '10min_close_percent_dif', '15min_close_percent_dif',\n",
       "       '20min_close_percent_dif', '1H_close_percent_dif',\n",
       "       '2H_close_percent_dif', '4H_close_percent_dif', '12H_close_percent_dif',\n",
       "       '24H_close_percent_dif', '5D_close_percent_dif',\n",
       "       '10D_close_percent_dif', 'calculate_look_back_Percent_5min',\n",
       "       'calculate_look_back_Percent_10min',\n",
       "       'calculate_look_back_Percent_15min',\n",
       "       'calculate_look_back_Percent_20min', 'calculate_look_back_Percent_1H',\n",
       "       'calculate_look_back_Percent_2H', 'calculate_look_back_Percent_4H',\n",
       "       'calculate_look_back_Percent_12H', 'calculate_look_back_Percent_24H',\n",
       "       'calculate_look_back_Percent_5D', 'calculate_look_back_Percent_10D',\n",
       "       '5min_minus_10min', '5min_minus_15min', '5min_minus_20min',\n",
       "       '5min_minus_1H', '5min_minus_2H', '5min_minus_4H', '5min_minus_12H',\n",
       "       '5min_minus_24H', '5min_minus_5D', '5min_minus_10D',\n",
       "       '10min_minus_15min', '10min_minus_20min', '10min_minus_1H',\n",
       "       '10min_minus_2H', '10min_minus_4H', '10min_minus_12H',\n",
       "       '10min_minus_24H', '10min_minus_5D', '10min_minus_10D',\n",
       "       '15min_minus_20min', '15min_minus_1H', '15min_minus_2H',\n",
       "       '15min_minus_4H', '15min_minus_12H', '15min_minus_24H',\n",
       "       '15min_minus_5D', '15min_minus_10D', '20min_minus_1H', '20min_minus_2H',\n",
       "       '20min_minus_4H', '20min_minus_12H', '20min_minus_24H',\n",
       "       '20min_minus_5D', '20min_minus_10D', '1H_minus_2H', '1H_minus_4H',\n",
       "       '1H_minus_12H', '1H_minus_24H', '1H_minus_5D', '1H_minus_10D',\n",
       "       '2H_minus_4H', '2H_minus_12H', '2H_minus_24H', '2H_minus_5D',\n",
       "       '2H_minus_10D', '4H_minus_12H', '4H_minus_24H', '4H_minus_5D',\n",
       "       '4H_minus_10D', '12H_minus_24H', '12H_minus_5D', '12H_minus_10D',\n",
       "       '24H_minus_5D', '24H_minus_10D', '5D_minus_10D'],\n",
       "      dtype='object')"
      ]
     },
     "execution_count": 40,
     "metadata": {},
     "output_type": "execute_result"
    }
   ],
   "source": [
    "train_x.columns"
   ]
  },
  {
   "cell_type": "code",
   "execution_count": 41,
   "metadata": {},
   "outputs": [
    {
     "data": {
      "text/plain": [
       "Index(['Buy_In'], dtype='object')"
      ]
     },
     "execution_count": 41,
     "metadata": {},
     "output_type": "execute_result"
    }
   ],
   "source": [
    "target_y.columns"
   ]
  },
  {
   "cell_type": "code",
   "execution_count": null,
   "metadata": {},
   "outputs": [],
   "source": []
  },
  {
   "cell_type": "code",
   "execution_count": 42,
   "metadata": {},
   "outputs": [],
   "source": [
    "# X_train, X_test, y_train, y_test = train_test_split(train_x, target_y, test_size=0.33, random_state=324)"
   ]
  },
  {
   "cell_type": "code",
   "execution_count": 43,
   "metadata": {},
   "outputs": [],
   "source": [
    "X_train_order = train_x.iloc[:-math.floor(len(train_x)*0.2)]"
   ]
  },
  {
   "cell_type": "code",
   "execution_count": 44,
   "metadata": {},
   "outputs": [],
   "source": [
    "y_train_order = target_y.iloc[:-math.floor(len(target_y)*0.2)]"
   ]
  },
  {
   "cell_type": "code",
   "execution_count": null,
   "metadata": {},
   "outputs": [],
   "source": []
  },
  {
   "cell_type": "code",
   "execution_count": 45,
   "metadata": {},
   "outputs": [],
   "source": [
    "X_test_order = train_x.iloc[-math.floor(len(train_x)*0.2):]"
   ]
  },
  {
   "cell_type": "code",
   "execution_count": 46,
   "metadata": {},
   "outputs": [],
   "source": [
    "y_test_order = target_y.iloc[-math.floor(len(target_y)*0.2):]"
   ]
  },
  {
   "cell_type": "code",
   "execution_count": null,
   "metadata": {},
   "outputs": [],
   "source": []
  },
  {
   "cell_type": "code",
   "execution_count": 47,
   "metadata": {},
   "outputs": [
    {
     "data": {
      "text/plain": [
       "DecisionTreeClassifier(class_weight=None, criterion='gini', max_depth=None,\n",
       "                       max_features=None, max_leaf_nodes=10,\n",
       "                       min_impurity_decrease=0.0, min_impurity_split=None,\n",
       "                       min_samples_leaf=1, min_samples_split=2,\n",
       "                       min_weight_fraction_leaf=0.0, presort=False,\n",
       "                       random_state=0, splitter='best')"
      ]
     },
     "execution_count": 47,
     "metadata": {},
     "output_type": "execute_result"
    }
   ],
   "source": [
    "buy_in_decision_classifier = DecisionTreeClassifier(max_leaf_nodes=10, random_state=0)\n",
    "buy_in_decision_classifier.fit(X_train_order, y_train_order)"
   ]
  },
  {
   "cell_type": "code",
   "execution_count": 48,
   "metadata": {},
   "outputs": [],
   "source": [
    "predictions = buy_in_decision_classifier.predict(X_test_order)"
   ]
  },
  {
   "cell_type": "code",
   "execution_count": 49,
   "metadata": {},
   "outputs": [
    {
     "data": {
      "text/plain": [
       "0.6008756479291429"
      ]
     },
     "execution_count": 49,
     "metadata": {},
     "output_type": "execute_result"
    }
   ],
   "source": [
    "accuracy_score(y_true = y_test_order, y_pred = predictions)"
   ]
  },
  {
   "cell_type": "code",
   "execution_count": 50,
   "metadata": {},
   "outputs": [
    {
     "name": "stdout",
     "output_type": "stream",
     "text": [
      "0.5520104675154748\n",
      "0.6108902420612954\n",
      "0.6190428262291782\n",
      "0.6008756479291429\n",
      "0.6008756479291429\n",
      "0.6008756479291429\n",
      "0.6008756479291429\n",
      "0.6008756479291429\n"
     ]
    }
   ],
   "source": [
    "for node in [2,3,4,5,6,8,10,12]:\n",
    "    buy_in_decision_classifier = DecisionTreeClassifier(max_leaf_nodes=node, random_state=0)\n",
    "    buy_in_decision_classifier.fit(X_train_order, y_train_order)\n",
    "\n",
    "    predictions = buy_in_decision_classifier.predict(X_test_order)\n",
    "\n",
    "    print(accuracy_score(y_true = y_test_order, y_pred = predictions)) "
   ]
  },
  {
   "cell_type": "code",
   "execution_count": null,
   "metadata": {},
   "outputs": [],
   "source": []
  },
  {
   "cell_type": "code",
   "execution_count": null,
   "metadata": {},
   "outputs": [],
   "source": []
  },
  {
   "cell_type": "code",
   "execution_count": null,
   "metadata": {},
   "outputs": [],
   "source": []
  },
  {
   "cell_type": "code",
   "execution_count": 51,
   "metadata": {},
   "outputs": [
    {
     "data": {
      "text/plain": [
       "Counter({True: 11572, False: 8299})"
      ]
     },
     "execution_count": 51,
     "metadata": {},
     "output_type": "execute_result"
    }
   ],
   "source": [
    "Counter(predictions)"
   ]
  },
  {
   "cell_type": "code",
   "execution_count": 52,
   "metadata": {},
   "outputs": [
    {
     "data": {
      "text/plain": [
       "Counter({True: 9981, False: 9890})"
      ]
     },
     "execution_count": 52,
     "metadata": {},
     "output_type": "execute_result"
    }
   ],
   "source": [
    "Counter(y_test_order['Buy_In'])"
   ]
  },
  {
   "cell_type": "code",
   "execution_count": 53,
   "metadata": {},
   "outputs": [
    {
     "data": {
      "text/plain": [
       "array([ True,  True,  True, ...,  True,  True,  True])"
      ]
     },
     "execution_count": 53,
     "metadata": {},
     "output_type": "execute_result"
    }
   ],
   "source": [
    "predictions"
   ]
  },
  {
   "cell_type": "code",
   "execution_count": 54,
   "metadata": {},
   "outputs": [],
   "source": [
    "# dot_data = StringIO()\n",
    "# export_graphviz(buy_in_decision_classifier,\n",
    "#                 feature_names=list(X_train_order.columns),\n",
    "#                 out_file=dot_data,  \n",
    "#                 filled=True, rounded=True,\n",
    "#                 special_characters=True)"
   ]
  },
  {
   "cell_type": "code",
   "execution_count": 55,
   "metadata": {},
   "outputs": [
    {
     "ename": "NameError",
     "evalue": "name 'pydotplus' is not defined",
     "output_type": "error",
     "traceback": [
      "\u001b[0;31m---------------------------------------------------------------------------\u001b[0m",
      "\u001b[0;31mNameError\u001b[0m                                 Traceback (most recent call last)",
      "\u001b[0;32m<ipython-input-55-12f1bc81429c>\u001b[0m in \u001b[0;36m<module>\u001b[0;34m\u001b[0m\n\u001b[0;32m----> 1\u001b[0;31m \u001b[0mgraph\u001b[0m \u001b[0;34m=\u001b[0m \u001b[0mpydotplus\u001b[0m\u001b[0;34m.\u001b[0m\u001b[0mgraph_from_dot_data\u001b[0m\u001b[0;34m(\u001b[0m\u001b[0mdot_data\u001b[0m\u001b[0;34m.\u001b[0m\u001b[0mgetvalue\u001b[0m\u001b[0;34m(\u001b[0m\u001b[0;34m)\u001b[0m\u001b[0;34m)\u001b[0m\u001b[0;34m\u001b[0m\u001b[0;34m\u001b[0m\u001b[0m\n\u001b[0m",
      "\u001b[0;31mNameError\u001b[0m: name 'pydotplus' is not defined"
     ]
    }
   ],
   "source": [
    "# graph = pydotplus.graph_from_dot_data(dot_data.getvalue())  "
   ]
  },
  {
   "cell_type": "code",
   "execution_count": null,
   "metadata": {},
   "outputs": [],
   "source": [
    "# graph.write_png(\"tree.png\")\n"
   ]
  },
  {
   "cell_type": "code",
   "execution_count": null,
   "metadata": {},
   "outputs": [],
   "source": [
    "# Image(graph.create_png())"
   ]
  },
  {
   "cell_type": "code",
   "execution_count": null,
   "metadata": {},
   "outputs": [],
   "source": []
  },
  {
   "cell_type": "markdown",
   "metadata": {},
   "source": [
    "## Testing theory"
   ]
  },
  {
   "cell_type": "code",
   "execution_count": 56,
   "metadata": {},
   "outputs": [
    {
     "data": {
      "text/plain": [
       "<matplotlib.axes._subplots.AxesSubplot at 0x118206a90>"
      ]
     },
     "execution_count": 56,
     "metadata": {},
     "output_type": "execute_result"
    },
    {
     "data": {
      "image/png": "[encoded data removed]",
      "text/plain": [
       "<Figure size 432x288 with 1 Axes>"
      ]
     },
     "metadata": {
      "needs_background": "light"
     },
     "output_type": "display_data"
    }
   ],
   "source": [
    "XRP_for_testing[['close','date']].set_index('date').plot()"
   ]
  },
  {
   "cell_type": "code",
   "execution_count": 57,
   "metadata": {},
   "outputs": [],
   "source": [
    "section_period = {  '5min': 1,\n",
    "                    '10min': 2,\n",
    "                    '15min': 3,\n",
    "                    '20min': 4,\n",
    "                    '1H': 12,\n",
    "                    '2H': 24,\n",
    "                    '4H': 48,\n",
    "                    '12H': 144,\n",
    "                    '24H': 288,\n",
    "                    '5D': 1440,\n",
    "                    '10D': 2880}\n"
   ]
  },
  {
   "cell_type": "code",
   "execution_count": 58,
   "metadata": {},
   "outputs": [],
   "source": [
    "for k,v in section_period.items():\n",
    "    XRP_for_testing['{0}_RA_on_Close'.format(k)] = XRP_for_testing['close'].rolling(v).mean()"
   ]
  },
  {
   "cell_type": "code",
   "execution_count": 59,
   "metadata": {},
   "outputs": [],
   "source": [
    "compare_sequence = {}"
   ]
  },
  {
   "cell_type": "code",
   "execution_count": 60,
   "metadata": {},
   "outputs": [],
   "source": [
    "for col_1 in [d for d in XRP_for_testing.columns if '_RA_on_Close' in d]:\n",
    "    for col_2 in [d for d in XRP_for_testing.columns if '_RA_on_Close' in d]:\n",
    "        temp_1 = col_1.split('_RA_on_Close')[0]\n",
    "        temp_2 = col_2.split('_RA_on_Close')[0]\n",
    "        if temp_1 != temp_2:\n",
    "            if ((temp_1 + '_minus_' + temp_2) not in compare_sequence.keys() and (temp_2 + '_minus_' + temp_1) not in compare_sequence.keys() ):\n",
    "                compare_sequence.update({temp_1 + '_minus_' + temp_2 : [col_1, col_2]})"
   ]
  },
  {
   "cell_type": "code",
   "execution_count": 61,
   "metadata": {},
   "outputs": [],
   "source": [
    "for k, val in compare_sequence.items():\n",
    "    XRP_for_testing[k] = (XRP_for_testing[val[0]] - XRP_for_testing[val[1]])/XRP_for_testing[val[1]] \n",
    "#     print(k, val[0], val[1])"
   ]
  },
  {
   "cell_type": "code",
   "execution_count": 62,
   "metadata": {},
   "outputs": [],
   "source": [
    "for col in [d for d in XRP_for_testing.columns if '_RA_on_Close' in d]:\n",
    "    XRP_for_testing[col] = XRP_for_testing[col].shift(1)\n",
    "    \n",
    "    XRP_for_testing['{0}_close_percent_dif'.format(col.split('_RA_on_Close')[0])] = (XRP_for_testing['close']-XRP_for_testing[col])/XRP_for_testing[col] "
   ]
  },
  {
   "cell_type": "code",
   "execution_count": 63,
   "metadata": {},
   "outputs": [
    {
     "name": "stdout",
     "output_type": "stream",
     "text": [
      "5min 1\n",
      "10min 2\n",
      "15min 3\n",
      "20min 4\n",
      "1H 12\n",
      "2H 24\n",
      "4H 48\n",
      "12H 144\n",
      "24H 288\n",
      "5D 1440\n",
      "10D 2880\n",
      "5min 1\n",
      "10min 2\n",
      "15min 3\n",
      "20min 4\n",
      "1H 12\n",
      "2H 24\n",
      "4H 48\n",
      "12H 144\n",
      "24H 288\n",
      "5D 1440\n",
      "10D 2880\n"
     ]
    }
   ],
   "source": [
    "for k,v in section_period.items():\n",
    "    print(k,v)\n",
    "    XRP_for_testing['look_back_{}'.format(k)] = XRP_for_testing['close'].shift(v)   # i.e. 20min ago, this is what the close price is\n",
    "#     XRP_for_testing['look_forward_{}'.format(k)] = XRP_for_testing['close'].shift(-v)  # i.e. 20min later, the close price is\n",
    "\n",
    "\n",
    "for k,v in section_period.items():\n",
    "    print(k,v)\n",
    "    XRP_for_testing['calculate_look_back_Percent_{}'.format(k)]    = 100*(XRP_for_testing['close'] - XRP_for_testing['look_back_{}'.format(k)])/(5*v)\n",
    "#     XRP_for_testing['calculate_look_forward_Percent_{}'.format(k)] =  100*(XRP_for_testing['look_forward_{}'.format(k)] - XRP_for_testing['close'])/(5*v)"
   ]
  },
  {
   "cell_type": "code",
   "execution_count": 64,
   "metadata": {},
   "outputs": [
    {
     "data": {
      "text/plain": [
       "Counter({False: 16505, True: 9718})"
      ]
     },
     "execution_count": 64,
     "metadata": {},
     "output_type": "execute_result"
    }
   ],
   "source": [
    "Counter(buy_in_decision_classifier.predict(XRP_for_testing[properties].dropna()))"
   ]
  },
  {
   "cell_type": "code",
   "execution_count": 65,
   "metadata": {},
   "outputs": [],
   "source": [
    "XRP_for_testing_drop_na = XRP_for_testing.dropna()"
   ]
  },
  {
   "cell_type": "code",
   "execution_count": null,
   "metadata": {},
   "outputs": [],
   "source": []
  },
  {
   "cell_type": "code",
   "execution_count": 66,
   "metadata": {},
   "outputs": [],
   "source": [
    "XRP_for_testing_drop_na['Buy_from_decision_tree'] = buy_in_decision_classifier.predict(XRP_for_testing[properties].dropna())"
   ]
  },
  {
   "cell_type": "code",
   "execution_count": 67,
   "metadata": {},
   "outputs": [],
   "source": [
    "time_event = {}\n",
    "starting_asset = 100\n",
    "bought_crypto = False\n",
    "\n",
    "\n",
    "gold_available = starting_asset \n",
    "XRP_amount = 0\n",
    "\n",
    "stop_loss_limit = 0.02"
   ]
  },
  {
   "cell_type": "code",
   "execution_count": 68,
   "metadata": {},
   "outputs": [],
   "source": [
    "for ind, df in XRP_for_testing_drop_na.iterrows():\n",
    "#         print(df['date'])\n",
    "\n",
    "    if bought_crypto != True: # then looking to buy at drop limit or lower\n",
    "        if df['Buy_from_decision_tree']: \n",
    "            \"then buy crypto\"\n",
    "\n",
    "            XRP_amount += (gold_available/df['low']) * 0.998 # due to 0.2% fee\n",
    "\n",
    "            gold_available -= gold_available\n",
    "\n",
    "            time_event.update({df['date']  : ( gold_available, XRP_amount , 'brought' , df['low'])})\n",
    "\n",
    "            last_xrp_traction_price =  df['low']\n",
    "\n",
    "            bought_crypto = True\n",
    "\n",
    "            latest_bought_crypto_timestamp = df['date']\n",
    "\n",
    "#                 print('last_xrp_traction_price ', last_xrp_traction_price)\n",
    "\n",
    "    else:\n",
    "        if bought_crypto: # has crypto, either wait or sell at stoploss or profit\n",
    "            \n",
    "            \n",
    "                    \n",
    "\n",
    "            if ( last_xrp_traction_price - df['close'] ) / last_xrp_traction_price <= -stop_loss_limit: # then hit stop loss, force sell\n",
    "#                     print('stoppppppppppppppppppppppppp')\n",
    "                gold_available += XRP_amount * df['low'] * 0.998  # sell at low price\n",
    "\n",
    "                XRP_amount -= XRP_amount\n",
    "\n",
    "                time_event.update({df['date']  : ( gold_available, XRP_amount , 'stop_loss_hit' ,  df['low'])})\n",
    "\n",
    "                bought_crypto = False\n",
    "\n",
    "                        \n",
    "            elif df['date'] - latest_bought_crypto_timestamp > 172800 * 5:\n",
    "\n",
    "                gold_available += XRP_amount * df['low'] * 0.998  # sell at low price\n",
    "\n",
    "                XRP_amount -= XRP_amount\n",
    "\n",
    "                time_event.update({df['date']  : ( gold_available, XRP_amount , 'time_stop' ,  df['low'])})\n",
    "\n",
    "                bought_crypto = False\n",
    "\n",
    "\n",
    "            elif (df['high'] - last_xrp_traction_price)/df['high'] >= 0.005:\n",
    "\n",
    "                gold_available += XRP_amount * df['high'] * 0.998  # sell at low price\n",
    "\n",
    "                XRP_amount -= XRP_amount\n",
    "\n",
    "                time_event.update({df['date']  : ( gold_available, XRP_amount , 'sell' ,  df['low'])})\n",
    "\n",
    "                bought_crypto = False\n",
    "                \n",
    "                \n",
    "            else:\n",
    "                pass"
   ]
  },
  {
   "cell_type": "code",
   "execution_count": 69,
   "metadata": {},
   "outputs": [],
   "source": [
    "transation_log = pd.DataFrame.from_dict(time_event, orient='index', columns= ['Gold', 'XRP_Amount', 'action', 'price_action_happened'])\n",
    "\n",
    "transation_log['datetime_real'] = [datetime.fromtimestamp(d) for d in transation_log.index]\n",
    "\n",
    "transation_log['USD'] = round(transation_log['Gold'], 2)\n",
    "\n",
    "transation_log['XRP_Amount'] = round(transation_log['XRP_Amount'], 4)"
   ]
  },
  {
   "cell_type": "code",
   "execution_count": 70,
   "metadata": {},
   "outputs": [
    {
     "data": {
      "text/html": [
       "<div>\n",
       "<style scoped>\n",
       "    .dataframe tbody tr th:only-of-type {\n",
       "        vertical-align: middle;\n",
       "    }\n",
       "\n",
       "    .dataframe tbody tr th {\n",
       "        vertical-align: top;\n",
       "    }\n",
       "\n",
       "    .dataframe thead th {\n",
       "        text-align: right;\n",
       "    }\n",
       "</style>\n",
       "<table border=\"1\" class=\"dataframe\">\n",
       "  <thead>\n",
       "    <tr style=\"text-align: right;\">\n",
       "      <th></th>\n",
       "      <th>Gold</th>\n",
       "      <th>XRP_Amount</th>\n",
       "      <th>action</th>\n",
       "      <th>price_action_happened</th>\n",
       "      <th>datetime_real</th>\n",
       "      <th>USD</th>\n",
       "    </tr>\n",
       "  </thead>\n",
       "  <tbody>\n",
       "    <tr>\n",
       "      <th>1566697800</th>\n",
       "      <td>0.000000</td>\n",
       "      <td>371.8453</td>\n",
       "      <td>brought</td>\n",
       "      <td>0.268391</td>\n",
       "      <td>2019-08-25 02:50:00</td>\n",
       "      <td>0.00</td>\n",
       "    </tr>\n",
       "    <tr>\n",
       "      <th>1566699600</th>\n",
       "      <td>100.196300</td>\n",
       "      <td>0.0000</td>\n",
       "      <td>sell</td>\n",
       "      <td>0.269997</td>\n",
       "      <td>2019-08-25 03:20:00</td>\n",
       "      <td>100.20</td>\n",
       "    </tr>\n",
       "    <tr>\n",
       "      <th>1566703800</th>\n",
       "      <td>0.000000</td>\n",
       "      <td>371.1061</td>\n",
       "      <td>brought</td>\n",
       "      <td>0.269454</td>\n",
       "      <td>2019-08-25 04:30:00</td>\n",
       "      <td>0.00</td>\n",
       "    </tr>\n",
       "    <tr>\n",
       "      <th>1566705300</th>\n",
       "      <td>100.522999</td>\n",
       "      <td>0.0000</td>\n",
       "      <td>sell</td>\n",
       "      <td>0.271417</td>\n",
       "      <td>2019-08-25 04:55:00</td>\n",
       "      <td>100.52</td>\n",
       "    </tr>\n",
       "    <tr>\n",
       "      <th>1566713700</th>\n",
       "      <td>0.000000</td>\n",
       "      <td>372.0388</td>\n",
       "      <td>brought</td>\n",
       "      <td>0.269655</td>\n",
       "      <td>2019-08-25 07:15:00</td>\n",
       "      <td>0.00</td>\n",
       "    </tr>\n",
       "    <tr>\n",
       "      <th>...</th>\n",
       "      <td>...</td>\n",
       "      <td>...</td>\n",
       "      <td>...</td>\n",
       "      <td>...</td>\n",
       "      <td>...</td>\n",
       "      <td>...</td>\n",
       "    </tr>\n",
       "    <tr>\n",
       "      <th>1573982700</th>\n",
       "      <td>0.000000</td>\n",
       "      <td>512.8304</td>\n",
       "      <td>brought</td>\n",
       "      <td>0.262245</td>\n",
       "      <td>2019-11-17 09:25:00</td>\n",
       "      <td>0.00</td>\n",
       "    </tr>\n",
       "    <tr>\n",
       "      <th>1573989300</th>\n",
       "      <td>135.243304</td>\n",
       "      <td>0.0000</td>\n",
       "      <td>sell</td>\n",
       "      <td>0.263336</td>\n",
       "      <td>2019-11-17 11:15:00</td>\n",
       "      <td>135.24</td>\n",
       "    </tr>\n",
       "    <tr>\n",
       "      <th>1573990500</th>\n",
       "      <td>0.000000</td>\n",
       "      <td>511.4979</td>\n",
       "      <td>brought</td>\n",
       "      <td>0.263878</td>\n",
       "      <td>2019-11-17 11:35:00</td>\n",
       "      <td>0.00</td>\n",
       "    </tr>\n",
       "    <tr>\n",
       "      <th>1574014200</th>\n",
       "      <td>135.633187</td>\n",
       "      <td>0.0000</td>\n",
       "      <td>sell</td>\n",
       "      <td>0.265181</td>\n",
       "      <td>2019-11-17 18:10:00</td>\n",
       "      <td>135.63</td>\n",
       "    </tr>\n",
       "    <tr>\n",
       "      <th>1574015700</th>\n",
       "      <td>0.000000</td>\n",
       "      <td>511.3905</td>\n",
       "      <td>brought</td>\n",
       "      <td>0.264694</td>\n",
       "      <td>2019-11-17 18:35:00</td>\n",
       "      <td>0.00</td>\n",
       "    </tr>\n",
       "  </tbody>\n",
       "</table>\n",
       "<p>289 rows × 6 columns</p>\n",
       "</div>"
      ],
      "text/plain": [
       "                  Gold  XRP_Amount   action  price_action_happened  \\\n",
       "1566697800    0.000000    371.8453  brought               0.268391   \n",
       "1566699600  100.196300      0.0000     sell               0.269997   \n",
       "1566703800    0.000000    371.1061  brought               0.269454   \n",
       "1566705300  100.522999      0.0000     sell               0.271417   \n",
       "1566713700    0.000000    372.0388  brought               0.269655   \n",
       "...                ...         ...      ...                    ...   \n",
       "1573982700    0.000000    512.8304  brought               0.262245   \n",
       "1573989300  135.243304      0.0000     sell               0.263336   \n",
       "1573990500    0.000000    511.4979  brought               0.263878   \n",
       "1574014200  135.633187      0.0000     sell               0.265181   \n",
       "1574015700    0.000000    511.3905  brought               0.264694   \n",
       "\n",
       "                 datetime_real     USD  \n",
       "1566697800 2019-08-25 02:50:00    0.00  \n",
       "1566699600 2019-08-25 03:20:00  100.20  \n",
       "1566703800 2019-08-25 04:30:00    0.00  \n",
       "1566705300 2019-08-25 04:55:00  100.52  \n",
       "1566713700 2019-08-25 07:15:00    0.00  \n",
       "...                        ...     ...  \n",
       "1573982700 2019-11-17 09:25:00    0.00  \n",
       "1573989300 2019-11-17 11:15:00  135.24  \n",
       "1573990500 2019-11-17 11:35:00    0.00  \n",
       "1574014200 2019-11-17 18:10:00  135.63  \n",
       "1574015700 2019-11-17 18:35:00    0.00  \n",
       "\n",
       "[289 rows x 6 columns]"
      ]
     },
     "execution_count": 70,
     "metadata": {},
     "output_type": "execute_result"
    }
   ],
   "source": [
    "transation_log"
   ]
  },
  {
   "cell_type": "code",
   "execution_count": 71,
   "metadata": {},
   "outputs": [
    {
     "data": {
      "text/plain": [
       "<matplotlib.axes._subplots.AxesSubplot at 0x11a1047b8>"
      ]
     },
     "execution_count": 71,
     "metadata": {},
     "output_type": "execute_result"
    },
    {
     "data": {
      "image/png": "[encoded data removed]",
      "text/plain": [
       "<Figure size 1440x720 with 1 Axes>"
      ]
     },
     "metadata": {
      "needs_background": "light"
     },
     "output_type": "display_data"
    }
   ],
   "source": [
    "transation_log[transation_log['action'] != 'brought'].set_index('datetime_real')[['USD']].plot(figsize = (20,10))"
   ]
  },
  {
   "cell_type": "code",
   "execution_count": null,
   "metadata": {},
   "outputs": [],
   "source": []
  },
  {
   "cell_type": "markdown",
   "metadata": {},
   "source": [
    "## Final result visualisation"
   ]
  },
  {
   "cell_type": "code",
   "execution_count": 72,
   "metadata": {},
   "outputs": [],
   "source": [
    "def plotting_view(xrp_data_input , trading_log ):\n",
    "\n",
    "#     ploting_breakdown = XRP_Analysis_table[(XRP_Analysis_table['date'] >= 1507374600 ) &\n",
    "#                                            (XRP_Analysis_table['date'] <= 1511274300 )]\n",
    "\n",
    "\n",
    "    transaction_display = trading_log\n",
    "    transaction_display['time_start'] = transaction_display.index\n",
    "    transaction_display['time_end'] = round(transaction_display['time_start'].shift(-1), 0)\n",
    "\n",
    "    transaction_display['action_to_color'] = transaction_display['action'].shift(-1)\n",
    "\n",
    "    transaction_display['colour_section'] = transaction_display['action_to_color'].apply(lambda x: 'black' if x == 'stop_loss_hit' else 'blue' if x == 'time_stop' else 'g')\n",
    "#     transaction_display['colour_section'] = transaction_display['action_to_color'].apply(lambda x: 'o' if x == 'time_stop' else x)\n",
    "    \n",
    "    ploting_breakdown = xrp_data_input\n",
    "    plt.figure(figsize= (20,10))\n",
    "\n",
    "\n",
    "#     tran_y_low = ploting_breakdown['low']\n",
    "#     tran_y_high = ploting_breakdown['high']\n",
    "    tran_y_close = ploting_breakdown['close']\n",
    "\n",
    "#     tran_y_ra = ploting_breakdown['20min_RA_on_Close']\n",
    "\n",
    "    tran_x = ploting_breakdown['date']\n",
    "\n",
    "\n",
    "#     plt.plot(tran_x, tran_y_low)\n",
    "#     plt.plot(tran_x, tran_y_high)\n",
    "    plt.plot(tran_x, tran_y_close)\n",
    "\n",
    "#     plt.plot(tran_x, tran_y_ra)\n",
    "\n",
    "    graph_min = ploting_breakdown['low'].min() * 0.95\n",
    "    graph_max = ploting_breakdown['high'].max() * 1.05\n",
    "\n",
    "    # plotting transaction\n",
    "    for ind, value in transaction_display[ (transaction_display['time_start'] <= ploting_breakdown['date'].max()) &\n",
    "                                           (transaction_display['time_start'] >= ploting_breakdown['date'].min()) &                      \n",
    "                                           (transaction_display['action'] == 'brought')].iterrows():\n",
    "\n",
    "        plt.axvspan(value['time_start'], value['time_end'], alpha = 0.1 , facecolor = value['colour_section'])\n",
    "\n",
    "        plt.vlines(value['time_start'], graph_min, graph_max, alpha = 0.4, color = value['colour_section'])\n",
    "        plt.vlines(value['time_end'], graph_min, graph_max, alpha = 0.4, color = value['colour_section'], linestyle = 'dashed')\n",
    "\n",
    "\n",
    "    # for ind, value in ploting_breakdown[ploting_breakdown['Increase_0.5_percent'] <= ploting_breakdown['date'].max()].iterrows():\n",
    "    # #     print(value['Increase_0.5_percent'])\n",
    "    # #     plt.vlines(value['date'], 0, 1, alpha = 0.2, color = 'b',linestyle = 'dashed')\n",
    "    #     plt.vlines(value['Increase_0.5_percent'], 0, 1, alpha = 0.2, color = 'b',linestyle = 'dashed')\n",
    "\n",
    "\n",
    "    plt.ylim(graph_min, graph_max )\n",
    "\n",
    "    plt.xlim(ploting_breakdown['date'].min(), ploting_breakdown['date'].max())\n",
    "    plt.legend()"
   ]
  },
  {
   "cell_type": "code",
   "execution_count": null,
   "metadata": {},
   "outputs": [],
   "source": []
  },
  {
   "cell_type": "code",
   "execution_count": 73,
   "metadata": {},
   "outputs": [
    {
     "data": {
      "text/plain": [
       "<matplotlib.axes._subplots.AxesSubplot at 0x11a0fc278>"
      ]
     },
     "execution_count": 73,
     "metadata": {},
     "output_type": "execute_result"
    },
    {
     "data": {
      "image/png": "[encoded data removed]",
      "text/plain": [
       "<Figure size 432x288 with 1 Axes>"
      ]
     },
     "metadata": {
      "needs_background": "light"
     },
     "output_type": "display_data"
    }
   ],
   "source": [
    "XRP_for_testing_drop_na[(XRP_for_testing_drop_na['datetime_real'] >= '2019-09-01 00:00:00') & \n",
    "                        (XRP_for_testing_drop_na['datetime_real'] <= '2019-10-01 00:00:00')][['close','date']].set_index('date').plot()"
   ]
  },
  {
   "cell_type": "code",
   "execution_count": 74,
   "metadata": {},
   "outputs": [
    {
     "data": {
      "text/plain": [
       "<matplotlib.axes._subplots.AxesSubplot at 0x11287a860>"
      ]
     },
     "execution_count": 74,
     "metadata": {},
     "output_type": "execute_result"
    },
    {
     "data": {
      "image/png": "[encoded data removed]",
      "text/plain": [
       "<Figure size 432x288 with 1 Axes>"
      ]
     },
     "metadata": {
      "needs_background": "light"
     },
     "output_type": "display_data"
    }
   ],
   "source": [
    "transation_log[(transation_log['action'] != 'brought')][['Gold','datetime_real']].set_index('datetime_real').plot()"
   ]
  },
  {
   "cell_type": "code",
   "execution_count": 75,
   "metadata": {},
   "outputs": [
    {
     "data": {
      "text/plain": [
       "<matplotlib.axes._subplots.AxesSubplot at 0x118458c88>"
      ]
     },
     "execution_count": 75,
     "metadata": {},
     "output_type": "execute_result"
    },
    {
     "data": {
      "image/png": "[encoded data removed]",
      "text/plain": [
       "<Figure size 432x288 with 1 Axes>"
      ]
     },
     "metadata": {
      "needs_background": "light"
     },
     "output_type": "display_data"
    }
   ],
   "source": [
    "transation_log[(transation_log['datetime_real'] >= '2019-09-18 12:00:00') & \n",
    "                (transation_log['datetime_real'] <= '2019-10-01 00:00:00') & \n",
    "               (transation_log['action'] != 'brought')][['Gold','datetime_real']].set_index('datetime_real').plot()"
   ]
  },
  {
   "cell_type": "markdown",
   "metadata": {},
   "source": [
    "## Deeper look"
   ]
  },
  {
   "cell_type": "code",
   "execution_count": 76,
   "metadata": {},
   "outputs": [
    {
     "name": "stderr",
     "output_type": "stream",
     "text": [
      "No handles with labels found to put in legend.\n"
     ]
    },
    {
     "data": {
      "image/png": "[encoded data removed]",
      "text/plain": [
       "<Figure size 1440x720 with 1 Axes>"
      ]
     },
     "metadata": {
      "needs_background": "light"
     },
     "output_type": "display_data"
    }
   ],
   "source": [
    "plotting_view(XRP_for_testing_drop_na[(XRP_for_testing_drop_na['datetime_real'] >= '2019-09-18 12:00:00') & \n",
    "                                      (XRP_for_testing_drop_na['datetime_real'] <= '2019-10-01 00:00:00')]\n",
    "              , transation_log[(transation_log['datetime_real'] >= '2019-09-18 12:00:00') & \n",
    "                                      (transation_log['datetime_real'] <= '2019-10-01 00:00:00')] )"
   ]
  },
  {
   "cell_type": "code",
   "execution_count": null,
   "metadata": {},
   "outputs": [],
   "source": []
  },
  {
   "cell_type": "code",
   "execution_count": null,
   "metadata": {},
   "outputs": [],
   "source": []
  },
  {
   "cell_type": "code",
   "execution_count": null,
   "metadata": {},
   "outputs": [],
   "source": []
  },
  {
   "cell_type": "code",
   "execution_count": null,
   "metadata": {},
   "outputs": [],
   "source": []
  },
  {
   "cell_type": "code",
   "execution_count": null,
   "metadata": {},
   "outputs": [],
   "source": []
  },
  {
   "cell_type": "code",
   "execution_count": null,
   "metadata": {},
   "outputs": [],
   "source": []
  },
  {
   "cell_type": "markdown",
   "metadata": {},
   "source": [
    "# Draft Paper"
   ]
  },
  {
   "cell_type": "markdown",
   "metadata": {},
   "source": [
    "### Static trading"
   ]
  },
  {
   "cell_type": "code",
   "execution_count": 77,
   "metadata": {},
   "outputs": [],
   "source": [
    "time_event = {}\n",
    "starting_asset = 100\n",
    "bought_crypto = False\n",
    "\n",
    "\n",
    "gold_available = starting_asset \n",
    "XRP_amount = 0\n",
    "\n",
    "\n",
    "drop_limit = 0.005 # used mean on this side, actual 0.004686, but decreased abit for optimistic view \n",
    "\n",
    "stop_loss_limit = 0.02\n",
    "sell_limit = 0.005\n",
    "\n",
    "trading_data = XRP_for_testing_drop_na\n",
    "while gold_available >= 0:\n",
    "    \n",
    "    for ind, df in trading_data.iterrows():\n",
    "#         print(df['date'])\n",
    "        \n",
    "        if bought_crypto != True: # then looking to buy at drop limit or lower\n",
    "            if (( df['20min_RA_on_Close'] - df['low'] ) / df['20min_RA_on_Close'] >= drop_limit ) and (df['20min_RA_on_Close'] != df['2H_RA_on_Close']): \n",
    "                \"then buy crypto\"\n",
    "\n",
    "                XRP_amount += (gold_available/df['low']) * 0.998 # due to 0.2% fee\n",
    "\n",
    "                gold_available -= gold_available\n",
    "                \n",
    "                time_event.update({df['date']  : ( gold_available, XRP_amount , 'brought' , df['low'])})\n",
    "                \n",
    "                last_xrp_traction_price =  df['low']\n",
    "                \n",
    "                bought_crypto = True\n",
    "                \n",
    "                latest_bought_crypto_timestamp = df['date']\n",
    "                \n",
    "#                 print('last_xrp_traction_price ', last_xrp_traction_price)\n",
    "                \n",
    "        else:\n",
    "            if bought_crypto: # has crypto, either wait or sell at stoploss or profit\n",
    "#                 print('hit_sell_limit',\n",
    "#                       (df['high'] - last_xrp_traction_price)/last_xrp_traction_price >= sell_limit ,\n",
    "#                       round((df['high'] - last_xrp_traction_price),6) ,\n",
    "#                       'sell_limit ', sell_limit\n",
    "                     \n",
    "#                       )\n",
    "\n",
    "                if df['date'] - latest_bought_crypto_timestamp > 172800:\n",
    "                    \n",
    "                    gold_available += XRP_amount * df['high'] * 0.998  # sell at low price\n",
    "                    \n",
    "                    XRP_amount -= XRP_amount\n",
    "                    \n",
    "                    time_event.update({df['date']  : ( gold_available, XRP_amount , 'time_stop' ,  df['low'])})\n",
    "                    \n",
    "                    bought_crypto = False\n",
    "                    \n",
    "                \n",
    "                elif ( df['20min_RA_on_Close'] - df['low'] ) / df['20min_RA_on_Close'] >= stop_loss_limit: # then hit stop loss, force sell\n",
    "#                     print('stoppppppppppppppppppppppppp')\n",
    "                    gold_available += XRP_amount * df['low'] * 0.998  # sell at low price\n",
    "                    \n",
    "                    XRP_amount -= XRP_amount\n",
    "                    \n",
    "                    time_event.update({df['date']  : ( gold_available, XRP_amount , 'stop_loss_hit' ,  df['low'])})\n",
    "                    \n",
    "                    bought_crypto = False\n",
    "                    \n",
    "                    \n",
    "                \n",
    "                elif  (df['high'] - last_xrp_traction_price)/last_xrp_traction_price >= sell_limit: # then hit target price, sell for profit\n",
    "                    \n",
    "#                     print(last_xrp_traction_price)\n",
    "                                        \n",
    "                    gold_available += XRP_amount * df['high'] * 0.998  # sell at high price\n",
    "                    \n",
    "                    XRP_amount -= XRP_amount\n",
    "                    \n",
    "                    time_event.update({df['date']  : ( gold_available, XRP_amount , 'sell_profit' , df['high'])})\n",
    "                    \n",
    "                    bought_crypto = False\n",
    "\n",
    "    break\n",
    "                \n",
    "else:\n",
    "    print('Negative asset: bankrupt  ->>>   ',  gold_available)"
   ]
  },
  {
   "cell_type": "code",
   "execution_count": 78,
   "metadata": {},
   "outputs": [],
   "source": [
    "transation_log = pd.DataFrame.from_dict(time_event, orient='index', columns= ['Gold', 'XRP_Amount', 'action', 'price_action_happened'])\n",
    "\n",
    "transation_log['datetime_real'] = [datetime.fromtimestamp(d) for d in transation_log.index]\n",
    "\n",
    "transation_log['Gold'] = round(transation_log['Gold'], 2)\n",
    "\n",
    "transation_log['XRP_Amount'] = round(transation_log['XRP_Amount'], 4)"
   ]
  },
  {
   "cell_type": "code",
   "execution_count": 79,
   "metadata": {},
   "outputs": [
    {
     "data": {
      "text/plain": [
       "<matplotlib.axes._subplots.AxesSubplot at 0x115453c88>"
      ]
     },
     "execution_count": 79,
     "metadata": {},
     "output_type": "execute_result"
    },
    {
     "data": {
      "image/png": "[encoded data removed]",
      "text/plain": [
       "<Figure size 1440x720 with 1 Axes>"
      ]
     },
     "metadata": {
      "needs_background": "light"
     },
     "output_type": "display_data"
    }
   ],
   "source": [
    "transation_log[transation_log['action'] != 'brought'].set_index('datetime_real')[['Gold']].plot(figsize = (20,10))"
   ]
  },
  {
   "cell_type": "code",
   "execution_count": 80,
   "metadata": {},
   "outputs": [
    {
     "data": {
      "text/html": [
       "<div>\n",
       "<style scoped>\n",
       "    .dataframe tbody tr th:only-of-type {\n",
       "        vertical-align: middle;\n",
       "    }\n",
       "\n",
       "    .dataframe tbody tr th {\n",
       "        vertical-align: top;\n",
       "    }\n",
       "\n",
       "    .dataframe thead th {\n",
       "        text-align: right;\n",
       "    }\n",
       "</style>\n",
       "<table border=\"1\" class=\"dataframe\">\n",
       "  <thead>\n",
       "    <tr style=\"text-align: right;\">\n",
       "      <th></th>\n",
       "      <th>Gold</th>\n",
       "      <th>XRP_Amount</th>\n",
       "      <th>action</th>\n",
       "      <th>price_action_happened</th>\n",
       "      <th>datetime_real</th>\n",
       "    </tr>\n",
       "  </thead>\n",
       "  <tbody>\n",
       "    <tr>\n",
       "      <th>1566697800</th>\n",
       "      <td>0.00</td>\n",
       "      <td>371.8453</td>\n",
       "      <td>brought</td>\n",
       "      <td>0.268391</td>\n",
       "      <td>2019-08-25 02:50:00</td>\n",
       "    </tr>\n",
       "    <tr>\n",
       "      <th>1566699600</th>\n",
       "      <td>100.20</td>\n",
       "      <td>0.0000</td>\n",
       "      <td>sell_profit</td>\n",
       "      <td>0.269997</td>\n",
       "      <td>2019-08-25 03:20:00</td>\n",
       "    </tr>\n",
       "    <tr>\n",
       "      <th>1566734400</th>\n",
       "      <td>0.00</td>\n",
       "      <td>366.2122</td>\n",
       "      <td>brought</td>\n",
       "      <td>0.273055</td>\n",
       "      <td>2019-08-25 13:00:00</td>\n",
       "    </tr>\n",
       "    <tr>\n",
       "      <th>1566735600</th>\n",
       "      <td>100.32</td>\n",
       "      <td>0.0000</td>\n",
       "      <td>sell_profit</td>\n",
       "      <td>0.274479</td>\n",
       "      <td>2019-08-25 13:20:00</td>\n",
       "    </tr>\n",
       "    <tr>\n",
       "      <th>1566738300</th>\n",
       "      <td>0.00</td>\n",
       "      <td>366.0261</td>\n",
       "      <td>brought</td>\n",
       "      <td>0.273522</td>\n",
       "      <td>2019-08-25 14:05:00</td>\n",
       "    </tr>\n",
       "    <tr>\n",
       "      <th>...</th>\n",
       "      <td>...</td>\n",
       "      <td>...</td>\n",
       "      <td>...</td>\n",
       "      <td>...</td>\n",
       "      <td>...</td>\n",
       "    </tr>\n",
       "    <tr>\n",
       "      <th>1574458500</th>\n",
       "      <td>0.00</td>\n",
       "      <td>344.7589</td>\n",
       "      <td>brought</td>\n",
       "      <td>0.231965</td>\n",
       "      <td>2019-11-22 21:35:00</td>\n",
       "    </tr>\n",
       "    <tr>\n",
       "      <th>1574518800</th>\n",
       "      <td>80.50</td>\n",
       "      <td>0.0000</td>\n",
       "      <td>sell_profit</td>\n",
       "      <td>0.233966</td>\n",
       "      <td>2019-11-23 14:20:00</td>\n",
       "    </tr>\n",
       "    <tr>\n",
       "      <th>1574528100</th>\n",
       "      <td>0.00</td>\n",
       "      <td>344.8305</td>\n",
       "      <td>brought</td>\n",
       "      <td>0.232982</td>\n",
       "      <td>2019-11-23 16:55:00</td>\n",
       "    </tr>\n",
       "    <tr>\n",
       "      <th>1574553600</th>\n",
       "      <td>80.79</td>\n",
       "      <td>0.0000</td>\n",
       "      <td>sell_profit</td>\n",
       "      <td>0.234757</td>\n",
       "      <td>2019-11-24 00:00:00</td>\n",
       "    </tr>\n",
       "    <tr>\n",
       "      <th>1574554200</th>\n",
       "      <td>0.00</td>\n",
       "      <td>346.4474</td>\n",
       "      <td>brought</td>\n",
       "      <td>0.232727</td>\n",
       "      <td>2019-11-24 00:10:00</td>\n",
       "    </tr>\n",
       "  </tbody>\n",
       "</table>\n",
       "<p>827 rows × 5 columns</p>\n",
       "</div>"
      ],
      "text/plain": [
       "              Gold  XRP_Amount       action  price_action_happened  \\\n",
       "1566697800    0.00    371.8453      brought               0.268391   \n",
       "1566699600  100.20      0.0000  sell_profit               0.269997   \n",
       "1566734400    0.00    366.2122      brought               0.273055   \n",
       "1566735600  100.32      0.0000  sell_profit               0.274479   \n",
       "1566738300    0.00    366.0261      brought               0.273522   \n",
       "...            ...         ...          ...                    ...   \n",
       "1574458500    0.00    344.7589      brought               0.231965   \n",
       "1574518800   80.50      0.0000  sell_profit               0.233966   \n",
       "1574528100    0.00    344.8305      brought               0.232982   \n",
       "1574553600   80.79      0.0000  sell_profit               0.234757   \n",
       "1574554200    0.00    346.4474      brought               0.232727   \n",
       "\n",
       "                 datetime_real  \n",
       "1566697800 2019-08-25 02:50:00  \n",
       "1566699600 2019-08-25 03:20:00  \n",
       "1566734400 2019-08-25 13:00:00  \n",
       "1566735600 2019-08-25 13:20:00  \n",
       "1566738300 2019-08-25 14:05:00  \n",
       "...                        ...  \n",
       "1574458500 2019-11-22 21:35:00  \n",
       "1574518800 2019-11-23 14:20:00  \n",
       "1574528100 2019-11-23 16:55:00  \n",
       "1574553600 2019-11-24 00:00:00  \n",
       "1574554200 2019-11-24 00:10:00  \n",
       "\n",
       "[827 rows x 5 columns]"
      ]
     },
     "execution_count": 80,
     "metadata": {},
     "output_type": "execute_result"
    }
   ],
   "source": [
    "transation_log"
   ]
  },
  {
   "cell_type": "code",
   "execution_count": null,
   "metadata": {},
   "outputs": [],
   "source": []
  },
  {
   "cell_type": "code",
   "execution_count": null,
   "metadata": {},
   "outputs": [],
   "source": []
  },
  {
   "cell_type": "code",
   "execution_count": null,
   "metadata": {},
   "outputs": [],
   "source": []
  },
  {
   "cell_type": "code",
   "execution_count": null,
   "metadata": {},
   "outputs": [],
   "source": []
  },
  {
   "cell_type": "code",
   "execution_count": null,
   "metadata": {},
   "outputs": [],
   "source": []
  },
  {
   "cell_type": "code",
   "execution_count": null,
   "metadata": {},
   "outputs": [],
   "source": []
  },
  {
   "cell_type": "code",
   "execution_count": null,
   "metadata": {},
   "outputs": [],
   "source": []
  },
  {
   "cell_type": "code",
   "execution_count": null,
   "metadata": {},
   "outputs": [],
   "source": []
  },
  {
   "cell_type": "code",
   "execution_count": null,
   "metadata": {},
   "outputs": [],
   "source": []
  },
  {
   "cell_type": "markdown",
   "metadata": {},
   "source": [
    "# identify sharp drop bounce back"
   ]
  },
  {
   "cell_type": "code",
   "execution_count": 82,
   "metadata": {},
   "outputs": [],
   "source": [
    "sharp_drop = XRP_for_testing_drop_na.tail(1000).set_index('date')[['close']].copy()"
   ]
  },
  {
   "cell_type": "code",
   "execution_count": 87,
   "metadata": {},
   "outputs": [
    {
     "data": {
      "text/plain": [
       "<matplotlib.axes._subplots.AxesSubplot at 0x118657d68>"
      ]
     },
     "execution_count": 87,
     "metadata": {},
     "output_type": "execute_result"
    },
    {
     "data": {
      "image/png": "[encoded data removed]",
      "text/plain": [
       "<Figure size 432x288 with 1 Axes>"
      ]
     },
     "metadata": {
      "needs_background": "light"
     },
     "output_type": "display_data"
    }
   ],
   "source": [
    "sharp_drop.plot()"
   ]
  },
  {
   "cell_type": "code",
   "execution_count": 88,
   "metadata": {},
   "outputs": [
    {
     "data": {
      "text/html": [
       "<div>\n",
       "<style scoped>\n",
       "    .dataframe tbody tr th:only-of-type {\n",
       "        vertical-align: middle;\n",
       "    }\n",
       "\n",
       "    .dataframe tbody tr th {\n",
       "        vertical-align: top;\n",
       "    }\n",
       "\n",
       "    .dataframe thead th {\n",
       "        text-align: right;\n",
       "    }\n",
       "</style>\n",
       "<table border=\"1\" class=\"dataframe\">\n",
       "  <thead>\n",
       "    <tr style=\"text-align: right;\">\n",
       "      <th></th>\n",
       "      <th>close</th>\n",
       "    </tr>\n",
       "    <tr>\n",
       "      <th>date</th>\n",
       "      <th></th>\n",
       "    </tr>\n",
       "  </thead>\n",
       "  <tbody>\n",
       "    <tr>\n",
       "      <th>1574553000</th>\n",
       "      <td>0.233862</td>\n",
       "    </tr>\n",
       "    <tr>\n",
       "      <th>1574553300</th>\n",
       "      <td>0.233862</td>\n",
       "    </tr>\n",
       "    <tr>\n",
       "      <th>1574553600</th>\n",
       "      <td>0.234757</td>\n",
       "    </tr>\n",
       "    <tr>\n",
       "      <th>1574553900</th>\n",
       "      <td>0.233364</td>\n",
       "    </tr>\n",
       "    <tr>\n",
       "      <th>1574554200</th>\n",
       "      <td>0.232727</td>\n",
       "    </tr>\n",
       "  </tbody>\n",
       "</table>\n",
       "</div>"
      ],
      "text/plain": [
       "               close\n",
       "date                \n",
       "1574553000  0.233862\n",
       "1574553300  0.233862\n",
       "1574553600  0.234757\n",
       "1574553900  0.233364\n",
       "1574554200  0.232727"
      ]
     },
     "execution_count": 88,
     "metadata": {},
     "output_type": "execute_result"
    }
   ],
   "source": [
    "sharp_drop.tail()"
   ]
  },
  {
   "cell_type": "code",
   "execution_count": 94,
   "metadata": {},
   "outputs": [
    {
     "name": "stderr",
     "output_type": "stream",
     "text": [
      "No handles with labels found to put in legend.\n"
     ]
    },
    {
     "name": "stdout",
     "output_type": "stream",
     "text": [
      "\n",
      " selecting '2018-08-15 00:00:00' as the starting time as it bypasses the past crypto rush\n"
     ]
    },
    {
     "data": {
      "image/png": "[encoded data removed]",
      "text/plain": [
       "<Figure size 1512x504 with 1 Axes>"
      ]
     },
     "metadata": {
      "needs_background": "light"
     },
     "output_type": "display_data"
    }
   ],
   "source": [
    "ploting_breakdown = sharp_drop\n",
    "\n",
    "plt.figure(figsize= (21,7))\n",
    "\n",
    "\n",
    "# tran_y_low = ploting_breakdown['low']\n",
    "# tran_y_high = ploting_breakdown['high']\n",
    "tran_y_close = ploting_breakdown['close']\n",
    "\n",
    "tran_x = ploting_breakdown.index\n",
    "\n",
    "\n",
    "# plt.plot(tran_x, tran_y_low, alpha = 0.1)\n",
    "# plt.plot(tran_x, tran_y_high , alpha  = 0.1)\n",
    "\n",
    "plt.plot(tran_x, tran_y_close, alpha  = 1)\n",
    "\n",
    "\n",
    "# start = 45000\n",
    "# dealta_t = 10000\n",
    "time_section = {45000 : 13000,\n",
    "                63000 : 8000 ,\n",
    "                71000 : 10000,\n",
    "                180000: 10000}  # start // delta_t\n",
    "\n",
    "\n",
    "\n",
    "min_v = sharp_drop['close'].min()\n",
    "max_v = sharp_drop['close'].max()\n",
    "\n",
    "plt.vlines(1574434200, min_v, max_v, alpha = 1, color = 'g',linestyle = 'dashed')\n",
    "    \n",
    "plt.legend()\n",
    "plt.grid()\n",
    "print(\"\\n selecting '2018-08-15 00:00:00' as the starting time as it bypasses the past crypto rush\")"
   ]
  },
  {
   "cell_type": "code",
   "execution_count": null,
   "metadata": {},
   "outputs": [],
   "source": []
  },
  {
   "cell_type": "code",
   "execution_count": null,
   "metadata": {},
   "outputs": [],
   "source": []
  }
 ],
 "metadata": {
  "kernelspec": {
   "display_name": "Python 3",
   "language": "python",
   "name": "python3"
  },
  "language_info": {
   "codemirror_mode": {
    "name": "ipython",
    "version": 3
   },
   "file_extension": ".py",
   "mimetype": "text/x-python",
   "name": "python",
   "nbconvert_exporter": "python",
   "pygments_lexer": "ipython3",
   "version": "3.7.3"
  }
 },
 "nbformat": 4,
 "nbformat_minor": 4
}

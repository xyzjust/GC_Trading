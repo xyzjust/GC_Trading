{
 "cells": [
  {
   "cell_type": "markdown",
   "metadata": {},
   "source": [
    "https://www.datacamp.com/community/tutorials/xgboost-in-python"
   ]
  },
  {
   "cell_type": "code",
   "execution_count": 1,
   "metadata": {},
   "outputs": [],
   "source": [
    "import os\n",
    "os.environ[\"PATH\"] += os.pathsep + 'C:/Program Files (x86)/Graphviz2.38/bin/'\n",
    "os.environ[\"PATH\"] += os.pathsep + 'D:/LatexPackage/miktex/bin/x64'"
   ]
  },
  {
   "cell_type": "code",
   "execution_count": 2,
   "metadata": {},
   "outputs": [],
   "source": [
    "os.environ[\"PATH\"] += os.pathsep + 'D:/Database/Bitfinex-historical-data-master/Bitfinex-historical-data-master'"
   ]
  },
  {
   "cell_type": "code",
   "execution_count": 3,
   "metadata": {},
   "outputs": [],
   "source": [
    "import warnings\n",
    "warnings.filterwarnings(\"ignore\")\n"
   ]
  },
  {
   "cell_type": "code",
   "execution_count": 4,
   "metadata": {},
   "outputs": [],
   "source": [
    "from sklearn.datasets import load_boston"
   ]
  },
  {
   "cell_type": "code",
   "execution_count": 5,
   "metadata": {},
   "outputs": [],
   "source": [
    "import xgboost as xgb\n",
    "from sklearn.metrics import mean_squared_error"
   ]
  },
  {
   "cell_type": "code",
   "execution_count": 6,
   "metadata": {},
   "outputs": [],
   "source": [
    "import numpy as np\n",
    "\n",
    "import matplotlib.pyplot as plt\n",
    "\n",
    "import datetime as dt\n",
    "\n",
    "from datetime import datetime\n",
    "\n",
    "import pandas as pd\n",
    "import urllib.request\n",
    "     \n",
    "\n",
    "from IPython.display import clear_output"
   ]
  },
  {
   "cell_type": "code",
   "execution_count": null,
   "metadata": {},
   "outputs": [],
   "source": []
  },
  {
   "cell_type": "code",
   "execution_count": 7,
   "metadata": {},
   "outputs": [],
   "source": [
    "## Loading BTC and XRP Data"
   ]
  },
  {
   "cell_type": "code",
   "execution_count": 8,
   "metadata": {},
   "outputs": [],
   "source": [
    "header_format = ['timestamp_UTC_millisec',\n",
    "'open_price',\n",
    "'close_price',\n",
    "'highest_price',\n",
    "'lowest_price',\n",
    "'volume']"
   ]
  },
  {
   "cell_type": "code",
   "execution_count": null,
   "metadata": {},
   "outputs": [],
   "source": []
  },
  {
   "cell_type": "code",
   "execution_count": null,
   "metadata": {},
   "outputs": [],
   "source": []
  },
  {
   "cell_type": "code",
   "execution_count": 21,
   "metadata": {},
   "outputs": [],
   "source": [
    "BTC_USD_1min_path = 'D:\\Database\\Bitfinex-historical-data-master_backup\\Bitfinex-historical-data-master\\BTCUSD\\Candles_1m'"
   ]
  },
  {
   "cell_type": "code",
   "execution_count": 22,
   "metadata": {},
   "outputs": [],
   "source": [
    "BTC_2019 = pd.read_csv(BTC_USD_1min_path + '/2019/merged.csv', header=None ,names =  ['btc_' + d for d in header_format])"
   ]
  },
  {
   "cell_type": "code",
   "execution_count": 23,
   "metadata": {},
   "outputs": [],
   "source": [
    "BTC_2018 = pd.read_csv(BTC_USD_1min_path + '/2018/merged.csv', header=None ,names =  ['btc_' + d for d in header_format])"
   ]
  },
  {
   "cell_type": "code",
   "execution_count": 24,
   "metadata": {},
   "outputs": [],
   "source": [
    "XRP_USD_1min_path = 'D:\\Database\\Bitfinex-historical-data-master_backup\\Bitfinex-historical-data-master\\XRPUSD\\Candles_1m'"
   ]
  },
  {
   "cell_type": "code",
   "execution_count": 25,
   "metadata": {},
   "outputs": [],
   "source": [
    "XRP_2018 = pd.read_csv(XRP_USD_1min_path + '/2018/merged.csv', header=None, names = ['xrp_' + d for d in header_format])"
   ]
  },
  {
   "cell_type": "code",
   "execution_count": 26,
   "metadata": {},
   "outputs": [],
   "source": [
    "XRP_2019 = pd.read_csv(XRP_USD_1min_path + '/2019/merged.csv', header=None , names =  ['xrp_' + d for d in header_format])"
   ]
  },
  {
   "cell_type": "code",
   "execution_count": 27,
   "metadata": {},
   "outputs": [],
   "source": [
    "btc_xrp_merged_2019 = BTC_2019.merge(XRP_2019, \n",
    "               left_on = 'btc_timestamp_UTC_millisec', \n",
    "               right_on = 'xrp_timestamp_UTC_millisec', \n",
    "               how = 'outer')"
   ]
  },
  {
   "cell_type": "code",
   "execution_count": 28,
   "metadata": {},
   "outputs": [],
   "source": [
    "btc_xrp_merged_2019['time_stamp_UTC_millisec'] = btc_xrp_merged_2019['xrp_timestamp_UTC_millisec']"
   ]
  },
  {
   "cell_type": "code",
   "execution_count": 29,
   "metadata": {},
   "outputs": [],
   "source": [
    "btc_xrp_merged_2019['time_stamp_UTC_millisec'] = btc_xrp_merged_2019['time_stamp_UTC_millisec'].fillna(btc_xrp_merged_2019['btc_timestamp_UTC_millisec'])"
   ]
  },
  {
   "cell_type": "code",
   "execution_count": 35,
   "metadata": {},
   "outputs": [
    {
     "data": {
      "text/html": [
       "<div>\n",
       "<style scoped>\n",
       "    .dataframe tbody tr th:only-of-type {\n",
       "        vertical-align: middle;\n",
       "    }\n",
       "\n",
       "    .dataframe tbody tr th {\n",
       "        vertical-align: top;\n",
       "    }\n",
       "\n",
       "    .dataframe thead th {\n",
       "        text-align: right;\n",
       "    }\n",
       "</style>\n",
       "<table border=\"1\" class=\"dataframe\">\n",
       "  <thead>\n",
       "    <tr style=\"text-align: right;\">\n",
       "      <th></th>\n",
       "      <th>btc_timestamp_UTC_millisec</th>\n",
       "      <th>btc_open_price</th>\n",
       "      <th>btc_close_price</th>\n",
       "      <th>btc_highest_price</th>\n",
       "      <th>btc_lowest_price</th>\n",
       "      <th>btc_volume</th>\n",
       "      <th>xrp_timestamp_UTC_millisec</th>\n",
       "      <th>xrp_open_price</th>\n",
       "      <th>xrp_close_price</th>\n",
       "      <th>xrp_highest_price</th>\n",
       "      <th>xrp_lowest_price</th>\n",
       "      <th>xrp_volume</th>\n",
       "      <th>time_stamp_UTC_millisec</th>\n",
       "    </tr>\n",
       "  </thead>\n",
       "  <tbody>\n",
       "    <tr>\n",
       "      <th>435091</th>\n",
       "      <td>NaN</td>\n",
       "      <td>NaN</td>\n",
       "      <td>NaN</td>\n",
       "      <td>NaN</td>\n",
       "      <td>NaN</td>\n",
       "      <td>NaN</td>\n",
       "      <td>1.572598e+12</td>\n",
       "      <td>0.29248</td>\n",
       "      <td>0.29254</td>\n",
       "      <td>0.29254</td>\n",
       "      <td>0.29243</td>\n",
       "      <td>35279.507174</td>\n",
       "      <td>1.572598e+12</td>\n",
       "    </tr>\n",
       "    <tr>\n",
       "      <th>435092</th>\n",
       "      <td>NaN</td>\n",
       "      <td>NaN</td>\n",
       "      <td>NaN</td>\n",
       "      <td>NaN</td>\n",
       "      <td>NaN</td>\n",
       "      <td>NaN</td>\n",
       "      <td>1.572601e+12</td>\n",
       "      <td>0.29166</td>\n",
       "      <td>0.29165</td>\n",
       "      <td>0.29166</td>\n",
       "      <td>0.29165</td>\n",
       "      <td>388.265000</td>\n",
       "      <td>1.572601e+12</td>\n",
       "    </tr>\n",
       "    <tr>\n",
       "      <th>435093</th>\n",
       "      <td>NaN</td>\n",
       "      <td>NaN</td>\n",
       "      <td>NaN</td>\n",
       "      <td>NaN</td>\n",
       "      <td>NaN</td>\n",
       "      <td>NaN</td>\n",
       "      <td>1.572601e+12</td>\n",
       "      <td>0.29189</td>\n",
       "      <td>0.29189</td>\n",
       "      <td>0.29189</td>\n",
       "      <td>0.29183</td>\n",
       "      <td>2000.000000</td>\n",
       "      <td>1.572601e+12</td>\n",
       "    </tr>\n",
       "    <tr>\n",
       "      <th>435094</th>\n",
       "      <td>NaN</td>\n",
       "      <td>NaN</td>\n",
       "      <td>NaN</td>\n",
       "      <td>NaN</td>\n",
       "      <td>NaN</td>\n",
       "      <td>NaN</td>\n",
       "      <td>1.572603e+12</td>\n",
       "      <td>0.29201</td>\n",
       "      <td>0.29201</td>\n",
       "      <td>0.29201</td>\n",
       "      <td>0.29201</td>\n",
       "      <td>100.000000</td>\n",
       "      <td>1.572603e+12</td>\n",
       "    </tr>\n",
       "    <tr>\n",
       "      <th>435095</th>\n",
       "      <td>NaN</td>\n",
       "      <td>NaN</td>\n",
       "      <td>NaN</td>\n",
       "      <td>NaN</td>\n",
       "      <td>NaN</td>\n",
       "      <td>NaN</td>\n",
       "      <td>1.572605e+12</td>\n",
       "      <td>0.29211</td>\n",
       "      <td>0.29211</td>\n",
       "      <td>0.29211</td>\n",
       "      <td>0.29211</td>\n",
       "      <td>834.642329</td>\n",
       "      <td>1.572605e+12</td>\n",
       "    </tr>\n",
       "  </tbody>\n",
       "</table>\n",
       "</div>"
      ],
      "text/plain": [
       "        btc_timestamp_UTC_millisec  btc_open_price  btc_close_price  \\\n",
       "435091                         NaN             NaN              NaN   \n",
       "435092                         NaN             NaN              NaN   \n",
       "435093                         NaN             NaN              NaN   \n",
       "435094                         NaN             NaN              NaN   \n",
       "435095                         NaN             NaN              NaN   \n",
       "\n",
       "        btc_highest_price  btc_lowest_price  btc_volume  \\\n",
       "435091                NaN               NaN         NaN   \n",
       "435092                NaN               NaN         NaN   \n",
       "435093                NaN               NaN         NaN   \n",
       "435094                NaN               NaN         NaN   \n",
       "435095                NaN               NaN         NaN   \n",
       "\n",
       "        xrp_timestamp_UTC_millisec  xrp_open_price  xrp_close_price  \\\n",
       "435091                1.572598e+12         0.29248          0.29254   \n",
       "435092                1.572601e+12         0.29166          0.29165   \n",
       "435093                1.572601e+12         0.29189          0.29189   \n",
       "435094                1.572603e+12         0.29201          0.29201   \n",
       "435095                1.572605e+12         0.29211          0.29211   \n",
       "\n",
       "        xrp_highest_price  xrp_lowest_price    xrp_volume  \\\n",
       "435091            0.29254           0.29243  35279.507174   \n",
       "435092            0.29166           0.29165    388.265000   \n",
       "435093            0.29189           0.29183   2000.000000   \n",
       "435094            0.29201           0.29201    100.000000   \n",
       "435095            0.29211           0.29211    834.642329   \n",
       "\n",
       "        time_stamp_UTC_millisec  \n",
       "435091             1.572598e+12  \n",
       "435092             1.572601e+12  \n",
       "435093             1.572601e+12  \n",
       "435094             1.572603e+12  \n",
       "435095             1.572605e+12  "
      ]
     },
     "execution_count": 35,
     "metadata": {},
     "output_type": "execute_result"
    }
   ],
   "source": [
    "btc_xrp_merged_2019.tail()"
   ]
  },
  {
   "cell_type": "code",
   "execution_count": null,
   "metadata": {},
   "outputs": [],
   "source": []
  },
  {
   "cell_type": "code",
   "execution_count": null,
   "metadata": {},
   "outputs": [],
   "source": []
  },
  {
   "cell_type": "markdown",
   "metadata": {},
   "source": [
    "# Starting of analysis"
   ]
  },
  {
   "cell_type": "markdown",
   "metadata": {},
   "source": [
    "### Get 1min XRP data"
   ]
  },
  {
   "cell_type": "code",
   "execution_count": 36,
   "metadata": {},
   "outputs": [],
   "source": [
    "XRP_USD_1min_path = 'D:\\Database\\Bitfinex-historical-data-master_backup\\Bitfinex-historical-data-master\\XRPUSD\\Candles_1m'"
   ]
  },
  {
   "cell_type": "code",
   "execution_count": 37,
   "metadata": {},
   "outputs": [],
   "source": [
    "header_format = ['timestamp_UTC_millisec',\n",
    "'open_price',\n",
    "'close_price',\n",
    "'highest_price',\n",
    "'lowest_price',\n",
    "'volume']"
   ]
  },
  {
   "cell_type": "code",
   "execution_count": 38,
   "metadata": {},
   "outputs": [],
   "source": [
    "xrp_2018_full = pd.read_csv(XRP_USD_1min_path + '/2018/merged.csv', header=None)"
   ]
  },
  {
   "cell_type": "code",
   "execution_count": 39,
   "metadata": {},
   "outputs": [],
   "source": [
    "xrp_2019_until_Oct = pd.read_csv(XRP_USD_1min_path + '/2019/merged.csv', header=None)"
   ]
  },
  {
   "cell_type": "code",
   "execution_count": 40,
   "metadata": {},
   "outputs": [],
   "source": [
    "xrp_2018_full.columns = header_format"
   ]
  },
  {
   "cell_type": "code",
   "execution_count": 41,
   "metadata": {},
   "outputs": [],
   "source": [
    "xrp_2019_until_Oct.columns = header_format"
   ]
  },
  {
   "cell_type": "code",
   "execution_count": null,
   "metadata": {},
   "outputs": [],
   "source": []
  },
  {
   "cell_type": "code",
   "execution_count": 42,
   "metadata": {},
   "outputs": [],
   "source": [
    "xrp_2018_onwards = pd.concat([xrp_2018_full, xrp_2019_until_Oct])"
   ]
  },
  {
   "cell_type": "code",
   "execution_count": 43,
   "metadata": {},
   "outputs": [],
   "source": [
    "XRP_Data = xrp_2018_onwards[xrp_2018_onwards['timestamp_UTC_millisec'] >= 1534287600000]"
   ]
  },
  {
   "cell_type": "code",
   "execution_count": 44,
   "metadata": {},
   "outputs": [],
   "source": [
    "XRP_Data['datetime_real'] = XRP_Data['timestamp_UTC_millisec'].apply(lambda x: datetime.utcfromtimestamp(x/1000))"
   ]
  },
  {
   "cell_type": "code",
   "execution_count": 45,
   "metadata": {},
   "outputs": [
    {
     "data": {
      "text/plain": [
       "564561"
      ]
     },
     "execution_count": 45,
     "metadata": {},
     "output_type": "execute_result"
    }
   ],
   "source": [
    "len(XRP_Data)"
   ]
  },
  {
   "cell_type": "code",
   "execution_count": 46,
   "metadata": {},
   "outputs": [
    {
     "data": {
      "text/plain": [
       "Timestamp('2018-08-14 23:00:00')"
      ]
     },
     "execution_count": 46,
     "metadata": {},
     "output_type": "execute_result"
    }
   ],
   "source": [
    "XRP_Data['datetime_real'].min()"
   ]
  },
  {
   "cell_type": "code",
   "execution_count": 47,
   "metadata": {},
   "outputs": [
    {
     "data": {
      "text/plain": [
       "Timestamp('2019-11-01 15:59:00')"
      ]
     },
     "execution_count": 47,
     "metadata": {},
     "output_type": "execute_result"
    }
   ],
   "source": [
    "XRP_Data['datetime_real'].max()"
   ]
  },
  {
   "cell_type": "code",
   "execution_count": 48,
   "metadata": {},
   "outputs": [
    {
     "data": {
      "text/plain": [
       "Timedelta('443 days 16:59:00')"
      ]
     },
     "execution_count": 48,
     "metadata": {},
     "output_type": "execute_result"
    }
   ],
   "source": [
    "(XRP_Data['datetime_real'].max() - XRP_Data['datetime_real'].min())"
   ]
  },
  {
   "cell_type": "code",
   "execution_count": null,
   "metadata": {},
   "outputs": [],
   "source": []
  },
  {
   "cell_type": "code",
   "execution_count": 49,
   "metadata": {},
   "outputs": [],
   "source": [
    "XRP_Data['checking_timestamp_UTC_millisec'] = XRP_Data['timestamp_UTC_millisec'].shift(-1)"
   ]
  },
  {
   "cell_type": "code",
   "execution_count": 50,
   "metadata": {},
   "outputs": [],
   "source": [
    "XRP_Data['dif'] = XRP_Data['checking_timestamp_UTC_millisec'] - XRP_Data['timestamp_UTC_millisec']"
   ]
  },
  {
   "cell_type": "code",
   "execution_count": 51,
   "metadata": {},
   "outputs": [],
   "source": [
    "XRP_Data_resample_1min_ffill = XRP_Data.set_index('datetime_real').resample('1T').ffill()"
   ]
  },
  {
   "cell_type": "code",
   "execution_count": 52,
   "metadata": {},
   "outputs": [],
   "source": [
    "XRP_Data_resample_1min_ffill['checking_timestamp_UTC_millisec'] = XRP_Data_resample_1min_ffill['timestamp_UTC_millisec'].shift(-1)"
   ]
  },
  {
   "cell_type": "code",
   "execution_count": 53,
   "metadata": {},
   "outputs": [],
   "source": [
    "XRP_Data_resample_1min_ffill['dif'] = XRP_Data_resample_1min_ffill['checking_timestamp_UTC_millisec'] - XRP_Data_resample_1min_ffill['timestamp_UTC_millisec']"
   ]
  },
  {
   "cell_type": "code",
   "execution_count": 54,
   "metadata": {},
   "outputs": [],
   "source": [
    "XRP_Data_resample_1min_ffill['timestamp_UTC'] = XRP_Data_resample_1min_ffill['timestamp_UTC_millisec']/1000"
   ]
  },
  {
   "cell_type": "code",
   "execution_count": null,
   "metadata": {},
   "outputs": [],
   "source": []
  },
  {
   "cell_type": "code",
   "execution_count": null,
   "metadata": {},
   "outputs": [],
   "source": []
  },
  {
   "cell_type": "code",
   "execution_count": 55,
   "metadata": {},
   "outputs": [
    {
     "data": {
      "text/html": [
       "<div>\n",
       "<style scoped>\n",
       "    .dataframe tbody tr th:only-of-type {\n",
       "        vertical-align: middle;\n",
       "    }\n",
       "\n",
       "    .dataframe tbody tr th {\n",
       "        vertical-align: top;\n",
       "    }\n",
       "\n",
       "    .dataframe thead th {\n",
       "        text-align: right;\n",
       "    }\n",
       "</style>\n",
       "<table border=\"1\" class=\"dataframe\">\n",
       "  <thead>\n",
       "    <tr style=\"text-align: right;\">\n",
       "      <th></th>\n",
       "      <th>timestamp_UTC_millisec</th>\n",
       "      <th>open_price</th>\n",
       "      <th>close_price</th>\n",
       "      <th>highest_price</th>\n",
       "      <th>lowest_price</th>\n",
       "      <th>volume</th>\n",
       "      <th>checking_timestamp_UTC_millisec</th>\n",
       "      <th>dif</th>\n",
       "      <th>timestamp_UTC</th>\n",
       "    </tr>\n",
       "    <tr>\n",
       "      <th>datetime_real</th>\n",
       "      <th></th>\n",
       "      <th></th>\n",
       "      <th></th>\n",
       "      <th></th>\n",
       "      <th></th>\n",
       "      <th></th>\n",
       "      <th></th>\n",
       "      <th></th>\n",
       "      <th></th>\n",
       "    </tr>\n",
       "  </thead>\n",
       "  <tbody>\n",
       "    <tr>\n",
       "      <th>2018-08-14 23:00:00</th>\n",
       "      <td>1534287600000</td>\n",
       "      <td>0.26444</td>\n",
       "      <td>0.26427</td>\n",
       "      <td>0.26448</td>\n",
       "      <td>0.26427</td>\n",
       "      <td>21493.134691</td>\n",
       "      <td>1.534288e+12</td>\n",
       "      <td>60000.0</td>\n",
       "      <td>1.534288e+09</td>\n",
       "    </tr>\n",
       "    <tr>\n",
       "      <th>2018-08-14 23:01:00</th>\n",
       "      <td>1534287660000</td>\n",
       "      <td>0.26410</td>\n",
       "      <td>0.26408</td>\n",
       "      <td>0.26418</td>\n",
       "      <td>0.26408</td>\n",
       "      <td>6316.950507</td>\n",
       "      <td>1.534288e+12</td>\n",
       "      <td>60000.0</td>\n",
       "      <td>1.534288e+09</td>\n",
       "    </tr>\n",
       "    <tr>\n",
       "      <th>2018-08-14 23:02:00</th>\n",
       "      <td>1534287720000</td>\n",
       "      <td>0.26419</td>\n",
       "      <td>0.26429</td>\n",
       "      <td>0.26429</td>\n",
       "      <td>0.26390</td>\n",
       "      <td>15876.859198</td>\n",
       "      <td>1.534288e+12</td>\n",
       "      <td>60000.0</td>\n",
       "      <td>1.534288e+09</td>\n",
       "    </tr>\n",
       "    <tr>\n",
       "      <th>2018-08-14 23:03:00</th>\n",
       "      <td>1534287780000</td>\n",
       "      <td>0.26389</td>\n",
       "      <td>0.26359</td>\n",
       "      <td>0.26389</td>\n",
       "      <td>0.26359</td>\n",
       "      <td>15102.000000</td>\n",
       "      <td>1.534288e+12</td>\n",
       "      <td>60000.0</td>\n",
       "      <td>1.534288e+09</td>\n",
       "    </tr>\n",
       "    <tr>\n",
       "      <th>2018-08-14 23:04:00</th>\n",
       "      <td>1534287840000</td>\n",
       "      <td>0.26368</td>\n",
       "      <td>0.26359</td>\n",
       "      <td>0.26379</td>\n",
       "      <td>0.26359</td>\n",
       "      <td>6305.473357</td>\n",
       "      <td>1.534288e+12</td>\n",
       "      <td>60000.0</td>\n",
       "      <td>1.534288e+09</td>\n",
       "    </tr>\n",
       "  </tbody>\n",
       "</table>\n",
       "</div>"
      ],
      "text/plain": [
       "                     timestamp_UTC_millisec  open_price  close_price  \\\n",
       "datetime_real                                                          \n",
       "2018-08-14 23:00:00           1534287600000     0.26444      0.26427   \n",
       "2018-08-14 23:01:00           1534287660000     0.26410      0.26408   \n",
       "2018-08-14 23:02:00           1534287720000     0.26419      0.26429   \n",
       "2018-08-14 23:03:00           1534287780000     0.26389      0.26359   \n",
       "2018-08-14 23:04:00           1534287840000     0.26368      0.26359   \n",
       "\n",
       "                     highest_price  lowest_price        volume  \\\n",
       "datetime_real                                                    \n",
       "2018-08-14 23:00:00        0.26448       0.26427  21493.134691   \n",
       "2018-08-14 23:01:00        0.26418       0.26408   6316.950507   \n",
       "2018-08-14 23:02:00        0.26429       0.26390  15876.859198   \n",
       "2018-08-14 23:03:00        0.26389       0.26359  15102.000000   \n",
       "2018-08-14 23:04:00        0.26379       0.26359   6305.473357   \n",
       "\n",
       "                     checking_timestamp_UTC_millisec      dif  timestamp_UTC  \n",
       "datetime_real                                                                 \n",
       "2018-08-14 23:00:00                     1.534288e+12  60000.0   1.534288e+09  \n",
       "2018-08-14 23:01:00                     1.534288e+12  60000.0   1.534288e+09  \n",
       "2018-08-14 23:02:00                     1.534288e+12  60000.0   1.534288e+09  \n",
       "2018-08-14 23:03:00                     1.534288e+12  60000.0   1.534288e+09  \n",
       "2018-08-14 23:04:00                     1.534288e+12  60000.0   1.534288e+09  "
      ]
     },
     "execution_count": 55,
     "metadata": {},
     "output_type": "execute_result"
    }
   ],
   "source": [
    "XRP_Data_resample_1min_ffill.head()"
   ]
  },
  {
   "cell_type": "markdown",
   "metadata": {},
   "source": [
    "#### rough check on data"
   ]
  },
  {
   "cell_type": "code",
   "execution_count": 56,
   "metadata": {},
   "outputs": [
    {
     "data": {
      "text/plain": [
       "<matplotlib.axes._subplots.AxesSubplot at 0x1f4dcf60198>"
      ]
     },
     "execution_count": 56,
     "metadata": {},
     "output_type": "execute_result"
    },
    {
     "data": {
      "image/png": "[encoded data removed]",
      "text/plain": [
       "<Figure size 720x360 with 1 Axes>"
      ]
     },
     "metadata": {
      "needs_background": "light"
     },
     "output_type": "display_data"
    }
   ],
   "source": [
    "XRP_Data_resample_1min_ffill[['close_price']].plot(figsize = (10,5))"
   ]
  },
  {
   "cell_type": "code",
   "execution_count": 57,
   "metadata": {},
   "outputs": [
    {
     "data": {
      "text/html": [
       "<div>\n",
       "<style scoped>\n",
       "    .dataframe tbody tr th:only-of-type {\n",
       "        vertical-align: middle;\n",
       "    }\n",
       "\n",
       "    .dataframe tbody tr th {\n",
       "        vertical-align: top;\n",
       "    }\n",
       "\n",
       "    .dataframe thead th {\n",
       "        text-align: right;\n",
       "    }\n",
       "</style>\n",
       "<table border=\"1\" class=\"dataframe\">\n",
       "  <thead>\n",
       "    <tr style=\"text-align: right;\">\n",
       "      <th></th>\n",
       "      <th>timestamp_UTC_millisec</th>\n",
       "      <th>open_price</th>\n",
       "      <th>close_price</th>\n",
       "      <th>highest_price</th>\n",
       "      <th>lowest_price</th>\n",
       "      <th>volume</th>\n",
       "      <th>checking_timestamp_UTC_millisec</th>\n",
       "      <th>dif</th>\n",
       "      <th>timestamp_UTC</th>\n",
       "    </tr>\n",
       "    <tr>\n",
       "      <th>datetime_real</th>\n",
       "      <th></th>\n",
       "      <th></th>\n",
       "      <th></th>\n",
       "      <th></th>\n",
       "      <th></th>\n",
       "      <th></th>\n",
       "      <th></th>\n",
       "      <th></th>\n",
       "      <th></th>\n",
       "    </tr>\n",
       "  </thead>\n",
       "  <tbody>\n",
       "    <tr>\n",
       "      <th>2019-11-01 15:50:00</th>\n",
       "      <td>1572623400000</td>\n",
       "      <td>0.29032</td>\n",
       "      <td>0.29029</td>\n",
       "      <td>0.29032</td>\n",
       "      <td>0.29029</td>\n",
       "      <td>18977.229740</td>\n",
       "      <td>1.572623e+12</td>\n",
       "      <td>60000.0</td>\n",
       "      <td>1.572623e+09</td>\n",
       "    </tr>\n",
       "    <tr>\n",
       "      <th>2019-11-01 15:51:00</th>\n",
       "      <td>1572623460000</td>\n",
       "      <td>0.29034</td>\n",
       "      <td>0.29030</td>\n",
       "      <td>0.29035</td>\n",
       "      <td>0.29030</td>\n",
       "      <td>11583.433064</td>\n",
       "      <td>1.572624e+12</td>\n",
       "      <td>60000.0</td>\n",
       "      <td>1.572623e+09</td>\n",
       "    </tr>\n",
       "    <tr>\n",
       "      <th>2019-11-01 15:52:00</th>\n",
       "      <td>1572623520000</td>\n",
       "      <td>0.29070</td>\n",
       "      <td>0.29046</td>\n",
       "      <td>0.29071</td>\n",
       "      <td>0.29046</td>\n",
       "      <td>205.000000</td>\n",
       "      <td>1.572624e+12</td>\n",
       "      <td>60000.0</td>\n",
       "      <td>1.572624e+09</td>\n",
       "    </tr>\n",
       "    <tr>\n",
       "      <th>2019-11-01 15:53:00</th>\n",
       "      <td>1572623580000</td>\n",
       "      <td>0.29058</td>\n",
       "      <td>0.29077</td>\n",
       "      <td>0.29077</td>\n",
       "      <td>0.29046</td>\n",
       "      <td>20164.038042</td>\n",
       "      <td>1.572624e+12</td>\n",
       "      <td>0.0</td>\n",
       "      <td>1.572624e+09</td>\n",
       "    </tr>\n",
       "    <tr>\n",
       "      <th>2019-11-01 15:54:00</th>\n",
       "      <td>1572623580000</td>\n",
       "      <td>0.29058</td>\n",
       "      <td>0.29077</td>\n",
       "      <td>0.29077</td>\n",
       "      <td>0.29046</td>\n",
       "      <td>20164.038042</td>\n",
       "      <td>1.572624e+12</td>\n",
       "      <td>120000.0</td>\n",
       "      <td>1.572624e+09</td>\n",
       "    </tr>\n",
       "    <tr>\n",
       "      <th>2019-11-01 15:55:00</th>\n",
       "      <td>1572623700000</td>\n",
       "      <td>0.29083</td>\n",
       "      <td>0.29173</td>\n",
       "      <td>0.29173</td>\n",
       "      <td>0.29083</td>\n",
       "      <td>1570.393827</td>\n",
       "      <td>1.572624e+12</td>\n",
       "      <td>60000.0</td>\n",
       "      <td>1.572624e+09</td>\n",
       "    </tr>\n",
       "    <tr>\n",
       "      <th>2019-11-01 15:56:00</th>\n",
       "      <td>1572623760000</td>\n",
       "      <td>0.29161</td>\n",
       "      <td>0.29150</td>\n",
       "      <td>0.29161</td>\n",
       "      <td>0.29120</td>\n",
       "      <td>4022.034331</td>\n",
       "      <td>1.572624e+12</td>\n",
       "      <td>60000.0</td>\n",
       "      <td>1.572624e+09</td>\n",
       "    </tr>\n",
       "    <tr>\n",
       "      <th>2019-11-01 15:57:00</th>\n",
       "      <td>1572623820000</td>\n",
       "      <td>0.29180</td>\n",
       "      <td>0.29154</td>\n",
       "      <td>0.29207</td>\n",
       "      <td>0.29154</td>\n",
       "      <td>6854.915950</td>\n",
       "      <td>1.572624e+12</td>\n",
       "      <td>60000.0</td>\n",
       "      <td>1.572624e+09</td>\n",
       "    </tr>\n",
       "    <tr>\n",
       "      <th>2019-11-01 15:58:00</th>\n",
       "      <td>1572623880000</td>\n",
       "      <td>0.29139</td>\n",
       "      <td>0.29030</td>\n",
       "      <td>0.29151</td>\n",
       "      <td>0.29030</td>\n",
       "      <td>8296.541362</td>\n",
       "      <td>1.572624e+12</td>\n",
       "      <td>60000.0</td>\n",
       "      <td>1.572624e+09</td>\n",
       "    </tr>\n",
       "    <tr>\n",
       "      <th>2019-11-01 15:59:00</th>\n",
       "      <td>1572623940000</td>\n",
       "      <td>0.29042</td>\n",
       "      <td>0.28860</td>\n",
       "      <td>0.29053</td>\n",
       "      <td>0.28855</td>\n",
       "      <td>210112.952304</td>\n",
       "      <td>NaN</td>\n",
       "      <td>NaN</td>\n",
       "      <td>1.572624e+09</td>\n",
       "    </tr>\n",
       "  </tbody>\n",
       "</table>\n",
       "</div>"
      ],
      "text/plain": [
       "                     timestamp_UTC_millisec  open_price  close_price  \\\n",
       "datetime_real                                                          \n",
       "2019-11-01 15:50:00           1572623400000     0.29032      0.29029   \n",
       "2019-11-01 15:51:00           1572623460000     0.29034      0.29030   \n",
       "2019-11-01 15:52:00           1572623520000     0.29070      0.29046   \n",
       "2019-11-01 15:53:00           1572623580000     0.29058      0.29077   \n",
       "2019-11-01 15:54:00           1572623580000     0.29058      0.29077   \n",
       "2019-11-01 15:55:00           1572623700000     0.29083      0.29173   \n",
       "2019-11-01 15:56:00           1572623760000     0.29161      0.29150   \n",
       "2019-11-01 15:57:00           1572623820000     0.29180      0.29154   \n",
       "2019-11-01 15:58:00           1572623880000     0.29139      0.29030   \n",
       "2019-11-01 15:59:00           1572623940000     0.29042      0.28860   \n",
       "\n",
       "                     highest_price  lowest_price         volume  \\\n",
       "datetime_real                                                     \n",
       "2019-11-01 15:50:00        0.29032       0.29029   18977.229740   \n",
       "2019-11-01 15:51:00        0.29035       0.29030   11583.433064   \n",
       "2019-11-01 15:52:00        0.29071       0.29046     205.000000   \n",
       "2019-11-01 15:53:00        0.29077       0.29046   20164.038042   \n",
       "2019-11-01 15:54:00        0.29077       0.29046   20164.038042   \n",
       "2019-11-01 15:55:00        0.29173       0.29083    1570.393827   \n",
       "2019-11-01 15:56:00        0.29161       0.29120    4022.034331   \n",
       "2019-11-01 15:57:00        0.29207       0.29154    6854.915950   \n",
       "2019-11-01 15:58:00        0.29151       0.29030    8296.541362   \n",
       "2019-11-01 15:59:00        0.29053       0.28855  210112.952304   \n",
       "\n",
       "                     checking_timestamp_UTC_millisec       dif  timestamp_UTC  \n",
       "datetime_real                                                                  \n",
       "2019-11-01 15:50:00                     1.572623e+12   60000.0   1.572623e+09  \n",
       "2019-11-01 15:51:00                     1.572624e+12   60000.0   1.572623e+09  \n",
       "2019-11-01 15:52:00                     1.572624e+12   60000.0   1.572624e+09  \n",
       "2019-11-01 15:53:00                     1.572624e+12       0.0   1.572624e+09  \n",
       "2019-11-01 15:54:00                     1.572624e+12  120000.0   1.572624e+09  \n",
       "2019-11-01 15:55:00                     1.572624e+12   60000.0   1.572624e+09  \n",
       "2019-11-01 15:56:00                     1.572624e+12   60000.0   1.572624e+09  \n",
       "2019-11-01 15:57:00                     1.572624e+12   60000.0   1.572624e+09  \n",
       "2019-11-01 15:58:00                     1.572624e+12   60000.0   1.572624e+09  \n",
       "2019-11-01 15:59:00                              NaN       NaN   1.572624e+09  "
      ]
     },
     "execution_count": 57,
     "metadata": {},
     "output_type": "execute_result"
    }
   ],
   "source": [
    "XRP_Data_resample_1min_ffill.tail(10)"
   ]
  },
  {
   "cell_type": "code",
   "execution_count": 58,
   "metadata": {},
   "outputs": [
    {
     "name": "stdout",
     "output_type": "stream",
     "text": [
      "\n",
      " selecting '2018-08-15 00:00:00' as the starting time as it bypasses the past crypto rush\n"
     ]
    },
    {
     "data": {
      "image/png": "[encoded data removed]",
      "text/plain": [
       "<Figure size 1512x504 with 1 Axes>"
      ]
     },
     "metadata": {
      "needs_background": "light"
     },
     "output_type": "display_data"
    }
   ],
   "source": [
    "ploting_breakdown = XRP_Data_resample_1min_ffill.reset_index()\n",
    "\n",
    "plt.figure(figsize= (21,7))\n",
    "\n",
    "\n",
    "# tran_y_low = ploting_breakdown['low']\n",
    "# tran_y_high = ploting_breakdown['high']\n",
    "tran_y_close = ploting_breakdown['close_price']\n",
    "\n",
    "tran_x = ploting_breakdown['timestamp_UTC_millisec']\n",
    "\n",
    "\n",
    "# plt.plot(tran_x, tran_y_low, alpha = 0.1)\n",
    "# plt.plot(tran_x, tran_y_high , alpha  = 0.1)\n",
    "\n",
    "plt.plot(tran_x, tran_y_close, alpha  = 1)\n",
    "\n",
    "\n",
    "# start = 45000\n",
    "# dealta_t = 10000\n",
    "time_section = {45000 : 13000,\n",
    "                63000 : 8000 ,\n",
    "                71000 : 10000,\n",
    "                180000: 10000}  # start // delta_t\n",
    "\n",
    "\n",
    "\n",
    "# plt.vlines(1534287600000, 0, 1, alpha = 1, color = 'g',linestyle = 'dashed')\n",
    "    \n",
    "plt.legend()\n",
    "plt.grid()\n",
    "print(\"\\n selecting '2018-08-15 00:00:00' as the starting time as it bypasses the past crypto rush\")"
   ]
  },
  {
   "cell_type": "code",
   "execution_count": null,
   "metadata": {},
   "outputs": [],
   "source": []
  },
  {
   "cell_type": "code",
   "execution_count": null,
   "metadata": {},
   "outputs": [],
   "source": []
  },
  {
   "cell_type": "code",
   "execution_count": 59,
   "metadata": {},
   "outputs": [
    {
     "data": {
      "text/html": [
       "<div>\n",
       "<style scoped>\n",
       "    .dataframe tbody tr th:only-of-type {\n",
       "        vertical-align: middle;\n",
       "    }\n",
       "\n",
       "    .dataframe tbody tr th {\n",
       "        vertical-align: top;\n",
       "    }\n",
       "\n",
       "    .dataframe thead th {\n",
       "        text-align: right;\n",
       "    }\n",
       "</style>\n",
       "<table border=\"1\" class=\"dataframe\">\n",
       "  <thead>\n",
       "    <tr style=\"text-align: right;\">\n",
       "      <th></th>\n",
       "      <th>datetime_real</th>\n",
       "      <th>timestamp_UTC_millisec</th>\n",
       "      <th>open_price</th>\n",
       "      <th>close_price</th>\n",
       "      <th>highest_price</th>\n",
       "      <th>lowest_price</th>\n",
       "      <th>volume</th>\n",
       "      <th>checking_timestamp_UTC_millisec</th>\n",
       "      <th>dif</th>\n",
       "      <th>timestamp_UTC</th>\n",
       "    </tr>\n",
       "  </thead>\n",
       "  <tbody>\n",
       "    <tr>\n",
       "      <th>60</th>\n",
       "      <td>2018-08-15</td>\n",
       "      <td>1534291200000</td>\n",
       "      <td>0.27279</td>\n",
       "      <td>0.2734</td>\n",
       "      <td>0.27349</td>\n",
       "      <td>0.27279</td>\n",
       "      <td>17252.63782</td>\n",
       "      <td>1.534291e+12</td>\n",
       "      <td>60000.0</td>\n",
       "      <td>1.534291e+09</td>\n",
       "    </tr>\n",
       "  </tbody>\n",
       "</table>\n",
       "</div>"
      ],
      "text/plain": [
       "   datetime_real  timestamp_UTC_millisec  open_price  close_price  \\\n",
       "60    2018-08-15           1534291200000     0.27279       0.2734   \n",
       "\n",
       "    highest_price  lowest_price       volume  checking_timestamp_UTC_millisec  \\\n",
       "60        0.27349       0.27279  17252.63782                     1.534291e+12   \n",
       "\n",
       "        dif  timestamp_UTC  \n",
       "60  60000.0   1.534291e+09  "
      ]
     },
     "execution_count": 59,
     "metadata": {},
     "output_type": "execute_result"
    }
   ],
   "source": [
    "ploting_breakdown[ploting_breakdown['datetime_real'] == '2018-08-15 00:00:00']"
   ]
  },
  {
   "cell_type": "code",
   "execution_count": 60,
   "metadata": {},
   "outputs": [
    {
     "data": {
      "text/html": [
       "<div>\n",
       "<style scoped>\n",
       "    .dataframe tbody tr th:only-of-type {\n",
       "        vertical-align: middle;\n",
       "    }\n",
       "\n",
       "    .dataframe tbody tr th {\n",
       "        vertical-align: top;\n",
       "    }\n",
       "\n",
       "    .dataframe thead th {\n",
       "        text-align: right;\n",
       "    }\n",
       "</style>\n",
       "<table border=\"1\" class=\"dataframe\">\n",
       "  <thead>\n",
       "    <tr style=\"text-align: right;\">\n",
       "      <th></th>\n",
       "      <th>datetime_real</th>\n",
       "      <th>timestamp_UTC_millisec</th>\n",
       "      <th>open_price</th>\n",
       "      <th>close_price</th>\n",
       "      <th>highest_price</th>\n",
       "      <th>lowest_price</th>\n",
       "      <th>volume</th>\n",
       "      <th>checking_timestamp_UTC_millisec</th>\n",
       "      <th>dif</th>\n",
       "      <th>timestamp_UTC</th>\n",
       "    </tr>\n",
       "  </thead>\n",
       "  <tbody>\n",
       "    <tr>\n",
       "      <th>525660</th>\n",
       "      <td>2019-08-15</td>\n",
       "      <td>1565827200000</td>\n",
       "      <td>0.26373</td>\n",
       "      <td>0.26559</td>\n",
       "      <td>0.26559</td>\n",
       "      <td>0.26363</td>\n",
       "      <td>166192.961293</td>\n",
       "      <td>1.565827e+12</td>\n",
       "      <td>60000.0</td>\n",
       "      <td>1.565827e+09</td>\n",
       "    </tr>\n",
       "  </tbody>\n",
       "</table>\n",
       "</div>"
      ],
      "text/plain": [
       "       datetime_real  timestamp_UTC_millisec  open_price  close_price  \\\n",
       "525660    2019-08-15           1565827200000     0.26373      0.26559   \n",
       "\n",
       "        highest_price  lowest_price         volume  \\\n",
       "525660        0.26559       0.26363  166192.961293   \n",
       "\n",
       "        checking_timestamp_UTC_millisec      dif  timestamp_UTC  \n",
       "525660                     1.565827e+12  60000.0   1.565827e+09  "
      ]
     },
     "execution_count": 60,
     "metadata": {},
     "output_type": "execute_result"
    }
   ],
   "source": [
    "ploting_breakdown[ploting_breakdown['datetime_real'] == '2019-08-15 00:00:00']"
   ]
  },
  {
   "cell_type": "code",
   "execution_count": null,
   "metadata": {},
   "outputs": [],
   "source": []
  },
  {
   "cell_type": "code",
   "execution_count": null,
   "metadata": {},
   "outputs": [],
   "source": []
  },
  {
   "cell_type": "markdown",
   "metadata": {},
   "source": [
    "## Saving Data "
   ]
  },
  {
   "cell_type": "code",
   "execution_count": 63,
   "metadata": {},
   "outputs": [],
   "source": [
    "# XRP_Data_backUp = XRP_Data_resample_1min_ffill.copy()"
   ]
  },
  {
   "cell_type": "markdown",
   "metadata": {},
   "source": [
    "## Copy for testing"
   ]
  },
  {
   "cell_type": "raw",
   "metadata": {},
   "source": [
    "here we have a double test, where:\n",
    "    - XRP_for_training : is used as a main source of data for training as well as testing\n",
    "    - XRP_for_testing  : is used as a form of real time blind test"
   ]
  },
  {
   "cell_type": "code",
   "execution_count": 64,
   "metadata": {},
   "outputs": [],
   "source": [
    "XRP_for_training =XRP_Data_resample_1min_ffill[(XRP_Data_resample_1min_ffill['timestamp_UTC'] >= 1534287600) &\n",
    "                           (XRP_Data_resample_1min_ffill['timestamp_UTC'] <1565823600)].reset_index().copy()"
   ]
  },
  {
   "cell_type": "code",
   "execution_count": 65,
   "metadata": {},
   "outputs": [],
   "source": [
    "XRP_for_testing =XRP_Data_resample_1min_ffill[(XRP_Data_resample_1min_ffill['timestamp_UTC'] >= 1565823600)].reset_index().copy()"
   ]
  },
  {
   "cell_type": "code",
   "execution_count": 66,
   "metadata": {},
   "outputs": [
    {
     "data": {
      "text/html": [
       "<div>\n",
       "<style scoped>\n",
       "    .dataframe tbody tr th:only-of-type {\n",
       "        vertical-align: middle;\n",
       "    }\n",
       "\n",
       "    .dataframe tbody tr th {\n",
       "        vertical-align: top;\n",
       "    }\n",
       "\n",
       "    .dataframe thead th {\n",
       "        text-align: right;\n",
       "    }\n",
       "</style>\n",
       "<table border=\"1\" class=\"dataframe\">\n",
       "  <thead>\n",
       "    <tr style=\"text-align: right;\">\n",
       "      <th></th>\n",
       "      <th>datetime_real</th>\n",
       "      <th>timestamp_UTC_millisec</th>\n",
       "      <th>open_price</th>\n",
       "      <th>close_price</th>\n",
       "      <th>highest_price</th>\n",
       "      <th>lowest_price</th>\n",
       "      <th>volume</th>\n",
       "      <th>checking_timestamp_UTC_millisec</th>\n",
       "      <th>dif</th>\n",
       "      <th>timestamp_UTC</th>\n",
       "    </tr>\n",
       "  </thead>\n",
       "  <tbody>\n",
       "    <tr>\n",
       "      <th>0</th>\n",
       "      <td>2019-08-14 23:00:00</td>\n",
       "      <td>1565823600000</td>\n",
       "      <td>0.27050</td>\n",
       "      <td>0.27034</td>\n",
       "      <td>0.27050</td>\n",
       "      <td>0.27032</td>\n",
       "      <td>200.000000</td>\n",
       "      <td>1.565824e+12</td>\n",
       "      <td>60000.0</td>\n",
       "      <td>1.565824e+09</td>\n",
       "    </tr>\n",
       "    <tr>\n",
       "      <th>1</th>\n",
       "      <td>2019-08-14 23:01:00</td>\n",
       "      <td>1565823660000</td>\n",
       "      <td>0.27034</td>\n",
       "      <td>0.27014</td>\n",
       "      <td>0.27034</td>\n",
       "      <td>0.27011</td>\n",
       "      <td>6970.610576</td>\n",
       "      <td>1.565824e+12</td>\n",
       "      <td>60000.0</td>\n",
       "      <td>1.565824e+09</td>\n",
       "    </tr>\n",
       "    <tr>\n",
       "      <th>2</th>\n",
       "      <td>2019-08-14 23:02:00</td>\n",
       "      <td>1565823720000</td>\n",
       "      <td>0.27015</td>\n",
       "      <td>0.27031</td>\n",
       "      <td>0.27044</td>\n",
       "      <td>0.27015</td>\n",
       "      <td>9002.533511</td>\n",
       "      <td>1.565824e+12</td>\n",
       "      <td>60000.0</td>\n",
       "      <td>1.565824e+09</td>\n",
       "    </tr>\n",
       "    <tr>\n",
       "      <th>3</th>\n",
       "      <td>2019-08-14 23:03:00</td>\n",
       "      <td>1565823780000</td>\n",
       "      <td>0.27028</td>\n",
       "      <td>0.27028</td>\n",
       "      <td>0.27034</td>\n",
       "      <td>0.27027</td>\n",
       "      <td>22726.951973</td>\n",
       "      <td>1.565824e+12</td>\n",
       "      <td>60000.0</td>\n",
       "      <td>1.565824e+09</td>\n",
       "    </tr>\n",
       "    <tr>\n",
       "      <th>4</th>\n",
       "      <td>2019-08-14 23:04:00</td>\n",
       "      <td>1565823840000</td>\n",
       "      <td>0.27015</td>\n",
       "      <td>0.26971</td>\n",
       "      <td>0.27015</td>\n",
       "      <td>0.26932</td>\n",
       "      <td>115833.923778</td>\n",
       "      <td>1.565824e+12</td>\n",
       "      <td>60000.0</td>\n",
       "      <td>1.565824e+09</td>\n",
       "    </tr>\n",
       "  </tbody>\n",
       "</table>\n",
       "</div>"
      ],
      "text/plain": [
       "        datetime_real  timestamp_UTC_millisec  open_price  close_price  \\\n",
       "0 2019-08-14 23:00:00           1565823600000     0.27050      0.27034   \n",
       "1 2019-08-14 23:01:00           1565823660000     0.27034      0.27014   \n",
       "2 2019-08-14 23:02:00           1565823720000     0.27015      0.27031   \n",
       "3 2019-08-14 23:03:00           1565823780000     0.27028      0.27028   \n",
       "4 2019-08-14 23:04:00           1565823840000     0.27015      0.26971   \n",
       "\n",
       "   highest_price  lowest_price         volume  \\\n",
       "0        0.27050       0.27032     200.000000   \n",
       "1        0.27034       0.27011    6970.610576   \n",
       "2        0.27044       0.27015    9002.533511   \n",
       "3        0.27034       0.27027   22726.951973   \n",
       "4        0.27015       0.26932  115833.923778   \n",
       "\n",
       "   checking_timestamp_UTC_millisec      dif  timestamp_UTC  \n",
       "0                     1.565824e+12  60000.0   1.565824e+09  \n",
       "1                     1.565824e+12  60000.0   1.565824e+09  \n",
       "2                     1.565824e+12  60000.0   1.565824e+09  \n",
       "3                     1.565824e+12  60000.0   1.565824e+09  \n",
       "4                     1.565824e+12  60000.0   1.565824e+09  "
      ]
     },
     "execution_count": 66,
     "metadata": {},
     "output_type": "execute_result"
    }
   ],
   "source": [
    "XRP_for_testing.head()"
   ]
  },
  {
   "cell_type": "code",
   "execution_count": 67,
   "metadata": {},
   "outputs": [
    {
     "data": {
      "text/plain": [
       "Timestamp('2019-11-01 15:59:00')"
      ]
     },
     "execution_count": 67,
     "metadata": {},
     "output_type": "execute_result"
    }
   ],
   "source": [
    "XRP_for_testing['datetime_real'].max()"
   ]
  },
  {
   "cell_type": "code",
   "execution_count": 68,
   "metadata": {},
   "outputs": [
    {
     "data": {
      "text/plain": [
       "Timestamp('2019-08-14 23:00:00')"
      ]
     },
     "execution_count": 68,
     "metadata": {},
     "output_type": "execute_result"
    }
   ],
   "source": [
    "XRP_for_testing['datetime_real'].min()"
   ]
  },
  {
   "cell_type": "markdown",
   "metadata": {},
   "source": [
    "## Analysis on training datasets"
   ]
  },
  {
   "cell_type": "code",
   "execution_count": 69,
   "metadata": {},
   "outputs": [
    {
     "data": {
      "text/plain": [
       "<matplotlib.axes._subplots.AxesSubplot at 0x1f4ed388828>"
      ]
     },
     "execution_count": 69,
     "metadata": {},
     "output_type": "execute_result"
    },
    {
     "data": {
      "image/png": "[encoded data removed]",
      "text/plain": [
       "<Figure size 1440x720 with 1 Axes>"
      ]
     },
     "metadata": {
      "needs_background": "light"
     },
     "output_type": "display_data"
    }
   ],
   "source": [
    "XRP_for_training.set_index('datetime_real')[['close_price']].plot(figsize = (20,10))"
   ]
  },
  {
   "cell_type": "code",
   "execution_count": null,
   "metadata": {},
   "outputs": [],
   "source": []
  },
  {
   "cell_type": "markdown",
   "metadata": {},
   "source": [
    "## Data mining, making own properties and features"
   ]
  },
  {
   "cell_type": "code",
   "execution_count": 70,
   "metadata": {},
   "outputs": [],
   "source": [
    "section_period = {  '3min': 3,\n",
    "                    '4min': 4,\n",
    "                    '5min': 5,\n",
    "                    '10min': 10,\n",
    "                    '15min': 15,\n",
    "                    '20min': 20,\n",
    "                    '25min': 25,\n",
    "                    '30min': 30,\n",
    "                    '35min': 35,\n",
    "                    '40min': 40,\n",
    "                    '45min': 45,\n",
    "                    '50min': 50,\n",
    "                    '55min': 55,\n",
    "                    '1H': 60,\n",
    "                    '2H': 120,\n",
    "                    '3H': 180,\n",
    "                    '4H': 240,\n",
    "                    '5H': 300,\n",
    "                    '6H': 360,\n",
    "                    '7H': 420,\n",
    "                    '8H': 480,\n",
    "                    '9H': 540,\n",
    "                    '10H': 600,\n",
    "                    '11H': 660,\n",
    "                    '12H': 720,\n",
    "                    '24H': 1440,\n",
    "                    '2D': 2880,\n",
    "                    '3D': 4320,\n",
    "                    '4D': 5760,\n",
    "                    '5D': 7200,\n",
    "                    '10D': 14400}"
   ]
  },
  {
   "cell_type": "code",
   "execution_count": 71,
   "metadata": {},
   "outputs": [],
   "source": [
    "for k,v in section_period.items():\n",
    "    XRP_for_training['{0}_RA_on_Close'.format(k)] = XRP_for_training['close_price'].rolling(v).mean()"
   ]
  },
  {
   "cell_type": "code",
   "execution_count": 72,
   "metadata": {},
   "outputs": [],
   "source": [
    "compare_sequence = {}"
   ]
  },
  {
   "cell_type": "code",
   "execution_count": 73,
   "metadata": {},
   "outputs": [],
   "source": [
    "for col_1 in [d for d in XRP_for_training.columns if '_RA_on_Close' in d]:\n",
    "    for col_2 in [d for d in XRP_for_training.columns if '_RA_on_Close' in d]:\n",
    "        temp_1 = col_1.split('_RA_on_Close')[0]\n",
    "        temp_2 = col_2.split('_RA_on_Close')[0]\n",
    "        if temp_1 != temp_2:\n",
    "            if ((temp_1 + '_minus_' + temp_2) not in compare_sequence.keys() and (temp_2 + '_minus_' + temp_1) not in compare_sequence.keys() ):\n",
    "                compare_sequence.update({temp_1 + '_minus_' + temp_2 : [col_1, col_2]})"
   ]
  },
  {
   "cell_type": "code",
   "execution_count": 74,
   "metadata": {},
   "outputs": [],
   "source": [
    "for k, val in compare_sequence.items():\n",
    "    XRP_for_training[k] = (XRP_for_training[val[0]] - XRP_for_training[val[1]])/XRP_for_training[val[1]] \n",
    "#     print(k, val[0], val[1])"
   ]
  },
  {
   "cell_type": "code",
   "execution_count": 75,
   "metadata": {},
   "outputs": [],
   "source": [
    "for col in [d for d in XRP_for_training.columns if '_RA_on_Close' in d]:\n",
    "    XRP_for_training[col] = XRP_for_training[col].shift(1)\n",
    "    \n",
    "    XRP_for_training['{0}_close_percent_dif'.format(col.split('_RA_on_Close')[0])] = (XRP_for_training['close_price']-XRP_for_training[col])/XRP_for_training[col] "
   ]
  },
  {
   "cell_type": "code",
   "execution_count": 76,
   "metadata": {},
   "outputs": [
    {
     "name": "stdout",
     "output_type": "stream",
     "text": [
      "3min 3\n",
      "4min 4\n",
      "5min 5\n",
      "10min 10\n",
      "15min 15\n",
      "20min 20\n",
      "25min 25\n",
      "30min 30\n",
      "35min 35\n",
      "40min 40\n",
      "45min 45\n",
      "50min 50\n",
      "55min 55\n",
      "1H 60\n",
      "2H 120\n",
      "3H 180\n",
      "4H 240\n",
      "5H 300\n",
      "6H 360\n",
      "7H 420\n",
      "8H 480\n",
      "9H 540\n",
      "10H 600\n",
      "11H 660\n",
      "12H 720\n",
      "24H 1440\n",
      "2D 2880\n",
      "3D 4320\n",
      "4D 5760\n",
      "5D 7200\n",
      "10D 14400\n",
      "3min 3\n",
      "4min 4\n",
      "5min 5\n",
      "10min 10\n",
      "15min 15\n",
      "20min 20\n",
      "25min 25\n",
      "30min 30\n",
      "35min 35\n",
      "40min 40\n",
      "45min 45\n",
      "50min 50\n",
      "55min 55\n",
      "1H 60\n",
      "2H 120\n",
      "3H 180\n",
      "4H 240\n",
      "5H 300\n",
      "6H 360\n",
      "7H 420\n",
      "8H 480\n",
      "9H 540\n",
      "10H 600\n",
      "11H 660\n",
      "12H 720\n",
      "24H 1440\n",
      "2D 2880\n",
      "3D 4320\n",
      "4D 5760\n",
      "5D 7200\n",
      "10D 14400\n"
     ]
    }
   ],
   "source": [
    "for k,v in section_period.items():\n",
    "    print(k,v)\n",
    "    XRP_for_training['look_back_{}'.format(k)] = XRP_for_training['close_price'].shift(v)   # i.e. 20min ago, this is what the close price is\n",
    "    XRP_for_training['look_forward_{}'.format(k)] = XRP_for_training['close_price'].shift(-v)  # i.e. 20min later, the close price is\n",
    "\n",
    "\n",
    "for k,v in section_period.items():\n",
    "    print(k,v)\n",
    "    XRP_for_training['calculate_look_back_Percent_{}'.format(k)]    = 100*(XRP_for_training['close_price'] - XRP_for_training['look_back_{}'.format(k)])/(v)\n",
    "    XRP_for_training['calculate_look_forward_Percent_{}'.format(k)] =  100*(XRP_for_training['look_forward_{}'.format(k)] - XRP_for_training['close_price'])/(v)"
   ]
  },
  {
   "cell_type": "code",
   "execution_count": null,
   "metadata": {},
   "outputs": [],
   "source": []
  },
  {
   "cell_type": "raw",
   "metadata": {},
   "source": [
    "increase to at least 0.3% = 0.003\n",
    "\n",
    "difference of:\n",
    "- 0.004\n",
    "- 0.005"
   ]
  },
  {
   "cell_type": "markdown",
   "metadata": {},
   "source": [
    "net_{net_percent}_percent is the net_percent + minimum for profit, \n",
    "\n",
    "i.e. net_01_percent = 0.1% + 0.003 = 0.004"
   ]
  },
  {
   "cell_type": "code",
   "execution_count": 77,
   "metadata": {},
   "outputs": [],
   "source": [
    "net_01_percent = 0.004\n",
    "net_02_percent = 0.007  # (for x percent, percent wrong needs to be taken into consideration)"
   ]
  },
  {
   "cell_type": "code",
   "execution_count": null,
   "metadata": {},
   "outputs": [],
   "source": []
  },
  {
   "cell_type": "raw",
   "metadata": {},
   "source": [
    "Buy_in_decision : is it the targets that I came up with, where if the price will be greated than 0.5% increase, then a profit can be made, hence there can be made.\n",
    "    (0.5% is set as there is a fee of exchange on many crypotoexchanges, i.e. 0.3% on Bitfinx. \n",
    "    source: https://tradesanta.com/en/bitfinex)"
   ]
  },
  {
   "cell_type": "code",
   "execution_count": 78,
   "metadata": {},
   "outputs": [],
   "source": [
    "look_forward_time_condition = ['calculate_look_forward_Percent_3min',\n",
    " 'calculate_look_forward_Percent_4min',\n",
    " 'calculate_look_forward_Percent_5min',\n",
    " 'calculate_look_forward_Percent_10min',\n",
    " 'calculate_look_forward_Percent_15min',\n",
    " 'calculate_look_forward_Percent_20min',\n",
    " 'calculate_look_forward_Percent_25min',\n",
    " 'calculate_look_forward_Percent_30min',\n",
    " 'calculate_look_forward_Percent_35min',\n",
    " 'calculate_look_forward_Percent_40min',\n",
    " 'calculate_look_forward_Percent_45min',\n",
    " 'calculate_look_forward_Percent_50min',\n",
    " 'calculate_look_forward_Percent_55min',\n",
    " 'calculate_look_forward_Percent_1H',\n",
    " 'calculate_look_forward_Percent_2H',\n",
    " 'calculate_look_forward_Percent_3H',\n",
    " 'calculate_look_forward_Percent_4H',\n",
    " 'calculate_look_forward_Percent_5H',\n",
    " 'calculate_look_forward_Percent_6H']"
   ]
  },
  {
   "cell_type": "code",
   "execution_count": 79,
   "metadata": {},
   "outputs": [],
   "source": [
    "# Buy_in_decision = pd.DataFrame((XRP_for_training[['timestamp_UTC'] + [d for d in XRP_for_training.columns if '_forward_Percent_' in d]].set_index('timestamp_UTC') > net_02_percent).any(axis =1 )).rename(columns ={0: 'Buy_In'})\n",
    "Buy_in_decision = pd.DataFrame((XRP_for_training[['timestamp_UTC'] + look_forward_time_condition].set_index('timestamp_UTC') > net_02_percent).any(axis =1 )).rename(columns ={0: 'Buy_In'})"
   ]
  },
  {
   "cell_type": "code",
   "execution_count": 80,
   "metadata": {},
   "outputs": [],
   "source": [
    "within_target_02_profit = XRP_for_training.merge(Buy_in_decision.reset_index(), on ='timestamp_UTC', how='left').dropna()"
   ]
  },
  {
   "cell_type": "code",
   "execution_count": 81,
   "metadata": {},
   "outputs": [
    {
     "data": {
      "text/html": [
       "<div>\n",
       "<style scoped>\n",
       "    .dataframe tbody tr th:only-of-type {\n",
       "        vertical-align: middle;\n",
       "    }\n",
       "\n",
       "    .dataframe tbody tr th {\n",
       "        vertical-align: top;\n",
       "    }\n",
       "\n",
       "    .dataframe thead th {\n",
       "        text-align: right;\n",
       "    }\n",
       "</style>\n",
       "<table border=\"1\" class=\"dataframe\">\n",
       "  <thead>\n",
       "    <tr style=\"text-align: right;\">\n",
       "      <th></th>\n",
       "      <th>datetime_real</th>\n",
       "      <th>timestamp_UTC_millisec</th>\n",
       "      <th>open_price</th>\n",
       "      <th>close_price</th>\n",
       "      <th>highest_price</th>\n",
       "      <th>lowest_price</th>\n",
       "      <th>volume</th>\n",
       "      <th>checking_timestamp_UTC_millisec</th>\n",
       "      <th>dif</th>\n",
       "      <th>timestamp_UTC</th>\n",
       "      <th>...</th>\n",
       "      <th>calculate_look_forward_Percent_2D</th>\n",
       "      <th>calculate_look_back_Percent_3D</th>\n",
       "      <th>calculate_look_forward_Percent_3D</th>\n",
       "      <th>calculate_look_back_Percent_4D</th>\n",
       "      <th>calculate_look_forward_Percent_4D</th>\n",
       "      <th>calculate_look_back_Percent_5D</th>\n",
       "      <th>calculate_look_forward_Percent_5D</th>\n",
       "      <th>calculate_look_back_Percent_10D</th>\n",
       "      <th>calculate_look_forward_Percent_10D</th>\n",
       "      <th>Buy_In</th>\n",
       "    </tr>\n",
       "  </thead>\n",
       "  <tbody>\n",
       "    <tr>\n",
       "      <th>16574</th>\n",
       "      <td>2018-08-24 23:00:00</td>\n",
       "      <td>1535151600000</td>\n",
       "      <td>0.32687</td>\n",
       "      <td>0.32709</td>\n",
       "      <td>0.32742</td>\n",
       "      <td>0.32687</td>\n",
       "      <td>32028.654097</td>\n",
       "      <td>1.535152e+12</td>\n",
       "      <td>60000.0</td>\n",
       "      <td>1.535152e+09</td>\n",
       "      <td>...</td>\n",
       "      <td>-0.000184</td>\n",
       "      <td>-0.000172</td>\n",
       "      <td>0.000133</td>\n",
       "      <td>0.000109</td>\n",
       "      <td>0.000440</td>\n",
       "      <td>-0.000248</td>\n",
       "      <td>0.000271</td>\n",
       "      <td>0.000436</td>\n",
       "      <td>0.000056</td>\n",
       "      <td>False</td>\n",
       "    </tr>\n",
       "    <tr>\n",
       "      <th>16575</th>\n",
       "      <td>2018-08-24 23:01:00</td>\n",
       "      <td>1535151660000</td>\n",
       "      <td>0.32709</td>\n",
       "      <td>0.32698</td>\n",
       "      <td>0.32709</td>\n",
       "      <td>0.32698</td>\n",
       "      <td>9644.315221</td>\n",
       "      <td>1.535152e+12</td>\n",
       "      <td>60000.0</td>\n",
       "      <td>1.535152e+09</td>\n",
       "      <td>...</td>\n",
       "      <td>-0.000180</td>\n",
       "      <td>-0.000185</td>\n",
       "      <td>0.000138</td>\n",
       "      <td>0.000137</td>\n",
       "      <td>0.000441</td>\n",
       "      <td>-0.000253</td>\n",
       "      <td>0.000274</td>\n",
       "      <td>0.000437</td>\n",
       "      <td>0.000056</td>\n",
       "      <td>False</td>\n",
       "    </tr>\n",
       "    <tr>\n",
       "      <th>16576</th>\n",
       "      <td>2018-08-24 23:02:00</td>\n",
       "      <td>1535151720000</td>\n",
       "      <td>0.32699</td>\n",
       "      <td>0.32691</td>\n",
       "      <td>0.32699</td>\n",
       "      <td>0.32691</td>\n",
       "      <td>14352.199593</td>\n",
       "      <td>1.535152e+12</td>\n",
       "      <td>60000.0</td>\n",
       "      <td>1.535152e+09</td>\n",
       "      <td>...</td>\n",
       "      <td>-0.000177</td>\n",
       "      <td>-0.000187</td>\n",
       "      <td>0.000123</td>\n",
       "      <td>0.000132</td>\n",
       "      <td>0.000441</td>\n",
       "      <td>-0.000254</td>\n",
       "      <td>0.000274</td>\n",
       "      <td>0.000435</td>\n",
       "      <td>0.000056</td>\n",
       "      <td>False</td>\n",
       "    </tr>\n",
       "    <tr>\n",
       "      <th>16577</th>\n",
       "      <td>2018-08-24 23:03:00</td>\n",
       "      <td>1535151780000</td>\n",
       "      <td>0.32691</td>\n",
       "      <td>0.32630</td>\n",
       "      <td>0.32691</td>\n",
       "      <td>0.32630</td>\n",
       "      <td>30312.173041</td>\n",
       "      <td>1.535152e+12</td>\n",
       "      <td>60000.0</td>\n",
       "      <td>1.535152e+09</td>\n",
       "      <td>...</td>\n",
       "      <td>-0.000156</td>\n",
       "      <td>-0.000194</td>\n",
       "      <td>0.000137</td>\n",
       "      <td>0.000159</td>\n",
       "      <td>0.000451</td>\n",
       "      <td>-0.000252</td>\n",
       "      <td>0.000283</td>\n",
       "      <td>0.000435</td>\n",
       "      <td>0.000060</td>\n",
       "      <td>True</td>\n",
       "    </tr>\n",
       "    <tr>\n",
       "      <th>16578</th>\n",
       "      <td>2018-08-24 23:04:00</td>\n",
       "      <td>1535151840000</td>\n",
       "      <td>0.32630</td>\n",
       "      <td>0.32616</td>\n",
       "      <td>0.32630</td>\n",
       "      <td>0.32616</td>\n",
       "      <td>6672.409474</td>\n",
       "      <td>1.535152e+12</td>\n",
       "      <td>60000.0</td>\n",
       "      <td>1.535152e+09</td>\n",
       "      <td>...</td>\n",
       "      <td>-0.000151</td>\n",
       "      <td>-0.000207</td>\n",
       "      <td>0.000140</td>\n",
       "      <td>0.000178</td>\n",
       "      <td>0.000443</td>\n",
       "      <td>-0.000254</td>\n",
       "      <td>0.000285</td>\n",
       "      <td>0.000435</td>\n",
       "      <td>0.000064</td>\n",
       "      <td>True</td>\n",
       "    </tr>\n",
       "  </tbody>\n",
       "</table>\n",
       "<p>5 rows × 662 columns</p>\n",
       "</div>"
      ],
      "text/plain": [
       "            datetime_real  timestamp_UTC_millisec  open_price  close_price  \\\n",
       "16574 2018-08-24 23:00:00           1535151600000     0.32687      0.32709   \n",
       "16575 2018-08-24 23:01:00           1535151660000     0.32709      0.32698   \n",
       "16576 2018-08-24 23:02:00           1535151720000     0.32699      0.32691   \n",
       "16577 2018-08-24 23:03:00           1535151780000     0.32691      0.32630   \n",
       "16578 2018-08-24 23:04:00           1535151840000     0.32630      0.32616   \n",
       "\n",
       "       highest_price  lowest_price        volume  \\\n",
       "16574        0.32742       0.32687  32028.654097   \n",
       "16575        0.32709       0.32698   9644.315221   \n",
       "16576        0.32699       0.32691  14352.199593   \n",
       "16577        0.32691       0.32630  30312.173041   \n",
       "16578        0.32630       0.32616   6672.409474   \n",
       "\n",
       "       checking_timestamp_UTC_millisec      dif  timestamp_UTC  ...  \\\n",
       "16574                     1.535152e+12  60000.0   1.535152e+09  ...   \n",
       "16575                     1.535152e+12  60000.0   1.535152e+09  ...   \n",
       "16576                     1.535152e+12  60000.0   1.535152e+09  ...   \n",
       "16577                     1.535152e+12  60000.0   1.535152e+09  ...   \n",
       "16578                     1.535152e+12  60000.0   1.535152e+09  ...   \n",
       "\n",
       "       calculate_look_forward_Percent_2D  calculate_look_back_Percent_3D  \\\n",
       "16574                          -0.000184                       -0.000172   \n",
       "16575                          -0.000180                       -0.000185   \n",
       "16576                          -0.000177                       -0.000187   \n",
       "16577                          -0.000156                       -0.000194   \n",
       "16578                          -0.000151                       -0.000207   \n",
       "\n",
       "       calculate_look_forward_Percent_3D  calculate_look_back_Percent_4D  \\\n",
       "16574                           0.000133                        0.000109   \n",
       "16575                           0.000138                        0.000137   \n",
       "16576                           0.000123                        0.000132   \n",
       "16577                           0.000137                        0.000159   \n",
       "16578                           0.000140                        0.000178   \n",
       "\n",
       "       calculate_look_forward_Percent_4D  calculate_look_back_Percent_5D  \\\n",
       "16574                           0.000440                       -0.000248   \n",
       "16575                           0.000441                       -0.000253   \n",
       "16576                           0.000441                       -0.000254   \n",
       "16577                           0.000451                       -0.000252   \n",
       "16578                           0.000443                       -0.000254   \n",
       "\n",
       "       calculate_look_forward_Percent_5D  calculate_look_back_Percent_10D  \\\n",
       "16574                           0.000271                         0.000436   \n",
       "16575                           0.000274                         0.000437   \n",
       "16576                           0.000274                         0.000435   \n",
       "16577                           0.000283                         0.000435   \n",
       "16578                           0.000285                         0.000435   \n",
       "\n",
       "       calculate_look_forward_Percent_10D  Buy_In  \n",
       "16574                            0.000056   False  \n",
       "16575                            0.000056   False  \n",
       "16576                            0.000056   False  \n",
       "16577                            0.000060    True  \n",
       "16578                            0.000064    True  \n",
       "\n",
       "[5 rows x 662 columns]"
      ]
     },
     "execution_count": 81,
     "metadata": {},
     "output_type": "execute_result"
    }
   ],
   "source": [
    "within_target_02_profit.head()"
   ]
  },
  {
   "cell_type": "code",
   "execution_count": 82,
   "metadata": {},
   "outputs": [
    {
     "data": {
      "text/plain": [
       "Timestamp('2019-11-01 15:59:00')"
      ]
     },
     "execution_count": 82,
     "metadata": {},
     "output_type": "execute_result"
    }
   ],
   "source": [
    "XRP_for_testing['datetime_real'].max()"
   ]
  },
  {
   "cell_type": "code",
   "execution_count": 83,
   "metadata": {},
   "outputs": [
    {
     "data": {
      "text/plain": [
       "Timestamp('2018-08-24 23:00:00')"
      ]
     },
     "execution_count": 83,
     "metadata": {},
     "output_type": "execute_result"
    }
   ],
   "source": [
    "within_target_02_profit['datetime_real'].min()"
   ]
  },
  {
   "cell_type": "code",
   "execution_count": null,
   "metadata": {},
   "outputs": [],
   "source": []
  },
  {
   "cell_type": "markdown",
   "metadata": {},
   "source": [
    "#### Selecting properties and becareful not to have any properties that look forward"
   ]
  },
  {
   "cell_type": "code",
   "execution_count": 84,
   "metadata": {},
   "outputs": [],
   "source": [
    "properties = [\n",
    "#     'close',\n",
    "#  'date',\n",
    "#  'high',\n",
    "#  'low',\n",
    "#  'open',\n",
    "#  'quoteVolume',\n",
    " 'volume',\n",
    "#  'weightedAverage',\n",
    "#  'datetime_real',\n",
    " '3min_close_percent_dif',\n",
    " '4min_close_percent_dif',\n",
    " '5min_close_percent_dif',\n",
    " '10min_close_percent_dif',\n",
    " '15min_close_percent_dif',\n",
    " '20min_close_percent_dif',\n",
    " '1H_close_percent_dif',\n",
    " '2H_close_percent_dif',\n",
    " '4H_close_percent_dif',\n",
    " '12H_close_percent_dif',\n",
    " '24H_close_percent_dif',\n",
    " '2D_close_percent_dif',\n",
    " '3D_close_percent_dif',\n",
    " '4D_close_percent_dif',\n",
    " '5D_close_percent_dif',\n",
    " '10D_close_percent_dif',\n",
    " 'calculate_look_back_Percent_3min',\n",
    " 'calculate_look_back_Percent_4min',\n",
    " 'calculate_look_back_Percent_5min',\n",
    " 'calculate_look_back_Percent_10min',\n",
    " 'calculate_look_back_Percent_15min',\n",
    " 'calculate_look_back_Percent_20min',\n",
    " 'calculate_look_back_Percent_1H',\n",
    " 'calculate_look_back_Percent_2H',\n",
    " 'calculate_look_back_Percent_4H',\n",
    " 'calculate_look_back_Percent_12H',\n",
    " 'calculate_look_back_Percent_24H',\n",
    " 'calculate_look_back_Percent_2D',\n",
    " 'calculate_look_back_Percent_3D',\n",
    " 'calculate_look_back_Percent_4D',\n",
    " 'calculate_look_back_Percent_5D',\n",
    " 'calculate_look_back_Percent_10D',\n",
    " '3min_minus_4min',\n",
    " '3min_minus_5min',\n",
    " '3min_minus_10min',\n",
    " '3min_minus_15min',\n",
    " '3min_minus_20min',\n",
    " '3min_minus_1H',\n",
    " '3min_minus_2H',\n",
    " '3min_minus_4H',\n",
    " '3min_minus_12H',\n",
    " '3min_minus_24H',\n",
    " '3min_minus_2D',\n",
    " '3min_minus_3D',\n",
    " '3min_minus_4D',\n",
    " '3min_minus_5D',\n",
    " '3min_minus_10D',\n",
    " '4min_minus_5min',\n",
    " '4min_minus_10min',\n",
    " '4min_minus_15min',\n",
    " '4min_minus_20min',\n",
    " '4min_minus_1H',\n",
    " '4min_minus_2H',\n",
    " '4min_minus_4H',\n",
    " '4min_minus_12H',\n",
    " '4min_minus_24H',\n",
    " '4min_minus_2D',\n",
    " '4min_minus_3D',\n",
    " '4min_minus_4D',\n",
    " '4min_minus_5D',\n",
    " '4min_minus_10D',\n",
    " '5min_minus_10min',\n",
    " '5min_minus_15min',\n",
    " '5min_minus_20min',\n",
    " '5min_minus_1H',\n",
    " '5min_minus_2H',\n",
    " '5min_minus_4H',\n",
    " '5min_minus_12H',\n",
    " '5min_minus_24H',\n",
    " '5min_minus_2D',\n",
    " '5min_minus_3D',\n",
    " '5min_minus_4D',\n",
    " '5min_minus_5D',\n",
    " '5min_minus_10D',\n",
    " '10min_minus_15min',\n",
    " '10min_minus_20min',\n",
    " '10min_minus_1H',\n",
    " '10min_minus_2H',\n",
    " '10min_minus_4H',\n",
    " '10min_minus_12H',\n",
    " '10min_minus_24H',\n",
    " '10min_minus_2D',\n",
    " '10min_minus_3D',\n",
    " '10min_minus_4D',\n",
    " '10min_minus_5D',\n",
    " '10min_minus_10D',\n",
    " '15min_minus_20min',\n",
    " '15min_minus_1H',\n",
    " '15min_minus_2H',\n",
    " '15min_minus_4H',\n",
    " '15min_minus_12H',\n",
    " '15min_minus_24H',\n",
    " '15min_minus_2D',\n",
    " '15min_minus_3D',\n",
    " '15min_minus_4D',\n",
    " '15min_minus_5D',\n",
    " '15min_minus_10D',\n",
    " '20min_minus_1H',\n",
    " '20min_minus_2H',\n",
    " '20min_minus_4H',\n",
    " '20min_minus_12H',\n",
    " '20min_minus_24H',\n",
    " '20min_minus_2D',\n",
    " '20min_minus_3D',\n",
    " '20min_minus_4D',\n",
    " '20min_minus_5D',\n",
    " '20min_minus_10D',\n",
    " '1H_minus_2H',\n",
    " '1H_minus_4H',\n",
    " '1H_minus_12H',\n",
    " '1H_minus_24H',\n",
    " '1H_minus_2D',\n",
    " '1H_minus_3D',\n",
    " '1H_minus_4D',\n",
    " '1H_minus_5D',\n",
    " '1H_minus_10D',\n",
    " '2H_minus_4H',\n",
    " '2H_minus_12H',\n",
    " '2H_minus_24H',\n",
    " '2H_minus_2D',\n",
    " '2H_minus_3D',\n",
    " '2H_minus_4D',\n",
    " '2H_minus_5D',\n",
    " '2H_minus_10D',\n",
    " '4H_minus_12H',\n",
    " '4H_minus_24H',\n",
    " '4H_minus_2D',\n",
    " '4H_minus_3D',\n",
    " '4H_minus_4D',\n",
    " '4H_minus_5D',\n",
    " '4H_minus_10D',\n",
    " '12H_minus_24H',\n",
    " '12H_minus_2D',\n",
    " '12H_minus_3D',\n",
    " '12H_minus_4D',\n",
    " '12H_minus_5D',\n",
    " '12H_minus_10D',\n",
    " '24H_minus_2D',\n",
    " '24H_minus_3D',\n",
    " '24H_minus_4D',\n",
    " '24H_minus_5D',\n",
    " '24H_minus_10D',\n",
    " '2D_minus_3D',\n",
    " '2D_minus_4D',\n",
    " '2D_minus_5D',\n",
    " '2D_minus_10D',\n",
    " '3D_minus_4D',\n",
    " '3D_minus_5D',\n",
    " '3D_minus_10D',\n",
    " '4D_minus_5D',\n",
    " '4D_minus_10D',\n",
    " '5D_minus_10D']"
   ]
  },
  {
   "cell_type": "markdown",
   "metadata": {},
   "source": [
    "## split into target and properties"
   ]
  },
  {
   "cell_type": "code",
   "execution_count": 85,
   "metadata": {},
   "outputs": [],
   "source": [
    "from sklearn.metrics import accuracy_score\n",
    "from sklearn.model_selection import train_test_split\n",
    "from sklearn import tree\n",
    "from sklearn.tree import DecisionTreeClassifier"
   ]
  },
  {
   "cell_type": "code",
   "execution_count": 86,
   "metadata": {},
   "outputs": [],
   "source": [
    "from sklearn.externals.six import StringIO  \n",
    "from IPython.display import Image\n",
    "from sklearn.tree import export_graphviz\n",
    "import pydotplus\n",
    "\n",
    "import pydot"
   ]
  },
  {
   "cell_type": "code",
   "execution_count": 87,
   "metadata": {},
   "outputs": [],
   "source": [
    "from collections import Counter"
   ]
  },
  {
   "cell_type": "code",
   "execution_count": 88,
   "metadata": {},
   "outputs": [],
   "source": [
    "import math"
   ]
  },
  {
   "cell_type": "code",
   "execution_count": 152,
   "metadata": {},
   "outputs": [
    {
     "data": {
      "text/plain": [
       "Timestamp('2019-08-04 22:59:00')"
      ]
     },
     "execution_count": 152,
     "metadata": {},
     "output_type": "execute_result"
    }
   ],
   "source": [
    "within_target_02_profit['datetime_real'].max()"
   ]
  },
  {
   "cell_type": "code",
   "execution_count": 206,
   "metadata": {},
   "outputs": [],
   "source": [
    "target_y = within_target_02_profit[['Buy_In']].copy()"
   ]
  },
  {
   "cell_type": "code",
   "execution_count": 207,
   "metadata": {},
   "outputs": [],
   "source": [
    "# train_x = within_target_02_profit[properties].copy()\n",
    "# train_x = within_target_02_profit[iterate_1_features].copy()\n",
    "train_x = within_target_02_profit[iterate_2_features].copy()\n"
   ]
  },
  {
   "cell_type": "code",
   "execution_count": 208,
   "metadata": {},
   "outputs": [
    {
     "data": {
      "text/plain": [
       "Index(['Buy_In'], dtype='object')"
      ]
     },
     "execution_count": 208,
     "metadata": {},
     "output_type": "execute_result"
    }
   ],
   "source": [
    "target_y.columns"
   ]
  },
  {
   "cell_type": "code",
   "execution_count": null,
   "metadata": {},
   "outputs": [],
   "source": []
  },
  {
   "cell_type": "code",
   "execution_count": 209,
   "metadata": {},
   "outputs": [],
   "source": [
    "# X_train, X_test, y_train, y_test = train_test_split(train_x, target_y, test_size=0.33, random_state=324)"
   ]
  },
  {
   "cell_type": "code",
   "execution_count": 210,
   "metadata": {},
   "outputs": [],
   "source": [
    "X_train_order = train_x.iloc[:-math.floor(len(train_x)*0.2)]"
   ]
  },
  {
   "cell_type": "code",
   "execution_count": 211,
   "metadata": {},
   "outputs": [],
   "source": [
    "y_train_order = target_y.iloc[:-math.floor(len(target_y)*0.2)]"
   ]
  },
  {
   "cell_type": "code",
   "execution_count": null,
   "metadata": {},
   "outputs": [],
   "source": []
  },
  {
   "cell_type": "code",
   "execution_count": 212,
   "metadata": {},
   "outputs": [],
   "source": [
    "X_test_order = train_x.iloc[-math.floor(len(train_x)*0.2):]"
   ]
  },
  {
   "cell_type": "code",
   "execution_count": 213,
   "metadata": {},
   "outputs": [],
   "source": [
    "y_test_order = target_y.iloc[-math.floor(len(target_y)*0.2):]"
   ]
  },
  {
   "cell_type": "code",
   "execution_count": null,
   "metadata": {},
   "outputs": [],
   "source": []
  },
  {
   "cell_type": "markdown",
   "metadata": {},
   "source": [
    "## Logistical Regression"
   ]
  },
  {
   "cell_type": "code",
   "execution_count": 232,
   "metadata": {},
   "outputs": [],
   "source": [
    "from sklearn.linear_model import LogisticRegression\n",
    "from sklearn.metrics import confusion_matrix"
   ]
  },
  {
   "cell_type": "code",
   "execution_count": 233,
   "metadata": {},
   "outputs": [],
   "source": [
    "prob_logistical_training= LogisticRegression()\n"
   ]
  },
  {
   "cell_type": "code",
   "execution_count": 234,
   "metadata": {},
   "outputs": [
    {
     "data": {
      "text/plain": [
       "LogisticRegression(C=1.0, class_weight=None, dual=False, fit_intercept=True,\n",
       "          intercept_scaling=1, max_iter=100, multi_class='warn',\n",
       "          n_jobs=None, penalty='l2', random_state=None, solver='warn',\n",
       "          tol=0.0001, verbose=0, warm_start=False)"
      ]
     },
     "execution_count": 234,
     "metadata": {},
     "output_type": "execute_result"
    }
   ],
   "source": [
    "prob_logistical_training.fit(X_train_order, y_train_order)"
   ]
  },
  {
   "cell_type": "code",
   "execution_count": 235,
   "metadata": {},
   "outputs": [
    {
     "ename": "ValueError",
     "evalue": "setting an array element with a sequence.",
     "output_type": "error",
     "traceback": [
      "\u001b[1;31m---------------------------------------------------------------------------\u001b[0m",
      "\u001b[1;31mValueError\u001b[0m                                Traceback (most recent call last)",
      "\u001b[1;32m<ipython-input-235-642295ab7813>\u001b[0m in \u001b[0;36m<module>\u001b[1;34m\u001b[0m\n\u001b[1;32m----> 1\u001b[1;33m \u001b[0my_pred\u001b[0m \u001b[1;33m=\u001b[0m \u001b[0mprob_logistical_training\u001b[0m\u001b[1;33m.\u001b[0m\u001b[0mpredict\u001b[0m\u001b[1;33m(\u001b[0m\u001b[0mX_test_order\u001b[0m\u001b[1;33m)\u001b[0m\u001b[1;33m\u001b[0m\u001b[1;33m\u001b[0m\u001b[0m\n\u001b[0m",
      "\u001b[1;32mc:\\users\\zhen\\appdata\\local\\programs\\python\\python37\\lib\\site-packages\\sklearn\\linear_model\\base.py\u001b[0m in \u001b[0;36mpredict\u001b[1;34m(self, X)\u001b[0m\n\u001b[0;32m    279\u001b[0m             \u001b[0mPredicted\u001b[0m \u001b[1;32mclass\u001b[0m \u001b[0mlabel\u001b[0m \u001b[0mper\u001b[0m \u001b[0msample\u001b[0m\u001b[1;33m.\u001b[0m\u001b[1;33m\u001b[0m\u001b[1;33m\u001b[0m\u001b[0m\n\u001b[0;32m    280\u001b[0m         \"\"\"\n\u001b[1;32m--> 281\u001b[1;33m         \u001b[0mscores\u001b[0m \u001b[1;33m=\u001b[0m \u001b[0mself\u001b[0m\u001b[1;33m.\u001b[0m\u001b[0mdecision_function\u001b[0m\u001b[1;33m(\u001b[0m\u001b[0mX\u001b[0m\u001b[1;33m)\u001b[0m\u001b[1;33m\u001b[0m\u001b[1;33m\u001b[0m\u001b[0m\n\u001b[0m\u001b[0;32m    282\u001b[0m         \u001b[1;32mif\u001b[0m \u001b[0mlen\u001b[0m\u001b[1;33m(\u001b[0m\u001b[0mscores\u001b[0m\u001b[1;33m.\u001b[0m\u001b[0mshape\u001b[0m\u001b[1;33m)\u001b[0m \u001b[1;33m==\u001b[0m \u001b[1;36m1\u001b[0m\u001b[1;33m:\u001b[0m\u001b[1;33m\u001b[0m\u001b[1;33m\u001b[0m\u001b[0m\n\u001b[0;32m    283\u001b[0m             \u001b[0mindices\u001b[0m \u001b[1;33m=\u001b[0m \u001b[1;33m(\u001b[0m\u001b[0mscores\u001b[0m \u001b[1;33m>\u001b[0m \u001b[1;36m0\u001b[0m\u001b[1;33m)\u001b[0m\u001b[1;33m.\u001b[0m\u001b[0mastype\u001b[0m\u001b[1;33m(\u001b[0m\u001b[0mnp\u001b[0m\u001b[1;33m.\u001b[0m\u001b[0mint\u001b[0m\u001b[1;33m)\u001b[0m\u001b[1;33m\u001b[0m\u001b[1;33m\u001b[0m\u001b[0m\n",
      "\u001b[1;32mc:\\users\\zhen\\appdata\\local\\programs\\python\\python37\\lib\\site-packages\\sklearn\\linear_model\\base.py\u001b[0m in \u001b[0;36mdecision_function\u001b[1;34m(self, X)\u001b[0m\n\u001b[0;32m    255\u001b[0m                                  \"yet\" % {'name': type(self).__name__})\n\u001b[0;32m    256\u001b[0m \u001b[1;33m\u001b[0m\u001b[0m\n\u001b[1;32m--> 257\u001b[1;33m         \u001b[0mX\u001b[0m \u001b[1;33m=\u001b[0m \u001b[0mcheck_array\u001b[0m\u001b[1;33m(\u001b[0m\u001b[0mX\u001b[0m\u001b[1;33m,\u001b[0m \u001b[0maccept_sparse\u001b[0m\u001b[1;33m=\u001b[0m\u001b[1;34m'csr'\u001b[0m\u001b[1;33m)\u001b[0m\u001b[1;33m\u001b[0m\u001b[1;33m\u001b[0m\u001b[0m\n\u001b[0m\u001b[0;32m    258\u001b[0m \u001b[1;33m\u001b[0m\u001b[0m\n\u001b[0;32m    259\u001b[0m         \u001b[0mn_features\u001b[0m \u001b[1;33m=\u001b[0m \u001b[0mself\u001b[0m\u001b[1;33m.\u001b[0m\u001b[0mcoef_\u001b[0m\u001b[1;33m.\u001b[0m\u001b[0mshape\u001b[0m\u001b[1;33m[\u001b[0m\u001b[1;36m1\u001b[0m\u001b[1;33m]\u001b[0m\u001b[1;33m\u001b[0m\u001b[1;33m\u001b[0m\u001b[0m\n",
      "\u001b[1;32mc:\\users\\zhen\\appdata\\local\\programs\\python\\python37\\lib\\site-packages\\sklearn\\utils\\validation.py\u001b[0m in \u001b[0;36mcheck_array\u001b[1;34m(array, accept_sparse, accept_large_sparse, dtype, order, copy, force_all_finite, ensure_2d, allow_nd, ensure_min_samples, ensure_min_features, warn_on_dtype, estimator)\u001b[0m\n\u001b[0;32m    565\u001b[0m         \u001b[1;31m# make sure we actually converted to numeric:\u001b[0m\u001b[1;33m\u001b[0m\u001b[1;33m\u001b[0m\u001b[1;33m\u001b[0m\u001b[0m\n\u001b[0;32m    566\u001b[0m         \u001b[1;32mif\u001b[0m \u001b[0mdtype_numeric\u001b[0m \u001b[1;32mand\u001b[0m \u001b[0marray\u001b[0m\u001b[1;33m.\u001b[0m\u001b[0mdtype\u001b[0m\u001b[1;33m.\u001b[0m\u001b[0mkind\u001b[0m \u001b[1;33m==\u001b[0m \u001b[1;34m\"O\"\u001b[0m\u001b[1;33m:\u001b[0m\u001b[1;33m\u001b[0m\u001b[1;33m\u001b[0m\u001b[0m\n\u001b[1;32m--> 567\u001b[1;33m             \u001b[0marray\u001b[0m \u001b[1;33m=\u001b[0m \u001b[0marray\u001b[0m\u001b[1;33m.\u001b[0m\u001b[0mastype\u001b[0m\u001b[1;33m(\u001b[0m\u001b[0mnp\u001b[0m\u001b[1;33m.\u001b[0m\u001b[0mfloat64\u001b[0m\u001b[1;33m)\u001b[0m\u001b[1;33m\u001b[0m\u001b[1;33m\u001b[0m\u001b[0m\n\u001b[0m\u001b[0;32m    568\u001b[0m         \u001b[1;32mif\u001b[0m \u001b[1;32mnot\u001b[0m \u001b[0mallow_nd\u001b[0m \u001b[1;32mand\u001b[0m \u001b[0marray\u001b[0m\u001b[1;33m.\u001b[0m\u001b[0mndim\u001b[0m \u001b[1;33m>=\u001b[0m \u001b[1;36m3\u001b[0m\u001b[1;33m:\u001b[0m\u001b[1;33m\u001b[0m\u001b[1;33m\u001b[0m\u001b[0m\n\u001b[0;32m    569\u001b[0m             raise ValueError(\"Found array with dim %d. %s expected <= 2.\"\n",
      "\u001b[1;31mValueError\u001b[0m: setting an array element with a sequence."
     ]
    }
   ],
   "source": [
    "y_pred = prob_logistical_training.predict(X_test_order)\n"
   ]
  },
  {
   "cell_type": "code",
   "execution_count": null,
   "metadata": {},
   "outputs": [],
   "source": [
    "confusion_matrix(y_test_order, y_pred)"
   ]
  },
  {
   "cell_type": "code",
   "execution_count": null,
   "metadata": {},
   "outputs": [],
   "source": [
    "accuracy_score(y_true = y_test_order, y_pred = y_pred)"
   ]
  },
  {
   "cell_type": "code",
   "execution_count": null,
   "metadata": {},
   "outputs": [],
   "source": []
  },
  {
   "cell_type": "code",
   "execution_count": null,
   "metadata": {},
   "outputs": [],
   "source": [
    "prodicted_probs = prob_logistical_training.predict_proba(X_test_order)"
   ]
  },
  {
   "cell_type": "code",
   "execution_count": null,
   "metadata": {},
   "outputs": [],
   "source": [
    "X_test_order['predict_prob'] = [(d[0], d[1]) for d in prodicted_probs]"
   ]
  },
  {
   "cell_type": "code",
   "execution_count": null,
   "metadata": {},
   "outputs": [],
   "source": [
    "X_test_order['actual'] = y_test_order"
   ]
  },
  {
   "cell_type": "code",
   "execution_count": null,
   "metadata": {},
   "outputs": [],
   "source": [
    "X_test_order['predict'] = y_pred"
   ]
  },
  {
   "cell_type": "code",
   "execution_count": null,
   "metadata": {},
   "outputs": [],
   "source": [
    "X_test_order['negative_buy_in'] = [d[0] for d in X_test_order['predict_prob']]"
   ]
  },
  {
   "cell_type": "code",
   "execution_count": null,
   "metadata": {},
   "outputs": [],
   "source": [
    "X_test_order['positive_buy_in'] = [d[1] for d in X_test_order['predict_prob']]"
   ]
  },
  {
   "cell_type": "code",
   "execution_count": null,
   "metadata": {},
   "outputs": [],
   "source": []
  },
  {
   "cell_type": "code",
   "execution_count": null,
   "metadata": {},
   "outputs": [],
   "source": []
  },
  {
   "cell_type": "code",
   "execution_count": null,
   "metadata": {},
   "outputs": [],
   "source": []
  },
  {
   "cell_type": "code",
   "execution_count": null,
   "metadata": {},
   "outputs": [],
   "source": []
  },
  {
   "cell_type": "code",
   "execution_count": null,
   "metadata": {},
   "outputs": [],
   "source": []
  },
  {
   "cell_type": "code",
   "execution_count": null,
   "metadata": {},
   "outputs": [],
   "source": []
  },
  {
   "cell_type": "code",
   "execution_count": null,
   "metadata": {},
   "outputs": [],
   "source": []
  },
  {
   "cell_type": "code",
   "execution_count": null,
   "metadata": {},
   "outputs": [],
   "source": []
  },
  {
   "cell_type": "code",
   "execution_count": null,
   "metadata": {},
   "outputs": [],
   "source": []
  },
  {
   "cell_type": "markdown",
   "metadata": {},
   "source": [
    "## XG Boost"
   ]
  },
  {
   "cell_type": "code",
   "execution_count": 255,
   "metadata": {},
   "outputs": [],
   "source": [
    "#X, y = data.iloc[:,:-1],data.iloc[:,-1]"
   ]
  },
  {
   "cell_type": "code",
   "execution_count": 256,
   "metadata": {},
   "outputs": [],
   "source": [
    "# X, y = within_target_02_profit[properties].copy(), within_target_02_profit['Buy_In'].copy()\n",
    "# X, y = within_target_02_profit[iterate_1_features].copy(), within_target_02_profit['Buy_In'].copy()\n",
    "X, y = within_target_02_profit[iterate_2_features].copy(), within_target_02_profit['Buy_In'].copy()"
   ]
  },
  {
   "cell_type": "code",
   "execution_count": 257,
   "metadata": {},
   "outputs": [],
   "source": [
    "data_dmatrix = xgb.DMatrix(data=X,label=y)"
   ]
  },
  {
   "cell_type": "markdown",
   "metadata": {},
   "source": [
    "from sklearn.model_selection import train_test_split\n",
    "\n",
    "X_train, X_test, y_train, y_test = train_test_split(X, y, test_size=0.2, random_state=123)"
   ]
  },
  {
   "cell_type": "code",
   "execution_count": 258,
   "metadata": {},
   "outputs": [],
   "source": [
    "X_train_order = X.iloc[:-math.floor(len(X)*0.2)]"
   ]
  },
  {
   "cell_type": "code",
   "execution_count": 259,
   "metadata": {},
   "outputs": [],
   "source": [
    "y_train_order = y.iloc[:-math.floor(len(y)*0.2)]"
   ]
  },
  {
   "cell_type": "code",
   "execution_count": 260,
   "metadata": {},
   "outputs": [],
   "source": [
    "X_test_order = X.iloc[-math.floor(len(X)*0.2):]"
   ]
  },
  {
   "cell_type": "code",
   "execution_count": 261,
   "metadata": {},
   "outputs": [],
   "source": [
    "y_test_order = y.iloc[-math.floor(len(y)*0.2):]"
   ]
  },
  {
   "cell_type": "code",
   "execution_count": null,
   "metadata": {},
   "outputs": [],
   "source": []
  },
  {
   "cell_type": "code",
   "execution_count": 262,
   "metadata": {},
   "outputs": [],
   "source": [
    "# plot decision tree\n",
    "# from numpy import loadtxt\n",
    "# from xgboost import XGBClassifier\n",
    "from xgboost import plot_tree\n",
    "\n",
    "# load data\n",
    "# dataset = loadtxt('pima-indians-diabetes.csv', delimiter=\",\")\n",
    "# split data into X and y\n",
    "# X = dataset[:,0:8]\n",
    "# y = dataset[:,8]\n",
    "# # fit model no training data\n",
    "# model = XGBClassifier()\n",
    "# model.fit(X, y)\n",
    "# plot single tree\n"
   ]
  },
  {
   "cell_type": "code",
   "execution_count": 263,
   "metadata": {},
   "outputs": [],
   "source": [
    "xg_reg = xgb.XGBClassifier().fit(X = X_train_order, y = y_train_order ) #reg:logistic for tree\n"
   ]
  },
  {
   "cell_type": "code",
   "execution_count": 264,
   "metadata": {},
   "outputs": [],
   "source": [
    "y_pred = xg_reg.predict(X_test_order)"
   ]
  },
  {
   "cell_type": "code",
   "execution_count": 265,
   "metadata": {},
   "outputs": [
    {
     "data": {
      "text/plain": [
       "array([[0.666483  , 0.33351701],\n",
       "       [0.666483  , 0.33351701],\n",
       "       [0.666483  , 0.33351701],\n",
       "       ...,\n",
       "       [0.5086893 , 0.49131075],\n",
       "       [0.5160893 , 0.48391068],\n",
       "       [0.53310513, 0.46689484]], dtype=float32)"
      ]
     },
     "execution_count": 265,
     "metadata": {},
     "output_type": "execute_result"
    }
   ],
   "source": [
    "xg_reg.predict_proba(X_test_order)"
   ]
  },
  {
   "cell_type": "code",
   "execution_count": 266,
   "metadata": {},
   "outputs": [],
   "source": [
    "predict_prob = xg_reg.predict_proba(X_test_order)"
   ]
  },
  {
   "cell_type": "code",
   "execution_count": null,
   "metadata": {},
   "outputs": [],
   "source": []
  },
  {
   "cell_type": "code",
   "execution_count": null,
   "metadata": {},
   "outputs": [],
   "source": []
  },
  {
   "cell_type": "code",
   "execution_count": null,
   "metadata": {},
   "outputs": [],
   "source": []
  },
  {
   "cell_type": "code",
   "execution_count": 267,
   "metadata": {},
   "outputs": [],
   "source": [
    "accuracy = accuracy_score(y_true = y_test_order, y_pred = y_pred)"
   ]
  },
  {
   "cell_type": "code",
   "execution_count": 268,
   "metadata": {},
   "outputs": [
    {
     "name": "stdout",
     "output_type": "stream",
     "text": [
      "0.645079516401612\n"
     ]
    }
   ],
   "source": [
    "print(accuracy)  #0.6557448975170083"
   ]
  },
  {
   "cell_type": "code",
   "execution_count": 269,
   "metadata": {},
   "outputs": [
    {
     "data": {
      "text/plain": [
       "<matplotlib.axes._subplots.AxesSubplot at 0x1f505b67a90>"
      ]
     },
     "execution_count": 269,
     "metadata": {},
     "output_type": "execute_result"
    },
    {
     "data": {
      "image/png": "[encoded data removed]",
      "text/plain": [
       "<Figure size 432x288 with 1 Axes>"
      ]
     },
     "metadata": {
      "needs_background": "light"
     },
     "output_type": "display_data"
    }
   ],
   "source": [
    "plot_tree(xg_reg)"
   ]
  },
  {
   "cell_type": "code",
   "execution_count": 270,
   "metadata": {},
   "outputs": [
    {
     "data": {
      "image/png": "[encoded data removed]",
      "text/plain": [
       "<Figure size 2880x4320 with 1 Axes>"
      ]
     },
     "metadata": {
      "needs_background": "light"
     },
     "output_type": "display_data"
    }
   ],
   "source": [
    "fig, ax = plt.subplots(figsize=(40, 60))\n",
    "xgb.plot_tree(xg_reg, num_trees=30, ax=ax)\n",
    "plt.show()"
   ]
  },
  {
   "cell_type": "code",
   "execution_count": 271,
   "metadata": {},
   "outputs": [
    {
     "data": {
      "text/plain": [
       "<BarContainer object of 26 artists>"
      ]
     },
     "execution_count": 271,
     "metadata": {},
     "output_type": "execute_result"
    },
    {
     "data": {
      "image/png": "[encoded data removed]",
      "text/plain": [
       "<Figure size 2160x720 with 1 Axes>"
      ]
     },
     "metadata": {
      "needs_background": "light"
     },
     "output_type": "display_data"
    }
   ],
   "source": [
    "plt.figure(figsize=(30,10)).show()\n",
    "plt.bar(range(len(xg_reg.feature_importances_)), xg_reg.feature_importances_ )\n"
   ]
  },
  {
   "cell_type": "code",
   "execution_count": 250,
   "metadata": {},
   "outputs": [
    {
     "data": {
      "text/plain": [
       "Index(['volume', '3min_close_percent_dif', '4min_close_percent_dif',\n",
       "       '20min_close_percent_dif', '24H_close_percent_dif',\n",
       "       '3D_close_percent_dif', '4D_close_percent_dif',\n",
       "       'calculate_look_back_Percent_3min', 'calculate_look_back_Percent_4min',\n",
       "       'calculate_look_back_Percent_5min', 'calculate_look_back_Percent_10min',\n",
       "       'calculate_look_back_Percent_15min',\n",
       "       'calculate_look_back_Percent_20min', 'calculate_look_back_Percent_1H',\n",
       "       'calculate_look_back_Percent_4H', 'calculate_look_back_Percent_12H',\n",
       "       'calculate_look_back_Percent_24H', 'calculate_look_back_Percent_2D',\n",
       "       '3min_minus_4H', '3min_minus_24H', '4min_minus_5min',\n",
       "       '4min_minus_15min', '5min_minus_24H', '10min_minus_15min',\n",
       "       '15min_minus_20min', '1H_minus_10D', '2H_minus_24H', '4H_minus_10D',\n",
       "       '12H_minus_3D', '12H_minus_10D', '24H_minus_10D', '2D_minus_10D',\n",
       "       '3D_minus_5D', '3D_minus_10D'],\n",
       "      dtype='object')"
      ]
     },
     "execution_count": 250,
     "metadata": {},
     "output_type": "execute_result"
    }
   ],
   "source": [
    "X_train_order.columns"
   ]
  },
  {
   "cell_type": "code",
   "execution_count": 254,
   "metadata": {},
   "outputs": [
    {
     "data": {
      "text/plain": [
       "<matplotlib.axes._subplots.AxesSubplot at 0x1f50512c278>"
      ]
     },
     "execution_count": 254,
     "metadata": {},
     "output_type": "execute_result"
    },
    {
     "data": {
      "image/png": "[encoded data removed]",
      "text/plain": [
       "<Figure size 1440x720 with 1 Axes>"
      ]
     },
     "metadata": {
      "needs_background": "light"
     },
     "output_type": "display_data"
    }
   ],
   "source": [
    "pd.DataFrame([X_train_order.columns, xg_reg.feature_importances_]).T.set_index(0).plot.bar(figsize = (20,10))"
   ]
  },
  {
   "cell_type": "code",
   "execution_count": null,
   "metadata": {},
   "outputs": [],
   "source": []
  },
  {
   "cell_type": "code",
   "execution_count": null,
   "metadata": {},
   "outputs": [],
   "source": []
  },
  {
   "cell_type": "code",
   "execution_count": 198,
   "metadata": {},
   "outputs": [
    {
     "data": {
      "text/plain": [
       "<matplotlib.axes._subplots.AxesSubplot at 0x1f48a149f98>"
      ]
     },
     "execution_count": 198,
     "metadata": {},
     "output_type": "execute_result"
    },
    {
     "data": {
      "image/png": "[encoded data removed]",
      "text/plain": [
       "<Figure size 1440x720 with 1 Axes>"
      ]
     },
     "metadata": {
      "needs_background": "light"
     },
     "output_type": "display_data"
    }
   ],
   "source": [
    "pd.DataFrame([X_train_order.columns, xg_reg.feature_importances_]).T.set_index(0).plot.bar(figsize = (20,10))"
   ]
  },
  {
   "cell_type": "markdown",
   "metadata": {},
   "source": [
    "'calculate_look_back_Percent_1H',\n",
    "'calculate_look_back_Percent_4H',\n",
    "'calculate_look_back_Percent_24H',\n",
    "'3min_minus_4H',\n",
    "'3min_minus_24H',\n",
    "'5min_minus_24H',\n",
    "'2H_minus_24H',\n",
    "'12H_minus_3D',\n",
    "\n",
    "^--- void these features"
   ]
  },
  {
   "cell_type": "code",
   "execution_count": null,
   "metadata": {},
   "outputs": [],
   "source": []
  },
  {
   "cell_type": "code",
   "execution_count": 195,
   "metadata": {},
   "outputs": [],
   "source": [
    "features_observe = pd.DataFrame([X_train_order.columns, xg_reg.feature_importances_]).T"
   ]
  },
  {
   "cell_type": "code",
   "execution_count": 136,
   "metadata": {},
   "outputs": [],
   "source": [
    "features_observe[2] = 0.005"
   ]
  },
  {
   "cell_type": "code",
   "execution_count": null,
   "metadata": {},
   "outputs": [],
   "source": []
  },
  {
   "cell_type": "code",
   "execution_count": 145,
   "metadata": {},
   "outputs": [],
   "source": [
    "# iterate_1_features  = features_observe[features_observe[1] > 0.005][0].values"
   ]
  },
  {
   "cell_type": "code",
   "execution_count": 202,
   "metadata": {},
   "outputs": [],
   "source": [
    "# iterate_2_features  = [fe for fe in features_observe[0] if fe not in ['calculate_look_back_Percent_1H',\n",
    "# 'calculate_look_back_Percent_4H',\n",
    "# 'calculate_look_back_Percent_24H',\n",
    "# '3min_minus_4H',\n",
    "# '3min_minus_24H',\n",
    "# '5min_minus_24H',\n",
    "# '2H_minus_24H',\n",
    "# '12H_minus_3D']]"
   ]
  },
  {
   "cell_type": "code",
   "execution_count": null,
   "metadata": {},
   "outputs": [],
   "source": []
  },
  {
   "cell_type": "code",
   "execution_count": null,
   "metadata": {},
   "outputs": [],
   "source": []
  },
  {
   "cell_type": "code",
   "execution_count": null,
   "metadata": {},
   "outputs": [],
   "source": []
  },
  {
   "cell_type": "code",
   "execution_count": null,
   "metadata": {},
   "outputs": [],
   "source": []
  },
  {
   "cell_type": "markdown",
   "metadata": {},
   "source": [
    "### memory reduction\n",
    "\n",
    "memory_X_to_train = X_train_order.iloc[:5,:5]\n",
    "\n",
    "memory_y_to_train = y_train_order[:5]\n",
    "\n",
    "memory_X_to_test = X_test_order.iloc[:5,:5]\n",
    "memory_y_to_test = y_test_order[:5]\n",
    "\n",
    "xg_reg.fit(memory_X_to_train, memory_y_to_train)\n",
    "\n",
    "preds = xg_reg.predict(memory_X_to_test)\n",
    "\n",
    "memory_y_to_test\n",
    "\n",
    "preds\n",
    "\n",
    "accu_sc = accuracy_score(y_true = memory_y_to_test, y_pred = preds)\n",
    "print(\"RMSE: %f\" % (accu_sc))"
   ]
  },
  {
   "cell_type": "code",
   "execution_count": null,
   "metadata": {},
   "outputs": [],
   "source": []
  },
  {
   "cell_type": "code",
   "execution_count": null,
   "metadata": {},
   "outputs": [],
   "source": []
  },
  {
   "cell_type": "code",
   "execution_count": null,
   "metadata": {},
   "outputs": [],
   "source": []
  },
  {
   "cell_type": "code",
   "execution_count": null,
   "metadata": {},
   "outputs": [],
   "source": []
  },
  {
   "cell_type": "code",
   "execution_count": null,
   "metadata": {},
   "outputs": [],
   "source": [
    "## Decision Tree"
   ]
  },
  {
   "cell_type": "markdown",
   "metadata": {},
   "source": [
    "buy_in_decision_classifier = DecisionTreeClassifier(max_leaf_nodes=10, random_state=0)\n",
    "buy_in_decision_classifier.fit(X_train_order, y_train_order)\n",
    "\n",
    "predictions = buy_in_decision_classifier.predict(X_test_order)\n",
    "\n",
    "accuracy_score(y_true = y_test_order, y_pred = predictions)\n",
    "\n",
    "for node in [2,3,4,5,6,8,10,12,15,20,25,30]:\n",
    "    for state_rand in [0,1,42,235,1995]:\n",
    "        buy_in_decision_classifier = DecisionTreeClassifier(max_leaf_nodes=node, random_state=state_rand)\n",
    "        buy_in_decision_classifier.fit(X_train_order, y_train_order)\n",
    "\n",
    "        predictions = buy_in_decision_classifier.predict(X_test_order)\n",
    "\n",
    "        print('node' , node, 'accuracy', accuracy_score(y_true = y_test_order, y_pred = predictions) , 'sate' , state_rand) \n",
    "\n",
    "\n",
    "\n",
    "#1\n",
    "\n",
    "node = 8\n",
    "state_rand = 0  #,1,42,235,1995]:\n",
    "buy_in_decision_classifier = DecisionTreeClassifier(max_leaf_nodes=node, random_state=state_rand)\n",
    "buy_in_decision_classifier.fit(X_train_order, y_train_order)\n",
    "\n",
    "predictions = buy_in_decision_classifier.predict(X_test_order)\n",
    "\n",
    "print(accuracy_score(y_true = y_test_order, y_pred = predictions) , 'sate' , state_rand) "
   ]
  },
  {
   "cell_type": "code",
   "execution_count": null,
   "metadata": {},
   "outputs": [],
   "source": []
  },
  {
   "cell_type": "code",
   "execution_count": null,
   "metadata": {},
   "outputs": [],
   "source": [
    "xg_reg.predict()"
   ]
  },
  {
   "cell_type": "code",
   "execution_count": null,
   "metadata": {},
   "outputs": [],
   "source": [
    "Counter(predictions)"
   ]
  },
  {
   "cell_type": "code",
   "execution_count": null,
   "metadata": {},
   "outputs": [],
   "source": [
    "Counter(y_test_order['Buy_In'])"
   ]
  },
  {
   "cell_type": "code",
   "execution_count": null,
   "metadata": {},
   "outputs": [],
   "source": [
    "predictions"
   ]
  },
  {
   "cell_type": "code",
   "execution_count": null,
   "metadata": {},
   "outputs": [],
   "source": [
    "dot_data = StringIO()\n",
    "export_graphviz(buy_in_decision_classifier,\n",
    "                feature_names=list(X_train_order.columns),\n",
    "                out_file=dot_data,  \n",
    "                filled=True, rounded=True,\n",
    "                special_characters=True)"
   ]
  },
  {
   "cell_type": "code",
   "execution_count": null,
   "metadata": {},
   "outputs": [],
   "source": [
    "graph = pydotplus.graph_from_dot_data(dot_data.getvalue())  "
   ]
  },
  {
   "cell_type": "code",
   "execution_count": null,
   "metadata": {},
   "outputs": [],
   "source": [
    "graph.write_png(\"tree.png\")\n"
   ]
  },
  {
   "cell_type": "code",
   "execution_count": null,
   "metadata": {},
   "outputs": [],
   "source": [
    "Image(graph.create_png())"
   ]
  },
  {
   "cell_type": "code",
   "execution_count": null,
   "metadata": {},
   "outputs": [],
   "source": []
  },
  {
   "cell_type": "markdown",
   "metadata": {},
   "source": [
    "## Testing theory"
   ]
  },
  {
   "cell_type": "code",
   "execution_count": 156,
   "metadata": {},
   "outputs": [
    {
     "data": {
      "text/html": [
       "<div>\n",
       "<style scoped>\n",
       "    .dataframe tbody tr th:only-of-type {\n",
       "        vertical-align: middle;\n",
       "    }\n",
       "\n",
       "    .dataframe tbody tr th {\n",
       "        vertical-align: top;\n",
       "    }\n",
       "\n",
       "    .dataframe thead th {\n",
       "        text-align: right;\n",
       "    }\n",
       "</style>\n",
       "<table border=\"1\" class=\"dataframe\">\n",
       "  <thead>\n",
       "    <tr style=\"text-align: right;\">\n",
       "      <th></th>\n",
       "      <th>datetime_real</th>\n",
       "      <th>timestamp_UTC_millisec</th>\n",
       "      <th>open_price</th>\n",
       "      <th>close_price</th>\n",
       "      <th>highest_price</th>\n",
       "      <th>lowest_price</th>\n",
       "      <th>volume</th>\n",
       "      <th>checking_timestamp_UTC_millisec</th>\n",
       "      <th>dif</th>\n",
       "      <th>timestamp_UTC</th>\n",
       "    </tr>\n",
       "  </thead>\n",
       "  <tbody>\n",
       "    <tr>\n",
       "      <th>0</th>\n",
       "      <td>2019-08-14 23:00:00</td>\n",
       "      <td>1565823600000</td>\n",
       "      <td>0.27050</td>\n",
       "      <td>0.27034</td>\n",
       "      <td>0.27050</td>\n",
       "      <td>0.27032</td>\n",
       "      <td>200.000000</td>\n",
       "      <td>1.565824e+12</td>\n",
       "      <td>60000.0</td>\n",
       "      <td>1.565824e+09</td>\n",
       "    </tr>\n",
       "    <tr>\n",
       "      <th>1</th>\n",
       "      <td>2019-08-14 23:01:00</td>\n",
       "      <td>1565823660000</td>\n",
       "      <td>0.27034</td>\n",
       "      <td>0.27014</td>\n",
       "      <td>0.27034</td>\n",
       "      <td>0.27011</td>\n",
       "      <td>6970.610576</td>\n",
       "      <td>1.565824e+12</td>\n",
       "      <td>60000.0</td>\n",
       "      <td>1.565824e+09</td>\n",
       "    </tr>\n",
       "    <tr>\n",
       "      <th>2</th>\n",
       "      <td>2019-08-14 23:02:00</td>\n",
       "      <td>1565823720000</td>\n",
       "      <td>0.27015</td>\n",
       "      <td>0.27031</td>\n",
       "      <td>0.27044</td>\n",
       "      <td>0.27015</td>\n",
       "      <td>9002.533511</td>\n",
       "      <td>1.565824e+12</td>\n",
       "      <td>60000.0</td>\n",
       "      <td>1.565824e+09</td>\n",
       "    </tr>\n",
       "    <tr>\n",
       "      <th>3</th>\n",
       "      <td>2019-08-14 23:03:00</td>\n",
       "      <td>1565823780000</td>\n",
       "      <td>0.27028</td>\n",
       "      <td>0.27028</td>\n",
       "      <td>0.27034</td>\n",
       "      <td>0.27027</td>\n",
       "      <td>22726.951973</td>\n",
       "      <td>1.565824e+12</td>\n",
       "      <td>60000.0</td>\n",
       "      <td>1.565824e+09</td>\n",
       "    </tr>\n",
       "    <tr>\n",
       "      <th>4</th>\n",
       "      <td>2019-08-14 23:04:00</td>\n",
       "      <td>1565823840000</td>\n",
       "      <td>0.27015</td>\n",
       "      <td>0.26971</td>\n",
       "      <td>0.27015</td>\n",
       "      <td>0.26932</td>\n",
       "      <td>115833.923778</td>\n",
       "      <td>1.565824e+12</td>\n",
       "      <td>60000.0</td>\n",
       "      <td>1.565824e+09</td>\n",
       "    </tr>\n",
       "  </tbody>\n",
       "</table>\n",
       "</div>"
      ],
      "text/plain": [
       "        datetime_real  timestamp_UTC_millisec  open_price  close_price  \\\n",
       "0 2019-08-14 23:00:00           1565823600000     0.27050      0.27034   \n",
       "1 2019-08-14 23:01:00           1565823660000     0.27034      0.27014   \n",
       "2 2019-08-14 23:02:00           1565823720000     0.27015      0.27031   \n",
       "3 2019-08-14 23:03:00           1565823780000     0.27028      0.27028   \n",
       "4 2019-08-14 23:04:00           1565823840000     0.27015      0.26971   \n",
       "\n",
       "   highest_price  lowest_price         volume  \\\n",
       "0        0.27050       0.27032     200.000000   \n",
       "1        0.27034       0.27011    6970.610576   \n",
       "2        0.27044       0.27015    9002.533511   \n",
       "3        0.27034       0.27027   22726.951973   \n",
       "4        0.27015       0.26932  115833.923778   \n",
       "\n",
       "   checking_timestamp_UTC_millisec      dif  timestamp_UTC  \n",
       "0                     1.565824e+12  60000.0   1.565824e+09  \n",
       "1                     1.565824e+12  60000.0   1.565824e+09  \n",
       "2                     1.565824e+12  60000.0   1.565824e+09  \n",
       "3                     1.565824e+12  60000.0   1.565824e+09  \n",
       "4                     1.565824e+12  60000.0   1.565824e+09  "
      ]
     },
     "execution_count": 156,
     "metadata": {},
     "output_type": "execute_result"
    }
   ],
   "source": [
    "XRP_for_testing.head()"
   ]
  },
  {
   "cell_type": "code",
   "execution_count": 157,
   "metadata": {},
   "outputs": [
    {
     "data": {
      "text/plain": [
       "<matplotlib.axes._subplots.AxesSubplot at 0x1cb723e5f98>"
      ]
     },
     "execution_count": 157,
     "metadata": {},
     "output_type": "execute_result"
    },
    {
     "data": {
      "image/png": "[encoded data removed]",
      "text/plain": [
       "<Figure size 432x288 with 1 Axes>"
      ]
     },
     "metadata": {
      "needs_background": "light"
     },
     "output_type": "display_data"
    }
   ],
   "source": [
    "XRP_for_testing[['close_price','datetime_real']].set_index('datetime_real').plot()"
   ]
  },
  {
   "cell_type": "code",
   "execution_count": 158,
   "metadata": {},
   "outputs": [],
   "source": [
    "section_period = {  '3min': 3,\n",
    "                    '4min': 4,\n",
    "                    '5min': 5,\n",
    "                    '10min': 10,\n",
    "                    '15min': 15,\n",
    "                    '20min': 20,\n",
    "                    '25min': 25,\n",
    "                    '30min': 30,\n",
    "                    '35min': 35,\n",
    "                    '40min': 40,\n",
    "                    '45min': 45,\n",
    "                    '50min': 50,\n",
    "                    '55min': 55,\n",
    "                    '1H': 60,\n",
    "                    '2H': 120,\n",
    "                    '4H': 240,\n",
    "                    '12H': 720,\n",
    "                    '24H': 1440,\n",
    "                    '2D': 2880,\n",
    "                    '3D': 4320,\n",
    "                    '4D': 5760,\n",
    "                    '5D': 7200,\n",
    "                    '10D': 14400}"
   ]
  },
  {
   "cell_type": "code",
   "execution_count": 159,
   "metadata": {},
   "outputs": [],
   "source": [
    "for k,v in section_period.items():\n",
    "    XRP_for_testing['{0}_RA_on_Close'.format(k)] = XRP_for_testing['close_price'].rolling(v).mean()"
   ]
  },
  {
   "cell_type": "code",
   "execution_count": 160,
   "metadata": {},
   "outputs": [],
   "source": [
    "compare_sequence = {}"
   ]
  },
  {
   "cell_type": "code",
   "execution_count": 161,
   "metadata": {},
   "outputs": [],
   "source": [
    "for col_1 in [d for d in XRP_for_testing.columns if '_RA_on_Close' in d]:\n",
    "    for col_2 in [d for d in XRP_for_testing.columns if '_RA_on_Close' in d]:\n",
    "        temp_1 = col_1.split('_RA_on_Close')[0]\n",
    "        temp_2 = col_2.split('_RA_on_Close')[0]\n",
    "        if temp_1 != temp_2:\n",
    "            if ((temp_1 + '_minus_' + temp_2) not in compare_sequence.keys() and (temp_2 + '_minus_' + temp_1) not in compare_sequence.keys() ):\n",
    "                compare_sequence.update({temp_1 + '_minus_' + temp_2 : [col_1, col_2]})"
   ]
  },
  {
   "cell_type": "code",
   "execution_count": 162,
   "metadata": {},
   "outputs": [],
   "source": [
    "for k, val in compare_sequence.items():\n",
    "    XRP_for_testing[k] = (XRP_for_testing[val[0]] - XRP_for_testing[val[1]])/XRP_for_testing[val[1]] \n",
    "#     print(k, val[0], val[1])"
   ]
  },
  {
   "cell_type": "code",
   "execution_count": 163,
   "metadata": {},
   "outputs": [],
   "source": [
    "for col in [d for d in XRP_for_testing.columns if '_RA_on_Close' in d]:\n",
    "    XRP_for_testing[col] = XRP_for_testing[col].shift(1)\n",
    "    \n",
    "    XRP_for_testing['{0}_close_percent_dif'.format(col.split('_RA_on_Close')[0])] = (XRP_for_testing['close_price']-XRP_for_testing[col])/XRP_for_testing[col] "
   ]
  },
  {
   "cell_type": "code",
   "execution_count": null,
   "metadata": {},
   "outputs": [],
   "source": []
  },
  {
   "cell_type": "code",
   "execution_count": null,
   "metadata": {},
   "outputs": [],
   "source": []
  },
  {
   "cell_type": "code",
   "execution_count": 164,
   "metadata": {},
   "outputs": [
    {
     "name": "stdout",
     "output_type": "stream",
     "text": [
      "3min 3\n",
      "4min 4\n",
      "5min 5\n",
      "10min 10\n",
      "15min 15\n",
      "20min 20\n",
      "25min 25\n",
      "30min 30\n",
      "35min 35\n",
      "40min 40\n",
      "45min 45\n",
      "50min 50\n",
      "55min 55\n",
      "1H 60\n",
      "2H 120\n",
      "4H 240\n",
      "12H 720\n",
      "24H 1440\n",
      "2D 2880\n",
      "3D 4320\n",
      "4D 5760\n",
      "5D 7200\n",
      "10D 14400\n",
      "3min 3\n",
      "4min 4\n",
      "5min 5\n",
      "10min 10\n",
      "15min 15\n",
      "20min 20\n",
      "25min 25\n",
      "30min 30\n",
      "35min 35\n",
      "40min 40\n",
      "45min 45\n",
      "50min 50\n",
      "55min 55\n",
      "1H 60\n",
      "2H 120\n",
      "4H 240\n",
      "12H 720\n",
      "24H 1440\n",
      "2D 2880\n",
      "3D 4320\n",
      "4D 5760\n",
      "5D 7200\n",
      "10D 14400\n"
     ]
    }
   ],
   "source": [
    "for k,v in section_period.items():\n",
    "    print(k,v)\n",
    "    XRP_for_testing['look_back_{}'.format(k)] = XRP_for_testing['close_price'].shift(v)   # i.e. 20min ago, this is what the close price is\n",
    "#     XRP_for_testing['look_forward_{}'.format(k)] = XRP_for_testing['close'].shift(-v)  # i.e. 20min later, the close price is\n",
    "\n",
    "\n",
    "for k,v in section_period.items():\n",
    "    print(k,v)\n",
    "    XRP_for_testing['calculate_look_back_Percent_{}'.format(k)]    = 100*(XRP_for_testing['close_price'] - XRP_for_testing['look_back_{}'.format(k)])/(5*v)\n",
    "#     XRP_for_testing['calculate_look_forward_Percent_{}'.format(k)] =  100*(XRP_for_testing['look_forward_{}'.format(k)] - XRP_for_testing['close'])/(5*v)"
   ]
  },
  {
   "cell_type": "code",
   "execution_count": null,
   "metadata": {},
   "outputs": [],
   "source": []
  },
  {
   "cell_type": "code",
   "execution_count": null,
   "metadata": {},
   "outputs": [],
   "source": [
    "## FInd out WHY:\n",
    "- XRP_for_testing_drop_na[properties].dropna() is different to XRP_for_testing.dropna()"
   ]
  },
  {
   "cell_type": "code",
   "execution_count": null,
   "metadata": {},
   "outputs": [],
   "source": []
  },
  {
   "cell_type": "code",
   "execution_count": null,
   "metadata": {},
   "outputs": [],
   "source": []
  },
  {
   "cell_type": "code",
   "execution_count": 185,
   "metadata": {},
   "outputs": [],
   "source": [
    "XRP_for_testing_drop_na = XRP_for_testing.dropna()"
   ]
  },
  {
   "cell_type": "code",
   "execution_count": 186,
   "metadata": {},
   "outputs": [
    {
     "data": {
      "text/plain": [
       "Counter({False: 86132, True: 12807})"
      ]
     },
     "execution_count": 186,
     "metadata": {},
     "output_type": "execute_result"
    }
   ],
   "source": [
    "Counter(xg_reg.predict(XRP_for_testing_drop_na[properties]))"
   ]
  },
  {
   "cell_type": "code",
   "execution_count": 187,
   "metadata": {},
   "outputs": [],
   "source": [
    "#(buy_in_decision_classifier.predict(XRP_for_testing[properties].dropna()))"
   ]
  },
  {
   "cell_type": "code",
   "execution_count": null,
   "metadata": {},
   "outputs": [],
   "source": []
  },
  {
   "cell_type": "code",
   "execution_count": 188,
   "metadata": {},
   "outputs": [
    {
     "data": {
      "text/plain": [
       "98939"
      ]
     },
     "execution_count": 188,
     "metadata": {},
     "output_type": "execute_result"
    }
   ],
   "source": [
    "len(XRP_for_testing.dropna())"
   ]
  },
  {
   "cell_type": "code",
   "execution_count": 189,
   "metadata": {},
   "outputs": [
    {
     "data": {
      "text/plain": [
       "98939"
      ]
     },
     "execution_count": 189,
     "metadata": {},
     "output_type": "execute_result"
    }
   ],
   "source": [
    "len(XRP_for_testing_drop_na)"
   ]
  },
  {
   "cell_type": "code",
   "execution_count": 190,
   "metadata": {},
   "outputs": [
    {
     "data": {
      "text/plain": [
       "98939"
      ]
     },
     "execution_count": 190,
     "metadata": {},
     "output_type": "execute_result"
    }
   ],
   "source": [
    "len(XRP_for_testing.dropna())"
   ]
  },
  {
   "cell_type": "code",
   "execution_count": 191,
   "metadata": {},
   "outputs": [
    {
     "data": {
      "text/plain": [
       "98939"
      ]
     },
     "execution_count": 191,
     "metadata": {},
     "output_type": "execute_result"
    }
   ],
   "source": [
    "len(xg_reg.predict(XRP_for_testing_drop_na[properties]))"
   ]
  },
  {
   "cell_type": "code",
   "execution_count": null,
   "metadata": {},
   "outputs": [],
   "source": []
  }
 ],
 "metadata": {
  "kernelspec": {
   "display_name": "Python 3",
   "language": "python",
   "name": "python3"
  },
  "language_info": {
   "codemirror_mode": {
    "name": "ipython",
    "version": 3
   },
   "file_extension": ".py",
   "mimetype": "text/x-python",
   "name": "python",
   "nbconvert_exporter": "python",
   "pygments_lexer": "ipython3",
   "version": "3.7.2"
  }
 },
 "nbformat": 4,
 "nbformat_minor": 4
}

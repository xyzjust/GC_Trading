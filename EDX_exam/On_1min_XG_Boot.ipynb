{
 "cells": [
  {
   "cell_type": "markdown",
   "metadata": {},
   "source": [
    "https://www.datacamp.com/community/tutorials/xgboost-in-python"
   ]
  },
  {
   "cell_type": "code",
   "execution_count": 149,
   "metadata": {},
   "outputs": [],
   "source": [
    "import os\n",
    "os.environ[\"PATH\"] += os.pathsep + 'C:/Program Files (x86)/Graphviz2.38/bin/'\n",
    "os.environ[\"PATH\"] += os.pathsep + 'D:/LatexPackage/miktex/bin/x64'"
   ]
  },
  {
   "cell_type": "code",
   "execution_count": 2,
   "metadata": {},
   "outputs": [],
   "source": [
    "import warnings\n",
    "warnings.filterwarnings(\"ignore\")\n"
   ]
  },
  {
   "cell_type": "code",
   "execution_count": 3,
   "metadata": {},
   "outputs": [],
   "source": [
    "from sklearn.datasets import load_boston"
   ]
  },
  {
   "cell_type": "code",
   "execution_count": 4,
   "metadata": {},
   "outputs": [],
   "source": [
    "import xgboost as xgb\n",
    "from sklearn.metrics import mean_squared_error"
   ]
  },
  {
   "cell_type": "code",
   "execution_count": 5,
   "metadata": {},
   "outputs": [],
   "source": [
    "import numpy as np\n",
    "\n",
    "import matplotlib.pyplot as plt\n",
    "\n",
    "import datetime as dt\n",
    "\n",
    "from datetime import datetime\n",
    "\n",
    "import pandas as pd\n",
    "import urllib.request\n",
    "     \n",
    "\n",
    "from IPython.display import clear_output"
   ]
  },
  {
   "cell_type": "code",
   "execution_count": 6,
   "metadata": {},
   "outputs": [],
   "source": [
    "boston = load_boston()"
   ]
  },
  {
   "cell_type": "code",
   "execution_count": 7,
   "metadata": {},
   "outputs": [],
   "source": [
    "data = pd.DataFrame(boston.data)\n",
    "data.columns = boston.feature_names"
   ]
  },
  {
   "cell_type": "code",
   "execution_count": 8,
   "metadata": {},
   "outputs": [],
   "source": [
    "data['PRICE'] = boston.target"
   ]
  },
  {
   "cell_type": "code",
   "execution_count": 9,
   "metadata": {},
   "outputs": [
    {
     "name": "stdout",
     "output_type": "stream",
     "text": [
      "<class 'pandas.core.frame.DataFrame'>\n",
      "RangeIndex: 506 entries, 0 to 505\n",
      "Data columns (total 14 columns):\n",
      "CRIM       506 non-null float64\n",
      "ZN         506 non-null float64\n",
      "INDUS      506 non-null float64\n",
      "CHAS       506 non-null float64\n",
      "NOX        506 non-null float64\n",
      "RM         506 non-null float64\n",
      "AGE        506 non-null float64\n",
      "DIS        506 non-null float64\n",
      "RAD        506 non-null float64\n",
      "TAX        506 non-null float64\n",
      "PTRATIO    506 non-null float64\n",
      "B          506 non-null float64\n",
      "LSTAT      506 non-null float64\n",
      "PRICE      506 non-null float64\n",
      "dtypes: float64(14)\n",
      "memory usage: 55.4 KB\n"
     ]
    }
   ],
   "source": [
    "data.info()"
   ]
  },
  {
   "cell_type": "code",
   "execution_count": 10,
   "metadata": {},
   "outputs": [],
   "source": [
    "X, y = data.iloc[:,:-1],data.iloc[:,-1]"
   ]
  },
  {
   "cell_type": "code",
   "execution_count": 11,
   "metadata": {},
   "outputs": [],
   "source": [
    "data_dmatrix = xgb.DMatrix(data=X,label=y)"
   ]
  },
  {
   "cell_type": "code",
   "execution_count": 12,
   "metadata": {},
   "outputs": [],
   "source": [
    "from sklearn.model_selection import train_test_split\n",
    "\n",
    "X_train, X_test, y_train, y_test = train_test_split(X, y, test_size=0.2, random_state=123)"
   ]
  },
  {
   "cell_type": "code",
   "execution_count": 13,
   "metadata": {},
   "outputs": [],
   "source": [
    "xg_reg = xgb.XGBRegressor(objective ='reg:squarederror', colsample_bytree = 0.3, learning_rate = 0.1,\n",
    "                max_depth = 5, alpha = 10, n_estimators = 10) #reg:logistic for tree\n"
   ]
  },
  {
   "cell_type": "code",
   "execution_count": 14,
   "metadata": {},
   "outputs": [],
   "source": [
    "xg_reg.fit(X_train,y_train)\n",
    "\n",
    "preds = xg_reg.predict(X_test)"
   ]
  },
  {
   "cell_type": "code",
   "execution_count": 15,
   "metadata": {},
   "outputs": [
    {
     "name": "stdout",
     "output_type": "stream",
     "text": [
      "RMSE: 10.170035\n"
     ]
    }
   ],
   "source": [
    "rmse = np.sqrt(mean_squared_error(y_test, preds))\n",
    "print(\"RMSE: %f\" % (rmse))"
   ]
  },
  {
   "cell_type": "code",
   "execution_count": null,
   "metadata": {},
   "outputs": [],
   "source": []
  },
  {
   "cell_type": "code",
   "execution_count": null,
   "metadata": {},
   "outputs": [],
   "source": []
  },
  {
   "cell_type": "code",
   "execution_count": null,
   "metadata": {},
   "outputs": [],
   "source": []
  },
  {
   "cell_type": "code",
   "execution_count": null,
   "metadata": {},
   "outputs": [],
   "source": []
  },
  {
   "cell_type": "markdown",
   "metadata": {},
   "source": [
    "# Starting of analysis"
   ]
  },
  {
   "cell_type": "markdown",
   "metadata": {},
   "source": [
    "### Get 1min XRP data"
   ]
  },
  {
   "cell_type": "code",
   "execution_count": 16,
   "metadata": {},
   "outputs": [],
   "source": [
    "XRP_USD_1min_path = 'D:\\Database\\Bitfinex-historical-data-master\\Bitfinex-historical-data-master\\XRPUSD\\Candles_1m'"
   ]
  },
  {
   "cell_type": "code",
   "execution_count": 17,
   "metadata": {},
   "outputs": [],
   "source": [
    "header_format = ['timestamp_UTC_millisec',\n",
    "'open_price',\n",
    "'close_price',\n",
    "'highest_price',\n",
    "'lowest_price',\n",
    "'volume']"
   ]
  },
  {
   "cell_type": "code",
   "execution_count": 18,
   "metadata": {},
   "outputs": [],
   "source": [
    "xrp_2018_full = pd.read_csv(XRP_USD_1min_path + '/2018/merged.csv', header=None)"
   ]
  },
  {
   "cell_type": "code",
   "execution_count": 19,
   "metadata": {},
   "outputs": [],
   "source": [
    "xrp_2019_until_Oct = pd.read_csv(XRP_USD_1min_path + '/2019/merged.csv', header=None)"
   ]
  },
  {
   "cell_type": "code",
   "execution_count": 20,
   "metadata": {},
   "outputs": [],
   "source": [
    "xrp_2018_full.columns = header_format"
   ]
  },
  {
   "cell_type": "code",
   "execution_count": 21,
   "metadata": {},
   "outputs": [],
   "source": [
    "xrp_2019_until_Oct.columns = header_format"
   ]
  },
  {
   "cell_type": "code",
   "execution_count": null,
   "metadata": {},
   "outputs": [],
   "source": []
  },
  {
   "cell_type": "code",
   "execution_count": 22,
   "metadata": {},
   "outputs": [],
   "source": [
    "xrp_2018_onwards = pd.concat([xrp_2018_full, xrp_2019_until_Oct])"
   ]
  },
  {
   "cell_type": "code",
   "execution_count": 23,
   "metadata": {},
   "outputs": [],
   "source": [
    "XRP_Data = xrp_2018_onwards[xrp_2018_onwards['timestamp_UTC_millisec'] >= 1534287600000]"
   ]
  },
  {
   "cell_type": "code",
   "execution_count": 24,
   "metadata": {},
   "outputs": [],
   "source": [
    "XRP_Data['datetime_real'] = XRP_Data['timestamp_UTC_millisec'].apply(lambda x: datetime.utcfromtimestamp(x/1000))"
   ]
  },
  {
   "cell_type": "code",
   "execution_count": 25,
   "metadata": {},
   "outputs": [
    {
     "data": {
      "text/plain": [
       "564561"
      ]
     },
     "execution_count": 25,
     "metadata": {},
     "output_type": "execute_result"
    }
   ],
   "source": [
    "len(XRP_Data)"
   ]
  },
  {
   "cell_type": "code",
   "execution_count": 26,
   "metadata": {},
   "outputs": [
    {
     "data": {
      "text/plain": [
       "Timestamp('2018-08-14 23:00:00')"
      ]
     },
     "execution_count": 26,
     "metadata": {},
     "output_type": "execute_result"
    }
   ],
   "source": [
    "XRP_Data['datetime_real'].min()"
   ]
  },
  {
   "cell_type": "code",
   "execution_count": 27,
   "metadata": {},
   "outputs": [
    {
     "data": {
      "text/plain": [
       "Timestamp('2019-11-01 15:59:00')"
      ]
     },
     "execution_count": 27,
     "metadata": {},
     "output_type": "execute_result"
    }
   ],
   "source": [
    "XRP_Data['datetime_real'].max()"
   ]
  },
  {
   "cell_type": "code",
   "execution_count": 28,
   "metadata": {},
   "outputs": [
    {
     "data": {
      "text/plain": [
       "Timedelta('443 days 16:59:00')"
      ]
     },
     "execution_count": 28,
     "metadata": {},
     "output_type": "execute_result"
    }
   ],
   "source": [
    "(XRP_Data['datetime_real'].max() - XRP_Data['datetime_real'].min())"
   ]
  },
  {
   "cell_type": "code",
   "execution_count": null,
   "metadata": {},
   "outputs": [],
   "source": []
  },
  {
   "cell_type": "code",
   "execution_count": 29,
   "metadata": {},
   "outputs": [],
   "source": [
    "XRP_Data['checking_timestamp_UTC_millisec'] = XRP_Data['timestamp_UTC_millisec'].shift(-1)"
   ]
  },
  {
   "cell_type": "code",
   "execution_count": 30,
   "metadata": {},
   "outputs": [],
   "source": [
    "XRP_Data['dif'] = XRP_Data['checking_timestamp_UTC_millisec'] - XRP_Data['timestamp_UTC_millisec']"
   ]
  },
  {
   "cell_type": "code",
   "execution_count": 31,
   "metadata": {},
   "outputs": [],
   "source": [
    "XRP_Data_resample_1min_ffill = XRP_Data.set_index('datetime_real').resample('1T').ffill()"
   ]
  },
  {
   "cell_type": "code",
   "execution_count": 32,
   "metadata": {},
   "outputs": [],
   "source": [
    "XRP_Data_resample_1min_ffill['checking_timestamp_UTC_millisec'] = XRP_Data_resample_1min_ffill['timestamp_UTC_millisec'].shift(-1)"
   ]
  },
  {
   "cell_type": "code",
   "execution_count": 33,
   "metadata": {},
   "outputs": [],
   "source": [
    "XRP_Data_resample_1min_ffill['dif'] = XRP_Data_resample_1min_ffill['checking_timestamp_UTC_millisec'] - XRP_Data_resample_1min_ffill['timestamp_UTC_millisec']"
   ]
  },
  {
   "cell_type": "code",
   "execution_count": 34,
   "metadata": {},
   "outputs": [],
   "source": [
    "XRP_Data_resample_1min_ffill['timestamp_UTC'] = XRP_Data_resample_1min_ffill['timestamp_UTC_millisec']/1000"
   ]
  },
  {
   "cell_type": "code",
   "execution_count": null,
   "metadata": {},
   "outputs": [],
   "source": []
  },
  {
   "cell_type": "code",
   "execution_count": null,
   "metadata": {},
   "outputs": [],
   "source": []
  },
  {
   "cell_type": "code",
   "execution_count": 35,
   "metadata": {},
   "outputs": [
    {
     "data": {
      "text/html": [
       "<div>\n",
       "<style scoped>\n",
       "    .dataframe tbody tr th:only-of-type {\n",
       "        vertical-align: middle;\n",
       "    }\n",
       "\n",
       "    .dataframe tbody tr th {\n",
       "        vertical-align: top;\n",
       "    }\n",
       "\n",
       "    .dataframe thead th {\n",
       "        text-align: right;\n",
       "    }\n",
       "</style>\n",
       "<table border=\"1\" class=\"dataframe\">\n",
       "  <thead>\n",
       "    <tr style=\"text-align: right;\">\n",
       "      <th></th>\n",
       "      <th>timestamp_UTC_millisec</th>\n",
       "      <th>open_price</th>\n",
       "      <th>close_price</th>\n",
       "      <th>highest_price</th>\n",
       "      <th>lowest_price</th>\n",
       "      <th>volume</th>\n",
       "      <th>checking_timestamp_UTC_millisec</th>\n",
       "      <th>dif</th>\n",
       "      <th>timestamp_UTC</th>\n",
       "    </tr>\n",
       "    <tr>\n",
       "      <th>datetime_real</th>\n",
       "      <th></th>\n",
       "      <th></th>\n",
       "      <th></th>\n",
       "      <th></th>\n",
       "      <th></th>\n",
       "      <th></th>\n",
       "      <th></th>\n",
       "      <th></th>\n",
       "      <th></th>\n",
       "    </tr>\n",
       "  </thead>\n",
       "  <tbody>\n",
       "    <tr>\n",
       "      <th>2018-08-14 23:00:00</th>\n",
       "      <td>1534287600000</td>\n",
       "      <td>0.26444</td>\n",
       "      <td>0.26427</td>\n",
       "      <td>0.26448</td>\n",
       "      <td>0.26427</td>\n",
       "      <td>21493.134691</td>\n",
       "      <td>1.534288e+12</td>\n",
       "      <td>60000.0</td>\n",
       "      <td>1.534288e+09</td>\n",
       "    </tr>\n",
       "    <tr>\n",
       "      <th>2018-08-14 23:01:00</th>\n",
       "      <td>1534287660000</td>\n",
       "      <td>0.26410</td>\n",
       "      <td>0.26408</td>\n",
       "      <td>0.26418</td>\n",
       "      <td>0.26408</td>\n",
       "      <td>6316.950507</td>\n",
       "      <td>1.534288e+12</td>\n",
       "      <td>60000.0</td>\n",
       "      <td>1.534288e+09</td>\n",
       "    </tr>\n",
       "    <tr>\n",
       "      <th>2018-08-14 23:02:00</th>\n",
       "      <td>1534287720000</td>\n",
       "      <td>0.26419</td>\n",
       "      <td>0.26429</td>\n",
       "      <td>0.26429</td>\n",
       "      <td>0.26390</td>\n",
       "      <td>15876.859198</td>\n",
       "      <td>1.534288e+12</td>\n",
       "      <td>60000.0</td>\n",
       "      <td>1.534288e+09</td>\n",
       "    </tr>\n",
       "    <tr>\n",
       "      <th>2018-08-14 23:03:00</th>\n",
       "      <td>1534287780000</td>\n",
       "      <td>0.26389</td>\n",
       "      <td>0.26359</td>\n",
       "      <td>0.26389</td>\n",
       "      <td>0.26359</td>\n",
       "      <td>15102.000000</td>\n",
       "      <td>1.534288e+12</td>\n",
       "      <td>60000.0</td>\n",
       "      <td>1.534288e+09</td>\n",
       "    </tr>\n",
       "    <tr>\n",
       "      <th>2018-08-14 23:04:00</th>\n",
       "      <td>1534287840000</td>\n",
       "      <td>0.26368</td>\n",
       "      <td>0.26359</td>\n",
       "      <td>0.26379</td>\n",
       "      <td>0.26359</td>\n",
       "      <td>6305.473357</td>\n",
       "      <td>1.534288e+12</td>\n",
       "      <td>60000.0</td>\n",
       "      <td>1.534288e+09</td>\n",
       "    </tr>\n",
       "  </tbody>\n",
       "</table>\n",
       "</div>"
      ],
      "text/plain": [
       "                     timestamp_UTC_millisec  open_price  close_price  \\\n",
       "datetime_real                                                          \n",
       "2018-08-14 23:00:00           1534287600000     0.26444      0.26427   \n",
       "2018-08-14 23:01:00           1534287660000     0.26410      0.26408   \n",
       "2018-08-14 23:02:00           1534287720000     0.26419      0.26429   \n",
       "2018-08-14 23:03:00           1534287780000     0.26389      0.26359   \n",
       "2018-08-14 23:04:00           1534287840000     0.26368      0.26359   \n",
       "\n",
       "                     highest_price  lowest_price        volume  \\\n",
       "datetime_real                                                    \n",
       "2018-08-14 23:00:00        0.26448       0.26427  21493.134691   \n",
       "2018-08-14 23:01:00        0.26418       0.26408   6316.950507   \n",
       "2018-08-14 23:02:00        0.26429       0.26390  15876.859198   \n",
       "2018-08-14 23:03:00        0.26389       0.26359  15102.000000   \n",
       "2018-08-14 23:04:00        0.26379       0.26359   6305.473357   \n",
       "\n",
       "                     checking_timestamp_UTC_millisec      dif  timestamp_UTC  \n",
       "datetime_real                                                                 \n",
       "2018-08-14 23:00:00                     1.534288e+12  60000.0   1.534288e+09  \n",
       "2018-08-14 23:01:00                     1.534288e+12  60000.0   1.534288e+09  \n",
       "2018-08-14 23:02:00                     1.534288e+12  60000.0   1.534288e+09  \n",
       "2018-08-14 23:03:00                     1.534288e+12  60000.0   1.534288e+09  \n",
       "2018-08-14 23:04:00                     1.534288e+12  60000.0   1.534288e+09  "
      ]
     },
     "execution_count": 35,
     "metadata": {},
     "output_type": "execute_result"
    }
   ],
   "source": [
    "XRP_Data_resample_1min_ffill.head()"
   ]
  },
  {
   "cell_type": "markdown",
   "metadata": {},
   "source": [
    "#### rough check on data"
   ]
  },
  {
   "cell_type": "code",
   "execution_count": 36,
   "metadata": {},
   "outputs": [
    {
     "data": {
      "text/plain": [
       "<matplotlib.axes._subplots.AxesSubplot at 0x1b96ec29eb8>"
      ]
     },
     "execution_count": 36,
     "metadata": {},
     "output_type": "execute_result"
    },
    {
     "data": {
      "image/png": "[encoded data removed]",
      "text/plain": [
       "<Figure size 720x360 with 1 Axes>"
      ]
     },
     "metadata": {
      "needs_background": "light"
     },
     "output_type": "display_data"
    }
   ],
   "source": [
    "XRP_Data_resample_1min_ffill[['close_price']].plot(figsize = (10,5))"
   ]
  },
  {
   "cell_type": "code",
   "execution_count": 37,
   "metadata": {},
   "outputs": [
    {
     "data": {
      "text/html": [
       "<div>\n",
       "<style scoped>\n",
       "    .dataframe tbody tr th:only-of-type {\n",
       "        vertical-align: middle;\n",
       "    }\n",
       "\n",
       "    .dataframe tbody tr th {\n",
       "        vertical-align: top;\n",
       "    }\n",
       "\n",
       "    .dataframe thead th {\n",
       "        text-align: right;\n",
       "    }\n",
       "</style>\n",
       "<table border=\"1\" class=\"dataframe\">\n",
       "  <thead>\n",
       "    <tr style=\"text-align: right;\">\n",
       "      <th></th>\n",
       "      <th>timestamp_UTC_millisec</th>\n",
       "      <th>open_price</th>\n",
       "      <th>close_price</th>\n",
       "      <th>highest_price</th>\n",
       "      <th>lowest_price</th>\n",
       "      <th>volume</th>\n",
       "      <th>checking_timestamp_UTC_millisec</th>\n",
       "      <th>dif</th>\n",
       "      <th>timestamp_UTC</th>\n",
       "    </tr>\n",
       "    <tr>\n",
       "      <th>datetime_real</th>\n",
       "      <th></th>\n",
       "      <th></th>\n",
       "      <th></th>\n",
       "      <th></th>\n",
       "      <th></th>\n",
       "      <th></th>\n",
       "      <th></th>\n",
       "      <th></th>\n",
       "      <th></th>\n",
       "    </tr>\n",
       "  </thead>\n",
       "  <tbody>\n",
       "    <tr>\n",
       "      <th>2019-11-01 15:50:00</th>\n",
       "      <td>1572623400000</td>\n",
       "      <td>0.29032</td>\n",
       "      <td>0.29029</td>\n",
       "      <td>0.29032</td>\n",
       "      <td>0.29029</td>\n",
       "      <td>18977.229740</td>\n",
       "      <td>1.572623e+12</td>\n",
       "      <td>60000.0</td>\n",
       "      <td>1.572623e+09</td>\n",
       "    </tr>\n",
       "    <tr>\n",
       "      <th>2019-11-01 15:51:00</th>\n",
       "      <td>1572623460000</td>\n",
       "      <td>0.29034</td>\n",
       "      <td>0.29030</td>\n",
       "      <td>0.29035</td>\n",
       "      <td>0.29030</td>\n",
       "      <td>11583.433064</td>\n",
       "      <td>1.572624e+12</td>\n",
       "      <td>60000.0</td>\n",
       "      <td>1.572623e+09</td>\n",
       "    </tr>\n",
       "    <tr>\n",
       "      <th>2019-11-01 15:52:00</th>\n",
       "      <td>1572623520000</td>\n",
       "      <td>0.29070</td>\n",
       "      <td>0.29046</td>\n",
       "      <td>0.29071</td>\n",
       "      <td>0.29046</td>\n",
       "      <td>205.000000</td>\n",
       "      <td>1.572624e+12</td>\n",
       "      <td>60000.0</td>\n",
       "      <td>1.572624e+09</td>\n",
       "    </tr>\n",
       "    <tr>\n",
       "      <th>2019-11-01 15:53:00</th>\n",
       "      <td>1572623580000</td>\n",
       "      <td>0.29058</td>\n",
       "      <td>0.29077</td>\n",
       "      <td>0.29077</td>\n",
       "      <td>0.29046</td>\n",
       "      <td>20164.038042</td>\n",
       "      <td>1.572624e+12</td>\n",
       "      <td>0.0</td>\n",
       "      <td>1.572624e+09</td>\n",
       "    </tr>\n",
       "    <tr>\n",
       "      <th>2019-11-01 15:54:00</th>\n",
       "      <td>1572623580000</td>\n",
       "      <td>0.29058</td>\n",
       "      <td>0.29077</td>\n",
       "      <td>0.29077</td>\n",
       "      <td>0.29046</td>\n",
       "      <td>20164.038042</td>\n",
       "      <td>1.572624e+12</td>\n",
       "      <td>120000.0</td>\n",
       "      <td>1.572624e+09</td>\n",
       "    </tr>\n",
       "    <tr>\n",
       "      <th>2019-11-01 15:55:00</th>\n",
       "      <td>1572623700000</td>\n",
       "      <td>0.29083</td>\n",
       "      <td>0.29173</td>\n",
       "      <td>0.29173</td>\n",
       "      <td>0.29083</td>\n",
       "      <td>1570.393827</td>\n",
       "      <td>1.572624e+12</td>\n",
       "      <td>60000.0</td>\n",
       "      <td>1.572624e+09</td>\n",
       "    </tr>\n",
       "    <tr>\n",
       "      <th>2019-11-01 15:56:00</th>\n",
       "      <td>1572623760000</td>\n",
       "      <td>0.29161</td>\n",
       "      <td>0.29150</td>\n",
       "      <td>0.29161</td>\n",
       "      <td>0.29120</td>\n",
       "      <td>4022.034331</td>\n",
       "      <td>1.572624e+12</td>\n",
       "      <td>60000.0</td>\n",
       "      <td>1.572624e+09</td>\n",
       "    </tr>\n",
       "    <tr>\n",
       "      <th>2019-11-01 15:57:00</th>\n",
       "      <td>1572623820000</td>\n",
       "      <td>0.29180</td>\n",
       "      <td>0.29154</td>\n",
       "      <td>0.29207</td>\n",
       "      <td>0.29154</td>\n",
       "      <td>6854.915950</td>\n",
       "      <td>1.572624e+12</td>\n",
       "      <td>60000.0</td>\n",
       "      <td>1.572624e+09</td>\n",
       "    </tr>\n",
       "    <tr>\n",
       "      <th>2019-11-01 15:58:00</th>\n",
       "      <td>1572623880000</td>\n",
       "      <td>0.29139</td>\n",
       "      <td>0.29030</td>\n",
       "      <td>0.29151</td>\n",
       "      <td>0.29030</td>\n",
       "      <td>8296.541362</td>\n",
       "      <td>1.572624e+12</td>\n",
       "      <td>60000.0</td>\n",
       "      <td>1.572624e+09</td>\n",
       "    </tr>\n",
       "    <tr>\n",
       "      <th>2019-11-01 15:59:00</th>\n",
       "      <td>1572623940000</td>\n",
       "      <td>0.29042</td>\n",
       "      <td>0.28860</td>\n",
       "      <td>0.29053</td>\n",
       "      <td>0.28855</td>\n",
       "      <td>210112.952304</td>\n",
       "      <td>NaN</td>\n",
       "      <td>NaN</td>\n",
       "      <td>1.572624e+09</td>\n",
       "    </tr>\n",
       "  </tbody>\n",
       "</table>\n",
       "</div>"
      ],
      "text/plain": [
       "                     timestamp_UTC_millisec  open_price  close_price  \\\n",
       "datetime_real                                                          \n",
       "2019-11-01 15:50:00           1572623400000     0.29032      0.29029   \n",
       "2019-11-01 15:51:00           1572623460000     0.29034      0.29030   \n",
       "2019-11-01 15:52:00           1572623520000     0.29070      0.29046   \n",
       "2019-11-01 15:53:00           1572623580000     0.29058      0.29077   \n",
       "2019-11-01 15:54:00           1572623580000     0.29058      0.29077   \n",
       "2019-11-01 15:55:00           1572623700000     0.29083      0.29173   \n",
       "2019-11-01 15:56:00           1572623760000     0.29161      0.29150   \n",
       "2019-11-01 15:57:00           1572623820000     0.29180      0.29154   \n",
       "2019-11-01 15:58:00           1572623880000     0.29139      0.29030   \n",
       "2019-11-01 15:59:00           1572623940000     0.29042      0.28860   \n",
       "\n",
       "                     highest_price  lowest_price         volume  \\\n",
       "datetime_real                                                     \n",
       "2019-11-01 15:50:00        0.29032       0.29029   18977.229740   \n",
       "2019-11-01 15:51:00        0.29035       0.29030   11583.433064   \n",
       "2019-11-01 15:52:00        0.29071       0.29046     205.000000   \n",
       "2019-11-01 15:53:00        0.29077       0.29046   20164.038042   \n",
       "2019-11-01 15:54:00        0.29077       0.29046   20164.038042   \n",
       "2019-11-01 15:55:00        0.29173       0.29083    1570.393827   \n",
       "2019-11-01 15:56:00        0.29161       0.29120    4022.034331   \n",
       "2019-11-01 15:57:00        0.29207       0.29154    6854.915950   \n",
       "2019-11-01 15:58:00        0.29151       0.29030    8296.541362   \n",
       "2019-11-01 15:59:00        0.29053       0.28855  210112.952304   \n",
       "\n",
       "                     checking_timestamp_UTC_millisec       dif  timestamp_UTC  \n",
       "datetime_real                                                                  \n",
       "2019-11-01 15:50:00                     1.572623e+12   60000.0   1.572623e+09  \n",
       "2019-11-01 15:51:00                     1.572624e+12   60000.0   1.572623e+09  \n",
       "2019-11-01 15:52:00                     1.572624e+12   60000.0   1.572624e+09  \n",
       "2019-11-01 15:53:00                     1.572624e+12       0.0   1.572624e+09  \n",
       "2019-11-01 15:54:00                     1.572624e+12  120000.0   1.572624e+09  \n",
       "2019-11-01 15:55:00                     1.572624e+12   60000.0   1.572624e+09  \n",
       "2019-11-01 15:56:00                     1.572624e+12   60000.0   1.572624e+09  \n",
       "2019-11-01 15:57:00                     1.572624e+12   60000.0   1.572624e+09  \n",
       "2019-11-01 15:58:00                     1.572624e+12   60000.0   1.572624e+09  \n",
       "2019-11-01 15:59:00                              NaN       NaN   1.572624e+09  "
      ]
     },
     "execution_count": 37,
     "metadata": {},
     "output_type": "execute_result"
    }
   ],
   "source": [
    "XRP_Data_resample_1min_ffill.tail(10)"
   ]
  },
  {
   "cell_type": "code",
   "execution_count": 38,
   "metadata": {},
   "outputs": [
    {
     "name": "stdout",
     "output_type": "stream",
     "text": [
      "\n",
      " selecting '2018-08-15 00:00:00' as the starting time as it bypasses the past crypto rush\n"
     ]
    },
    {
     "data": {
      "image/png": "[encoded data removed]",
      "text/plain": [
       "<Figure size 1512x504 with 1 Axes>"
      ]
     },
     "metadata": {
      "needs_background": "light"
     },
     "output_type": "display_data"
    }
   ],
   "source": [
    "ploting_breakdown = XRP_Data_resample_1min_ffill.reset_index()\n",
    "\n",
    "plt.figure(figsize= (21,7))\n",
    "\n",
    "\n",
    "# tran_y_low = ploting_breakdown['low']\n",
    "# tran_y_high = ploting_breakdown['high']\n",
    "tran_y_close = ploting_breakdown['close_price']\n",
    "\n",
    "tran_x = ploting_breakdown['timestamp_UTC_millisec']\n",
    "\n",
    "\n",
    "# plt.plot(tran_x, tran_y_low, alpha = 0.1)\n",
    "# plt.plot(tran_x, tran_y_high , alpha  = 0.1)\n",
    "\n",
    "plt.plot(tran_x, tran_y_close, alpha  = 1)\n",
    "\n",
    "\n",
    "# start = 45000\n",
    "# dealta_t = 10000\n",
    "time_section = {45000 : 13000,\n",
    "                63000 : 8000 ,\n",
    "                71000 : 10000,\n",
    "                180000: 10000}  # start // delta_t\n",
    "\n",
    "\n",
    "\n",
    "# plt.vlines(1534287600000, 0, 1, alpha = 1, color = 'g',linestyle = 'dashed')\n",
    "    \n",
    "plt.legend()\n",
    "plt.grid()\n",
    "print(\"\\n selecting '2018-08-15 00:00:00' as the starting time as it bypasses the past crypto rush\")"
   ]
  },
  {
   "cell_type": "code",
   "execution_count": null,
   "metadata": {},
   "outputs": [],
   "source": []
  },
  {
   "cell_type": "code",
   "execution_count": null,
   "metadata": {},
   "outputs": [],
   "source": []
  },
  {
   "cell_type": "code",
   "execution_count": 39,
   "metadata": {},
   "outputs": [
    {
     "data": {
      "text/html": [
       "<div>\n",
       "<style scoped>\n",
       "    .dataframe tbody tr th:only-of-type {\n",
       "        vertical-align: middle;\n",
       "    }\n",
       "\n",
       "    .dataframe tbody tr th {\n",
       "        vertical-align: top;\n",
       "    }\n",
       "\n",
       "    .dataframe thead th {\n",
       "        text-align: right;\n",
       "    }\n",
       "</style>\n",
       "<table border=\"1\" class=\"dataframe\">\n",
       "  <thead>\n",
       "    <tr style=\"text-align: right;\">\n",
       "      <th></th>\n",
       "      <th>datetime_real</th>\n",
       "      <th>timestamp_UTC_millisec</th>\n",
       "      <th>open_price</th>\n",
       "      <th>close_price</th>\n",
       "      <th>highest_price</th>\n",
       "      <th>lowest_price</th>\n",
       "      <th>volume</th>\n",
       "      <th>checking_timestamp_UTC_millisec</th>\n",
       "      <th>dif</th>\n",
       "      <th>timestamp_UTC</th>\n",
       "    </tr>\n",
       "  </thead>\n",
       "  <tbody>\n",
       "    <tr>\n",
       "      <th>60</th>\n",
       "      <td>2018-08-15</td>\n",
       "      <td>1534291200000</td>\n",
       "      <td>0.27279</td>\n",
       "      <td>0.2734</td>\n",
       "      <td>0.27349</td>\n",
       "      <td>0.27279</td>\n",
       "      <td>17252.63782</td>\n",
       "      <td>1.534291e+12</td>\n",
       "      <td>60000.0</td>\n",
       "      <td>1.534291e+09</td>\n",
       "    </tr>\n",
       "  </tbody>\n",
       "</table>\n",
       "</div>"
      ],
      "text/plain": [
       "   datetime_real  timestamp_UTC_millisec  open_price  close_price  \\\n",
       "60    2018-08-15           1534291200000     0.27279       0.2734   \n",
       "\n",
       "    highest_price  lowest_price       volume  checking_timestamp_UTC_millisec  \\\n",
       "60        0.27349       0.27279  17252.63782                     1.534291e+12   \n",
       "\n",
       "        dif  timestamp_UTC  \n",
       "60  60000.0   1.534291e+09  "
      ]
     },
     "execution_count": 39,
     "metadata": {},
     "output_type": "execute_result"
    }
   ],
   "source": [
    "ploting_breakdown[ploting_breakdown['datetime_real'] == '2018-08-15 00:00:00']"
   ]
  },
  {
   "cell_type": "code",
   "execution_count": 40,
   "metadata": {},
   "outputs": [
    {
     "data": {
      "text/html": [
       "<div>\n",
       "<style scoped>\n",
       "    .dataframe tbody tr th:only-of-type {\n",
       "        vertical-align: middle;\n",
       "    }\n",
       "\n",
       "    .dataframe tbody tr th {\n",
       "        vertical-align: top;\n",
       "    }\n",
       "\n",
       "    .dataframe thead th {\n",
       "        text-align: right;\n",
       "    }\n",
       "</style>\n",
       "<table border=\"1\" class=\"dataframe\">\n",
       "  <thead>\n",
       "    <tr style=\"text-align: right;\">\n",
       "      <th></th>\n",
       "      <th>datetime_real</th>\n",
       "      <th>timestamp_UTC_millisec</th>\n",
       "      <th>open_price</th>\n",
       "      <th>close_price</th>\n",
       "      <th>highest_price</th>\n",
       "      <th>lowest_price</th>\n",
       "      <th>volume</th>\n",
       "      <th>checking_timestamp_UTC_millisec</th>\n",
       "      <th>dif</th>\n",
       "      <th>timestamp_UTC</th>\n",
       "    </tr>\n",
       "  </thead>\n",
       "  <tbody>\n",
       "    <tr>\n",
       "      <th>525660</th>\n",
       "      <td>2019-08-15</td>\n",
       "      <td>1565827200000</td>\n",
       "      <td>0.26373</td>\n",
       "      <td>0.26559</td>\n",
       "      <td>0.26559</td>\n",
       "      <td>0.26363</td>\n",
       "      <td>166192.961293</td>\n",
       "      <td>1.565827e+12</td>\n",
       "      <td>60000.0</td>\n",
       "      <td>1.565827e+09</td>\n",
       "    </tr>\n",
       "  </tbody>\n",
       "</table>\n",
       "</div>"
      ],
      "text/plain": [
       "       datetime_real  timestamp_UTC_millisec  open_price  close_price  \\\n",
       "525660    2019-08-15           1565827200000     0.26373      0.26559   \n",
       "\n",
       "        highest_price  lowest_price         volume  \\\n",
       "525660        0.26559       0.26363  166192.961293   \n",
       "\n",
       "        checking_timestamp_UTC_millisec      dif  timestamp_UTC  \n",
       "525660                     1.565827e+12  60000.0   1.565827e+09  "
      ]
     },
     "execution_count": 40,
     "metadata": {},
     "output_type": "execute_result"
    }
   ],
   "source": [
    "ploting_breakdown[ploting_breakdown['datetime_real'] == '2019-08-15 00:00:00']"
   ]
  },
  {
   "cell_type": "code",
   "execution_count": null,
   "metadata": {},
   "outputs": [],
   "source": []
  },
  {
   "cell_type": "code",
   "execution_count": null,
   "metadata": {},
   "outputs": [],
   "source": []
  },
  {
   "cell_type": "markdown",
   "metadata": {},
   "source": [
    "## Saving Data "
   ]
  },
  {
   "cell_type": "code",
   "execution_count": 41,
   "metadata": {},
   "outputs": [],
   "source": [
    "# XRP_Data_backUp = XRP_Data_resample_1min_ffill.copy()"
   ]
  },
  {
   "cell_type": "markdown",
   "metadata": {},
   "source": [
    "## Copy for testing"
   ]
  },
  {
   "cell_type": "raw",
   "metadata": {},
   "source": [
    "here we have a double test, where:\n",
    "    - XRP_for_training : is used as a main source of data for training as well as testing\n",
    "    - XRP_for_testing  : is used as a form of real time blind test"
   ]
  },
  {
   "cell_type": "code",
   "execution_count": 42,
   "metadata": {},
   "outputs": [],
   "source": [
    "XRP_for_training =XRP_Data_resample_1min_ffill[(XRP_Data_resample_1min_ffill['timestamp_UTC'] >= 1534287600) &\n",
    "                           (XRP_Data_resample_1min_ffill['timestamp_UTC'] <1565823600)].reset_index().copy()"
   ]
  },
  {
   "cell_type": "code",
   "execution_count": 43,
   "metadata": {},
   "outputs": [],
   "source": [
    "XRP_for_testing =XRP_Data_resample_1min_ffill[(XRP_Data_resample_1min_ffill['timestamp_UTC'] >= 1565823600)].reset_index().copy()"
   ]
  },
  {
   "cell_type": "code",
   "execution_count": 44,
   "metadata": {},
   "outputs": [
    {
     "data": {
      "text/html": [
       "<div>\n",
       "<style scoped>\n",
       "    .dataframe tbody tr th:only-of-type {\n",
       "        vertical-align: middle;\n",
       "    }\n",
       "\n",
       "    .dataframe tbody tr th {\n",
       "        vertical-align: top;\n",
       "    }\n",
       "\n",
       "    .dataframe thead th {\n",
       "        text-align: right;\n",
       "    }\n",
       "</style>\n",
       "<table border=\"1\" class=\"dataframe\">\n",
       "  <thead>\n",
       "    <tr style=\"text-align: right;\">\n",
       "      <th></th>\n",
       "      <th>datetime_real</th>\n",
       "      <th>timestamp_UTC_millisec</th>\n",
       "      <th>open_price</th>\n",
       "      <th>close_price</th>\n",
       "      <th>highest_price</th>\n",
       "      <th>lowest_price</th>\n",
       "      <th>volume</th>\n",
       "      <th>checking_timestamp_UTC_millisec</th>\n",
       "      <th>dif</th>\n",
       "      <th>timestamp_UTC</th>\n",
       "    </tr>\n",
       "  </thead>\n",
       "  <tbody>\n",
       "    <tr>\n",
       "      <th>0</th>\n",
       "      <td>2019-08-14 23:00:00</td>\n",
       "      <td>1565823600000</td>\n",
       "      <td>0.27050</td>\n",
       "      <td>0.27034</td>\n",
       "      <td>0.27050</td>\n",
       "      <td>0.27032</td>\n",
       "      <td>200.000000</td>\n",
       "      <td>1.565824e+12</td>\n",
       "      <td>60000.0</td>\n",
       "      <td>1.565824e+09</td>\n",
       "    </tr>\n",
       "    <tr>\n",
       "      <th>1</th>\n",
       "      <td>2019-08-14 23:01:00</td>\n",
       "      <td>1565823660000</td>\n",
       "      <td>0.27034</td>\n",
       "      <td>0.27014</td>\n",
       "      <td>0.27034</td>\n",
       "      <td>0.27011</td>\n",
       "      <td>6970.610576</td>\n",
       "      <td>1.565824e+12</td>\n",
       "      <td>60000.0</td>\n",
       "      <td>1.565824e+09</td>\n",
       "    </tr>\n",
       "    <tr>\n",
       "      <th>2</th>\n",
       "      <td>2019-08-14 23:02:00</td>\n",
       "      <td>1565823720000</td>\n",
       "      <td>0.27015</td>\n",
       "      <td>0.27031</td>\n",
       "      <td>0.27044</td>\n",
       "      <td>0.27015</td>\n",
       "      <td>9002.533511</td>\n",
       "      <td>1.565824e+12</td>\n",
       "      <td>60000.0</td>\n",
       "      <td>1.565824e+09</td>\n",
       "    </tr>\n",
       "    <tr>\n",
       "      <th>3</th>\n",
       "      <td>2019-08-14 23:03:00</td>\n",
       "      <td>1565823780000</td>\n",
       "      <td>0.27028</td>\n",
       "      <td>0.27028</td>\n",
       "      <td>0.27034</td>\n",
       "      <td>0.27027</td>\n",
       "      <td>22726.951973</td>\n",
       "      <td>1.565824e+12</td>\n",
       "      <td>60000.0</td>\n",
       "      <td>1.565824e+09</td>\n",
       "    </tr>\n",
       "    <tr>\n",
       "      <th>4</th>\n",
       "      <td>2019-08-14 23:04:00</td>\n",
       "      <td>1565823840000</td>\n",
       "      <td>0.27015</td>\n",
       "      <td>0.26971</td>\n",
       "      <td>0.27015</td>\n",
       "      <td>0.26932</td>\n",
       "      <td>115833.923778</td>\n",
       "      <td>1.565824e+12</td>\n",
       "      <td>60000.0</td>\n",
       "      <td>1.565824e+09</td>\n",
       "    </tr>\n",
       "  </tbody>\n",
       "</table>\n",
       "</div>"
      ],
      "text/plain": [
       "        datetime_real  timestamp_UTC_millisec  open_price  close_price  \\\n",
       "0 2019-08-14 23:00:00           1565823600000     0.27050      0.27034   \n",
       "1 2019-08-14 23:01:00           1565823660000     0.27034      0.27014   \n",
       "2 2019-08-14 23:02:00           1565823720000     0.27015      0.27031   \n",
       "3 2019-08-14 23:03:00           1565823780000     0.27028      0.27028   \n",
       "4 2019-08-14 23:04:00           1565823840000     0.27015      0.26971   \n",
       "\n",
       "   highest_price  lowest_price         volume  \\\n",
       "0        0.27050       0.27032     200.000000   \n",
       "1        0.27034       0.27011    6970.610576   \n",
       "2        0.27044       0.27015    9002.533511   \n",
       "3        0.27034       0.27027   22726.951973   \n",
       "4        0.27015       0.26932  115833.923778   \n",
       "\n",
       "   checking_timestamp_UTC_millisec      dif  timestamp_UTC  \n",
       "0                     1.565824e+12  60000.0   1.565824e+09  \n",
       "1                     1.565824e+12  60000.0   1.565824e+09  \n",
       "2                     1.565824e+12  60000.0   1.565824e+09  \n",
       "3                     1.565824e+12  60000.0   1.565824e+09  \n",
       "4                     1.565824e+12  60000.0   1.565824e+09  "
      ]
     },
     "execution_count": 44,
     "metadata": {},
     "output_type": "execute_result"
    }
   ],
   "source": [
    "XRP_for_testing.head()"
   ]
  },
  {
   "cell_type": "code",
   "execution_count": 45,
   "metadata": {},
   "outputs": [
    {
     "data": {
      "text/plain": [
       "Timestamp('2019-11-01 15:59:00')"
      ]
     },
     "execution_count": 45,
     "metadata": {},
     "output_type": "execute_result"
    }
   ],
   "source": [
    "XRP_for_testing['datetime_real'].max()"
   ]
  },
  {
   "cell_type": "code",
   "execution_count": 46,
   "metadata": {},
   "outputs": [
    {
     "data": {
      "text/plain": [
       "Timestamp('2019-08-14 23:00:00')"
      ]
     },
     "execution_count": 46,
     "metadata": {},
     "output_type": "execute_result"
    }
   ],
   "source": [
    "XRP_for_testing['datetime_real'].min()"
   ]
  },
  {
   "cell_type": "markdown",
   "metadata": {},
   "source": [
    "## Analysis on training datasets"
   ]
  },
  {
   "cell_type": "code",
   "execution_count": 47,
   "metadata": {},
   "outputs": [
    {
     "data": {
      "text/plain": [
       "<matplotlib.axes._subplots.AxesSubplot at 0x1b900004be0>"
      ]
     },
     "execution_count": 47,
     "metadata": {},
     "output_type": "execute_result"
    },
    {
     "data": {
      "image/png": "[encoded data removed]",
      "text/plain": [
       "<Figure size 1440x720 with 1 Axes>"
      ]
     },
     "metadata": {
      "needs_background": "light"
     },
     "output_type": "display_data"
    }
   ],
   "source": [
    "XRP_for_training.set_index('datetime_real')[['close_price']].plot(figsize = (20,10))"
   ]
  },
  {
   "cell_type": "code",
   "execution_count": null,
   "metadata": {},
   "outputs": [],
   "source": []
  },
  {
   "cell_type": "markdown",
   "metadata": {},
   "source": [
    "## Data mining, making own properties and features"
   ]
  },
  {
   "cell_type": "code",
   "execution_count": 48,
   "metadata": {},
   "outputs": [],
   "source": [
    "section_period = {  '3min': 3,\n",
    "                    '4min': 4,\n",
    "                    '5min': 5,\n",
    "                    '10min': 10,\n",
    "                    '15min': 15,\n",
    "                    '20min': 20,\n",
    "                    '25min': 25,\n",
    "                    '30min': 30,\n",
    "                    '35min': 35,\n",
    "                    '40min': 40,\n",
    "                    '45min': 45,\n",
    "                    '50min': 50,\n",
    "                    '55min': 55,\n",
    "                    '1H': 60,\n",
    "                    '2H': 120,\n",
    "                    '3H': 180,\n",
    "                    '4H': 240,\n",
    "                    '5H': 300,\n",
    "                    '6H': 360,\n",
    "                    '7H': 420,\n",
    "                    '8H': 480,\n",
    "                    '9H': 540,\n",
    "                    '10H': 600,\n",
    "                    '11H': 660,\n",
    "                    '12H': 720,\n",
    "                    '24H': 1440,\n",
    "                    '2D': 2880,\n",
    "                    '3D': 4320,\n",
    "                    '4D': 5760,\n",
    "                    '5D': 7200,\n",
    "                    '10D': 14400}"
   ]
  },
  {
   "cell_type": "code",
   "execution_count": 49,
   "metadata": {},
   "outputs": [],
   "source": [
    "for k,v in section_period.items():\n",
    "    XRP_for_training['{0}_RA_on_Close'.format(k)] = XRP_for_training['close_price'].rolling(v).mean()"
   ]
  },
  {
   "cell_type": "code",
   "execution_count": 50,
   "metadata": {},
   "outputs": [],
   "source": [
    "compare_sequence = {}"
   ]
  },
  {
   "cell_type": "code",
   "execution_count": 51,
   "metadata": {},
   "outputs": [],
   "source": [
    "for col_1 in [d for d in XRP_for_training.columns if '_RA_on_Close' in d]:\n",
    "    for col_2 in [d for d in XRP_for_training.columns if '_RA_on_Close' in d]:\n",
    "        temp_1 = col_1.split('_RA_on_Close')[0]\n",
    "        temp_2 = col_2.split('_RA_on_Close')[0]\n",
    "        if temp_1 != temp_2:\n",
    "            if ((temp_1 + '_minus_' + temp_2) not in compare_sequence.keys() and (temp_2 + '_minus_' + temp_1) not in compare_sequence.keys() ):\n",
    "                compare_sequence.update({temp_1 + '_minus_' + temp_2 : [col_1, col_2]})"
   ]
  },
  {
   "cell_type": "code",
   "execution_count": 52,
   "metadata": {},
   "outputs": [],
   "source": [
    "for k, val in compare_sequence.items():\n",
    "    XRP_for_training[k] = (XRP_for_training[val[0]] - XRP_for_training[val[1]])/XRP_for_training[val[1]] \n",
    "#     print(k, val[0], val[1])"
   ]
  },
  {
   "cell_type": "code",
   "execution_count": 53,
   "metadata": {},
   "outputs": [],
   "source": [
    "for col in [d for d in XRP_for_training.columns if '_RA_on_Close' in d]:\n",
    "    XRP_for_training[col] = XRP_for_training[col].shift(1)\n",
    "    \n",
    "    XRP_for_training['{0}_close_percent_dif'.format(col.split('_RA_on_Close')[0])] = (XRP_for_training['close_price']-XRP_for_training[col])/XRP_for_training[col] "
   ]
  },
  {
   "cell_type": "code",
   "execution_count": 54,
   "metadata": {},
   "outputs": [
    {
     "name": "stdout",
     "output_type": "stream",
     "text": [
      "3min 3\n",
      "4min 4\n",
      "5min 5\n",
      "10min 10\n",
      "15min 15\n",
      "20min 20\n",
      "25min 25\n",
      "30min 30\n",
      "35min 35\n",
      "40min 40\n",
      "45min 45\n",
      "50min 50\n",
      "55min 55\n",
      "1H 60\n",
      "2H 120\n",
      "3H 180\n",
      "4H 240\n",
      "5H 300\n",
      "6H 360\n",
      "7H 420\n",
      "8H 480\n",
      "9H 540\n",
      "10H 600\n",
      "11H 660\n",
      "12H 720\n",
      "24H 1440\n",
      "2D 2880\n",
      "3D 4320\n",
      "4D 5760\n",
      "5D 7200\n",
      "10D 14400\n",
      "3min 3\n",
      "4min 4\n",
      "5min 5\n",
      "10min 10\n",
      "15min 15\n",
      "20min 20\n",
      "25min 25\n",
      "30min 30\n",
      "35min 35\n",
      "40min 40\n",
      "45min 45\n",
      "50min 50\n",
      "55min 55\n",
      "1H 60\n",
      "2H 120\n",
      "3H 180\n",
      "4H 240\n",
      "5H 300\n",
      "6H 360\n",
      "7H 420\n",
      "8H 480\n",
      "9H 540\n",
      "10H 600\n",
      "11H 660\n",
      "12H 720\n",
      "24H 1440\n",
      "2D 2880\n",
      "3D 4320\n",
      "4D 5760\n",
      "5D 7200\n",
      "10D 14400\n"
     ]
    }
   ],
   "source": [
    "for k,v in section_period.items():\n",
    "    print(k,v)\n",
    "    XRP_for_training['look_back_{}'.format(k)] = XRP_for_training['close_price'].shift(v)   # i.e. 20min ago, this is what the close price is\n",
    "    XRP_for_training['look_forward_{}'.format(k)] = XRP_for_training['close_price'].shift(-v)  # i.e. 20min later, the close price is\n",
    "\n",
    "\n",
    "for k,v in section_period.items():\n",
    "    print(k,v)\n",
    "    XRP_for_training['calculate_look_back_Percent_{}'.format(k)]    = 100*(XRP_for_training['close_price'] - XRP_for_training['look_back_{}'.format(k)])/(v)\n",
    "    XRP_for_training['calculate_look_forward_Percent_{}'.format(k)] =  100*(XRP_for_training['look_forward_{}'.format(k)] - XRP_for_training['close_price'])/(v)"
   ]
  },
  {
   "cell_type": "code",
   "execution_count": null,
   "metadata": {},
   "outputs": [],
   "source": []
  },
  {
   "cell_type": "raw",
   "metadata": {},
   "source": [
    "increase to at least 0.3% = 0.003\n",
    "\n",
    "difference of:\n",
    "- 0.004\n",
    "- 0.005"
   ]
  },
  {
   "cell_type": "markdown",
   "metadata": {},
   "source": [
    "net_{net_percent}_percent is the net_percent + minimum for profit, \n",
    "\n",
    "i.e. net_01_percent = 0.1% + 0.003 = 0.004"
   ]
  },
  {
   "cell_type": "code",
   "execution_count": 55,
   "metadata": {},
   "outputs": [],
   "source": [
    "net_01_percent = 0.004\n",
    "net_02_percent = 0.007  # (for x percent, percent wrong needs to be taken into consideration)"
   ]
  },
  {
   "cell_type": "code",
   "execution_count": null,
   "metadata": {},
   "outputs": [],
   "source": []
  },
  {
   "cell_type": "raw",
   "metadata": {},
   "source": [
    "Buy_in_decision : is it the targets that I came up with, where if the price will be greated than 0.5% increase, then a profit can be made, hence there can be made.\n",
    "    (0.5% is set as there is a fee of exchange on many crypotoexchanges, i.e. 0.3% on Bitfinx. \n",
    "    source: https://tradesanta.com/en/bitfinex)"
   ]
  },
  {
   "cell_type": "code",
   "execution_count": null,
   "metadata": {},
   "outputs": [],
   "source": []
  },
  {
   "cell_type": "code",
   "execution_count": 56,
   "metadata": {},
   "outputs": [],
   "source": [
    "Buy_in_decision = pd.DataFrame((XRP_for_training[['timestamp_UTC'] + [d for d in XRP_for_training.columns if '_forward_Percent_' in d]].set_index('timestamp_UTC') > net_02_percent).any(axis =1 )).rename(columns ={0: 'Buy_In'})"
   ]
  },
  {
   "cell_type": "code",
   "execution_count": 57,
   "metadata": {},
   "outputs": [],
   "source": [
    "within_target_02_profit = XRP_for_training.merge(Buy_in_decision.reset_index(), on ='timestamp_UTC', how='left').dropna()"
   ]
  },
  {
   "cell_type": "code",
   "execution_count": 58,
   "metadata": {},
   "outputs": [
    {
     "data": {
      "text/plain": [
       "Timestamp('2019-11-01 15:59:00')"
      ]
     },
     "execution_count": 58,
     "metadata": {},
     "output_type": "execute_result"
    }
   ],
   "source": [
    "XRP_for_testing['datetime_real'].max()"
   ]
  },
  {
   "cell_type": "code",
   "execution_count": 59,
   "metadata": {},
   "outputs": [
    {
     "data": {
      "text/plain": [
       "Timestamp('2018-08-24 23:00:00')"
      ]
     },
     "execution_count": 59,
     "metadata": {},
     "output_type": "execute_result"
    }
   ],
   "source": [
    "within_target_02_profit['datetime_real'].min()"
   ]
  },
  {
   "cell_type": "code",
   "execution_count": null,
   "metadata": {},
   "outputs": [],
   "source": []
  },
  {
   "cell_type": "markdown",
   "metadata": {},
   "source": [
    "#### Selecting properties and becareful not to have any properties that look forward"
   ]
  },
  {
   "cell_type": "code",
   "execution_count": 60,
   "metadata": {},
   "outputs": [
    {
     "data": {
      "text/plain": [
       "['datetime_real',\n",
       " 'timestamp_UTC_millisec',\n",
       " 'open_price',\n",
       " 'close_price',\n",
       " 'highest_price',\n",
       " 'lowest_price',\n",
       " 'volume',\n",
       " 'checking_timestamp_UTC_millisec',\n",
       " 'dif',\n",
       " 'timestamp_UTC',\n",
       " '3min_RA_on_Close',\n",
       " '4min_RA_on_Close',\n",
       " '5min_RA_on_Close',\n",
       " '10min_RA_on_Close',\n",
       " '15min_RA_on_Close',\n",
       " '20min_RA_on_Close',\n",
       " '25min_RA_on_Close',\n",
       " '30min_RA_on_Close',\n",
       " '35min_RA_on_Close',\n",
       " '40min_RA_on_Close',\n",
       " '45min_RA_on_Close',\n",
       " '50min_RA_on_Close',\n",
       " '55min_RA_on_Close',\n",
       " '1H_RA_on_Close',\n",
       " '2H_RA_on_Close',\n",
       " '3H_RA_on_Close',\n",
       " '4H_RA_on_Close',\n",
       " '5H_RA_on_Close',\n",
       " '6H_RA_on_Close',\n",
       " '7H_RA_on_Close',\n",
       " '8H_RA_on_Close',\n",
       " '9H_RA_on_Close',\n",
       " '10H_RA_on_Close',\n",
       " '11H_RA_on_Close',\n",
       " '12H_RA_on_Close',\n",
       " '24H_RA_on_Close',\n",
       " '2D_RA_on_Close',\n",
       " '3D_RA_on_Close',\n",
       " '4D_RA_on_Close',\n",
       " '5D_RA_on_Close',\n",
       " '10D_RA_on_Close',\n",
       " '3min_minus_4min',\n",
       " '3min_minus_5min',\n",
       " '3min_minus_10min',\n",
       " '3min_minus_15min',\n",
       " '3min_minus_20min',\n",
       " '3min_minus_25min',\n",
       " '3min_minus_30min',\n",
       " '3min_minus_35min',\n",
       " '3min_minus_40min',\n",
       " '3min_minus_45min',\n",
       " '3min_minus_50min',\n",
       " '3min_minus_55min',\n",
       " '3min_minus_1H',\n",
       " '3min_minus_2H',\n",
       " '3min_minus_3H',\n",
       " '3min_minus_4H',\n",
       " '3min_minus_5H',\n",
       " '3min_minus_6H',\n",
       " '3min_minus_7H',\n",
       " '3min_minus_8H',\n",
       " '3min_minus_9H',\n",
       " '3min_minus_10H',\n",
       " '3min_minus_11H',\n",
       " '3min_minus_12H',\n",
       " '3min_minus_24H',\n",
       " '3min_minus_2D',\n",
       " '3min_minus_3D',\n",
       " '3min_minus_4D',\n",
       " '3min_minus_5D',\n",
       " '3min_minus_10D',\n",
       " '4min_minus_5min',\n",
       " '4min_minus_10min',\n",
       " '4min_minus_15min',\n",
       " '4min_minus_20min',\n",
       " '4min_minus_25min',\n",
       " '4min_minus_30min',\n",
       " '4min_minus_35min',\n",
       " '4min_minus_40min',\n",
       " '4min_minus_45min',\n",
       " '4min_minus_50min',\n",
       " '4min_minus_55min',\n",
       " '4min_minus_1H',\n",
       " '4min_minus_2H',\n",
       " '4min_minus_3H',\n",
       " '4min_minus_4H',\n",
       " '4min_minus_5H',\n",
       " '4min_minus_6H',\n",
       " '4min_minus_7H',\n",
       " '4min_minus_8H',\n",
       " '4min_minus_9H',\n",
       " '4min_minus_10H',\n",
       " '4min_minus_11H',\n",
       " '4min_minus_12H',\n",
       " '4min_minus_24H',\n",
       " '4min_minus_2D',\n",
       " '4min_minus_3D',\n",
       " '4min_minus_4D',\n",
       " '4min_minus_5D',\n",
       " '4min_minus_10D',\n",
       " '5min_minus_10min',\n",
       " '5min_minus_15min',\n",
       " '5min_minus_20min',\n",
       " '5min_minus_25min',\n",
       " '5min_minus_30min',\n",
       " '5min_minus_35min',\n",
       " '5min_minus_40min',\n",
       " '5min_minus_45min',\n",
       " '5min_minus_50min',\n",
       " '5min_minus_55min',\n",
       " '5min_minus_1H',\n",
       " '5min_minus_2H',\n",
       " '5min_minus_3H',\n",
       " '5min_minus_4H',\n",
       " '5min_minus_5H',\n",
       " '5min_minus_6H',\n",
       " '5min_minus_7H',\n",
       " '5min_minus_8H',\n",
       " '5min_minus_9H',\n",
       " '5min_minus_10H',\n",
       " '5min_minus_11H',\n",
       " '5min_minus_12H',\n",
       " '5min_minus_24H',\n",
       " '5min_minus_2D',\n",
       " '5min_minus_3D',\n",
       " '5min_minus_4D',\n",
       " '5min_minus_5D',\n",
       " '5min_minus_10D',\n",
       " '10min_minus_15min',\n",
       " '10min_minus_20min',\n",
       " '10min_minus_25min',\n",
       " '10min_minus_30min',\n",
       " '10min_minus_35min',\n",
       " '10min_minus_40min',\n",
       " '10min_minus_45min',\n",
       " '10min_minus_50min',\n",
       " '10min_minus_55min',\n",
       " '10min_minus_1H',\n",
       " '10min_minus_2H',\n",
       " '10min_minus_3H',\n",
       " '10min_minus_4H',\n",
       " '10min_minus_5H',\n",
       " '10min_minus_6H',\n",
       " '10min_minus_7H',\n",
       " '10min_minus_8H',\n",
       " '10min_minus_9H',\n",
       " '10min_minus_10H',\n",
       " '10min_minus_11H',\n",
       " '10min_minus_12H',\n",
       " '10min_minus_24H',\n",
       " '10min_minus_2D',\n",
       " '10min_minus_3D',\n",
       " '10min_minus_4D',\n",
       " '10min_minus_5D',\n",
       " '10min_minus_10D',\n",
       " '15min_minus_20min',\n",
       " '15min_minus_25min',\n",
       " '15min_minus_30min',\n",
       " '15min_minus_35min',\n",
       " '15min_minus_40min',\n",
       " '15min_minus_45min',\n",
       " '15min_minus_50min',\n",
       " '15min_minus_55min',\n",
       " '15min_minus_1H',\n",
       " '15min_minus_2H',\n",
       " '15min_minus_3H',\n",
       " '15min_minus_4H',\n",
       " '15min_minus_5H',\n",
       " '15min_minus_6H',\n",
       " '15min_minus_7H',\n",
       " '15min_minus_8H',\n",
       " '15min_minus_9H',\n",
       " '15min_minus_10H',\n",
       " '15min_minus_11H',\n",
       " '15min_minus_12H',\n",
       " '15min_minus_24H',\n",
       " '15min_minus_2D',\n",
       " '15min_minus_3D',\n",
       " '15min_minus_4D',\n",
       " '15min_minus_5D',\n",
       " '15min_minus_10D',\n",
       " '20min_minus_25min',\n",
       " '20min_minus_30min',\n",
       " '20min_minus_35min',\n",
       " '20min_minus_40min',\n",
       " '20min_minus_45min',\n",
       " '20min_minus_50min',\n",
       " '20min_minus_55min',\n",
       " '20min_minus_1H',\n",
       " '20min_minus_2H',\n",
       " '20min_minus_3H',\n",
       " '20min_minus_4H',\n",
       " '20min_minus_5H',\n",
       " '20min_minus_6H',\n",
       " '20min_minus_7H',\n",
       " '20min_minus_8H',\n",
       " '20min_minus_9H',\n",
       " '20min_minus_10H',\n",
       " '20min_minus_11H',\n",
       " '20min_minus_12H',\n",
       " '20min_minus_24H',\n",
       " '20min_minus_2D',\n",
       " '20min_minus_3D',\n",
       " '20min_minus_4D',\n",
       " '20min_minus_5D',\n",
       " '20min_minus_10D',\n",
       " '25min_minus_30min',\n",
       " '25min_minus_35min',\n",
       " '25min_minus_40min',\n",
       " '25min_minus_45min',\n",
       " '25min_minus_50min',\n",
       " '25min_minus_55min',\n",
       " '25min_minus_1H',\n",
       " '25min_minus_2H',\n",
       " '25min_minus_3H',\n",
       " '25min_minus_4H',\n",
       " '25min_minus_5H',\n",
       " '25min_minus_6H',\n",
       " '25min_minus_7H',\n",
       " '25min_minus_8H',\n",
       " '25min_minus_9H',\n",
       " '25min_minus_10H',\n",
       " '25min_minus_11H',\n",
       " '25min_minus_12H',\n",
       " '25min_minus_24H',\n",
       " '25min_minus_2D',\n",
       " '25min_minus_3D',\n",
       " '25min_minus_4D',\n",
       " '25min_minus_5D',\n",
       " '25min_minus_10D',\n",
       " '30min_minus_35min',\n",
       " '30min_minus_40min',\n",
       " '30min_minus_45min',\n",
       " '30min_minus_50min',\n",
       " '30min_minus_55min',\n",
       " '30min_minus_1H',\n",
       " '30min_minus_2H',\n",
       " '30min_minus_3H',\n",
       " '30min_minus_4H',\n",
       " '30min_minus_5H',\n",
       " '30min_minus_6H',\n",
       " '30min_minus_7H',\n",
       " '30min_minus_8H',\n",
       " '30min_minus_9H',\n",
       " '30min_minus_10H',\n",
       " '30min_minus_11H',\n",
       " '30min_minus_12H',\n",
       " '30min_minus_24H',\n",
       " '30min_minus_2D',\n",
       " '30min_minus_3D',\n",
       " '30min_minus_4D',\n",
       " '30min_minus_5D',\n",
       " '30min_minus_10D',\n",
       " '35min_minus_40min',\n",
       " '35min_minus_45min',\n",
       " '35min_minus_50min',\n",
       " '35min_minus_55min',\n",
       " '35min_minus_1H',\n",
       " '35min_minus_2H',\n",
       " '35min_minus_3H',\n",
       " '35min_minus_4H',\n",
       " '35min_minus_5H',\n",
       " '35min_minus_6H',\n",
       " '35min_minus_7H',\n",
       " '35min_minus_8H',\n",
       " '35min_minus_9H',\n",
       " '35min_minus_10H',\n",
       " '35min_minus_11H',\n",
       " '35min_minus_12H',\n",
       " '35min_minus_24H',\n",
       " '35min_minus_2D',\n",
       " '35min_minus_3D',\n",
       " '35min_minus_4D',\n",
       " '35min_minus_5D',\n",
       " '35min_minus_10D',\n",
       " '40min_minus_45min',\n",
       " '40min_minus_50min',\n",
       " '40min_minus_55min',\n",
       " '40min_minus_1H',\n",
       " '40min_minus_2H',\n",
       " '40min_minus_3H',\n",
       " '40min_minus_4H',\n",
       " '40min_minus_5H',\n",
       " '40min_minus_6H',\n",
       " '40min_minus_7H',\n",
       " '40min_minus_8H',\n",
       " '40min_minus_9H',\n",
       " '40min_minus_10H',\n",
       " '40min_minus_11H',\n",
       " '40min_minus_12H',\n",
       " '40min_minus_24H',\n",
       " '40min_minus_2D',\n",
       " '40min_minus_3D',\n",
       " '40min_minus_4D',\n",
       " '40min_minus_5D',\n",
       " '40min_minus_10D',\n",
       " '45min_minus_50min',\n",
       " '45min_minus_55min',\n",
       " '45min_minus_1H',\n",
       " '45min_minus_2H',\n",
       " '45min_minus_3H',\n",
       " '45min_minus_4H',\n",
       " '45min_minus_5H',\n",
       " '45min_minus_6H',\n",
       " '45min_minus_7H',\n",
       " '45min_minus_8H',\n",
       " '45min_minus_9H',\n",
       " '45min_minus_10H',\n",
       " '45min_minus_11H',\n",
       " '45min_minus_12H',\n",
       " '45min_minus_24H',\n",
       " '45min_minus_2D',\n",
       " '45min_minus_3D',\n",
       " '45min_minus_4D',\n",
       " '45min_minus_5D',\n",
       " '45min_minus_10D',\n",
       " '50min_minus_55min',\n",
       " '50min_minus_1H',\n",
       " '50min_minus_2H',\n",
       " '50min_minus_3H',\n",
       " '50min_minus_4H',\n",
       " '50min_minus_5H',\n",
       " '50min_minus_6H',\n",
       " '50min_minus_7H',\n",
       " '50min_minus_8H',\n",
       " '50min_minus_9H',\n",
       " '50min_minus_10H',\n",
       " '50min_minus_11H',\n",
       " '50min_minus_12H',\n",
       " '50min_minus_24H',\n",
       " '50min_minus_2D',\n",
       " '50min_minus_3D',\n",
       " '50min_minus_4D',\n",
       " '50min_minus_5D',\n",
       " '50min_minus_10D',\n",
       " '55min_minus_1H',\n",
       " '55min_minus_2H',\n",
       " '55min_minus_3H',\n",
       " '55min_minus_4H',\n",
       " '55min_minus_5H',\n",
       " '55min_minus_6H',\n",
       " '55min_minus_7H',\n",
       " '55min_minus_8H',\n",
       " '55min_minus_9H',\n",
       " '55min_minus_10H',\n",
       " '55min_minus_11H',\n",
       " '55min_minus_12H',\n",
       " '55min_minus_24H',\n",
       " '55min_minus_2D',\n",
       " '55min_minus_3D',\n",
       " '55min_minus_4D',\n",
       " '55min_minus_5D',\n",
       " '55min_minus_10D',\n",
       " '1H_minus_2H',\n",
       " '1H_minus_3H',\n",
       " '1H_minus_4H',\n",
       " '1H_minus_5H',\n",
       " '1H_minus_6H',\n",
       " '1H_minus_7H',\n",
       " '1H_minus_8H',\n",
       " '1H_minus_9H',\n",
       " '1H_minus_10H',\n",
       " '1H_minus_11H',\n",
       " '1H_minus_12H',\n",
       " '1H_minus_24H',\n",
       " '1H_minus_2D',\n",
       " '1H_minus_3D',\n",
       " '1H_minus_4D',\n",
       " '1H_minus_5D',\n",
       " '1H_minus_10D',\n",
       " '2H_minus_3H',\n",
       " '2H_minus_4H',\n",
       " '2H_minus_5H',\n",
       " '2H_minus_6H',\n",
       " '2H_minus_7H',\n",
       " '2H_minus_8H',\n",
       " '2H_minus_9H',\n",
       " '2H_minus_10H',\n",
       " '2H_minus_11H',\n",
       " '2H_minus_12H',\n",
       " '2H_minus_24H',\n",
       " '2H_minus_2D',\n",
       " '2H_minus_3D',\n",
       " '2H_minus_4D',\n",
       " '2H_minus_5D',\n",
       " '2H_minus_10D',\n",
       " '3H_minus_4H',\n",
       " '3H_minus_5H',\n",
       " '3H_minus_6H',\n",
       " '3H_minus_7H',\n",
       " '3H_minus_8H',\n",
       " '3H_minus_9H',\n",
       " '3H_minus_10H',\n",
       " '3H_minus_11H',\n",
       " '3H_minus_12H',\n",
       " '3H_minus_24H',\n",
       " '3H_minus_2D',\n",
       " '3H_minus_3D',\n",
       " '3H_minus_4D',\n",
       " '3H_minus_5D',\n",
       " '3H_minus_10D',\n",
       " '4H_minus_5H',\n",
       " '4H_minus_6H',\n",
       " '4H_minus_7H',\n",
       " '4H_minus_8H',\n",
       " '4H_minus_9H',\n",
       " '4H_minus_10H',\n",
       " '4H_minus_11H',\n",
       " '4H_minus_12H',\n",
       " '4H_minus_24H',\n",
       " '4H_minus_2D',\n",
       " '4H_minus_3D',\n",
       " '4H_minus_4D',\n",
       " '4H_minus_5D',\n",
       " '4H_minus_10D',\n",
       " '5H_minus_6H',\n",
       " '5H_minus_7H',\n",
       " '5H_minus_8H',\n",
       " '5H_minus_9H',\n",
       " '5H_minus_10H',\n",
       " '5H_minus_11H',\n",
       " '5H_minus_12H',\n",
       " '5H_minus_24H',\n",
       " '5H_minus_2D',\n",
       " '5H_minus_3D',\n",
       " '5H_minus_4D',\n",
       " '5H_minus_5D',\n",
       " '5H_minus_10D',\n",
       " '6H_minus_7H',\n",
       " '6H_minus_8H',\n",
       " '6H_minus_9H',\n",
       " '6H_minus_10H',\n",
       " '6H_minus_11H',\n",
       " '6H_minus_12H',\n",
       " '6H_minus_24H',\n",
       " '6H_minus_2D',\n",
       " '6H_minus_3D',\n",
       " '6H_minus_4D',\n",
       " '6H_minus_5D',\n",
       " '6H_minus_10D',\n",
       " '7H_minus_8H',\n",
       " '7H_minus_9H',\n",
       " '7H_minus_10H',\n",
       " '7H_minus_11H',\n",
       " '7H_minus_12H',\n",
       " '7H_minus_24H',\n",
       " '7H_minus_2D',\n",
       " '7H_minus_3D',\n",
       " '7H_minus_4D',\n",
       " '7H_minus_5D',\n",
       " '7H_minus_10D',\n",
       " '8H_minus_9H',\n",
       " '8H_minus_10H',\n",
       " '8H_minus_11H',\n",
       " '8H_minus_12H',\n",
       " '8H_minus_24H',\n",
       " '8H_minus_2D',\n",
       " '8H_minus_3D',\n",
       " '8H_minus_4D',\n",
       " '8H_minus_5D',\n",
       " '8H_minus_10D',\n",
       " '9H_minus_10H',\n",
       " '9H_minus_11H',\n",
       " '9H_minus_12H',\n",
       " '9H_minus_24H',\n",
       " '9H_minus_2D',\n",
       " '9H_minus_3D',\n",
       " '9H_minus_4D',\n",
       " '9H_minus_5D',\n",
       " '9H_minus_10D',\n",
       " '10H_minus_11H',\n",
       " '10H_minus_12H',\n",
       " '10H_minus_24H',\n",
       " '10H_minus_2D',\n",
       " '10H_minus_3D',\n",
       " '10H_minus_4D',\n",
       " '10H_minus_5D',\n",
       " '10H_minus_10D',\n",
       " '11H_minus_12H',\n",
       " '11H_minus_24H',\n",
       " '11H_minus_2D',\n",
       " '11H_minus_3D',\n",
       " '11H_minus_4D',\n",
       " '11H_minus_5D',\n",
       " '11H_minus_10D',\n",
       " '12H_minus_24H',\n",
       " '12H_minus_2D',\n",
       " '12H_minus_3D',\n",
       " '12H_minus_4D',\n",
       " '12H_minus_5D',\n",
       " '12H_minus_10D',\n",
       " '24H_minus_2D',\n",
       " '24H_minus_3D',\n",
       " '24H_minus_4D',\n",
       " '24H_minus_5D',\n",
       " '24H_minus_10D',\n",
       " '2D_minus_3D',\n",
       " '2D_minus_4D',\n",
       " '2D_minus_5D',\n",
       " '2D_minus_10D',\n",
       " '3D_minus_4D',\n",
       " '3D_minus_5D',\n",
       " '3D_minus_10D',\n",
       " '4D_minus_5D',\n",
       " '4D_minus_10D',\n",
       " '5D_minus_10D',\n",
       " '3min_close_percent_dif',\n",
       " '4min_close_percent_dif',\n",
       " '5min_close_percent_dif',\n",
       " '10min_close_percent_dif',\n",
       " '15min_close_percent_dif',\n",
       " '20min_close_percent_dif',\n",
       " '25min_close_percent_dif',\n",
       " '30min_close_percent_dif',\n",
       " '35min_close_percent_dif',\n",
       " '40min_close_percent_dif',\n",
       " '45min_close_percent_dif',\n",
       " '50min_close_percent_dif',\n",
       " '55min_close_percent_dif',\n",
       " '1H_close_percent_dif',\n",
       " '2H_close_percent_dif',\n",
       " '3H_close_percent_dif',\n",
       " '4H_close_percent_dif',\n",
       " '5H_close_percent_dif',\n",
       " '6H_close_percent_dif',\n",
       " '7H_close_percent_dif',\n",
       " '8H_close_percent_dif',\n",
       " '9H_close_percent_dif',\n",
       " '10H_close_percent_dif',\n",
       " '11H_close_percent_dif',\n",
       " '12H_close_percent_dif',\n",
       " '24H_close_percent_dif',\n",
       " '2D_close_percent_dif',\n",
       " '3D_close_percent_dif',\n",
       " '4D_close_percent_dif',\n",
       " '5D_close_percent_dif',\n",
       " '10D_close_percent_dif',\n",
       " 'look_back_3min',\n",
       " 'look_back_4min',\n",
       " 'look_back_5min',\n",
       " 'look_back_10min',\n",
       " 'look_back_15min',\n",
       " 'look_back_20min',\n",
       " 'look_back_25min',\n",
       " 'look_back_30min',\n",
       " 'look_back_35min',\n",
       " 'look_back_40min',\n",
       " 'look_back_45min',\n",
       " 'look_back_50min',\n",
       " 'look_back_55min',\n",
       " 'look_back_1H',\n",
       " 'look_back_2H',\n",
       " 'look_back_3H',\n",
       " 'look_back_4H',\n",
       " 'look_back_5H',\n",
       " 'look_back_6H',\n",
       " 'look_back_7H',\n",
       " 'look_back_8H',\n",
       " 'look_back_9H',\n",
       " 'look_back_10H',\n",
       " 'look_back_11H',\n",
       " 'look_back_12H',\n",
       " 'look_back_24H',\n",
       " 'look_back_2D',\n",
       " 'look_back_3D',\n",
       " 'look_back_4D',\n",
       " 'look_back_5D',\n",
       " 'look_back_10D',\n",
       " 'calculate_look_back_Percent_3min',\n",
       " 'calculate_look_back_Percent_4min',\n",
       " 'calculate_look_back_Percent_5min',\n",
       " 'calculate_look_back_Percent_10min',\n",
       " 'calculate_look_back_Percent_15min',\n",
       " 'calculate_look_back_Percent_20min',\n",
       " 'calculate_look_back_Percent_25min',\n",
       " 'calculate_look_back_Percent_30min',\n",
       " 'calculate_look_back_Percent_35min',\n",
       " 'calculate_look_back_Percent_40min',\n",
       " 'calculate_look_back_Percent_45min',\n",
       " 'calculate_look_back_Percent_50min',\n",
       " 'calculate_look_back_Percent_55min',\n",
       " 'calculate_look_back_Percent_1H',\n",
       " 'calculate_look_back_Percent_2H',\n",
       " 'calculate_look_back_Percent_3H',\n",
       " 'calculate_look_back_Percent_4H',\n",
       " 'calculate_look_back_Percent_5H',\n",
       " 'calculate_look_back_Percent_6H',\n",
       " 'calculate_look_back_Percent_7H',\n",
       " 'calculate_look_back_Percent_8H',\n",
       " 'calculate_look_back_Percent_9H',\n",
       " 'calculate_look_back_Percent_10H',\n",
       " 'calculate_look_back_Percent_11H',\n",
       " 'calculate_look_back_Percent_12H',\n",
       " 'calculate_look_back_Percent_24H',\n",
       " 'calculate_look_back_Percent_2D',\n",
       " 'calculate_look_back_Percent_3D',\n",
       " 'calculate_look_back_Percent_4D',\n",
       " 'calculate_look_back_Percent_5D',\n",
       " 'calculate_look_back_Percent_10D']"
      ]
     },
     "execution_count": 60,
     "metadata": {},
     "output_type": "execute_result"
    }
   ],
   "source": [
    "[d for d in list(XRP_for_training.columns) if 'look_forward_' not in d]"
   ]
  },
  {
   "cell_type": "code",
   "execution_count": null,
   "metadata": {},
   "outputs": [],
   "source": []
  },
  {
   "cell_type": "code",
   "execution_count": 61,
   "metadata": {},
   "outputs": [],
   "source": [
    "properties = [\n",
    "#     'close',\n",
    "#  'date',\n",
    "#  'high',\n",
    "#  'low',\n",
    "#  'open',\n",
    "#  'quoteVolume',\n",
    " 'volume',\n",
    "#  'weightedAverage',\n",
    "#  'datetime_real',\n",
    " '3min_close_percent_dif',\n",
    " '4min_close_percent_dif',\n",
    " '5min_close_percent_dif',\n",
    " '10min_close_percent_dif',\n",
    " '15min_close_percent_dif',\n",
    " '20min_close_percent_dif',\n",
    " '1H_close_percent_dif',\n",
    " '2H_close_percent_dif',\n",
    " '4H_close_percent_dif',\n",
    " '12H_close_percent_dif',\n",
    " '24H_close_percent_dif',\n",
    " '2D_close_percent_dif',\n",
    " '3D_close_percent_dif',\n",
    " '4D_close_percent_dif',\n",
    " '5D_close_percent_dif',\n",
    " '10D_close_percent_dif',\n",
    " 'calculate_look_back_Percent_3min',\n",
    " 'calculate_look_back_Percent_4min',\n",
    " 'calculate_look_back_Percent_5min',\n",
    " 'calculate_look_back_Percent_10min',\n",
    " 'calculate_look_back_Percent_15min',\n",
    " 'calculate_look_back_Percent_20min',\n",
    " 'calculate_look_back_Percent_1H',\n",
    " 'calculate_look_back_Percent_2H',\n",
    " 'calculate_look_back_Percent_4H',\n",
    " 'calculate_look_back_Percent_12H',\n",
    " 'calculate_look_back_Percent_24H',\n",
    " 'calculate_look_back_Percent_2D',\n",
    " 'calculate_look_back_Percent_3D',\n",
    " 'calculate_look_back_Percent_4D',\n",
    " 'calculate_look_back_Percent_5D',\n",
    " 'calculate_look_back_Percent_10D',\n",
    " '3min_minus_4min',\n",
    " '3min_minus_5min',\n",
    " '3min_minus_10min',\n",
    " '3min_minus_15min',\n",
    " '3min_minus_20min',\n",
    " '3min_minus_1H',\n",
    " '3min_minus_2H',\n",
    " '3min_minus_4H',\n",
    " '3min_minus_12H',\n",
    " '3min_minus_24H',\n",
    " '3min_minus_2D',\n",
    " '3min_minus_3D',\n",
    " '3min_minus_4D',\n",
    " '3min_minus_5D',\n",
    " '3min_minus_10D',\n",
    " '4min_minus_5min',\n",
    " '4min_minus_10min',\n",
    " '4min_minus_15min',\n",
    " '4min_minus_20min',\n",
    " '4min_minus_1H',\n",
    " '4min_minus_2H',\n",
    " '4min_minus_4H',\n",
    " '4min_minus_12H',\n",
    " '4min_minus_24H',\n",
    " '4min_minus_2D',\n",
    " '4min_minus_3D',\n",
    " '4min_minus_4D',\n",
    " '4min_minus_5D',\n",
    " '4min_minus_10D',\n",
    " '5min_minus_10min',\n",
    " '5min_minus_15min',\n",
    " '5min_minus_20min',\n",
    " '5min_minus_1H',\n",
    " '5min_minus_2H',\n",
    " '5min_minus_4H',\n",
    " '5min_minus_12H',\n",
    " '5min_minus_24H',\n",
    " '5min_minus_2D',\n",
    " '5min_minus_3D',\n",
    " '5min_minus_4D',\n",
    " '5min_minus_5D',\n",
    " '5min_minus_10D',\n",
    " '10min_minus_15min',\n",
    " '10min_minus_20min',\n",
    " '10min_minus_1H',\n",
    " '10min_minus_2H',\n",
    " '10min_minus_4H',\n",
    " '10min_minus_12H',\n",
    " '10min_minus_24H',\n",
    " '10min_minus_2D',\n",
    " '10min_minus_3D',\n",
    " '10min_minus_4D',\n",
    " '10min_minus_5D',\n",
    " '10min_minus_10D',\n",
    " '15min_minus_20min',\n",
    " '15min_minus_1H',\n",
    " '15min_minus_2H',\n",
    " '15min_minus_4H',\n",
    " '15min_minus_12H',\n",
    " '15min_minus_24H',\n",
    " '15min_minus_2D',\n",
    " '15min_minus_3D',\n",
    " '15min_minus_4D',\n",
    " '15min_minus_5D',\n",
    " '15min_minus_10D',\n",
    " '20min_minus_1H',\n",
    " '20min_minus_2H',\n",
    " '20min_minus_4H',\n",
    " '20min_minus_12H',\n",
    " '20min_minus_24H',\n",
    " '20min_minus_2D',\n",
    " '20min_minus_3D',\n",
    " '20min_minus_4D',\n",
    " '20min_minus_5D',\n",
    " '20min_minus_10D',\n",
    " '1H_minus_2H',\n",
    " '1H_minus_4H',\n",
    " '1H_minus_12H',\n",
    " '1H_minus_24H',\n",
    " '1H_minus_2D',\n",
    " '1H_minus_3D',\n",
    " '1H_minus_4D',\n",
    " '1H_minus_5D',\n",
    " '1H_minus_10D',\n",
    " '2H_minus_4H',\n",
    " '2H_minus_12H',\n",
    " '2H_minus_24H',\n",
    " '2H_minus_2D',\n",
    " '2H_minus_3D',\n",
    " '2H_minus_4D',\n",
    " '2H_minus_5D',\n",
    " '2H_minus_10D',\n",
    " '4H_minus_12H',\n",
    " '4H_minus_24H',\n",
    " '4H_minus_2D',\n",
    " '4H_minus_3D',\n",
    " '4H_minus_4D',\n",
    " '4H_minus_5D',\n",
    " '4H_minus_10D',\n",
    " '12H_minus_24H',\n",
    " '12H_minus_2D',\n",
    " '12H_minus_3D',\n",
    " '12H_minus_4D',\n",
    " '12H_minus_5D',\n",
    " '12H_minus_10D',\n",
    " '24H_minus_2D',\n",
    " '24H_minus_3D',\n",
    " '24H_minus_4D',\n",
    " '24H_minus_5D',\n",
    " '24H_minus_10D',\n",
    " '2D_minus_3D',\n",
    " '2D_minus_4D',\n",
    " '2D_minus_5D',\n",
    " '2D_minus_10D',\n",
    " '3D_minus_4D',\n",
    " '3D_minus_5D',\n",
    " '3D_minus_10D',\n",
    " '4D_minus_5D',\n",
    " '4D_minus_10D',\n",
    " '5D_minus_10D']"
   ]
  },
  {
   "cell_type": "code",
   "execution_count": 92,
   "metadata": {},
   "outputs": [],
   "source": [
    "analysis_close_low = within_target_02_profit[within_target_02_profit['Buy_In']]"
   ]
  },
  {
   "cell_type": "code",
   "execution_count": 97,
   "metadata": {},
   "outputs": [
    {
     "data": {
      "text/plain": [
       "count    338450.000000\n",
       "mean         -0.058043\n",
       "std           0.121330\n",
       "min          -6.413953\n",
       "25%          -0.065600\n",
       "50%          -0.011265\n",
       "75%           0.000000\n",
       "max           0.000000\n",
       "dtype: float64"
      ]
     },
     "execution_count": 97,
     "metadata": {},
     "output_type": "execute_result"
    }
   ],
   "source": [
    "(100*(analysis_close_low['lowest_price'] - analysis_close_low['close_price'])/analysis_close_low['close_price']).describe()"
   ]
  },
  {
   "cell_type": "code",
   "execution_count": null,
   "metadata": {},
   "outputs": [],
   "source": []
  },
  {
   "cell_type": "code",
   "execution_count": null,
   "metadata": {},
   "outputs": [],
   "source": []
  },
  {
   "cell_type": "markdown",
   "metadata": {},
   "source": [
    "## split into target and properties"
   ]
  },
  {
   "cell_type": "code",
   "execution_count": 62,
   "metadata": {},
   "outputs": [],
   "source": [
    "from sklearn.metrics import accuracy_score\n",
    "from sklearn.model_selection import train_test_split\n",
    "from sklearn import tree\n",
    "from sklearn.tree import DecisionTreeClassifier"
   ]
  },
  {
   "cell_type": "code",
   "execution_count": 63,
   "metadata": {},
   "outputs": [],
   "source": [
    "from sklearn.externals.six import StringIO  \n",
    "from IPython.display import Image\n",
    "from sklearn.tree import export_graphviz\n",
    "import pydotplus\n",
    "\n",
    "import pydot"
   ]
  },
  {
   "cell_type": "code",
   "execution_count": 64,
   "metadata": {},
   "outputs": [],
   "source": [
    "from collections import Counter"
   ]
  },
  {
   "cell_type": "code",
   "execution_count": 65,
   "metadata": {},
   "outputs": [],
   "source": [
    "import math"
   ]
  },
  {
   "cell_type": "code",
   "execution_count": 66,
   "metadata": {},
   "outputs": [
    {
     "data": {
      "text/plain": [
       "Timestamp('2019-08-04 22:59:00')"
      ]
     },
     "execution_count": 66,
     "metadata": {},
     "output_type": "execute_result"
    }
   ],
   "source": [
    "within_target_02_profit['datetime_real'].max()"
   ]
  },
  {
   "cell_type": "code",
   "execution_count": 67,
   "metadata": {},
   "outputs": [],
   "source": [
    "target_y = within_target_02_profit[['Buy_In']].copy()"
   ]
  },
  {
   "cell_type": "code",
   "execution_count": 68,
   "metadata": {},
   "outputs": [],
   "source": [
    "train_x = within_target_02_profit[properties].copy()"
   ]
  },
  {
   "cell_type": "code",
   "execution_count": 69,
   "metadata": {},
   "outputs": [
    {
     "data": {
      "text/plain": [
       "Index(['volume', '3min_close_percent_dif', '4min_close_percent_dif',\n",
       "       '5min_close_percent_dif', '10min_close_percent_dif',\n",
       "       '15min_close_percent_dif', '20min_close_percent_dif',\n",
       "       '1H_close_percent_dif', '2H_close_percent_dif', '4H_close_percent_dif',\n",
       "       ...\n",
       "       '2D_minus_3D', '2D_minus_4D', '2D_minus_5D', '2D_minus_10D',\n",
       "       '3D_minus_4D', '3D_minus_5D', '3D_minus_10D', '4D_minus_5D',\n",
       "       '4D_minus_10D', '5D_minus_10D'],\n",
       "      dtype='object', length=153)"
      ]
     },
     "execution_count": 69,
     "metadata": {},
     "output_type": "execute_result"
    }
   ],
   "source": [
    "train_x.columns"
   ]
  },
  {
   "cell_type": "code",
   "execution_count": 70,
   "metadata": {},
   "outputs": [
    {
     "data": {
      "text/plain": [
       "Index(['Buy_In'], dtype='object')"
      ]
     },
     "execution_count": 70,
     "metadata": {},
     "output_type": "execute_result"
    }
   ],
   "source": [
    "target_y.columns"
   ]
  },
  {
   "cell_type": "code",
   "execution_count": null,
   "metadata": {},
   "outputs": [],
   "source": []
  },
  {
   "cell_type": "code",
   "execution_count": 71,
   "metadata": {},
   "outputs": [],
   "source": [
    "# X_train, X_test, y_train, y_test = train_test_split(train_x, target_y, test_size=0.33, random_state=324)"
   ]
  },
  {
   "cell_type": "code",
   "execution_count": 72,
   "metadata": {},
   "outputs": [],
   "source": [
    "X_train_order = train_x.iloc[:-math.floor(len(train_x)*0.2)]"
   ]
  },
  {
   "cell_type": "code",
   "execution_count": 73,
   "metadata": {},
   "outputs": [],
   "source": [
    "y_train_order = target_y.iloc[:-math.floor(len(target_y)*0.2)]"
   ]
  },
  {
   "cell_type": "code",
   "execution_count": null,
   "metadata": {},
   "outputs": [],
   "source": []
  },
  {
   "cell_type": "code",
   "execution_count": 74,
   "metadata": {},
   "outputs": [],
   "source": [
    "X_test_order = train_x.iloc[-math.floor(len(train_x)*0.2):]"
   ]
  },
  {
   "cell_type": "code",
   "execution_count": 75,
   "metadata": {},
   "outputs": [],
   "source": [
    "y_test_order = target_y.iloc[-math.floor(len(target_y)*0.2):]"
   ]
  },
  {
   "cell_type": "code",
   "execution_count": null,
   "metadata": {},
   "outputs": [],
   "source": []
  },
  {
   "cell_type": "code",
   "execution_count": 76,
   "metadata": {},
   "outputs": [
    {
     "data": {
      "text/plain": [
       "DecisionTreeClassifier(class_weight=None, criterion='gini', max_depth=None,\n",
       "            max_features=None, max_leaf_nodes=10,\n",
       "            min_impurity_decrease=0.0, min_impurity_split=None,\n",
       "            min_samples_leaf=1, min_samples_split=2,\n",
       "            min_weight_fraction_leaf=0.0, presort=False, random_state=0,\n",
       "            splitter='best')"
      ]
     },
     "execution_count": 76,
     "metadata": {},
     "output_type": "execute_result"
    }
   ],
   "source": [
    "buy_in_decision_classifier = DecisionTreeClassifier(max_leaf_nodes=10, random_state=0)\n",
    "buy_in_decision_classifier.fit(X_train_order, y_train_order)"
   ]
  },
  {
   "cell_type": "code",
   "execution_count": 77,
   "metadata": {},
   "outputs": [],
   "source": [
    "predictions = buy_in_decision_classifier.predict(X_test_order)"
   ]
  },
  {
   "cell_type": "code",
   "execution_count": 78,
   "metadata": {},
   "outputs": [
    {
     "data": {
      "text/plain": [
       "0.5478073406421978"
      ]
     },
     "execution_count": 78,
     "metadata": {},
     "output_type": "execute_result"
    }
   ],
   "source": [
    "accuracy_score(y_true = y_test_order, y_pred = predictions)"
   ]
  },
  {
   "cell_type": "code",
   "execution_count": 79,
   "metadata": {},
   "outputs": [
    {
     "data": {
      "text/plain": [
       "[2,\n",
       " 3,\n",
       " 4,\n",
       " 5,\n",
       " 10,\n",
       " 20,\n",
       " 30,\n",
       " 40,\n",
       " 50,\n",
       " 60,\n",
       " 70,\n",
       " 80,\n",
       " 90,\n",
       " 100,\n",
       " 110,\n",
       " 120,\n",
       " 130,\n",
       " 140,\n",
       " 150,\n",
       " 160,\n",
       " 170,\n",
       " 180,\n",
       " 190]"
      ]
     },
     "execution_count": 79,
     "metadata": {},
     "output_type": "execute_result"
    }
   ],
   "source": [
    "[2,3,4,5] + list(np.arange(10,200,10))"
   ]
  },
  {
   "cell_type": "code",
   "execution_count": 71,
   "metadata": {},
   "outputs": [
    {
     "name": "stdout",
     "output_type": "stream",
     "text": [
      "node 2 accuracy 0.6834781384062053 sate 0\n",
      "node 2 accuracy 0.6834781384062053 sate 123\n",
      "node 2 accuracy 0.6834781384062053 sate 1995\n",
      "node 3 accuracy 0.5488202539324869 sate 0\n",
      "node 3 accuracy 0.5488202539324869 sate 123\n",
      "node 3 accuracy 0.5488202539324869 sate 1995\n",
      "node 4 accuracy 0.5488202539324869 sate 0\n",
      "node 4 accuracy 0.5488202539324869 sate 123\n",
      "node 4 accuracy 0.5488202539324869 sate 1995\n",
      "node 5 accuracy 0.5488202539324869 sate 0\n",
      "node 5 accuracy 0.5488202539324869 sate 123\n",
      "node 5 accuracy 0.5488202539324869 sate 1995\n",
      "node 6 accuracy 0.5488202539324869 sate 0\n",
      "node 6 accuracy 0.5488202539324869 sate 123\n",
      "node 6 accuracy 0.5488202539324869 sate 1995\n",
      "node 8 accuracy 0.5478073406421978 sate 0\n",
      "node 8 accuracy 0.5478073406421978 sate 123\n",
      "node 8 accuracy 0.5478073406421978 sate 1995\n",
      "node 10 accuracy 0.5478073406421978 sate 0\n",
      "node 10 accuracy 0.5478073406421978 sate 123\n",
      "node 10 accuracy 0.5478073406421978 sate 1995\n",
      "node 20 accuracy 0.5495460848463839 sate 0\n",
      "node 20 accuracy 0.5495460848463839 sate 123\n",
      "node 20 accuracy 0.5495460848463839 sate 1995\n",
      "node 30 accuracy 0.5508406638644537 sate 0\n",
      "node 30 accuracy 0.5508406638644537 sate 123\n",
      "node 30 accuracy 0.5508406638644537 sate 1995\n",
      "node 40 accuracy 0.5530939896867011 sate 0\n",
      "node 40 accuracy 0.5530939896867011 sate 123\n",
      "node 40 accuracy 0.5530939896867011 sate 1995\n",
      "node 50 accuracy 0.5656822810590632 sate 0\n",
      "node 50 accuracy 0.5656822810590632 sate 123\n",
      "node 50 accuracy 0.5656822810590632 sate 1995\n",
      "node 60 accuracy 0.5706547644841183 sate 0\n",
      "node 60 accuracy 0.5706547644841183 sate 123\n",
      "node 60 accuracy 0.5706547644841183 sate 1995\n",
      "node 70 accuracy 0.5713968453438488 sate 0\n",
      "node 70 accuracy 0.5713968453438488 sate 123\n",
      "node 70 accuracy 0.5713968453438488 sate 1995\n",
      "node 80 accuracy 0.571526844910517 sate 0\n",
      "node 80 accuracy 0.571526844910517 sate 123\n",
      "node 80 accuracy 0.571526844910517 sate 1995\n",
      "node 90 accuracy 0.5720035099883001 sate 0\n",
      "node 90 accuracy 0.5720035099883001 sate 123\n",
      "node 90 accuracy 0.5720035099883001 sate 1995\n",
      "node 100 accuracy 0.5598431338562205 sate 0\n",
      "node 100 accuracy 0.5598431338562205 sate 123\n",
      "node 100 accuracy 0.5598431338562205 sate 1995\n",
      "node 110 accuracy 0.5611918793604022 sate 0\n",
      "node 110 accuracy 0.5611918793604022 sate 123\n",
      "node 110 accuracy 0.5611918793604022 sate 1995\n",
      "node 120 accuracy 0.5616035446548512 sate 0\n",
      "node 120 accuracy 0.5616035446548512 sate 123\n",
      "node 120 accuracy 0.5616035446548512 sate 1995\n",
      "node 130 accuracy 0.5622914590284699 sate 0\n",
      "node 130 accuracy 0.5622914590284699 sate 123\n",
      "node 130 accuracy 0.5622914590284699 sate 1995\n",
      "node 140 accuracy 0.5621181262729125 sate 0\n",
      "node 140 accuracy 0.5621181262729125 sate 123\n",
      "node 140 accuracy 0.5621181262729125 sate 1995\n",
      "node 150 accuracy 0.5619718767604108 sate 0\n",
      "node 150 accuracy 0.5619718767604108 sate 123\n",
      "node 150 accuracy 0.5619718767604108 sate 1995\n",
      "node 160 accuracy 0.5619610434631884 sate 0\n",
      "node 160 accuracy 0.5619610434631884 sate 123\n",
      "node 160 accuracy 0.5619610434631884 sate 1995\n",
      "node 170 accuracy 0.5624485418381939 sate 0\n",
      "node 170 accuracy 0.5624485418381939 sate 123\n",
      "node 170 accuracy 0.5624485418381939 sate 1995\n",
      "node 180 accuracy 0.5625839580534732 sate 0\n",
      "node 180 accuracy 0.5625839580534732 sate 123\n",
      "node 180 accuracy 0.5625839580534732 sate 1995\n",
      "node 190 accuracy 0.5624052086493045 sate 0\n",
      "node 190 accuracy 0.5624052086493045 sate 123\n",
      "node 190 accuracy 0.5624052086493045 sate 1995\n"
     ]
    }
   ],
   "source": [
    "for node in [2,3,4,5,6,8] + list(np.arange(10,200,10)):\n",
    "    for state_rand in [0, 123 ,1995]:\n",
    "        buy_in_decision_classifier = DecisionTreeClassifier(max_leaf_nodes=node, random_state=state_rand)\n",
    "        buy_in_decision_classifier.fit(X_train_order, y_train_order)\n",
    "\n",
    "        predictions = buy_in_decision_classifier.predict(X_test_order)\n",
    "\n",
    "        print('node' , node, 'accuracy', accuracy_score(y_true = y_test_order, y_pred = predictions) , 'sate' , state_rand) "
   ]
  },
  {
   "cell_type": "code",
   "execution_count": null,
   "metadata": {},
   "outputs": [],
   "source": []
  },
  {
   "cell_type": "code",
   "execution_count": 72,
   "metadata": {},
   "outputs": [],
   "source": [
    "#1"
   ]
  },
  {
   "cell_type": "code",
   "execution_count": 80,
   "metadata": {},
   "outputs": [
    {
     "name": "stdout",
     "output_type": "stream",
     "text": [
      "0.5478073406421978 sate 0\n"
     ]
    }
   ],
   "source": [
    "node = 8\n",
    "state_rand = 0  #,1,42,235,1995]:\n",
    "buy_in_decision_classifier = DecisionTreeClassifier(max_leaf_nodes=node, random_state=state_rand)\n",
    "buy_in_decision_classifier.fit(X_train_order, y_train_order)\n",
    "\n",
    "predictions = buy_in_decision_classifier.predict(X_test_order)\n",
    "\n",
    "print(accuracy_score(y_true = y_test_order, y_pred = predictions) , 'sate' , state_rand) "
   ]
  },
  {
   "cell_type": "code",
   "execution_count": 81,
   "metadata": {},
   "outputs": [
    {
     "data": {
      "text/plain": [
       "Counter({False: 118405, True: 66211})"
      ]
     },
     "execution_count": 81,
     "metadata": {},
     "output_type": "execute_result"
    }
   ],
   "source": [
    "Counter(predictions)"
   ]
  },
  {
   "cell_type": "code",
   "execution_count": null,
   "metadata": {},
   "outputs": [],
   "source": []
  },
  {
   "cell_type": "code",
   "execution_count": null,
   "metadata": {},
   "outputs": [],
   "source": []
  },
  {
   "cell_type": "code",
   "execution_count": null,
   "metadata": {},
   "outputs": [],
   "source": []
  },
  {
   "cell_type": "code",
   "execution_count": 89,
   "metadata": {},
   "outputs": [
    {
     "data": {
      "text/plain": [
       "Counter({False: 128757, True: 55859})"
      ]
     },
     "execution_count": 89,
     "metadata": {},
     "output_type": "execute_result"
    }
   ],
   "source": [
    "Counter(y_test_order['Buy_In'])"
   ]
  },
  {
   "cell_type": "code",
   "execution_count": 90,
   "metadata": {},
   "outputs": [
    {
     "data": {
      "text/plain": [
       "array([False, False, False, ..., False, False, False])"
      ]
     },
     "execution_count": 90,
     "metadata": {},
     "output_type": "execute_result"
    }
   ],
   "source": [
    "predictions"
   ]
  },
  {
   "cell_type": "code",
   "execution_count": null,
   "metadata": {},
   "outputs": [],
   "source": [
    "dot_data = StringIO()\n",
    "export_graphviz(buy_in_decision_classifier,\n",
    "                feature_names=list(X_train_order.columns),\n",
    "                out_file=dot_data,  \n",
    "                filled=True, rounded=True,\n",
    "                special_characters=True)"
   ]
  },
  {
   "cell_type": "code",
   "execution_count": null,
   "metadata": {},
   "outputs": [],
   "source": [
    "graph = pydotplus.graph_from_dot_data(dot_data.getvalue())  "
   ]
  },
  {
   "cell_type": "code",
   "execution_count": null,
   "metadata": {},
   "outputs": [],
   "source": [
    "graph.write_png(\"tree.png\")\n"
   ]
  },
  {
   "cell_type": "code",
   "execution_count": null,
   "metadata": {},
   "outputs": [],
   "source": [
    "Image(graph.create_png())"
   ]
  },
  {
   "cell_type": "code",
   "execution_count": null,
   "metadata": {},
   "outputs": [],
   "source": []
  },
  {
   "cell_type": "markdown",
   "metadata": {},
   "source": [
    "## Testing theory"
   ]
  },
  {
   "cell_type": "code",
   "execution_count": null,
   "metadata": {},
   "outputs": [],
   "source": [
    "XRP_for_testing.head()"
   ]
  },
  {
   "cell_type": "code",
   "execution_count": 98,
   "metadata": {},
   "outputs": [
    {
     "data": {
      "text/plain": [
       "<matplotlib.axes._subplots.AxesSubplot at 0x1b90804bf98>"
      ]
     },
     "execution_count": 98,
     "metadata": {},
     "output_type": "execute_result"
    },
    {
     "data": {
      "image/png": "[encoded data removed]",
      "text/plain": [
       "<Figure size 432x288 with 1 Axes>"
      ]
     },
     "metadata": {
      "needs_background": "light"
     },
     "output_type": "display_data"
    }
   ],
   "source": [
    "XRP_for_testing[['close_price','datetime_real']].set_index('datetime_real').plot()"
   ]
  },
  {
   "cell_type": "code",
   "execution_count": 99,
   "metadata": {},
   "outputs": [],
   "source": [
    "section_period = {  '3min': 3,\n",
    "                    '4min': 4,\n",
    "                    '5min': 5,\n",
    "                    '10min': 10,\n",
    "                    '15min': 15,\n",
    "                    '20min': 20,\n",
    "                    '25min': 25,\n",
    "                    '30min': 30,\n",
    "                    '35min': 35,\n",
    "                    '40min': 40,\n",
    "                    '45min': 45,\n",
    "                    '50min': 50,\n",
    "                    '55min': 55,\n",
    "                    '1H': 60,\n",
    "                    '2H': 120,\n",
    "                    '4H': 240,\n",
    "                    '12H': 720,\n",
    "                    '24H': 1440,\n",
    "                    '2D': 2880,\n",
    "                    '3D': 4320,\n",
    "                    '4D': 5760,\n",
    "                    '5D': 7200,\n",
    "                    '10D': 14400}"
   ]
  },
  {
   "cell_type": "code",
   "execution_count": 100,
   "metadata": {},
   "outputs": [],
   "source": [
    "for k,v in section_period.items():\n",
    "    XRP_for_testing['{0}_RA_on_Close'.format(k)] = XRP_for_testing['close_price'].rolling(v).mean()"
   ]
  },
  {
   "cell_type": "code",
   "execution_count": 101,
   "metadata": {},
   "outputs": [],
   "source": [
    "compare_sequence = {}"
   ]
  },
  {
   "cell_type": "code",
   "execution_count": 102,
   "metadata": {},
   "outputs": [],
   "source": [
    "for col_1 in [d for d in XRP_for_testing.columns if '_RA_on_Close' in d]:\n",
    "    for col_2 in [d for d in XRP_for_testing.columns if '_RA_on_Close' in d]:\n",
    "        temp_1 = col_1.split('_RA_on_Close')[0]\n",
    "        temp_2 = col_2.split('_RA_on_Close')[0]\n",
    "        if temp_1 != temp_2:\n",
    "            if ((temp_1 + '_minus_' + temp_2) not in compare_sequence.keys() and (temp_2 + '_minus_' + temp_1) not in compare_sequence.keys() ):\n",
    "                compare_sequence.update({temp_1 + '_minus_' + temp_2 : [col_1, col_2]})"
   ]
  },
  {
   "cell_type": "code",
   "execution_count": 103,
   "metadata": {},
   "outputs": [],
   "source": [
    "for k, val in compare_sequence.items():\n",
    "    XRP_for_testing[k] = (XRP_for_testing[val[0]] - XRP_for_testing[val[1]])/XRP_for_testing[val[1]] \n",
    "#     print(k, val[0], val[1])"
   ]
  },
  {
   "cell_type": "code",
   "execution_count": 104,
   "metadata": {},
   "outputs": [],
   "source": [
    "for col in [d for d in XRP_for_testing.columns if '_RA_on_Close' in d]:\n",
    "    XRP_for_testing[col] = XRP_for_testing[col].shift(1)\n",
    "    \n",
    "    XRP_for_testing['{0}_close_percent_dif'.format(col.split('_RA_on_Close')[0])] = (XRP_for_testing['close_price']-XRP_for_testing[col])/XRP_for_testing[col] "
   ]
  },
  {
   "cell_type": "code",
   "execution_count": 105,
   "metadata": {},
   "outputs": [
    {
     "name": "stdout",
     "output_type": "stream",
     "text": [
      "3min 3\n",
      "4min 4\n",
      "5min 5\n",
      "10min 10\n",
      "15min 15\n",
      "20min 20\n",
      "25min 25\n",
      "30min 30\n",
      "35min 35\n",
      "40min 40\n",
      "45min 45\n",
      "50min 50\n",
      "55min 55\n",
      "1H 60\n",
      "2H 120\n",
      "4H 240\n",
      "12H 720\n",
      "24H 1440\n",
      "2D 2880\n",
      "3D 4320\n",
      "4D 5760\n",
      "5D 7200\n",
      "10D 14400\n",
      "3min 3\n",
      "4min 4\n",
      "5min 5\n",
      "10min 10\n",
      "15min 15\n",
      "20min 20\n",
      "25min 25\n",
      "30min 30\n",
      "35min 35\n",
      "40min 40\n",
      "45min 45\n",
      "50min 50\n",
      "55min 55\n",
      "1H 60\n",
      "2H 120\n",
      "4H 240\n",
      "12H 720\n",
      "24H 1440\n",
      "2D 2880\n",
      "3D 4320\n",
      "4D 5760\n",
      "5D 7200\n",
      "10D 14400\n"
     ]
    }
   ],
   "source": [
    "for k,v in section_period.items():\n",
    "    print(k,v)\n",
    "    XRP_for_testing['look_back_{}'.format(k)] = XRP_for_testing['close_price'].shift(v)   # i.e. 20min ago, this is what the close price is\n",
    "#     XRP_for_testing['look_forward_{}'.format(k)] = XRP_for_testing['close'].shift(-v)  # i.e. 20min later, the close price is\n",
    "\n",
    "\n",
    "for k,v in section_period.items():\n",
    "    print(k,v)\n",
    "    XRP_for_testing['calculate_look_back_Percent_{}'.format(k)]    = 100*(XRP_for_testing['close_price'] - XRP_for_testing['look_back_{}'.format(k)])/(5*v)\n",
    "#     XRP_for_testing['calculate_look_forward_Percent_{}'.format(k)] =  100*(XRP_for_testing['look_forward_{}'.format(k)] - XRP_for_testing['close'])/(5*v)"
   ]
  },
  {
   "cell_type": "code",
   "execution_count": 106,
   "metadata": {},
   "outputs": [
    {
     "data": {
      "text/plain": [
       "Counter({True: 33337, False: 65603})"
      ]
     },
     "execution_count": 106,
     "metadata": {},
     "output_type": "execute_result"
    }
   ],
   "source": [
    "Counter(buy_in_decision_classifier.predict(XRP_for_testing[properties].dropna()))"
   ]
  },
  {
   "cell_type": "code",
   "execution_count": 107,
   "metadata": {},
   "outputs": [],
   "source": [
    "XRP_for_testing_drop_na = XRP_for_testing.dropna()"
   ]
  },
  {
   "cell_type": "code",
   "execution_count": 108,
   "metadata": {},
   "outputs": [
    {
     "data": {
      "text/plain": [
       "98939"
      ]
     },
     "execution_count": 108,
     "metadata": {},
     "output_type": "execute_result"
    }
   ],
   "source": [
    "len(XRP_for_testing_drop_na)"
   ]
  },
  {
   "cell_type": "code",
   "execution_count": 109,
   "metadata": {},
   "outputs": [
    {
     "data": {
      "text/plain": [
       "98939"
      ]
     },
     "execution_count": 109,
     "metadata": {},
     "output_type": "execute_result"
    }
   ],
   "source": [
    "len(XRP_for_testing.dropna())"
   ]
  },
  {
   "cell_type": "code",
   "execution_count": null,
   "metadata": {},
   "outputs": [],
   "source": []
  },
  {
   "cell_type": "code",
   "execution_count": 110,
   "metadata": {},
   "outputs": [],
   "source": [
    "### Continus increases:"
   ]
  },
  {
   "cell_type": "code",
   "execution_count": 120,
   "metadata": {},
   "outputs": [
    {
     "data": {
      "text/html": [
       "<div>\n",
       "<style scoped>\n",
       "    .dataframe tbody tr th:only-of-type {\n",
       "        vertical-align: middle;\n",
       "    }\n",
       "\n",
       "    .dataframe tbody tr th {\n",
       "        vertical-align: top;\n",
       "    }\n",
       "\n",
       "    .dataframe thead th {\n",
       "        text-align: right;\n",
       "    }\n",
       "</style>\n",
       "<table border=\"1\" class=\"dataframe\">\n",
       "  <thead>\n",
       "    <tr style=\"text-align: right;\">\n",
       "      <th></th>\n",
       "      <th>datetime_real</th>\n",
       "      <th>timestamp_UTC_millisec</th>\n",
       "      <th>open_price</th>\n",
       "      <th>close_price</th>\n",
       "      <th>highest_price</th>\n",
       "      <th>lowest_price</th>\n",
       "      <th>volume</th>\n",
       "      <th>checking_timestamp_UTC_millisec</th>\n",
       "      <th>dif</th>\n",
       "      <th>timestamp_UTC</th>\n",
       "      <th>...</th>\n",
       "      <th>calculate_look_back_Percent_2H</th>\n",
       "      <th>calculate_look_back_Percent_4H</th>\n",
       "      <th>calculate_look_back_Percent_12H</th>\n",
       "      <th>calculate_look_back_Percent_24H</th>\n",
       "      <th>calculate_look_back_Percent_2D</th>\n",
       "      <th>calculate_look_back_Percent_3D</th>\n",
       "      <th>calculate_look_back_Percent_4D</th>\n",
       "      <th>calculate_look_back_Percent_5D</th>\n",
       "      <th>calculate_look_back_Percent_10D</th>\n",
       "      <th>Buy_from_decision_tree</th>\n",
       "    </tr>\n",
       "  </thead>\n",
       "  <tbody>\n",
       "    <tr>\n",
       "      <th>14400</th>\n",
       "      <td>2019-08-24 23:00:00</td>\n",
       "      <td>1566687600000</td>\n",
       "      <td>0.27237</td>\n",
       "      <td>0.27275</td>\n",
       "      <td>0.27291</td>\n",
       "      <td>0.27237</td>\n",
       "      <td>2000.000000</td>\n",
       "      <td>1.566688e+12</td>\n",
       "      <td>60000.0</td>\n",
       "      <td>1.566688e+09</td>\n",
       "      <td>...</td>\n",
       "      <td>0.000120</td>\n",
       "      <td>0.000088</td>\n",
       "      <td>0.000143</td>\n",
       "      <td>-0.000061</td>\n",
       "      <td>-4.166667e-07</td>\n",
       "      <td>0.000033</td>\n",
       "      <td>-0.000010</td>\n",
       "      <td>-0.000026</td>\n",
       "      <td>0.000003</td>\n",
       "      <td>True</td>\n",
       "    </tr>\n",
       "    <tr>\n",
       "      <th>14401</th>\n",
       "      <td>2019-08-24 23:01:00</td>\n",
       "      <td>1566687660000</td>\n",
       "      <td>0.27251</td>\n",
       "      <td>0.27271</td>\n",
       "      <td>0.27288</td>\n",
       "      <td>0.27251</td>\n",
       "      <td>1500.000000</td>\n",
       "      <td>1.566688e+12</td>\n",
       "      <td>60000.0</td>\n",
       "      <td>1.566688e+09</td>\n",
       "      <td>...</td>\n",
       "      <td>0.000068</td>\n",
       "      <td>0.000061</td>\n",
       "      <td>0.000142</td>\n",
       "      <td>-0.000061</td>\n",
       "      <td>-2.708333e-06</td>\n",
       "      <td>0.000032</td>\n",
       "      <td>-0.000010</td>\n",
       "      <td>-0.000027</td>\n",
       "      <td>0.000004</td>\n",
       "      <td>True</td>\n",
       "    </tr>\n",
       "    <tr>\n",
       "      <th>14402</th>\n",
       "      <td>2019-08-24 23:02:00</td>\n",
       "      <td>1566687720000</td>\n",
       "      <td>0.27265</td>\n",
       "      <td>0.27272</td>\n",
       "      <td>0.27276</td>\n",
       "      <td>0.27265</td>\n",
       "      <td>10712.152045</td>\n",
       "      <td>1.566688e+12</td>\n",
       "      <td>60000.0</td>\n",
       "      <td>1.566688e+09</td>\n",
       "      <td>...</td>\n",
       "      <td>0.000068</td>\n",
       "      <td>0.000061</td>\n",
       "      <td>0.000146</td>\n",
       "      <td>-0.000059</td>\n",
       "      <td>-2.152778e-06</td>\n",
       "      <td>0.000032</td>\n",
       "      <td>-0.000009</td>\n",
       "      <td>-0.000027</td>\n",
       "      <td>0.000003</td>\n",
       "      <td>True</td>\n",
       "    </tr>\n",
       "    <tr>\n",
       "      <th>14403</th>\n",
       "      <td>2019-08-24 23:03:00</td>\n",
       "      <td>1566687780000</td>\n",
       "      <td>0.27272</td>\n",
       "      <td>0.27272</td>\n",
       "      <td>0.27272</td>\n",
       "      <td>0.27272</td>\n",
       "      <td>1872.912271</td>\n",
       "      <td>1.566688e+12</td>\n",
       "      <td>60000.0</td>\n",
       "      <td>1.566688e+09</td>\n",
       "      <td>...</td>\n",
       "      <td>0.000070</td>\n",
       "      <td>0.000054</td>\n",
       "      <td>0.000159</td>\n",
       "      <td>-0.000058</td>\n",
       "      <td>-1.805556e-06</td>\n",
       "      <td>0.000032</td>\n",
       "      <td>-0.000007</td>\n",
       "      <td>-0.000027</td>\n",
       "      <td>0.000003</td>\n",
       "      <td>False</td>\n",
       "    </tr>\n",
       "    <tr>\n",
       "      <th>14404</th>\n",
       "      <td>2019-08-24 23:04:00</td>\n",
       "      <td>1566687840000</td>\n",
       "      <td>0.27272</td>\n",
       "      <td>0.27205</td>\n",
       "      <td>0.27273</td>\n",
       "      <td>0.27201</td>\n",
       "      <td>25289.351953</td>\n",
       "      <td>1.566688e+12</td>\n",
       "      <td>60000.0</td>\n",
       "      <td>1.566688e+09</td>\n",
       "      <td>...</td>\n",
       "      <td>-0.000042</td>\n",
       "      <td>-0.000011</td>\n",
       "      <td>0.000134</td>\n",
       "      <td>-0.000066</td>\n",
       "      <td>-4.305556e-06</td>\n",
       "      <td>0.000029</td>\n",
       "      <td>-0.000009</td>\n",
       "      <td>-0.000028</td>\n",
       "      <td>0.000003</td>\n",
       "      <td>False</td>\n",
       "    </tr>\n",
       "  </tbody>\n",
       "</table>\n",
       "<p>5 rows × 356 columns</p>\n",
       "</div>"
      ],
      "text/plain": [
       "            datetime_real  timestamp_UTC_millisec  open_price  close_price  \\\n",
       "14400 2019-08-24 23:00:00           1566687600000     0.27237      0.27275   \n",
       "14401 2019-08-24 23:01:00           1566687660000     0.27251      0.27271   \n",
       "14402 2019-08-24 23:02:00           1566687720000     0.27265      0.27272   \n",
       "14403 2019-08-24 23:03:00           1566687780000     0.27272      0.27272   \n",
       "14404 2019-08-24 23:04:00           1566687840000     0.27272      0.27205   \n",
       "\n",
       "       highest_price  lowest_price        volume  \\\n",
       "14400        0.27291       0.27237   2000.000000   \n",
       "14401        0.27288       0.27251   1500.000000   \n",
       "14402        0.27276       0.27265  10712.152045   \n",
       "14403        0.27272       0.27272   1872.912271   \n",
       "14404        0.27273       0.27201  25289.351953   \n",
       "\n",
       "       checking_timestamp_UTC_millisec      dif  timestamp_UTC  ...  \\\n",
       "14400                     1.566688e+12  60000.0   1.566688e+09  ...   \n",
       "14401                     1.566688e+12  60000.0   1.566688e+09  ...   \n",
       "14402                     1.566688e+12  60000.0   1.566688e+09  ...   \n",
       "14403                     1.566688e+12  60000.0   1.566688e+09  ...   \n",
       "14404                     1.566688e+12  60000.0   1.566688e+09  ...   \n",
       "\n",
       "       calculate_look_back_Percent_2H  calculate_look_back_Percent_4H  \\\n",
       "14400                        0.000120                        0.000088   \n",
       "14401                        0.000068                        0.000061   \n",
       "14402                        0.000068                        0.000061   \n",
       "14403                        0.000070                        0.000054   \n",
       "14404                       -0.000042                       -0.000011   \n",
       "\n",
       "       calculate_look_back_Percent_12H  calculate_look_back_Percent_24H  \\\n",
       "14400                         0.000143                        -0.000061   \n",
       "14401                         0.000142                        -0.000061   \n",
       "14402                         0.000146                        -0.000059   \n",
       "14403                         0.000159                        -0.000058   \n",
       "14404                         0.000134                        -0.000066   \n",
       "\n",
       "       calculate_look_back_Percent_2D  calculate_look_back_Percent_3D  \\\n",
       "14400                   -4.166667e-07                        0.000033   \n",
       "14401                   -2.708333e-06                        0.000032   \n",
       "14402                   -2.152778e-06                        0.000032   \n",
       "14403                   -1.805556e-06                        0.000032   \n",
       "14404                   -4.305556e-06                        0.000029   \n",
       "\n",
       "       calculate_look_back_Percent_4D  calculate_look_back_Percent_5D  \\\n",
       "14400                       -0.000010                       -0.000026   \n",
       "14401                       -0.000010                       -0.000027   \n",
       "14402                       -0.000009                       -0.000027   \n",
       "14403                       -0.000007                       -0.000027   \n",
       "14404                       -0.000009                       -0.000028   \n",
       "\n",
       "       calculate_look_back_Percent_10D  Buy_from_decision_tree  \n",
       "14400                         0.000003                    True  \n",
       "14401                         0.000004                    True  \n",
       "14402                         0.000003                    True  \n",
       "14403                         0.000003                   False  \n",
       "14404                         0.000003                   False  \n",
       "\n",
       "[5 rows x 356 columns]"
      ]
     },
     "execution_count": 120,
     "metadata": {},
     "output_type": "execute_result"
    }
   ],
   "source": [
    "XRP_for_testing_drop_na.head()"
   ]
  },
  {
   "cell_type": "code",
   "execution_count": null,
   "metadata": {},
   "outputs": [],
   "source": []
  },
  {
   "cell_type": "code",
   "execution_count": null,
   "metadata": {},
   "outputs": [],
   "source": []
  },
  {
   "cell_type": "code",
   "execution_count": 112,
   "metadata": {},
   "outputs": [],
   "source": [
    "XRP_for_testing_drop_na['Buy_from_decision_tree'] = buy_in_decision_classifier.predict(XRP_for_testing_drop_na[properties])"
   ]
  },
  {
   "cell_type": "code",
   "execution_count": 141,
   "metadata": {},
   "outputs": [],
   "source": [
    "time_event = {}\n",
    "starting_asset = 100\n",
    "bought_crypto = False\n",
    "over_write = False\n",
    "\n",
    "gold_available = starting_asset \n",
    "XRP_amount = 0\n",
    "\n",
    "stop_loss_limit = -0.02\n",
    "\n",
    "overwrite_sell = 0.03\n",
    "wait_15min_sell_activate = False"
   ]
  },
  {
   "cell_type": "code",
   "execution_count": 142,
   "metadata": {},
   "outputs": [],
   "source": [
    "set_order_events = {}"
   ]
  },
  {
   "cell_type": "code",
   "execution_count": 143,
   "metadata": {},
   "outputs": [],
   "source": [
    "set_order = False\n",
    "sell_order = False"
   ]
  },
  {
   "cell_type": "code",
   "execution_count": null,
   "metadata": {},
   "outputs": [],
   "source": []
  },
  {
   "cell_type": "code",
   "execution_count": 144,
   "metadata": {},
   "outputs": [
    {
     "data": {
      "text/html": [
       "<div>\n",
       "<style scoped>\n",
       "    .dataframe tbody tr th:only-of-type {\n",
       "        vertical-align: middle;\n",
       "    }\n",
       "\n",
       "    .dataframe tbody tr th {\n",
       "        vertical-align: top;\n",
       "    }\n",
       "\n",
       "    .dataframe thead th {\n",
       "        text-align: right;\n",
       "    }\n",
       "</style>\n",
       "<table border=\"1\" class=\"dataframe\">\n",
       "  <thead>\n",
       "    <tr style=\"text-align: right;\">\n",
       "      <th></th>\n",
       "      <th>datetime_real</th>\n",
       "      <th>timestamp_UTC_millisec</th>\n",
       "      <th>open_price</th>\n",
       "      <th>close_price</th>\n",
       "      <th>highest_price</th>\n",
       "      <th>lowest_price</th>\n",
       "      <th>volume</th>\n",
       "      <th>checking_timestamp_UTC_millisec</th>\n",
       "      <th>dif</th>\n",
       "      <th>timestamp_UTC</th>\n",
       "      <th>...</th>\n",
       "      <th>calculate_look_back_Percent_2H</th>\n",
       "      <th>calculate_look_back_Percent_4H</th>\n",
       "      <th>calculate_look_back_Percent_12H</th>\n",
       "      <th>calculate_look_back_Percent_24H</th>\n",
       "      <th>calculate_look_back_Percent_2D</th>\n",
       "      <th>calculate_look_back_Percent_3D</th>\n",
       "      <th>calculate_look_back_Percent_4D</th>\n",
       "      <th>calculate_look_back_Percent_5D</th>\n",
       "      <th>calculate_look_back_Percent_10D</th>\n",
       "      <th>Buy_from_decision_tree</th>\n",
       "    </tr>\n",
       "  </thead>\n",
       "  <tbody>\n",
       "    <tr>\n",
       "      <th>14400</th>\n",
       "      <td>2019-08-24 23:00:00</td>\n",
       "      <td>1566687600000</td>\n",
       "      <td>0.27237</td>\n",
       "      <td>0.27275</td>\n",
       "      <td>0.27291</td>\n",
       "      <td>0.27237</td>\n",
       "      <td>2000.000000</td>\n",
       "      <td>1.566688e+12</td>\n",
       "      <td>60000.0</td>\n",
       "      <td>1.566688e+09</td>\n",
       "      <td>...</td>\n",
       "      <td>0.000120</td>\n",
       "      <td>0.000088</td>\n",
       "      <td>0.000143</td>\n",
       "      <td>-0.000061</td>\n",
       "      <td>-4.166667e-07</td>\n",
       "      <td>0.000033</td>\n",
       "      <td>-0.000010</td>\n",
       "      <td>-0.000026</td>\n",
       "      <td>0.000003</td>\n",
       "      <td>True</td>\n",
       "    </tr>\n",
       "    <tr>\n",
       "      <th>14401</th>\n",
       "      <td>2019-08-24 23:01:00</td>\n",
       "      <td>1566687660000</td>\n",
       "      <td>0.27251</td>\n",
       "      <td>0.27271</td>\n",
       "      <td>0.27288</td>\n",
       "      <td>0.27251</td>\n",
       "      <td>1500.000000</td>\n",
       "      <td>1.566688e+12</td>\n",
       "      <td>60000.0</td>\n",
       "      <td>1.566688e+09</td>\n",
       "      <td>...</td>\n",
       "      <td>0.000068</td>\n",
       "      <td>0.000061</td>\n",
       "      <td>0.000142</td>\n",
       "      <td>-0.000061</td>\n",
       "      <td>-2.708333e-06</td>\n",
       "      <td>0.000032</td>\n",
       "      <td>-0.000010</td>\n",
       "      <td>-0.000027</td>\n",
       "      <td>0.000004</td>\n",
       "      <td>True</td>\n",
       "    </tr>\n",
       "    <tr>\n",
       "      <th>14402</th>\n",
       "      <td>2019-08-24 23:02:00</td>\n",
       "      <td>1566687720000</td>\n",
       "      <td>0.27265</td>\n",
       "      <td>0.27272</td>\n",
       "      <td>0.27276</td>\n",
       "      <td>0.27265</td>\n",
       "      <td>10712.152045</td>\n",
       "      <td>1.566688e+12</td>\n",
       "      <td>60000.0</td>\n",
       "      <td>1.566688e+09</td>\n",
       "      <td>...</td>\n",
       "      <td>0.000068</td>\n",
       "      <td>0.000061</td>\n",
       "      <td>0.000146</td>\n",
       "      <td>-0.000059</td>\n",
       "      <td>-2.152778e-06</td>\n",
       "      <td>0.000032</td>\n",
       "      <td>-0.000009</td>\n",
       "      <td>-0.000027</td>\n",
       "      <td>0.000003</td>\n",
       "      <td>True</td>\n",
       "    </tr>\n",
       "    <tr>\n",
       "      <th>14403</th>\n",
       "      <td>2019-08-24 23:03:00</td>\n",
       "      <td>1566687780000</td>\n",
       "      <td>0.27272</td>\n",
       "      <td>0.27272</td>\n",
       "      <td>0.27272</td>\n",
       "      <td>0.27272</td>\n",
       "      <td>1872.912271</td>\n",
       "      <td>1.566688e+12</td>\n",
       "      <td>60000.0</td>\n",
       "      <td>1.566688e+09</td>\n",
       "      <td>...</td>\n",
       "      <td>0.000070</td>\n",
       "      <td>0.000054</td>\n",
       "      <td>0.000159</td>\n",
       "      <td>-0.000058</td>\n",
       "      <td>-1.805556e-06</td>\n",
       "      <td>0.000032</td>\n",
       "      <td>-0.000007</td>\n",
       "      <td>-0.000027</td>\n",
       "      <td>0.000003</td>\n",
       "      <td>False</td>\n",
       "    </tr>\n",
       "    <tr>\n",
       "      <th>14404</th>\n",
       "      <td>2019-08-24 23:04:00</td>\n",
       "      <td>1566687840000</td>\n",
       "      <td>0.27272</td>\n",
       "      <td>0.27205</td>\n",
       "      <td>0.27273</td>\n",
       "      <td>0.27201</td>\n",
       "      <td>25289.351953</td>\n",
       "      <td>1.566688e+12</td>\n",
       "      <td>60000.0</td>\n",
       "      <td>1.566688e+09</td>\n",
       "      <td>...</td>\n",
       "      <td>-0.000042</td>\n",
       "      <td>-0.000011</td>\n",
       "      <td>0.000134</td>\n",
       "      <td>-0.000066</td>\n",
       "      <td>-4.305556e-06</td>\n",
       "      <td>0.000029</td>\n",
       "      <td>-0.000009</td>\n",
       "      <td>-0.000028</td>\n",
       "      <td>0.000003</td>\n",
       "      <td>False</td>\n",
       "    </tr>\n",
       "  </tbody>\n",
       "</table>\n",
       "<p>5 rows × 356 columns</p>\n",
       "</div>"
      ],
      "text/plain": [
       "            datetime_real  timestamp_UTC_millisec  open_price  close_price  \\\n",
       "14400 2019-08-24 23:00:00           1566687600000     0.27237      0.27275   \n",
       "14401 2019-08-24 23:01:00           1566687660000     0.27251      0.27271   \n",
       "14402 2019-08-24 23:02:00           1566687720000     0.27265      0.27272   \n",
       "14403 2019-08-24 23:03:00           1566687780000     0.27272      0.27272   \n",
       "14404 2019-08-24 23:04:00           1566687840000     0.27272      0.27205   \n",
       "\n",
       "       highest_price  lowest_price        volume  \\\n",
       "14400        0.27291       0.27237   2000.000000   \n",
       "14401        0.27288       0.27251   1500.000000   \n",
       "14402        0.27276       0.27265  10712.152045   \n",
       "14403        0.27272       0.27272   1872.912271   \n",
       "14404        0.27273       0.27201  25289.351953   \n",
       "\n",
       "       checking_timestamp_UTC_millisec      dif  timestamp_UTC  ...  \\\n",
       "14400                     1.566688e+12  60000.0   1.566688e+09  ...   \n",
       "14401                     1.566688e+12  60000.0   1.566688e+09  ...   \n",
       "14402                     1.566688e+12  60000.0   1.566688e+09  ...   \n",
       "14403                     1.566688e+12  60000.0   1.566688e+09  ...   \n",
       "14404                     1.566688e+12  60000.0   1.566688e+09  ...   \n",
       "\n",
       "       calculate_look_back_Percent_2H  calculate_look_back_Percent_4H  \\\n",
       "14400                        0.000120                        0.000088   \n",
       "14401                        0.000068                        0.000061   \n",
       "14402                        0.000068                        0.000061   \n",
       "14403                        0.000070                        0.000054   \n",
       "14404                       -0.000042                       -0.000011   \n",
       "\n",
       "       calculate_look_back_Percent_12H  calculate_look_back_Percent_24H  \\\n",
       "14400                         0.000143                        -0.000061   \n",
       "14401                         0.000142                        -0.000061   \n",
       "14402                         0.000146                        -0.000059   \n",
       "14403                         0.000159                        -0.000058   \n",
       "14404                         0.000134                        -0.000066   \n",
       "\n",
       "       calculate_look_back_Percent_2D  calculate_look_back_Percent_3D  \\\n",
       "14400                   -4.166667e-07                        0.000033   \n",
       "14401                   -2.708333e-06                        0.000032   \n",
       "14402                   -2.152778e-06                        0.000032   \n",
       "14403                   -1.805556e-06                        0.000032   \n",
       "14404                   -4.305556e-06                        0.000029   \n",
       "\n",
       "       calculate_look_back_Percent_4D  calculate_look_back_Percent_5D  \\\n",
       "14400                       -0.000010                       -0.000026   \n",
       "14401                       -0.000010                       -0.000027   \n",
       "14402                       -0.000009                       -0.000027   \n",
       "14403                       -0.000007                       -0.000027   \n",
       "14404                       -0.000009                       -0.000028   \n",
       "\n",
       "       calculate_look_back_Percent_10D  Buy_from_decision_tree  \n",
       "14400                         0.000003                    True  \n",
       "14401                         0.000004                    True  \n",
       "14402                         0.000003                    True  \n",
       "14403                         0.000003                   False  \n",
       "14404                         0.000003                   False  \n",
       "\n",
       "[5 rows x 356 columns]"
      ]
     },
     "execution_count": 144,
     "metadata": {},
     "output_type": "execute_result"
    }
   ],
   "source": [
    "XRP_for_testing_drop_na.head()"
   ]
  },
  {
   "cell_type": "code",
   "execution_count": 145,
   "metadata": {},
   "outputs": [],
   "source": [
    "for ind, df in XRP_for_testing_drop_na[2:].iterrows():\n",
    "    print(df['timestamp_UTC'])\n",
    "\n",
    "    try:\n",
    "        overwrite_track_price_10min_ago = XRP_for_testing_drop_na[XRP_for_testing_drop_na['timestamp_UTC'] == (df['timestamp_UTC'] - 600)]['timestamp_UTC'].values[0]\n",
    "        overwrite_track_time_10min_ago = XRP_for_testing_drop_na[XRP_for_testing_drop_na['timestamp_UTC'] == (df['timestamp_UTC'] - 600)]['close_price'].values[0]\n",
    "    except:\n",
    "        None\n",
    "        \n",
    "    if set_order:\n",
    "        print('set_order',  df['timestamp_UTC'])\n",
    "        if df['lowest_price'] <= set_order_price:\n",
    "            XRP_amount += (gold_available/set_order_price) * 0.998 # due to 0.2% fee\n",
    "\n",
    "            gold_available -= gold_available\n",
    "\n",
    "            time_event.update({df['timestamp_UTC']  : ( gold_available, XRP_amount , 'brought' , set_order_price)})\n",
    "\n",
    "            last_xrp_traction_price =  set_order_price\n",
    "\n",
    "            bought_crypto = True\n",
    "\n",
    "            latest_bought_crypto_timestamp = df['timestamp_UTC']\n",
    "            \n",
    "            set_order = False\n",
    "            sell_order = True\n",
    "            set_order_events.update({ df['timestamp_UTC'] :  ( 'buy_order_executed, sell_order_made' , set_order_price) })\n",
    "            \n",
    "            #print('last_xrp_traction_price ', last_xrp_traction_price)\n",
    "    \n",
    "    elif sell_order:\n",
    "        \n",
    "        if df['highest_price'] >= sell_price:\n",
    "            gold_available += XRP_amount * sell_price * 0.998\n",
    "            XRP_amount -= XRP_amount\n",
    "            time_event.update({df['timestamp_UTC']  : ( gold_available, XRP_amount , 'sell' ,  sell_price)})\n",
    "            bought_crypto = False\n",
    "            \n",
    "            set_order_events.update({ df['timestamp_UTC'] : ( 'sell_order_executed' , set_order_price) })\n",
    "            sell_order = False\n",
    "            \n",
    "            \n",
    "            \n",
    "#                 elif (df['close_price'] - last_xrp_traction_price)/df['close_price'] >= 0.005:\n",
    "\n",
    "#                     gold_available += XRP_amount * df['close_price'] * 0.998  # sell at low price\n",
    "\n",
    "#                     XRP_amount -= XRP_amount\n",
    "\n",
    "#                     time_event.update({df['timestamp_UTC']  : ( gold_available, XRP_amount , 'sell' ,  df['close_price'])})\n",
    "\n",
    "#                     bought_crypto = False\n",
    "        \n",
    "        \n",
    "    else:  # no buy order set nor sell order set\n",
    "            \n",
    "        if bought_crypto != True: # then looking to buy at drop limit or lower\n",
    "            if (overwrite_track_time_10min_ago - df['close_price'])/overwrite_track_time_10min_ago > 0.1:\n",
    "                print(\"manual overwrite 10% sharp drop\")\n",
    "\n",
    "                XRP_amount += (gold_available/df['close_price']) * 0.998 # due to 0.2% fee\n",
    "\n",
    "                gold_available -= gold_available\n",
    "\n",
    "                time_event.update({df['timestamp_UTC']  : ( gold_available, XRP_amount , 'brought' , df['close_price'])})\n",
    "\n",
    "                last_xrp_traction_price =  df['close_price']\n",
    "\n",
    "                bought_crypto = True\n",
    "                over_write = True\n",
    "\n",
    "                over_write_time = df['timestamp_UTC']\n",
    "\n",
    "                latest_bought_crypto_timestamp = df['datetime_real']\n",
    "\n",
    "                print(over_write_time, over_write )\n",
    "\n",
    "\n",
    "\n",
    "\n",
    "            elif df['Buy_from_decision_tree']: \n",
    "                \"then set an order at 0.5% lower than close\"\n",
    "                set_order = True\n",
    "                set_order_price = df['close_price'] * 0.995\n",
    "                print('set_order_true at {}'.format(df['timestamp_UTC']), 'set_price = {}'.format(set_order_price))\n",
    "                set_order_events.update({df['timestamp_UTC'] : ('buy_order_made' , set_order_price )})\n",
    "                \n",
    "                sell_price = set_order_price*1.005\n",
    "#                 sell_order = True\n",
    "\n",
    "\n",
    "    clear_output()"
   ]
  },
  {
   "cell_type": "code",
   "execution_count": null,
   "metadata": {},
   "outputs": [],
   "source": []
  },
  {
   "cell_type": "code",
   "execution_count": null,
   "metadata": {},
   "outputs": [],
   "source": []
  },
  {
   "cell_type": "code",
   "execution_count": null,
   "metadata": {},
   "outputs": [],
   "source": []
  },
  {
   "cell_type": "code",
   "execution_count": null,
   "metadata": {},
   "outputs": [],
   "source": []
  },
  {
   "cell_type": "code",
   "execution_count": null,
   "metadata": {},
   "outputs": [],
   "source": []
  },
  {
   "cell_type": "code",
   "execution_count": 114,
   "metadata": {},
   "outputs": [
    {
     "data": {
      "text/html": [
       "<div>\n",
       "<style scoped>\n",
       "    .dataframe tbody tr th:only-of-type {\n",
       "        vertical-align: middle;\n",
       "    }\n",
       "\n",
       "    .dataframe tbody tr th {\n",
       "        vertical-align: top;\n",
       "    }\n",
       "\n",
       "    .dataframe thead th {\n",
       "        text-align: right;\n",
       "    }\n",
       "</style>\n",
       "<table border=\"1\" class=\"dataframe\">\n",
       "  <thead>\n",
       "    <tr style=\"text-align: right;\">\n",
       "      <th></th>\n",
       "      <th>datetime_real</th>\n",
       "      <th>timestamp_UTC_millisec</th>\n",
       "      <th>open_price</th>\n",
       "      <th>close_price</th>\n",
       "      <th>highest_price</th>\n",
       "      <th>lowest_price</th>\n",
       "      <th>volume</th>\n",
       "      <th>checking_timestamp_UTC_millisec</th>\n",
       "      <th>dif</th>\n",
       "      <th>timestamp_UTC</th>\n",
       "      <th>...</th>\n",
       "      <th>calculate_look_back_Percent_2H</th>\n",
       "      <th>calculate_look_back_Percent_4H</th>\n",
       "      <th>calculate_look_back_Percent_12H</th>\n",
       "      <th>calculate_look_back_Percent_24H</th>\n",
       "      <th>calculate_look_back_Percent_2D</th>\n",
       "      <th>calculate_look_back_Percent_3D</th>\n",
       "      <th>calculate_look_back_Percent_4D</th>\n",
       "      <th>calculate_look_back_Percent_5D</th>\n",
       "      <th>calculate_look_back_Percent_10D</th>\n",
       "      <th>Buy_from_decision_tree</th>\n",
       "    </tr>\n",
       "  </thead>\n",
       "  <tbody>\n",
       "    <tr>\n",
       "      <th>14400</th>\n",
       "      <td>2019-08-24 23:00:00</td>\n",
       "      <td>1566687600000</td>\n",
       "      <td>0.27237</td>\n",
       "      <td>0.27275</td>\n",
       "      <td>0.27291</td>\n",
       "      <td>0.27237</td>\n",
       "      <td>2000.000000</td>\n",
       "      <td>1.566688e+12</td>\n",
       "      <td>60000.0</td>\n",
       "      <td>1.566688e+09</td>\n",
       "      <td>...</td>\n",
       "      <td>0.000120</td>\n",
       "      <td>0.000088</td>\n",
       "      <td>0.000143</td>\n",
       "      <td>-0.000061</td>\n",
       "      <td>-4.166667e-07</td>\n",
       "      <td>0.000033</td>\n",
       "      <td>-0.000010</td>\n",
       "      <td>-0.000026</td>\n",
       "      <td>0.000003</td>\n",
       "      <td>True</td>\n",
       "    </tr>\n",
       "    <tr>\n",
       "      <th>14401</th>\n",
       "      <td>2019-08-24 23:01:00</td>\n",
       "      <td>1566687660000</td>\n",
       "      <td>0.27251</td>\n",
       "      <td>0.27271</td>\n",
       "      <td>0.27288</td>\n",
       "      <td>0.27251</td>\n",
       "      <td>1500.000000</td>\n",
       "      <td>1.566688e+12</td>\n",
       "      <td>60000.0</td>\n",
       "      <td>1.566688e+09</td>\n",
       "      <td>...</td>\n",
       "      <td>0.000068</td>\n",
       "      <td>0.000061</td>\n",
       "      <td>0.000142</td>\n",
       "      <td>-0.000061</td>\n",
       "      <td>-2.708333e-06</td>\n",
       "      <td>0.000032</td>\n",
       "      <td>-0.000010</td>\n",
       "      <td>-0.000027</td>\n",
       "      <td>0.000004</td>\n",
       "      <td>True</td>\n",
       "    </tr>\n",
       "    <tr>\n",
       "      <th>14402</th>\n",
       "      <td>2019-08-24 23:02:00</td>\n",
       "      <td>1566687720000</td>\n",
       "      <td>0.27265</td>\n",
       "      <td>0.27272</td>\n",
       "      <td>0.27276</td>\n",
       "      <td>0.27265</td>\n",
       "      <td>10712.152045</td>\n",
       "      <td>1.566688e+12</td>\n",
       "      <td>60000.0</td>\n",
       "      <td>1.566688e+09</td>\n",
       "      <td>...</td>\n",
       "      <td>0.000068</td>\n",
       "      <td>0.000061</td>\n",
       "      <td>0.000146</td>\n",
       "      <td>-0.000059</td>\n",
       "      <td>-2.152778e-06</td>\n",
       "      <td>0.000032</td>\n",
       "      <td>-0.000009</td>\n",
       "      <td>-0.000027</td>\n",
       "      <td>0.000003</td>\n",
       "      <td>True</td>\n",
       "    </tr>\n",
       "    <tr>\n",
       "      <th>14403</th>\n",
       "      <td>2019-08-24 23:03:00</td>\n",
       "      <td>1566687780000</td>\n",
       "      <td>0.27272</td>\n",
       "      <td>0.27272</td>\n",
       "      <td>0.27272</td>\n",
       "      <td>0.27272</td>\n",
       "      <td>1872.912271</td>\n",
       "      <td>1.566688e+12</td>\n",
       "      <td>60000.0</td>\n",
       "      <td>1.566688e+09</td>\n",
       "      <td>...</td>\n",
       "      <td>0.000070</td>\n",
       "      <td>0.000054</td>\n",
       "      <td>0.000159</td>\n",
       "      <td>-0.000058</td>\n",
       "      <td>-1.805556e-06</td>\n",
       "      <td>0.000032</td>\n",
       "      <td>-0.000007</td>\n",
       "      <td>-0.000027</td>\n",
       "      <td>0.000003</td>\n",
       "      <td>False</td>\n",
       "    </tr>\n",
       "    <tr>\n",
       "      <th>14404</th>\n",
       "      <td>2019-08-24 23:04:00</td>\n",
       "      <td>1566687840000</td>\n",
       "      <td>0.27272</td>\n",
       "      <td>0.27205</td>\n",
       "      <td>0.27273</td>\n",
       "      <td>0.27201</td>\n",
       "      <td>25289.351953</td>\n",
       "      <td>1.566688e+12</td>\n",
       "      <td>60000.0</td>\n",
       "      <td>1.566688e+09</td>\n",
       "      <td>...</td>\n",
       "      <td>-0.000042</td>\n",
       "      <td>-0.000011</td>\n",
       "      <td>0.000134</td>\n",
       "      <td>-0.000066</td>\n",
       "      <td>-4.305556e-06</td>\n",
       "      <td>0.000029</td>\n",
       "      <td>-0.000009</td>\n",
       "      <td>-0.000028</td>\n",
       "      <td>0.000003</td>\n",
       "      <td>False</td>\n",
       "    </tr>\n",
       "  </tbody>\n",
       "</table>\n",
       "<p>5 rows × 356 columns</p>\n",
       "</div>"
      ],
      "text/plain": [
       "            datetime_real  timestamp_UTC_millisec  open_price  close_price  \\\n",
       "14400 2019-08-24 23:00:00           1566687600000     0.27237      0.27275   \n",
       "14401 2019-08-24 23:01:00           1566687660000     0.27251      0.27271   \n",
       "14402 2019-08-24 23:02:00           1566687720000     0.27265      0.27272   \n",
       "14403 2019-08-24 23:03:00           1566687780000     0.27272      0.27272   \n",
       "14404 2019-08-24 23:04:00           1566687840000     0.27272      0.27205   \n",
       "\n",
       "       highest_price  lowest_price        volume  \\\n",
       "14400        0.27291       0.27237   2000.000000   \n",
       "14401        0.27288       0.27251   1500.000000   \n",
       "14402        0.27276       0.27265  10712.152045   \n",
       "14403        0.27272       0.27272   1872.912271   \n",
       "14404        0.27273       0.27201  25289.351953   \n",
       "\n",
       "       checking_timestamp_UTC_millisec      dif  timestamp_UTC  ...  \\\n",
       "14400                     1.566688e+12  60000.0   1.566688e+09  ...   \n",
       "14401                     1.566688e+12  60000.0   1.566688e+09  ...   \n",
       "14402                     1.566688e+12  60000.0   1.566688e+09  ...   \n",
       "14403                     1.566688e+12  60000.0   1.566688e+09  ...   \n",
       "14404                     1.566688e+12  60000.0   1.566688e+09  ...   \n",
       "\n",
       "       calculate_look_back_Percent_2H  calculate_look_back_Percent_4H  \\\n",
       "14400                        0.000120                        0.000088   \n",
       "14401                        0.000068                        0.000061   \n",
       "14402                        0.000068                        0.000061   \n",
       "14403                        0.000070                        0.000054   \n",
       "14404                       -0.000042                       -0.000011   \n",
       "\n",
       "       calculate_look_back_Percent_12H  calculate_look_back_Percent_24H  \\\n",
       "14400                         0.000143                        -0.000061   \n",
       "14401                         0.000142                        -0.000061   \n",
       "14402                         0.000146                        -0.000059   \n",
       "14403                         0.000159                        -0.000058   \n",
       "14404                         0.000134                        -0.000066   \n",
       "\n",
       "       calculate_look_back_Percent_2D  calculate_look_back_Percent_3D  \\\n",
       "14400                   -4.166667e-07                        0.000033   \n",
       "14401                   -2.708333e-06                        0.000032   \n",
       "14402                   -2.152778e-06                        0.000032   \n",
       "14403                   -1.805556e-06                        0.000032   \n",
       "14404                   -4.305556e-06                        0.000029   \n",
       "\n",
       "       calculate_look_back_Percent_4D  calculate_look_back_Percent_5D  \\\n",
       "14400                       -0.000010                       -0.000026   \n",
       "14401                       -0.000010                       -0.000027   \n",
       "14402                       -0.000009                       -0.000027   \n",
       "14403                       -0.000007                       -0.000027   \n",
       "14404                       -0.000009                       -0.000028   \n",
       "\n",
       "       calculate_look_back_Percent_10D  Buy_from_decision_tree  \n",
       "14400                         0.000003                    True  \n",
       "14401                         0.000004                    True  \n",
       "14402                         0.000003                    True  \n",
       "14403                         0.000003                   False  \n",
       "14404                         0.000003                   False  \n",
       "\n",
       "[5 rows x 356 columns]"
      ]
     },
     "execution_count": 114,
     "metadata": {},
     "output_type": "execute_result"
    }
   ],
   "source": [
    "XRP_for_testing_drop_na.head()"
   ]
  },
  {
   "cell_type": "code",
   "execution_count": 115,
   "metadata": {},
   "outputs": [
    {
     "data": {
      "text/plain": [
       "1566687720.0"
      ]
     },
     "execution_count": 115,
     "metadata": {},
     "output_type": "execute_result"
    }
   ],
   "source": [
    "XRP_for_testing_drop_na[2:].head()['timestamp_UTC'].values[0]"
   ]
  },
  {
   "cell_type": "code",
   "execution_count": 116,
   "metadata": {},
   "outputs": [],
   "source": [
    "overwrite_track_price_10min_ago = 1566687720.0\n",
    "overwrite_track_time_10min_ago = 0.27265"
   ]
  },
  {
   "cell_type": "code",
   "execution_count": null,
   "metadata": {},
   "outputs": [],
   "source": []
  },
  {
   "cell_type": "code",
   "execution_count": 146,
   "metadata": {},
   "outputs": [],
   "source": [
    "transation_log = pd.DataFrame.from_dict(time_event, orient='index', columns= ['Gold', 'XRP_Amount', 'action', 'price_action_happened'])\n",
    "\n",
    "transation_log['datetime_real'] = [datetime.fromtimestamp(d) for d in transation_log.index]\n",
    "\n",
    "transation_log['USD'] = round(transation_log['Gold'], 2)\n",
    "\n",
    "transation_log['XRP_Amount'] = round(transation_log['XRP_Amount'], 4)"
   ]
  },
  {
   "cell_type": "code",
   "execution_count": 147,
   "metadata": {},
   "outputs": [
    {
     "data": {
      "text/html": [
       "<div>\n",
       "<style scoped>\n",
       "    .dataframe tbody tr th:only-of-type {\n",
       "        vertical-align: middle;\n",
       "    }\n",
       "\n",
       "    .dataframe tbody tr th {\n",
       "        vertical-align: top;\n",
       "    }\n",
       "\n",
       "    .dataframe thead th {\n",
       "        text-align: right;\n",
       "    }\n",
       "</style>\n",
       "<table border=\"1\" class=\"dataframe\">\n",
       "  <thead>\n",
       "    <tr style=\"text-align: right;\">\n",
       "      <th></th>\n",
       "      <th>Gold</th>\n",
       "      <th>XRP_Amount</th>\n",
       "      <th>action</th>\n",
       "      <th>price_action_happened</th>\n",
       "      <th>datetime_real</th>\n",
       "      <th>USD</th>\n",
       "    </tr>\n",
       "  </thead>\n",
       "  <tbody>\n",
       "  </tbody>\n",
       "</table>\n",
       "</div>"
      ],
      "text/plain": [
       "Empty DataFrame\n",
       "Columns: [Gold, XRP_Amount, action, price_action_happened, datetime_real, USD]\n",
       "Index: []"
      ]
     },
     "execution_count": 147,
     "metadata": {},
     "output_type": "execute_result"
    }
   ],
   "source": [
    "transation_log[(transation_log['action'] != 'brought') & (transation_log['action'] != 'sell')]"
   ]
  },
  {
   "cell_type": "code",
   "execution_count": 148,
   "metadata": {},
   "outputs": [
    {
     "data": {
      "text/plain": [
       "<matplotlib.axes._subplots.AxesSubplot at 0x1b907da3780>"
      ]
     },
     "execution_count": 148,
     "metadata": {},
     "output_type": "execute_result"
    },
    {
     "data": {
      "image/png": "[encoded data removed]",
      "text/plain": [
       "<Figure size 1440x720 with 1 Axes>"
      ]
     },
     "metadata": {
      "needs_background": "light"
     },
     "output_type": "display_data"
    }
   ],
   "source": [
    "transation_log[transation_log['action'] != 'brought'].set_index('datetime_real')[['USD']].plot(figsize = (20,10))"
   ]
  },
  {
   "cell_type": "code",
   "execution_count": null,
   "metadata": {},
   "outputs": [],
   "source": []
  },
  {
   "cell_type": "markdown",
   "metadata": {},
   "source": [
    "## Final result visualisation"
   ]
  },
  {
   "cell_type": "code",
   "execution_count": 170,
   "metadata": {},
   "outputs": [],
   "source": [
    "def plotting_view(xrp_data_input , trading_log ):\n",
    "\n",
    "#     ploting_breakdown = XRP_Analysis_table[(XRP_Analysis_table['date'] >= 1507374600 ) &\n",
    "#                                            (XRP_Analysis_table['date'] <= 1511274300 )]\n",
    "\n",
    "\n",
    "    transaction_display = trading_log\n",
    "    transaction_display['time_start'] = transaction_display.index\n",
    "    transaction_display['time_end'] = round(transaction_display['time_start'].shift(-1), 0)\n",
    "\n",
    "    transaction_display['action_to_color'] = transaction_display['action'].shift(-1)\n",
    "\n",
    "    transaction_display['colour_section'] = transaction_display['action_to_color'].apply(lambda x: 'black' if x == 'stop_loss_hit' else 'blue' if x == 'time_stop' else 'g')\n",
    "#     transaction_display['colour_section'] = transaction_display['action_to_color'].apply(lambda x: 'o' if x == 'time_stop' else x)\n",
    "    \n",
    "    ploting_breakdown = xrp_data_input\n",
    "    plt.figure(figsize= (20,10))\n",
    "\n",
    "\n",
    "#     tran_y_low = ploting_breakdown['low']\n",
    "#     tran_y_high = ploting_breakdown['high']\n",
    "    tran_y_close = ploting_breakdown['close_price']\n",
    "\n",
    "#     tran_y_ra = ploting_breakdown['20min_RA_on_Close']\n",
    "\n",
    "    tran_x = ploting_breakdown['timestamp_UTC']\n",
    "\n",
    "\n",
    "#     plt.plot(tran_x, tran_y_low)\n",
    "#     plt.plot(tran_x, tran_y_high)\n",
    "    plt.plot(tran_x, tran_y_close)\n",
    "\n",
    "#     plt.plot(tran_x, tran_y_ra)\n",
    "\n",
    "    graph_min = ploting_breakdown['close_price'].min() * 0.95\n",
    "    graph_max = ploting_breakdown['close_price'].max() * 1.05\n",
    "\n",
    "    # plotting transaction\n",
    "    for ind, value in transaction_display[ (transaction_display['time_start'] <= ploting_breakdown['timestamp_UTC'].max()) &\n",
    "                                           (transaction_display['time_start'] >= ploting_breakdown['timestamp_UTC'].min()) &                      \n",
    "                                           (transaction_display['action'] == 'brought')].iterrows():\n",
    "\n",
    "        plt.axvspan(value['time_start'], value['time_end'], alpha = 0.1 , facecolor = value['colour_section'])\n",
    "\n",
    "        plt.vlines(value['time_start'], graph_min, graph_max, alpha = 0.4, color = value['colour_section'])\n",
    "        plt.vlines(value['time_end'], graph_min, graph_max, alpha = 0.4, color = value['colour_section'], linestyle = 'dashed')\n",
    "\n",
    "\n",
    "#     for ind, value in ploting_breakdown[ploting_breakdown['Increase_0.5_percent'] <= ploting_breakdown['date'].max()].iterrows():\n",
    "#     #     print(value['Increase_0.5_percent'])\n",
    "#     #     plt.vlines(value['date'], 0, 1, alpha = 0.2, color = 'b',linestyle = 'dashed')\n",
    "#         plt.vlines(value['Increase_0.5_percent'], 0, 1, alpha = 0.2, color = 'b',linestyle = 'dashed')\n",
    "\n",
    "    \n",
    "    for ind, value in ploting_breakdown[ploting_breakdown['Buy_from_decision_tree']].iterrows():\n",
    "    #     print(value['Increase_0.5_percent'])\n",
    "    #     plt.vlines(value['date'], 0, 1, alpha = 0.2, color = 'b',linestyle = 'dashed')\n",
    "        plt.vlines(value['timestamp_UTC'], 0, 1, alpha = 0.2, color = 'grey',linestyle = 'dashed')\n",
    "\n",
    "                                        \n",
    "\n",
    "    plt.ylim(graph_min, graph_max )\n",
    "\n",
    "    plt.xlim(ploting_breakdown['timestamp_UTC'].min(), ploting_breakdown['timestamp_UTC'].max())\n",
    "    plt.legend()"
   ]
  },
  {
   "cell_type": "code",
   "execution_count": 154,
   "metadata": {},
   "outputs": [
    {
     "data": {
      "text/html": [
       "<div>\n",
       "<style scoped>\n",
       "    .dataframe tbody tr th:only-of-type {\n",
       "        vertical-align: middle;\n",
       "    }\n",
       "\n",
       "    .dataframe tbody tr th {\n",
       "        vertical-align: top;\n",
       "    }\n",
       "\n",
       "    .dataframe thead th {\n",
       "        text-align: right;\n",
       "    }\n",
       "</style>\n",
       "<table border=\"1\" class=\"dataframe\">\n",
       "  <thead>\n",
       "    <tr style=\"text-align: right;\">\n",
       "      <th></th>\n",
       "      <th>datetime_real</th>\n",
       "      <th>timestamp_UTC_millisec</th>\n",
       "      <th>open_price</th>\n",
       "      <th>close_price</th>\n",
       "      <th>highest_price</th>\n",
       "      <th>lowest_price</th>\n",
       "      <th>volume</th>\n",
       "      <th>checking_timestamp_UTC_millisec</th>\n",
       "      <th>dif</th>\n",
       "      <th>timestamp_UTC</th>\n",
       "      <th>...</th>\n",
       "      <th>calculate_look_back_Percent_2H</th>\n",
       "      <th>calculate_look_back_Percent_4H</th>\n",
       "      <th>calculate_look_back_Percent_12H</th>\n",
       "      <th>calculate_look_back_Percent_24H</th>\n",
       "      <th>calculate_look_back_Percent_2D</th>\n",
       "      <th>calculate_look_back_Percent_3D</th>\n",
       "      <th>calculate_look_back_Percent_4D</th>\n",
       "      <th>calculate_look_back_Percent_5D</th>\n",
       "      <th>calculate_look_back_Percent_10D</th>\n",
       "      <th>Buy_from_decision_tree</th>\n",
       "    </tr>\n",
       "  </thead>\n",
       "  <tbody>\n",
       "    <tr>\n",
       "      <th>14400</th>\n",
       "      <td>2019-08-24 23:00:00</td>\n",
       "      <td>1566687600000</td>\n",
       "      <td>0.27237</td>\n",
       "      <td>0.27275</td>\n",
       "      <td>0.27291</td>\n",
       "      <td>0.27237</td>\n",
       "      <td>2000.000000</td>\n",
       "      <td>1.566688e+12</td>\n",
       "      <td>60000.0</td>\n",
       "      <td>1.566688e+09</td>\n",
       "      <td>...</td>\n",
       "      <td>0.000120</td>\n",
       "      <td>0.000088</td>\n",
       "      <td>0.000143</td>\n",
       "      <td>-0.000061</td>\n",
       "      <td>-4.166667e-07</td>\n",
       "      <td>0.000033</td>\n",
       "      <td>-0.000010</td>\n",
       "      <td>-0.000026</td>\n",
       "      <td>0.000003</td>\n",
       "      <td>True</td>\n",
       "    </tr>\n",
       "    <tr>\n",
       "      <th>14401</th>\n",
       "      <td>2019-08-24 23:01:00</td>\n",
       "      <td>1566687660000</td>\n",
       "      <td>0.27251</td>\n",
       "      <td>0.27271</td>\n",
       "      <td>0.27288</td>\n",
       "      <td>0.27251</td>\n",
       "      <td>1500.000000</td>\n",
       "      <td>1.566688e+12</td>\n",
       "      <td>60000.0</td>\n",
       "      <td>1.566688e+09</td>\n",
       "      <td>...</td>\n",
       "      <td>0.000068</td>\n",
       "      <td>0.000061</td>\n",
       "      <td>0.000142</td>\n",
       "      <td>-0.000061</td>\n",
       "      <td>-2.708333e-06</td>\n",
       "      <td>0.000032</td>\n",
       "      <td>-0.000010</td>\n",
       "      <td>-0.000027</td>\n",
       "      <td>0.000004</td>\n",
       "      <td>True</td>\n",
       "    </tr>\n",
       "    <tr>\n",
       "      <th>14402</th>\n",
       "      <td>2019-08-24 23:02:00</td>\n",
       "      <td>1566687720000</td>\n",
       "      <td>0.27265</td>\n",
       "      <td>0.27272</td>\n",
       "      <td>0.27276</td>\n",
       "      <td>0.27265</td>\n",
       "      <td>10712.152045</td>\n",
       "      <td>1.566688e+12</td>\n",
       "      <td>60000.0</td>\n",
       "      <td>1.566688e+09</td>\n",
       "      <td>...</td>\n",
       "      <td>0.000068</td>\n",
       "      <td>0.000061</td>\n",
       "      <td>0.000146</td>\n",
       "      <td>-0.000059</td>\n",
       "      <td>-2.152778e-06</td>\n",
       "      <td>0.000032</td>\n",
       "      <td>-0.000009</td>\n",
       "      <td>-0.000027</td>\n",
       "      <td>0.000003</td>\n",
       "      <td>True</td>\n",
       "    </tr>\n",
       "    <tr>\n",
       "      <th>14403</th>\n",
       "      <td>2019-08-24 23:03:00</td>\n",
       "      <td>1566687780000</td>\n",
       "      <td>0.27272</td>\n",
       "      <td>0.27272</td>\n",
       "      <td>0.27272</td>\n",
       "      <td>0.27272</td>\n",
       "      <td>1872.912271</td>\n",
       "      <td>1.566688e+12</td>\n",
       "      <td>60000.0</td>\n",
       "      <td>1.566688e+09</td>\n",
       "      <td>...</td>\n",
       "      <td>0.000070</td>\n",
       "      <td>0.000054</td>\n",
       "      <td>0.000159</td>\n",
       "      <td>-0.000058</td>\n",
       "      <td>-1.805556e-06</td>\n",
       "      <td>0.000032</td>\n",
       "      <td>-0.000007</td>\n",
       "      <td>-0.000027</td>\n",
       "      <td>0.000003</td>\n",
       "      <td>False</td>\n",
       "    </tr>\n",
       "    <tr>\n",
       "      <th>14404</th>\n",
       "      <td>2019-08-24 23:04:00</td>\n",
       "      <td>1566687840000</td>\n",
       "      <td>0.27272</td>\n",
       "      <td>0.27205</td>\n",
       "      <td>0.27273</td>\n",
       "      <td>0.27201</td>\n",
       "      <td>25289.351953</td>\n",
       "      <td>1.566688e+12</td>\n",
       "      <td>60000.0</td>\n",
       "      <td>1.566688e+09</td>\n",
       "      <td>...</td>\n",
       "      <td>-0.000042</td>\n",
       "      <td>-0.000011</td>\n",
       "      <td>0.000134</td>\n",
       "      <td>-0.000066</td>\n",
       "      <td>-4.305556e-06</td>\n",
       "      <td>0.000029</td>\n",
       "      <td>-0.000009</td>\n",
       "      <td>-0.000028</td>\n",
       "      <td>0.000003</td>\n",
       "      <td>False</td>\n",
       "    </tr>\n",
       "  </tbody>\n",
       "</table>\n",
       "<p>5 rows × 356 columns</p>\n",
       "</div>"
      ],
      "text/plain": [
       "            datetime_real  timestamp_UTC_millisec  open_price  close_price  \\\n",
       "14400 2019-08-24 23:00:00           1566687600000     0.27237      0.27275   \n",
       "14401 2019-08-24 23:01:00           1566687660000     0.27251      0.27271   \n",
       "14402 2019-08-24 23:02:00           1566687720000     0.27265      0.27272   \n",
       "14403 2019-08-24 23:03:00           1566687780000     0.27272      0.27272   \n",
       "14404 2019-08-24 23:04:00           1566687840000     0.27272      0.27205   \n",
       "\n",
       "       highest_price  lowest_price        volume  \\\n",
       "14400        0.27291       0.27237   2000.000000   \n",
       "14401        0.27288       0.27251   1500.000000   \n",
       "14402        0.27276       0.27265  10712.152045   \n",
       "14403        0.27272       0.27272   1872.912271   \n",
       "14404        0.27273       0.27201  25289.351953   \n",
       "\n",
       "       checking_timestamp_UTC_millisec      dif  timestamp_UTC  ...  \\\n",
       "14400                     1.566688e+12  60000.0   1.566688e+09  ...   \n",
       "14401                     1.566688e+12  60000.0   1.566688e+09  ...   \n",
       "14402                     1.566688e+12  60000.0   1.566688e+09  ...   \n",
       "14403                     1.566688e+12  60000.0   1.566688e+09  ...   \n",
       "14404                     1.566688e+12  60000.0   1.566688e+09  ...   \n",
       "\n",
       "       calculate_look_back_Percent_2H  calculate_look_back_Percent_4H  \\\n",
       "14400                        0.000120                        0.000088   \n",
       "14401                        0.000068                        0.000061   \n",
       "14402                        0.000068                        0.000061   \n",
       "14403                        0.000070                        0.000054   \n",
       "14404                       -0.000042                       -0.000011   \n",
       "\n",
       "       calculate_look_back_Percent_12H  calculate_look_back_Percent_24H  \\\n",
       "14400                         0.000143                        -0.000061   \n",
       "14401                         0.000142                        -0.000061   \n",
       "14402                         0.000146                        -0.000059   \n",
       "14403                         0.000159                        -0.000058   \n",
       "14404                         0.000134                        -0.000066   \n",
       "\n",
       "       calculate_look_back_Percent_2D  calculate_look_back_Percent_3D  \\\n",
       "14400                   -4.166667e-07                        0.000033   \n",
       "14401                   -2.708333e-06                        0.000032   \n",
       "14402                   -2.152778e-06                        0.000032   \n",
       "14403                   -1.805556e-06                        0.000032   \n",
       "14404                   -4.305556e-06                        0.000029   \n",
       "\n",
       "       calculate_look_back_Percent_4D  calculate_look_back_Percent_5D  \\\n",
       "14400                       -0.000010                       -0.000026   \n",
       "14401                       -0.000010                       -0.000027   \n",
       "14402                       -0.000009                       -0.000027   \n",
       "14403                       -0.000007                       -0.000027   \n",
       "14404                       -0.000009                       -0.000028   \n",
       "\n",
       "       calculate_look_back_Percent_10D  Buy_from_decision_tree  \n",
       "14400                         0.000003                    True  \n",
       "14401                         0.000004                    True  \n",
       "14402                         0.000003                    True  \n",
       "14403                         0.000003                   False  \n",
       "14404                         0.000003                   False  \n",
       "\n",
       "[5 rows x 356 columns]"
      ]
     },
     "execution_count": 154,
     "metadata": {},
     "output_type": "execute_result"
    }
   ],
   "source": [
    "XRP_for_testing_drop_na.head()"
   ]
  },
  {
   "cell_type": "code",
   "execution_count": 156,
   "metadata": {},
   "outputs": [
    {
     "data": {
      "text/plain": [
       "<matplotlib.axes._subplots.AxesSubplot at 0x1b9acba0a90>"
      ]
     },
     "execution_count": 156,
     "metadata": {},
     "output_type": "execute_result"
    },
    {
     "data": {
      "image/png": "[encoded data removed]",
      "text/plain": [
       "<Figure size 432x288 with 1 Axes>"
      ]
     },
     "metadata": {
      "needs_background": "light"
     },
     "output_type": "display_data"
    }
   ],
   "source": [
    "XRP_for_testing_drop_na[(XRP_for_testing_drop_na['datetime_real'] >= '2019-09-01 00:00:00') & \n",
    "                        (XRP_for_testing_drop_na['datetime_real'] <= '2019-10-01 00:00:00')][['close_price','datetime_real']].set_index('datetime_real').plot()"
   ]
  },
  {
   "cell_type": "code",
   "execution_count": 157,
   "metadata": {},
   "outputs": [
    {
     "data": {
      "text/plain": [
       "<matplotlib.axes._subplots.AxesSubplot at 0x1b9ad2b0f60>"
      ]
     },
     "execution_count": 157,
     "metadata": {},
     "output_type": "execute_result"
    },
    {
     "data": {
      "image/png": "[encoded data removed]",
      "text/plain": [
       "<Figure size 432x288 with 1 Axes>"
      ]
     },
     "metadata": {
      "needs_background": "light"
     },
     "output_type": "display_data"
    }
   ],
   "source": [
    "transation_log[(transation_log['action'] != 'brought')][['Gold','datetime_real']].set_index('datetime_real').plot()"
   ]
  },
  {
   "cell_type": "code",
   "execution_count": 158,
   "metadata": {},
   "outputs": [
    {
     "data": {
      "text/plain": [
       "<matplotlib.axes._subplots.AxesSubplot at 0x1b9ad2f17f0>"
      ]
     },
     "execution_count": 158,
     "metadata": {},
     "output_type": "execute_result"
    },
    {
     "data": {
      "image/png": "[encoded data removed]",
      "text/plain": [
       "<Figure size 432x288 with 1 Axes>"
      ]
     },
     "metadata": {
      "needs_background": "light"
     },
     "output_type": "display_data"
    }
   ],
   "source": [
    "transation_log[(transation_log['datetime_real'] >= '2019-09-18 12:00:00') & \n",
    "                (transation_log['datetime_real'] <= '2019-10-01 00:00:00') & \n",
    "               (transation_log['action'] != 'brought')][['Gold','datetime_real']].set_index('datetime_real').plot()"
   ]
  },
  {
   "cell_type": "markdown",
   "metadata": {},
   "source": [
    "## Deeper look"
   ]
  },
  {
   "cell_type": "code",
   "execution_count": 159,
   "metadata": {},
   "outputs": [
    {
     "data": {
      "text/html": [
       "<div>\n",
       "<style scoped>\n",
       "    .dataframe tbody tr th:only-of-type {\n",
       "        vertical-align: middle;\n",
       "    }\n",
       "\n",
       "    .dataframe tbody tr th {\n",
       "        vertical-align: top;\n",
       "    }\n",
       "\n",
       "    .dataframe thead th {\n",
       "        text-align: right;\n",
       "    }\n",
       "</style>\n",
       "<table border=\"1\" class=\"dataframe\">\n",
       "  <thead>\n",
       "    <tr style=\"text-align: right;\">\n",
       "      <th></th>\n",
       "      <th>Gold</th>\n",
       "      <th>XRP_Amount</th>\n",
       "      <th>action</th>\n",
       "      <th>price_action_happened</th>\n",
       "      <th>datetime_real</th>\n",
       "      <th>USD</th>\n",
       "    </tr>\n",
       "  </thead>\n",
       "  <tbody>\n",
       "    <tr>\n",
       "      <th>1.568723e+09</th>\n",
       "      <td>100.295497</td>\n",
       "      <td>0.0000</td>\n",
       "      <td>sell</td>\n",
       "      <td>0.274783</td>\n",
       "      <td>2019-09-17 13:29:00</td>\n",
       "      <td>100.30</td>\n",
       "    </tr>\n",
       "    <tr>\n",
       "      <th>1.568723e+09</th>\n",
       "      <td>0.000000</td>\n",
       "      <td>360.8246</td>\n",
       "      <td>brought</td>\n",
       "      <td>0.277406</td>\n",
       "      <td>2019-09-17 13:31:00</td>\n",
       "      <td>0.00</td>\n",
       "    </tr>\n",
       "    <tr>\n",
       "      <th>1.568732e+09</th>\n",
       "      <td>100.394189</td>\n",
       "      <td>0.0000</td>\n",
       "      <td>sell</td>\n",
       "      <td>0.278793</td>\n",
       "      <td>2019-09-17 15:52:00</td>\n",
       "      <td>100.39</td>\n",
       "    </tr>\n",
       "    <tr>\n",
       "      <th>1.568733e+09</th>\n",
       "      <td>0.000000</td>\n",
       "      <td>359.7345</td>\n",
       "      <td>brought</td>\n",
       "      <td>0.278520</td>\n",
       "      <td>2019-09-17 16:05:00</td>\n",
       "      <td>0.00</td>\n",
       "    </tr>\n",
       "    <tr>\n",
       "      <th>1.568734e+09</th>\n",
       "      <td>100.492979</td>\n",
       "      <td>0.0000</td>\n",
       "      <td>sell</td>\n",
       "      <td>0.279913</td>\n",
       "      <td>2019-09-17 16:25:00</td>\n",
       "      <td>100.49</td>\n",
       "    </tr>\n",
       "  </tbody>\n",
       "</table>\n",
       "</div>"
      ],
      "text/plain": [
       "                    Gold  XRP_Amount   action  price_action_happened  \\\n",
       "1.568723e+09  100.295497      0.0000     sell               0.274783   \n",
       "1.568723e+09    0.000000    360.8246  brought               0.277406   \n",
       "1.568732e+09  100.394189      0.0000     sell               0.278793   \n",
       "1.568733e+09    0.000000    359.7345  brought               0.278520   \n",
       "1.568734e+09  100.492979      0.0000     sell               0.279913   \n",
       "\n",
       "                   datetime_real     USD  \n",
       "1.568723e+09 2019-09-17 13:29:00  100.30  \n",
       "1.568723e+09 2019-09-17 13:31:00    0.00  \n",
       "1.568732e+09 2019-09-17 15:52:00  100.39  \n",
       "1.568733e+09 2019-09-17 16:05:00    0.00  \n",
       "1.568734e+09 2019-09-17 16:25:00  100.49  "
      ]
     },
     "execution_count": 159,
     "metadata": {},
     "output_type": "execute_result"
    }
   ],
   "source": [
    "transation_log[(transation_log['datetime_real'] >= '2019-09-17 12:00:00') & \n",
    "                                      (transation_log['datetime_real'] <= '2019-09-20 00:00:00')] "
   ]
  },
  {
   "cell_type": "code",
   "execution_count": 160,
   "metadata": {},
   "outputs": [
    {
     "data": {
      "text/html": [
       "<div>\n",
       "<style scoped>\n",
       "    .dataframe tbody tr th:only-of-type {\n",
       "        vertical-align: middle;\n",
       "    }\n",
       "\n",
       "    .dataframe tbody tr th {\n",
       "        vertical-align: top;\n",
       "    }\n",
       "\n",
       "    .dataframe thead th {\n",
       "        text-align: right;\n",
       "    }\n",
       "</style>\n",
       "<table border=\"1\" class=\"dataframe\">\n",
       "  <thead>\n",
       "    <tr style=\"text-align: right;\">\n",
       "      <th></th>\n",
       "      <th>Gold</th>\n",
       "      <th>XRP_Amount</th>\n",
       "      <th>action</th>\n",
       "      <th>price_action_happened</th>\n",
       "      <th>datetime_real</th>\n",
       "      <th>USD</th>\n",
       "    </tr>\n",
       "  </thead>\n",
       "  <tbody>\n",
       "    <tr>\n",
       "      <th>1.566695e+09</th>\n",
       "      <td>0.000000</td>\n",
       "      <td>367.7820</td>\n",
       "      <td>brought</td>\n",
       "      <td>0.271356</td>\n",
       "      <td>2019-08-25 01:56:00</td>\n",
       "      <td>0.00</td>\n",
       "    </tr>\n",
       "    <tr>\n",
       "      <th>1.566718e+09</th>\n",
       "      <td>100.098402</td>\n",
       "      <td>0.0000</td>\n",
       "      <td>sell</td>\n",
       "      <td>0.272713</td>\n",
       "      <td>2019-08-25 08:25:00</td>\n",
       "      <td>100.10</td>\n",
       "    </tr>\n",
       "    <tr>\n",
       "      <th>1.566743e+09</th>\n",
       "      <td>0.000000</td>\n",
       "      <td>365.6901</td>\n",
       "      <td>brought</td>\n",
       "      <td>0.273177</td>\n",
       "      <td>2019-08-25 15:26:00</td>\n",
       "      <td>0.00</td>\n",
       "    </tr>\n",
       "    <tr>\n",
       "      <th>1.566779e+09</th>\n",
       "      <td>100.196901</td>\n",
       "      <td>0.0000</td>\n",
       "      <td>sell</td>\n",
       "      <td>0.274543</td>\n",
       "      <td>2019-08-26 01:16:00</td>\n",
       "      <td>100.20</td>\n",
       "    </tr>\n",
       "    <tr>\n",
       "      <th>1.566792e+09</th>\n",
       "      <td>0.000000</td>\n",
       "      <td>365.7302</td>\n",
       "      <td>brought</td>\n",
       "      <td>0.273416</td>\n",
       "      <td>2019-08-26 04:55:00</td>\n",
       "      <td>0.00</td>\n",
       "    </tr>\n",
       "    <tr>\n",
       "      <th>1.568723e+09</th>\n",
       "      <td>100.295497</td>\n",
       "      <td>0.0000</td>\n",
       "      <td>sell</td>\n",
       "      <td>0.274783</td>\n",
       "      <td>2019-09-17 13:29:00</td>\n",
       "      <td>100.30</td>\n",
       "    </tr>\n",
       "    <tr>\n",
       "      <th>1.568723e+09</th>\n",
       "      <td>0.000000</td>\n",
       "      <td>360.8246</td>\n",
       "      <td>brought</td>\n",
       "      <td>0.277406</td>\n",
       "      <td>2019-09-17 13:31:00</td>\n",
       "      <td>0.00</td>\n",
       "    </tr>\n",
       "    <tr>\n",
       "      <th>1.568732e+09</th>\n",
       "      <td>100.394189</td>\n",
       "      <td>0.0000</td>\n",
       "      <td>sell</td>\n",
       "      <td>0.278793</td>\n",
       "      <td>2019-09-17 15:52:00</td>\n",
       "      <td>100.39</td>\n",
       "    </tr>\n",
       "    <tr>\n",
       "      <th>1.568733e+09</th>\n",
       "      <td>0.000000</td>\n",
       "      <td>359.7345</td>\n",
       "      <td>brought</td>\n",
       "      <td>0.278520</td>\n",
       "      <td>2019-09-17 16:05:00</td>\n",
       "      <td>0.00</td>\n",
       "    </tr>\n",
       "    <tr>\n",
       "      <th>1.568734e+09</th>\n",
       "      <td>100.492979</td>\n",
       "      <td>0.0000</td>\n",
       "      <td>sell</td>\n",
       "      <td>0.279913</td>\n",
       "      <td>2019-09-17 16:25:00</td>\n",
       "      <td>100.49</td>\n",
       "    </tr>\n",
       "    <tr>\n",
       "      <th>1.569116e+09</th>\n",
       "      <td>0.000000</td>\n",
       "      <td>359.3696</td>\n",
       "      <td>brought</td>\n",
       "      <td>0.279078</td>\n",
       "      <td>2019-09-22 02:31:00</td>\n",
       "      <td>0.00</td>\n",
       "    </tr>\n",
       "    <tr>\n",
       "      <th>1.569116e+09</th>\n",
       "      <td>100.591866</td>\n",
       "      <td>0.0000</td>\n",
       "      <td>sell</td>\n",
       "      <td>0.280473</td>\n",
       "      <td>2019-09-22 02:32:00</td>\n",
       "      <td>100.59</td>\n",
       "    </tr>\n",
       "    <tr>\n",
       "      <th>1.569124e+09</th>\n",
       "      <td>0.000000</td>\n",
       "      <td>359.0447</td>\n",
       "      <td>brought</td>\n",
       "      <td>0.279605</td>\n",
       "      <td>2019-09-22 04:48:00</td>\n",
       "      <td>0.00</td>\n",
       "    </tr>\n",
       "    <tr>\n",
       "      <th>1.569136e+09</th>\n",
       "      <td>100.690851</td>\n",
       "      <td>0.0000</td>\n",
       "      <td>sell</td>\n",
       "      <td>0.281003</td>\n",
       "      <td>2019-09-22 08:09:00</td>\n",
       "      <td>100.69</td>\n",
       "    </tr>\n",
       "    <tr>\n",
       "      <th>1.569145e+09</th>\n",
       "      <td>0.000000</td>\n",
       "      <td>360.4370</td>\n",
       "      <td>brought</td>\n",
       "      <td>0.278799</td>\n",
       "      <td>2019-09-22 10:29:00</td>\n",
       "      <td>0.00</td>\n",
       "    </tr>\n",
       "    <tr>\n",
       "      <th>1.569155e+09</th>\n",
       "      <td>100.789933</td>\n",
       "      <td>0.0000</td>\n",
       "      <td>sell</td>\n",
       "      <td>0.280193</td>\n",
       "      <td>2019-09-22 13:17:00</td>\n",
       "      <td>100.79</td>\n",
       "    </tr>\n",
       "    <tr>\n",
       "      <th>1.569160e+09</th>\n",
       "      <td>0.000000</td>\n",
       "      <td>360.4186</td>\n",
       "      <td>brought</td>\n",
       "      <td>0.279088</td>\n",
       "      <td>2019-09-22 14:43:00</td>\n",
       "      <td>0.00</td>\n",
       "    </tr>\n",
       "    <tr>\n",
       "      <th>1.569251e+09</th>\n",
       "      <td>100.889112</td>\n",
       "      <td>0.0000</td>\n",
       "      <td>sell</td>\n",
       "      <td>0.280483</td>\n",
       "      <td>2019-09-23 16:02:00</td>\n",
       "      <td>100.89</td>\n",
       "    </tr>\n",
       "    <tr>\n",
       "      <th>1.569251e+09</th>\n",
       "      <td>0.000000</td>\n",
       "      <td>361.6371</td>\n",
       "      <td>brought</td>\n",
       "      <td>0.278421</td>\n",
       "      <td>2019-09-23 16:09:00</td>\n",
       "      <td>0.00</td>\n",
       "    </tr>\n",
       "    <tr>\n",
       "      <th>1.569252e+09</th>\n",
       "      <td>100.988389</td>\n",
       "      <td>0.0000</td>\n",
       "      <td>sell</td>\n",
       "      <td>0.279813</td>\n",
       "      <td>2019-09-23 16:20:00</td>\n",
       "      <td>100.99</td>\n",
       "    </tr>\n",
       "    <tr>\n",
       "      <th>1.569252e+09</th>\n",
       "      <td>0.000000</td>\n",
       "      <td>362.4334</td>\n",
       "      <td>brought</td>\n",
       "      <td>0.278083</td>\n",
       "      <td>2019-09-23 16:26:00</td>\n",
       "      <td>0.00</td>\n",
       "    </tr>\n",
       "    <tr>\n",
       "      <th>1.569253e+09</th>\n",
       "      <td>101.087763</td>\n",
       "      <td>0.0000</td>\n",
       "      <td>sell</td>\n",
       "      <td>0.279473</td>\n",
       "      <td>2019-09-23 16:41:00</td>\n",
       "      <td>101.09</td>\n",
       "    </tr>\n",
       "    <tr>\n",
       "      <th>1.569272e+09</th>\n",
       "      <td>0.000000</td>\n",
       "      <td>363.4142</td>\n",
       "      <td>brought</td>\n",
       "      <td>0.277605</td>\n",
       "      <td>2019-09-23 22:01:00</td>\n",
       "      <td>0.00</td>\n",
       "    </tr>\n",
       "    <tr>\n",
       "      <th>1.570446e+09</th>\n",
       "      <td>101.187236</td>\n",
       "      <td>0.0000</td>\n",
       "      <td>sell</td>\n",
       "      <td>0.278993</td>\n",
       "      <td>2019-10-07 12:06:00</td>\n",
       "      <td>101.19</td>\n",
       "    </tr>\n",
       "    <tr>\n",
       "      <th>1.570447e+09</th>\n",
       "      <td>0.000000</td>\n",
       "      <td>362.5373</td>\n",
       "      <td>brought</td>\n",
       "      <td>0.278550</td>\n",
       "      <td>2019-10-07 12:12:00</td>\n",
       "      <td>0.00</td>\n",
       "    </tr>\n",
       "    <tr>\n",
       "      <th>1.570460e+09</th>\n",
       "      <td>101.286806</td>\n",
       "      <td>0.0000</td>\n",
       "      <td>sell</td>\n",
       "      <td>0.279943</td>\n",
       "      <td>2019-10-07 15:50:00</td>\n",
       "      <td>101.29</td>\n",
       "    </tr>\n",
       "    <tr>\n",
       "      <th>1.570460e+09</th>\n",
       "      <td>0.000000</td>\n",
       "      <td>363.3483</td>\n",
       "      <td>brought</td>\n",
       "      <td>0.278202</td>\n",
       "      <td>2019-10-07 15:59:00</td>\n",
       "      <td>0.00</td>\n",
       "    </tr>\n",
       "    <tr>\n",
       "      <th>1.570460e+09</th>\n",
       "      <td>101.386474</td>\n",
       "      <td>0.0000</td>\n",
       "      <td>sell</td>\n",
       "      <td>0.279593</td>\n",
       "      <td>2019-10-07 16:01:00</td>\n",
       "      <td>101.39</td>\n",
       "    </tr>\n",
       "    <tr>\n",
       "      <th>1.570462e+09</th>\n",
       "      <td>0.000000</td>\n",
       "      <td>363.4849</td>\n",
       "      <td>brought</td>\n",
       "      <td>0.278371</td>\n",
       "      <td>2019-10-07 16:22:00</td>\n",
       "      <td>0.00</td>\n",
       "    </tr>\n",
       "    <tr>\n",
       "      <th>1.570463e+09</th>\n",
       "      <td>101.486241</td>\n",
       "      <td>0.0000</td>\n",
       "      <td>sell</td>\n",
       "      <td>0.279763</td>\n",
       "      <td>2019-10-07 16:48:00</td>\n",
       "      <td>101.49</td>\n",
       "    </tr>\n",
       "    <tr>\n",
       "      <th>...</th>\n",
       "      <td>...</td>\n",
       "      <td>...</td>\n",
       "      <td>...</td>\n",
       "      <td>...</td>\n",
       "      <td>...</td>\n",
       "      <td>...</td>\n",
       "    </tr>\n",
       "    <tr>\n",
       "      <th>1.572077e+09</th>\n",
       "      <td>104.114907</td>\n",
       "      <td>0.0000</td>\n",
       "      <td>sell</td>\n",
       "      <td>0.295013</td>\n",
       "      <td>2019-10-26 09:09:00</td>\n",
       "      <td>104.11</td>\n",
       "    </tr>\n",
       "    <tr>\n",
       "      <th>1.572078e+09</th>\n",
       "      <td>0.000000</td>\n",
       "      <td>354.2722</td>\n",
       "      <td>brought</td>\n",
       "      <td>0.293296</td>\n",
       "      <td>2019-10-26 09:16:00</td>\n",
       "      <td>0.00</td>\n",
       "    </tr>\n",
       "    <tr>\n",
       "      <th>1.572083e+09</th>\n",
       "      <td>104.217359</td>\n",
       "      <td>0.0000</td>\n",
       "      <td>sell</td>\n",
       "      <td>0.294763</td>\n",
       "      <td>2019-10-26 10:48:00</td>\n",
       "      <td>104.22</td>\n",
       "    </tr>\n",
       "    <tr>\n",
       "      <th>1.572121e+09</th>\n",
       "      <td>0.000000</td>\n",
       "      <td>353.5175</td>\n",
       "      <td>brought</td>\n",
       "      <td>0.294212</td>\n",
       "      <td>2019-10-26 21:12:00</td>\n",
       "      <td>0.00</td>\n",
       "    </tr>\n",
       "    <tr>\n",
       "      <th>1.572132e+09</th>\n",
       "      <td>104.319911</td>\n",
       "      <td>0.0000</td>\n",
       "      <td>sell</td>\n",
       "      <td>0.295683</td>\n",
       "      <td>2019-10-27 00:24:00</td>\n",
       "      <td>104.32</td>\n",
       "    </tr>\n",
       "    <tr>\n",
       "      <th>1.572137e+09</th>\n",
       "      <td>0.000000</td>\n",
       "      <td>354.1288</td>\n",
       "      <td>brought</td>\n",
       "      <td>0.293993</td>\n",
       "      <td>2019-10-27 01:46:00</td>\n",
       "      <td>0.00</td>\n",
       "    </tr>\n",
       "    <tr>\n",
       "      <th>1.572151e+09</th>\n",
       "      <td>104.422563</td>\n",
       "      <td>0.0000</td>\n",
       "      <td>sell</td>\n",
       "      <td>0.295463</td>\n",
       "      <td>2019-10-27 04:31:00</td>\n",
       "      <td>104.42</td>\n",
       "    </tr>\n",
       "    <tr>\n",
       "      <th>1.572173e+09</th>\n",
       "      <td>0.000000</td>\n",
       "      <td>353.4963</td>\n",
       "      <td>brought</td>\n",
       "      <td>0.294809</td>\n",
       "      <td>2019-10-27 10:51:00</td>\n",
       "      <td>0.00</td>\n",
       "    </tr>\n",
       "    <tr>\n",
       "      <th>1.572174e+09</th>\n",
       "      <td>104.525317</td>\n",
       "      <td>0.0000</td>\n",
       "      <td>sell</td>\n",
       "      <td>0.296283</td>\n",
       "      <td>2019-10-27 10:58:00</td>\n",
       "      <td>104.53</td>\n",
       "    </tr>\n",
       "    <tr>\n",
       "      <th>1.572189e+09</th>\n",
       "      <td>0.000000</td>\n",
       "      <td>349.1307</td>\n",
       "      <td>brought</td>\n",
       "      <td>0.298789</td>\n",
       "      <td>2019-10-27 15:07:00</td>\n",
       "      <td>0.00</td>\n",
       "    </tr>\n",
       "    <tr>\n",
       "      <th>1.572193e+09</th>\n",
       "      <td>104.628172</td>\n",
       "      <td>0.0000</td>\n",
       "      <td>sell</td>\n",
       "      <td>0.300282</td>\n",
       "      <td>2019-10-27 16:17:00</td>\n",
       "      <td>104.63</td>\n",
       "    </tr>\n",
       "    <tr>\n",
       "      <th>1.572194e+09</th>\n",
       "      <td>0.000000</td>\n",
       "      <td>348.9630</td>\n",
       "      <td>brought</td>\n",
       "      <td>0.299226</td>\n",
       "      <td>2019-10-27 16:32:00</td>\n",
       "      <td>0.00</td>\n",
       "    </tr>\n",
       "    <tr>\n",
       "      <th>1.572194e+09</th>\n",
       "      <td>104.731129</td>\n",
       "      <td>0.0000</td>\n",
       "      <td>sell</td>\n",
       "      <td>0.300722</td>\n",
       "      <td>2019-10-27 16:35:00</td>\n",
       "      <td>104.73</td>\n",
       "    </tr>\n",
       "    <tr>\n",
       "      <th>1.572195e+09</th>\n",
       "      <td>0.000000</td>\n",
       "      <td>349.0974</td>\n",
       "      <td>brought</td>\n",
       "      <td>0.299405</td>\n",
       "      <td>2019-10-27 16:45:00</td>\n",
       "      <td>0.00</td>\n",
       "    </tr>\n",
       "    <tr>\n",
       "      <th>1.572202e+09</th>\n",
       "      <td>104.834186</td>\n",
       "      <td>0.0000</td>\n",
       "      <td>sell</td>\n",
       "      <td>0.300902</td>\n",
       "      <td>2019-10-27 18:55:00</td>\n",
       "      <td>104.83</td>\n",
       "    </tr>\n",
       "    <tr>\n",
       "      <th>1.572203e+09</th>\n",
       "      <td>0.000000</td>\n",
       "      <td>349.3480</td>\n",
       "      <td>brought</td>\n",
       "      <td>0.299485</td>\n",
       "      <td>2019-10-27 19:02:00</td>\n",
       "      <td>0.00</td>\n",
       "    </tr>\n",
       "    <tr>\n",
       "      <th>1.572203e+09</th>\n",
       "      <td>104.937345</td>\n",
       "      <td>0.0000</td>\n",
       "      <td>sell</td>\n",
       "      <td>0.300982</td>\n",
       "      <td>2019-10-27 19:10:00</td>\n",
       "      <td>104.94</td>\n",
       "    </tr>\n",
       "    <tr>\n",
       "      <th>1.572205e+09</th>\n",
       "      <td>0.000000</td>\n",
       "      <td>349.9709</td>\n",
       "      <td>brought</td>\n",
       "      <td>0.299246</td>\n",
       "      <td>2019-10-27 19:44:00</td>\n",
       "      <td>0.00</td>\n",
       "    </tr>\n",
       "    <tr>\n",
       "      <th>1.572206e+09</th>\n",
       "      <td>105.040606</td>\n",
       "      <td>0.0000</td>\n",
       "      <td>sell</td>\n",
       "      <td>0.300742</td>\n",
       "      <td>2019-10-27 19:55:00</td>\n",
       "      <td>105.04</td>\n",
       "    </tr>\n",
       "    <tr>\n",
       "      <th>1.572220e+09</th>\n",
       "      <td>0.000000</td>\n",
       "      <td>349.9197</td>\n",
       "      <td>brought</td>\n",
       "      <td>0.299585</td>\n",
       "      <td>2019-10-27 23:49:00</td>\n",
       "      <td>0.00</td>\n",
       "    </tr>\n",
       "    <tr>\n",
       "      <th>1.572223e+09</th>\n",
       "      <td>105.143968</td>\n",
       "      <td>0.0000</td>\n",
       "      <td>sell</td>\n",
       "      <td>0.301082</td>\n",
       "      <td>2019-10-28 00:38:00</td>\n",
       "      <td>105.14</td>\n",
       "    </tr>\n",
       "    <tr>\n",
       "      <th>1.572235e+09</th>\n",
       "      <td>0.000000</td>\n",
       "      <td>348.6314</td>\n",
       "      <td>brought</td>\n",
       "      <td>0.300987</td>\n",
       "      <td>2019-10-28 04:01:00</td>\n",
       "      <td>0.00</td>\n",
       "    </tr>\n",
       "    <tr>\n",
       "      <th>1.572350e+09</th>\n",
       "      <td>105.247431</td>\n",
       "      <td>0.0000</td>\n",
       "      <td>sell</td>\n",
       "      <td>0.302492</td>\n",
       "      <td>2019-10-29 11:58:00</td>\n",
       "      <td>105.25</td>\n",
       "    </tr>\n",
       "    <tr>\n",
       "      <th>1.572356e+09</th>\n",
       "      <td>0.000000</td>\n",
       "      <td>346.9672</td>\n",
       "      <td>brought</td>\n",
       "      <td>0.302729</td>\n",
       "      <td>2019-10-29 13:30:00</td>\n",
       "      <td>0.00</td>\n",
       "    </tr>\n",
       "    <tr>\n",
       "      <th>1.572359e+09</th>\n",
       "      <td>105.350997</td>\n",
       "      <td>0.0000</td>\n",
       "      <td>sell</td>\n",
       "      <td>0.304242</td>\n",
       "      <td>2019-10-29 14:23:00</td>\n",
       "      <td>105.35</td>\n",
       "    </tr>\n",
       "    <tr>\n",
       "      <th>1.572366e+09</th>\n",
       "      <td>0.000000</td>\n",
       "      <td>348.1668</td>\n",
       "      <td>brought</td>\n",
       "      <td>0.301982</td>\n",
       "      <td>2019-10-29 16:17:00</td>\n",
       "      <td>0.00</td>\n",
       "    </tr>\n",
       "    <tr>\n",
       "      <th>1.572389e+09</th>\n",
       "      <td>105.454664</td>\n",
       "      <td>0.0000</td>\n",
       "      <td>sell</td>\n",
       "      <td>0.303492</td>\n",
       "      <td>2019-10-29 22:51:00</td>\n",
       "      <td>105.45</td>\n",
       "    </tr>\n",
       "    <tr>\n",
       "      <th>1.572396e+09</th>\n",
       "      <td>0.000000</td>\n",
       "      <td>345.7751</td>\n",
       "      <td>brought</td>\n",
       "      <td>0.304370</td>\n",
       "      <td>2019-10-30 00:46:00</td>\n",
       "      <td>0.00</td>\n",
       "    </tr>\n",
       "    <tr>\n",
       "      <th>1.572406e+09</th>\n",
       "      <td>105.558434</td>\n",
       "      <td>0.0000</td>\n",
       "      <td>sell</td>\n",
       "      <td>0.305892</td>\n",
       "      <td>2019-10-30 03:32:00</td>\n",
       "      <td>105.56</td>\n",
       "    </tr>\n",
       "    <tr>\n",
       "      <th>1.572407e+09</th>\n",
       "      <td>0.000000</td>\n",
       "      <td>345.8554</td>\n",
       "      <td>brought</td>\n",
       "      <td>0.304599</td>\n",
       "      <td>2019-10-30 03:37:00</td>\n",
       "      <td>0.00</td>\n",
       "    </tr>\n",
       "  </tbody>\n",
       "</table>\n",
       "<p>111 rows × 6 columns</p>\n",
       "</div>"
      ],
      "text/plain": [
       "                    Gold  XRP_Amount   action  price_action_happened  \\\n",
       "1.566695e+09    0.000000    367.7820  brought               0.271356   \n",
       "1.566718e+09  100.098402      0.0000     sell               0.272713   \n",
       "1.566743e+09    0.000000    365.6901  brought               0.273177   \n",
       "1.566779e+09  100.196901      0.0000     sell               0.274543   \n",
       "1.566792e+09    0.000000    365.7302  brought               0.273416   \n",
       "1.568723e+09  100.295497      0.0000     sell               0.274783   \n",
       "1.568723e+09    0.000000    360.8246  brought               0.277406   \n",
       "1.568732e+09  100.394189      0.0000     sell               0.278793   \n",
       "1.568733e+09    0.000000    359.7345  brought               0.278520   \n",
       "1.568734e+09  100.492979      0.0000     sell               0.279913   \n",
       "1.569116e+09    0.000000    359.3696  brought               0.279078   \n",
       "1.569116e+09  100.591866      0.0000     sell               0.280473   \n",
       "1.569124e+09    0.000000    359.0447  brought               0.279605   \n",
       "1.569136e+09  100.690851      0.0000     sell               0.281003   \n",
       "1.569145e+09    0.000000    360.4370  brought               0.278799   \n",
       "1.569155e+09  100.789933      0.0000     sell               0.280193   \n",
       "1.569160e+09    0.000000    360.4186  brought               0.279088   \n",
       "1.569251e+09  100.889112      0.0000     sell               0.280483   \n",
       "1.569251e+09    0.000000    361.6371  brought               0.278421   \n",
       "1.569252e+09  100.988389      0.0000     sell               0.279813   \n",
       "1.569252e+09    0.000000    362.4334  brought               0.278083   \n",
       "1.569253e+09  101.087763      0.0000     sell               0.279473   \n",
       "1.569272e+09    0.000000    363.4142  brought               0.277605   \n",
       "1.570446e+09  101.187236      0.0000     sell               0.278993   \n",
       "1.570447e+09    0.000000    362.5373  brought               0.278550   \n",
       "1.570460e+09  101.286806      0.0000     sell               0.279943   \n",
       "1.570460e+09    0.000000    363.3483  brought               0.278202   \n",
       "1.570460e+09  101.386474      0.0000     sell               0.279593   \n",
       "1.570462e+09    0.000000    363.4849  brought               0.278371   \n",
       "1.570463e+09  101.486241      0.0000     sell               0.279763   \n",
       "...                  ...         ...      ...                    ...   \n",
       "1.572077e+09  104.114907      0.0000     sell               0.295013   \n",
       "1.572078e+09    0.000000    354.2722  brought               0.293296   \n",
       "1.572083e+09  104.217359      0.0000     sell               0.294763   \n",
       "1.572121e+09    0.000000    353.5175  brought               0.294212   \n",
       "1.572132e+09  104.319911      0.0000     sell               0.295683   \n",
       "1.572137e+09    0.000000    354.1288  brought               0.293993   \n",
       "1.572151e+09  104.422563      0.0000     sell               0.295463   \n",
       "1.572173e+09    0.000000    353.4963  brought               0.294809   \n",
       "1.572174e+09  104.525317      0.0000     sell               0.296283   \n",
       "1.572189e+09    0.000000    349.1307  brought               0.298789   \n",
       "1.572193e+09  104.628172      0.0000     sell               0.300282   \n",
       "1.572194e+09    0.000000    348.9630  brought               0.299226   \n",
       "1.572194e+09  104.731129      0.0000     sell               0.300722   \n",
       "1.572195e+09    0.000000    349.0974  brought               0.299405   \n",
       "1.572202e+09  104.834186      0.0000     sell               0.300902   \n",
       "1.572203e+09    0.000000    349.3480  brought               0.299485   \n",
       "1.572203e+09  104.937345      0.0000     sell               0.300982   \n",
       "1.572205e+09    0.000000    349.9709  brought               0.299246   \n",
       "1.572206e+09  105.040606      0.0000     sell               0.300742   \n",
       "1.572220e+09    0.000000    349.9197  brought               0.299585   \n",
       "1.572223e+09  105.143968      0.0000     sell               0.301082   \n",
       "1.572235e+09    0.000000    348.6314  brought               0.300987   \n",
       "1.572350e+09  105.247431      0.0000     sell               0.302492   \n",
       "1.572356e+09    0.000000    346.9672  brought               0.302729   \n",
       "1.572359e+09  105.350997      0.0000     sell               0.304242   \n",
       "1.572366e+09    0.000000    348.1668  brought               0.301982   \n",
       "1.572389e+09  105.454664      0.0000     sell               0.303492   \n",
       "1.572396e+09    0.000000    345.7751  brought               0.304370   \n",
       "1.572406e+09  105.558434      0.0000     sell               0.305892   \n",
       "1.572407e+09    0.000000    345.8554  brought               0.304599   \n",
       "\n",
       "                   datetime_real     USD  \n",
       "1.566695e+09 2019-08-25 01:56:00    0.00  \n",
       "1.566718e+09 2019-08-25 08:25:00  100.10  \n",
       "1.566743e+09 2019-08-25 15:26:00    0.00  \n",
       "1.566779e+09 2019-08-26 01:16:00  100.20  \n",
       "1.566792e+09 2019-08-26 04:55:00    0.00  \n",
       "1.568723e+09 2019-09-17 13:29:00  100.30  \n",
       "1.568723e+09 2019-09-17 13:31:00    0.00  \n",
       "1.568732e+09 2019-09-17 15:52:00  100.39  \n",
       "1.568733e+09 2019-09-17 16:05:00    0.00  \n",
       "1.568734e+09 2019-09-17 16:25:00  100.49  \n",
       "1.569116e+09 2019-09-22 02:31:00    0.00  \n",
       "1.569116e+09 2019-09-22 02:32:00  100.59  \n",
       "1.569124e+09 2019-09-22 04:48:00    0.00  \n",
       "1.569136e+09 2019-09-22 08:09:00  100.69  \n",
       "1.569145e+09 2019-09-22 10:29:00    0.00  \n",
       "1.569155e+09 2019-09-22 13:17:00  100.79  \n",
       "1.569160e+09 2019-09-22 14:43:00    0.00  \n",
       "1.569251e+09 2019-09-23 16:02:00  100.89  \n",
       "1.569251e+09 2019-09-23 16:09:00    0.00  \n",
       "1.569252e+09 2019-09-23 16:20:00  100.99  \n",
       "1.569252e+09 2019-09-23 16:26:00    0.00  \n",
       "1.569253e+09 2019-09-23 16:41:00  101.09  \n",
       "1.569272e+09 2019-09-23 22:01:00    0.00  \n",
       "1.570446e+09 2019-10-07 12:06:00  101.19  \n",
       "1.570447e+09 2019-10-07 12:12:00    0.00  \n",
       "1.570460e+09 2019-10-07 15:50:00  101.29  \n",
       "1.570460e+09 2019-10-07 15:59:00    0.00  \n",
       "1.570460e+09 2019-10-07 16:01:00  101.39  \n",
       "1.570462e+09 2019-10-07 16:22:00    0.00  \n",
       "1.570463e+09 2019-10-07 16:48:00  101.49  \n",
       "...                          ...     ...  \n",
       "1.572077e+09 2019-10-26 09:09:00  104.11  \n",
       "1.572078e+09 2019-10-26 09:16:00    0.00  \n",
       "1.572083e+09 2019-10-26 10:48:00  104.22  \n",
       "1.572121e+09 2019-10-26 21:12:00    0.00  \n",
       "1.572132e+09 2019-10-27 00:24:00  104.32  \n",
       "1.572137e+09 2019-10-27 01:46:00    0.00  \n",
       "1.572151e+09 2019-10-27 04:31:00  104.42  \n",
       "1.572173e+09 2019-10-27 10:51:00    0.00  \n",
       "1.572174e+09 2019-10-27 10:58:00  104.53  \n",
       "1.572189e+09 2019-10-27 15:07:00    0.00  \n",
       "1.572193e+09 2019-10-27 16:17:00  104.63  \n",
       "1.572194e+09 2019-10-27 16:32:00    0.00  \n",
       "1.572194e+09 2019-10-27 16:35:00  104.73  \n",
       "1.572195e+09 2019-10-27 16:45:00    0.00  \n",
       "1.572202e+09 2019-10-27 18:55:00  104.83  \n",
       "1.572203e+09 2019-10-27 19:02:00    0.00  \n",
       "1.572203e+09 2019-10-27 19:10:00  104.94  \n",
       "1.572205e+09 2019-10-27 19:44:00    0.00  \n",
       "1.572206e+09 2019-10-27 19:55:00  105.04  \n",
       "1.572220e+09 2019-10-27 23:49:00    0.00  \n",
       "1.572223e+09 2019-10-28 00:38:00  105.14  \n",
       "1.572235e+09 2019-10-28 04:01:00    0.00  \n",
       "1.572350e+09 2019-10-29 11:58:00  105.25  \n",
       "1.572356e+09 2019-10-29 13:30:00    0.00  \n",
       "1.572359e+09 2019-10-29 14:23:00  105.35  \n",
       "1.572366e+09 2019-10-29 16:17:00    0.00  \n",
       "1.572389e+09 2019-10-29 22:51:00  105.45  \n",
       "1.572396e+09 2019-10-30 00:46:00    0.00  \n",
       "1.572406e+09 2019-10-30 03:32:00  105.56  \n",
       "1.572407e+09 2019-10-30 03:37:00    0.00  \n",
       "\n",
       "[111 rows x 6 columns]"
      ]
     },
     "execution_count": 160,
     "metadata": {},
     "output_type": "execute_result"
    }
   ],
   "source": [
    "transation_log"
   ]
  },
  {
   "cell_type": "code",
   "execution_count": null,
   "metadata": {},
   "outputs": [],
   "source": []
  },
  {
   "cell_type": "code",
   "execution_count": null,
   "metadata": {},
   "outputs": [],
   "source": []
  },
  {
   "cell_type": "code",
   "execution_count": 161,
   "metadata": {},
   "outputs": [
    {
     "data": {
      "text/html": [
       "<div>\n",
       "<style scoped>\n",
       "    .dataframe tbody tr th:only-of-type {\n",
       "        vertical-align: middle;\n",
       "    }\n",
       "\n",
       "    .dataframe tbody tr th {\n",
       "        vertical-align: top;\n",
       "    }\n",
       "\n",
       "    .dataframe thead th {\n",
       "        text-align: right;\n",
       "    }\n",
       "</style>\n",
       "<table border=\"1\" class=\"dataframe\">\n",
       "  <thead>\n",
       "    <tr style=\"text-align: right;\">\n",
       "      <th></th>\n",
       "      <th>datetime_real</th>\n",
       "      <th>timestamp_UTC_millisec</th>\n",
       "      <th>open_price</th>\n",
       "      <th>close_price</th>\n",
       "      <th>highest_price</th>\n",
       "      <th>lowest_price</th>\n",
       "      <th>volume</th>\n",
       "      <th>checking_timestamp_UTC_millisec</th>\n",
       "      <th>dif</th>\n",
       "      <th>timestamp_UTC</th>\n",
       "      <th>...</th>\n",
       "      <th>calculate_look_back_Percent_2H</th>\n",
       "      <th>calculate_look_back_Percent_4H</th>\n",
       "      <th>calculate_look_back_Percent_12H</th>\n",
       "      <th>calculate_look_back_Percent_24H</th>\n",
       "      <th>calculate_look_back_Percent_2D</th>\n",
       "      <th>calculate_look_back_Percent_3D</th>\n",
       "      <th>calculate_look_back_Percent_4D</th>\n",
       "      <th>calculate_look_back_Percent_5D</th>\n",
       "      <th>calculate_look_back_Percent_10D</th>\n",
       "      <th>Buy_from_decision_tree</th>\n",
       "    </tr>\n",
       "  </thead>\n",
       "  <tbody>\n",
       "    <tr>\n",
       "      <th>113334</th>\n",
       "      <td>2019-11-01 15:54:00</td>\n",
       "      <td>1572623580000</td>\n",
       "      <td>0.29058</td>\n",
       "      <td>0.29077</td>\n",
       "      <td>0.29077</td>\n",
       "      <td>0.29046</td>\n",
       "      <td>20164.038042</td>\n",
       "      <td>1.572624e+12</td>\n",
       "      <td>120000.0</td>\n",
       "      <td>1.572624e+09</td>\n",
       "      <td>...</td>\n",
       "      <td>0.000103</td>\n",
       "      <td>-0.000148</td>\n",
       "      <td>-0.000040</td>\n",
       "      <td>-0.000044</td>\n",
       "      <td>-0.000010</td>\n",
       "      <td>-0.000059</td>\n",
       "      <td>-0.000034</td>\n",
       "      <td>-0.000021</td>\n",
       "      <td>-0.000005</td>\n",
       "      <td>False</td>\n",
       "    </tr>\n",
       "    <tr>\n",
       "      <th>113335</th>\n",
       "      <td>2019-11-01 15:55:00</td>\n",
       "      <td>1572623700000</td>\n",
       "      <td>0.29083</td>\n",
       "      <td>0.29173</td>\n",
       "      <td>0.29173</td>\n",
       "      <td>0.29083</td>\n",
       "      <td>1570.393827</td>\n",
       "      <td>1.572624e+12</td>\n",
       "      <td>60000.0</td>\n",
       "      <td>1.572624e+09</td>\n",
       "      <td>...</td>\n",
       "      <td>0.000265</td>\n",
       "      <td>-0.000068</td>\n",
       "      <td>-0.000016</td>\n",
       "      <td>-0.000031</td>\n",
       "      <td>-0.000001</td>\n",
       "      <td>-0.000056</td>\n",
       "      <td>-0.000030</td>\n",
       "      <td>-0.000017</td>\n",
       "      <td>-0.000005</td>\n",
       "      <td>False</td>\n",
       "    </tr>\n",
       "    <tr>\n",
       "      <th>113336</th>\n",
       "      <td>2019-11-01 15:56:00</td>\n",
       "      <td>1572623760000</td>\n",
       "      <td>0.29161</td>\n",
       "      <td>0.29150</td>\n",
       "      <td>0.29161</td>\n",
       "      <td>0.29120</td>\n",
       "      <td>4022.034331</td>\n",
       "      <td>1.572624e+12</td>\n",
       "      <td>60000.0</td>\n",
       "      <td>1.572624e+09</td>\n",
       "      <td>...</td>\n",
       "      <td>0.000162</td>\n",
       "      <td>-0.000087</td>\n",
       "      <td>-0.000019</td>\n",
       "      <td>-0.000035</td>\n",
       "      <td>-0.000002</td>\n",
       "      <td>-0.000059</td>\n",
       "      <td>-0.000031</td>\n",
       "      <td>-0.000019</td>\n",
       "      <td>-0.000006</td>\n",
       "      <td>False</td>\n",
       "    </tr>\n",
       "    <tr>\n",
       "      <th>113337</th>\n",
       "      <td>2019-11-01 15:57:00</td>\n",
       "      <td>1572623820000</td>\n",
       "      <td>0.29180</td>\n",
       "      <td>0.29154</td>\n",
       "      <td>0.29207</td>\n",
       "      <td>0.29154</td>\n",
       "      <td>6854.915950</td>\n",
       "      <td>1.572624e+12</td>\n",
       "      <td>60000.0</td>\n",
       "      <td>1.572624e+09</td>\n",
       "      <td>...</td>\n",
       "      <td>0.000163</td>\n",
       "      <td>-0.000072</td>\n",
       "      <td>-0.000018</td>\n",
       "      <td>-0.000034</td>\n",
       "      <td>-0.000007</td>\n",
       "      <td>-0.000059</td>\n",
       "      <td>-0.000030</td>\n",
       "      <td>-0.000018</td>\n",
       "      <td>-0.000006</td>\n",
       "      <td>False</td>\n",
       "    </tr>\n",
       "    <tr>\n",
       "      <th>113338</th>\n",
       "      <td>2019-11-01 15:58:00</td>\n",
       "      <td>1572623880000</td>\n",
       "      <td>0.29139</td>\n",
       "      <td>0.29030</td>\n",
       "      <td>0.29151</td>\n",
       "      <td>0.29030</td>\n",
       "      <td>8296.541362</td>\n",
       "      <td>1.572624e+12</td>\n",
       "      <td>60000.0</td>\n",
       "      <td>1.572624e+09</td>\n",
       "      <td>...</td>\n",
       "      <td>-0.000078</td>\n",
       "      <td>-0.000187</td>\n",
       "      <td>-0.000052</td>\n",
       "      <td>-0.000057</td>\n",
       "      <td>-0.000027</td>\n",
       "      <td>-0.000064</td>\n",
       "      <td>-0.000034</td>\n",
       "      <td>-0.000022</td>\n",
       "      <td>-0.000007</td>\n",
       "      <td>False</td>\n",
       "    </tr>\n",
       "  </tbody>\n",
       "</table>\n",
       "<p>5 rows × 356 columns</p>\n",
       "</div>"
      ],
      "text/plain": [
       "             datetime_real  timestamp_UTC_millisec  open_price  close_price  \\\n",
       "113334 2019-11-01 15:54:00           1572623580000     0.29058      0.29077   \n",
       "113335 2019-11-01 15:55:00           1572623700000     0.29083      0.29173   \n",
       "113336 2019-11-01 15:56:00           1572623760000     0.29161      0.29150   \n",
       "113337 2019-11-01 15:57:00           1572623820000     0.29180      0.29154   \n",
       "113338 2019-11-01 15:58:00           1572623880000     0.29139      0.29030   \n",
       "\n",
       "        highest_price  lowest_price        volume  \\\n",
       "113334        0.29077       0.29046  20164.038042   \n",
       "113335        0.29173       0.29083   1570.393827   \n",
       "113336        0.29161       0.29120   4022.034331   \n",
       "113337        0.29207       0.29154   6854.915950   \n",
       "113338        0.29151       0.29030   8296.541362   \n",
       "\n",
       "        checking_timestamp_UTC_millisec       dif  timestamp_UTC  ...  \\\n",
       "113334                     1.572624e+12  120000.0   1.572624e+09  ...   \n",
       "113335                     1.572624e+12   60000.0   1.572624e+09  ...   \n",
       "113336                     1.572624e+12   60000.0   1.572624e+09  ...   \n",
       "113337                     1.572624e+12   60000.0   1.572624e+09  ...   \n",
       "113338                     1.572624e+12   60000.0   1.572624e+09  ...   \n",
       "\n",
       "        calculate_look_back_Percent_2H  calculate_look_back_Percent_4H  \\\n",
       "113334                        0.000103                       -0.000148   \n",
       "113335                        0.000265                       -0.000068   \n",
       "113336                        0.000162                       -0.000087   \n",
       "113337                        0.000163                       -0.000072   \n",
       "113338                       -0.000078                       -0.000187   \n",
       "\n",
       "        calculate_look_back_Percent_12H  calculate_look_back_Percent_24H  \\\n",
       "113334                        -0.000040                        -0.000044   \n",
       "113335                        -0.000016                        -0.000031   \n",
       "113336                        -0.000019                        -0.000035   \n",
       "113337                        -0.000018                        -0.000034   \n",
       "113338                        -0.000052                        -0.000057   \n",
       "\n",
       "        calculate_look_back_Percent_2D  calculate_look_back_Percent_3D  \\\n",
       "113334                       -0.000010                       -0.000059   \n",
       "113335                       -0.000001                       -0.000056   \n",
       "113336                       -0.000002                       -0.000059   \n",
       "113337                       -0.000007                       -0.000059   \n",
       "113338                       -0.000027                       -0.000064   \n",
       "\n",
       "        calculate_look_back_Percent_4D  calculate_look_back_Percent_5D  \\\n",
       "113334                       -0.000034                       -0.000021   \n",
       "113335                       -0.000030                       -0.000017   \n",
       "113336                       -0.000031                       -0.000019   \n",
       "113337                       -0.000030                       -0.000018   \n",
       "113338                       -0.000034                       -0.000022   \n",
       "\n",
       "        calculate_look_back_Percent_10D  Buy_from_decision_tree  \n",
       "113334                        -0.000005                   False  \n",
       "113335                        -0.000005                   False  \n",
       "113336                        -0.000006                   False  \n",
       "113337                        -0.000006                   False  \n",
       "113338                        -0.000007                   False  \n",
       "\n",
       "[5 rows x 356 columns]"
      ]
     },
     "execution_count": 161,
     "metadata": {},
     "output_type": "execute_result"
    }
   ],
   "source": [
    "XRP_for_testing_drop_na.tail()"
   ]
  },
  {
   "cell_type": "code",
   "execution_count": null,
   "metadata": {},
   "outputs": [],
   "source": []
  },
  {
   "cell_type": "code",
   "execution_count": 171,
   "metadata": {},
   "outputs": [
    {
     "data": {
      "image/png": "[encoded data removed]",
      "text/plain": [
       "<Figure size 1440x720 with 1 Axes>"
      ]
     },
     "metadata": {
      "needs_background": "light"
     },
     "output_type": "display_data"
    }
   ],
   "source": [
    "plotting_view(XRP_for_testing_drop_na\n",
    "              , transation_log)"
   ]
  },
  {
   "cell_type": "code",
   "execution_count": null,
   "metadata": {},
   "outputs": [],
   "source": []
  },
  {
   "cell_type": "code",
   "execution_count": null,
   "metadata": {},
   "outputs": [],
   "source": []
  },
  {
   "cell_type": "code",
   "execution_count": null,
   "metadata": {},
   "outputs": [],
   "source": []
  },
  {
   "cell_type": "code",
   "execution_count": null,
   "metadata": {},
   "outputs": [],
   "source": [
    "XRP_for_testing_drop_na[(XRP_for_testing_drop_na['datetime_real'] > '2019-09-12 08:05:00') &\n",
    "                        (XRP_for_testing_drop_na['datetime_real'] < '2019-09-12 09:05:00')]['close_price'].max()"
   ]
  },
  {
   "cell_type": "code",
   "execution_count": null,
   "metadata": {},
   "outputs": [],
   "source": [
    "XRP_for_testing_drop_na[(XRP_for_testing_drop_na['datetime_real'] > '2019-09-12 08:05:00') &\n",
    "                        (XRP_for_testing_drop_na['datetime_real'] < '2019-09-12 09:05:00')]['close_price'].min()"
   ]
  },
  {
   "cell_type": "code",
   "execution_count": null,
   "metadata": {},
   "outputs": [],
   "source": [
    "-(0.25192 - 0.25421)/0.25192"
   ]
  },
  {
   "cell_type": "code",
   "execution_count": null,
   "metadata": {},
   "outputs": [],
   "source": [
    "## increase in 0.8% in 1 hour"
   ]
  },
  {
   "cell_type": "code",
   "execution_count": null,
   "metadata": {},
   "outputs": [],
   "source": []
  },
  {
   "cell_type": "code",
   "execution_count": null,
   "metadata": {},
   "outputs": [],
   "source": [
    "XRP_for_testing_drop_na[(XRP_for_testing_drop_na['datetime_real'] > '2019-09-12 08:05:00') &\n",
    "                        (XRP_for_testing_drop_na['datetime_real'] < '2019-09-12 09:05:00')].set_index('datetime_real')[['close_price']].plot(figsize =(30,20))"
   ]
  },
  {
   "cell_type": "code",
   "execution_count": null,
   "metadata": {},
   "outputs": [],
   "source": [
    "XRP_for_testing_drop_na.set_index('datetime_real')[['close_price']].plot(figsize =(30,20))"
   ]
  },
  {
   "cell_type": "code",
   "execution_count": null,
   "metadata": {},
   "outputs": [],
   "source": []
  },
  {
   "cell_type": "code",
   "execution_count": null,
   "metadata": {},
   "outputs": [],
   "source": []
  },
  {
   "cell_type": "markdown",
   "metadata": {},
   "source": [
    "## Saving model"
   ]
  },
  {
   "cell_type": "code",
   "execution_count": null,
   "metadata": {},
   "outputs": [],
   "source": [
    "import pickle"
   ]
  },
  {
   "cell_type": "code",
   "execution_count": null,
   "metadata": {},
   "outputs": [],
   "source": [
    "pkl_filename = \"decision_tree_model.pkl\"\n",
    "with open(pkl_filename, 'wb') as file:\n",
    "    pickle.dump(buy_in_decision_classifier, file)"
   ]
  },
  {
   "cell_type": "code",
   "execution_count": null,
   "metadata": {},
   "outputs": [],
   "source": [
    "# Load from file\n",
    "with open(pkl_filename, 'rb') as file:\n",
    "    pickle_model = pickle.load(file)"
   ]
  },
  {
   "cell_type": "code",
   "execution_count": null,
   "metadata": {},
   "outputs": [],
   "source": []
  },
  {
   "cell_type": "code",
   "execution_count": null,
   "metadata": {},
   "outputs": [],
   "source": []
  },
  {
   "cell_type": "code",
   "execution_count": null,
   "metadata": {},
   "outputs": [],
   "source": []
  },
  {
   "cell_type": "code",
   "execution_count": null,
   "metadata": {},
   "outputs": [],
   "source": []
  },
  {
   "cell_type": "code",
   "execution_count": null,
   "metadata": {},
   "outputs": [],
   "source": [
    "import sqlite3"
   ]
  },
  {
   "cell_type": "code",
   "execution_count": null,
   "metadata": {},
   "outputs": [],
   "source": [
    "conn  = sqlite3.connect('D:\\\\Database\\\\XRP_Bitfinex.db')"
   ]
  },
  {
   "cell_type": "code",
   "execution_count": null,
   "metadata": {},
   "outputs": [],
   "source": [
    "c = conn.cursor()"
   ]
  },
  {
   "cell_type": "code",
   "execution_count": null,
   "metadata": {},
   "outputs": [],
   "source": [
    "c.execute(\"Select * from XRP_USD_Pair\")"
   ]
  },
  {
   "cell_type": "code",
   "execution_count": null,
   "metadata": {},
   "outputs": [],
   "source": [
    "final_test  = c.fetchall()"
   ]
  },
  {
   "cell_type": "code",
   "execution_count": null,
   "metadata": {},
   "outputs": [],
   "source": [
    "final_test_df = pd.DataFrame(final_test)"
   ]
  },
  {
   "cell_type": "code",
   "execution_count": null,
   "metadata": {},
   "outputs": [],
   "source": [
    "final_test_df.columns = ['Pair',\n",
    "'Time',\n",
    "'BID', \n",
    "'BID_SIZE', \n",
    "'ASK', \n",
    "'ASK_SIZE', \n",
    "'DAILY_CHANGE', \n",
    "'DAILY_CHANGE_RELATIVE', \n",
    "'LAST_PRICE', \n",
    "'VOLUME', \n",
    "'HIGH', \n",
    "'LOW']"
   ]
  },
  {
   "cell_type": "code",
   "execution_count": null,
   "metadata": {},
   "outputs": [],
   "source": [
    "final_test_df['LAST_PRICE'] = pd.to_numeric(final_test_df['LAST_PRICE'])"
   ]
  },
  {
   "cell_type": "code",
   "execution_count": null,
   "metadata": {},
   "outputs": [],
   "source": [
    "final_test_df"
   ]
  },
  {
   "cell_type": "code",
   "execution_count": null,
   "metadata": {},
   "outputs": [],
   "source": []
  },
  {
   "cell_type": "code",
   "execution_count": null,
   "metadata": {},
   "outputs": [],
   "source": [
    "table_5min = XRP_Data[(XRP_Data['datetime_real'] >= '2019-11-29 20:06:59')  & (XRP_Data['datetime_real'] <= '2019-11-29 22:16:20')][['datetime_real','close']].set_index('datetime_real')"
   ]
  },
  {
   "cell_type": "code",
   "execution_count": null,
   "metadata": {},
   "outputs": [],
   "source": [
    "table_30s = final_test_df[['Time','LAST_PRICE']].set_index('Time')"
   ]
  },
  {
   "cell_type": "code",
   "execution_count": null,
   "metadata": {},
   "outputs": [],
   "source": []
  },
  {
   "cell_type": "code",
   "execution_count": null,
   "metadata": {},
   "outputs": [],
   "source": [
    "table_5min.head()"
   ]
  },
  {
   "cell_type": "code",
   "execution_count": null,
   "metadata": {},
   "outputs": [],
   "source": [
    "concating = pd.concat([table_5min,table_30s ]).reset_index()"
   ]
  },
  {
   "cell_type": "code",
   "execution_count": null,
   "metadata": {},
   "outputs": [],
   "source": [
    "concating = concating.sort_values(by = 'index')"
   ]
  },
  {
   "cell_type": "code",
   "execution_count": null,
   "metadata": {},
   "outputs": [],
   "source": [
    "concating"
   ]
  },
  {
   "cell_type": "code",
   "execution_count": null,
   "metadata": {},
   "outputs": [],
   "source": []
  },
  {
   "cell_type": "code",
   "execution_count": null,
   "metadata": {},
   "outputs": [],
   "source": [
    "half_min_price = concating['LAST_PRICE']\n",
    "five_min_price = concating['close']\n",
    "timing = concating['index']"
   ]
  },
  {
   "cell_type": "code",
   "execution_count": null,
   "metadata": {},
   "outputs": [],
   "source": [
    "plt.figure(figsize= (20,10))\n",
    "plt.plot(timing,half_min_price )\n",
    "\n",
    "plt.scatter(timing,five_min_price )\n",
    "plt.show()"
   ]
  },
  {
   "cell_type": "code",
   "execution_count": null,
   "metadata": {},
   "outputs": [],
   "source": []
  },
  {
   "cell_type": "code",
   "execution_count": null,
   "metadata": {},
   "outputs": [],
   "source": []
  },
  {
   "cell_type": "code",
   "execution_count": null,
   "metadata": {},
   "outputs": [],
   "source": []
  },
  {
   "cell_type": "code",
   "execution_count": null,
   "metadata": {},
   "outputs": [],
   "source": []
  },
  {
   "cell_type": "code",
   "execution_count": null,
   "metadata": {},
   "outputs": [],
   "source": []
  },
  {
   "cell_type": "code",
   "execution_count": null,
   "metadata": {},
   "outputs": [],
   "source": []
  },
  {
   "cell_type": "code",
   "execution_count": null,
   "metadata": {},
   "outputs": [],
   "source": []
  },
  {
   "cell_type": "markdown",
   "metadata": {},
   "source": [
    "#### Catch \"step-downs\" and \"sharp-drops\""
   ]
  },
  {
   "cell_type": "code",
   "execution_count": null,
   "metadata": {},
   "outputs": [],
   "source": [
    "mark:\n",
    "    \n",
    "# for_plotting_visual = XRP_for_testing_drop_na[(XRP_for_testing_drop_na['datetime_real'] >= '2019-09-24 19:00:00') & \n",
    "#                                       (XRP_for_testing_drop_na['datetime_real'] <= '2019-09-24 20:00:00')]\n",
    "                        \n",
    "    \n",
    "# for_plotting_visual_2 = XRP_for_testing_drop_na[(XRP_for_testing_drop_na['datetime_real'] >= '2019-10-23 10:00:00') & \n",
    "#                                       (XRP_for_testing_drop_na['datetime_real'] <= '2019-10-23 20:00:00')]\n",
    "                        "
   ]
  },
  {
   "cell_type": "code",
   "execution_count": null,
   "metadata": {},
   "outputs": [],
   "source": [
    "XRP_for_testing_drop_na[(XRP_for_testing_drop_na['datetime_real'] >= '2019-09-24 19:40:00') & \n",
    "                                      (XRP_for_testing_drop_na['datetime_real'] <= '2019-09-24 20:05:00')]"
   ]
  },
  {
   "cell_type": "code",
   "execution_count": null,
   "metadata": {},
   "outputs": [],
   "source": [
    "XRP_for_testing_drop_na[(XRP_for_testing_drop_na['datetime_real'] >= '2019-10-23 13:00:00') & \n",
    "                                      (XRP_for_testing_drop_na['datetime_real'] <= '2019-10-23 14:00:00')]"
   ]
  },
  {
   "cell_type": "code",
   "execution_count": null,
   "metadata": {},
   "outputs": [],
   "source": []
  },
  {
   "cell_type": "code",
   "execution_count": null,
   "metadata": {},
   "outputs": [],
   "source": [
    "XRP_for_testing_drop_na[(XRP_for_testing_drop_na['datetime_real'] >= '2019-10-23 13:00:00') & \n",
    "                                      (XRP_for_testing_drop_na['datetime_real'] <= '2019-10-23 14:00:00')]"
   ]
  },
  {
   "cell_type": "code",
   "execution_count": null,
   "metadata": {},
   "outputs": [],
   "source": [
    "(0.287198 - 0.273536)/0.287198"
   ]
  },
  {
   "cell_type": "code",
   "execution_count": null,
   "metadata": {},
   "outputs": [],
   "source": []
  },
  {
   "cell_type": "code",
   "execution_count": null,
   "metadata": {},
   "outputs": [],
   "source": []
  },
  {
   "cell_type": "code",
   "execution_count": null,
   "metadata": {},
   "outputs": [],
   "source": [
    "plt.figure(figsize= (20,10))\n",
    "\n",
    "# for_plotting_visual = XRP_for_testing_drop_na[(XRP_for_testing_drop_na['datetime_real'] >= '2019-09-24 19:00:00') & \n",
    "#                                       (XRP_for_testing_drop_na['datetime_real'] <= '2019-09-24 20:00:00')]\n",
    "                        \n",
    "# for_plotting_visual_2 = XRP_for_testing_drop_na[(XRP_for_testing_drop_na['datetime_real'] >= '2019-09-24 19:00:00') & \n",
    "#                                       (XRP_for_testing_drop_na['datetime_real'] <= '2019-09-24 22:00:00')]\n",
    "\n",
    "for_plotting_visual = XRP_for_testing_drop_na[(XRP_for_testing_drop_na['datetime_real'] >= '2019-09-24 19:40:00') & \n",
    "                                      (XRP_for_testing_drop_na['datetime_real'] <= '2019-09-24 20:05:00')]\n",
    "\n",
    "tran_x = for_plotting_visual['datetime_real']\n",
    "# tran_y_close = for_plotting_visual['close']\n",
    "\n",
    "\n",
    "tran_x_2 = for_plotting_visual['datetime_real']\n",
    "tran_y_2_close = for_plotting_visual['close']\n",
    "\n",
    "\n",
    "plt.plot(tran_x_2, tran_y_2_close)\n",
    "# plt.plot(tran_x, tran_y_close)\n",
    "\n"
   ]
  },
  {
   "cell_type": "markdown",
   "metadata": {},
   "source": [
    "#### "
   ]
  },
  {
   "cell_type": "code",
   "execution_count": null,
   "metadata": {},
   "outputs": [],
   "source": [
    "XRP_for_testing_drop_na[(XRP_for_testing_drop_na['datetime_real'] >= '2019-09-24 19:00:00') & \n",
    "                                      (XRP_for_testing_drop_na['datetime_real'] <= '2019-09-24 22:00:00')]\n"
   ]
  },
  {
   "cell_type": "code",
   "execution_count": null,
   "metadata": {},
   "outputs": [],
   "source": []
  },
  {
   "cell_type": "code",
   "execution_count": null,
   "metadata": {},
   "outputs": [],
   "source": []
  },
  {
   "cell_type": "code",
   "execution_count": null,
   "metadata": {},
   "outputs": [],
   "source": []
  },
  {
   "cell_type": "markdown",
   "metadata": {},
   "source": [
    "# Draft Paper"
   ]
  },
  {
   "cell_type": "markdown",
   "metadata": {},
   "source": [
    "### Static trading"
   ]
  },
  {
   "cell_type": "code",
   "execution_count": null,
   "metadata": {},
   "outputs": [],
   "source": [
    "time_event = {}\n",
    "starting_asset = 100\n",
    "bought_crypto = False\n",
    "\n",
    "\n",
    "gold_available = starting_asset \n",
    "XRP_amount = 0\n",
    "\n",
    "\n",
    "drop_limit = 0.005 # used mean on this side, actual 0.004686, but decreased abit for optimistic view \n",
    "\n",
    "stop_loss_limit = 0.02\n",
    "sell_limit = 0.005\n",
    "\n",
    "trading_data = XRP_for_testing_drop_na\n",
    "while gold_available >= 0:\n",
    "    \n",
    "    for ind, df in trading_data.iterrows():\n",
    "#         print(df['date'])\n",
    "        \n",
    "        if bought_crypto != True: # then looking to buy at drop limit or lower\n",
    "            if (( df['20min_RA_on_Close'] - df['low'] ) / df['20min_RA_on_Close'] >= drop_limit ) and (df['20min_RA_on_Close'] != df['2H_RA_on_Close']): \n",
    "                \"then buy crypto\"\n",
    "\n",
    "                XRP_amount += (gold_available/df['low']) * 0.998 # due to 0.2% fee\n",
    "\n",
    "                gold_available -= gold_available\n",
    "                \n",
    "                time_event.update({df['date']  : ( gold_available, XRP_amount , 'brought' , df['low'])})\n",
    "                \n",
    "                last_xrp_traction_price =  df['low']\n",
    "                \n",
    "                bought_crypto = True\n",
    "                \n",
    "                latest_bought_crypto_timestamp = df['date']\n",
    "                \n",
    "#                 print('last_xrp_traction_price ', last_xrp_traction_price)\n",
    "                \n",
    "        else:\n",
    "            if bought_crypto: # has crypto, either wait or sell at stoploss or profit\n",
    "#                 print('hit_sell_limit',\n",
    "#                       (df['high'] - last_xrp_traction_price)/last_xrp_traction_price >= sell_limit ,\n",
    "#                       round((df['high'] - last_xrp_traction_price),6) ,\n",
    "#                       'sell_limit ', sell_limit\n",
    "                     \n",
    "#                       )\n",
    "\n",
    "                if df['date'] - latest_bought_crypto_timestamp > 172800:\n",
    "                    \n",
    "                    gold_available += XRP_amount * df['high'] * 0.998  # sell at low price\n",
    "                    \n",
    "                    XRP_amount -= XRP_amount\n",
    "                    \n",
    "                    time_event.update({df['date']  : ( gold_available, XRP_amount , 'time_stop' ,  df['low'])})\n",
    "                    \n",
    "                    bought_crypto = False\n",
    "                    \n",
    "                \n",
    "                elif ( df['20min_RA_on_Close'] - df['low'] ) / df['20min_RA_on_Close'] >= stop_loss_limit: # then hit stop loss, force sell\n",
    "#                     print('stoppppppppppppppppppppppppp')\n",
    "                    gold_available += XRP_amount * df['low'] * 0.998  # sell at low price\n",
    "                    \n",
    "                    XRP_amount -= XRP_amount\n",
    "                    \n",
    "                    time_event.update({df['date']  : ( gold_available, XRP_amount , 'stop_loss_hit' ,  df['low'])})\n",
    "                    \n",
    "                    bought_crypto = False\n",
    "                    \n",
    "                    \n",
    "                \n",
    "                elif  (df['high'] - last_xrp_traction_price)/last_xrp_traction_price >= sell_limit: # then hit target price, sell for profit\n",
    "                    \n",
    "#                     print(last_xrp_traction_price)\n",
    "                                        \n",
    "                    gold_available += XRP_amount * df['high'] * 0.998  # sell at high price\n",
    "                    \n",
    "                    XRP_amount -= XRP_amount\n",
    "                    \n",
    "                    time_event.update({df['date']  : ( gold_available, XRP_amount , 'sell_profit' , df['high'])})\n",
    "                    \n",
    "                    bought_crypto = False\n",
    "\n",
    "    break\n",
    "                \n",
    "else:\n",
    "    print('Negative asset: bankrupt  ->>>   ',  gold_available)"
   ]
  },
  {
   "cell_type": "code",
   "execution_count": null,
   "metadata": {},
   "outputs": [],
   "source": [
    "transation_log = pd.DataFrame.from_dict(time_event, orient='index', columns= ['Gold', 'XRP_Amount', 'action', 'price_action_happened'])\n",
    "\n",
    "transation_log['datetime_real'] = [datetime.fromtimestamp(d) for d in transation_log.index]\n",
    "\n",
    "transation_log['Gold'] = round(transation_log['Gold'], 2)\n",
    "\n",
    "transation_log['XRP_Amount'] = round(transation_log['XRP_Amount'], 4)"
   ]
  },
  {
   "cell_type": "code",
   "execution_count": null,
   "metadata": {},
   "outputs": [],
   "source": [
    "transation_log[transation_log['action'] != 'brought'].set_index('datetime_real')[['Gold']].plot(figsize = (20,10))"
   ]
  },
  {
   "cell_type": "code",
   "execution_count": null,
   "metadata": {},
   "outputs": [],
   "source": [
    "transation_log"
   ]
  },
  {
   "cell_type": "code",
   "execution_count": null,
   "metadata": {},
   "outputs": [],
   "source": []
  },
  {
   "cell_type": "code",
   "execution_count": null,
   "metadata": {},
   "outputs": [],
   "source": []
  },
  {
   "cell_type": "code",
   "execution_count": null,
   "metadata": {},
   "outputs": [],
   "source": []
  },
  {
   "cell_type": "code",
   "execution_count": null,
   "metadata": {},
   "outputs": [],
   "source": []
  },
  {
   "cell_type": "code",
   "execution_count": null,
   "metadata": {},
   "outputs": [],
   "source": []
  },
  {
   "cell_type": "code",
   "execution_count": null,
   "metadata": {},
   "outputs": [],
   "source": []
  },
  {
   "cell_type": "code",
   "execution_count": null,
   "metadata": {},
   "outputs": [],
   "source": []
  },
  {
   "cell_type": "code",
   "execution_count": null,
   "metadata": {},
   "outputs": [],
   "source": []
  },
  {
   "cell_type": "code",
   "execution_count": null,
   "metadata": {},
   "outputs": [],
   "source": []
  },
  {
   "cell_type": "markdown",
   "metadata": {},
   "source": [
    "# identify sharp drop bounce back"
   ]
  },
  {
   "cell_type": "code",
   "execution_count": null,
   "metadata": {},
   "outputs": [],
   "source": [
    "XRP_for_testing_drop_na.tail(1000).set_index('date')[['close']].plot(figsize = (20,10))"
   ]
  }
 ],
 "metadata": {
  "kernelspec": {
   "display_name": "Python 3",
   "language": "python",
   "name": "python3"
  },
  "language_info": {
   "codemirror_mode": {
    "name": "ipython",
    "version": 3
   },
   "file_extension": ".py",
   "mimetype": "text/x-python",
   "name": "python",
   "nbconvert_exporter": "python",
   "pygments_lexer": "ipython3",
   "version": "3.7.2"
  }
 },
 "nbformat": 4,
 "nbformat_minor": 4
}

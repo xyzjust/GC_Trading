{
 "cells": [
  {
   "cell_type": "markdown",
   "metadata": {},
   "source": [
    "Given the volatility of cryptocurrencies, this research seeks to understand if swing trade XRP* will be possible by observing trends of long term as well as short term trade prices of XRP. Then use these characteristics to predict when to buy and sell XRP using classification techniques. (Since the end results are specific actions such as \"Buy\", Classification techniques will be used rather than Regression)\n",
    "\n",
    "The data of XRP trade history (of 5-minute intervals) will be taken from the exchange:\n",
    "https://poloniex.com\n",
    "\n",
    "\n",
    "* what is XRP: https://en.wikipedia.org/wiki/Ripple_(payment_protocol)"
   ]
  },
  {
   "cell_type": "code",
   "execution_count": null,
   "metadata": {},
   "outputs": [],
   "source": []
  },
  {
   "cell_type": "markdown",
   "metadata": {},
   "source": [
    "## Import things "
   ]
  },
  {
   "cell_type": "code",
   "execution_count": 2,
   "metadata": {},
   "outputs": [],
   "source": [
    "import numpy as np"
   ]
  },
  {
   "cell_type": "code",
   "execution_count": 3,
   "metadata": {},
   "outputs": [],
   "source": [
    "#from TFANN import ANNR\n",
    "import matplotlib.pyplot as mpl\n",
    "#from sklearn.preprocessing import scale"
   ]
  },
  {
   "cell_type": "code",
   "execution_count": 4,
   "metadata": {},
   "outputs": [],
   "source": [
    "import matplotlib.pyplot as plt"
   ]
  },
  {
   "cell_type": "code",
   "execution_count": 5,
   "metadata": {},
   "outputs": [],
   "source": [
    "import datetime as dt"
   ]
  },
  {
   "cell_type": "code",
   "execution_count": 6,
   "metadata": {},
   "outputs": [],
   "source": [
    "from datetime import datetime"
   ]
  },
  {
   "cell_type": "code",
   "execution_count": 7,
   "metadata": {},
   "outputs": [],
   "source": [
    "import numpy as np\n",
    "import os\n",
    "import pandas as pd\n",
    "import urllib.request\n",
    "     "
   ]
  },
  {
   "cell_type": "code",
   "execution_count": 8,
   "metadata": {},
   "outputs": [],
   "source": [
    "from IPython.display import clear_output\n"
   ]
  },
  {
   "cell_type": "code",
   "execution_count": 9,
   "metadata": {},
   "outputs": [],
   "source": [
    "os.environ[\"PATH\"] += os.pathsep + 'C:/Program Files (x86)/Graphviz2.38/bin/'\n"
   ]
  },
  {
   "cell_type": "markdown",
   "metadata": {},
   "source": [
    "## Initialisation"
   ]
  },
  {
   "cell_type": "code",
   "execution_count": 10,
   "metadata": {},
   "outputs": [],
   "source": [
    "# valid period : 300, 900, 1800, 7200, 14400, 86400 :seconds\n",
    " \n",
    "def GetCurDF_5min(cur,start):\n",
    "    '''\n",
    "    cur:    3 letter abbreviation for cryptocurrency (BTC, LTC, etc)\n",
    "    fp:     File path (to save price data to CSV)\n",
    "    '''\n",
    "    start = start \n",
    "    end = start + 7776000 #90 days is safe\n",
    "    print(\"https://poloniex.com/public?command=returnChartData&currencyPair=USDT_{0}&start={1}&end={2}&period=300\".format(cur, start,end))\n",
    "    openUrl = urllib.request.urlopen(\"https://poloniex.com/public?command=returnChartData&currencyPair=USDT_{0}&start={1}&end={2}&period=300'\".format(cur, start,end))\n",
    "    r = openUrl.read()\n",
    "    openUrl.close()\n",
    "    df = pd.read_json(r.decode())\n",
    "    df['date'] = df['date'].astype(np.int64) // 1000000000   ## datetime.fromtimestamp(1424138400) to convert back\n",
    "    return df\n",
    "\n",
    "\n",
    "\n",
    "def GetCurDF_30min(cur,start):\n",
    "    '''\n",
    "    cur:    3 letter abbreviation for cryptocurrency (BTC, LTC, etc)\n",
    "    fp:     File path (to save price data to CSV)\n",
    "    '''\n",
    "    start = start \n",
    "    end = start + 7776000 #90 days is safe\n",
    "    print(\"https://poloniex.com/public?command=returnChartData&currencyPair=USDT_{0}&start={1}&end={2}&period=1800\".format(cur, start,end))\n",
    "    openUrl = urllib.request.urlopen(\"https://poloniex.com/public?command=returnChartData&currencyPair=USDT_{0}&start={1}&end={2}&period=1800'\".format(cur, start,end))\n",
    "    r = openUrl.read()\n",
    "    openUrl.close()\n",
    "    df = pd.read_json(r.decode())\n",
    "    df['date'] = df['date'].astype(np.int64) // 1000000000   ## datetime.fromtimestamp(1424138400) to convert back\n",
    "    return df\n",
    "\n",
    "\n",
    "\n",
    "def GetCurDF_2Hours(cur,start):\n",
    "    '''\n",
    "    cur:    3 letter abbreviation for cryptocurrency (BTC, LTC, etc)\n",
    "    fp:     File path (to save price data to CSV)\n",
    "    '''\n",
    "    start = start \n",
    "    end = start + 7776000 #90 days is safe\n",
    "    print(\"https://poloniex.com/public?command=returnChartData&currencyPair=USDT_{0}&start={1}&end={2}&period=7200\".format(cur, start,end))\n",
    "    openUrl = urllib.request.urlopen(\"https://poloniex.com/public?command=returnChartData&currencyPair=USDT_{0}&start={1}&end={2}&period=7200'\".format(cur, start,end))\n",
    "    r = openUrl.read()\n",
    "    openUrl.close()\n",
    "    df = pd.read_json(r.decode())\n",
    "    df['date'] = df['date'].astype(np.int64) // 1000000000   ## datetime.fromtimestamp(1424138400) to convert back\n",
    "    return df\n"
   ]
  },
  {
   "cell_type": "code",
   "execution_count": null,
   "metadata": {},
   "outputs": [],
   "source": []
  },
  {
   "cell_type": "markdown",
   "metadata": {},
   "source": [
    "### Initialisation"
   ]
  },
  {
   "cell_type": "code",
   "execution_count": 11,
   "metadata": {},
   "outputs": [
    {
     "name": "stdout",
     "output_type": "stream",
     "text": [
      "https://poloniex.com/public?command=returnChartData&currencyPair=USDT_XRP&start=1420070400&end=1427846400&period=300\n",
      "XRP 1427846400\n",
      "https://poloniex.com/public?command=returnChartData&currencyPair=USDT_XRP&start=1427846400&end=1435622400&period=300\n",
      "XRP 1435622400\n",
      "https://poloniex.com/public?command=returnChartData&currencyPair=USDT_XRP&start=1435622400&end=1443398400&period=300\n",
      "XRP 1443398400\n",
      "https://poloniex.com/public?command=returnChartData&currencyPair=USDT_XRP&start=1443398400&end=1451174400&period=300\n",
      "XRP 1451174400\n",
      "https://poloniex.com/public?command=returnChartData&currencyPair=USDT_XRP&start=1451174400&end=1458950400&period=300\n",
      "XRP 1458950400\n",
      "https://poloniex.com/public?command=returnChartData&currencyPair=USDT_XRP&start=1458950400&end=1466726400&period=300\n",
      "XRP 1466726400\n",
      "https://poloniex.com/public?command=returnChartData&currencyPair=USDT_XRP&start=1466726400&end=1474502400&period=300\n",
      "XRP 1474502400\n",
      "https://poloniex.com/public?command=returnChartData&currencyPair=USDT_XRP&start=1474502400&end=1482278400&period=300\n",
      "XRP 1482278400\n",
      "https://poloniex.com/public?command=returnChartData&currencyPair=USDT_XRP&start=1482278400&end=1490054400&period=300\n",
      "XRP 1490054400\n",
      "https://poloniex.com/public?command=returnChartData&currencyPair=USDT_XRP&start=1490054400&end=1497830400&period=300\n",
      "XRP 1497830400\n",
      "https://poloniex.com/public?command=returnChartData&currencyPair=USDT_XRP&start=1497830400&end=1505606400&period=300\n",
      "XRP 1505606400\n",
      "https://poloniex.com/public?command=returnChartData&currencyPair=USDT_XRP&start=1505606400&end=1513382400&period=300\n",
      "XRP 1513382400\n",
      "https://poloniex.com/public?command=returnChartData&currencyPair=USDT_XRP&start=1513382400&end=1521158400&period=300\n",
      "XRP 1521158400\n",
      "https://poloniex.com/public?command=returnChartData&currencyPair=USDT_XRP&start=1521158400&end=1528934400&period=300\n",
      "XRP 1528934400\n",
      "https://poloniex.com/public?command=returnChartData&currencyPair=USDT_XRP&start=1528934400&end=1536710400&period=300\n",
      "XRP 1536710400\n",
      "https://poloniex.com/public?command=returnChartData&currencyPair=USDT_XRP&start=1536710400&end=1544486400&period=300\n",
      "XRP 1544486400\n",
      "https://poloniex.com/public?command=returnChartData&currencyPair=USDT_XRP&start=1544486400&end=1552262400&period=300\n",
      "XRP 1552262400\n",
      "https://poloniex.com/public?command=returnChartData&currencyPair=USDT_XRP&start=1552262400&end=1560038400&period=300\n",
      "XRP 1560038400\n",
      "https://poloniex.com/public?command=returnChartData&currencyPair=USDT_XRP&start=1560038400&end=1567814400&period=300\n",
      "XRP 1567814400\n",
      "https://poloniex.com/public?command=returnChartData&currencyPair=USDT_XRP&start=1567814400&end=1575590400&period=300\n",
      "XRP 1575590400\n"
     ]
    }
   ],
   "source": [
    "# for coin in ['LSK','ETH','ETC','STR','XMR','XRP','LTC','ATOM','XMR','ZEC','BAT','SNT','BTC']:\n",
    "    \n",
    "for coin in ['XRP']:\n",
    "    clear_output()\n",
    "\n",
    "    starting_time_all = 1420070400\n",
    "    \n",
    "    list_5min = []\n",
    "    list_30min = []\n",
    "    list_2H = []\n",
    "\n",
    "    while starting_time_all < datetime.timestamp(datetime.now()):\n",
    "        \n",
    "        timestamp_start = str(datetime.fromtimestamp(starting_time_all)).replace(':','').replace('-','').replace(' ','')\n",
    "\n",
    "        df_5min  =  [GetCurDF_5min(coin,starting_time_all), '{0}_5min_Freq_starting_at_{1}'.format(coin,timestamp_start)]\n",
    "        \n",
    "        for tables in [df_5min]:\n",
    "            if '_5min_' in tables[1]:\n",
    "                tables[0].to_csv('Coin_Data_5min/{0}.csv'.format(tables[1]))\n",
    "                list_5min.append(tables[1])\n",
    "\n",
    "        starting_time_all += 7776000\n",
    "        \n",
    "        \n",
    "        print(coin, starting_time_all)\n",
    "        \n",
    "        \n",
    "        \n",
    "    to_save_list = [list_5min]\n",
    "        \n",
    "        \n",
    "    for li in to_save_list:\n",
    "\n",
    "        MyFile=open('{0}_5min_Freq.txt'.format(coin),'w')\n",
    "\n",
    "        for element in li:\n",
    "            MyFile.write(element)\n",
    "            MyFile.write('\\n')\n",
    "        MyFile.close()\n",
    "        "
   ]
  },
  {
   "cell_type": "code",
   "execution_count": null,
   "metadata": {},
   "outputs": [],
   "source": []
  },
  {
   "cell_type": "code",
   "execution_count": null,
   "metadata": {},
   "outputs": [],
   "source": []
  },
  {
   "cell_type": "code",
   "execution_count": null,
   "metadata": {},
   "outputs": [],
   "source": []
  },
  {
   "cell_type": "markdown",
   "metadata": {},
   "source": [
    "## Updating as wish"
   ]
  },
  {
   "cell_type": "code",
   "execution_count": 135,
   "metadata": {},
   "outputs": [
    {
     "name": "stdout",
     "output_type": "stream",
     "text": [
      "https://poloniex.com/public?command=returnChartData&currencyPair=USDT_XRP&start=1564702500&end=1572478500&period=300\n",
      "XRP 1572478500\n",
      "https://poloniex.com/public?command=returnChartData&currencyPair=USDT_XRP&start=1572478500&end=1580254500&period=300\n",
      "XRP 1580254500\n"
     ]
    }
   ],
   "source": [
    "for coin in ['XRP']:\n",
    "    clear_output()\n",
    "\n",
    "    starting_time_all = 1564702500 # starting on aug 2nd 2019 due to refresh data\n",
    "    \n",
    "    list_5min = []\n",
    "    list_30min = []\n",
    "    list_2H = []\n",
    "\n",
    "    while starting_time_all < datetime.timestamp(datetime.now()):\n",
    "        \n",
    "        timestamp_start = str(datetime.fromtimestamp(starting_time_all)).replace(':','').replace('-','').replace(' ','')\n",
    "\n",
    "        df_5min  =  [GetCurDF_5min(coin,starting_time_all), '{0}_5min_Freq_starting_at_{1}'.format(coin,timestamp_start)]\n",
    "        \n",
    "#         df_30min =  [GetCurDF_30min(coin,starting_time_all), '{0}_30min_Freq_starting_at_{1}'.format(coin,timestamp_start)]\n",
    "        \n",
    "#         df_2Hour =  [GetCurDF_2Hours(coin,starting_time_all), '{0}_2H_Freq_starting_at_{1}'.format(coin,timestamp_start)]\n",
    "\n",
    "        \n",
    "        for tables in [df_5min]:#, df_30min , df_2Hour]:\n",
    "            if '_5min_' in tables[1]:\n",
    "                tables[0].to_csv('./Coin_Data_5min/{0}.csv'.format(tables[1]))\n",
    "                list_5min.append(tables[1])\n",
    "                \n",
    "#             elif '_30min_' in tables[1]:\n",
    "#                 tables[0].to_csv('Coin_Data_30min/{0}.csv'.format(tables[1]))\n",
    "#                 list_30min.append(tables[1])\n",
    "#             else:\n",
    "#                 tables[0].to_csv('Coin_Data_2H/{0}.csv'.format(tables[1]))\n",
    "#                 list_2H.append(tables[1])\n",
    "                \n",
    "        starting_time_all += 7776000\n",
    "        \n",
    "        \n",
    "        print(coin, starting_time_all)\n",
    "        \n",
    "        \n",
    "        \n",
    "    to_save_list = [list_5min]#, list_30min, list_2H]\n",
    "        \n",
    "        \n",
    "    for li in to_save_list:\n",
    "\n",
    "        if '_5min_' in li[0]:\n",
    "            \n",
    "            list_5min = []\n",
    "            \n",
    "            read_MyFile=open('{0}_5min_Freq.txt'.format(coin),'r')\n",
    "            \n",
    "            for i in read_MyFile:\n",
    "                list_5min.append(int(i.split('_')[-1]))\n",
    "                \n",
    "            read_MyFile.close()\n",
    "            \n",
    "            MyFile=open('{0}_5min_Freq.txt'.format(coin),'a')\n",
    "\n",
    "#         elif '_30min_' in li[0]:\n",
    "#             MyFile=open('{0}_30min_Freq.txt'.format(coin),'w')\n",
    "\n",
    "#         else:\n",
    "#             MyFile=open('{0}_2H_Freq.txt'.format(coin),'w')\n",
    "\n",
    "            for element in li:\n",
    "                if int(element.split('_')[-1]) not in list_5min:\n",
    "                    MyFile.write(element)\n",
    "                    MyFile.write('\\n')\n",
    "            MyFile.close()\n"
   ]
  },
  {
   "cell_type": "code",
   "execution_count": null,
   "metadata": {},
   "outputs": [],
   "source": []
  },
  {
   "cell_type": "code",
   "execution_count": null,
   "metadata": {},
   "outputs": [],
   "source": []
  },
  {
   "cell_type": "code",
   "execution_count": null,
   "metadata": {},
   "outputs": [],
   "source": []
  },
  {
   "cell_type": "markdown",
   "metadata": {},
   "source": [
    "### Get 5min XRP data"
   ]
  },
  {
   "cell_type": "code",
   "execution_count": 377,
   "metadata": {},
   "outputs": [],
   "source": [
    "XRP = []\n",
    "for myf in open('./XRP_5min_Freq.txt'):\n",
    "    XRP.append(myf.replace('\\n',''))"
   ]
  },
  {
   "cell_type": "code",
   "execution_count": 378,
   "metadata": {},
   "outputs": [],
   "source": [
    "XRP_Data = []\n",
    "for E in XRP:\n",
    "    XRP_Temp = pd.read_csv('./Coin_Data_5min/{0}.csv'.format(E))\n",
    "    XRP_Data.append(XRP_Temp)"
   ]
  },
  {
   "cell_type": "code",
   "execution_count": 379,
   "metadata": {},
   "outputs": [],
   "source": [
    "XRP_Data = pd.concat(XRP_Data)"
   ]
  },
  {
   "cell_type": "code",
   "execution_count": 380,
   "metadata": {},
   "outputs": [],
   "source": [
    "XRP_Data = XRP_Data.drop(columns = ['Unnamed: 0']).drop_duplicates()"
   ]
  },
  {
   "cell_type": "code",
   "execution_count": 381,
   "metadata": {},
   "outputs": [],
   "source": [
    "XRP_Data['datetime_real'] = XRP_Data['date'].apply(lambda x: datetime.fromtimestamp(x))"
   ]
  },
  {
   "cell_type": "code",
   "execution_count": 382,
   "metadata": {},
   "outputs": [],
   "source": [
    "# XRP_Data = XRP_Data[XRP_Data['date'] != 0]\n",
    "\n",
    "# XRP_Data = XRP_Data[XRP_Data['volume'] != 0]"
   ]
  },
  {
   "cell_type": "code",
   "execution_count": 383,
   "metadata": {},
   "outputs": [],
   "source": [
    "# Hour = 2\n",
    "# XRP_Data['2H_RA_on_Close'.format(Hour)] = XRP_Data['close'].rolling( Hour*12).mean()\n",
    "\n",
    "# XRP_Data['2H_RA_on_Close'] = XRP_Data['2H_RA_on_Close'].shift(1)\n",
    "\n",
    "# XRP_Data['high_percent_dif'] = (XRP_Data['high']-XRP_Data['2H_RA_on_Close'])/XRP_Data['2H_RA_on_Close'] "
   ]
  },
  {
   "cell_type": "code",
   "execution_count": 384,
   "metadata": {},
   "outputs": [
    {
     "data": {
      "text/plain": [
       "<matplotlib.axes._subplots.AxesSubplot at 0x1eb801273c8>"
      ]
     },
     "execution_count": 384,
     "metadata": {},
     "output_type": "execute_result"
    },
    {
     "data": {
      "image/png": "[encoded data removed]",
      "text/plain": [
       "<Figure size 432x288 with 1 Axes>"
      ]
     },
     "metadata": {
      "needs_background": "light"
     },
     "output_type": "display_data"
    }
   ],
   "source": [
    "XRP_Data.set_index('date')[['close']].plot()"
   ]
  },
  {
   "cell_type": "code",
   "execution_count": 385,
   "metadata": {},
   "outputs": [
    {
     "data": {
      "image/png": "[encoded data removed]",
      "text/plain": [
       "<Figure size 1512x504 with 1 Axes>"
      ]
     },
     "metadata": {
      "needs_background": "light"
     },
     "output_type": "display_data"
    }
   ],
   "source": [
    "ploting_breakdown = XRP_Data[150000:]\n",
    "\n",
    "plt.figure(figsize= (21,7))\n",
    "\n",
    "\n",
    "# tran_y_low = ploting_breakdown['low']\n",
    "# tran_y_high = ploting_breakdown['high']\n",
    "tran_y_close = ploting_breakdown['close']\n",
    "\n",
    "tran_x = ploting_breakdown['date']\n",
    "\n",
    "\n",
    "# plt.plot(tran_x, tran_y_low, alpha = 0.1)\n",
    "# plt.plot(tran_x, tran_y_high , alpha  = 0.1)\n",
    "\n",
    "plt.plot(tran_x, tran_y_close, alpha  = 1)\n",
    "\n",
    "\n",
    "# start = 45000\n",
    "# dealta_t = 10000\n",
    "time_section = {45000 : 13000,\n",
    "                63000 : 8000 ,\n",
    "                71000 : 10000,\n",
    "                180000: 10000}  # start // delta_t\n",
    "\n",
    "\n",
    "# for key, val in time_section.items():\n",
    "#     xrp_part = ploting_breakdown[ key :   key + val ]\n",
    "#     xrp_y = xrp_part['close']\n",
    "#     xrp_date = xrp_part['date']\n",
    "\n",
    "#     plt.plot(xrp_date, xrp_y, alpha  = 1, label = '{0} - {1}'.format(xrp_part['datetime_real'].min().split(' ')[0],\n",
    "#                                                                      xrp_part['datetime_real'].max().split(' ')[0]))\n",
    "\n",
    "    \n",
    "#     print(xrp_part['date'].min(), xrp_part['date'].max() )\n",
    "plt.vlines(1534287600, 0, 3, alpha = 1, color = 'g',linestyle = 'dashed')\n",
    "    \n",
    "plt.legend()\n",
    "plt.grid()"
   ]
  },
  {
   "cell_type": "code",
   "execution_count": 386,
   "metadata": {},
   "outputs": [
    {
     "data": {
      "text/html": [
       "<div>\n",
       "<style scoped>\n",
       "    .dataframe tbody tr th:only-of-type {\n",
       "        vertical-align: middle;\n",
       "    }\n",
       "\n",
       "    .dataframe tbody tr th {\n",
       "        vertical-align: top;\n",
       "    }\n",
       "\n",
       "    .dataframe thead th {\n",
       "        text-align: right;\n",
       "    }\n",
       "</style>\n",
       "<table border=\"1\" class=\"dataframe\">\n",
       "  <thead>\n",
       "    <tr style=\"text-align: right;\">\n",
       "      <th></th>\n",
       "      <th>close</th>\n",
       "      <th>date</th>\n",
       "      <th>high</th>\n",
       "      <th>low</th>\n",
       "      <th>open</th>\n",
       "      <th>quoteVolume</th>\n",
       "      <th>volume</th>\n",
       "      <th>weightedAverage</th>\n",
       "      <th>datetime_real</th>\n",
       "    </tr>\n",
       "  </thead>\n",
       "  <tbody>\n",
       "    <tr>\n",
       "      <th>17844</th>\n",
       "      <td>0.26425</td>\n",
       "      <td>1534287600</td>\n",
       "      <td>0.26425</td>\n",
       "      <td>0.26425</td>\n",
       "      <td>0.26425</td>\n",
       "      <td>0.0</td>\n",
       "      <td>0.0</td>\n",
       "      <td>0.26425</td>\n",
       "      <td>2018-08-15</td>\n",
       "    </tr>\n",
       "  </tbody>\n",
       "</table>\n",
       "</div>"
      ],
      "text/plain": [
       "         close        date     high      low     open  quoteVolume  volume  \\\n",
       "17844  0.26425  1534287600  0.26425  0.26425  0.26425          0.0     0.0   \n",
       "\n",
       "       weightedAverage datetime_real  \n",
       "17844          0.26425    2018-08-15  "
      ]
     },
     "execution_count": 386,
     "metadata": {},
     "output_type": "execute_result"
    }
   ],
   "source": [
    "ploting_breakdown[ploting_breakdown['datetime_real'] == '2018-08-15 00:00:00']"
   ]
  },
  {
   "cell_type": "code",
   "execution_count": 387,
   "metadata": {},
   "outputs": [
    {
     "data": {
      "text/html": [
       "<div>\n",
       "<style scoped>\n",
       "    .dataframe tbody tr th:only-of-type {\n",
       "        vertical-align: middle;\n",
       "    }\n",
       "\n",
       "    .dataframe tbody tr th {\n",
       "        vertical-align: top;\n",
       "    }\n",
       "\n",
       "    .dataframe thead th {\n",
       "        text-align: right;\n",
       "    }\n",
       "</style>\n",
       "<table border=\"1\" class=\"dataframe\">\n",
       "  <thead>\n",
       "    <tr style=\"text-align: right;\">\n",
       "      <th></th>\n",
       "      <th>close</th>\n",
       "      <th>date</th>\n",
       "      <th>high</th>\n",
       "      <th>low</th>\n",
       "      <th>open</th>\n",
       "      <th>quoteVolume</th>\n",
       "      <th>volume</th>\n",
       "      <th>weightedAverage</th>\n",
       "      <th>datetime_real</th>\n",
       "    </tr>\n",
       "  </thead>\n",
       "  <tbody>\n",
       "    <tr>\n",
       "      <th>19284</th>\n",
       "      <td>0.269059</td>\n",
       "      <td>1565823600</td>\n",
       "      <td>0.269059</td>\n",
       "      <td>0.269059</td>\n",
       "      <td>0.269059</td>\n",
       "      <td>0.0</td>\n",
       "      <td>0.0</td>\n",
       "      <td>0.269059</td>\n",
       "      <td>2019-08-15</td>\n",
       "    </tr>\n",
       "  </tbody>\n",
       "</table>\n",
       "</div>"
      ],
      "text/plain": [
       "          close        date      high       low      open  quoteVolume  \\\n",
       "19284  0.269059  1565823600  0.269059  0.269059  0.269059          0.0   \n",
       "\n",
       "       volume  weightedAverage datetime_real  \n",
       "19284     0.0         0.269059    2019-08-15  "
      ]
     },
     "execution_count": 387,
     "metadata": {},
     "output_type": "execute_result"
    }
   ],
   "source": [
    "ploting_breakdown[ploting_breakdown['datetime_real'] == '2019-08-15 00:00:00']"
   ]
  },
  {
   "cell_type": "code",
   "execution_count": 388,
   "metadata": {},
   "outputs": [],
   "source": [
    "XRP_Data_backUp = XRP_Data.copy()"
   ]
  },
  {
   "cell_type": "code",
   "execution_count": 389,
   "metadata": {},
   "outputs": [],
   "source": [
    "XRP_for_training =XRP_Data[(XRP_Data['date'] >= 1534287600) &\n",
    "                           (XRP_Data['date'] <1565823600)].copy()"
   ]
  },
  {
   "cell_type": "code",
   "execution_count": 390,
   "metadata": {},
   "outputs": [],
   "source": [
    "XRP_for_testing =XRP_Data[(XRP_Data['date'] >= 1565823600)].copy()"
   ]
  },
  {
   "cell_type": "code",
   "execution_count": null,
   "metadata": {},
   "outputs": [],
   "source": []
  },
  {
   "cell_type": "code",
   "execution_count": null,
   "metadata": {},
   "outputs": [],
   "source": []
  },
  {
   "cell_type": "markdown",
   "metadata": {},
   "source": [
    "## Analysis on training datasets"
   ]
  },
  {
   "cell_type": "code",
   "execution_count": 391,
   "metadata": {},
   "outputs": [
    {
     "data": {
      "text/plain": [
       "<matplotlib.axes._subplots.AxesSubplot at 0x1eb86530240>"
      ]
     },
     "execution_count": 391,
     "metadata": {},
     "output_type": "execute_result"
    },
    {
     "data": {
      "image/png": "[encoded data removed]",
      "text/plain": [
       "<Figure size 1440x720 with 1 Axes>"
      ]
     },
     "metadata": {
      "needs_background": "light"
     },
     "output_type": "display_data"
    }
   ],
   "source": [
    "XRP_for_training.set_index('datetime_real')[['close']].plot(figsize = (20,10))"
   ]
  },
  {
   "cell_type": "code",
   "execution_count": 392,
   "metadata": {},
   "outputs": [
    {
     "data": {
      "text/plain": [
       "<matplotlib.axes._subplots.AxesSubplot at 0x1eb80023d68>"
      ]
     },
     "execution_count": 392,
     "metadata": {},
     "output_type": "execute_result"
    },
    {
     "data": {
      "image/png": "[encoded data removed]",
      "text/plain": [
       "<Figure size 432x288 with 1 Axes>"
      ]
     },
     "metadata": {
      "needs_background": "light"
     },
     "output_type": "display_data"
    }
   ],
   "source": [
    "XRP_for_training.tail(5000).set_index('datetime_real')[['close']].plot()"
   ]
  },
  {
   "cell_type": "code",
   "execution_count": 393,
   "metadata": {},
   "outputs": [],
   "source": [
    "section_period = {  '5min': 1,\n",
    "                    '10min': 2,\n",
    "                    '15min': 3,\n",
    "                    '20min': 4,\n",
    "                    '1H': 12,\n",
    "                    '2H': 24,\n",
    "                    '4H': 48,\n",
    "                    '12H': 144,\n",
    "                    '24H': 288,\n",
    "                    '5D': 1440,\n",
    "                    '10D': 2880}"
   ]
  },
  {
   "cell_type": "code",
   "execution_count": 394,
   "metadata": {},
   "outputs": [],
   "source": [
    "for k,v in section_period.items():\n",
    "    XRP_for_training['{0}_RA_on_Close'.format(k)] = XRP_for_training['close'].rolling(v).mean()"
   ]
  },
  {
   "cell_type": "code",
   "execution_count": 395,
   "metadata": {},
   "outputs": [],
   "source": [
    "compare_sequence = {}"
   ]
  },
  {
   "cell_type": "code",
   "execution_count": 396,
   "metadata": {},
   "outputs": [],
   "source": [
    "for col_1 in [d for d in XRP_for_training.columns if '_RA_on_Close' in d]:\n",
    "    for col_2 in [d for d in XRP_for_training.columns if '_RA_on_Close' in d]:\n",
    "        temp_1 = col_1.split('_RA_on_Close')[0]\n",
    "        temp_2 = col_2.split('_RA_on_Close')[0]\n",
    "        if temp_1 != temp_2:\n",
    "            if ((temp_1 + '_minus_' + temp_2) not in compare_sequence.keys() and (temp_2 + '_minus_' + temp_1) not in compare_sequence.keys() ):\n",
    "                compare_sequence.update({temp_1 + '_minus_' + temp_2 : [col_1, col_2]})"
   ]
  },
  {
   "cell_type": "code",
   "execution_count": 397,
   "metadata": {},
   "outputs": [],
   "source": [
    "for k, val in compare_sequence.items():\n",
    "    XRP_for_training[k] = (XRP_for_training[val[0]] - XRP_for_training[val[1]])/XRP_for_training[val[1]] \n",
    "#     print(k, val[0], val[1])"
   ]
  },
  {
   "cell_type": "code",
   "execution_count": 398,
   "metadata": {},
   "outputs": [],
   "source": [
    "for col in [d for d in XRP_for_training.columns if '_RA_on_Close' in d]:\n",
    "    XRP_for_training[col] = XRP_for_training[col].shift(1)\n",
    "    \n",
    "    XRP_for_training['{0}_close_percent_dif'.format(col.split('_RA_on_Close')[0])] = (XRP_for_training['close']-XRP_for_training[col])/XRP_for_training[col] "
   ]
  },
  {
   "cell_type": "code",
   "execution_count": 399,
   "metadata": {},
   "outputs": [
    {
     "name": "stdout",
     "output_type": "stream",
     "text": [
      "5min 1\n",
      "10min 2\n",
      "15min 3\n",
      "20min 4\n",
      "1H 12\n",
      "2H 24\n",
      "4H 48\n",
      "12H 144\n",
      "24H 288\n",
      "5D 1440\n",
      "10D 2880\n",
      "5min 1\n",
      "10min 2\n",
      "15min 3\n",
      "20min 4\n",
      "1H 12\n",
      "2H 24\n",
      "4H 48\n",
      "12H 144\n",
      "24H 288\n",
      "5D 1440\n",
      "10D 2880\n"
     ]
    }
   ],
   "source": [
    "for k,v in section_period.items():\n",
    "    print(k,v)\n",
    "    XRP_for_training['look_back_{}'.format(k)] = XRP_for_training['close'].shift(v)   # i.e. 20min ago, this is what the close price is\n",
    "    XRP_for_training['look_forward_{}'.format(k)] = XRP_for_training['close'].shift(-v)  # i.e. 20min later, the close price is\n",
    "\n",
    "\n",
    "for k,v in section_period.items():\n",
    "    print(k,v)\n",
    "    XRP_for_training['calculate_look_back_Percent_{}'.format(k)]    = 100*(XRP_for_training['close'] - XRP_for_training['look_back_{}'.format(k)])/(5*v)\n",
    "    XRP_for_training['calculate_look_forward_Percent_{}'.format(k)] =  100*(XRP_for_training['look_forward_{}'.format(k)] - XRP_for_training['close'])/(5*v)"
   ]
  },
  {
   "cell_type": "code",
   "execution_count": null,
   "metadata": {},
   "outputs": [],
   "source": []
  },
  {
   "cell_type": "raw",
   "metadata": {},
   "source": [
    "no need:\n",
    "\n",
    "for l_back in [d for d in XRP_for_training.columns if 'calculate_look_back' in d]:\n",
    "    for l_forward in [d for d in XRP_for_training.columns if 'calculate_look_forward' in d]:\n",
    "#         print(l_back, l_forward)\n",
    "        XRP_for_training['B:{0},F:{1}'.format(l_back.split('_')[-3], l_forward.split('_')[-3])] = list(zip(round(XRP_for_training[l_back],4), round(XRP_for_training[l_forward],4)))"
   ]
  },
  {
   "cell_type": "code",
   "execution_count": null,
   "metadata": {},
   "outputs": [],
   "source": []
  },
  {
   "cell_type": "raw",
   "metadata": {},
   "source": [
    "increase to at least 0.3% = 0.003\n",
    "\n",
    "difference of:\n",
    "- 0.004\n",
    "- 0.005"
   ]
  },
  {
   "cell_type": "markdown",
   "metadata": {},
   "source": [
    "net_{net_percent}_percent is the net_percent + minimum for profit, \n",
    "\n",
    "i.e. net_01_percent = 0.1% + 0.003 = 0.004"
   ]
  },
  {
   "cell_type": "code",
   "execution_count": 400,
   "metadata": {},
   "outputs": [],
   "source": [
    "net_01_percent = 0.004\n",
    "net_02_percent = 0.005"
   ]
  },
  {
   "cell_type": "code",
   "execution_count": null,
   "metadata": {},
   "outputs": [],
   "source": []
  },
  {
   "cell_type": "code",
   "execution_count": 401,
   "metadata": {},
   "outputs": [],
   "source": [
    "to_20min = {'20min' : 1,\n",
    "            '1H'    : 3,\n",
    "            '2H'    : 6,\n",
    "            '4H'    : 12,\n",
    "            '12H'   : 36,\n",
    "            '24H'   : 72,\n",
    "            '5D'    : 360,\n",
    "            '10D'   : 720  }"
   ]
  },
  {
   "cell_type": "code",
   "execution_count": 402,
   "metadata": {},
   "outputs": [],
   "source": [
    "Buy_in_decision = pd.DataFrame((XRP_for_training[['date'] + [d for d in XRP_for_training.columns if '_forward_Percent_' in d]].set_index('date') > 0.005).any(axis =1 )).rename(columns ={0: 'Buy_In'})"
   ]
  },
  {
   "cell_type": "code",
   "execution_count": 403,
   "metadata": {},
   "outputs": [
    {
     "data": {
      "text/plain": [
       "<matplotlib.axes._subplots.AxesSubplot at 0x1eb800a5a90>"
      ]
     },
     "execution_count": 403,
     "metadata": {},
     "output_type": "execute_result"
    },
    {
     "data": {
      "image/png": "[encoded data removed]",
      "text/plain": [
       "<Figure size 432x288 with 1 Axes>"
      ]
     },
     "metadata": {
      "needs_background": "light"
     },
     "output_type": "display_data"
    }
   ],
   "source": [
    "XRP_for_training[['close','date']].set_index('date').plot()"
   ]
  },
  {
   "cell_type": "code",
   "execution_count": 404,
   "metadata": {},
   "outputs": [],
   "source": [
    "within_target_02_profit = XRP_for_training.merge(Buy_in_decision.reset_index(), on ='date', how='left').dropna()"
   ]
  },
  {
   "cell_type": "code",
   "execution_count": 405,
   "metadata": {},
   "outputs": [],
   "source": [
    "properties = [\n",
    "#     'close',\n",
    "#  'date',\n",
    "#  'high',\n",
    "#  'low',\n",
    "#  'open',\n",
    " 'quoteVolume',\n",
    " 'volume',\n",
    "#  'weightedAverage',\n",
    "#  'datetime_real',\n",
    " '5min_close_percent_dif',\n",
    " '10min_close_percent_dif',\n",
    " '15min_close_percent_dif',\n",
    " '20min_close_percent_dif',\n",
    " '1H_close_percent_dif',\n",
    " '2H_close_percent_dif',\n",
    " '4H_close_percent_dif',\n",
    " '12H_close_percent_dif',\n",
    " '24H_close_percent_dif',\n",
    " '5D_close_percent_dif',\n",
    " '10D_close_percent_dif',\n",
    " 'calculate_look_back_Percent_5min',\n",
    " 'calculate_look_back_Percent_10min',\n",
    " 'calculate_look_back_Percent_15min',\n",
    " 'calculate_look_back_Percent_20min',\n",
    " 'calculate_look_back_Percent_1H',\n",
    " 'calculate_look_back_Percent_2H',\n",
    " 'calculate_look_back_Percent_4H',\n",
    " 'calculate_look_back_Percent_12H',\n",
    " 'calculate_look_back_Percent_24H',\n",
    " 'calculate_look_back_Percent_5D',\n",
    " 'calculate_look_back_Percent_10D',\n",
    " '5min_minus_10min',\n",
    " '5min_minus_15min',\n",
    " '5min_minus_20min',\n",
    " '5min_minus_1H',\n",
    " '5min_minus_2H',\n",
    " '5min_minus_4H',\n",
    " '5min_minus_12H',\n",
    " '5min_minus_24H',\n",
    " '5min_minus_5D',\n",
    " '5min_minus_10D',\n",
    " '10min_minus_15min',\n",
    " '10min_minus_20min',\n",
    " '10min_minus_1H',\n",
    " '10min_minus_2H',\n",
    " '10min_minus_4H',\n",
    " '10min_minus_12H',\n",
    " '10min_minus_24H',\n",
    " '10min_minus_5D',\n",
    " '10min_minus_10D',\n",
    " '15min_minus_20min',\n",
    " '15min_minus_1H',\n",
    " '15min_minus_2H',\n",
    " '15min_minus_4H',\n",
    " '15min_minus_12H',\n",
    " '15min_minus_24H',\n",
    " '15min_minus_5D',\n",
    " '15min_minus_10D',\n",
    " '20min_minus_1H',\n",
    " '20min_minus_2H',\n",
    " '20min_minus_4H',\n",
    " '20min_minus_12H',\n",
    " '20min_minus_24H',\n",
    " '20min_minus_5D',\n",
    " '20min_minus_10D',\n",
    " '1H_minus_2H',\n",
    " '1H_minus_4H',\n",
    " '1H_minus_12H',\n",
    " '1H_minus_24H',\n",
    " '1H_minus_5D',\n",
    " '1H_minus_10D',\n",
    " '2H_minus_4H',\n",
    " '2H_minus_12H',\n",
    " '2H_minus_24H',\n",
    " '2H_minus_5D',\n",
    " '2H_minus_10D',\n",
    " '4H_minus_12H',\n",
    " '4H_minus_24H',\n",
    " '4H_minus_5D',\n",
    " '4H_minus_10D',\n",
    " '12H_minus_24H',\n",
    " '12H_minus_5D',\n",
    " '12H_minus_10D',\n",
    " '24H_minus_5D',\n",
    " '24H_minus_10D',\n",
    " '5D_minus_10D']"
   ]
  },
  {
   "cell_type": "markdown",
   "metadata": {},
   "source": [
    "## split into target and properties"
   ]
  },
  {
   "cell_type": "code",
   "execution_count": 406,
   "metadata": {},
   "outputs": [],
   "source": [
    "import pandas as pd\n",
    "from sklearn.metrics import accuracy_score\n",
    "from sklearn.model_selection import train_test_split\n",
    "from sklearn import tree\n",
    "from sklearn.tree import DecisionTreeClassifier"
   ]
  },
  {
   "cell_type": "code",
   "execution_count": 407,
   "metadata": {},
   "outputs": [],
   "source": [
    "from sklearn.externals.six import StringIO  \n",
    "from IPython.display import Image\n",
    "from sklearn.tree import export_graphviz\n",
    "import pydotplus\n",
    "import os\n",
    "\n",
    "import pydot"
   ]
  },
  {
   "cell_type": "code",
   "execution_count": 408,
   "metadata": {},
   "outputs": [],
   "source": [
    "from collections import Counter"
   ]
  },
  {
   "cell_type": "code",
   "execution_count": 409,
   "metadata": {},
   "outputs": [],
   "source": [
    "import math"
   ]
  },
  {
   "cell_type": "code",
   "execution_count": 410,
   "metadata": {},
   "outputs": [],
   "source": [
    "target_y = within_target_02_profit[['Buy_In']].copy()"
   ]
  },
  {
   "cell_type": "code",
   "execution_count": 411,
   "metadata": {},
   "outputs": [],
   "source": [
    "train_x = within_target_02_profit[properties].copy()"
   ]
  },
  {
   "cell_type": "code",
   "execution_count": 412,
   "metadata": {},
   "outputs": [
    {
     "data": {
      "text/plain": [
       "Index(['quoteVolume', 'volume', '5min_close_percent_dif',\n",
       "       '10min_close_percent_dif', '15min_close_percent_dif',\n",
       "       '20min_close_percent_dif', '1H_close_percent_dif',\n",
       "       '2H_close_percent_dif', '4H_close_percent_dif', '12H_close_percent_dif',\n",
       "       '24H_close_percent_dif', '5D_close_percent_dif',\n",
       "       '10D_close_percent_dif', 'calculate_look_back_Percent_5min',\n",
       "       'calculate_look_back_Percent_10min',\n",
       "       'calculate_look_back_Percent_15min',\n",
       "       'calculate_look_back_Percent_20min', 'calculate_look_back_Percent_1H',\n",
       "       'calculate_look_back_Percent_2H', 'calculate_look_back_Percent_4H',\n",
       "       'calculate_look_back_Percent_12H', 'calculate_look_back_Percent_24H',\n",
       "       'calculate_look_back_Percent_5D', 'calculate_look_back_Percent_10D',\n",
       "       '5min_minus_10min', '5min_minus_15min', '5min_minus_20min',\n",
       "       '5min_minus_1H', '5min_minus_2H', '5min_minus_4H', '5min_minus_12H',\n",
       "       '5min_minus_24H', '5min_minus_5D', '5min_minus_10D',\n",
       "       '10min_minus_15min', '10min_minus_20min', '10min_minus_1H',\n",
       "       '10min_minus_2H', '10min_minus_4H', '10min_minus_12H',\n",
       "       '10min_minus_24H', '10min_minus_5D', '10min_minus_10D',\n",
       "       '15min_minus_20min', '15min_minus_1H', '15min_minus_2H',\n",
       "       '15min_minus_4H', '15min_minus_12H', '15min_minus_24H',\n",
       "       '15min_minus_5D', '15min_minus_10D', '20min_minus_1H', '20min_minus_2H',\n",
       "       '20min_minus_4H', '20min_minus_12H', '20min_minus_24H',\n",
       "       '20min_minus_5D', '20min_minus_10D', '1H_minus_2H', '1H_minus_4H',\n",
       "       '1H_minus_12H', '1H_minus_24H', '1H_minus_5D', '1H_minus_10D',\n",
       "       '2H_minus_4H', '2H_minus_12H', '2H_minus_24H', '2H_minus_5D',\n",
       "       '2H_minus_10D', '4H_minus_12H', '4H_minus_24H', '4H_minus_5D',\n",
       "       '4H_minus_10D', '12H_minus_24H', '12H_minus_5D', '12H_minus_10D',\n",
       "       '24H_minus_5D', '24H_minus_10D', '5D_minus_10D'],\n",
       "      dtype='object')"
      ]
     },
     "execution_count": 412,
     "metadata": {},
     "output_type": "execute_result"
    }
   ],
   "source": [
    "train_x.columns"
   ]
  },
  {
   "cell_type": "code",
   "execution_count": 413,
   "metadata": {},
   "outputs": [
    {
     "data": {
      "text/plain": [
       "Index(['Buy_In'], dtype='object')"
      ]
     },
     "execution_count": 413,
     "metadata": {},
     "output_type": "execute_result"
    }
   ],
   "source": [
    "target_y.columns"
   ]
  },
  {
   "cell_type": "code",
   "execution_count": null,
   "metadata": {},
   "outputs": [],
   "source": []
  },
  {
   "cell_type": "code",
   "execution_count": 414,
   "metadata": {},
   "outputs": [],
   "source": [
    "# X_train, X_test, y_train, y_test = train_test_split(train_x, target_y, test_size=0.33, random_state=324)"
   ]
  },
  {
   "cell_type": "code",
   "execution_count": 415,
   "metadata": {},
   "outputs": [],
   "source": [
    "X_train_order = train_x.iloc[:-math.floor(len(train_x)*0.2)]"
   ]
  },
  {
   "cell_type": "code",
   "execution_count": 416,
   "metadata": {},
   "outputs": [],
   "source": [
    "y_train_order = target_y.iloc[:-math.floor(len(target_y)*0.2)]"
   ]
  },
  {
   "cell_type": "code",
   "execution_count": null,
   "metadata": {},
   "outputs": [],
   "source": []
  },
  {
   "cell_type": "code",
   "execution_count": 417,
   "metadata": {},
   "outputs": [],
   "source": [
    "X_test_order = train_x.iloc[-math.floor(len(train_x)*0.2):]"
   ]
  },
  {
   "cell_type": "code",
   "execution_count": 418,
   "metadata": {},
   "outputs": [],
   "source": [
    "y_test_order = target_y.iloc[-math.floor(len(target_y)*0.2):]"
   ]
  },
  {
   "cell_type": "code",
   "execution_count": null,
   "metadata": {},
   "outputs": [],
   "source": []
  },
  {
   "cell_type": "code",
   "execution_count": 419,
   "metadata": {},
   "outputs": [
    {
     "data": {
      "text/plain": [
       "DecisionTreeClassifier(class_weight=None, criterion='gini', max_depth=None,\n",
       "            max_features=None, max_leaf_nodes=8, min_impurity_decrease=0.0,\n",
       "            min_impurity_split=None, min_samples_leaf=1,\n",
       "            min_samples_split=2, min_weight_fraction_leaf=0.0,\n",
       "            presort=False, random_state=0, splitter='best')"
      ]
     },
     "execution_count": 419,
     "metadata": {},
     "output_type": "execute_result"
    }
   ],
   "source": [
    "buy_in_decision_classifier = DecisionTreeClassifier(max_leaf_nodes=8, random_state=0)\n",
    "buy_in_decision_classifier.fit(X_train_order, y_train_order)"
   ]
  },
  {
   "cell_type": "code",
   "execution_count": 420,
   "metadata": {},
   "outputs": [],
   "source": [
    "predictions = buy_in_decision_classifier.predict(X_test_order)"
   ]
  },
  {
   "cell_type": "code",
   "execution_count": 421,
   "metadata": {},
   "outputs": [
    {
     "data": {
      "text/plain": [
       "0.6008756479291429"
      ]
     },
     "execution_count": 421,
     "metadata": {},
     "output_type": "execute_result"
    }
   ],
   "source": [
    "accuracy_score(y_true = y_test_order, y_pred = predictions)"
   ]
  },
  {
   "cell_type": "code",
   "execution_count": 422,
   "metadata": {},
   "outputs": [
    {
     "data": {
      "text/plain": [
       "Counter({True: 11572, False: 8299})"
      ]
     },
     "execution_count": 422,
     "metadata": {},
     "output_type": "execute_result"
    }
   ],
   "source": [
    "Counter(predictions)"
   ]
  },
  {
   "cell_type": "code",
   "execution_count": 423,
   "metadata": {},
   "outputs": [
    {
     "data": {
      "text/plain": [
       "Counter({True: 9981, False: 9890})"
      ]
     },
     "execution_count": 423,
     "metadata": {},
     "output_type": "execute_result"
    }
   ],
   "source": [
    "Counter(y_test_order['Buy_In'])"
   ]
  },
  {
   "cell_type": "code",
   "execution_count": 424,
   "metadata": {},
   "outputs": [
    {
     "data": {
      "text/plain": [
       "array([ True,  True,  True, ...,  True,  True,  True])"
      ]
     },
     "execution_count": 424,
     "metadata": {},
     "output_type": "execute_result"
    }
   ],
   "source": [
    "predictions"
   ]
  },
  {
   "cell_type": "code",
   "execution_count": 425,
   "metadata": {},
   "outputs": [],
   "source": [
    "dot_data = StringIO()\n",
    "export_graphviz(buy_in_decision_classifier,\n",
    "                feature_names=list(X_train_order.columns),\n",
    "                out_file=dot_data,  \n",
    "                filled=True, rounded=True,\n",
    "                special_characters=True)"
   ]
  },
  {
   "cell_type": "code",
   "execution_count": 426,
   "metadata": {},
   "outputs": [],
   "source": [
    "graph = pydotplus.graph_from_dot_data(dot_data.getvalue())  "
   ]
  },
  {
   "cell_type": "code",
   "execution_count": 427,
   "metadata": {},
   "outputs": [
    {
     "data": {
      "image/png": "[encoded data removed]",
      "text/plain": [
       "<IPython.core.display.Image object>"
      ]
     },
     "execution_count": 427,
     "metadata": {},
     "output_type": "execute_result"
    }
   ],
   "source": [
    "Image(graph.create_png())"
   ]
  },
  {
   "cell_type": "code",
   "execution_count": null,
   "metadata": {},
   "outputs": [],
   "source": []
  },
  {
   "cell_type": "code",
   "execution_count": 428,
   "metadata": {},
   "outputs": [],
   "source": [
    "## Testing theory"
   ]
  },
  {
   "cell_type": "code",
   "execution_count": 429,
   "metadata": {},
   "outputs": [
    {
     "data": {
      "text/plain": [
       "<matplotlib.axes._subplots.AxesSubplot at 0x1eb82f4d780>"
      ]
     },
     "execution_count": 429,
     "metadata": {},
     "output_type": "execute_result"
    },
    {
     "data": {
      "image/png": "[encoded data removed]",
      "text/plain": [
       "<Figure size 432x288 with 1 Axes>"
      ]
     },
     "metadata": {
      "needs_background": "light"
     },
     "output_type": "display_data"
    }
   ],
   "source": [
    "XRP_for_testing[['close','date']].set_index('date').plot()"
   ]
  },
  {
   "cell_type": "code",
   "execution_count": 430,
   "metadata": {},
   "outputs": [],
   "source": [
    "section_period = {  '5min': 1,\n",
    "                    '10min': 2,\n",
    "                    '15min': 3,\n",
    "                    '20min': 4,\n",
    "                    '1H': 12,\n",
    "                    '2H': 24,\n",
    "                    '4H': 48,\n",
    "                    '12H': 144,\n",
    "                    '24H': 288,\n",
    "                    '5D': 1440,\n",
    "                    '10D': 2880}\n",
    "# section_period = {'20min': 4,\n",
    "# '1H': 12,\n",
    "# '2H': 24,\n",
    "# '4H': 48,\n",
    "# '12H': 144,\n",
    "# '24H': 288,\n",
    "# '5D': 1440,\n",
    "# '10D': 2880}"
   ]
  },
  {
   "cell_type": "code",
   "execution_count": 431,
   "metadata": {},
   "outputs": [],
   "source": [
    "for k,v in section_period.items():\n",
    "    XRP_for_testing['{0}_RA_on_Close'.format(k)] = XRP_for_testing['close'].rolling(v).mean()"
   ]
  },
  {
   "cell_type": "code",
   "execution_count": 432,
   "metadata": {},
   "outputs": [],
   "source": [
    "compare_sequence = {}"
   ]
  },
  {
   "cell_type": "code",
   "execution_count": 433,
   "metadata": {},
   "outputs": [],
   "source": [
    "for col_1 in [d for d in XRP_for_testing.columns if '_RA_on_Close' in d]:\n",
    "    for col_2 in [d for d in XRP_for_testing.columns if '_RA_on_Close' in d]:\n",
    "        temp_1 = col_1.split('_RA_on_Close')[0]\n",
    "        temp_2 = col_2.split('_RA_on_Close')[0]\n",
    "        if temp_1 != temp_2:\n",
    "            if ((temp_1 + '_minus_' + temp_2) not in compare_sequence.keys() and (temp_2 + '_minus_' + temp_1) not in compare_sequence.keys() ):\n",
    "                compare_sequence.update({temp_1 + '_minus_' + temp_2 : [col_1, col_2]})"
   ]
  },
  {
   "cell_type": "code",
   "execution_count": 434,
   "metadata": {},
   "outputs": [],
   "source": [
    "for k, val in compare_sequence.items():\n",
    "    XRP_for_testing[k] = (XRP_for_testing[val[0]] - XRP_for_testing[val[1]])/XRP_for_testing[val[1]] \n",
    "#     print(k, val[0], val[1])"
   ]
  },
  {
   "cell_type": "code",
   "execution_count": 435,
   "metadata": {},
   "outputs": [],
   "source": [
    "for col in [d for d in XRP_for_testing.columns if '_RA_on_Close' in d]:\n",
    "    XRP_for_testing[col] = XRP_for_testing[col].shift(1)\n",
    "    \n",
    "    XRP_for_testing['{0}_close_percent_dif'.format(col.split('_RA_on_Close')[0])] = (XRP_for_testing['close']-XRP_for_testing[col])/XRP_for_testing[col] "
   ]
  },
  {
   "cell_type": "code",
   "execution_count": 436,
   "metadata": {},
   "outputs": [
    {
     "name": "stdout",
     "output_type": "stream",
     "text": [
      "5min 1\n",
      "10min 2\n",
      "15min 3\n",
      "20min 4\n",
      "1H 12\n",
      "2H 24\n",
      "4H 48\n",
      "12H 144\n",
      "24H 288\n",
      "5D 1440\n",
      "10D 2880\n",
      "5min 1\n",
      "10min 2\n",
      "15min 3\n",
      "20min 4\n",
      "1H 12\n",
      "2H 24\n",
      "4H 48\n",
      "12H 144\n",
      "24H 288\n",
      "5D 1440\n",
      "10D 2880\n"
     ]
    }
   ],
   "source": [
    "for k,v in section_period.items():\n",
    "    print(k,v)\n",
    "    XRP_for_testing['look_back_{}'.format(k)] = XRP_for_testing['close'].shift(v)   # i.e. 20min ago, this is what the close price is\n",
    "#     XRP_for_testing['look_forward_{}'.format(k)] = XRP_for_testing['close'].shift(-v)  # i.e. 20min later, the close price is\n",
    "\n",
    "\n",
    "for k,v in section_period.items():\n",
    "    print(k,v)\n",
    "    XRP_for_testing['calculate_look_back_Percent_{}'.format(k)]    = 100*(XRP_for_testing['close'] - XRP_for_testing['look_back_{}'.format(k)])/(5*v)\n",
    "#     XRP_for_testing['calculate_look_forward_Percent_{}'.format(k)] =  100*(XRP_for_testing['look_forward_{}'.format(k)] - XRP_for_testing['close'])/(5*v)"
   ]
  },
  {
   "cell_type": "code",
   "execution_count": 437,
   "metadata": {},
   "outputs": [
    {
     "data": {
      "text/plain": [
       "Counter({False: 16505, True: 9718})"
      ]
     },
     "execution_count": 437,
     "metadata": {},
     "output_type": "execute_result"
    }
   ],
   "source": [
    "Counter(buy_in_decision_classifier.predict(XRP_for_testing[properties].dropna()))"
   ]
  },
  {
   "cell_type": "code",
   "execution_count": 438,
   "metadata": {},
   "outputs": [],
   "source": [
    "XRP_for_testing_drop_na = XRP_for_testing.dropna()"
   ]
  },
  {
   "cell_type": "code",
   "execution_count": null,
   "metadata": {},
   "outputs": [],
   "source": []
  },
  {
   "cell_type": "code",
   "execution_count": 439,
   "metadata": {},
   "outputs": [
    {
     "name": "stderr",
     "output_type": "stream",
     "text": [
      "c:\\users\\zhen\\appdata\\local\\programs\\python\\python37\\lib\\site-packages\\ipykernel_launcher.py:1: SettingWithCopyWarning: \n",
      "A value is trying to be set on a copy of a slice from a DataFrame.\n",
      "Try using .loc[row_indexer,col_indexer] = value instead\n",
      "\n",
      "See the caveats in the documentation: http://pandas.pydata.org/pandas-docs/stable/indexing.html#indexing-view-versus-copy\n",
      "  \"\"\"Entry point for launching an IPython kernel.\n"
     ]
    }
   ],
   "source": [
    "XRP_for_testing_drop_na['Buy_from_decision_tree'] = buy_in_decision_classifier.predict(XRP_for_testing[properties].dropna())"
   ]
  },
  {
   "cell_type": "code",
   "execution_count": 486,
   "metadata": {},
   "outputs": [],
   "source": [
    "time_event = {}\n",
    "starting_asset = 100\n",
    "bought_crypto = False\n",
    "\n",
    "\n",
    "gold_available = starting_asset \n",
    "XRP_amount = 0\n",
    "\n",
    "stop_loss_limit = 0.02"
   ]
  },
  {
   "cell_type": "code",
   "execution_count": 487,
   "metadata": {},
   "outputs": [],
   "source": [
    "for ind, df in XRP_for_testing_drop_na.iterrows():\n",
    "#         print(df['date'])\n",
    "\n",
    "    if bought_crypto != True: # then looking to buy at drop limit or lower\n",
    "        if df['Buy_from_decision_tree']: \n",
    "            \"then buy crypto\"\n",
    "\n",
    "            XRP_amount += (gold_available/df['low']) * 0.998 # due to 0.2% fee\n",
    "\n",
    "            gold_available -= gold_available\n",
    "\n",
    "            time_event.update({df['date']  : ( gold_available, XRP_amount , 'brought' , df['low'])})\n",
    "\n",
    "            last_xrp_traction_price =  df['low']\n",
    "\n",
    "            bought_crypto = True\n",
    "\n",
    "            latest_bought_crypto_timestamp = df['date']\n",
    "\n",
    "#                 print('last_xrp_traction_price ', last_xrp_traction_price)\n",
    "\n",
    "    else:\n",
    "        if bought_crypto: # has crypto, either wait or sell at stoploss or profit\n",
    "            \n",
    "            \n",
    "                    \n",
    "\n",
    "            if ( last_xrp_traction_price - df['close'] ) / last_xrp_traction_price <= -stop_loss_limit: # then hit stop loss, force sell\n",
    "#                     print('stoppppppppppppppppppppppppp')\n",
    "                gold_available += XRP_amount * df['low'] * 0.998  # sell at low price\n",
    "\n",
    "                XRP_amount -= XRP_amount\n",
    "\n",
    "                time_event.update({df['date']  : ( gold_available, XRP_amount , 'stop_loss_hit' ,  df['low'])})\n",
    "\n",
    "                bought_crypto = False\n",
    "\n",
    "                        \n",
    "            elif df['date'] - latest_bought_crypto_timestamp > 172800 * 5:\n",
    "\n",
    "                gold_available += XRP_amount * df['low'] * 0.998  # sell at low price\n",
    "\n",
    "                XRP_amount -= XRP_amount\n",
    "\n",
    "                time_event.update({df['date']  : ( gold_available, XRP_amount , 'time_stop' ,  df['low'])})\n",
    "\n",
    "                bought_crypto = False\n",
    "\n",
    "\n",
    "            elif (df['high'] - last_xrp_traction_price)/df['high'] >= 0.005:\n",
    "\n",
    "                gold_available += XRP_amount * df['high'] * 0.998  # sell at low price\n",
    "\n",
    "                XRP_amount -= XRP_amount\n",
    "\n",
    "                time_event.update({df['date']  : ( gold_available, XRP_amount , 'sell' ,  df['low'])})\n",
    "\n",
    "                bought_crypto = False\n",
    "                \n",
    "                \n",
    "            else:\n",
    "                pass"
   ]
  },
  {
   "cell_type": "code",
   "execution_count": 488,
   "metadata": {},
   "outputs": [],
   "source": [
    "transation_log = pd.DataFrame.from_dict(time_event, orient='index', columns= ['Gold', 'XRP_Amount', 'action', 'price_action_happened'])\n",
    "\n",
    "transation_log['datetime_real'] = [datetime.fromtimestamp(d) for d in transation_log.index]\n",
    "\n",
    "transation_log['Gold'] = round(transation_log['Gold'], 2)\n",
    "\n",
    "transation_log['XRP_Amount'] = round(transation_log['XRP_Amount'], 4)"
   ]
  },
  {
   "cell_type": "code",
   "execution_count": 489,
   "metadata": {},
   "outputs": [
    {
     "data": {
      "text/html": [
       "<div>\n",
       "<style scoped>\n",
       "    .dataframe tbody tr th:only-of-type {\n",
       "        vertical-align: middle;\n",
       "    }\n",
       "\n",
       "    .dataframe tbody tr th {\n",
       "        vertical-align: top;\n",
       "    }\n",
       "\n",
       "    .dataframe thead th {\n",
       "        text-align: right;\n",
       "    }\n",
       "</style>\n",
       "<table border=\"1\" class=\"dataframe\">\n",
       "  <thead>\n",
       "    <tr style=\"text-align: right;\">\n",
       "      <th></th>\n",
       "      <th>Gold</th>\n",
       "      <th>XRP_Amount</th>\n",
       "      <th>action</th>\n",
       "      <th>price_action_happened</th>\n",
       "      <th>datetime_real</th>\n",
       "    </tr>\n",
       "  </thead>\n",
       "  <tbody>\n",
       "    <tr>\n",
       "      <th>1566697800</th>\n",
       "      <td>0.00</td>\n",
       "      <td>371.8453</td>\n",
       "      <td>brought</td>\n",
       "      <td>0.268391</td>\n",
       "      <td>2019-08-25 02:50:00</td>\n",
       "    </tr>\n",
       "    <tr>\n",
       "      <th>1566699600</th>\n",
       "      <td>100.20</td>\n",
       "      <td>0.0000</td>\n",
       "      <td>sell</td>\n",
       "      <td>0.269997</td>\n",
       "      <td>2019-08-25 03:20:00</td>\n",
       "    </tr>\n",
       "    <tr>\n",
       "      <th>1566703800</th>\n",
       "      <td>0.00</td>\n",
       "      <td>371.1061</td>\n",
       "      <td>brought</td>\n",
       "      <td>0.269454</td>\n",
       "      <td>2019-08-25 04:30:00</td>\n",
       "    </tr>\n",
       "    <tr>\n",
       "      <th>1566705300</th>\n",
       "      <td>100.52</td>\n",
       "      <td>0.0000</td>\n",
       "      <td>sell</td>\n",
       "      <td>0.271417</td>\n",
       "      <td>2019-08-25 04:55:00</td>\n",
       "    </tr>\n",
       "    <tr>\n",
       "      <th>1566713700</th>\n",
       "      <td>0.00</td>\n",
       "      <td>372.0388</td>\n",
       "      <td>brought</td>\n",
       "      <td>0.269655</td>\n",
       "      <td>2019-08-25 07:15:00</td>\n",
       "    </tr>\n",
       "    <tr>\n",
       "      <th>1566717900</th>\n",
       "      <td>101.40</td>\n",
       "      <td>0.0000</td>\n",
       "      <td>sell</td>\n",
       "      <td>0.271566</td>\n",
       "      <td>2019-08-25 08:25:00</td>\n",
       "    </tr>\n",
       "    <tr>\n",
       "      <th>1566718800</th>\n",
       "      <td>0.00</td>\n",
       "      <td>370.2122</td>\n",
       "      <td>brought</td>\n",
       "      <td>0.273362</td>\n",
       "      <td>2019-08-25 08:40:00</td>\n",
       "    </tr>\n",
       "    <tr>\n",
       "      <th>1566728100</th>\n",
       "      <td>101.67</td>\n",
       "      <td>0.0000</td>\n",
       "      <td>sell</td>\n",
       "      <td>0.274000</td>\n",
       "      <td>2019-08-25 11:15:00</td>\n",
       "    </tr>\n",
       "    <tr>\n",
       "      <th>1566728400</th>\n",
       "      <td>0.00</td>\n",
       "      <td>370.8342</td>\n",
       "      <td>brought</td>\n",
       "      <td>0.273625</td>\n",
       "      <td>2019-08-25 11:20:00</td>\n",
       "    </tr>\n",
       "    <tr>\n",
       "      <th>1566729600</th>\n",
       "      <td>101.84</td>\n",
       "      <td>0.0000</td>\n",
       "      <td>sell</td>\n",
       "      <td>0.275170</td>\n",
       "      <td>2019-08-25 11:40:00</td>\n",
       "    </tr>\n",
       "    <tr>\n",
       "      <th>1566732300</th>\n",
       "      <td>0.00</td>\n",
       "      <td>370.1799</td>\n",
       "      <td>brought</td>\n",
       "      <td>0.274555</td>\n",
       "      <td>2019-08-25 12:25:00</td>\n",
       "    </tr>\n",
       "    <tr>\n",
       "      <th>1566779400</th>\n",
       "      <td>103.28</td>\n",
       "      <td>0.0000</td>\n",
       "      <td>sell</td>\n",
       "      <td>0.275518</td>\n",
       "      <td>2019-08-26 01:30:00</td>\n",
       "    </tr>\n",
       "    <tr>\n",
       "      <th>1566780300</th>\n",
       "      <td>0.00</td>\n",
       "      <td>372.4492</td>\n",
       "      <td>brought</td>\n",
       "      <td>0.276758</td>\n",
       "      <td>2019-08-26 01:45:00</td>\n",
       "    </tr>\n",
       "    <tr>\n",
       "      <th>1567644600</th>\n",
       "      <td>95.79</td>\n",
       "      <td>0.0000</td>\n",
       "      <td>time_stop</td>\n",
       "      <td>0.257700</td>\n",
       "      <td>2019-09-05 01:50:00</td>\n",
       "    </tr>\n",
       "    <tr>\n",
       "      <th>1567663800</th>\n",
       "      <td>0.00</td>\n",
       "      <td>370.0288</td>\n",
       "      <td>brought</td>\n",
       "      <td>0.258349</td>\n",
       "      <td>2019-09-05 07:10:00</td>\n",
       "    </tr>\n",
       "    <tr>\n",
       "      <th>1567866600</th>\n",
       "      <td>95.94</td>\n",
       "      <td>0.0000</td>\n",
       "      <td>sell</td>\n",
       "      <td>0.258139</td>\n",
       "      <td>2019-09-07 15:30:00</td>\n",
       "    </tr>\n",
       "    <tr>\n",
       "      <th>1567867500</th>\n",
       "      <td>0.00</td>\n",
       "      <td>371.8977</td>\n",
       "      <td>brought</td>\n",
       "      <td>0.257455</td>\n",
       "      <td>2019-09-07 15:45:00</td>\n",
       "    </tr>\n",
       "    <tr>\n",
       "      <th>1567868700</th>\n",
       "      <td>96.13</td>\n",
       "      <td>0.0000</td>\n",
       "      <td>sell</td>\n",
       "      <td>0.257455</td>\n",
       "      <td>2019-09-07 16:05:00</td>\n",
       "    </tr>\n",
       "    <tr>\n",
       "      <th>1567872600</th>\n",
       "      <td>0.00</td>\n",
       "      <td>372.5284</td>\n",
       "      <td>brought</td>\n",
       "      <td>0.257528</td>\n",
       "      <td>2019-09-07 17:10:00</td>\n",
       "    </tr>\n",
       "    <tr>\n",
       "      <th>1567873800</th>\n",
       "      <td>97.21</td>\n",
       "      <td>0.0000</td>\n",
       "      <td>sell</td>\n",
       "      <td>0.258696</td>\n",
       "      <td>2019-09-07 17:30:00</td>\n",
       "    </tr>\n",
       "    <tr>\n",
       "      <th>1567875000</th>\n",
       "      <td>0.00</td>\n",
       "      <td>373.3519</td>\n",
       "      <td>brought</td>\n",
       "      <td>0.259850</td>\n",
       "      <td>2019-09-07 17:50:00</td>\n",
       "    </tr>\n",
       "    <tr>\n",
       "      <th>1567876200</th>\n",
       "      <td>97.83</td>\n",
       "      <td>0.0000</td>\n",
       "      <td>sell</td>\n",
       "      <td>0.261300</td>\n",
       "      <td>2019-09-07 18:10:00</td>\n",
       "    </tr>\n",
       "    <tr>\n",
       "      <th>1567876800</th>\n",
       "      <td>0.00</td>\n",
       "      <td>374.8787</td>\n",
       "      <td>brought</td>\n",
       "      <td>0.260431</td>\n",
       "      <td>2019-09-07 18:20:00</td>\n",
       "    </tr>\n",
       "    <tr>\n",
       "      <th>1567884000</th>\n",
       "      <td>98.01</td>\n",
       "      <td>0.0000</td>\n",
       "      <td>sell</td>\n",
       "      <td>0.261973</td>\n",
       "      <td>2019-09-07 20:20:00</td>\n",
       "    </tr>\n",
       "    <tr>\n",
       "      <th>1567884300</th>\n",
       "      <td>0.00</td>\n",
       "      <td>373.3807</td>\n",
       "      <td>brought</td>\n",
       "      <td>0.261973</td>\n",
       "      <td>2019-09-07 20:25:00</td>\n",
       "    </tr>\n",
       "    <tr>\n",
       "      <th>1567914000</th>\n",
       "      <td>98.83</td>\n",
       "      <td>0.0000</td>\n",
       "      <td>sell</td>\n",
       "      <td>0.262797</td>\n",
       "      <td>2019-09-08 04:40:00</td>\n",
       "    </tr>\n",
       "    <tr>\n",
       "      <th>1567914300</th>\n",
       "      <td>0.00</td>\n",
       "      <td>371.8887</td>\n",
       "      <td>brought</td>\n",
       "      <td>0.265228</td>\n",
       "      <td>2019-09-08 04:45:00</td>\n",
       "    </tr>\n",
       "    <tr>\n",
       "      <th>1568706000</th>\n",
       "      <td>99.22</td>\n",
       "      <td>0.0000</td>\n",
       "      <td>sell</td>\n",
       "      <td>0.263752</td>\n",
       "      <td>2019-09-17 08:40:00</td>\n",
       "    </tr>\n",
       "    <tr>\n",
       "      <th>1568709000</th>\n",
       "      <td>0.00</td>\n",
       "      <td>371.0530</td>\n",
       "      <td>brought</td>\n",
       "      <td>0.266874</td>\n",
       "      <td>2019-09-17 09:30:00</td>\n",
       "    </tr>\n",
       "    <tr>\n",
       "      <th>1568721900</th>\n",
       "      <td>99.98</td>\n",
       "      <td>0.0000</td>\n",
       "      <td>sell</td>\n",
       "      <td>0.268520</td>\n",
       "      <td>2019-09-17 13:05:00</td>\n",
       "    </tr>\n",
       "    <tr>\n",
       "      <th>...</th>\n",
       "      <td>...</td>\n",
       "      <td>...</td>\n",
       "      <td>...</td>\n",
       "      <td>...</td>\n",
       "      <td>...</td>\n",
       "    </tr>\n",
       "    <tr>\n",
       "      <th>1572057900</th>\n",
       "      <td>153.97</td>\n",
       "      <td>0.0000</td>\n",
       "      <td>sell</td>\n",
       "      <td>0.302645</td>\n",
       "      <td>2019-10-26 03:45:00</td>\n",
       "    </tr>\n",
       "    <tr>\n",
       "      <th>1572058200</th>\n",
       "      <td>0.00</td>\n",
       "      <td>509.3635</td>\n",
       "      <td>brought</td>\n",
       "      <td>0.301677</td>\n",
       "      <td>2019-10-26 03:50:00</td>\n",
       "    </tr>\n",
       "    <tr>\n",
       "      <th>1572058800</th>\n",
       "      <td>154.14</td>\n",
       "      <td>0.0000</td>\n",
       "      <td>sell</td>\n",
       "      <td>0.300325</td>\n",
       "      <td>2019-10-26 04:00:00</td>\n",
       "    </tr>\n",
       "    <tr>\n",
       "      <th>1572059100</th>\n",
       "      <td>0.00</td>\n",
       "      <td>510.5653</td>\n",
       "      <td>brought</td>\n",
       "      <td>0.301296</td>\n",
       "      <td>2019-10-26 04:05:00</td>\n",
       "    </tr>\n",
       "    <tr>\n",
       "      <th>1572059400</th>\n",
       "      <td>154.30</td>\n",
       "      <td>0.0000</td>\n",
       "      <td>sell</td>\n",
       "      <td>0.301429</td>\n",
       "      <td>2019-10-26 04:10:00</td>\n",
       "    </tr>\n",
       "    <tr>\n",
       "      <th>1572059700</th>\n",
       "      <td>0.00</td>\n",
       "      <td>513.2725</td>\n",
       "      <td>brought</td>\n",
       "      <td>0.300014</td>\n",
       "      <td>2019-10-26 04:15:00</td>\n",
       "    </tr>\n",
       "    <tr>\n",
       "      <th>1572060600</th>\n",
       "      <td>155.40</td>\n",
       "      <td>0.0000</td>\n",
       "      <td>sell</td>\n",
       "      <td>0.300916</td>\n",
       "      <td>2019-10-26 04:30:00</td>\n",
       "    </tr>\n",
       "    <tr>\n",
       "      <th>1572060900</th>\n",
       "      <td>0.00</td>\n",
       "      <td>512.3775</td>\n",
       "      <td>brought</td>\n",
       "      <td>0.302683</td>\n",
       "      <td>2019-10-26 04:35:00</td>\n",
       "    </tr>\n",
       "    <tr>\n",
       "      <th>1572064800</th>\n",
       "      <td>156.51</td>\n",
       "      <td>0.0000</td>\n",
       "      <td>sell</td>\n",
       "      <td>0.303878</td>\n",
       "      <td>2019-10-26 05:40:00</td>\n",
       "    </tr>\n",
       "    <tr>\n",
       "      <th>1572065100</th>\n",
       "      <td>0.00</td>\n",
       "      <td>512.9368</td>\n",
       "      <td>brought</td>\n",
       "      <td>0.304510</td>\n",
       "      <td>2019-10-26 05:45:00</td>\n",
       "    </tr>\n",
       "    <tr>\n",
       "      <th>1572350400</th>\n",
       "      <td>157.36</td>\n",
       "      <td>0.0000</td>\n",
       "      <td>sell</td>\n",
       "      <td>0.301950</td>\n",
       "      <td>2019-10-29 12:00:00</td>\n",
       "    </tr>\n",
       "    <tr>\n",
       "      <th>1572350700</th>\n",
       "      <td>0.00</td>\n",
       "      <td>513.2133</td>\n",
       "      <td>brought</td>\n",
       "      <td>0.306007</td>\n",
       "      <td>2019-10-29 12:05:00</td>\n",
       "    </tr>\n",
       "    <tr>\n",
       "      <th>1572351000</th>\n",
       "      <td>158.18</td>\n",
       "      <td>0.0000</td>\n",
       "      <td>sell</td>\n",
       "      <td>0.305408</td>\n",
       "      <td>2019-10-29 12:10:00</td>\n",
       "    </tr>\n",
       "    <tr>\n",
       "      <th>1572351600</th>\n",
       "      <td>0.00</td>\n",
       "      <td>516.2432</td>\n",
       "      <td>brought</td>\n",
       "      <td>0.305787</td>\n",
       "      <td>2019-10-29 12:20:00</td>\n",
       "    </tr>\n",
       "    <tr>\n",
       "      <th>1573076100</th>\n",
       "      <td>159.17</td>\n",
       "      <td>0.0000</td>\n",
       "      <td>sell</td>\n",
       "      <td>0.305510</td>\n",
       "      <td>2019-11-06 21:35:00</td>\n",
       "    </tr>\n",
       "    <tr>\n",
       "      <th>1573077900</th>\n",
       "      <td>0.00</td>\n",
       "      <td>510.7634</td>\n",
       "      <td>brought</td>\n",
       "      <td>0.311000</td>\n",
       "      <td>2019-11-06 22:05:00</td>\n",
       "    </tr>\n",
       "    <tr>\n",
       "      <th>1573078200</th>\n",
       "      <td>159.68</td>\n",
       "      <td>0.0000</td>\n",
       "      <td>sell</td>\n",
       "      <td>0.310471</td>\n",
       "      <td>2019-11-06 22:10:00</td>\n",
       "    </tr>\n",
       "    <tr>\n",
       "      <th>1573078500</th>\n",
       "      <td>0.00</td>\n",
       "      <td>513.3765</td>\n",
       "      <td>brought</td>\n",
       "      <td>0.310408</td>\n",
       "      <td>2019-11-06 22:15:00</td>\n",
       "    </tr>\n",
       "    <tr>\n",
       "      <th>1573085700</th>\n",
       "      <td>160.34</td>\n",
       "      <td>0.0000</td>\n",
       "      <td>sell</td>\n",
       "      <td>0.310783</td>\n",
       "      <td>2019-11-07 00:15:00</td>\n",
       "    </tr>\n",
       "    <tr>\n",
       "      <th>1573086000</th>\n",
       "      <td>0.00</td>\n",
       "      <td>514.1606</td>\n",
       "      <td>brought</td>\n",
       "      <td>0.311224</td>\n",
       "      <td>2019-11-07 00:20:00</td>\n",
       "    </tr>\n",
       "    <tr>\n",
       "      <th>1573087200</th>\n",
       "      <td>161.37</td>\n",
       "      <td>0.0000</td>\n",
       "      <td>sell</td>\n",
       "      <td>0.312521</td>\n",
       "      <td>2019-11-07 00:40:00</td>\n",
       "    </tr>\n",
       "    <tr>\n",
       "      <th>1573087500</th>\n",
       "      <td>0.00</td>\n",
       "      <td>514.7783</td>\n",
       "      <td>brought</td>\n",
       "      <td>0.312857</td>\n",
       "      <td>2019-11-07 00:45:00</td>\n",
       "    </tr>\n",
       "    <tr>\n",
       "      <th>1573951800</th>\n",
       "      <td>134.51</td>\n",
       "      <td>0.0000</td>\n",
       "      <td>time_stop</td>\n",
       "      <td>0.261824</td>\n",
       "      <td>2019-11-17 00:50:00</td>\n",
       "    </tr>\n",
       "    <tr>\n",
       "      <th>1573953000</th>\n",
       "      <td>0.00</td>\n",
       "      <td>512.5083</td>\n",
       "      <td>brought</td>\n",
       "      <td>0.261933</td>\n",
       "      <td>2019-11-17 01:10:00</td>\n",
       "    </tr>\n",
       "    <tr>\n",
       "      <th>1573980900</th>\n",
       "      <td>134.76</td>\n",
       "      <td>0.0000</td>\n",
       "      <td>sell</td>\n",
       "      <td>0.263061</td>\n",
       "      <td>2019-11-17 08:55:00</td>\n",
       "    </tr>\n",
       "    <tr>\n",
       "      <th>1573982700</th>\n",
       "      <td>0.00</td>\n",
       "      <td>512.8304</td>\n",
       "      <td>brought</td>\n",
       "      <td>0.262245</td>\n",
       "      <td>2019-11-17 09:25:00</td>\n",
       "    </tr>\n",
       "    <tr>\n",
       "      <th>1573989300</th>\n",
       "      <td>135.24</td>\n",
       "      <td>0.0000</td>\n",
       "      <td>sell</td>\n",
       "      <td>0.263336</td>\n",
       "      <td>2019-11-17 11:15:00</td>\n",
       "    </tr>\n",
       "    <tr>\n",
       "      <th>1573990500</th>\n",
       "      <td>0.00</td>\n",
       "      <td>511.4979</td>\n",
       "      <td>brought</td>\n",
       "      <td>0.263878</td>\n",
       "      <td>2019-11-17 11:35:00</td>\n",
       "    </tr>\n",
       "    <tr>\n",
       "      <th>1574014200</th>\n",
       "      <td>135.63</td>\n",
       "      <td>0.0000</td>\n",
       "      <td>sell</td>\n",
       "      <td>0.265181</td>\n",
       "      <td>2019-11-17 18:10:00</td>\n",
       "    </tr>\n",
       "    <tr>\n",
       "      <th>1574015700</th>\n",
       "      <td>0.00</td>\n",
       "      <td>511.3905</td>\n",
       "      <td>brought</td>\n",
       "      <td>0.264694</td>\n",
       "      <td>2019-11-17 18:35:00</td>\n",
       "    </tr>\n",
       "  </tbody>\n",
       "</table>\n",
       "<p>289 rows × 5 columns</p>\n",
       "</div>"
      ],
      "text/plain": [
       "              Gold  XRP_Amount     action  price_action_happened  \\\n",
       "1566697800    0.00    371.8453    brought               0.268391   \n",
       "1566699600  100.20      0.0000       sell               0.269997   \n",
       "1566703800    0.00    371.1061    brought               0.269454   \n",
       "1566705300  100.52      0.0000       sell               0.271417   \n",
       "1566713700    0.00    372.0388    brought               0.269655   \n",
       "1566717900  101.40      0.0000       sell               0.271566   \n",
       "1566718800    0.00    370.2122    brought               0.273362   \n",
       "1566728100  101.67      0.0000       sell               0.274000   \n",
       "1566728400    0.00    370.8342    brought               0.273625   \n",
       "1566729600  101.84      0.0000       sell               0.275170   \n",
       "1566732300    0.00    370.1799    brought               0.274555   \n",
       "1566779400  103.28      0.0000       sell               0.275518   \n",
       "1566780300    0.00    372.4492    brought               0.276758   \n",
       "1567644600   95.79      0.0000  time_stop               0.257700   \n",
       "1567663800    0.00    370.0288    brought               0.258349   \n",
       "1567866600   95.94      0.0000       sell               0.258139   \n",
       "1567867500    0.00    371.8977    brought               0.257455   \n",
       "1567868700   96.13      0.0000       sell               0.257455   \n",
       "1567872600    0.00    372.5284    brought               0.257528   \n",
       "1567873800   97.21      0.0000       sell               0.258696   \n",
       "1567875000    0.00    373.3519    brought               0.259850   \n",
       "1567876200   97.83      0.0000       sell               0.261300   \n",
       "1567876800    0.00    374.8787    brought               0.260431   \n",
       "1567884000   98.01      0.0000       sell               0.261973   \n",
       "1567884300    0.00    373.3807    brought               0.261973   \n",
       "1567914000   98.83      0.0000       sell               0.262797   \n",
       "1567914300    0.00    371.8887    brought               0.265228   \n",
       "1568706000   99.22      0.0000       sell               0.263752   \n",
       "1568709000    0.00    371.0530    brought               0.266874   \n",
       "1568721900   99.98      0.0000       sell               0.268520   \n",
       "...            ...         ...        ...                    ...   \n",
       "1572057900  153.97      0.0000       sell               0.302645   \n",
       "1572058200    0.00    509.3635    brought               0.301677   \n",
       "1572058800  154.14      0.0000       sell               0.300325   \n",
       "1572059100    0.00    510.5653    brought               0.301296   \n",
       "1572059400  154.30      0.0000       sell               0.301429   \n",
       "1572059700    0.00    513.2725    brought               0.300014   \n",
       "1572060600  155.40      0.0000       sell               0.300916   \n",
       "1572060900    0.00    512.3775    brought               0.302683   \n",
       "1572064800  156.51      0.0000       sell               0.303878   \n",
       "1572065100    0.00    512.9368    brought               0.304510   \n",
       "1572350400  157.36      0.0000       sell               0.301950   \n",
       "1572350700    0.00    513.2133    brought               0.306007   \n",
       "1572351000  158.18      0.0000       sell               0.305408   \n",
       "1572351600    0.00    516.2432    brought               0.305787   \n",
       "1573076100  159.17      0.0000       sell               0.305510   \n",
       "1573077900    0.00    510.7634    brought               0.311000   \n",
       "1573078200  159.68      0.0000       sell               0.310471   \n",
       "1573078500    0.00    513.3765    brought               0.310408   \n",
       "1573085700  160.34      0.0000       sell               0.310783   \n",
       "1573086000    0.00    514.1606    brought               0.311224   \n",
       "1573087200  161.37      0.0000       sell               0.312521   \n",
       "1573087500    0.00    514.7783    brought               0.312857   \n",
       "1573951800  134.51      0.0000  time_stop               0.261824   \n",
       "1573953000    0.00    512.5083    brought               0.261933   \n",
       "1573980900  134.76      0.0000       sell               0.263061   \n",
       "1573982700    0.00    512.8304    brought               0.262245   \n",
       "1573989300  135.24      0.0000       sell               0.263336   \n",
       "1573990500    0.00    511.4979    brought               0.263878   \n",
       "1574014200  135.63      0.0000       sell               0.265181   \n",
       "1574015700    0.00    511.3905    brought               0.264694   \n",
       "\n",
       "                 datetime_real  \n",
       "1566697800 2019-08-25 02:50:00  \n",
       "1566699600 2019-08-25 03:20:00  \n",
       "1566703800 2019-08-25 04:30:00  \n",
       "1566705300 2019-08-25 04:55:00  \n",
       "1566713700 2019-08-25 07:15:00  \n",
       "1566717900 2019-08-25 08:25:00  \n",
       "1566718800 2019-08-25 08:40:00  \n",
       "1566728100 2019-08-25 11:15:00  \n",
       "1566728400 2019-08-25 11:20:00  \n",
       "1566729600 2019-08-25 11:40:00  \n",
       "1566732300 2019-08-25 12:25:00  \n",
       "1566779400 2019-08-26 01:30:00  \n",
       "1566780300 2019-08-26 01:45:00  \n",
       "1567644600 2019-09-05 01:50:00  \n",
       "1567663800 2019-09-05 07:10:00  \n",
       "1567866600 2019-09-07 15:30:00  \n",
       "1567867500 2019-09-07 15:45:00  \n",
       "1567868700 2019-09-07 16:05:00  \n",
       "1567872600 2019-09-07 17:10:00  \n",
       "1567873800 2019-09-07 17:30:00  \n",
       "1567875000 2019-09-07 17:50:00  \n",
       "1567876200 2019-09-07 18:10:00  \n",
       "1567876800 2019-09-07 18:20:00  \n",
       "1567884000 2019-09-07 20:20:00  \n",
       "1567884300 2019-09-07 20:25:00  \n",
       "1567914000 2019-09-08 04:40:00  \n",
       "1567914300 2019-09-08 04:45:00  \n",
       "1568706000 2019-09-17 08:40:00  \n",
       "1568709000 2019-09-17 09:30:00  \n",
       "1568721900 2019-09-17 13:05:00  \n",
       "...                        ...  \n",
       "1572057900 2019-10-26 03:45:00  \n",
       "1572058200 2019-10-26 03:50:00  \n",
       "1572058800 2019-10-26 04:00:00  \n",
       "1572059100 2019-10-26 04:05:00  \n",
       "1572059400 2019-10-26 04:10:00  \n",
       "1572059700 2019-10-26 04:15:00  \n",
       "1572060600 2019-10-26 04:30:00  \n",
       "1572060900 2019-10-26 04:35:00  \n",
       "1572064800 2019-10-26 05:40:00  \n",
       "1572065100 2019-10-26 05:45:00  \n",
       "1572350400 2019-10-29 12:00:00  \n",
       "1572350700 2019-10-29 12:05:00  \n",
       "1572351000 2019-10-29 12:10:00  \n",
       "1572351600 2019-10-29 12:20:00  \n",
       "1573076100 2019-11-06 21:35:00  \n",
       "1573077900 2019-11-06 22:05:00  \n",
       "1573078200 2019-11-06 22:10:00  \n",
       "1573078500 2019-11-06 22:15:00  \n",
       "1573085700 2019-11-07 00:15:00  \n",
       "1573086000 2019-11-07 00:20:00  \n",
       "1573087200 2019-11-07 00:40:00  \n",
       "1573087500 2019-11-07 00:45:00  \n",
       "1573951800 2019-11-17 00:50:00  \n",
       "1573953000 2019-11-17 01:10:00  \n",
       "1573980900 2019-11-17 08:55:00  \n",
       "1573982700 2019-11-17 09:25:00  \n",
       "1573989300 2019-11-17 11:15:00  \n",
       "1573990500 2019-11-17 11:35:00  \n",
       "1574014200 2019-11-17 18:10:00  \n",
       "1574015700 2019-11-17 18:35:00  \n",
       "\n",
       "[289 rows x 5 columns]"
      ]
     },
     "execution_count": 489,
     "metadata": {},
     "output_type": "execute_result"
    }
   ],
   "source": [
    "transation_log"
   ]
  },
  {
   "cell_type": "code",
   "execution_count": 490,
   "metadata": {},
   "outputs": [
    {
     "data": {
      "text/plain": [
       "<matplotlib.axes._subplots.AxesSubplot at 0x1eb859005f8>"
      ]
     },
     "execution_count": 490,
     "metadata": {},
     "output_type": "execute_result"
    },
    {
     "data": {
      "image/png": "[encoded data removed]",
      "text/plain": [
       "<Figure size 1440x720 with 1 Axes>"
      ]
     },
     "metadata": {
      "needs_background": "light"
     },
     "output_type": "display_data"
    }
   ],
   "source": [
    "transation_log[transation_log['action'] != 'brought'].set_index('datetime_real')[['Gold']].plot(figsize = (20,10))"
   ]
  },
  {
   "cell_type": "code",
   "execution_count": 493,
   "metadata": {},
   "outputs": [
    {
     "data": {
      "text/plain": [
       "<matplotlib.axes._subplots.AxesSubplot at 0x1eba9710cc0>"
      ]
     },
     "execution_count": 493,
     "metadata": {},
     "output_type": "execute_result"
    },
    {
     "data": {
      "image/png": "[encoded data removed]",
      "text/plain": [
       "<Figure size 1440x720 with 1 Axes>"
      ]
     },
     "metadata": {
      "needs_background": "light"
     },
     "output_type": "display_data"
    }
   ],
   "source": [
    "XRP_for_testing_drop_na.set_index('datetime_real')[['close']].plot(figsize = (20,10))"
   ]
  },
  {
   "cell_type": "code",
   "execution_count": null,
   "metadata": {},
   "outputs": [],
   "source": []
  },
  {
   "cell_type": "code",
   "execution_count": null,
   "metadata": {},
   "outputs": [],
   "source": []
  },
  {
   "cell_type": "code",
   "execution_count": null,
   "metadata": {},
   "outputs": [],
   "source": []
  },
  {
   "cell_type": "code",
   "execution_count": null,
   "metadata": {},
   "outputs": [],
   "source": []
  },
  {
   "cell_type": "code",
   "execution_count": 444,
   "metadata": {},
   "outputs": [],
   "source": [
    "time_event = {}\n",
    "starting_asset = 100\n",
    "bought_crypto = False\n",
    "\n",
    "\n",
    "gold_available = starting_asset \n",
    "XRP_amount = 0\n",
    "\n",
    "\n",
    "drop_limit = 0.005 # used mean on this side, actual 0.004686, but decreased abit for optimistic view \n",
    "\n",
    "stop_loss_limit = 0.02\n",
    "sell_limit = 0.005\n",
    "\n",
    "trading_data = XRP_for_testing_drop_na\n",
    "while gold_available >= 0:\n",
    "    \n",
    "    for ind, df in trading_data.iterrows():\n",
    "#         print(df['date'])\n",
    "        \n",
    "        if bought_crypto != True: # then looking to buy at drop limit or lower\n",
    "            if (( df['20min_RA_on_Close'] - df['low'] ) / df['20min_RA_on_Close'] >= drop_limit ) and (df['20min_RA_on_Close'] != df['2H_RA_on_Close']): \n",
    "                \"then buy crypto\"\n",
    "\n",
    "                XRP_amount += (gold_available/df['low']) * 0.998 # due to 0.2% fee\n",
    "\n",
    "                gold_available -= gold_available\n",
    "                \n",
    "                time_event.update({df['date']  : ( gold_available, XRP_amount , 'brought' , df['low'])})\n",
    "                \n",
    "                last_xrp_traction_price =  df['low']\n",
    "                \n",
    "                bought_crypto = True\n",
    "                \n",
    "                latest_bought_crypto_timestamp = df['date']\n",
    "                \n",
    "#                 print('last_xrp_traction_price ', last_xrp_traction_price)\n",
    "                \n",
    "        else:\n",
    "            if bought_crypto: # has crypto, either wait or sell at stoploss or profit\n",
    "#                 print('hit_sell_limit',\n",
    "#                       (df['high'] - last_xrp_traction_price)/last_xrp_traction_price >= sell_limit ,\n",
    "#                       round((df['high'] - last_xrp_traction_price),6) ,\n",
    "#                       'sell_limit ', sell_limit\n",
    "                     \n",
    "#                       )\n",
    "\n",
    "                if df['date'] - latest_bought_crypto_timestamp > 172800:\n",
    "                    \n",
    "                    gold_available += XRP_amount * df['high'] * 0.998  # sell at low price\n",
    "                    \n",
    "                    XRP_amount -= XRP_amount\n",
    "                    \n",
    "                    time_event.update({df['date']  : ( gold_available, XRP_amount , 'time_stop' ,  df['low'])})\n",
    "                    \n",
    "                    bought_crypto = False\n",
    "                    \n",
    "                \n",
    "                elif ( df['20min_RA_on_Close'] - df['low'] ) / df['20min_RA_on_Close'] >= stop_loss_limit: # then hit stop loss, force sell\n",
    "#                     print('stoppppppppppppppppppppppppp')\n",
    "                    gold_available += XRP_amount * df['low'] * 0.998  # sell at low price\n",
    "                    \n",
    "                    XRP_amount -= XRP_amount\n",
    "                    \n",
    "                    time_event.update({df['date']  : ( gold_available, XRP_amount , 'stop_loss_hit' ,  df['low'])})\n",
    "                    \n",
    "                    bought_crypto = False\n",
    "                    \n",
    "                    \n",
    "                \n",
    "                elif  (df['high'] - last_xrp_traction_price)/last_xrp_traction_price >= sell_limit: # then hit target price, sell for profit\n",
    "                    \n",
    "#                     print(last_xrp_traction_price)\n",
    "                                        \n",
    "                    gold_available += XRP_amount * df['high'] * 0.998  # sell at high price\n",
    "                    \n",
    "                    XRP_amount -= XRP_amount\n",
    "                    \n",
    "                    time_event.update({df['date']  : ( gold_available, XRP_amount , 'sell_profit' , df['high'])})\n",
    "                    \n",
    "                    bought_crypto = False\n",
    "\n",
    "    break\n",
    "                \n",
    "else:\n",
    "    print('Negative asset: bankrupt  ->>>   ',  gold_available)"
   ]
  },
  {
   "cell_type": "code",
   "execution_count": 445,
   "metadata": {},
   "outputs": [],
   "source": [
    "transation_log = pd.DataFrame.from_dict(time_event, orient='index', columns= ['Gold', 'XRP_Amount', 'action', 'price_action_happened'])\n",
    "\n",
    "transation_log['datetime_real'] = [datetime.fromtimestamp(d) for d in transation_log.index]\n",
    "\n",
    "transation_log['Gold'] = round(transation_log['Gold'], 2)\n",
    "\n",
    "transation_log['XRP_Amount'] = round(transation_log['XRP_Amount'], 4)"
   ]
  },
  {
   "cell_type": "code",
   "execution_count": 446,
   "metadata": {},
   "outputs": [
    {
     "data": {
      "text/plain": [
       "<matplotlib.axes._subplots.AxesSubplot at 0x1eb82f54668>"
      ]
     },
     "execution_count": 446,
     "metadata": {},
     "output_type": "execute_result"
    },
    {
     "data": {
      "image/png": "[encoded data removed]",
      "text/plain": [
       "<Figure size 1440x720 with 1 Axes>"
      ]
     },
     "metadata": {
      "needs_background": "light"
     },
     "output_type": "display_data"
    }
   ],
   "source": [
    "transation_log[transation_log['action'] != 'brought'].set_index('datetime_real')[['Gold']].plot(figsize = (20,10))"
   ]
  },
  {
   "cell_type": "code",
   "execution_count": 447,
   "metadata": {},
   "outputs": [
    {
     "data": {
      "text/html": [
       "<div>\n",
       "<style scoped>\n",
       "    .dataframe tbody tr th:only-of-type {\n",
       "        vertical-align: middle;\n",
       "    }\n",
       "\n",
       "    .dataframe tbody tr th {\n",
       "        vertical-align: top;\n",
       "    }\n",
       "\n",
       "    .dataframe thead th {\n",
       "        text-align: right;\n",
       "    }\n",
       "</style>\n",
       "<table border=\"1\" class=\"dataframe\">\n",
       "  <thead>\n",
       "    <tr style=\"text-align: right;\">\n",
       "      <th></th>\n",
       "      <th>Gold</th>\n",
       "      <th>XRP_Amount</th>\n",
       "      <th>action</th>\n",
       "      <th>price_action_happened</th>\n",
       "      <th>datetime_real</th>\n",
       "    </tr>\n",
       "  </thead>\n",
       "  <tbody>\n",
       "    <tr>\n",
       "      <th>1566697800</th>\n",
       "      <td>0.00</td>\n",
       "      <td>371.8453</td>\n",
       "      <td>brought</td>\n",
       "      <td>0.268391</td>\n",
       "      <td>2019-08-25 02:50:00</td>\n",
       "    </tr>\n",
       "    <tr>\n",
       "      <th>1566699600</th>\n",
       "      <td>100.20</td>\n",
       "      <td>0.0000</td>\n",
       "      <td>sell_profit</td>\n",
       "      <td>0.269997</td>\n",
       "      <td>2019-08-25 03:20:00</td>\n",
       "    </tr>\n",
       "    <tr>\n",
       "      <th>1566734400</th>\n",
       "      <td>0.00</td>\n",
       "      <td>366.2122</td>\n",
       "      <td>brought</td>\n",
       "      <td>0.273055</td>\n",
       "      <td>2019-08-25 13:00:00</td>\n",
       "    </tr>\n",
       "    <tr>\n",
       "      <th>1566735600</th>\n",
       "      <td>100.32</td>\n",
       "      <td>0.0000</td>\n",
       "      <td>sell_profit</td>\n",
       "      <td>0.274479</td>\n",
       "      <td>2019-08-25 13:20:00</td>\n",
       "    </tr>\n",
       "    <tr>\n",
       "      <th>1566738300</th>\n",
       "      <td>0.00</td>\n",
       "      <td>366.0261</td>\n",
       "      <td>brought</td>\n",
       "      <td>0.273522</td>\n",
       "      <td>2019-08-25 14:05:00</td>\n",
       "    </tr>\n",
       "    <tr>\n",
       "      <th>1566741000</th>\n",
       "      <td>100.52</td>\n",
       "      <td>0.0000</td>\n",
       "      <td>sell_profit</td>\n",
       "      <td>0.275180</td>\n",
       "      <td>2019-08-25 14:50:00</td>\n",
       "    </tr>\n",
       "    <tr>\n",
       "      <th>1566743100</th>\n",
       "      <td>0.00</td>\n",
       "      <td>373.2854</td>\n",
       "      <td>brought</td>\n",
       "      <td>0.268750</td>\n",
       "      <td>2019-08-25 15:25:00</td>\n",
       "    </tr>\n",
       "    <tr>\n",
       "      <th>1566745200</th>\n",
       "      <td>100.73</td>\n",
       "      <td>0.0000</td>\n",
       "      <td>sell_profit</td>\n",
       "      <td>0.270376</td>\n",
       "      <td>2019-08-25 16:00:00</td>\n",
       "    </tr>\n",
       "    <tr>\n",
       "      <th>1566749700</th>\n",
       "      <td>0.00</td>\n",
       "      <td>372.2890</td>\n",
       "      <td>brought</td>\n",
       "      <td>0.270017</td>\n",
       "      <td>2019-08-25 17:15:00</td>\n",
       "    </tr>\n",
       "    <tr>\n",
       "      <th>1566756000</th>\n",
       "      <td>100.91</td>\n",
       "      <td>0.0000</td>\n",
       "      <td>sell_profit</td>\n",
       "      <td>0.271594</td>\n",
       "      <td>2019-08-25 19:00:00</td>\n",
       "    </tr>\n",
       "    <tr>\n",
       "      <th>1566761700</th>\n",
       "      <td>0.00</td>\n",
       "      <td>373.7688</td>\n",
       "      <td>brought</td>\n",
       "      <td>0.269437</td>\n",
       "      <td>2019-08-25 20:35:00</td>\n",
       "    </tr>\n",
       "    <tr>\n",
       "      <th>1566778500</th>\n",
       "      <td>102.92</td>\n",
       "      <td>0.0000</td>\n",
       "      <td>sell_profit</td>\n",
       "      <td>0.275900</td>\n",
       "      <td>2019-08-26 01:15:00</td>\n",
       "    </tr>\n",
       "    <tr>\n",
       "      <th>1566780600</th>\n",
       "      <td>0.00</td>\n",
       "      <td>372.2322</td>\n",
       "      <td>brought</td>\n",
       "      <td>0.275932</td>\n",
       "      <td>2019-08-26 01:50:00</td>\n",
       "    </tr>\n",
       "    <tr>\n",
       "      <th>1566953700</th>\n",
       "      <td>99.80</td>\n",
       "      <td>0.0000</td>\n",
       "      <td>time_stop</td>\n",
       "      <td>0.268662</td>\n",
       "      <td>2019-08-28 01:55:00</td>\n",
       "    </tr>\n",
       "    <tr>\n",
       "      <th>1566957600</th>\n",
       "      <td>0.00</td>\n",
       "      <td>371.8322</td>\n",
       "      <td>brought</td>\n",
       "      <td>0.267877</td>\n",
       "      <td>2019-08-28 03:00:00</td>\n",
       "    </tr>\n",
       "    <tr>\n",
       "      <th>1567015200</th>\n",
       "      <td>94.63</td>\n",
       "      <td>0.0000</td>\n",
       "      <td>stop_loss_hit</td>\n",
       "      <td>0.255000</td>\n",
       "      <td>2019-08-28 19:00:00</td>\n",
       "    </tr>\n",
       "    <tr>\n",
       "      <th>1567015500</th>\n",
       "      <td>0.00</td>\n",
       "      <td>369.2440</td>\n",
       "      <td>brought</td>\n",
       "      <td>0.255761</td>\n",
       "      <td>2019-08-28 19:05:00</td>\n",
       "    </tr>\n",
       "    <tr>\n",
       "      <th>1567015800</th>\n",
       "      <td>93.44</td>\n",
       "      <td>0.0000</td>\n",
       "      <td>stop_loss_hit</td>\n",
       "      <td>0.253557</td>\n",
       "      <td>2019-08-28 19:10:00</td>\n",
       "    </tr>\n",
       "    <tr>\n",
       "      <th>1567016100</th>\n",
       "      <td>0.00</td>\n",
       "      <td>376.6171</td>\n",
       "      <td>brought</td>\n",
       "      <td>0.247600</td>\n",
       "      <td>2019-08-28 19:15:00</td>\n",
       "    </tr>\n",
       "    <tr>\n",
       "      <th>1567016400</th>\n",
       "      <td>93.25</td>\n",
       "      <td>0.0000</td>\n",
       "      <td>stop_loss_hit</td>\n",
       "      <td>0.248101</td>\n",
       "      <td>2019-08-28 19:20:00</td>\n",
       "    </tr>\n",
       "    <tr>\n",
       "      <th>1567016700</th>\n",
       "      <td>0.00</td>\n",
       "      <td>372.0123</td>\n",
       "      <td>brought</td>\n",
       "      <td>0.250168</td>\n",
       "      <td>2019-08-28 19:25:00</td>\n",
       "    </tr>\n",
       "    <tr>\n",
       "      <th>1567017300</th>\n",
       "      <td>93.85</td>\n",
       "      <td>0.0000</td>\n",
       "      <td>sell_profit</td>\n",
       "      <td>0.252775</td>\n",
       "      <td>2019-08-28 19:35:00</td>\n",
       "    </tr>\n",
       "    <tr>\n",
       "      <th>1567021800</th>\n",
       "      <td>0.00</td>\n",
       "      <td>371.2630</td>\n",
       "      <td>brought</td>\n",
       "      <td>0.252273</td>\n",
       "      <td>2019-08-28 20:50:00</td>\n",
       "    </tr>\n",
       "    <tr>\n",
       "      <th>1567022100</th>\n",
       "      <td>94.16</td>\n",
       "      <td>0.0000</td>\n",
       "      <td>sell_profit</td>\n",
       "      <td>0.254120</td>\n",
       "      <td>2019-08-28 20:55:00</td>\n",
       "    </tr>\n",
       "    <tr>\n",
       "      <th>1567024500</th>\n",
       "      <td>0.00</td>\n",
       "      <td>370.7079</td>\n",
       "      <td>brought</td>\n",
       "      <td>0.253484</td>\n",
       "      <td>2019-08-28 21:35:00</td>\n",
       "    </tr>\n",
       "    <tr>\n",
       "      <th>1567024800</th>\n",
       "      <td>94.31</td>\n",
       "      <td>0.0000</td>\n",
       "      <td>sell_profit</td>\n",
       "      <td>0.254915</td>\n",
       "      <td>2019-08-28 21:40:00</td>\n",
       "    </tr>\n",
       "    <tr>\n",
       "      <th>1567026600</th>\n",
       "      <td>0.00</td>\n",
       "      <td>372.6081</td>\n",
       "      <td>brought</td>\n",
       "      <td>0.252601</td>\n",
       "      <td>2019-08-28 22:10:00</td>\n",
       "    </tr>\n",
       "    <tr>\n",
       "      <th>1567026900</th>\n",
       "      <td>94.45</td>\n",
       "      <td>0.0000</td>\n",
       "      <td>sell_profit</td>\n",
       "      <td>0.254000</td>\n",
       "      <td>2019-08-28 22:15:00</td>\n",
       "    </tr>\n",
       "    <tr>\n",
       "      <th>1567028100</th>\n",
       "      <td>0.00</td>\n",
       "      <td>373.4430</td>\n",
       "      <td>brought</td>\n",
       "      <td>0.252419</td>\n",
       "      <td>2019-08-28 22:35:00</td>\n",
       "    </tr>\n",
       "    <tr>\n",
       "      <th>1567028400</th>\n",
       "      <td>94.62</td>\n",
       "      <td>0.0000</td>\n",
       "      <td>sell_profit</td>\n",
       "      <td>0.253879</td>\n",
       "      <td>2019-08-28 22:40:00</td>\n",
       "    </tr>\n",
       "    <tr>\n",
       "      <th>...</th>\n",
       "      <td>...</td>\n",
       "      <td>...</td>\n",
       "      <td>...</td>\n",
       "      <td>...</td>\n",
       "      <td>...</td>\n",
       "    </tr>\n",
       "    <tr>\n",
       "      <th>1574370600</th>\n",
       "      <td>76.95</td>\n",
       "      <td>0.0000</td>\n",
       "      <td>sell_profit</td>\n",
       "      <td>0.241957</td>\n",
       "      <td>2019-11-21 21:10:00</td>\n",
       "    </tr>\n",
       "    <tr>\n",
       "      <th>1574401800</th>\n",
       "      <td>0.00</td>\n",
       "      <td>319.9685</td>\n",
       "      <td>brought</td>\n",
       "      <td>0.240000</td>\n",
       "      <td>2019-11-22 05:50:00</td>\n",
       "    </tr>\n",
       "    <tr>\n",
       "      <th>1574402700</th>\n",
       "      <td>77.13</td>\n",
       "      <td>0.0000</td>\n",
       "      <td>sell_profit</td>\n",
       "      <td>0.241540</td>\n",
       "      <td>2019-11-22 06:05:00</td>\n",
       "    </tr>\n",
       "    <tr>\n",
       "      <th>1574404200</th>\n",
       "      <td>0.00</td>\n",
       "      <td>322.4803</td>\n",
       "      <td>brought</td>\n",
       "      <td>0.238701</td>\n",
       "      <td>2019-11-22 06:30:00</td>\n",
       "    </tr>\n",
       "    <tr>\n",
       "      <th>1574407500</th>\n",
       "      <td>77.22</td>\n",
       "      <td>0.0000</td>\n",
       "      <td>sell_profit</td>\n",
       "      <td>0.239927</td>\n",
       "      <td>2019-11-22 07:25:00</td>\n",
       "    </tr>\n",
       "    <tr>\n",
       "      <th>1574413800</th>\n",
       "      <td>0.00</td>\n",
       "      <td>324.8253</td>\n",
       "      <td>brought</td>\n",
       "      <td>0.237243</td>\n",
       "      <td>2019-11-22 09:10:00</td>\n",
       "    </tr>\n",
       "    <tr>\n",
       "      <th>1574415000</th>\n",
       "      <td>77.69</td>\n",
       "      <td>0.0000</td>\n",
       "      <td>sell_profit</td>\n",
       "      <td>0.239669</td>\n",
       "      <td>2019-11-22 09:30:00</td>\n",
       "    </tr>\n",
       "    <tr>\n",
       "      <th>1574415900</th>\n",
       "      <td>0.00</td>\n",
       "      <td>328.6129</td>\n",
       "      <td>brought</td>\n",
       "      <td>0.235960</td>\n",
       "      <td>2019-11-22 09:45:00</td>\n",
       "    </tr>\n",
       "    <tr>\n",
       "      <th>1574416800</th>\n",
       "      <td>76.15</td>\n",
       "      <td>0.0000</td>\n",
       "      <td>stop_loss_hit</td>\n",
       "      <td>0.232200</td>\n",
       "      <td>2019-11-22 10:00:00</td>\n",
       "    </tr>\n",
       "    <tr>\n",
       "      <th>1574417100</th>\n",
       "      <td>0.00</td>\n",
       "      <td>327.2998</td>\n",
       "      <td>brought</td>\n",
       "      <td>0.232200</td>\n",
       "      <td>2019-11-22 10:05:00</td>\n",
       "    </tr>\n",
       "    <tr>\n",
       "      <th>1574417400</th>\n",
       "      <td>77.29</td>\n",
       "      <td>0.0000</td>\n",
       "      <td>sell_profit</td>\n",
       "      <td>0.236629</td>\n",
       "      <td>2019-11-22 10:10:00</td>\n",
       "    </tr>\n",
       "    <tr>\n",
       "      <th>1574417700</th>\n",
       "      <td>0.00</td>\n",
       "      <td>331.0962</td>\n",
       "      <td>brought</td>\n",
       "      <td>0.232981</td>\n",
       "      <td>2019-11-22 10:15:00</td>\n",
       "    </tr>\n",
       "    <tr>\n",
       "      <th>1574418600</th>\n",
       "      <td>77.44</td>\n",
       "      <td>0.0000</td>\n",
       "      <td>sell_profit</td>\n",
       "      <td>0.234351</td>\n",
       "      <td>2019-11-22 10:30:00</td>\n",
       "    </tr>\n",
       "    <tr>\n",
       "      <th>1574418900</th>\n",
       "      <td>0.00</td>\n",
       "      <td>336.0062</td>\n",
       "      <td>brought</td>\n",
       "      <td>0.230004</td>\n",
       "      <td>2019-11-22 10:35:00</td>\n",
       "    </tr>\n",
       "    <tr>\n",
       "      <th>1574419200</th>\n",
       "      <td>78.23</td>\n",
       "      <td>0.0000</td>\n",
       "      <td>sell_profit</td>\n",
       "      <td>0.233281</td>\n",
       "      <td>2019-11-22 10:40:00</td>\n",
       "    </tr>\n",
       "    <tr>\n",
       "      <th>1574421000</th>\n",
       "      <td>0.00</td>\n",
       "      <td>337.2811</td>\n",
       "      <td>brought</td>\n",
       "      <td>0.231470</td>\n",
       "      <td>2019-11-22 11:10:00</td>\n",
       "    </tr>\n",
       "    <tr>\n",
       "      <th>1574421300</th>\n",
       "      <td>78.60</td>\n",
       "      <td>0.0000</td>\n",
       "      <td>sell_profit</td>\n",
       "      <td>0.233493</td>\n",
       "      <td>2019-11-22 11:15:00</td>\n",
       "    </tr>\n",
       "    <tr>\n",
       "      <th>1574429700</th>\n",
       "      <td>0.00</td>\n",
       "      <td>343.0489</td>\n",
       "      <td>brought</td>\n",
       "      <td>0.228650</td>\n",
       "      <td>2019-11-22 13:35:00</td>\n",
       "    </tr>\n",
       "    <tr>\n",
       "      <th>1574434200</th>\n",
       "      <td>78.97</td>\n",
       "      <td>0.0000</td>\n",
       "      <td>sell_profit</td>\n",
       "      <td>0.230666</td>\n",
       "      <td>2019-11-22 14:50:00</td>\n",
       "    </tr>\n",
       "    <tr>\n",
       "      <th>1574436000</th>\n",
       "      <td>0.00</td>\n",
       "      <td>344.1602</td>\n",
       "      <td>brought</td>\n",
       "      <td>0.229002</td>\n",
       "      <td>2019-11-22 15:20:00</td>\n",
       "    </tr>\n",
       "    <tr>\n",
       "      <th>1574436600</th>\n",
       "      <td>79.55</td>\n",
       "      <td>0.0000</td>\n",
       "      <td>sell_profit</td>\n",
       "      <td>0.231595</td>\n",
       "      <td>2019-11-22 15:30:00</td>\n",
       "    </tr>\n",
       "    <tr>\n",
       "      <th>1574440500</th>\n",
       "      <td>0.00</td>\n",
       "      <td>345.4056</td>\n",
       "      <td>brought</td>\n",
       "      <td>0.229838</td>\n",
       "      <td>2019-11-22 16:35:00</td>\n",
       "    </tr>\n",
       "    <tr>\n",
       "      <th>1574448900</th>\n",
       "      <td>80.01</td>\n",
       "      <td>0.0000</td>\n",
       "      <td>sell_profit</td>\n",
       "      <td>0.232115</td>\n",
       "      <td>2019-11-22 18:55:00</td>\n",
       "    </tr>\n",
       "    <tr>\n",
       "      <th>1574454900</th>\n",
       "      <td>0.00</td>\n",
       "      <td>345.3916</td>\n",
       "      <td>brought</td>\n",
       "      <td>0.231197</td>\n",
       "      <td>2019-11-22 20:35:00</td>\n",
       "    </tr>\n",
       "    <tr>\n",
       "      <th>1574455800</th>\n",
       "      <td>80.13</td>\n",
       "      <td>0.0000</td>\n",
       "      <td>sell_profit</td>\n",
       "      <td>0.232469</td>\n",
       "      <td>2019-11-22 20:50:00</td>\n",
       "    </tr>\n",
       "    <tr>\n",
       "      <th>1574458500</th>\n",
       "      <td>0.00</td>\n",
       "      <td>344.7589</td>\n",
       "      <td>brought</td>\n",
       "      <td>0.231965</td>\n",
       "      <td>2019-11-22 21:35:00</td>\n",
       "    </tr>\n",
       "    <tr>\n",
       "      <th>1574518800</th>\n",
       "      <td>80.50</td>\n",
       "      <td>0.0000</td>\n",
       "      <td>sell_profit</td>\n",
       "      <td>0.233966</td>\n",
       "      <td>2019-11-23 14:20:00</td>\n",
       "    </tr>\n",
       "    <tr>\n",
       "      <th>1574528100</th>\n",
       "      <td>0.00</td>\n",
       "      <td>344.8305</td>\n",
       "      <td>brought</td>\n",
       "      <td>0.232982</td>\n",
       "      <td>2019-11-23 16:55:00</td>\n",
       "    </tr>\n",
       "    <tr>\n",
       "      <th>1574553600</th>\n",
       "      <td>80.79</td>\n",
       "      <td>0.0000</td>\n",
       "      <td>sell_profit</td>\n",
       "      <td>0.234757</td>\n",
       "      <td>2019-11-24 00:00:00</td>\n",
       "    </tr>\n",
       "    <tr>\n",
       "      <th>1574554200</th>\n",
       "      <td>0.00</td>\n",
       "      <td>346.4474</td>\n",
       "      <td>brought</td>\n",
       "      <td>0.232727</td>\n",
       "      <td>2019-11-24 00:10:00</td>\n",
       "    </tr>\n",
       "  </tbody>\n",
       "</table>\n",
       "<p>827 rows × 5 columns</p>\n",
       "</div>"
      ],
      "text/plain": [
       "              Gold  XRP_Amount         action  price_action_happened  \\\n",
       "1566697800    0.00    371.8453        brought               0.268391   \n",
       "1566699600  100.20      0.0000    sell_profit               0.269997   \n",
       "1566734400    0.00    366.2122        brought               0.273055   \n",
       "1566735600  100.32      0.0000    sell_profit               0.274479   \n",
       "1566738300    0.00    366.0261        brought               0.273522   \n",
       "1566741000  100.52      0.0000    sell_profit               0.275180   \n",
       "1566743100    0.00    373.2854        brought               0.268750   \n",
       "1566745200  100.73      0.0000    sell_profit               0.270376   \n",
       "1566749700    0.00    372.2890        brought               0.270017   \n",
       "1566756000  100.91      0.0000    sell_profit               0.271594   \n",
       "1566761700    0.00    373.7688        brought               0.269437   \n",
       "1566778500  102.92      0.0000    sell_profit               0.275900   \n",
       "1566780600    0.00    372.2322        brought               0.275932   \n",
       "1566953700   99.80      0.0000      time_stop               0.268662   \n",
       "1566957600    0.00    371.8322        brought               0.267877   \n",
       "1567015200   94.63      0.0000  stop_loss_hit               0.255000   \n",
       "1567015500    0.00    369.2440        brought               0.255761   \n",
       "1567015800   93.44      0.0000  stop_loss_hit               0.253557   \n",
       "1567016100    0.00    376.6171        brought               0.247600   \n",
       "1567016400   93.25      0.0000  stop_loss_hit               0.248101   \n",
       "1567016700    0.00    372.0123        brought               0.250168   \n",
       "1567017300   93.85      0.0000    sell_profit               0.252775   \n",
       "1567021800    0.00    371.2630        brought               0.252273   \n",
       "1567022100   94.16      0.0000    sell_profit               0.254120   \n",
       "1567024500    0.00    370.7079        brought               0.253484   \n",
       "1567024800   94.31      0.0000    sell_profit               0.254915   \n",
       "1567026600    0.00    372.6081        brought               0.252601   \n",
       "1567026900   94.45      0.0000    sell_profit               0.254000   \n",
       "1567028100    0.00    373.4430        brought               0.252419   \n",
       "1567028400   94.62      0.0000    sell_profit               0.253879   \n",
       "...            ...         ...            ...                    ...   \n",
       "1574370600   76.95      0.0000    sell_profit               0.241957   \n",
       "1574401800    0.00    319.9685        brought               0.240000   \n",
       "1574402700   77.13      0.0000    sell_profit               0.241540   \n",
       "1574404200    0.00    322.4803        brought               0.238701   \n",
       "1574407500   77.22      0.0000    sell_profit               0.239927   \n",
       "1574413800    0.00    324.8253        brought               0.237243   \n",
       "1574415000   77.69      0.0000    sell_profit               0.239669   \n",
       "1574415900    0.00    328.6129        brought               0.235960   \n",
       "1574416800   76.15      0.0000  stop_loss_hit               0.232200   \n",
       "1574417100    0.00    327.2998        brought               0.232200   \n",
       "1574417400   77.29      0.0000    sell_profit               0.236629   \n",
       "1574417700    0.00    331.0962        brought               0.232981   \n",
       "1574418600   77.44      0.0000    sell_profit               0.234351   \n",
       "1574418900    0.00    336.0062        brought               0.230004   \n",
       "1574419200   78.23      0.0000    sell_profit               0.233281   \n",
       "1574421000    0.00    337.2811        brought               0.231470   \n",
       "1574421300   78.60      0.0000    sell_profit               0.233493   \n",
       "1574429700    0.00    343.0489        brought               0.228650   \n",
       "1574434200   78.97      0.0000    sell_profit               0.230666   \n",
       "1574436000    0.00    344.1602        brought               0.229002   \n",
       "1574436600   79.55      0.0000    sell_profit               0.231595   \n",
       "1574440500    0.00    345.4056        brought               0.229838   \n",
       "1574448900   80.01      0.0000    sell_profit               0.232115   \n",
       "1574454900    0.00    345.3916        brought               0.231197   \n",
       "1574455800   80.13      0.0000    sell_profit               0.232469   \n",
       "1574458500    0.00    344.7589        brought               0.231965   \n",
       "1574518800   80.50      0.0000    sell_profit               0.233966   \n",
       "1574528100    0.00    344.8305        brought               0.232982   \n",
       "1574553600   80.79      0.0000    sell_profit               0.234757   \n",
       "1574554200    0.00    346.4474        brought               0.232727   \n",
       "\n",
       "                 datetime_real  \n",
       "1566697800 2019-08-25 02:50:00  \n",
       "1566699600 2019-08-25 03:20:00  \n",
       "1566734400 2019-08-25 13:00:00  \n",
       "1566735600 2019-08-25 13:20:00  \n",
       "1566738300 2019-08-25 14:05:00  \n",
       "1566741000 2019-08-25 14:50:00  \n",
       "1566743100 2019-08-25 15:25:00  \n",
       "1566745200 2019-08-25 16:00:00  \n",
       "1566749700 2019-08-25 17:15:00  \n",
       "1566756000 2019-08-25 19:00:00  \n",
       "1566761700 2019-08-25 20:35:00  \n",
       "1566778500 2019-08-26 01:15:00  \n",
       "1566780600 2019-08-26 01:50:00  \n",
       "1566953700 2019-08-28 01:55:00  \n",
       "1566957600 2019-08-28 03:00:00  \n",
       "1567015200 2019-08-28 19:00:00  \n",
       "1567015500 2019-08-28 19:05:00  \n",
       "1567015800 2019-08-28 19:10:00  \n",
       "1567016100 2019-08-28 19:15:00  \n",
       "1567016400 2019-08-28 19:20:00  \n",
       "1567016700 2019-08-28 19:25:00  \n",
       "1567017300 2019-08-28 19:35:00  \n",
       "1567021800 2019-08-28 20:50:00  \n",
       "1567022100 2019-08-28 20:55:00  \n",
       "1567024500 2019-08-28 21:35:00  \n",
       "1567024800 2019-08-28 21:40:00  \n",
       "1567026600 2019-08-28 22:10:00  \n",
       "1567026900 2019-08-28 22:15:00  \n",
       "1567028100 2019-08-28 22:35:00  \n",
       "1567028400 2019-08-28 22:40:00  \n",
       "...                        ...  \n",
       "1574370600 2019-11-21 21:10:00  \n",
       "1574401800 2019-11-22 05:50:00  \n",
       "1574402700 2019-11-22 06:05:00  \n",
       "1574404200 2019-11-22 06:30:00  \n",
       "1574407500 2019-11-22 07:25:00  \n",
       "1574413800 2019-11-22 09:10:00  \n",
       "1574415000 2019-11-22 09:30:00  \n",
       "1574415900 2019-11-22 09:45:00  \n",
       "1574416800 2019-11-22 10:00:00  \n",
       "1574417100 2019-11-22 10:05:00  \n",
       "1574417400 2019-11-22 10:10:00  \n",
       "1574417700 2019-11-22 10:15:00  \n",
       "1574418600 2019-11-22 10:30:00  \n",
       "1574418900 2019-11-22 10:35:00  \n",
       "1574419200 2019-11-22 10:40:00  \n",
       "1574421000 2019-11-22 11:10:00  \n",
       "1574421300 2019-11-22 11:15:00  \n",
       "1574429700 2019-11-22 13:35:00  \n",
       "1574434200 2019-11-22 14:50:00  \n",
       "1574436000 2019-11-22 15:20:00  \n",
       "1574436600 2019-11-22 15:30:00  \n",
       "1574440500 2019-11-22 16:35:00  \n",
       "1574448900 2019-11-22 18:55:00  \n",
       "1574454900 2019-11-22 20:35:00  \n",
       "1574455800 2019-11-22 20:50:00  \n",
       "1574458500 2019-11-22 21:35:00  \n",
       "1574518800 2019-11-23 14:20:00  \n",
       "1574528100 2019-11-23 16:55:00  \n",
       "1574553600 2019-11-24 00:00:00  \n",
       "1574554200 2019-11-24 00:10:00  \n",
       "\n",
       "[827 rows x 5 columns]"
      ]
     },
     "execution_count": 447,
     "metadata": {},
     "output_type": "execute_result"
    }
   ],
   "source": [
    "transation_log"
   ]
  },
  {
   "cell_type": "code",
   "execution_count": null,
   "metadata": {},
   "outputs": [],
   "source": []
  },
  {
   "cell_type": "code",
   "execution_count": null,
   "metadata": {},
   "outputs": [],
   "source": []
  },
  {
   "cell_type": "code",
   "execution_count": null,
   "metadata": {},
   "outputs": [],
   "source": []
  },
  {
   "cell_type": "code",
   "execution_count": null,
   "metadata": {},
   "outputs": [],
   "source": []
  },
  {
   "cell_type": "code",
   "execution_count": null,
   "metadata": {},
   "outputs": [],
   "source": []
  },
  {
   "cell_type": "code",
   "execution_count": null,
   "metadata": {},
   "outputs": [],
   "source": []
  },
  {
   "cell_type": "code",
   "execution_count": null,
   "metadata": {},
   "outputs": [],
   "source": []
  },
  {
   "cell_type": "code",
   "execution_count": null,
   "metadata": {},
   "outputs": [],
   "source": []
  },
  {
   "cell_type": "code",
   "execution_count": null,
   "metadata": {},
   "outputs": [],
   "source": []
  },
  {
   "cell_type": "code",
   "execution_count": 448,
   "metadata": {},
   "outputs": [
    {
     "data": {
      "text/plain": [
       "<matplotlib.axes._subplots.AxesSubplot at 0x1eb82f52b70>"
      ]
     },
     "execution_count": 448,
     "metadata": {},
     "output_type": "execute_result"
    },
    {
     "data": {
      "image/png": "[encoded data removed]",
      "text/plain": [
       "<Figure size 1440x720 with 1 Axes>"
      ]
     },
     "metadata": {
      "needs_background": "light"
     },
     "output_type": "display_data"
    }
   ],
   "source": [
    "XRP_for_testing_drop_na.tail(1000).set_index('date')[['close']].plot(figsize = (20,10))"
   ]
  },
  {
   "cell_type": "code",
   "execution_count": 449,
   "metadata": {},
   "outputs": [],
   "source": [
    "#last_few_days = XRP_for_testing_drop_na.tail(1000).copy()"
   ]
  },
  {
   "cell_type": "markdown",
   "metadata": {},
   "source": [
    "# sharp drop bounce back"
   ]
  },
  {
   "cell_type": "code",
   "execution_count": 450,
   "metadata": {},
   "outputs": [
    {
     "data": {
      "text/html": [
       "<div>\n",
       "<style scoped>\n",
       "    .dataframe tbody tr th:only-of-type {\n",
       "        vertical-align: middle;\n",
       "    }\n",
       "\n",
       "    .dataframe tbody tr th {\n",
       "        vertical-align: top;\n",
       "    }\n",
       "\n",
       "    .dataframe thead th {\n",
       "        text-align: right;\n",
       "    }\n",
       "</style>\n",
       "<table border=\"1\" class=\"dataframe\">\n",
       "  <thead>\n",
       "    <tr style=\"text-align: right;\">\n",
       "      <th></th>\n",
       "      <th>close</th>\n",
       "      <th>date</th>\n",
       "      <th>high</th>\n",
       "      <th>low</th>\n",
       "      <th>open</th>\n",
       "      <th>quoteVolume</th>\n",
       "      <th>volume</th>\n",
       "      <th>weightedAverage</th>\n",
       "      <th>datetime_real</th>\n",
       "      <th>20min_RA_on_Close</th>\n",
       "      <th>...</th>\n",
       "      <th>look_back_10D</th>\n",
       "      <th>calculate_look_back_Percent_20min</th>\n",
       "      <th>calculate_look_back_Percent_1H</th>\n",
       "      <th>calculate_look_back_Percent_2H</th>\n",
       "      <th>calculate_look_back_Percent_4H</th>\n",
       "      <th>calculate_look_back_Percent_12H</th>\n",
       "      <th>calculate_look_back_Percent_24H</th>\n",
       "      <th>calculate_look_back_Percent_5D</th>\n",
       "      <th>calculate_look_back_Percent_10D</th>\n",
       "      <th>Buy_from_decision_tree</th>\n",
       "    </tr>\n",
       "  </thead>\n",
       "  <tbody>\n",
       "    <tr>\n",
       "      <th>21467</th>\n",
       "      <td>0.250637</td>\n",
       "      <td>1574254500</td>\n",
       "      <td>0.250637</td>\n",
       "      <td>0.250637</td>\n",
       "      <td>0.250637</td>\n",
       "      <td>121.470302</td>\n",
       "      <td>30.444902</td>\n",
       "      <td>0.250637</td>\n",
       "      <td>2019-11-20 12:55:00</td>\n",
       "      <td>0.250957</td>\n",
       "      <td>...</td>\n",
       "      <td>0.279206</td>\n",
       "      <td>0.001479</td>\n",
       "      <td>-0.001612</td>\n",
       "      <td>0.000712</td>\n",
       "      <td>0.000054</td>\n",
       "      <td>-0.000592</td>\n",
       "      <td>0.000419</td>\n",
       "      <td>-0.000235</td>\n",
       "      <td>-0.000198</td>\n",
       "      <td>False</td>\n",
       "    </tr>\n",
       "    <tr>\n",
       "      <th>21468</th>\n",
       "      <td>0.250650</td>\n",
       "      <td>1574254800</td>\n",
       "      <td>0.250650</td>\n",
       "      <td>0.250650</td>\n",
       "      <td>0.250650</td>\n",
       "      <td>4.176449</td>\n",
       "      <td>1.046829</td>\n",
       "      <td>0.250650</td>\n",
       "      <td>2019-11-20 13:00:00</td>\n",
       "      <td>0.251031</td>\n",
       "      <td>...</td>\n",
       "      <td>0.279206</td>\n",
       "      <td>-0.001382</td>\n",
       "      <td>-0.001424</td>\n",
       "      <td>0.001284</td>\n",
       "      <td>0.000060</td>\n",
       "      <td>-0.000670</td>\n",
       "      <td>0.000400</td>\n",
       "      <td>-0.000235</td>\n",
       "      <td>-0.000198</td>\n",
       "      <td>False</td>\n",
       "    </tr>\n",
       "    <tr>\n",
       "      <th>21469</th>\n",
       "      <td>0.250650</td>\n",
       "      <td>1574255100</td>\n",
       "      <td>0.250650</td>\n",
       "      <td>0.250650</td>\n",
       "      <td>0.250650</td>\n",
       "      <td>0.000000</td>\n",
       "      <td>0.000000</td>\n",
       "      <td>0.250650</td>\n",
       "      <td>2019-11-20 13:05:00</td>\n",
       "      <td>0.250962</td>\n",
       "      <td>...</td>\n",
       "      <td>0.279206</td>\n",
       "      <td>-0.001382</td>\n",
       "      <td>-0.002398</td>\n",
       "      <td>0.000723</td>\n",
       "      <td>0.000434</td>\n",
       "      <td>-0.000629</td>\n",
       "      <td>0.000424</td>\n",
       "      <td>-0.000236</td>\n",
       "      <td>-0.000198</td>\n",
       "      <td>False</td>\n",
       "    </tr>\n",
       "    <tr>\n",
       "      <th>21470</th>\n",
       "      <td>0.250656</td>\n",
       "      <td>1574255400</td>\n",
       "      <td>0.250656</td>\n",
       "      <td>0.250656</td>\n",
       "      <td>0.250656</td>\n",
       "      <td>2427.251131</td>\n",
       "      <td>608.404987</td>\n",
       "      <td>0.250656</td>\n",
       "      <td>2019-11-20 13:10:00</td>\n",
       "      <td>0.250893</td>\n",
       "      <td>...</td>\n",
       "      <td>0.279358</td>\n",
       "      <td>-0.004883</td>\n",
       "      <td>-0.002279</td>\n",
       "      <td>0.000728</td>\n",
       "      <td>0.000437</td>\n",
       "      <td>-0.000929</td>\n",
       "      <td>0.000376</td>\n",
       "      <td>-0.000226</td>\n",
       "      <td>-0.000199</td>\n",
       "      <td>False</td>\n",
       "    </tr>\n",
       "    <tr>\n",
       "      <th>21471</th>\n",
       "      <td>0.250656</td>\n",
       "      <td>1574255700</td>\n",
       "      <td>0.250656</td>\n",
       "      <td>0.250656</td>\n",
       "      <td>0.250656</td>\n",
       "      <td>0.000000</td>\n",
       "      <td>0.000000</td>\n",
       "      <td>0.250656</td>\n",
       "      <td>2019-11-20 13:15:00</td>\n",
       "      <td>0.250648</td>\n",
       "      <td>...</td>\n",
       "      <td>0.279358</td>\n",
       "      <td>0.000097</td>\n",
       "      <td>-0.002031</td>\n",
       "      <td>-0.000134</td>\n",
       "      <td>0.000437</td>\n",
       "      <td>-0.000816</td>\n",
       "      <td>0.000362</td>\n",
       "      <td>-0.000226</td>\n",
       "      <td>-0.000199</td>\n",
       "      <td>False</td>\n",
       "    </tr>\n",
       "  </tbody>\n",
       "</table>\n",
       "<p>5 rows × 70 columns</p>\n",
       "</div>"
      ],
      "text/plain": [
       "          close        date      high       low      open  quoteVolume  \\\n",
       "21467  0.250637  1574254500  0.250637  0.250637  0.250637   121.470302   \n",
       "21468  0.250650  1574254800  0.250650  0.250650  0.250650     4.176449   \n",
       "21469  0.250650  1574255100  0.250650  0.250650  0.250650     0.000000   \n",
       "21470  0.250656  1574255400  0.250656  0.250656  0.250656  2427.251131   \n",
       "21471  0.250656  1574255700  0.250656  0.250656  0.250656     0.000000   \n",
       "\n",
       "           volume  weightedAverage       datetime_real  20min_RA_on_Close  \\\n",
       "21467   30.444902         0.250637 2019-11-20 12:55:00           0.250957   \n",
       "21468    1.046829         0.250650 2019-11-20 13:00:00           0.251031   \n",
       "21469    0.000000         0.250650 2019-11-20 13:05:00           0.250962   \n",
       "21470  608.404987         0.250656 2019-11-20 13:10:00           0.250893   \n",
       "21471    0.000000         0.250656 2019-11-20 13:15:00           0.250648   \n",
       "\n",
       "       ...  look_back_10D  calculate_look_back_Percent_20min  \\\n",
       "21467  ...       0.279206                           0.001479   \n",
       "21468  ...       0.279206                          -0.001382   \n",
       "21469  ...       0.279206                          -0.001382   \n",
       "21470  ...       0.279358                          -0.004883   \n",
       "21471  ...       0.279358                           0.000097   \n",
       "\n",
       "       calculate_look_back_Percent_1H  calculate_look_back_Percent_2H  \\\n",
       "21467                       -0.001612                        0.000712   \n",
       "21468                       -0.001424                        0.001284   \n",
       "21469                       -0.002398                        0.000723   \n",
       "21470                       -0.002279                        0.000728   \n",
       "21471                       -0.002031                       -0.000134   \n",
       "\n",
       "       calculate_look_back_Percent_4H  calculate_look_back_Percent_12H  \\\n",
       "21467                        0.000054                        -0.000592   \n",
       "21468                        0.000060                        -0.000670   \n",
       "21469                        0.000434                        -0.000629   \n",
       "21470                        0.000437                        -0.000929   \n",
       "21471                        0.000437                        -0.000816   \n",
       "\n",
       "       calculate_look_back_Percent_24H  calculate_look_back_Percent_5D  \\\n",
       "21467                         0.000419                       -0.000235   \n",
       "21468                         0.000400                       -0.000235   \n",
       "21469                         0.000424                       -0.000236   \n",
       "21470                         0.000376                       -0.000226   \n",
       "21471                         0.000362                       -0.000226   \n",
       "\n",
       "       calculate_look_back_Percent_10D  Buy_from_decision_tree  \n",
       "21467                        -0.000198                   False  \n",
       "21468                        -0.000198                   False  \n",
       "21469                        -0.000198                   False  \n",
       "21470                        -0.000199                   False  \n",
       "21471                        -0.000199                   False  \n",
       "\n",
       "[5 rows x 70 columns]"
      ]
     },
     "execution_count": 450,
     "metadata": {},
     "output_type": "execute_result"
    }
   ],
   "source": [
    "last_few_days.head()"
   ]
  },
  {
   "cell_type": "code",
   "execution_count": 451,
   "metadata": {},
   "outputs": [
    {
     "ename": "NameError",
     "evalue": "name 'data_selection_section1' is not defined",
     "output_type": "error",
     "traceback": [
      "\u001b[1;31m---------------------------------------------------------------------------\u001b[0m",
      "\u001b[1;31mNameError\u001b[0m                                 Traceback (most recent call last)",
      "\u001b[1;32m<ipython-input-451-da6bac4a547e>\u001b[0m in \u001b[0;36m<module>\u001b[1;34m\u001b[0m\n\u001b[0;32m      1\u001b[0m \u001b[1;31m# Create some mock data\u001b[0m\u001b[1;33m\u001b[0m\u001b[1;33m\u001b[0m\u001b[1;33m\u001b[0m\u001b[0m\n\u001b[1;32m----> 2\u001b[1;33m \u001b[0mt\u001b[0m \u001b[1;33m=\u001b[0m \u001b[0mdata_selection_section1\u001b[0m\u001b[1;33m[\u001b[0m\u001b[1;33m:\u001b[0m\u001b[1;36m8000\u001b[0m\u001b[1;33m]\u001b[0m\u001b[1;33m[\u001b[0m\u001b[1;34m'level_0'\u001b[0m\u001b[1;33m]\u001b[0m\u001b[1;33m\u001b[0m\u001b[1;33m\u001b[0m\u001b[0m\n\u001b[0m\u001b[0;32m      3\u001b[0m \u001b[1;33m\u001b[0m\u001b[0m\n\u001b[0;32m      4\u001b[0m \u001b[0mdata1_sec1\u001b[0m \u001b[1;33m=\u001b[0m \u001b[0mdata_selection_section1\u001b[0m\u001b[1;33m[\u001b[0m\u001b[1;33m:\u001b[0m\u001b[1;36m8000\u001b[0m\u001b[1;33m]\u001b[0m\u001b[1;33m[\u001b[0m\u001b[1;34m'1H_close_dif'\u001b[0m\u001b[1;33m]\u001b[0m\u001b[1;33m.\u001b[0m\u001b[0mcumsum\u001b[0m\u001b[1;33m(\u001b[0m\u001b[1;33m)\u001b[0m\u001b[1;33m/\u001b[0m\u001b[0mt\u001b[0m\u001b[1;33m\u001b[0m\u001b[1;33m\u001b[0m\u001b[0m\n\u001b[0;32m      5\u001b[0m \u001b[0mdata1_sec2\u001b[0m \u001b[1;33m=\u001b[0m \u001b[0mdata_selection_section2\u001b[0m\u001b[1;33m[\u001b[0m\u001b[1;33m:\u001b[0m\u001b[1;36m8000\u001b[0m\u001b[1;33m]\u001b[0m\u001b[1;33m[\u001b[0m\u001b[1;34m'1H_close_dif'\u001b[0m\u001b[1;33m]\u001b[0m\u001b[1;33m.\u001b[0m\u001b[0mcumsum\u001b[0m\u001b[1;33m(\u001b[0m\u001b[1;33m)\u001b[0m\u001b[1;33m/\u001b[0m\u001b[0mt\u001b[0m\u001b[1;33m\u001b[0m\u001b[1;33m\u001b[0m\u001b[0m\n",
      "\u001b[1;31mNameError\u001b[0m: name 'data_selection_section1' is not defined"
     ]
    }
   ],
   "source": [
    "# Create some mock data\n",
    "t = data_selection_section1[:8000]['level_0']\n",
    "\n",
    "data1_sec1 = data_selection_section1[:8000]['1H_close_dif'].cumsum()/t\n",
    "data1_sec2 = data_selection_section2[:8000]['1H_close_dif'].cumsum()/t\n",
    "data1_sec3 = data_selection_section3[:8000]['1H_close_dif'].cumsum()/t\n",
    "data1_sec4 = data_selection_section4[:8000]['1H_close_dif'].cumsum()/t\n",
    "\n",
    "fig, ax1 = plt.subplots(figsize= (20,10))\n",
    "\n",
    "color1 = 'tab:red'\n",
    "color1_2 = 'tab:green'\n",
    "ax1.set_xlabel('time (s)')\n",
    "ax1.set_ylabel('RSM')\n",
    "ax1.plot(t[50:], data1_sec1[50:], alpha = 0.6, label = 'data1_sec1')\n",
    "# ax1.plot(t[50:], data1_sec2[50:], alpha = 0.6, label = 'data1_sec2')\n",
    "# ax1.plot(t[200:], data1_sec3[200:], alpha = 0.6, label = 'data1_sec3')\n",
    "ax1.plot(t[50:], data1_sec4[50:], alpha = 0.6, label = 'data1_sec4')\n",
    "\n",
    "\n",
    "ax1.axhline(0)\n",
    "\n",
    "ax1.tick_params(axis='y')\n",
    "\n",
    "\n",
    "# ax2 = ax1.twinx()  # instantiate a second axes that shares the same x-axis\n",
    "\n",
    "\n",
    "# data2 = data_selection['close']\n",
    "# color2 = 'tab:blue'\n",
    "# ax2.set_ylabel('XRP', color=color)  # we already handled the x-label with ax1\n",
    "# ax2.plot(t, data2, color=color)\n",
    "# ax2.tick_params(axis='y', labelcolor=color)\n",
    "\n",
    "\n",
    "## vertical lines\n",
    "# ax1.axhline(y=0.0005)\n",
    "# ax1.axhline(y=-0.0005)\n",
    "\n",
    "ax1.axhline(y=0.0002)\n",
    "ax1.axhline(y=-0.0002)\n",
    "\n",
    "\n",
    "\n",
    "fig.tight_layout()  # otherwise the right y-label is slightly clipped\n",
    "\n",
    "ax1.legend()\n",
    "plt.show()"
   ]
  },
  {
   "cell_type": "code",
   "execution_count": null,
   "metadata": {},
   "outputs": [],
   "source": []
  },
  {
   "cell_type": "code",
   "execution_count": null,
   "metadata": {},
   "outputs": [],
   "source": []
  },
  {
   "cell_type": "code",
   "execution_count": null,
   "metadata": {},
   "outputs": [],
   "source": []
  },
  {
   "cell_type": "code",
   "execution_count": null,
   "metadata": {},
   "outputs": [],
   "source": []
  },
  {
   "cell_type": "code",
   "execution_count": null,
   "metadata": {},
   "outputs": [],
   "source": []
  },
  {
   "cell_type": "code",
   "execution_count": null,
   "metadata": {},
   "outputs": [],
   "source": []
  },
  {
   "cell_type": "code",
   "execution_count": null,
   "metadata": {},
   "outputs": [],
   "source": []
  },
  {
   "cell_type": "code",
   "execution_count": null,
   "metadata": {},
   "outputs": [],
   "source": []
  },
  {
   "cell_type": "code",
   "execution_count": null,
   "metadata": {},
   "outputs": [],
   "source": []
  },
  {
   "cell_type": "code",
   "execution_count": null,
   "metadata": {},
   "outputs": [],
   "source": []
  },
  {
   "cell_type": "code",
   "execution_count": null,
   "metadata": {},
   "outputs": [],
   "source": []
  },
  {
   "cell_type": "code",
   "execution_count": null,
   "metadata": {},
   "outputs": [],
   "source": []
  },
  {
   "cell_type": "code",
   "execution_count": null,
   "metadata": {},
   "outputs": [],
   "source": []
  },
  {
   "cell_type": "code",
   "execution_count": null,
   "metadata": {},
   "outputs": [],
   "source": []
  }
 ],
 "metadata": {
  "kernelspec": {
   "display_name": "Python 3",
   "language": "python",
   "name": "python3"
  },
  "language_info": {
   "codemirror_mode": {
    "name": "ipython",
    "version": 3
   },
   "file_extension": ".py",
   "mimetype": "text/x-python",
   "name": "python",
   "nbconvert_exporter": "python",
   "pygments_lexer": "ipython3",
   "version": "3.7.2"
  }
 },
 "nbformat": 4,
 "nbformat_minor": 4
}

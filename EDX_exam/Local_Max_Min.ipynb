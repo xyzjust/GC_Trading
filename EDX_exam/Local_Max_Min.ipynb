{
 "cells": [
  {
   "cell_type": "code",
   "execution_count": null,
   "metadata": {},
   "outputs": [],
   "source": []
  },
  {
   "cell_type": "code",
   "execution_count": 1,
   "metadata": {},
   "outputs": [],
   "source": [
    "import os\n",
    "os.environ[\"PATH\"] += os.pathsep + 'C:/Program Files (x86)/Graphviz2.38/bin/'\n",
    "os.environ[\"PATH\"] += os.pathsep + 'D:/LatexPackage/miktex/bin/x64'"
   ]
  },
  {
   "cell_type": "code",
   "execution_count": 2,
   "metadata": {},
   "outputs": [],
   "source": [
    "import warnings\n",
    "warnings.filterwarnings(\"ignore\")\n"
   ]
  },
  {
   "cell_type": "code",
   "execution_count": 3,
   "metadata": {},
   "outputs": [],
   "source": [
    "import numpy as np\n",
    "\n",
    "import matplotlib.pyplot as plt\n",
    "\n",
    "import datetime as dt\n",
    "\n",
    "from datetime import datetime\n",
    "\n",
    "import numpy as np\n",
    "\n",
    "import pandas as pd\n",
    "import urllib.request\n",
    "     \n",
    "\n",
    "from IPython.display import clear_output"
   ]
  },
  {
   "cell_type": "code",
   "execution_count": null,
   "metadata": {},
   "outputs": [],
   "source": []
  },
  {
   "cell_type": "markdown",
   "metadata": {},
   "source": [
    "# Starting of analysis"
   ]
  },
  {
   "cell_type": "markdown",
   "metadata": {},
   "source": [
    "### Get 1min XRP data"
   ]
  },
  {
   "cell_type": "code",
   "execution_count": 4,
   "metadata": {},
   "outputs": [],
   "source": [
    "XRP_USD_1min_path = 'D:\\Database\\Bitfinex-historical-data-master\\Bitfinex-historical-data-master\\XRPUSD\\Candles_1m'"
   ]
  },
  {
   "cell_type": "code",
   "execution_count": 7,
   "metadata": {},
   "outputs": [],
   "source": [
    "header_format = ['timestamp_UTC_millisec',\n",
    "'open_price',\n",
    "'close_price',\n",
    "'highest_price',\n",
    "'lowest_price',\n",
    "'volume']"
   ]
  },
  {
   "cell_type": "code",
   "execution_count": 8,
   "metadata": {},
   "outputs": [],
   "source": [
    "xrp_2018_full = pd.read_csv(XRP_USD_1min_path + '/2018/merged.csv', header=None)"
   ]
  },
  {
   "cell_type": "code",
   "execution_count": 9,
   "metadata": {},
   "outputs": [],
   "source": [
    "xrp_2019_until_Oct = pd.read_csv(XRP_USD_1min_path + '/2019/merged.csv', header=None)"
   ]
  },
  {
   "cell_type": "code",
   "execution_count": 10,
   "metadata": {},
   "outputs": [],
   "source": [
    "xrp_2018_full.columns = header_format"
   ]
  },
  {
   "cell_type": "code",
   "execution_count": 11,
   "metadata": {},
   "outputs": [],
   "source": [
    "xrp_2019_until_Oct.columns = header_format"
   ]
  },
  {
   "cell_type": "code",
   "execution_count": null,
   "metadata": {},
   "outputs": [],
   "source": []
  },
  {
   "cell_type": "code",
   "execution_count": 12,
   "metadata": {},
   "outputs": [],
   "source": [
    "xrp_2018_onwards = pd.concat([xrp_2018_full, xrp_2019_until_Oct])"
   ]
  },
  {
   "cell_type": "code",
   "execution_count": 13,
   "metadata": {},
   "outputs": [],
   "source": [
    "XRP_Data = xrp_2018_onwards[xrp_2018_onwards['timestamp_UTC_millisec'] >= 1534287600000]"
   ]
  },
  {
   "cell_type": "code",
   "execution_count": 14,
   "metadata": {},
   "outputs": [],
   "source": [
    "XRP_Data['datetime_real'] = XRP_Data['timestamp_UTC_millisec'].apply(lambda x: datetime.utcfromtimestamp(x/1000))"
   ]
  },
  {
   "cell_type": "code",
   "execution_count": 15,
   "metadata": {},
   "outputs": [
    {
     "data": {
      "text/plain": [
       "564561"
      ]
     },
     "execution_count": 15,
     "metadata": {},
     "output_type": "execute_result"
    }
   ],
   "source": [
    "len(XRP_Data)"
   ]
  },
  {
   "cell_type": "code",
   "execution_count": 16,
   "metadata": {},
   "outputs": [
    {
     "data": {
      "text/plain": [
       "Timestamp('2018-08-14 23:00:00')"
      ]
     },
     "execution_count": 16,
     "metadata": {},
     "output_type": "execute_result"
    }
   ],
   "source": [
    "XRP_Data['datetime_real'].min()"
   ]
  },
  {
   "cell_type": "code",
   "execution_count": 17,
   "metadata": {},
   "outputs": [
    {
     "data": {
      "text/plain": [
       "Timestamp('2019-11-01 15:59:00')"
      ]
     },
     "execution_count": 17,
     "metadata": {},
     "output_type": "execute_result"
    }
   ],
   "source": [
    "XRP_Data['datetime_real'].max()"
   ]
  },
  {
   "cell_type": "code",
   "execution_count": 18,
   "metadata": {},
   "outputs": [
    {
     "data": {
      "text/plain": [
       "Timedelta('443 days 16:59:00')"
      ]
     },
     "execution_count": 18,
     "metadata": {},
     "output_type": "execute_result"
    }
   ],
   "source": [
    "(XRP_Data['datetime_real'].max() - XRP_Data['datetime_real'].min())"
   ]
  },
  {
   "cell_type": "code",
   "execution_count": null,
   "metadata": {},
   "outputs": [],
   "source": []
  },
  {
   "cell_type": "code",
   "execution_count": 19,
   "metadata": {},
   "outputs": [],
   "source": [
    "XRP_Data['checking_timestamp_UTC_millisec'] = XRP_Data['timestamp_UTC_millisec'].shift(-1)"
   ]
  },
  {
   "cell_type": "code",
   "execution_count": 20,
   "metadata": {},
   "outputs": [],
   "source": [
    "XRP_Data['dif'] = XRP_Data['checking_timestamp_UTC_millisec'] - XRP_Data['timestamp_UTC_millisec']"
   ]
  },
  {
   "cell_type": "code",
   "execution_count": 21,
   "metadata": {},
   "outputs": [],
   "source": [
    "XRP_Data_resample_1min_ffill = XRP_Data.set_index('datetime_real').resample('1T').ffill()"
   ]
  },
  {
   "cell_type": "code",
   "execution_count": 22,
   "metadata": {},
   "outputs": [],
   "source": [
    "XRP_Data_resample_1min_ffill['checking_timestamp_UTC_millisec'] = XRP_Data_resample_1min_ffill['timestamp_UTC_millisec'].shift(-1)"
   ]
  },
  {
   "cell_type": "code",
   "execution_count": 23,
   "metadata": {},
   "outputs": [],
   "source": [
    "XRP_Data_resample_1min_ffill['dif'] = XRP_Data_resample_1min_ffill['checking_timestamp_UTC_millisec'] - XRP_Data_resample_1min_ffill['timestamp_UTC_millisec']"
   ]
  },
  {
   "cell_type": "code",
   "execution_count": 24,
   "metadata": {},
   "outputs": [],
   "source": [
    "XRP_Data_resample_1min_ffill['timestamp_UTC'] = XRP_Data_resample_1min_ffill['timestamp_UTC_millisec']/1000"
   ]
  },
  {
   "cell_type": "code",
   "execution_count": null,
   "metadata": {},
   "outputs": [],
   "source": []
  },
  {
   "cell_type": "code",
   "execution_count": null,
   "metadata": {},
   "outputs": [],
   "source": []
  },
  {
   "cell_type": "code",
   "execution_count": 25,
   "metadata": {},
   "outputs": [
    {
     "data": {
      "text/html": [
       "<div>\n",
       "<style scoped>\n",
       "    .dataframe tbody tr th:only-of-type {\n",
       "        vertical-align: middle;\n",
       "    }\n",
       "\n",
       "    .dataframe tbody tr th {\n",
       "        vertical-align: top;\n",
       "    }\n",
       "\n",
       "    .dataframe thead th {\n",
       "        text-align: right;\n",
       "    }\n",
       "</style>\n",
       "<table border=\"1\" class=\"dataframe\">\n",
       "  <thead>\n",
       "    <tr style=\"text-align: right;\">\n",
       "      <th></th>\n",
       "      <th>timestamp_UTC_millisec</th>\n",
       "      <th>open_price</th>\n",
       "      <th>close_price</th>\n",
       "      <th>highest_price</th>\n",
       "      <th>lowest_price</th>\n",
       "      <th>volume</th>\n",
       "      <th>checking_timestamp_UTC_millisec</th>\n",
       "      <th>dif</th>\n",
       "      <th>timestamp_UTC</th>\n",
       "    </tr>\n",
       "    <tr>\n",
       "      <th>datetime_real</th>\n",
       "      <th></th>\n",
       "      <th></th>\n",
       "      <th></th>\n",
       "      <th></th>\n",
       "      <th></th>\n",
       "      <th></th>\n",
       "      <th></th>\n",
       "      <th></th>\n",
       "      <th></th>\n",
       "    </tr>\n",
       "  </thead>\n",
       "  <tbody>\n",
       "    <tr>\n",
       "      <th>2018-08-14 23:00:00</th>\n",
       "      <td>1534287600000</td>\n",
       "      <td>0.26444</td>\n",
       "      <td>0.26427</td>\n",
       "      <td>0.26448</td>\n",
       "      <td>0.26427</td>\n",
       "      <td>21493.134691</td>\n",
       "      <td>1.534288e+12</td>\n",
       "      <td>60000.0</td>\n",
       "      <td>1.534288e+09</td>\n",
       "    </tr>\n",
       "    <tr>\n",
       "      <th>2018-08-14 23:01:00</th>\n",
       "      <td>1534287660000</td>\n",
       "      <td>0.26410</td>\n",
       "      <td>0.26408</td>\n",
       "      <td>0.26418</td>\n",
       "      <td>0.26408</td>\n",
       "      <td>6316.950507</td>\n",
       "      <td>1.534288e+12</td>\n",
       "      <td>60000.0</td>\n",
       "      <td>1.534288e+09</td>\n",
       "    </tr>\n",
       "    <tr>\n",
       "      <th>2018-08-14 23:02:00</th>\n",
       "      <td>1534287720000</td>\n",
       "      <td>0.26419</td>\n",
       "      <td>0.26429</td>\n",
       "      <td>0.26429</td>\n",
       "      <td>0.26390</td>\n",
       "      <td>15876.859198</td>\n",
       "      <td>1.534288e+12</td>\n",
       "      <td>60000.0</td>\n",
       "      <td>1.534288e+09</td>\n",
       "    </tr>\n",
       "    <tr>\n",
       "      <th>2018-08-14 23:03:00</th>\n",
       "      <td>1534287780000</td>\n",
       "      <td>0.26389</td>\n",
       "      <td>0.26359</td>\n",
       "      <td>0.26389</td>\n",
       "      <td>0.26359</td>\n",
       "      <td>15102.000000</td>\n",
       "      <td>1.534288e+12</td>\n",
       "      <td>60000.0</td>\n",
       "      <td>1.534288e+09</td>\n",
       "    </tr>\n",
       "    <tr>\n",
       "      <th>2018-08-14 23:04:00</th>\n",
       "      <td>1534287840000</td>\n",
       "      <td>0.26368</td>\n",
       "      <td>0.26359</td>\n",
       "      <td>0.26379</td>\n",
       "      <td>0.26359</td>\n",
       "      <td>6305.473357</td>\n",
       "      <td>1.534288e+12</td>\n",
       "      <td>60000.0</td>\n",
       "      <td>1.534288e+09</td>\n",
       "    </tr>\n",
       "  </tbody>\n",
       "</table>\n",
       "</div>"
      ],
      "text/plain": [
       "                     timestamp_UTC_millisec  open_price  close_price  \\\n",
       "datetime_real                                                          \n",
       "2018-08-14 23:00:00           1534287600000     0.26444      0.26427   \n",
       "2018-08-14 23:01:00           1534287660000     0.26410      0.26408   \n",
       "2018-08-14 23:02:00           1534287720000     0.26419      0.26429   \n",
       "2018-08-14 23:03:00           1534287780000     0.26389      0.26359   \n",
       "2018-08-14 23:04:00           1534287840000     0.26368      0.26359   \n",
       "\n",
       "                     highest_price  lowest_price        volume  \\\n",
       "datetime_real                                                    \n",
       "2018-08-14 23:00:00        0.26448       0.26427  21493.134691   \n",
       "2018-08-14 23:01:00        0.26418       0.26408   6316.950507   \n",
       "2018-08-14 23:02:00        0.26429       0.26390  15876.859198   \n",
       "2018-08-14 23:03:00        0.26389       0.26359  15102.000000   \n",
       "2018-08-14 23:04:00        0.26379       0.26359   6305.473357   \n",
       "\n",
       "                     checking_timestamp_UTC_millisec      dif  timestamp_UTC  \n",
       "datetime_real                                                                 \n",
       "2018-08-14 23:00:00                     1.534288e+12  60000.0   1.534288e+09  \n",
       "2018-08-14 23:01:00                     1.534288e+12  60000.0   1.534288e+09  \n",
       "2018-08-14 23:02:00                     1.534288e+12  60000.0   1.534288e+09  \n",
       "2018-08-14 23:03:00                     1.534288e+12  60000.0   1.534288e+09  \n",
       "2018-08-14 23:04:00                     1.534288e+12  60000.0   1.534288e+09  "
      ]
     },
     "execution_count": 25,
     "metadata": {},
     "output_type": "execute_result"
    }
   ],
   "source": [
    "XRP_Data_resample_1min_ffill.head()"
   ]
  }
 ],
 "metadata": {
  "kernelspec": {
   "display_name": "Python 3",
   "language": "python",
   "name": "python3"
  },
  "language_info": {
   "codemirror_mode": {
    "name": "ipython",
    "version": 3
   },
   "file_extension": ".py",
   "mimetype": "text/x-python",
   "name": "python",
   "nbconvert_exporter": "python",
   "pygments_lexer": "ipython3",
   "version": "3.7.2"
  }
 },
 "nbformat": 4,
 "nbformat_minor": 4
}

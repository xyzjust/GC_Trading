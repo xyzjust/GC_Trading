{
 "cells": [
  {
   "cell_type": "markdown",
   "metadata": {},
   "source": [
    "https://www.datacamp.com/community/tutorials/xgboost-in-python"
   ]
  },
  {
   "cell_type": "code",
   "execution_count": null,
   "metadata": {},
   "outputs": [],
   "source": [
    "import os\n",
    "os.environ[\"PATH\"] += os.pathsep + 'C:/Program Files (x86)/Graphviz2.38/bin/'\n",
    "os.environ[\"PATH\"] += os.pathsep + 'D:/LatexPackage/miktex/bin/x64'"
   ]
  },
  {
   "cell_type": "code",
   "execution_count": 2,
   "metadata": {},
   "outputs": [],
   "source": [
    "import warnings\n",
    "warnings.filterwarnings(\"ignore\")\n"
   ]
  },
  {
   "cell_type": "code",
   "execution_count": 3,
   "metadata": {},
   "outputs": [],
   "source": [
    "from sklearn.datasets import load_boston"
   ]
  },
  {
   "cell_type": "code",
   "execution_count": 4,
   "metadata": {},
   "outputs": [],
   "source": [
    "import xgboost as xgb\n",
    "from sklearn.metrics import mean_squared_error"
   ]
  },
  {
   "cell_type": "code",
   "execution_count": null,
   "metadata": {},
   "outputs": [],
   "source": []
  },
  {
   "cell_type": "code",
   "execution_count": 5,
   "metadata": {},
   "outputs": [],
   "source": [
    "import numpy as np\n",
    "\n",
    "import matplotlib.pyplot as plt\n",
    "\n",
    "import datetime as dt\n",
    "\n",
    "from datetime import datetime\n",
    "\n",
    "import pandas as pd\n",
    "import urllib.request\n",
    "     \n",
    "\n",
    "from IPython.display import clear_output"
   ]
  },
  {
   "cell_type": "code",
   "execution_count": null,
   "metadata": {},
   "outputs": [],
   "source": []
  },
  {
   "cell_type": "code",
   "execution_count": null,
   "metadata": {},
   "outputs": [],
   "source": []
  },
  {
   "cell_type": "code",
   "execution_count": 6,
   "metadata": {},
   "outputs": [],
   "source": [
    "## XGBoost Examples"
   ]
  },
  {
   "cell_type": "code",
   "execution_count": 7,
   "metadata": {},
   "outputs": [],
   "source": [
    "boston = load_boston()"
   ]
  },
  {
   "cell_type": "code",
   "execution_count": 8,
   "metadata": {},
   "outputs": [],
   "source": [
    "data = pd.DataFrame(boston.data)\n",
    "data.columns = boston.feature_names"
   ]
  },
  {
   "cell_type": "code",
   "execution_count": 10,
   "metadata": {},
   "outputs": [],
   "source": [
    "data['PRICE'] = boston.target"
   ]
  },
  {
   "cell_type": "code",
   "execution_count": 11,
   "metadata": {},
   "outputs": [
    {
     "name": "stdout",
     "output_type": "stream",
     "text": [
      "<class 'pandas.core.frame.DataFrame'>\n",
      "RangeIndex: 506 entries, 0 to 505\n",
      "Data columns (total 14 columns):\n",
      "CRIM       506 non-null float64\n",
      "ZN         506 non-null float64\n",
      "INDUS      506 non-null float64\n",
      "CHAS       506 non-null float64\n",
      "NOX        506 non-null float64\n",
      "RM         506 non-null float64\n",
      "AGE        506 non-null float64\n",
      "DIS        506 non-null float64\n",
      "RAD        506 non-null float64\n",
      "TAX        506 non-null float64\n",
      "PTRATIO    506 non-null float64\n",
      "B          506 non-null float64\n",
      "LSTAT      506 non-null float64\n",
      "PRICE      506 non-null float64\n",
      "dtypes: float64(14)\n",
      "memory usage: 55.4 KB\n"
     ]
    }
   ],
   "source": [
    "data.info()"
   ]
  },
  {
   "cell_type": "code",
   "execution_count": 12,
   "metadata": {},
   "outputs": [],
   "source": [
    "X, y = data.iloc[:,:-1],data.iloc[:,-1]"
   ]
  },
  {
   "cell_type": "code",
   "execution_count": 13,
   "metadata": {},
   "outputs": [],
   "source": [
    "data_dmatrix = xgb.DMatrix(data=X,label=y)"
   ]
  },
  {
   "cell_type": "code",
   "execution_count": 14,
   "metadata": {},
   "outputs": [],
   "source": [
    "from sklearn.model_selection import train_test_split\n",
    "\n",
    "X_train, X_test, y_train, y_test = train_test_split(X, y, test_size=0.2, random_state=123)"
   ]
  },
  {
   "cell_type": "code",
   "execution_count": 15,
   "metadata": {},
   "outputs": [],
   "source": [
    "xg_reg = xgb.XGBRegressor(objective ='reg:squarederror', colsample_bytree = 0.3, learning_rate = 0.1,\n",
    "                max_depth = 5, alpha = 10, n_estimators = 10) #reg:logistic for tree\n"
   ]
  },
  {
   "cell_type": "code",
   "execution_count": 16,
   "metadata": {},
   "outputs": [],
   "source": [
    "xg_reg.fit(X_train,y_train)\n",
    "\n",
    "preds = xg_reg.predict(X_test)"
   ]
  },
  {
   "cell_type": "code",
   "execution_count": 17,
   "metadata": {},
   "outputs": [
    {
     "name": "stdout",
     "output_type": "stream",
     "text": [
      "RMSE: 10.170035\n"
     ]
    }
   ],
   "source": [
    "rmse = np.sqrt(mean_squared_error(y_test, preds))\n",
    "print(\"RMSE: %f\" % (rmse))"
   ]
  },
  {
   "cell_type": "code",
   "execution_count": null,
   "metadata": {},
   "outputs": [],
   "source": []
  },
  {
   "cell_type": "code",
   "execution_count": null,
   "metadata": {},
   "outputs": [],
   "source": []
  },
  {
   "cell_type": "code",
   "execution_count": null,
   "metadata": {},
   "outputs": [],
   "source": []
  },
  {
   "cell_type": "code",
   "execution_count": null,
   "metadata": {},
   "outputs": [],
   "source": []
  },
  {
   "cell_type": "markdown",
   "metadata": {},
   "source": [
    "# Starting of analysis"
   ]
  },
  {
   "cell_type": "markdown",
   "metadata": {},
   "source": [
    "### Get 1min XRP data"
   ]
  },
  {
   "cell_type": "code",
   "execution_count": 6,
   "metadata": {},
   "outputs": [],
   "source": [
    "XRP_USD_1min_path = 'D:\\Database\\Bitfinex-historical-data-master\\Bitfinex-historical-data-master\\XRPUSD\\Candles_1m'"
   ]
  },
  {
   "cell_type": "code",
   "execution_count": 7,
   "metadata": {},
   "outputs": [],
   "source": [
    "header_format = ['timestamp_UTC_millisec',\n",
    "'open_price',\n",
    "'close_price',\n",
    "'highest_price',\n",
    "'lowest_price',\n",
    "'volume']"
   ]
  },
  {
   "cell_type": "code",
   "execution_count": 8,
   "metadata": {},
   "outputs": [],
   "source": [
    "xrp_2018_full = pd.read_csv(XRP_USD_1min_path + '/2018/merged.csv', header=None)"
   ]
  },
  {
   "cell_type": "code",
   "execution_count": 9,
   "metadata": {},
   "outputs": [],
   "source": [
    "xrp_2019_until_Oct = pd.read_csv(XRP_USD_1min_path + '/2019/merged.csv', header=None)"
   ]
  },
  {
   "cell_type": "code",
   "execution_count": 10,
   "metadata": {},
   "outputs": [],
   "source": [
    "xrp_2018_full.columns = header_format"
   ]
  },
  {
   "cell_type": "code",
   "execution_count": 11,
   "metadata": {},
   "outputs": [],
   "source": [
    "xrp_2019_until_Oct.columns = header_format"
   ]
  },
  {
   "cell_type": "code",
   "execution_count": null,
   "metadata": {},
   "outputs": [],
   "source": []
  },
  {
   "cell_type": "code",
   "execution_count": 12,
   "metadata": {},
   "outputs": [],
   "source": [
    "xrp_2018_onwards = pd.concat([xrp_2018_full, xrp_2019_until_Oct])"
   ]
  },
  {
   "cell_type": "code",
   "execution_count": 13,
   "metadata": {},
   "outputs": [],
   "source": [
    "XRP_Data = xrp_2018_onwards[xrp_2018_onwards['timestamp_UTC_millisec'] >= 1534287600000]"
   ]
  },
  {
   "cell_type": "code",
   "execution_count": 14,
   "metadata": {},
   "outputs": [],
   "source": [
    "XRP_Data['datetime_real'] = XRP_Data['timestamp_UTC_millisec'].apply(lambda x: datetime.utcfromtimestamp(x/1000))"
   ]
  },
  {
   "cell_type": "code",
   "execution_count": 15,
   "metadata": {},
   "outputs": [
    {
     "data": {
      "text/plain": [
       "564561"
      ]
     },
     "execution_count": 15,
     "metadata": {},
     "output_type": "execute_result"
    }
   ],
   "source": [
    "len(XRP_Data)"
   ]
  },
  {
   "cell_type": "code",
   "execution_count": 16,
   "metadata": {},
   "outputs": [
    {
     "data": {
      "text/plain": [
       "Timestamp('2018-08-14 23:00:00')"
      ]
     },
     "execution_count": 16,
     "metadata": {},
     "output_type": "execute_result"
    }
   ],
   "source": [
    "XRP_Data['datetime_real'].min()"
   ]
  },
  {
   "cell_type": "code",
   "execution_count": 17,
   "metadata": {},
   "outputs": [
    {
     "data": {
      "text/plain": [
       "Timestamp('2019-11-01 15:59:00')"
      ]
     },
     "execution_count": 17,
     "metadata": {},
     "output_type": "execute_result"
    }
   ],
   "source": [
    "XRP_Data['datetime_real'].max()"
   ]
  },
  {
   "cell_type": "code",
   "execution_count": 18,
   "metadata": {},
   "outputs": [
    {
     "data": {
      "text/plain": [
       "Timedelta('443 days 16:59:00')"
      ]
     },
     "execution_count": 18,
     "metadata": {},
     "output_type": "execute_result"
    }
   ],
   "source": [
    "(XRP_Data['datetime_real'].max() - XRP_Data['datetime_real'].min())"
   ]
  },
  {
   "cell_type": "code",
   "execution_count": null,
   "metadata": {},
   "outputs": [],
   "source": []
  },
  {
   "cell_type": "code",
   "execution_count": 19,
   "metadata": {},
   "outputs": [],
   "source": [
    "XRP_Data['checking_timestamp_UTC_millisec'] = XRP_Data['timestamp_UTC_millisec'].shift(-1)"
   ]
  },
  {
   "cell_type": "code",
   "execution_count": 20,
   "metadata": {},
   "outputs": [],
   "source": [
    "XRP_Data['dif'] = XRP_Data['checking_timestamp_UTC_millisec'] - XRP_Data['timestamp_UTC_millisec']"
   ]
  },
  {
   "cell_type": "code",
   "execution_count": 21,
   "metadata": {},
   "outputs": [],
   "source": [
    "XRP_Data_resample_1min_ffill = XRP_Data.set_index('datetime_real').resample('1T').ffill()"
   ]
  },
  {
   "cell_type": "code",
   "execution_count": 22,
   "metadata": {},
   "outputs": [],
   "source": [
    "XRP_Data_resample_1min_ffill['checking_timestamp_UTC_millisec'] = XRP_Data_resample_1min_ffill['timestamp_UTC_millisec'].shift(-1)"
   ]
  },
  {
   "cell_type": "code",
   "execution_count": 23,
   "metadata": {},
   "outputs": [],
   "source": [
    "XRP_Data_resample_1min_ffill['dif'] = XRP_Data_resample_1min_ffill['checking_timestamp_UTC_millisec'] - XRP_Data_resample_1min_ffill['timestamp_UTC_millisec']"
   ]
  },
  {
   "cell_type": "code",
   "execution_count": 24,
   "metadata": {},
   "outputs": [],
   "source": [
    "XRP_Data_resample_1min_ffill['timestamp_UTC'] = XRP_Data_resample_1min_ffill['timestamp_UTC_millisec']/1000"
   ]
  },
  {
   "cell_type": "code",
   "execution_count": null,
   "metadata": {},
   "outputs": [],
   "source": []
  },
  {
   "cell_type": "code",
   "execution_count": null,
   "metadata": {},
   "outputs": [],
   "source": []
  },
  {
   "cell_type": "code",
   "execution_count": 25,
   "metadata": {},
   "outputs": [
    {
     "data": {
      "text/html": [
       "<div>\n",
       "<style scoped>\n",
       "    .dataframe tbody tr th:only-of-type {\n",
       "        vertical-align: middle;\n",
       "    }\n",
       "\n",
       "    .dataframe tbody tr th {\n",
       "        vertical-align: top;\n",
       "    }\n",
       "\n",
       "    .dataframe thead th {\n",
       "        text-align: right;\n",
       "    }\n",
       "</style>\n",
       "<table border=\"1\" class=\"dataframe\">\n",
       "  <thead>\n",
       "    <tr style=\"text-align: right;\">\n",
       "      <th></th>\n",
       "      <th>timestamp_UTC_millisec</th>\n",
       "      <th>open_price</th>\n",
       "      <th>close_price</th>\n",
       "      <th>highest_price</th>\n",
       "      <th>lowest_price</th>\n",
       "      <th>volume</th>\n",
       "      <th>checking_timestamp_UTC_millisec</th>\n",
       "      <th>dif</th>\n",
       "      <th>timestamp_UTC</th>\n",
       "    </tr>\n",
       "    <tr>\n",
       "      <th>datetime_real</th>\n",
       "      <th></th>\n",
       "      <th></th>\n",
       "      <th></th>\n",
       "      <th></th>\n",
       "      <th></th>\n",
       "      <th></th>\n",
       "      <th></th>\n",
       "      <th></th>\n",
       "      <th></th>\n",
       "    </tr>\n",
       "  </thead>\n",
       "  <tbody>\n",
       "    <tr>\n",
       "      <th>2018-08-14 23:00:00</th>\n",
       "      <td>1534287600000</td>\n",
       "      <td>0.26444</td>\n",
       "      <td>0.26427</td>\n",
       "      <td>0.26448</td>\n",
       "      <td>0.26427</td>\n",
       "      <td>21493.134691</td>\n",
       "      <td>1.534288e+12</td>\n",
       "      <td>60000.0</td>\n",
       "      <td>1.534288e+09</td>\n",
       "    </tr>\n",
       "    <tr>\n",
       "      <th>2018-08-14 23:01:00</th>\n",
       "      <td>1534287660000</td>\n",
       "      <td>0.26410</td>\n",
       "      <td>0.26408</td>\n",
       "      <td>0.26418</td>\n",
       "      <td>0.26408</td>\n",
       "      <td>6316.950507</td>\n",
       "      <td>1.534288e+12</td>\n",
       "      <td>60000.0</td>\n",
       "      <td>1.534288e+09</td>\n",
       "    </tr>\n",
       "    <tr>\n",
       "      <th>2018-08-14 23:02:00</th>\n",
       "      <td>1534287720000</td>\n",
       "      <td>0.26419</td>\n",
       "      <td>0.26429</td>\n",
       "      <td>0.26429</td>\n",
       "      <td>0.26390</td>\n",
       "      <td>15876.859198</td>\n",
       "      <td>1.534288e+12</td>\n",
       "      <td>60000.0</td>\n",
       "      <td>1.534288e+09</td>\n",
       "    </tr>\n",
       "    <tr>\n",
       "      <th>2018-08-14 23:03:00</th>\n",
       "      <td>1534287780000</td>\n",
       "      <td>0.26389</td>\n",
       "      <td>0.26359</td>\n",
       "      <td>0.26389</td>\n",
       "      <td>0.26359</td>\n",
       "      <td>15102.000000</td>\n",
       "      <td>1.534288e+12</td>\n",
       "      <td>60000.0</td>\n",
       "      <td>1.534288e+09</td>\n",
       "    </tr>\n",
       "    <tr>\n",
       "      <th>2018-08-14 23:04:00</th>\n",
       "      <td>1534287840000</td>\n",
       "      <td>0.26368</td>\n",
       "      <td>0.26359</td>\n",
       "      <td>0.26379</td>\n",
       "      <td>0.26359</td>\n",
       "      <td>6305.473357</td>\n",
       "      <td>1.534288e+12</td>\n",
       "      <td>60000.0</td>\n",
       "      <td>1.534288e+09</td>\n",
       "    </tr>\n",
       "  </tbody>\n",
       "</table>\n",
       "</div>"
      ],
      "text/plain": [
       "                     timestamp_UTC_millisec  open_price  close_price  \\\n",
       "datetime_real                                                          \n",
       "2018-08-14 23:00:00           1534287600000     0.26444      0.26427   \n",
       "2018-08-14 23:01:00           1534287660000     0.26410      0.26408   \n",
       "2018-08-14 23:02:00           1534287720000     0.26419      0.26429   \n",
       "2018-08-14 23:03:00           1534287780000     0.26389      0.26359   \n",
       "2018-08-14 23:04:00           1534287840000     0.26368      0.26359   \n",
       "\n",
       "                     highest_price  lowest_price        volume  \\\n",
       "datetime_real                                                    \n",
       "2018-08-14 23:00:00        0.26448       0.26427  21493.134691   \n",
       "2018-08-14 23:01:00        0.26418       0.26408   6316.950507   \n",
       "2018-08-14 23:02:00        0.26429       0.26390  15876.859198   \n",
       "2018-08-14 23:03:00        0.26389       0.26359  15102.000000   \n",
       "2018-08-14 23:04:00        0.26379       0.26359   6305.473357   \n",
       "\n",
       "                     checking_timestamp_UTC_millisec      dif  timestamp_UTC  \n",
       "datetime_real                                                                 \n",
       "2018-08-14 23:00:00                     1.534288e+12  60000.0   1.534288e+09  \n",
       "2018-08-14 23:01:00                     1.534288e+12  60000.0   1.534288e+09  \n",
       "2018-08-14 23:02:00                     1.534288e+12  60000.0   1.534288e+09  \n",
       "2018-08-14 23:03:00                     1.534288e+12  60000.0   1.534288e+09  \n",
       "2018-08-14 23:04:00                     1.534288e+12  60000.0   1.534288e+09  "
      ]
     },
     "execution_count": 25,
     "metadata": {},
     "output_type": "execute_result"
    }
   ],
   "source": [
    "XRP_Data_resample_1min_ffill.head()"
   ]
  },
  {
   "cell_type": "markdown",
   "metadata": {},
   "source": [
    "#### rough check on data"
   ]
  },
  {
   "cell_type": "code",
   "execution_count": 26,
   "metadata": {},
   "outputs": [
    {
     "data": {
      "text/plain": [
       "<matplotlib.axes._subplots.AxesSubplot at 0x1f152473e80>"
      ]
     },
     "execution_count": 26,
     "metadata": {},
     "output_type": "execute_result"
    },
    {
     "data": {
      "image/png": "[encoded data removed]",
      "text/plain": [
       "<Figure size 720x360 with 1 Axes>"
      ]
     },
     "metadata": {
      "needs_background": "light"
     },
     "output_type": "display_data"
    }
   ],
   "source": [
    "XRP_Data_resample_1min_ffill[['close_price']].plot(figsize = (10,5))"
   ]
  },
  {
   "cell_type": "code",
   "execution_count": 27,
   "metadata": {},
   "outputs": [
    {
     "data": {
      "text/html": [
       "<div>\n",
       "<style scoped>\n",
       "    .dataframe tbody tr th:only-of-type {\n",
       "        vertical-align: middle;\n",
       "    }\n",
       "\n",
       "    .dataframe tbody tr th {\n",
       "        vertical-align: top;\n",
       "    }\n",
       "\n",
       "    .dataframe thead th {\n",
       "        text-align: right;\n",
       "    }\n",
       "</style>\n",
       "<table border=\"1\" class=\"dataframe\">\n",
       "  <thead>\n",
       "    <tr style=\"text-align: right;\">\n",
       "      <th></th>\n",
       "      <th>timestamp_UTC_millisec</th>\n",
       "      <th>open_price</th>\n",
       "      <th>close_price</th>\n",
       "      <th>highest_price</th>\n",
       "      <th>lowest_price</th>\n",
       "      <th>volume</th>\n",
       "      <th>checking_timestamp_UTC_millisec</th>\n",
       "      <th>dif</th>\n",
       "      <th>timestamp_UTC</th>\n",
       "    </tr>\n",
       "    <tr>\n",
       "      <th>datetime_real</th>\n",
       "      <th></th>\n",
       "      <th></th>\n",
       "      <th></th>\n",
       "      <th></th>\n",
       "      <th></th>\n",
       "      <th></th>\n",
       "      <th></th>\n",
       "      <th></th>\n",
       "      <th></th>\n",
       "    </tr>\n",
       "  </thead>\n",
       "  <tbody>\n",
       "    <tr>\n",
       "      <th>2019-11-01 15:50:00</th>\n",
       "      <td>1572623400000</td>\n",
       "      <td>0.29032</td>\n",
       "      <td>0.29029</td>\n",
       "      <td>0.29032</td>\n",
       "      <td>0.29029</td>\n",
       "      <td>18977.229740</td>\n",
       "      <td>1.572623e+12</td>\n",
       "      <td>60000.0</td>\n",
       "      <td>1.572623e+09</td>\n",
       "    </tr>\n",
       "    <tr>\n",
       "      <th>2019-11-01 15:51:00</th>\n",
       "      <td>1572623460000</td>\n",
       "      <td>0.29034</td>\n",
       "      <td>0.29030</td>\n",
       "      <td>0.29035</td>\n",
       "      <td>0.29030</td>\n",
       "      <td>11583.433064</td>\n",
       "      <td>1.572624e+12</td>\n",
       "      <td>60000.0</td>\n",
       "      <td>1.572623e+09</td>\n",
       "    </tr>\n",
       "    <tr>\n",
       "      <th>2019-11-01 15:52:00</th>\n",
       "      <td>1572623520000</td>\n",
       "      <td>0.29070</td>\n",
       "      <td>0.29046</td>\n",
       "      <td>0.29071</td>\n",
       "      <td>0.29046</td>\n",
       "      <td>205.000000</td>\n",
       "      <td>1.572624e+12</td>\n",
       "      <td>60000.0</td>\n",
       "      <td>1.572624e+09</td>\n",
       "    </tr>\n",
       "    <tr>\n",
       "      <th>2019-11-01 15:53:00</th>\n",
       "      <td>1572623580000</td>\n",
       "      <td>0.29058</td>\n",
       "      <td>0.29077</td>\n",
       "      <td>0.29077</td>\n",
       "      <td>0.29046</td>\n",
       "      <td>20164.038042</td>\n",
       "      <td>1.572624e+12</td>\n",
       "      <td>0.0</td>\n",
       "      <td>1.572624e+09</td>\n",
       "    </tr>\n",
       "    <tr>\n",
       "      <th>2019-11-01 15:54:00</th>\n",
       "      <td>1572623580000</td>\n",
       "      <td>0.29058</td>\n",
       "      <td>0.29077</td>\n",
       "      <td>0.29077</td>\n",
       "      <td>0.29046</td>\n",
       "      <td>20164.038042</td>\n",
       "      <td>1.572624e+12</td>\n",
       "      <td>120000.0</td>\n",
       "      <td>1.572624e+09</td>\n",
       "    </tr>\n",
       "    <tr>\n",
       "      <th>2019-11-01 15:55:00</th>\n",
       "      <td>1572623700000</td>\n",
       "      <td>0.29083</td>\n",
       "      <td>0.29173</td>\n",
       "      <td>0.29173</td>\n",
       "      <td>0.29083</td>\n",
       "      <td>1570.393827</td>\n",
       "      <td>1.572624e+12</td>\n",
       "      <td>60000.0</td>\n",
       "      <td>1.572624e+09</td>\n",
       "    </tr>\n",
       "    <tr>\n",
       "      <th>2019-11-01 15:56:00</th>\n",
       "      <td>1572623760000</td>\n",
       "      <td>0.29161</td>\n",
       "      <td>0.29150</td>\n",
       "      <td>0.29161</td>\n",
       "      <td>0.29120</td>\n",
       "      <td>4022.034331</td>\n",
       "      <td>1.572624e+12</td>\n",
       "      <td>60000.0</td>\n",
       "      <td>1.572624e+09</td>\n",
       "    </tr>\n",
       "    <tr>\n",
       "      <th>2019-11-01 15:57:00</th>\n",
       "      <td>1572623820000</td>\n",
       "      <td>0.29180</td>\n",
       "      <td>0.29154</td>\n",
       "      <td>0.29207</td>\n",
       "      <td>0.29154</td>\n",
       "      <td>6854.915950</td>\n",
       "      <td>1.572624e+12</td>\n",
       "      <td>60000.0</td>\n",
       "      <td>1.572624e+09</td>\n",
       "    </tr>\n",
       "    <tr>\n",
       "      <th>2019-11-01 15:58:00</th>\n",
       "      <td>1572623880000</td>\n",
       "      <td>0.29139</td>\n",
       "      <td>0.29030</td>\n",
       "      <td>0.29151</td>\n",
       "      <td>0.29030</td>\n",
       "      <td>8296.541362</td>\n",
       "      <td>1.572624e+12</td>\n",
       "      <td>60000.0</td>\n",
       "      <td>1.572624e+09</td>\n",
       "    </tr>\n",
       "    <tr>\n",
       "      <th>2019-11-01 15:59:00</th>\n",
       "      <td>1572623940000</td>\n",
       "      <td>0.29042</td>\n",
       "      <td>0.28860</td>\n",
       "      <td>0.29053</td>\n",
       "      <td>0.28855</td>\n",
       "      <td>210112.952304</td>\n",
       "      <td>NaN</td>\n",
       "      <td>NaN</td>\n",
       "      <td>1.572624e+09</td>\n",
       "    </tr>\n",
       "  </tbody>\n",
       "</table>\n",
       "</div>"
      ],
      "text/plain": [
       "                     timestamp_UTC_millisec  open_price  close_price  \\\n",
       "datetime_real                                                          \n",
       "2019-11-01 15:50:00           1572623400000     0.29032      0.29029   \n",
       "2019-11-01 15:51:00           1572623460000     0.29034      0.29030   \n",
       "2019-11-01 15:52:00           1572623520000     0.29070      0.29046   \n",
       "2019-11-01 15:53:00           1572623580000     0.29058      0.29077   \n",
       "2019-11-01 15:54:00           1572623580000     0.29058      0.29077   \n",
       "2019-11-01 15:55:00           1572623700000     0.29083      0.29173   \n",
       "2019-11-01 15:56:00           1572623760000     0.29161      0.29150   \n",
       "2019-11-01 15:57:00           1572623820000     0.29180      0.29154   \n",
       "2019-11-01 15:58:00           1572623880000     0.29139      0.29030   \n",
       "2019-11-01 15:59:00           1572623940000     0.29042      0.28860   \n",
       "\n",
       "                     highest_price  lowest_price         volume  \\\n",
       "datetime_real                                                     \n",
       "2019-11-01 15:50:00        0.29032       0.29029   18977.229740   \n",
       "2019-11-01 15:51:00        0.29035       0.29030   11583.433064   \n",
       "2019-11-01 15:52:00        0.29071       0.29046     205.000000   \n",
       "2019-11-01 15:53:00        0.29077       0.29046   20164.038042   \n",
       "2019-11-01 15:54:00        0.29077       0.29046   20164.038042   \n",
       "2019-11-01 15:55:00        0.29173       0.29083    1570.393827   \n",
       "2019-11-01 15:56:00        0.29161       0.29120    4022.034331   \n",
       "2019-11-01 15:57:00        0.29207       0.29154    6854.915950   \n",
       "2019-11-01 15:58:00        0.29151       0.29030    8296.541362   \n",
       "2019-11-01 15:59:00        0.29053       0.28855  210112.952304   \n",
       "\n",
       "                     checking_timestamp_UTC_millisec       dif  timestamp_UTC  \n",
       "datetime_real                                                                  \n",
       "2019-11-01 15:50:00                     1.572623e+12   60000.0   1.572623e+09  \n",
       "2019-11-01 15:51:00                     1.572624e+12   60000.0   1.572623e+09  \n",
       "2019-11-01 15:52:00                     1.572624e+12   60000.0   1.572624e+09  \n",
       "2019-11-01 15:53:00                     1.572624e+12       0.0   1.572624e+09  \n",
       "2019-11-01 15:54:00                     1.572624e+12  120000.0   1.572624e+09  \n",
       "2019-11-01 15:55:00                     1.572624e+12   60000.0   1.572624e+09  \n",
       "2019-11-01 15:56:00                     1.572624e+12   60000.0   1.572624e+09  \n",
       "2019-11-01 15:57:00                     1.572624e+12   60000.0   1.572624e+09  \n",
       "2019-11-01 15:58:00                     1.572624e+12   60000.0   1.572624e+09  \n",
       "2019-11-01 15:59:00                              NaN       NaN   1.572624e+09  "
      ]
     },
     "execution_count": 27,
     "metadata": {},
     "output_type": "execute_result"
    }
   ],
   "source": [
    "XRP_Data_resample_1min_ffill.tail(10)"
   ]
  },
  {
   "cell_type": "code",
   "execution_count": 28,
   "metadata": {},
   "outputs": [
    {
     "name": "stdout",
     "output_type": "stream",
     "text": [
      "\n",
      " selecting '2018-08-15 00:00:00' as the starting time as it bypasses the past crypto rush\n"
     ]
    },
    {
     "data": {
      "image/png": "[encoded data removed]",
      "text/plain": [
       "<Figure size 1512x504 with 1 Axes>"
      ]
     },
     "metadata": {
      "needs_background": "light"
     },
     "output_type": "display_data"
    }
   ],
   "source": [
    "ploting_breakdown = XRP_Data_resample_1min_ffill.reset_index()\n",
    "\n",
    "plt.figure(figsize= (21,7))\n",
    "\n",
    "\n",
    "# tran_y_low = ploting_breakdown['low']\n",
    "# tran_y_high = ploting_breakdown['high']\n",
    "tran_y_close = ploting_breakdown['close_price']\n",
    "\n",
    "tran_x = ploting_breakdown['timestamp_UTC_millisec']\n",
    "\n",
    "\n",
    "# plt.plot(tran_x, tran_y_low, alpha = 0.1)\n",
    "# plt.plot(tran_x, tran_y_high , alpha  = 0.1)\n",
    "\n",
    "plt.plot(tran_x, tran_y_close, alpha  = 1)\n",
    "\n",
    "\n",
    "# start = 45000\n",
    "# dealta_t = 10000\n",
    "time_section = {45000 : 13000,\n",
    "                63000 : 8000 ,\n",
    "                71000 : 10000,\n",
    "                180000: 10000}  # start // delta_t\n",
    "\n",
    "\n",
    "\n",
    "# plt.vlines(1534287600000, 0, 1, alpha = 1, color = 'g',linestyle = 'dashed')\n",
    "    \n",
    "plt.legend()\n",
    "plt.grid()\n",
    "print(\"\\n selecting '2018-08-15 00:00:00' as the starting time as it bypasses the past crypto rush\")"
   ]
  },
  {
   "cell_type": "code",
   "execution_count": null,
   "metadata": {},
   "outputs": [],
   "source": []
  },
  {
   "cell_type": "code",
   "execution_count": null,
   "metadata": {},
   "outputs": [],
   "source": []
  },
  {
   "cell_type": "code",
   "execution_count": 29,
   "metadata": {},
   "outputs": [
    {
     "data": {
      "text/html": [
       "<div>\n",
       "<style scoped>\n",
       "    .dataframe tbody tr th:only-of-type {\n",
       "        vertical-align: middle;\n",
       "    }\n",
       "\n",
       "    .dataframe tbody tr th {\n",
       "        vertical-align: top;\n",
       "    }\n",
       "\n",
       "    .dataframe thead th {\n",
       "        text-align: right;\n",
       "    }\n",
       "</style>\n",
       "<table border=\"1\" class=\"dataframe\">\n",
       "  <thead>\n",
       "    <tr style=\"text-align: right;\">\n",
       "      <th></th>\n",
       "      <th>datetime_real</th>\n",
       "      <th>timestamp_UTC_millisec</th>\n",
       "      <th>open_price</th>\n",
       "      <th>close_price</th>\n",
       "      <th>highest_price</th>\n",
       "      <th>lowest_price</th>\n",
       "      <th>volume</th>\n",
       "      <th>checking_timestamp_UTC_millisec</th>\n",
       "      <th>dif</th>\n",
       "      <th>timestamp_UTC</th>\n",
       "    </tr>\n",
       "  </thead>\n",
       "  <tbody>\n",
       "    <tr>\n",
       "      <th>60</th>\n",
       "      <td>2018-08-15</td>\n",
       "      <td>1534291200000</td>\n",
       "      <td>0.27279</td>\n",
       "      <td>0.2734</td>\n",
       "      <td>0.27349</td>\n",
       "      <td>0.27279</td>\n",
       "      <td>17252.63782</td>\n",
       "      <td>1.534291e+12</td>\n",
       "      <td>60000.0</td>\n",
       "      <td>1.534291e+09</td>\n",
       "    </tr>\n",
       "  </tbody>\n",
       "</table>\n",
       "</div>"
      ],
      "text/plain": [
       "   datetime_real  timestamp_UTC_millisec  open_price  close_price  \\\n",
       "60    2018-08-15           1534291200000     0.27279       0.2734   \n",
       "\n",
       "    highest_price  lowest_price       volume  checking_timestamp_UTC_millisec  \\\n",
       "60        0.27349       0.27279  17252.63782                     1.534291e+12   \n",
       "\n",
       "        dif  timestamp_UTC  \n",
       "60  60000.0   1.534291e+09  "
      ]
     },
     "execution_count": 29,
     "metadata": {},
     "output_type": "execute_result"
    }
   ],
   "source": [
    "ploting_breakdown[ploting_breakdown['datetime_real'] == '2018-08-15 00:00:00']"
   ]
  },
  {
   "cell_type": "code",
   "execution_count": 30,
   "metadata": {},
   "outputs": [
    {
     "data": {
      "text/html": [
       "<div>\n",
       "<style scoped>\n",
       "    .dataframe tbody tr th:only-of-type {\n",
       "        vertical-align: middle;\n",
       "    }\n",
       "\n",
       "    .dataframe tbody tr th {\n",
       "        vertical-align: top;\n",
       "    }\n",
       "\n",
       "    .dataframe thead th {\n",
       "        text-align: right;\n",
       "    }\n",
       "</style>\n",
       "<table border=\"1\" class=\"dataframe\">\n",
       "  <thead>\n",
       "    <tr style=\"text-align: right;\">\n",
       "      <th></th>\n",
       "      <th>datetime_real</th>\n",
       "      <th>timestamp_UTC_millisec</th>\n",
       "      <th>open_price</th>\n",
       "      <th>close_price</th>\n",
       "      <th>highest_price</th>\n",
       "      <th>lowest_price</th>\n",
       "      <th>volume</th>\n",
       "      <th>checking_timestamp_UTC_millisec</th>\n",
       "      <th>dif</th>\n",
       "      <th>timestamp_UTC</th>\n",
       "    </tr>\n",
       "  </thead>\n",
       "  <tbody>\n",
       "    <tr>\n",
       "      <th>525660</th>\n",
       "      <td>2019-08-15</td>\n",
       "      <td>1565827200000</td>\n",
       "      <td>0.26373</td>\n",
       "      <td>0.26559</td>\n",
       "      <td>0.26559</td>\n",
       "      <td>0.26363</td>\n",
       "      <td>166192.961293</td>\n",
       "      <td>1.565827e+12</td>\n",
       "      <td>60000.0</td>\n",
       "      <td>1.565827e+09</td>\n",
       "    </tr>\n",
       "  </tbody>\n",
       "</table>\n",
       "</div>"
      ],
      "text/plain": [
       "       datetime_real  timestamp_UTC_millisec  open_price  close_price  \\\n",
       "525660    2019-08-15           1565827200000     0.26373      0.26559   \n",
       "\n",
       "        highest_price  lowest_price         volume  \\\n",
       "525660        0.26559       0.26363  166192.961293   \n",
       "\n",
       "        checking_timestamp_UTC_millisec      dif  timestamp_UTC  \n",
       "525660                     1.565827e+12  60000.0   1.565827e+09  "
      ]
     },
     "execution_count": 30,
     "metadata": {},
     "output_type": "execute_result"
    }
   ],
   "source": [
    "ploting_breakdown[ploting_breakdown['datetime_real'] == '2019-08-15 00:00:00']"
   ]
  },
  {
   "cell_type": "code",
   "execution_count": null,
   "metadata": {},
   "outputs": [],
   "source": []
  },
  {
   "cell_type": "code",
   "execution_count": null,
   "metadata": {},
   "outputs": [],
   "source": []
  },
  {
   "cell_type": "markdown",
   "metadata": {},
   "source": [
    "## Saving Data "
   ]
  },
  {
   "cell_type": "code",
   "execution_count": 31,
   "metadata": {},
   "outputs": [],
   "source": [
    "# XRP_Data_backUp = XRP_Data_resample_1min_ffill.copy()"
   ]
  },
  {
   "cell_type": "markdown",
   "metadata": {},
   "source": [
    "## Copy for testing"
   ]
  },
  {
   "cell_type": "raw",
   "metadata": {},
   "source": [
    "here we have a double test, where:\n",
    "    - XRP_for_training : is used as a main source of data for training as well as testing\n",
    "    - XRP_for_testing  : is used as a form of real time blind test"
   ]
  },
  {
   "cell_type": "code",
   "execution_count": 32,
   "metadata": {},
   "outputs": [],
   "source": [
    "XRP_for_training =XRP_Data_resample_1min_ffill[(XRP_Data_resample_1min_ffill['timestamp_UTC'] >= 1534287600) &\n",
    "                           (XRP_Data_resample_1min_ffill['timestamp_UTC'] <1565823600)].reset_index().copy()"
   ]
  },
  {
   "cell_type": "code",
   "execution_count": 33,
   "metadata": {},
   "outputs": [],
   "source": [
    "XRP_for_testing =XRP_Data_resample_1min_ffill[(XRP_Data_resample_1min_ffill['timestamp_UTC'] >= 1565823600)].reset_index().copy()"
   ]
  },
  {
   "cell_type": "code",
   "execution_count": 34,
   "metadata": {},
   "outputs": [
    {
     "data": {
      "text/html": [
       "<div>\n",
       "<style scoped>\n",
       "    .dataframe tbody tr th:only-of-type {\n",
       "        vertical-align: middle;\n",
       "    }\n",
       "\n",
       "    .dataframe tbody tr th {\n",
       "        vertical-align: top;\n",
       "    }\n",
       "\n",
       "    .dataframe thead th {\n",
       "        text-align: right;\n",
       "    }\n",
       "</style>\n",
       "<table border=\"1\" class=\"dataframe\">\n",
       "  <thead>\n",
       "    <tr style=\"text-align: right;\">\n",
       "      <th></th>\n",
       "      <th>datetime_real</th>\n",
       "      <th>timestamp_UTC_millisec</th>\n",
       "      <th>open_price</th>\n",
       "      <th>close_price</th>\n",
       "      <th>highest_price</th>\n",
       "      <th>lowest_price</th>\n",
       "      <th>volume</th>\n",
       "      <th>checking_timestamp_UTC_millisec</th>\n",
       "      <th>dif</th>\n",
       "      <th>timestamp_UTC</th>\n",
       "    </tr>\n",
       "  </thead>\n",
       "  <tbody>\n",
       "    <tr>\n",
       "      <th>0</th>\n",
       "      <td>2019-08-14 23:00:00</td>\n",
       "      <td>1565823600000</td>\n",
       "      <td>0.27050</td>\n",
       "      <td>0.27034</td>\n",
       "      <td>0.27050</td>\n",
       "      <td>0.27032</td>\n",
       "      <td>200.000000</td>\n",
       "      <td>1.565824e+12</td>\n",
       "      <td>60000.0</td>\n",
       "      <td>1.565824e+09</td>\n",
       "    </tr>\n",
       "    <tr>\n",
       "      <th>1</th>\n",
       "      <td>2019-08-14 23:01:00</td>\n",
       "      <td>1565823660000</td>\n",
       "      <td>0.27034</td>\n",
       "      <td>0.27014</td>\n",
       "      <td>0.27034</td>\n",
       "      <td>0.27011</td>\n",
       "      <td>6970.610576</td>\n",
       "      <td>1.565824e+12</td>\n",
       "      <td>60000.0</td>\n",
       "      <td>1.565824e+09</td>\n",
       "    </tr>\n",
       "    <tr>\n",
       "      <th>2</th>\n",
       "      <td>2019-08-14 23:02:00</td>\n",
       "      <td>1565823720000</td>\n",
       "      <td>0.27015</td>\n",
       "      <td>0.27031</td>\n",
       "      <td>0.27044</td>\n",
       "      <td>0.27015</td>\n",
       "      <td>9002.533511</td>\n",
       "      <td>1.565824e+12</td>\n",
       "      <td>60000.0</td>\n",
       "      <td>1.565824e+09</td>\n",
       "    </tr>\n",
       "    <tr>\n",
       "      <th>3</th>\n",
       "      <td>2019-08-14 23:03:00</td>\n",
       "      <td>1565823780000</td>\n",
       "      <td>0.27028</td>\n",
       "      <td>0.27028</td>\n",
       "      <td>0.27034</td>\n",
       "      <td>0.27027</td>\n",
       "      <td>22726.951973</td>\n",
       "      <td>1.565824e+12</td>\n",
       "      <td>60000.0</td>\n",
       "      <td>1.565824e+09</td>\n",
       "    </tr>\n",
       "    <tr>\n",
       "      <th>4</th>\n",
       "      <td>2019-08-14 23:04:00</td>\n",
       "      <td>1565823840000</td>\n",
       "      <td>0.27015</td>\n",
       "      <td>0.26971</td>\n",
       "      <td>0.27015</td>\n",
       "      <td>0.26932</td>\n",
       "      <td>115833.923778</td>\n",
       "      <td>1.565824e+12</td>\n",
       "      <td>60000.0</td>\n",
       "      <td>1.565824e+09</td>\n",
       "    </tr>\n",
       "  </tbody>\n",
       "</table>\n",
       "</div>"
      ],
      "text/plain": [
       "        datetime_real  timestamp_UTC_millisec  open_price  close_price  \\\n",
       "0 2019-08-14 23:00:00           1565823600000     0.27050      0.27034   \n",
       "1 2019-08-14 23:01:00           1565823660000     0.27034      0.27014   \n",
       "2 2019-08-14 23:02:00           1565823720000     0.27015      0.27031   \n",
       "3 2019-08-14 23:03:00           1565823780000     0.27028      0.27028   \n",
       "4 2019-08-14 23:04:00           1565823840000     0.27015      0.26971   \n",
       "\n",
       "   highest_price  lowest_price         volume  \\\n",
       "0        0.27050       0.27032     200.000000   \n",
       "1        0.27034       0.27011    6970.610576   \n",
       "2        0.27044       0.27015    9002.533511   \n",
       "3        0.27034       0.27027   22726.951973   \n",
       "4        0.27015       0.26932  115833.923778   \n",
       "\n",
       "   checking_timestamp_UTC_millisec      dif  timestamp_UTC  \n",
       "0                     1.565824e+12  60000.0   1.565824e+09  \n",
       "1                     1.565824e+12  60000.0   1.565824e+09  \n",
       "2                     1.565824e+12  60000.0   1.565824e+09  \n",
       "3                     1.565824e+12  60000.0   1.565824e+09  \n",
       "4                     1.565824e+12  60000.0   1.565824e+09  "
      ]
     },
     "execution_count": 34,
     "metadata": {},
     "output_type": "execute_result"
    }
   ],
   "source": [
    "XRP_for_testing.head()"
   ]
  },
  {
   "cell_type": "code",
   "execution_count": 35,
   "metadata": {},
   "outputs": [
    {
     "data": {
      "text/plain": [
       "Timestamp('2019-11-01 15:59:00')"
      ]
     },
     "execution_count": 35,
     "metadata": {},
     "output_type": "execute_result"
    }
   ],
   "source": [
    "XRP_for_testing['datetime_real'].max()"
   ]
  },
  {
   "cell_type": "code",
   "execution_count": 36,
   "metadata": {},
   "outputs": [
    {
     "data": {
      "text/plain": [
       "Timestamp('2019-08-14 23:00:00')"
      ]
     },
     "execution_count": 36,
     "metadata": {},
     "output_type": "execute_result"
    }
   ],
   "source": [
    "XRP_for_testing['datetime_real'].min()"
   ]
  },
  {
   "cell_type": "markdown",
   "metadata": {},
   "source": [
    "## Analysis on training datasets"
   ]
  },
  {
   "cell_type": "code",
   "execution_count": 37,
   "metadata": {},
   "outputs": [
    {
     "data": {
      "text/plain": [
       "<matplotlib.axes._subplots.AxesSubplot at 0x1f155a89be0>"
      ]
     },
     "execution_count": 37,
     "metadata": {},
     "output_type": "execute_result"
    },
    {
     "data": {
      "image/png": "[encoded data removed]",
      "text/plain": [
       "<Figure size 1440x720 with 1 Axes>"
      ]
     },
     "metadata": {
      "needs_background": "light"
     },
     "output_type": "display_data"
    }
   ],
   "source": [
    "XRP_for_training.set_index('datetime_real')[['close_price']].plot(figsize = (20,10))"
   ]
  },
  {
   "cell_type": "code",
   "execution_count": null,
   "metadata": {},
   "outputs": [],
   "source": []
  },
  {
   "cell_type": "markdown",
   "metadata": {},
   "source": [
    "## Data mining, making own properties and features"
   ]
  },
  {
   "cell_type": "code",
   "execution_count": 38,
   "metadata": {},
   "outputs": [],
   "source": [
    "section_period = {  '3min': 3,\n",
    "                    '4min': 4,\n",
    "                    '5min': 5,\n",
    "                    '10min': 10,\n",
    "                    '15min': 15,\n",
    "                    '20min': 20,\n",
    "                    '25min': 25,\n",
    "                    '30min': 30,\n",
    "                    '35min': 35,\n",
    "                    '40min': 40,\n",
    "                    '45min': 45,\n",
    "                    '50min': 50,\n",
    "                    '55min': 55,\n",
    "                    '1H': 60,\n",
    "                    '2H': 120,\n",
    "                    '3H': 180,\n",
    "                    '4H': 240,\n",
    "                    '5H': 300,\n",
    "                    '6H': 360,\n",
    "                    '7H': 420,\n",
    "                    '8H': 480,\n",
    "                    '9H': 540,\n",
    "                    '10H': 600,\n",
    "                    '11H': 660,\n",
    "                    '12H': 720,\n",
    "                    '24H': 1440,\n",
    "                    '2D': 2880,\n",
    "                    '3D': 4320,\n",
    "                    '4D': 5760,\n",
    "                    '5D': 7200,\n",
    "                    '10D': 14400}"
   ]
  },
  {
   "cell_type": "code",
   "execution_count": 39,
   "metadata": {},
   "outputs": [],
   "source": [
    "for k,v in section_period.items():\n",
    "    XRP_for_training['{0}_RA_on_Close'.format(k)] = XRP_for_training['close_price'].rolling(v).mean()"
   ]
  },
  {
   "cell_type": "code",
   "execution_count": 40,
   "metadata": {},
   "outputs": [],
   "source": [
    "compare_sequence = {}"
   ]
  },
  {
   "cell_type": "code",
   "execution_count": 41,
   "metadata": {},
   "outputs": [],
   "source": [
    "for col_1 in [d for d in XRP_for_training.columns if '_RA_on_Close' in d]:\n",
    "    for col_2 in [d for d in XRP_for_training.columns if '_RA_on_Close' in d]:\n",
    "        temp_1 = col_1.split('_RA_on_Close')[0]\n",
    "        temp_2 = col_2.split('_RA_on_Close')[0]\n",
    "        if temp_1 != temp_2:\n",
    "            if ((temp_1 + '_minus_' + temp_2) not in compare_sequence.keys() and (temp_2 + '_minus_' + temp_1) not in compare_sequence.keys() ):\n",
    "                compare_sequence.update({temp_1 + '_minus_' + temp_2 : [col_1, col_2]})"
   ]
  },
  {
   "cell_type": "code",
   "execution_count": 42,
   "metadata": {},
   "outputs": [],
   "source": [
    "for k, val in compare_sequence.items():\n",
    "    XRP_for_training[k] = (XRP_for_training[val[0]] - XRP_for_training[val[1]])/XRP_for_training[val[1]] \n",
    "#     print(k, val[0], val[1])"
   ]
  },
  {
   "cell_type": "code",
   "execution_count": 43,
   "metadata": {},
   "outputs": [],
   "source": [
    "for col in [d for d in XRP_for_training.columns if '_RA_on_Close' in d]:\n",
    "    XRP_for_training[col] = XRP_for_training[col].shift(1)\n",
    "    \n",
    "    XRP_for_training['{0}_close_percent_dif'.format(col.split('_RA_on_Close')[0])] = (XRP_for_training['close_price']-XRP_for_training[col])/XRP_for_training[col] "
   ]
  },
  {
   "cell_type": "code",
   "execution_count": 44,
   "metadata": {},
   "outputs": [
    {
     "name": "stdout",
     "output_type": "stream",
     "text": [
      "3min 3\n",
      "4min 4\n",
      "5min 5\n",
      "10min 10\n",
      "15min 15\n",
      "20min 20\n",
      "25min 25\n",
      "30min 30\n",
      "35min 35\n",
      "40min 40\n",
      "45min 45\n",
      "50min 50\n",
      "55min 55\n",
      "1H 60\n",
      "2H 120\n",
      "3H 180\n",
      "4H 240\n",
      "5H 300\n",
      "6H 360\n",
      "7H 420\n",
      "8H 480\n",
      "9H 540\n",
      "10H 600\n",
      "11H 660\n",
      "12H 720\n",
      "24H 1440\n",
      "2D 2880\n",
      "3D 4320\n",
      "4D 5760\n",
      "5D 7200\n",
      "10D 14400\n",
      "3min 3\n",
      "4min 4\n",
      "5min 5\n",
      "10min 10\n",
      "15min 15\n",
      "20min 20\n",
      "25min 25\n",
      "30min 30\n",
      "35min 35\n",
      "40min 40\n",
      "45min 45\n",
      "50min 50\n",
      "55min 55\n",
      "1H 60\n",
      "2H 120\n",
      "3H 180\n",
      "4H 240\n",
      "5H 300\n",
      "6H 360\n",
      "7H 420\n",
      "8H 480\n",
      "9H 540\n",
      "10H 600\n",
      "11H 660\n",
      "12H 720\n",
      "24H 1440\n",
      "2D 2880\n",
      "3D 4320\n",
      "4D 5760\n",
      "5D 7200\n",
      "10D 14400\n"
     ]
    }
   ],
   "source": [
    "for k,v in section_period.items():\n",
    "    print(k,v)\n",
    "    XRP_for_training['look_back_{}'.format(k)] = XRP_for_training['close_price'].shift(v)   # i.e. 20min ago, this is what the close price is\n",
    "    XRP_for_training['look_forward_{}'.format(k)] = XRP_for_training['close_price'].shift(-v)  # i.e. 20min later, the close price is\n",
    "\n",
    "\n",
    "for k,v in section_period.items():\n",
    "    print(k,v)\n",
    "    XRP_for_training['calculate_look_back_Percent_{}'.format(k)]    = 100*(XRP_for_training['close_price'] - XRP_for_training['look_back_{}'.format(k)])/(v)\n",
    "    XRP_for_training['calculate_look_forward_Percent_{}'.format(k)] =  100*(XRP_for_training['look_forward_{}'.format(k)] - XRP_for_training['close_price'])/(v)"
   ]
  },
  {
   "cell_type": "code",
   "execution_count": null,
   "metadata": {},
   "outputs": [],
   "source": []
  },
  {
   "cell_type": "raw",
   "metadata": {},
   "source": [
    "increase to at least 0.3% = 0.003\n",
    "\n",
    "difference of:\n",
    "- 0.004\n",
    "- 0.005"
   ]
  },
  {
   "cell_type": "markdown",
   "metadata": {},
   "source": [
    "net_{net_percent}_percent is the net_percent + minimum for profit, \n",
    "\n",
    "i.e. net_01_percent = 0.1% + 0.003 = 0.004"
   ]
  },
  {
   "cell_type": "code",
   "execution_count": 45,
   "metadata": {},
   "outputs": [],
   "source": [
    "net_01_percent = 0.004\n",
    "net_02_percent = 0.007  # (for x percent, percent wrong needs to be taken into consideration)"
   ]
  },
  {
   "cell_type": "code",
   "execution_count": null,
   "metadata": {},
   "outputs": [],
   "source": []
  },
  {
   "cell_type": "raw",
   "metadata": {},
   "source": [
    "Buy_in_decision : is it the targets that I came up with, where if the price will be greated than 0.5% increase, then a profit can be made, hence there can be made.\n",
    "    (0.5% is set as there is a fee of exchange on many crypotoexchanges, i.e. 0.3% on Bitfinx. \n",
    "    source: https://tradesanta.com/en/bitfinex)"
   ]
  },
  {
   "cell_type": "code",
   "execution_count": null,
   "metadata": {},
   "outputs": [],
   "source": []
  },
  {
   "cell_type": "code",
   "execution_count": 46,
   "metadata": {},
   "outputs": [],
   "source": [
    "Buy_in_decision = pd.DataFrame((XRP_for_training[['timestamp_UTC'] + [d for d in XRP_for_training.columns if '_forward_Percent_' in d]].set_index('timestamp_UTC') > net_02_percent).any(axis =1 )).rename(columns ={0: 'Buy_In'})"
   ]
  },
  {
   "cell_type": "code",
   "execution_count": 47,
   "metadata": {},
   "outputs": [],
   "source": [
    "within_target_02_profit = XRP_for_training.merge(Buy_in_decision.reset_index(), on ='timestamp_UTC', how='left').dropna()"
   ]
  },
  {
   "cell_type": "code",
   "execution_count": 48,
   "metadata": {},
   "outputs": [
    {
     "data": {
      "text/plain": [
       "Timestamp('2019-11-01 15:59:00')"
      ]
     },
     "execution_count": 48,
     "metadata": {},
     "output_type": "execute_result"
    }
   ],
   "source": [
    "XRP_for_testing['datetime_real'].max()"
   ]
  },
  {
   "cell_type": "code",
   "execution_count": 49,
   "metadata": {},
   "outputs": [
    {
     "data": {
      "text/plain": [
       "Timestamp('2018-08-24 23:00:00')"
      ]
     },
     "execution_count": 49,
     "metadata": {},
     "output_type": "execute_result"
    }
   ],
   "source": [
    "within_target_02_profit['datetime_real'].min()"
   ]
  },
  {
   "cell_type": "code",
   "execution_count": null,
   "metadata": {},
   "outputs": [],
   "source": []
  },
  {
   "cell_type": "markdown",
   "metadata": {},
   "source": [
    "#### Selecting properties and becareful not to have any properties that look forward"
   ]
  },
  {
   "cell_type": "code",
   "execution_count": 50,
   "metadata": {},
   "outputs": [
    {
     "data": {
      "text/plain": [
       "['datetime_real',\n",
       " 'timestamp_UTC_millisec',\n",
       " 'open_price',\n",
       " 'close_price',\n",
       " 'highest_price',\n",
       " 'lowest_price',\n",
       " 'volume',\n",
       " 'checking_timestamp_UTC_millisec',\n",
       " 'dif',\n",
       " 'timestamp_UTC',\n",
       " '3min_RA_on_Close',\n",
       " '4min_RA_on_Close',\n",
       " '5min_RA_on_Close',\n",
       " '10min_RA_on_Close',\n",
       " '15min_RA_on_Close',\n",
       " '20min_RA_on_Close',\n",
       " '25min_RA_on_Close',\n",
       " '30min_RA_on_Close',\n",
       " '35min_RA_on_Close',\n",
       " '40min_RA_on_Close',\n",
       " '45min_RA_on_Close',\n",
       " '50min_RA_on_Close',\n",
       " '55min_RA_on_Close',\n",
       " '1H_RA_on_Close',\n",
       " '2H_RA_on_Close',\n",
       " '3H_RA_on_Close',\n",
       " '4H_RA_on_Close',\n",
       " '5H_RA_on_Close',\n",
       " '6H_RA_on_Close',\n",
       " '7H_RA_on_Close',\n",
       " '8H_RA_on_Close',\n",
       " '9H_RA_on_Close',\n",
       " '10H_RA_on_Close',\n",
       " '11H_RA_on_Close',\n",
       " '12H_RA_on_Close',\n",
       " '24H_RA_on_Close',\n",
       " '2D_RA_on_Close',\n",
       " '3D_RA_on_Close',\n",
       " '4D_RA_on_Close',\n",
       " '5D_RA_on_Close',\n",
       " '10D_RA_on_Close',\n",
       " '3min_minus_4min',\n",
       " '3min_minus_5min',\n",
       " '3min_minus_10min',\n",
       " '3min_minus_15min',\n",
       " '3min_minus_20min',\n",
       " '3min_minus_25min',\n",
       " '3min_minus_30min',\n",
       " '3min_minus_35min',\n",
       " '3min_minus_40min',\n",
       " '3min_minus_45min',\n",
       " '3min_minus_50min',\n",
       " '3min_minus_55min',\n",
       " '3min_minus_1H',\n",
       " '3min_minus_2H',\n",
       " '3min_minus_3H',\n",
       " '3min_minus_4H',\n",
       " '3min_minus_5H',\n",
       " '3min_minus_6H',\n",
       " '3min_minus_7H',\n",
       " '3min_minus_8H',\n",
       " '3min_minus_9H',\n",
       " '3min_minus_10H',\n",
       " '3min_minus_11H',\n",
       " '3min_minus_12H',\n",
       " '3min_minus_24H',\n",
       " '3min_minus_2D',\n",
       " '3min_minus_3D',\n",
       " '3min_minus_4D',\n",
       " '3min_minus_5D',\n",
       " '3min_minus_10D',\n",
       " '4min_minus_5min',\n",
       " '4min_minus_10min',\n",
       " '4min_minus_15min',\n",
       " '4min_minus_20min',\n",
       " '4min_minus_25min',\n",
       " '4min_minus_30min',\n",
       " '4min_minus_35min',\n",
       " '4min_minus_40min',\n",
       " '4min_minus_45min',\n",
       " '4min_minus_50min',\n",
       " '4min_minus_55min',\n",
       " '4min_minus_1H',\n",
       " '4min_minus_2H',\n",
       " '4min_minus_3H',\n",
       " '4min_minus_4H',\n",
       " '4min_minus_5H',\n",
       " '4min_minus_6H',\n",
       " '4min_minus_7H',\n",
       " '4min_minus_8H',\n",
       " '4min_minus_9H',\n",
       " '4min_minus_10H',\n",
       " '4min_minus_11H',\n",
       " '4min_minus_12H',\n",
       " '4min_minus_24H',\n",
       " '4min_minus_2D',\n",
       " '4min_minus_3D',\n",
       " '4min_minus_4D',\n",
       " '4min_minus_5D',\n",
       " '4min_minus_10D',\n",
       " '5min_minus_10min',\n",
       " '5min_minus_15min',\n",
       " '5min_minus_20min',\n",
       " '5min_minus_25min',\n",
       " '5min_minus_30min',\n",
       " '5min_minus_35min',\n",
       " '5min_minus_40min',\n",
       " '5min_minus_45min',\n",
       " '5min_minus_50min',\n",
       " '5min_minus_55min',\n",
       " '5min_minus_1H',\n",
       " '5min_minus_2H',\n",
       " '5min_minus_3H',\n",
       " '5min_minus_4H',\n",
       " '5min_minus_5H',\n",
       " '5min_minus_6H',\n",
       " '5min_minus_7H',\n",
       " '5min_minus_8H',\n",
       " '5min_minus_9H',\n",
       " '5min_minus_10H',\n",
       " '5min_minus_11H',\n",
       " '5min_minus_12H',\n",
       " '5min_minus_24H',\n",
       " '5min_minus_2D',\n",
       " '5min_minus_3D',\n",
       " '5min_minus_4D',\n",
       " '5min_minus_5D',\n",
       " '5min_minus_10D',\n",
       " '10min_minus_15min',\n",
       " '10min_minus_20min',\n",
       " '10min_minus_25min',\n",
       " '10min_minus_30min',\n",
       " '10min_minus_35min',\n",
       " '10min_minus_40min',\n",
       " '10min_minus_45min',\n",
       " '10min_minus_50min',\n",
       " '10min_minus_55min',\n",
       " '10min_minus_1H',\n",
       " '10min_minus_2H',\n",
       " '10min_minus_3H',\n",
       " '10min_minus_4H',\n",
       " '10min_minus_5H',\n",
       " '10min_minus_6H',\n",
       " '10min_minus_7H',\n",
       " '10min_minus_8H',\n",
       " '10min_minus_9H',\n",
       " '10min_minus_10H',\n",
       " '10min_minus_11H',\n",
       " '10min_minus_12H',\n",
       " '10min_minus_24H',\n",
       " '10min_minus_2D',\n",
       " '10min_minus_3D',\n",
       " '10min_minus_4D',\n",
       " '10min_minus_5D',\n",
       " '10min_minus_10D',\n",
       " '15min_minus_20min',\n",
       " '15min_minus_25min',\n",
       " '15min_minus_30min',\n",
       " '15min_minus_35min',\n",
       " '15min_minus_40min',\n",
       " '15min_minus_45min',\n",
       " '15min_minus_50min',\n",
       " '15min_minus_55min',\n",
       " '15min_minus_1H',\n",
       " '15min_minus_2H',\n",
       " '15min_minus_3H',\n",
       " '15min_minus_4H',\n",
       " '15min_minus_5H',\n",
       " '15min_minus_6H',\n",
       " '15min_minus_7H',\n",
       " '15min_minus_8H',\n",
       " '15min_minus_9H',\n",
       " '15min_minus_10H',\n",
       " '15min_minus_11H',\n",
       " '15min_minus_12H',\n",
       " '15min_minus_24H',\n",
       " '15min_minus_2D',\n",
       " '15min_minus_3D',\n",
       " '15min_minus_4D',\n",
       " '15min_minus_5D',\n",
       " '15min_minus_10D',\n",
       " '20min_minus_25min',\n",
       " '20min_minus_30min',\n",
       " '20min_minus_35min',\n",
       " '20min_minus_40min',\n",
       " '20min_minus_45min',\n",
       " '20min_minus_50min',\n",
       " '20min_minus_55min',\n",
       " '20min_minus_1H',\n",
       " '20min_minus_2H',\n",
       " '20min_minus_3H',\n",
       " '20min_minus_4H',\n",
       " '20min_minus_5H',\n",
       " '20min_minus_6H',\n",
       " '20min_minus_7H',\n",
       " '20min_minus_8H',\n",
       " '20min_minus_9H',\n",
       " '20min_minus_10H',\n",
       " '20min_minus_11H',\n",
       " '20min_minus_12H',\n",
       " '20min_minus_24H',\n",
       " '20min_minus_2D',\n",
       " '20min_minus_3D',\n",
       " '20min_minus_4D',\n",
       " '20min_minus_5D',\n",
       " '20min_minus_10D',\n",
       " '25min_minus_30min',\n",
       " '25min_minus_35min',\n",
       " '25min_minus_40min',\n",
       " '25min_minus_45min',\n",
       " '25min_minus_50min',\n",
       " '25min_minus_55min',\n",
       " '25min_minus_1H',\n",
       " '25min_minus_2H',\n",
       " '25min_minus_3H',\n",
       " '25min_minus_4H',\n",
       " '25min_minus_5H',\n",
       " '25min_minus_6H',\n",
       " '25min_minus_7H',\n",
       " '25min_minus_8H',\n",
       " '25min_minus_9H',\n",
       " '25min_minus_10H',\n",
       " '25min_minus_11H',\n",
       " '25min_minus_12H',\n",
       " '25min_minus_24H',\n",
       " '25min_minus_2D',\n",
       " '25min_minus_3D',\n",
       " '25min_minus_4D',\n",
       " '25min_minus_5D',\n",
       " '25min_minus_10D',\n",
       " '30min_minus_35min',\n",
       " '30min_minus_40min',\n",
       " '30min_minus_45min',\n",
       " '30min_minus_50min',\n",
       " '30min_minus_55min',\n",
       " '30min_minus_1H',\n",
       " '30min_minus_2H',\n",
       " '30min_minus_3H',\n",
       " '30min_minus_4H',\n",
       " '30min_minus_5H',\n",
       " '30min_minus_6H',\n",
       " '30min_minus_7H',\n",
       " '30min_minus_8H',\n",
       " '30min_minus_9H',\n",
       " '30min_minus_10H',\n",
       " '30min_minus_11H',\n",
       " '30min_minus_12H',\n",
       " '30min_minus_24H',\n",
       " '30min_minus_2D',\n",
       " '30min_minus_3D',\n",
       " '30min_minus_4D',\n",
       " '30min_minus_5D',\n",
       " '30min_minus_10D',\n",
       " '35min_minus_40min',\n",
       " '35min_minus_45min',\n",
       " '35min_minus_50min',\n",
       " '35min_minus_55min',\n",
       " '35min_minus_1H',\n",
       " '35min_minus_2H',\n",
       " '35min_minus_3H',\n",
       " '35min_minus_4H',\n",
       " '35min_minus_5H',\n",
       " '35min_minus_6H',\n",
       " '35min_minus_7H',\n",
       " '35min_minus_8H',\n",
       " '35min_minus_9H',\n",
       " '35min_minus_10H',\n",
       " '35min_minus_11H',\n",
       " '35min_minus_12H',\n",
       " '35min_minus_24H',\n",
       " '35min_minus_2D',\n",
       " '35min_minus_3D',\n",
       " '35min_minus_4D',\n",
       " '35min_minus_5D',\n",
       " '35min_minus_10D',\n",
       " '40min_minus_45min',\n",
       " '40min_minus_50min',\n",
       " '40min_minus_55min',\n",
       " '40min_minus_1H',\n",
       " '40min_minus_2H',\n",
       " '40min_minus_3H',\n",
       " '40min_minus_4H',\n",
       " '40min_minus_5H',\n",
       " '40min_minus_6H',\n",
       " '40min_minus_7H',\n",
       " '40min_minus_8H',\n",
       " '40min_minus_9H',\n",
       " '40min_minus_10H',\n",
       " '40min_minus_11H',\n",
       " '40min_minus_12H',\n",
       " '40min_minus_24H',\n",
       " '40min_minus_2D',\n",
       " '40min_minus_3D',\n",
       " '40min_minus_4D',\n",
       " '40min_minus_5D',\n",
       " '40min_minus_10D',\n",
       " '45min_minus_50min',\n",
       " '45min_minus_55min',\n",
       " '45min_minus_1H',\n",
       " '45min_minus_2H',\n",
       " '45min_minus_3H',\n",
       " '45min_minus_4H',\n",
       " '45min_minus_5H',\n",
       " '45min_minus_6H',\n",
       " '45min_minus_7H',\n",
       " '45min_minus_8H',\n",
       " '45min_minus_9H',\n",
       " '45min_minus_10H',\n",
       " '45min_minus_11H',\n",
       " '45min_minus_12H',\n",
       " '45min_minus_24H',\n",
       " '45min_minus_2D',\n",
       " '45min_minus_3D',\n",
       " '45min_minus_4D',\n",
       " '45min_minus_5D',\n",
       " '45min_minus_10D',\n",
       " '50min_minus_55min',\n",
       " '50min_minus_1H',\n",
       " '50min_minus_2H',\n",
       " '50min_minus_3H',\n",
       " '50min_minus_4H',\n",
       " '50min_minus_5H',\n",
       " '50min_minus_6H',\n",
       " '50min_minus_7H',\n",
       " '50min_minus_8H',\n",
       " '50min_minus_9H',\n",
       " '50min_minus_10H',\n",
       " '50min_minus_11H',\n",
       " '50min_minus_12H',\n",
       " '50min_minus_24H',\n",
       " '50min_minus_2D',\n",
       " '50min_minus_3D',\n",
       " '50min_minus_4D',\n",
       " '50min_minus_5D',\n",
       " '50min_minus_10D',\n",
       " '55min_minus_1H',\n",
       " '55min_minus_2H',\n",
       " '55min_minus_3H',\n",
       " '55min_minus_4H',\n",
       " '55min_minus_5H',\n",
       " '55min_minus_6H',\n",
       " '55min_minus_7H',\n",
       " '55min_minus_8H',\n",
       " '55min_minus_9H',\n",
       " '55min_minus_10H',\n",
       " '55min_minus_11H',\n",
       " '55min_minus_12H',\n",
       " '55min_minus_24H',\n",
       " '55min_minus_2D',\n",
       " '55min_minus_3D',\n",
       " '55min_minus_4D',\n",
       " '55min_minus_5D',\n",
       " '55min_minus_10D',\n",
       " '1H_minus_2H',\n",
       " '1H_minus_3H',\n",
       " '1H_minus_4H',\n",
       " '1H_minus_5H',\n",
       " '1H_minus_6H',\n",
       " '1H_minus_7H',\n",
       " '1H_minus_8H',\n",
       " '1H_minus_9H',\n",
       " '1H_minus_10H',\n",
       " '1H_minus_11H',\n",
       " '1H_minus_12H',\n",
       " '1H_minus_24H',\n",
       " '1H_minus_2D',\n",
       " '1H_minus_3D',\n",
       " '1H_minus_4D',\n",
       " '1H_minus_5D',\n",
       " '1H_minus_10D',\n",
       " '2H_minus_3H',\n",
       " '2H_minus_4H',\n",
       " '2H_minus_5H',\n",
       " '2H_minus_6H',\n",
       " '2H_minus_7H',\n",
       " '2H_minus_8H',\n",
       " '2H_minus_9H',\n",
       " '2H_minus_10H',\n",
       " '2H_minus_11H',\n",
       " '2H_minus_12H',\n",
       " '2H_minus_24H',\n",
       " '2H_minus_2D',\n",
       " '2H_minus_3D',\n",
       " '2H_minus_4D',\n",
       " '2H_minus_5D',\n",
       " '2H_minus_10D',\n",
       " '3H_minus_4H',\n",
       " '3H_minus_5H',\n",
       " '3H_minus_6H',\n",
       " '3H_minus_7H',\n",
       " '3H_minus_8H',\n",
       " '3H_minus_9H',\n",
       " '3H_minus_10H',\n",
       " '3H_minus_11H',\n",
       " '3H_minus_12H',\n",
       " '3H_minus_24H',\n",
       " '3H_minus_2D',\n",
       " '3H_minus_3D',\n",
       " '3H_minus_4D',\n",
       " '3H_minus_5D',\n",
       " '3H_minus_10D',\n",
       " '4H_minus_5H',\n",
       " '4H_minus_6H',\n",
       " '4H_minus_7H',\n",
       " '4H_minus_8H',\n",
       " '4H_minus_9H',\n",
       " '4H_minus_10H',\n",
       " '4H_minus_11H',\n",
       " '4H_minus_12H',\n",
       " '4H_minus_24H',\n",
       " '4H_minus_2D',\n",
       " '4H_minus_3D',\n",
       " '4H_minus_4D',\n",
       " '4H_minus_5D',\n",
       " '4H_minus_10D',\n",
       " '5H_minus_6H',\n",
       " '5H_minus_7H',\n",
       " '5H_minus_8H',\n",
       " '5H_minus_9H',\n",
       " '5H_minus_10H',\n",
       " '5H_minus_11H',\n",
       " '5H_minus_12H',\n",
       " '5H_minus_24H',\n",
       " '5H_minus_2D',\n",
       " '5H_minus_3D',\n",
       " '5H_minus_4D',\n",
       " '5H_minus_5D',\n",
       " '5H_minus_10D',\n",
       " '6H_minus_7H',\n",
       " '6H_minus_8H',\n",
       " '6H_minus_9H',\n",
       " '6H_minus_10H',\n",
       " '6H_minus_11H',\n",
       " '6H_minus_12H',\n",
       " '6H_minus_24H',\n",
       " '6H_minus_2D',\n",
       " '6H_minus_3D',\n",
       " '6H_minus_4D',\n",
       " '6H_minus_5D',\n",
       " '6H_minus_10D',\n",
       " '7H_minus_8H',\n",
       " '7H_minus_9H',\n",
       " '7H_minus_10H',\n",
       " '7H_minus_11H',\n",
       " '7H_minus_12H',\n",
       " '7H_minus_24H',\n",
       " '7H_minus_2D',\n",
       " '7H_minus_3D',\n",
       " '7H_minus_4D',\n",
       " '7H_minus_5D',\n",
       " '7H_minus_10D',\n",
       " '8H_minus_9H',\n",
       " '8H_minus_10H',\n",
       " '8H_minus_11H',\n",
       " '8H_minus_12H',\n",
       " '8H_minus_24H',\n",
       " '8H_minus_2D',\n",
       " '8H_minus_3D',\n",
       " '8H_minus_4D',\n",
       " '8H_minus_5D',\n",
       " '8H_minus_10D',\n",
       " '9H_minus_10H',\n",
       " '9H_minus_11H',\n",
       " '9H_minus_12H',\n",
       " '9H_minus_24H',\n",
       " '9H_minus_2D',\n",
       " '9H_minus_3D',\n",
       " '9H_minus_4D',\n",
       " '9H_minus_5D',\n",
       " '9H_minus_10D',\n",
       " '10H_minus_11H',\n",
       " '10H_minus_12H',\n",
       " '10H_minus_24H',\n",
       " '10H_minus_2D',\n",
       " '10H_minus_3D',\n",
       " '10H_minus_4D',\n",
       " '10H_minus_5D',\n",
       " '10H_minus_10D',\n",
       " '11H_minus_12H',\n",
       " '11H_minus_24H',\n",
       " '11H_minus_2D',\n",
       " '11H_minus_3D',\n",
       " '11H_minus_4D',\n",
       " '11H_minus_5D',\n",
       " '11H_minus_10D',\n",
       " '12H_minus_24H',\n",
       " '12H_minus_2D',\n",
       " '12H_minus_3D',\n",
       " '12H_minus_4D',\n",
       " '12H_minus_5D',\n",
       " '12H_minus_10D',\n",
       " '24H_minus_2D',\n",
       " '24H_minus_3D',\n",
       " '24H_minus_4D',\n",
       " '24H_minus_5D',\n",
       " '24H_minus_10D',\n",
       " '2D_minus_3D',\n",
       " '2D_minus_4D',\n",
       " '2D_minus_5D',\n",
       " '2D_minus_10D',\n",
       " '3D_minus_4D',\n",
       " '3D_minus_5D',\n",
       " '3D_minus_10D',\n",
       " '4D_minus_5D',\n",
       " '4D_minus_10D',\n",
       " '5D_minus_10D',\n",
       " '3min_close_percent_dif',\n",
       " '4min_close_percent_dif',\n",
       " '5min_close_percent_dif',\n",
       " '10min_close_percent_dif',\n",
       " '15min_close_percent_dif',\n",
       " '20min_close_percent_dif',\n",
       " '25min_close_percent_dif',\n",
       " '30min_close_percent_dif',\n",
       " '35min_close_percent_dif',\n",
       " '40min_close_percent_dif',\n",
       " '45min_close_percent_dif',\n",
       " '50min_close_percent_dif',\n",
       " '55min_close_percent_dif',\n",
       " '1H_close_percent_dif',\n",
       " '2H_close_percent_dif',\n",
       " '3H_close_percent_dif',\n",
       " '4H_close_percent_dif',\n",
       " '5H_close_percent_dif',\n",
       " '6H_close_percent_dif',\n",
       " '7H_close_percent_dif',\n",
       " '8H_close_percent_dif',\n",
       " '9H_close_percent_dif',\n",
       " '10H_close_percent_dif',\n",
       " '11H_close_percent_dif',\n",
       " '12H_close_percent_dif',\n",
       " '24H_close_percent_dif',\n",
       " '2D_close_percent_dif',\n",
       " '3D_close_percent_dif',\n",
       " '4D_close_percent_dif',\n",
       " '5D_close_percent_dif',\n",
       " '10D_close_percent_dif',\n",
       " 'look_back_3min',\n",
       " 'look_back_4min',\n",
       " 'look_back_5min',\n",
       " 'look_back_10min',\n",
       " 'look_back_15min',\n",
       " 'look_back_20min',\n",
       " 'look_back_25min',\n",
       " 'look_back_30min',\n",
       " 'look_back_35min',\n",
       " 'look_back_40min',\n",
       " 'look_back_45min',\n",
       " 'look_back_50min',\n",
       " 'look_back_55min',\n",
       " 'look_back_1H',\n",
       " 'look_back_2H',\n",
       " 'look_back_3H',\n",
       " 'look_back_4H',\n",
       " 'look_back_5H',\n",
       " 'look_back_6H',\n",
       " 'look_back_7H',\n",
       " 'look_back_8H',\n",
       " 'look_back_9H',\n",
       " 'look_back_10H',\n",
       " 'look_back_11H',\n",
       " 'look_back_12H',\n",
       " 'look_back_24H',\n",
       " 'look_back_2D',\n",
       " 'look_back_3D',\n",
       " 'look_back_4D',\n",
       " 'look_back_5D',\n",
       " 'look_back_10D',\n",
       " 'calculate_look_back_Percent_3min',\n",
       " 'calculate_look_back_Percent_4min',\n",
       " 'calculate_look_back_Percent_5min',\n",
       " 'calculate_look_back_Percent_10min',\n",
       " 'calculate_look_back_Percent_15min',\n",
       " 'calculate_look_back_Percent_20min',\n",
       " 'calculate_look_back_Percent_25min',\n",
       " 'calculate_look_back_Percent_30min',\n",
       " 'calculate_look_back_Percent_35min',\n",
       " 'calculate_look_back_Percent_40min',\n",
       " 'calculate_look_back_Percent_45min',\n",
       " 'calculate_look_back_Percent_50min',\n",
       " 'calculate_look_back_Percent_55min',\n",
       " 'calculate_look_back_Percent_1H',\n",
       " 'calculate_look_back_Percent_2H',\n",
       " 'calculate_look_back_Percent_3H',\n",
       " 'calculate_look_back_Percent_4H',\n",
       " 'calculate_look_back_Percent_5H',\n",
       " 'calculate_look_back_Percent_6H',\n",
       " 'calculate_look_back_Percent_7H',\n",
       " 'calculate_look_back_Percent_8H',\n",
       " 'calculate_look_back_Percent_9H',\n",
       " 'calculate_look_back_Percent_10H',\n",
       " 'calculate_look_back_Percent_11H',\n",
       " 'calculate_look_back_Percent_12H',\n",
       " 'calculate_look_back_Percent_24H',\n",
       " 'calculate_look_back_Percent_2D',\n",
       " 'calculate_look_back_Percent_3D',\n",
       " 'calculate_look_back_Percent_4D',\n",
       " 'calculate_look_back_Percent_5D',\n",
       " 'calculate_look_back_Percent_10D']"
      ]
     },
     "execution_count": 50,
     "metadata": {},
     "output_type": "execute_result"
    }
   ],
   "source": [
    "[d for d in list(XRP_for_training.columns) if 'look_forward_' not in d]"
   ]
  },
  {
   "cell_type": "code",
   "execution_count": null,
   "metadata": {},
   "outputs": [],
   "source": []
  },
  {
   "cell_type": "code",
   "execution_count": 51,
   "metadata": {},
   "outputs": [],
   "source": [
    "properties = [\n",
    "#     'close',\n",
    "#  'date',\n",
    "#  'high',\n",
    "#  'low',\n",
    "#  'open',\n",
    "#  'quoteVolume',\n",
    " 'volume',\n",
    "#  'weightedAverage',\n",
    "#  'datetime_real',\n",
    " '3min_close_percent_dif',\n",
    " '4min_close_percent_dif',\n",
    " '5min_close_percent_dif',\n",
    " '10min_close_percent_dif',\n",
    " '15min_close_percent_dif',\n",
    " '20min_close_percent_dif',\n",
    " '1H_close_percent_dif',\n",
    " '2H_close_percent_dif',\n",
    " '4H_close_percent_dif',\n",
    " '12H_close_percent_dif',\n",
    " '24H_close_percent_dif',\n",
    " '2D_close_percent_dif',\n",
    " '3D_close_percent_dif',\n",
    " '4D_close_percent_dif',\n",
    " '5D_close_percent_dif',\n",
    " '10D_close_percent_dif',\n",
    " 'calculate_look_back_Percent_3min',\n",
    " 'calculate_look_back_Percent_4min',\n",
    " 'calculate_look_back_Percent_5min',\n",
    " 'calculate_look_back_Percent_10min',\n",
    " 'calculate_look_back_Percent_15min',\n",
    " 'calculate_look_back_Percent_20min',\n",
    " 'calculate_look_back_Percent_1H',\n",
    " 'calculate_look_back_Percent_2H',\n",
    " 'calculate_look_back_Percent_4H',\n",
    " 'calculate_look_back_Percent_12H',\n",
    " 'calculate_look_back_Percent_24H',\n",
    " 'calculate_look_back_Percent_2D',\n",
    " 'calculate_look_back_Percent_3D',\n",
    " 'calculate_look_back_Percent_4D',\n",
    " 'calculate_look_back_Percent_5D',\n",
    " 'calculate_look_back_Percent_10D',\n",
    " '3min_minus_4min',\n",
    " '3min_minus_5min',\n",
    " '3min_minus_10min',\n",
    " '3min_minus_15min',\n",
    " '3min_minus_20min',\n",
    " '3min_minus_1H',\n",
    " '3min_minus_2H',\n",
    " '3min_minus_4H',\n",
    " '3min_minus_12H',\n",
    " '3min_minus_24H',\n",
    " '3min_minus_2D',\n",
    " '3min_minus_3D',\n",
    " '3min_minus_4D',\n",
    " '3min_minus_5D',\n",
    " '3min_minus_10D',\n",
    " '4min_minus_5min',\n",
    " '4min_minus_10min',\n",
    " '4min_minus_15min',\n",
    " '4min_minus_20min',\n",
    " '4min_minus_1H',\n",
    " '4min_minus_2H',\n",
    " '4min_minus_4H',\n",
    " '4min_minus_12H',\n",
    " '4min_minus_24H',\n",
    " '4min_minus_2D',\n",
    " '4min_minus_3D',\n",
    " '4min_minus_4D',\n",
    " '4min_minus_5D',\n",
    " '4min_minus_10D',\n",
    " '5min_minus_10min',\n",
    " '5min_minus_15min',\n",
    " '5min_minus_20min',\n",
    " '5min_minus_1H',\n",
    " '5min_minus_2H',\n",
    " '5min_minus_4H',\n",
    " '5min_minus_12H',\n",
    " '5min_minus_24H',\n",
    " '5min_minus_2D',\n",
    " '5min_minus_3D',\n",
    " '5min_minus_4D',\n",
    " '5min_minus_5D',\n",
    " '5min_minus_10D',\n",
    " '10min_minus_15min',\n",
    " '10min_minus_20min',\n",
    " '10min_minus_1H',\n",
    " '10min_minus_2H',\n",
    " '10min_minus_4H',\n",
    " '10min_minus_12H',\n",
    " '10min_minus_24H',\n",
    " '10min_minus_2D',\n",
    " '10min_minus_3D',\n",
    " '10min_minus_4D',\n",
    " '10min_minus_5D',\n",
    " '10min_minus_10D',\n",
    " '15min_minus_20min',\n",
    " '15min_minus_1H',\n",
    " '15min_minus_2H',\n",
    " '15min_minus_4H',\n",
    " '15min_minus_12H',\n",
    " '15min_minus_24H',\n",
    " '15min_minus_2D',\n",
    " '15min_minus_3D',\n",
    " '15min_minus_4D',\n",
    " '15min_minus_5D',\n",
    " '15min_minus_10D',\n",
    " '20min_minus_1H',\n",
    " '20min_minus_2H',\n",
    " '20min_minus_4H',\n",
    " '20min_minus_12H',\n",
    " '20min_minus_24H',\n",
    " '20min_minus_2D',\n",
    " '20min_minus_3D',\n",
    " '20min_minus_4D',\n",
    " '20min_minus_5D',\n",
    " '20min_minus_10D',\n",
    " '1H_minus_2H',\n",
    " '1H_minus_4H',\n",
    " '1H_minus_12H',\n",
    " '1H_minus_24H',\n",
    " '1H_minus_2D',\n",
    " '1H_minus_3D',\n",
    " '1H_minus_4D',\n",
    " '1H_minus_5D',\n",
    " '1H_minus_10D',\n",
    " '2H_minus_4H',\n",
    " '2H_minus_12H',\n",
    " '2H_minus_24H',\n",
    " '2H_minus_2D',\n",
    " '2H_minus_3D',\n",
    " '2H_minus_4D',\n",
    " '2H_minus_5D',\n",
    " '2H_minus_10D',\n",
    " '4H_minus_12H',\n",
    " '4H_minus_24H',\n",
    " '4H_minus_2D',\n",
    " '4H_minus_3D',\n",
    " '4H_minus_4D',\n",
    " '4H_minus_5D',\n",
    " '4H_minus_10D',\n",
    " '12H_minus_24H',\n",
    " '12H_minus_2D',\n",
    " '12H_minus_3D',\n",
    " '12H_minus_4D',\n",
    " '12H_minus_5D',\n",
    " '12H_minus_10D',\n",
    " '24H_minus_2D',\n",
    " '24H_minus_3D',\n",
    " '24H_minus_4D',\n",
    " '24H_minus_5D',\n",
    " '24H_minus_10D',\n",
    " '2D_minus_3D',\n",
    " '2D_minus_4D',\n",
    " '2D_minus_5D',\n",
    " '2D_minus_10D',\n",
    " '3D_minus_4D',\n",
    " '3D_minus_5D',\n",
    " '3D_minus_10D',\n",
    " '4D_minus_5D',\n",
    " '4D_minus_10D',\n",
    " '5D_minus_10D']"
   ]
  },
  {
   "cell_type": "markdown",
   "metadata": {},
   "source": [
    "## split into target and properties"
   ]
  },
  {
   "cell_type": "code",
   "execution_count": 52,
   "metadata": {},
   "outputs": [],
   "source": [
    "from sklearn.metrics import accuracy_score\n",
    "from sklearn.model_selection import train_test_split\n",
    "from sklearn import tree\n",
    "from sklearn.tree import DecisionTreeClassifier"
   ]
  },
  {
   "cell_type": "code",
   "execution_count": 53,
   "metadata": {},
   "outputs": [],
   "source": [
    "from sklearn.externals.six import StringIO  \n",
    "from IPython.display import Image\n",
    "from sklearn.tree import export_graphviz\n",
    "import pydotplus\n",
    "\n",
    "import pydot"
   ]
  },
  {
   "cell_type": "code",
   "execution_count": 54,
   "metadata": {},
   "outputs": [],
   "source": [
    "from collections import Counter"
   ]
  },
  {
   "cell_type": "code",
   "execution_count": 55,
   "metadata": {},
   "outputs": [],
   "source": [
    "import math"
   ]
  },
  {
   "cell_type": "code",
   "execution_count": 56,
   "metadata": {},
   "outputs": [
    {
     "data": {
      "text/plain": [
       "Timestamp('2019-08-04 22:59:00')"
      ]
     },
     "execution_count": 56,
     "metadata": {},
     "output_type": "execute_result"
    }
   ],
   "source": [
    "within_target_02_profit['datetime_real'].max()"
   ]
  },
  {
   "cell_type": "code",
   "execution_count": 57,
   "metadata": {},
   "outputs": [],
   "source": [
    "target_y = within_target_02_profit[['Buy_In']].copy()"
   ]
  },
  {
   "cell_type": "code",
   "execution_count": 58,
   "metadata": {},
   "outputs": [],
   "source": [
    "train_x = within_target_02_profit[properties].copy()"
   ]
  },
  {
   "cell_type": "code",
   "execution_count": 59,
   "metadata": {},
   "outputs": [
    {
     "data": {
      "text/plain": [
       "Index(['volume', '3min_close_percent_dif', '4min_close_percent_dif',\n",
       "       '5min_close_percent_dif', '10min_close_percent_dif',\n",
       "       '15min_close_percent_dif', '20min_close_percent_dif',\n",
       "       '1H_close_percent_dif', '2H_close_percent_dif', '4H_close_percent_dif',\n",
       "       ...\n",
       "       '2D_minus_3D', '2D_minus_4D', '2D_minus_5D', '2D_minus_10D',\n",
       "       '3D_minus_4D', '3D_minus_5D', '3D_minus_10D', '4D_minus_5D',\n",
       "       '4D_minus_10D', '5D_minus_10D'],\n",
       "      dtype='object', length=153)"
      ]
     },
     "execution_count": 59,
     "metadata": {},
     "output_type": "execute_result"
    }
   ],
   "source": [
    "train_x.columns"
   ]
  },
  {
   "cell_type": "code",
   "execution_count": 60,
   "metadata": {},
   "outputs": [
    {
     "data": {
      "text/plain": [
       "Index(['Buy_In'], dtype='object')"
      ]
     },
     "execution_count": 60,
     "metadata": {},
     "output_type": "execute_result"
    }
   ],
   "source": [
    "target_y.columns"
   ]
  },
  {
   "cell_type": "code",
   "execution_count": null,
   "metadata": {},
   "outputs": [],
   "source": []
  },
  {
   "cell_type": "code",
   "execution_count": 61,
   "metadata": {},
   "outputs": [],
   "source": [
    "# X_train, X_test, y_train, y_test = train_test_split(train_x, target_y, test_size=0.33, random_state=324)"
   ]
  },
  {
   "cell_type": "code",
   "execution_count": 62,
   "metadata": {},
   "outputs": [],
   "source": [
    "X_train_order = train_x.iloc[:-math.floor(len(train_x)*0.2)]"
   ]
  },
  {
   "cell_type": "code",
   "execution_count": 63,
   "metadata": {},
   "outputs": [],
   "source": [
    "y_train_order = target_y.iloc[:-math.floor(len(target_y)*0.2)]"
   ]
  },
  {
   "cell_type": "code",
   "execution_count": null,
   "metadata": {},
   "outputs": [],
   "source": []
  },
  {
   "cell_type": "code",
   "execution_count": 64,
   "metadata": {},
   "outputs": [],
   "source": [
    "X_test_order = train_x.iloc[-math.floor(len(train_x)*0.2):]"
   ]
  },
  {
   "cell_type": "code",
   "execution_count": 65,
   "metadata": {},
   "outputs": [],
   "source": [
    "y_test_order = target_y.iloc[-math.floor(len(target_y)*0.2):]"
   ]
  },
  {
   "cell_type": "code",
   "execution_count": null,
   "metadata": {},
   "outputs": [],
   "source": []
  },
  {
   "cell_type": "code",
   "execution_count": null,
   "metadata": {},
   "outputs": [],
   "source": []
  },
  {
   "cell_type": "code",
   "execution_count": 66,
   "metadata": {},
   "outputs": [],
   "source": [
    "## XG Boost"
   ]
  },
  {
   "cell_type": "code",
   "execution_count": 67,
   "metadata": {},
   "outputs": [],
   "source": [
    "#X, y = data.iloc[:,:-1],data.iloc[:,-1]"
   ]
  },
  {
   "cell_type": "code",
   "execution_count": 68,
   "metadata": {},
   "outputs": [],
   "source": [
    "X, y = within_target_02_profit[properties].copy(), within_target_02_profit['Buy_In'].copy()"
   ]
  },
  {
   "cell_type": "code",
   "execution_count": 69,
   "metadata": {},
   "outputs": [],
   "source": [
    "data_dmatrix = xgb.DMatrix(data=X,label=y)"
   ]
  },
  {
   "cell_type": "markdown",
   "metadata": {},
   "source": [
    "from sklearn.model_selection import train_test_split\n",
    "\n",
    "X_train, X_test, y_train, y_test = train_test_split(X, y, test_size=0.2, random_state=123)"
   ]
  },
  {
   "cell_type": "code",
   "execution_count": 70,
   "metadata": {},
   "outputs": [],
   "source": [
    "X_train_order = X.iloc[:-math.floor(len(X)*0.2)]"
   ]
  },
  {
   "cell_type": "code",
   "execution_count": 71,
   "metadata": {},
   "outputs": [],
   "source": [
    "y_train_order = y.iloc[:-math.floor(len(y)*0.2)]"
   ]
  },
  {
   "cell_type": "code",
   "execution_count": 72,
   "metadata": {},
   "outputs": [],
   "source": [
    "X_test_order = X.iloc[-math.floor(len(X)*0.2):]"
   ]
  },
  {
   "cell_type": "code",
   "execution_count": 73,
   "metadata": {},
   "outputs": [],
   "source": [
    "y_test_order = y.iloc[-math.floor(len(y)*0.2):]"
   ]
  },
  {
   "cell_type": "code",
   "execution_count": null,
   "metadata": {},
   "outputs": [],
   "source": []
  },
  {
   "cell_type": "code",
   "execution_count": 74,
   "metadata": {},
   "outputs": [],
   "source": [
    "# plot decision tree\n",
    "# from numpy import loadtxt\n",
    "# from xgboost import XGBClassifier\n",
    "from xgboost import plot_tree\n",
    "\n",
    "# load data\n",
    "# dataset = loadtxt('pima-indians-diabetes.csv', delimiter=\",\")\n",
    "# split data into X and y\n",
    "# X = dataset[:,0:8]\n",
    "# y = dataset[:,8]\n",
    "# # fit model no training data\n",
    "# model = XGBClassifier()\n",
    "# model.fit(X, y)\n",
    "# plot single tree\n"
   ]
  },
  {
   "cell_type": "code",
   "execution_count": 75,
   "metadata": {},
   "outputs": [],
   "source": [
    "xg_reg = xgb.XGBClassifier().fit(X = X_train_order, y = y_train_order ) #reg:logistic for tree\n"
   ]
  },
  {
   "cell_type": "code",
   "execution_count": 76,
   "metadata": {},
   "outputs": [],
   "source": [
    "y_pred = xg_reg.predict(X_test_order)"
   ]
  },
  {
   "cell_type": "code",
   "execution_count": 77,
   "metadata": {},
   "outputs": [],
   "source": [
    "accuracy = accuracy_score(y_true = y_test_order, y_pred = y_pred)"
   ]
  },
  {
   "cell_type": "code",
   "execution_count": 78,
   "metadata": {},
   "outputs": [
    {
     "name": "stdout",
     "output_type": "stream",
     "text": [
      "0.5750259999133336\n"
     ]
    }
   ],
   "source": [
    "print(accuracy)"
   ]
  },
  {
   "cell_type": "code",
   "execution_count": 79,
   "metadata": {},
   "outputs": [
    {
     "data": {
      "text/plain": [
       "<matplotlib.axes._subplots.AxesSubplot at 0x1f15d4832e8>"
      ]
     },
     "execution_count": 79,
     "metadata": {},
     "output_type": "execute_result"
    },
    {
     "data": {
      "image/png": "[encoded data removed]",
      "text/plain": [
       "<Figure size 432x288 with 1 Axes>"
      ]
     },
     "metadata": {
      "needs_background": "light"
     },
     "output_type": "display_data"
    }
   ],
   "source": [
    "plot_tree(xg_reg)"
   ]
  },
  {
   "cell_type": "code",
   "execution_count": 80,
   "metadata": {},
   "outputs": [
    {
     "data": {
      "image/png": "[encoded data removed]",
      "text/plain": [
       "<Figure size 2880x4320 with 1 Axes>"
      ]
     },
     "metadata": {
      "needs_background": "light"
     },
     "output_type": "display_data"
    }
   ],
   "source": [
    "fig, ax = plt.subplots(figsize=(40, 60))\n",
    "xgb.plot_tree(xg_reg, num_trees=10, ax=ax)\n",
    "plt.show()"
   ]
  },
  {
   "cell_type": "code",
   "execution_count": 81,
   "metadata": {},
   "outputs": [
    {
     "data": {
      "text/plain": [
       "<BarContainer object of 153 artists>"
      ]
     },
     "execution_count": 81,
     "metadata": {},
     "output_type": "execute_result"
    },
    {
     "data": {
      "image/png": "[encoded data removed]",
      "text/plain": [
       "<Figure size 2160x720 with 1 Axes>"
      ]
     },
     "metadata": {
      "needs_background": "light"
     },
     "output_type": "display_data"
    }
   ],
   "source": [
    "plt.figure(figsize=(30,10)).show()\n",
    "plt.bar(range(len(xg_reg.feature_importances_)), xg_reg.feature_importances_ )\n"
   ]
  },
  {
   "cell_type": "code",
   "execution_count": 82,
   "metadata": {},
   "outputs": [
    {
     "data": {
      "text/plain": [
       "Index(['volume', '3min_close_percent_dif', '4min_close_percent_dif',\n",
       "       '5min_close_percent_dif', '10min_close_percent_dif',\n",
       "       '15min_close_percent_dif', '20min_close_percent_dif',\n",
       "       '1H_close_percent_dif', '2H_close_percent_dif', '4H_close_percent_dif',\n",
       "       ...\n",
       "       '2D_minus_3D', '2D_minus_4D', '2D_minus_5D', '2D_minus_10D',\n",
       "       '3D_minus_4D', '3D_minus_5D', '3D_minus_10D', '4D_minus_5D',\n",
       "       '4D_minus_10D', '5D_minus_10D'],\n",
       "      dtype='object', length=153)"
      ]
     },
     "execution_count": 82,
     "metadata": {},
     "output_type": "execute_result"
    }
   ],
   "source": [
    "X_train_order.columns"
   ]
  },
  {
   "cell_type": "code",
   "execution_count": 86,
   "metadata": {},
   "outputs": [
    {
     "data": {
      "text/plain": [
       "<matplotlib.axes._subplots.AxesSubplot at 0x1f16860bcc0>"
      ]
     },
     "execution_count": 86,
     "metadata": {},
     "output_type": "execute_result"
    },
    {
     "data": {
      "image/png": "[encoded data removed]",
      "text/plain": [
       "<Figure size 2880x720 with 1 Axes>"
      ]
     },
     "metadata": {
      "needs_background": "light"
     },
     "output_type": "display_data"
    }
   ],
   "source": [
    "pd.DataFrame([X_train_order.columns, xg_reg.feature_importances_]).T.set_index(0).plot.bar(figsize = (40,10))"
   ]
  },
  {
   "cell_type": "code",
   "execution_count": null,
   "metadata": {},
   "outputs": [],
   "source": []
  },
  {
   "cell_type": "code",
   "execution_count": null,
   "metadata": {},
   "outputs": [],
   "source": []
  },
  {
   "cell_type": "markdown",
   "metadata": {},
   "source": [
    "### memory reduction\n",
    "\n",
    "memory_X_to_train = X_train_order.iloc[:5,:5]\n",
    "\n",
    "memory_y_to_train = y_train_order[:5]\n",
    "\n",
    "memory_X_to_test = X_test_order.iloc[:5,:5]\n",
    "memory_y_to_test = y_test_order[:5]\n",
    "\n",
    "xg_reg.fit(memory_X_to_train, memory_y_to_train)\n",
    "\n",
    "preds = xg_reg.predict(memory_X_to_test)\n",
    "\n",
    "memory_y_to_test\n",
    "\n",
    "preds\n",
    "\n",
    "accu_sc = accuracy_score(y_true = memory_y_to_test, y_pred = preds)\n",
    "print(\"RMSE: %f\" % (accu_sc))"
   ]
  },
  {
   "cell_type": "code",
   "execution_count": null,
   "metadata": {},
   "outputs": [],
   "source": []
  },
  {
   "cell_type": "code",
   "execution_count": null,
   "metadata": {},
   "outputs": [],
   "source": []
  },
  {
   "cell_type": "code",
   "execution_count": null,
   "metadata": {},
   "outputs": [],
   "source": []
  },
  {
   "cell_type": "code",
   "execution_count": null,
   "metadata": {},
   "outputs": [],
   "source": []
  },
  {
   "cell_type": "code",
   "execution_count": 84,
   "metadata": {},
   "outputs": [],
   "source": [
    "## Decision Tree"
   ]
  },
  {
   "cell_type": "markdown",
   "metadata": {},
   "source": [
    "buy_in_decision_classifier = DecisionTreeClassifier(max_leaf_nodes=10, random_state=0)\n",
    "buy_in_decision_classifier.fit(X_train_order, y_train_order)\n",
    "\n",
    "predictions = buy_in_decision_classifier.predict(X_test_order)\n",
    "\n",
    "accuracy_score(y_true = y_test_order, y_pred = predictions)\n",
    "\n",
    "for node in [2,3,4,5,6,8,10,12,15,20,25,30]:\n",
    "    for state_rand in [0,1,42,235,1995]:\n",
    "        buy_in_decision_classifier = DecisionTreeClassifier(max_leaf_nodes=node, random_state=state_rand)\n",
    "        buy_in_decision_classifier.fit(X_train_order, y_train_order)\n",
    "\n",
    "        predictions = buy_in_decision_classifier.predict(X_test_order)\n",
    "\n",
    "        print('node' , node, 'accuracy', accuracy_score(y_true = y_test_order, y_pred = predictions) , 'sate' , state_rand) \n",
    "\n",
    "\n",
    "\n",
    "#1\n",
    "\n",
    "node = 8\n",
    "state_rand = 0  #,1,42,235,1995]:\n",
    "buy_in_decision_classifier = DecisionTreeClassifier(max_leaf_nodes=node, random_state=state_rand)\n",
    "buy_in_decision_classifier.fit(X_train_order, y_train_order)\n",
    "\n",
    "predictions = buy_in_decision_classifier.predict(X_test_order)\n",
    "\n",
    "print(accuracy_score(y_true = y_test_order, y_pred = predictions) , 'sate' , state_rand) "
   ]
  },
  {
   "cell_type": "code",
   "execution_count": null,
   "metadata": {},
   "outputs": [],
   "source": []
  },
  {
   "cell_type": "code",
   "execution_count": 85,
   "metadata": {},
   "outputs": [
    {
     "ename": "TypeError",
     "evalue": "predict() missing 1 required positional argument: 'data'",
     "output_type": "error",
     "traceback": [
      "\u001b[1;31m---------------------------------------------------------------------------\u001b[0m",
      "\u001b[1;31mTypeError\u001b[0m                                 Traceback (most recent call last)",
      "\u001b[1;32m<ipython-input-85-e3f90c62ea4c>\u001b[0m in \u001b[0;36m<module>\u001b[1;34m\u001b[0m\n\u001b[1;32m----> 1\u001b[1;33m \u001b[0mxg_reg\u001b[0m\u001b[1;33m.\u001b[0m\u001b[0mpredict\u001b[0m\u001b[1;33m(\u001b[0m\u001b[1;33m)\u001b[0m\u001b[1;33m\u001b[0m\u001b[1;33m\u001b[0m\u001b[0m\n\u001b[0m",
      "\u001b[1;31mTypeError\u001b[0m: predict() missing 1 required positional argument: 'data'"
     ]
    }
   ],
   "source": [
    "xg_reg.predict()"
   ]
  },
  {
   "cell_type": "code",
   "execution_count": null,
   "metadata": {},
   "outputs": [],
   "source": [
    "Counter(predictions)"
   ]
  },
  {
   "cell_type": "code",
   "execution_count": null,
   "metadata": {},
   "outputs": [],
   "source": [
    "Counter(y_test_order['Buy_In'])"
   ]
  },
  {
   "cell_type": "code",
   "execution_count": null,
   "metadata": {},
   "outputs": [],
   "source": [
    "predictions"
   ]
  },
  {
   "cell_type": "code",
   "execution_count": null,
   "metadata": {},
   "outputs": [],
   "source": [
    "dot_data = StringIO()\n",
    "export_graphviz(buy_in_decision_classifier,\n",
    "                feature_names=list(X_train_order.columns),\n",
    "                out_file=dot_data,  \n",
    "                filled=True, rounded=True,\n",
    "                special_characters=True)"
   ]
  },
  {
   "cell_type": "code",
   "execution_count": null,
   "metadata": {},
   "outputs": [],
   "source": [
    "graph = pydotplus.graph_from_dot_data(dot_data.getvalue())  "
   ]
  },
  {
   "cell_type": "code",
   "execution_count": null,
   "metadata": {},
   "outputs": [],
   "source": [
    "graph.write_png(\"tree.png\")\n"
   ]
  },
  {
   "cell_type": "code",
   "execution_count": null,
   "metadata": {},
   "outputs": [],
   "source": [
    "Image(graph.create_png())"
   ]
  },
  {
   "cell_type": "code",
   "execution_count": null,
   "metadata": {},
   "outputs": [],
   "source": []
  },
  {
   "cell_type": "markdown",
   "metadata": {},
   "source": [
    "## Testing theory"
   ]
  },
  {
   "cell_type": "code",
   "execution_count": null,
   "metadata": {},
   "outputs": [],
   "source": [
    "XRP_for_testing.head()"
   ]
  },
  {
   "cell_type": "code",
   "execution_count": null,
   "metadata": {},
   "outputs": [],
   "source": [
    "XRP_for_testing[['close_price','datetime_real']].set_index('datetime_real').plot()"
   ]
  },
  {
   "cell_type": "code",
   "execution_count": null,
   "metadata": {},
   "outputs": [],
   "source": [
    "section_period = {  '3min': 3,\n",
    "                    '4min': 4,\n",
    "                    '5min': 5,\n",
    "                    '10min': 10,\n",
    "                    '15min': 15,\n",
    "                    '20min': 20,\n",
    "                    '25min': 25,\n",
    "                    '30min': 30,\n",
    "                    '35min': 35,\n",
    "                    '40min': 40,\n",
    "                    '45min': 45,\n",
    "                    '50min': 50,\n",
    "                    '55min': 55,\n",
    "                    '1H': 60,\n",
    "                    '2H': 120,\n",
    "                    '4H': 240,\n",
    "                    '12H': 720,\n",
    "                    '24H': 1440,\n",
    "                    '2D': 2880,\n",
    "                    '3D': 4320,\n",
    "                    '4D': 5760,\n",
    "                    '5D': 7200,\n",
    "                    '10D': 14400}"
   ]
  },
  {
   "cell_type": "code",
   "execution_count": null,
   "metadata": {},
   "outputs": [],
   "source": [
    "for k,v in section_period.items():\n",
    "    XRP_for_testing['{0}_RA_on_Close'.format(k)] = XRP_for_testing['close_price'].rolling(v).mean()"
   ]
  },
  {
   "cell_type": "code",
   "execution_count": null,
   "metadata": {},
   "outputs": [],
   "source": [
    "compare_sequence = {}"
   ]
  },
  {
   "cell_type": "code",
   "execution_count": null,
   "metadata": {},
   "outputs": [],
   "source": [
    "for col_1 in [d for d in XRP_for_testing.columns if '_RA_on_Close' in d]:\n",
    "    for col_2 in [d for d in XRP_for_testing.columns if '_RA_on_Close' in d]:\n",
    "        temp_1 = col_1.split('_RA_on_Close')[0]\n",
    "        temp_2 = col_2.split('_RA_on_Close')[0]\n",
    "        if temp_1 != temp_2:\n",
    "            if ((temp_1 + '_minus_' + temp_2) not in compare_sequence.keys() and (temp_2 + '_minus_' + temp_1) not in compare_sequence.keys() ):\n",
    "                compare_sequence.update({temp_1 + '_minus_' + temp_2 : [col_1, col_2]})"
   ]
  },
  {
   "cell_type": "code",
   "execution_count": null,
   "metadata": {},
   "outputs": [],
   "source": [
    "for k, val in compare_sequence.items():\n",
    "    XRP_for_testing[k] = (XRP_for_testing[val[0]] - XRP_for_testing[val[1]])/XRP_for_testing[val[1]] \n",
    "#     print(k, val[0], val[1])"
   ]
  },
  {
   "cell_type": "code",
   "execution_count": null,
   "metadata": {},
   "outputs": [],
   "source": [
    "for col in [d for d in XRP_for_testing.columns if '_RA_on_Close' in d]:\n",
    "    XRP_for_testing[col] = XRP_for_testing[col].shift(1)\n",
    "    \n",
    "    XRP_for_testing['{0}_close_percent_dif'.format(col.split('_RA_on_Close')[0])] = (XRP_for_testing['close_price']-XRP_for_testing[col])/XRP_for_testing[col] "
   ]
  },
  {
   "cell_type": "code",
   "execution_count": null,
   "metadata": {},
   "outputs": [],
   "source": [
    "for k,v in section_period.items():\n",
    "    print(k,v)\n",
    "    XRP_for_testing['look_back_{}'.format(k)] = XRP_for_testing['close_price'].shift(v)   # i.e. 20min ago, this is what the close price is\n",
    "#     XRP_for_testing['look_forward_{}'.format(k)] = XRP_for_testing['close'].shift(-v)  # i.e. 20min later, the close price is\n",
    "\n",
    "\n",
    "for k,v in section_period.items():\n",
    "    print(k,v)\n",
    "    XRP_for_testing['calculate_look_back_Percent_{}'.format(k)]    = 100*(XRP_for_testing['close_price'] - XRP_for_testing['look_back_{}'.format(k)])/(5*v)\n",
    "#     XRP_for_testing['calculate_look_forward_Percent_{}'.format(k)] =  100*(XRP_for_testing['look_forward_{}'.format(k)] - XRP_for_testing['close'])/(5*v)"
   ]
  },
  {
   "cell_type": "code",
   "execution_count": null,
   "metadata": {},
   "outputs": [],
   "source": []
  },
  {
   "cell_type": "code",
   "execution_count": null,
   "metadata": {},
   "outputs": [],
   "source": [
    "## FInd out WHY:\n",
    "- XRP_for_testing_drop_na[properties].dropna() is different to XRP_for_testing.dropna()"
   ]
  },
  {
   "cell_type": "code",
   "execution_count": null,
   "metadata": {},
   "outputs": [],
   "source": []
  },
  {
   "cell_type": "code",
   "execution_count": null,
   "metadata": {},
   "outputs": [],
   "source": []
  },
  {
   "cell_type": "code",
   "execution_count": null,
   "metadata": {},
   "outputs": [],
   "source": [
    "XRP_for_testing_drop_na = XRP_for_testing.dropna()"
   ]
  },
  {
   "cell_type": "code",
   "execution_count": null,
   "metadata": {},
   "outputs": [],
   "source": [
    "Counter(xg_reg.predict(XRP_for_testing_drop_na[properties]))"
   ]
  },
  {
   "cell_type": "code",
   "execution_count": null,
   "metadata": {},
   "outputs": [],
   "source": [
    "#(buy_in_decision_classifier.predict(XRP_for_testing[properties].dropna()))"
   ]
  },
  {
   "cell_type": "code",
   "execution_count": null,
   "metadata": {},
   "outputs": [],
   "source": []
  },
  {
   "cell_type": "code",
   "execution_count": null,
   "metadata": {},
   "outputs": [],
   "source": [
    "len(XRP_for_testing.dropna())"
   ]
  },
  {
   "cell_type": "code",
   "execution_count": null,
   "metadata": {},
   "outputs": [],
   "source": [
    "len(XRP_for_testing_drop_na)"
   ]
  },
  {
   "cell_type": "code",
   "execution_count": null,
   "metadata": {},
   "outputs": [],
   "source": [
    "len(XRP_for_testing.dropna())"
   ]
  },
  {
   "cell_type": "code",
   "execution_count": null,
   "metadata": {},
   "outputs": [],
   "source": [
    "len(xg_reg.predict(XRP_for_testing_drop_na[properties]))"
   ]
  },
  {
   "cell_type": "code",
   "execution_count": null,
   "metadata": {},
   "outputs": [],
   "source": []
  },
  {
   "cell_type": "code",
   "execution_count": null,
   "metadata": {},
   "outputs": [],
   "source": [
    "### Continus increases:"
   ]
  },
  {
   "cell_type": "code",
   "execution_count": null,
   "metadata": {},
   "outputs": [],
   "source": [
    "XRP_for_testing_drop_na.head()"
   ]
  },
  {
   "cell_type": "code",
   "execution_count": null,
   "metadata": {},
   "outputs": [],
   "source": []
  },
  {
   "cell_type": "code",
   "execution_count": null,
   "metadata": {},
   "outputs": [],
   "source": [
    "len(xg_reg.predict(XRP_for_testing_drop_na[properties]))"
   ]
  },
  {
   "cell_type": "code",
   "execution_count": null,
   "metadata": {},
   "outputs": [],
   "source": [
    "len(XRP_for_testing_drop_na)"
   ]
  },
  {
   "cell_type": "code",
   "execution_count": null,
   "metadata": {},
   "outputs": [],
   "source": [
    "XRP_for_testing_drop_na['Buy_from_decision_tree'] = xg_reg.predict(XRP_for_testing_drop_na[properties])"
   ]
  },
  {
   "cell_type": "code",
   "execution_count": null,
   "metadata": {},
   "outputs": [],
   "source": [
    "time_event = {}\n",
    "starting_asset = 100\n",
    "bought_crypto = False\n",
    "over_write = False\n",
    "\n",
    "gold_available = starting_asset \n",
    "XRP_amount = 0\n",
    "\n",
    "stop_loss_limit = -0.02\n",
    "\n",
    "overwrite_sell = 0.03\n",
    "wait_15min_sell_activate = False"
   ]
  },
  {
   "cell_type": "code",
   "execution_count": null,
   "metadata": {},
   "outputs": [],
   "source": []
  },
  {
   "cell_type": "code",
   "execution_count": null,
   "metadata": {},
   "outputs": [],
   "source": []
  },
  {
   "cell_type": "code",
   "execution_count": null,
   "metadata": {},
   "outputs": [],
   "source": []
  },
  {
   "cell_type": "code",
   "execution_count": null,
   "metadata": {},
   "outputs": [],
   "source": [
    "XRP_for_testing_drop_na.head()"
   ]
  },
  {
   "cell_type": "code",
   "execution_count": null,
   "metadata": {},
   "outputs": [],
   "source": [
    "XRP_for_testing_drop_na[2:].head()['timestamp_UTC'].values[0]"
   ]
  },
  {
   "cell_type": "code",
   "execution_count": null,
   "metadata": {},
   "outputs": [],
   "source": [
    "overwrite_track_price_10min_ago = 1566687720.0\n",
    "overwrite_track_time_10min_ago = 0.27265"
   ]
  },
  {
   "cell_type": "code",
   "execution_count": null,
   "metadata": {},
   "outputs": [],
   "source": []
  },
  {
   "cell_type": "code",
   "execution_count": 199,
   "metadata": {},
   "outputs": [],
   "source": [
    "for ind, df in XRP_for_testing_drop_na[2:].iterrows():\n",
    "    print(df['timestamp_UTC'])\n",
    "\n",
    "    try:\n",
    "        overwrite_track_price_10min_ago = XRP_for_testing_drop_na[XRP_for_testing_drop_na['timestamp_UTC'] == (df['timestamp_UTC'] - 600)]['timestamp_UTC'].values[0]\n",
    "        overwrite_track_time_10min_ago = XRP_for_testing_drop_na[XRP_for_testing_drop_na['timestamp_UTC'] == (df['timestamp_UTC'] - 600)]['close_price'].values[0]\n",
    "    except:\n",
    "        None\n",
    "    if bought_crypto != True: # then looking to buy at drop limit or lower\n",
    "        if (overwrite_track_time_10min_ago - df['close_price'])/overwrite_track_time_10min_ago > 0.1:\n",
    "            print(\"manual overwrite 10% sharp drop\")\n",
    "            \n",
    "            XRP_amount += (gold_available/df['close_price']) * 0.998 # due to 0.2% fee\n",
    "\n",
    "            gold_available -= gold_available\n",
    "\n",
    "            time_event.update({df['timestamp_UTC']  : ( gold_available, XRP_amount , 'brought' , df['close_price'])})\n",
    "\n",
    "            last_xrp_traction_price =  df['close_price']\n",
    "\n",
    "            bought_crypto = True\n",
    "            over_write = True\n",
    "            \n",
    "            over_write_time = df['timestamp_UTC']\n",
    "            \n",
    "            latest_bought_crypto_timestamp = df['datetime_real']\n",
    "            \n",
    "            print(over_write_time, over_write )\n",
    "            \n",
    "            \n",
    "        \n",
    "        \n",
    "        elif df['Buy_from_decision_tree'] and over_write == False: \n",
    "            \"then buy crypto\"\n",
    "\n",
    "            XRP_amount += (gold_available/df['close_price']) * 0.998 # due to 0.2% fee\n",
    "\n",
    "            gold_available -= gold_available\n",
    "\n",
    "            time_event.update({df['timestamp_UTC']  : ( gold_available, XRP_amount , 'brought' , df['close_price'])})\n",
    "\n",
    "            last_xrp_traction_price =  df['close_price']\n",
    "\n",
    "            bought_crypto = True\n",
    "\n",
    "            latest_bought_crypto_timestamp = df['timestamp_UTC']\n",
    "            #print('last_xrp_traction_price ', last_xrp_traction_price)\n",
    "\n",
    "    else:\n",
    "        if (overwrite_track_time_10min_ago - df['close_price'])/overwrite_track_time_10min_ago > 0.1: #overwrite sell\n",
    "            wait_15min_sell_activate = True\n",
    "            over_write_price = df['close_price']\n",
    "            over_write_time = df['timestamp_UTC']\n",
    "            print(\"overwrite\")\n",
    "            \n",
    "        if wait_15min_sell_activate == False:\n",
    "            \n",
    "            if bought_crypto and over_write == False: # has crypto, either wait or sell at stoploss or profit\n",
    "\n",
    "#                 if (df['close'] - last_xrp_traction_price ) / last_xrp_traction_price <= stop_loss_limit: # then hit stop loss, force sell\n",
    "\n",
    "#                     #print('stoppppppppppppppppppppppppp')\n",
    "#                     gold_available += XRP_amount * df['low'] * 0.998  # sell at low price\n",
    "\n",
    "#                     XRP_amount -= XRP_amount\n",
    "\n",
    "#                     time_event.update({df['date']  : ( gold_available, XRP_amount , 'stop_loss_hit' ,  df['low'])})\n",
    "\n",
    "#                     bought_crypto = False\n",
    "\n",
    "\n",
    "                if df['timestamp_UTC'] - latest_bought_crypto_timestamp > 172800 * 5:\n",
    "\n",
    "                    gold_available += XRP_amount * df['close_price'] * 0.998  # sell at low price\n",
    "\n",
    "                    XRP_amount -= XRP_amount\n",
    "\n",
    "                    time_event.update({df['timestamp_UTC']  : ( gold_available, XRP_amount , 'time_stop' ,  df['close_price'])})\n",
    "\n",
    "                    bought_crypto = False\n",
    "\n",
    "\n",
    "                elif (df['close_price'] - last_xrp_traction_price)/df['close_price'] >= 0.005:\n",
    "\n",
    "                    gold_available += XRP_amount * df['close_price'] * 0.998  # sell at low price\n",
    "\n",
    "                    XRP_amount -= XRP_amount\n",
    "\n",
    "                    time_event.update({df['timestamp_UTC']  : ( gold_available, XRP_amount , 'sell' ,  df['close_price'])})\n",
    "\n",
    "                    bought_crypto = False\n",
    "\n",
    "\n",
    "            elif bought_crypto and over_write:\n",
    "                if (df['close_price'] - last_xrp_traction_price)/df['close_price'] >= overwrite_sell:\n",
    "\n",
    "                    gold_available += XRP_amount * df['close_price'] * 0.998  # sell at low price\n",
    "                    XRP_amount -= XRP_amount\n",
    "\n",
    "                    time_event.update({df['timestamp_UTC']  : ( gold_available, XRP_amount , 'sell_overwrite' ,  df['close_price'])})\n",
    "\n",
    "                    bought_crypto = False\n",
    "                    over_write = False\n",
    "\n",
    "\n",
    "                elif df['timestamp_UTC'] - over_write_time >= 900: # 15minute overwrite times\n",
    "\n",
    "                    gold_available += XRP_amount * df['close_price'] * 0.998  # sell at low price\n",
    "                    XRP_amount -= XRP_amount\n",
    "\n",
    "                    time_event.update({df['close_price']  : ( gold_available, XRP_amount , 'time_overwrite_pass' ,  df['close_price'])})\n",
    "\n",
    "                    bought_crypto = False\n",
    "                    over_write = False\n",
    "\n",
    "                \n",
    "                    \n",
    "        else: #overwrite stop loss\n",
    "            print('activate overwrite stop loss')\n",
    "            if (df['close_price'] - over_write_price)/df['close_price'] >= overwrite_sell:\n",
    "                \n",
    "                gold_available += XRP_amount * df['close_price'] * 0.998  # sell at low price\n",
    "                XRP_amount -= XRP_amount\n",
    "\n",
    "                time_event.update({df['timestamp_UTC']  : ( gold_available, XRP_amount , 'sell_overwrite_stop_loss' ,  df['close_price'])})\n",
    "\n",
    "                bought_crypto = False\n",
    "                over_write = False\n",
    "                wait_15min_sell_activate = False\n",
    "                \n",
    "            \n",
    "            elif df['timestamp_UTC'] - over_write_time >= 900: # 15minute overwrite times\n",
    "\n",
    "                gold_available += XRP_amount * df['close_price'] * 0.998  # sell at low price\n",
    "                XRP_amount -= XRP_amount\n",
    "\n",
    "                time_event.update({df['close_price']  : ( gold_available, XRP_amount , 'time_overwrite_pass_stop_losee' ,  df['close_price'])})\n",
    "\n",
    "                bought_crypto = False\n",
    "                over_write = False\n",
    "                wait_15min_sell_activate = False\n",
    "                \n",
    "    clear_output()"
   ]
  },
  {
   "cell_type": "code",
   "execution_count": 200,
   "metadata": {},
   "outputs": [],
   "source": [
    "transation_log = pd.DataFrame.from_dict(time_event, orient='index', columns= ['Gold', 'XRP_Amount', 'action', 'price_action_happened'])\n",
    "\n",
    "transation_log['datetime_real'] = [datetime.fromtimestamp(d) for d in transation_log.index]\n",
    "\n",
    "transation_log['USD'] = round(transation_log['Gold'], 2)\n",
    "\n",
    "transation_log['XRP_Amount'] = round(transation_log['XRP_Amount'], 4)"
   ]
  },
  {
   "cell_type": "code",
   "execution_count": 201,
   "metadata": {},
   "outputs": [
    {
     "data": {
      "text/html": [
       "<div>\n",
       "<style scoped>\n",
       "    .dataframe tbody tr th:only-of-type {\n",
       "        vertical-align: middle;\n",
       "    }\n",
       "\n",
       "    .dataframe tbody tr th {\n",
       "        vertical-align: top;\n",
       "    }\n",
       "\n",
       "    .dataframe thead th {\n",
       "        text-align: right;\n",
       "    }\n",
       "</style>\n",
       "<table border=\"1\" class=\"dataframe\">\n",
       "  <thead>\n",
       "    <tr style=\"text-align: right;\">\n",
       "      <th></th>\n",
       "      <th>Gold</th>\n",
       "      <th>XRP_Amount</th>\n",
       "      <th>action</th>\n",
       "      <th>price_action_happened</th>\n",
       "      <th>datetime_real</th>\n",
       "      <th>USD</th>\n",
       "    </tr>\n",
       "  </thead>\n",
       "  <tbody>\n",
       "    <tr>\n",
       "      <th>1.567644e+09</th>\n",
       "      <td>92.205686</td>\n",
       "      <td>0.0</td>\n",
       "      <td>time_stop</td>\n",
       "      <td>0.25840</td>\n",
       "      <td>2019-09-05 01:39:00</td>\n",
       "      <td>92.21</td>\n",
       "    </tr>\n",
       "    <tr>\n",
       "      <th>1.569352e+09</th>\n",
       "      <td>71.978578</td>\n",
       "      <td>0.0</td>\n",
       "      <td>sell_overwrite_stop_loss</td>\n",
       "      <td>0.22674</td>\n",
       "      <td>2019-09-24 20:06:00</td>\n",
       "      <td>71.98</td>\n",
       "    </tr>\n",
       "  </tbody>\n",
       "</table>\n",
       "</div>"
      ],
      "text/plain": [
       "                   Gold  XRP_Amount                    action  \\\n",
       "1.567644e+09  92.205686         0.0                 time_stop   \n",
       "1.569352e+09  71.978578         0.0  sell_overwrite_stop_loss   \n",
       "\n",
       "              price_action_happened       datetime_real    USD  \n",
       "1.567644e+09                0.25840 2019-09-05 01:39:00  92.21  \n",
       "1.569352e+09                0.22674 2019-09-24 20:06:00  71.98  "
      ]
     },
     "execution_count": 201,
     "metadata": {},
     "output_type": "execute_result"
    }
   ],
   "source": [
    "transation_log[(transation_log['action'] != 'brought') & (transation_log['action'] != 'sell')]"
   ]
  },
  {
   "cell_type": "code",
   "execution_count": null,
   "metadata": {},
   "outputs": [],
   "source": []
  },
  {
   "cell_type": "code",
   "execution_count": 202,
   "metadata": {},
   "outputs": [
    {
     "data": {
      "text/plain": [
       "<matplotlib.axes._subplots.AxesSubplot at 0x1cb4fb18d30>"
      ]
     },
     "execution_count": 202,
     "metadata": {},
     "output_type": "execute_result"
    },
    {
     "data": {
      "image/png": "[encoded data removed]",
      "text/plain": [
       "<Figure size 1440x720 with 1 Axes>"
      ]
     },
     "metadata": {
      "needs_background": "light"
     },
     "output_type": "display_data"
    }
   ],
   "source": [
    "transation_log[transation_log['action'] != 'brought'].set_index('datetime_real')[['USD']].plot(figsize = (20,10))"
   ]
  },
  {
   "cell_type": "code",
   "execution_count": null,
   "metadata": {},
   "outputs": [],
   "source": []
  },
  {
   "cell_type": "markdown",
   "metadata": {},
   "source": [
    "## Final result visualisation"
   ]
  },
  {
   "cell_type": "code",
   "execution_count": 203,
   "metadata": {},
   "outputs": [],
   "source": [
    "def plotting_view(xrp_data_input , trading_log ):\n",
    "\n",
    "#     ploting_breakdown = XRP_Analysis_table[(XRP_Analysis_table['date'] >= 1507374600 ) &\n",
    "#                                            (XRP_Analysis_table['date'] <= 1511274300 )]\n",
    "\n",
    "\n",
    "    transaction_display = trading_log\n",
    "    transaction_display['time_start'] = transaction_display.index\n",
    "    transaction_display['time_end'] = round(transaction_display['time_start'].shift(-1), 0)\n",
    "\n",
    "    transaction_display['action_to_color'] = transaction_display['action'].shift(-1)\n",
    "\n",
    "    transaction_display['colour_section'] = transaction_display['action_to_color'].apply(lambda x: 'black' if x == 'stop_loss_hit' else 'blue' if x == 'time_stop' else 'g')\n",
    "#     transaction_display['colour_section'] = transaction_display['action_to_color'].apply(lambda x: 'o' if x == 'time_stop' else x)\n",
    "    \n",
    "    ploting_breakdown = xrp_data_input\n",
    "    plt.figure(figsize= (20,10))\n",
    "\n",
    "\n",
    "#     tran_y_low = ploting_breakdown['low']\n",
    "#     tran_y_high = ploting_breakdown['high']\n",
    "    tran_y_close = ploting_breakdown['close_price']\n",
    "\n",
    "#     tran_y_ra = ploting_breakdown['20min_RA_on_Close']\n",
    "\n",
    "    tran_x = ploting_breakdown['timestamp_UTC']\n",
    "\n",
    "\n",
    "#     plt.plot(tran_x, tran_y_low)\n",
    "#     plt.plot(tran_x, tran_y_high)\n",
    "    plt.plot(tran_x, tran_y_close)\n",
    "\n",
    "#     plt.plot(tran_x, tran_y_ra)\n",
    "\n",
    "    graph_min = ploting_breakdown['close_price'].min() * 0.95\n",
    "    graph_max = ploting_breakdown['close_price'].max() * 1.05\n",
    "\n",
    "    # plotting transaction\n",
    "    for ind, value in transaction_display[ (transaction_display['time_start'] <= ploting_breakdown['timestamp_UTC'].max()) &\n",
    "                                           (transaction_display['time_start'] >= ploting_breakdown['timestamp_UTC'].min()) &                      \n",
    "                                           (transaction_display['action'] == 'brought')].iterrows():\n",
    "\n",
    "        plt.axvspan(value['time_start'], value['time_end'], alpha = 0.1 , facecolor = value['colour_section'])\n",
    "\n",
    "        plt.vlines(value['time_start'], graph_min, graph_max, alpha = 0.4, color = value['colour_section'])\n",
    "        plt.vlines(value['time_end'], graph_min, graph_max, alpha = 0.4, color = value['colour_section'], linestyle = 'dashed')\n",
    "\n",
    "\n",
    "    # for ind, value in ploting_breakdown[ploting_breakdown['Increase_0.5_percent'] <= ploting_breakdown['date'].max()].iterrows():\n",
    "    # #     print(value['Increase_0.5_percent'])\n",
    "    # #     plt.vlines(value['date'], 0, 1, alpha = 0.2, color = 'b',linestyle = 'dashed')\n",
    "    #     plt.vlines(value['Increase_0.5_percent'], 0, 1, alpha = 0.2, color = 'b',linestyle = 'dashed')\n",
    "\n",
    "\n",
    "    plt.ylim(graph_min, graph_max )\n",
    "\n",
    "    plt.xlim(ploting_breakdown['timestamp_UTC'].min(), ploting_breakdown['timestamp_UTC'].max())\n",
    "    plt.legend()"
   ]
  },
  {
   "cell_type": "code",
   "execution_count": null,
   "metadata": {},
   "outputs": [],
   "source": []
  },
  {
   "cell_type": "code",
   "execution_count": 204,
   "metadata": {},
   "outputs": [
    {
     "ename": "KeyError",
     "evalue": "\"None of [Index(['close', 'date'], dtype='object')] are in the [columns]\"",
     "output_type": "error",
     "traceback": [
      "\u001b[1;31m---------------------------------------------------------------------------\u001b[0m",
      "\u001b[1;31mKeyError\u001b[0m                                  Traceback (most recent call last)",
      "\u001b[1;32m<ipython-input-204-4462c5baa07f>\u001b[0m in \u001b[0;36m<module>\u001b[1;34m\u001b[0m\n\u001b[0;32m      1\u001b[0m XRP_for_testing_drop_na[(XRP_for_testing_drop_na['datetime_real'] >= '2019-09-01 00:00:00') & \n\u001b[1;32m----> 2\u001b[1;33m                         (XRP_for_testing_drop_na['datetime_real'] <= '2019-10-01 00:00:00')][['close','date']].set_index('date').plot()\n\u001b[0m",
      "\u001b[1;32mc:\\users\\zhen\\appdata\\local\\programs\\python\\python37\\lib\\site-packages\\pandas\\core\\frame.py\u001b[0m in \u001b[0;36m__getitem__\u001b[1;34m(self, key)\u001b[0m\n\u001b[0;32m   2932\u001b[0m                 \u001b[0mkey\u001b[0m \u001b[1;33m=\u001b[0m \u001b[0mlist\u001b[0m\u001b[1;33m(\u001b[0m\u001b[0mkey\u001b[0m\u001b[1;33m)\u001b[0m\u001b[1;33m\u001b[0m\u001b[1;33m\u001b[0m\u001b[0m\n\u001b[0;32m   2933\u001b[0m             indexer = self.loc._convert_to_indexer(key, axis=1,\n\u001b[1;32m-> 2934\u001b[1;33m                                                    raise_missing=True)\n\u001b[0m\u001b[0;32m   2935\u001b[0m \u001b[1;33m\u001b[0m\u001b[0m\n\u001b[0;32m   2936\u001b[0m         \u001b[1;31m# take() does not accept boolean indexers\u001b[0m\u001b[1;33m\u001b[0m\u001b[1;33m\u001b[0m\u001b[1;33m\u001b[0m\u001b[0m\n",
      "\u001b[1;32mc:\\users\\zhen\\appdata\\local\\programs\\python\\python37\\lib\\site-packages\\pandas\\core\\indexing.py\u001b[0m in \u001b[0;36m_convert_to_indexer\u001b[1;34m(self, obj, axis, is_setter, raise_missing)\u001b[0m\n\u001b[0;32m   1352\u001b[0m                 kwargs = {'raise_missing': True if is_setter else\n\u001b[0;32m   1353\u001b[0m                           raise_missing}\n\u001b[1;32m-> 1354\u001b[1;33m                 \u001b[1;32mreturn\u001b[0m \u001b[0mself\u001b[0m\u001b[1;33m.\u001b[0m\u001b[0m_get_listlike_indexer\u001b[0m\u001b[1;33m(\u001b[0m\u001b[0mobj\u001b[0m\u001b[1;33m,\u001b[0m \u001b[0maxis\u001b[0m\u001b[1;33m,\u001b[0m \u001b[1;33m**\u001b[0m\u001b[0mkwargs\u001b[0m\u001b[1;33m)\u001b[0m\u001b[1;33m[\u001b[0m\u001b[1;36m1\u001b[0m\u001b[1;33m]\u001b[0m\u001b[1;33m\u001b[0m\u001b[1;33m\u001b[0m\u001b[0m\n\u001b[0m\u001b[0;32m   1355\u001b[0m         \u001b[1;32melse\u001b[0m\u001b[1;33m:\u001b[0m\u001b[1;33m\u001b[0m\u001b[1;33m\u001b[0m\u001b[0m\n\u001b[0;32m   1356\u001b[0m             \u001b[1;32mtry\u001b[0m\u001b[1;33m:\u001b[0m\u001b[1;33m\u001b[0m\u001b[1;33m\u001b[0m\u001b[0m\n",
      "\u001b[1;32mc:\\users\\zhen\\appdata\\local\\programs\\python\\python37\\lib\\site-packages\\pandas\\core\\indexing.py\u001b[0m in \u001b[0;36m_get_listlike_indexer\u001b[1;34m(self, key, axis, raise_missing)\u001b[0m\n\u001b[0;32m   1159\u001b[0m         self._validate_read_indexer(keyarr, indexer,\n\u001b[0;32m   1160\u001b[0m                                     \u001b[0mo\u001b[0m\u001b[1;33m.\u001b[0m\u001b[0m_get_axis_number\u001b[0m\u001b[1;33m(\u001b[0m\u001b[0maxis\u001b[0m\u001b[1;33m)\u001b[0m\u001b[1;33m,\u001b[0m\u001b[1;33m\u001b[0m\u001b[1;33m\u001b[0m\u001b[0m\n\u001b[1;32m-> 1161\u001b[1;33m                                     raise_missing=raise_missing)\n\u001b[0m\u001b[0;32m   1162\u001b[0m         \u001b[1;32mreturn\u001b[0m \u001b[0mkeyarr\u001b[0m\u001b[1;33m,\u001b[0m \u001b[0mindexer\u001b[0m\u001b[1;33m\u001b[0m\u001b[1;33m\u001b[0m\u001b[0m\n\u001b[0;32m   1163\u001b[0m \u001b[1;33m\u001b[0m\u001b[0m\n",
      "\u001b[1;32mc:\\users\\zhen\\appdata\\local\\programs\\python\\python37\\lib\\site-packages\\pandas\\core\\indexing.py\u001b[0m in \u001b[0;36m_validate_read_indexer\u001b[1;34m(self, key, indexer, axis, raise_missing)\u001b[0m\n\u001b[0;32m   1244\u001b[0m                 raise KeyError(\n\u001b[0;32m   1245\u001b[0m                     u\"None of [{key}] are in the [{axis}]\".format(\n\u001b[1;32m-> 1246\u001b[1;33m                         key=key, axis=self.obj._get_axis_name(axis)))\n\u001b[0m\u001b[0;32m   1247\u001b[0m \u001b[1;33m\u001b[0m\u001b[0m\n\u001b[0;32m   1248\u001b[0m             \u001b[1;31m# We (temporarily) allow for some missing keys with .loc, except in\u001b[0m\u001b[1;33m\u001b[0m\u001b[1;33m\u001b[0m\u001b[1;33m\u001b[0m\u001b[0m\n",
      "\u001b[1;31mKeyError\u001b[0m: \"None of [Index(['close', 'date'], dtype='object')] are in the [columns]\""
     ]
    }
   ],
   "source": [
    "XRP_for_testing_drop_na[(XRP_for_testing_drop_na['datetime_real'] >= '2019-09-01 00:00:00') & \n",
    "                        (XRP_for_testing_drop_na['datetime_real'] <= '2019-10-01 00:00:00')][['close','date']].set_index('date').plot()"
   ]
  },
  {
   "cell_type": "code",
   "execution_count": null,
   "metadata": {},
   "outputs": [],
   "source": [
    "transation_log[(transation_log['action'] != 'brought')][['Gold','datetime_real']].set_index('datetime_real').plot()"
   ]
  },
  {
   "cell_type": "code",
   "execution_count": null,
   "metadata": {},
   "outputs": [],
   "source": [
    "transation_log[(transation_log['datetime_real'] >= '2019-09-18 12:00:00') & \n",
    "                (transation_log['datetime_real'] <= '2019-10-01 00:00:00') & \n",
    "               (transation_log['action'] != 'brought')][['Gold','datetime_real']].set_index('datetime_real').plot()"
   ]
  },
  {
   "cell_type": "markdown",
   "metadata": {},
   "source": [
    "## Deeper look"
   ]
  },
  {
   "cell_type": "code",
   "execution_count": null,
   "metadata": {},
   "outputs": [],
   "source": [
    "transation_log[(transation_log['datetime_real'] >= '2019-09-17 12:00:00') & \n",
    "                                      (transation_log['datetime_real'] <= '2019-09-20 00:00:00')] "
   ]
  },
  {
   "cell_type": "code",
   "execution_count": null,
   "metadata": {},
   "outputs": [],
   "source": [
    "transation_log"
   ]
  },
  {
   "cell_type": "code",
   "execution_count": null,
   "metadata": {},
   "outputs": [],
   "source": []
  },
  {
   "cell_type": "code",
   "execution_count": null,
   "metadata": {},
   "outputs": [],
   "source": []
  },
  {
   "cell_type": "code",
   "execution_count": null,
   "metadata": {},
   "outputs": [],
   "source": [
    "XRP_for_testing_drop_na.tail()"
   ]
  },
  {
   "cell_type": "code",
   "execution_count": null,
   "metadata": {},
   "outputs": [],
   "source": []
  },
  {
   "cell_type": "code",
   "execution_count": null,
   "metadata": {},
   "outputs": [],
   "source": [
    "plotting_view(XRP_for_testing_drop_na\n",
    "              , transation_log)"
   ]
  },
  {
   "cell_type": "code",
   "execution_count": null,
   "metadata": {},
   "outputs": [],
   "source": [
    "XRP_for_testing_drop_na[(XRP_for_testing_drop_na['datetime_real'] > '2019-09-12 08:05:00') &\n",
    "                        (XRP_for_testing_drop_na['datetime_real'] < '2019-09-12 09:05:00')]['close_price'].max()"
   ]
  },
  {
   "cell_type": "code",
   "execution_count": null,
   "metadata": {},
   "outputs": [],
   "source": [
    "XRP_for_testing_drop_na[(XRP_for_testing_drop_na['datetime_real'] > '2019-09-12 08:05:00') &\n",
    "                        (XRP_for_testing_drop_na['datetime_real'] < '2019-09-12 09:05:00')]['close_price'].min()"
   ]
  },
  {
   "cell_type": "code",
   "execution_count": null,
   "metadata": {},
   "outputs": [],
   "source": [
    "-(0.25192 - 0.25421)/0.25192"
   ]
  },
  {
   "cell_type": "code",
   "execution_count": null,
   "metadata": {},
   "outputs": [],
   "source": [
    "## increase in 0.8% in 1 hour"
   ]
  },
  {
   "cell_type": "code",
   "execution_count": null,
   "metadata": {},
   "outputs": [],
   "source": []
  },
  {
   "cell_type": "code",
   "execution_count": null,
   "metadata": {},
   "outputs": [],
   "source": [
    "XRP_for_testing_drop_na[(XRP_for_testing_drop_na['datetime_real'] > '2019-09-12 08:05:00') &\n",
    "                        (XRP_for_testing_drop_na['datetime_real'] < '2019-09-12 09:05:00')].set_index('datetime_real')[['close_price']].plot(figsize =(30,20))"
   ]
  },
  {
   "cell_type": "code",
   "execution_count": null,
   "metadata": {},
   "outputs": [],
   "source": [
    "XRP_for_testing_drop_na.set_index('datetime_real')[['close_price']].plot(figsize =(30,20))"
   ]
  },
  {
   "cell_type": "code",
   "execution_count": null,
   "metadata": {},
   "outputs": [],
   "source": []
  },
  {
   "cell_type": "code",
   "execution_count": null,
   "metadata": {},
   "outputs": [],
   "source": []
  },
  {
   "cell_type": "markdown",
   "metadata": {},
   "source": [
    "## Saving model"
   ]
  },
  {
   "cell_type": "code",
   "execution_count": null,
   "metadata": {},
   "outputs": [],
   "source": [
    "import pickle"
   ]
  },
  {
   "cell_type": "code",
   "execution_count": null,
   "metadata": {},
   "outputs": [],
   "source": [
    "pkl_filename = \"decision_tree_model.pkl\"\n",
    "with open(pkl_filename, 'wb') as file:\n",
    "    pickle.dump(buy_in_decision_classifier, file)"
   ]
  },
  {
   "cell_type": "code",
   "execution_count": null,
   "metadata": {},
   "outputs": [],
   "source": [
    "# Load from file\n",
    "with open(pkl_filename, 'rb') as file:\n",
    "    pickle_model = pickle.load(file)"
   ]
  },
  {
   "cell_type": "code",
   "execution_count": null,
   "metadata": {},
   "outputs": [],
   "source": []
  },
  {
   "cell_type": "code",
   "execution_count": null,
   "metadata": {},
   "outputs": [],
   "source": []
  },
  {
   "cell_type": "code",
   "execution_count": null,
   "metadata": {},
   "outputs": [],
   "source": []
  },
  {
   "cell_type": "code",
   "execution_count": null,
   "metadata": {},
   "outputs": [],
   "source": []
  },
  {
   "cell_type": "code",
   "execution_count": null,
   "metadata": {},
   "outputs": [],
   "source": [
    "import sqlite3"
   ]
  },
  {
   "cell_type": "code",
   "execution_count": null,
   "metadata": {},
   "outputs": [],
   "source": [
    "conn  = sqlite3.connect('D:\\\\Database\\\\XRP_Bitfinex.db')"
   ]
  },
  {
   "cell_type": "code",
   "execution_count": null,
   "metadata": {},
   "outputs": [],
   "source": [
    "c = conn.cursor()"
   ]
  },
  {
   "cell_type": "code",
   "execution_count": null,
   "metadata": {},
   "outputs": [],
   "source": [
    "c.execute(\"Select * from XRP_USD_Pair\")"
   ]
  },
  {
   "cell_type": "code",
   "execution_count": null,
   "metadata": {},
   "outputs": [],
   "source": [
    "final_test  = c.fetchall()"
   ]
  },
  {
   "cell_type": "code",
   "execution_count": null,
   "metadata": {},
   "outputs": [],
   "source": [
    "final_test_df = pd.DataFrame(final_test)"
   ]
  },
  {
   "cell_type": "code",
   "execution_count": null,
   "metadata": {},
   "outputs": [],
   "source": [
    "final_test_df.columns = ['Pair',\n",
    "'Time',\n",
    "'BID', \n",
    "'BID_SIZE', \n",
    "'ASK', \n",
    "'ASK_SIZE', \n",
    "'DAILY_CHANGE', \n",
    "'DAILY_CHANGE_RELATIVE', \n",
    "'LAST_PRICE', \n",
    "'VOLUME', \n",
    "'HIGH', \n",
    "'LOW']"
   ]
  },
  {
   "cell_type": "code",
   "execution_count": null,
   "metadata": {},
   "outputs": [],
   "source": [
    "final_test_df['LAST_PRICE'] = pd.to_numeric(final_test_df['LAST_PRICE'])"
   ]
  },
  {
   "cell_type": "code",
   "execution_count": null,
   "metadata": {},
   "outputs": [],
   "source": [
    "final_test_df"
   ]
  },
  {
   "cell_type": "code",
   "execution_count": null,
   "metadata": {},
   "outputs": [],
   "source": []
  },
  {
   "cell_type": "code",
   "execution_count": null,
   "metadata": {},
   "outputs": [],
   "source": [
    "table_5min = XRP_Data[(XRP_Data['datetime_real'] >= '2019-11-29 20:06:59')  & (XRP_Data['datetime_real'] <= '2019-11-29 22:16:20')][['datetime_real','close']].set_index('datetime_real')"
   ]
  },
  {
   "cell_type": "code",
   "execution_count": null,
   "metadata": {},
   "outputs": [],
   "source": [
    "table_30s = final_test_df[['Time','LAST_PRICE']].set_index('Time')"
   ]
  },
  {
   "cell_type": "code",
   "execution_count": null,
   "metadata": {},
   "outputs": [],
   "source": []
  },
  {
   "cell_type": "code",
   "execution_count": null,
   "metadata": {},
   "outputs": [],
   "source": [
    "table_5min.head()"
   ]
  },
  {
   "cell_type": "code",
   "execution_count": null,
   "metadata": {},
   "outputs": [],
   "source": [
    "concating = pd.concat([table_5min,table_30s ]).reset_index()"
   ]
  },
  {
   "cell_type": "code",
   "execution_count": null,
   "metadata": {},
   "outputs": [],
   "source": [
    "concating = concating.sort_values(by = 'index')"
   ]
  },
  {
   "cell_type": "code",
   "execution_count": null,
   "metadata": {},
   "outputs": [],
   "source": [
    "concating"
   ]
  },
  {
   "cell_type": "code",
   "execution_count": null,
   "metadata": {},
   "outputs": [],
   "source": []
  },
  {
   "cell_type": "code",
   "execution_count": null,
   "metadata": {},
   "outputs": [],
   "source": [
    "half_min_price = concating['LAST_PRICE']\n",
    "five_min_price = concating['close']\n",
    "timing = concating['index']"
   ]
  },
  {
   "cell_type": "code",
   "execution_count": null,
   "metadata": {},
   "outputs": [],
   "source": [
    "plt.figure(figsize= (20,10))\n",
    "plt.plot(timing,half_min_price )\n",
    "\n",
    "plt.scatter(timing,five_min_price )\n",
    "plt.show()"
   ]
  },
  {
   "cell_type": "code",
   "execution_count": null,
   "metadata": {},
   "outputs": [],
   "source": []
  },
  {
   "cell_type": "code",
   "execution_count": null,
   "metadata": {},
   "outputs": [],
   "source": []
  },
  {
   "cell_type": "code",
   "execution_count": null,
   "metadata": {},
   "outputs": [],
   "source": []
  },
  {
   "cell_type": "code",
   "execution_count": null,
   "metadata": {},
   "outputs": [],
   "source": []
  },
  {
   "cell_type": "code",
   "execution_count": null,
   "metadata": {},
   "outputs": [],
   "source": []
  },
  {
   "cell_type": "code",
   "execution_count": null,
   "metadata": {},
   "outputs": [],
   "source": []
  },
  {
   "cell_type": "code",
   "execution_count": null,
   "metadata": {},
   "outputs": [],
   "source": []
  },
  {
   "cell_type": "markdown",
   "metadata": {},
   "source": [
    "#### Catch \"step-downs\" and \"sharp-drops\""
   ]
  },
  {
   "cell_type": "code",
   "execution_count": null,
   "metadata": {},
   "outputs": [],
   "source": [
    "mark:\n",
    "    \n",
    "# for_plotting_visual = XRP_for_testing_drop_na[(XRP_for_testing_drop_na['datetime_real'] >= '2019-09-24 19:00:00') & \n",
    "#                                       (XRP_for_testing_drop_na['datetime_real'] <= '2019-09-24 20:00:00')]\n",
    "                        \n",
    "    \n",
    "# for_plotting_visual_2 = XRP_for_testing_drop_na[(XRP_for_testing_drop_na['datetime_real'] >= '2019-10-23 10:00:00') & \n",
    "#                                       (XRP_for_testing_drop_na['datetime_real'] <= '2019-10-23 20:00:00')]\n",
    "                        "
   ]
  },
  {
   "cell_type": "code",
   "execution_count": null,
   "metadata": {},
   "outputs": [],
   "source": [
    "XRP_for_testing_drop_na[(XRP_for_testing_drop_na['datetime_real'] >= '2019-09-24 19:40:00') & \n",
    "                                      (XRP_for_testing_drop_na['datetime_real'] <= '2019-09-24 20:05:00')]"
   ]
  },
  {
   "cell_type": "code",
   "execution_count": null,
   "metadata": {},
   "outputs": [],
   "source": [
    "XRP_for_testing_drop_na[(XRP_for_testing_drop_na['datetime_real'] >= '2019-10-23 13:00:00') & \n",
    "                                      (XRP_for_testing_drop_na['datetime_real'] <= '2019-10-23 14:00:00')]"
   ]
  },
  {
   "cell_type": "code",
   "execution_count": null,
   "metadata": {},
   "outputs": [],
   "source": []
  },
  {
   "cell_type": "code",
   "execution_count": null,
   "metadata": {},
   "outputs": [],
   "source": [
    "XRP_for_testing_drop_na[(XRP_for_testing_drop_na['datetime_real'] >= '2019-10-23 13:00:00') & \n",
    "                                      (XRP_for_testing_drop_na['datetime_real'] <= '2019-10-23 14:00:00')]"
   ]
  },
  {
   "cell_type": "code",
   "execution_count": null,
   "metadata": {},
   "outputs": [],
   "source": [
    "(0.287198 - 0.273536)/0.287198"
   ]
  },
  {
   "cell_type": "code",
   "execution_count": null,
   "metadata": {},
   "outputs": [],
   "source": []
  },
  {
   "cell_type": "code",
   "execution_count": null,
   "metadata": {},
   "outputs": [],
   "source": []
  },
  {
   "cell_type": "code",
   "execution_count": null,
   "metadata": {},
   "outputs": [],
   "source": [
    "plt.figure(figsize= (20,10))\n",
    "\n",
    "# for_plotting_visual = XRP_for_testing_drop_na[(XRP_for_testing_drop_na['datetime_real'] >= '2019-09-24 19:00:00') & \n",
    "#                                       (XRP_for_testing_drop_na['datetime_real'] <= '2019-09-24 20:00:00')]\n",
    "                        \n",
    "# for_plotting_visual_2 = XRP_for_testing_drop_na[(XRP_for_testing_drop_na['datetime_real'] >= '2019-09-24 19:00:00') & \n",
    "#                                       (XRP_for_testing_drop_na['datetime_real'] <= '2019-09-24 22:00:00')]\n",
    "\n",
    "for_plotting_visual = XRP_for_testing_drop_na[(XRP_for_testing_drop_na['datetime_real'] >= '2019-09-24 19:40:00') & \n",
    "                                      (XRP_for_testing_drop_na['datetime_real'] <= '2019-09-24 20:05:00')]\n",
    "\n",
    "tran_x = for_plotting_visual['datetime_real']\n",
    "# tran_y_close = for_plotting_visual['close']\n",
    "\n",
    "\n",
    "tran_x_2 = for_plotting_visual['datetime_real']\n",
    "tran_y_2_close = for_plotting_visual['close']\n",
    "\n",
    "\n",
    "plt.plot(tran_x_2, tran_y_2_close)\n",
    "# plt.plot(tran_x, tran_y_close)\n",
    "\n"
   ]
  },
  {
   "cell_type": "markdown",
   "metadata": {},
   "source": [
    "#### "
   ]
  },
  {
   "cell_type": "code",
   "execution_count": null,
   "metadata": {},
   "outputs": [],
   "source": [
    "XRP_for_testing_drop_na[(XRP_for_testing_drop_na['datetime_real'] >= '2019-09-24 19:00:00') & \n",
    "                                      (XRP_for_testing_drop_na['datetime_real'] <= '2019-09-24 22:00:00')]\n"
   ]
  },
  {
   "cell_type": "code",
   "execution_count": null,
   "metadata": {},
   "outputs": [],
   "source": []
  },
  {
   "cell_type": "code",
   "execution_count": null,
   "metadata": {},
   "outputs": [],
   "source": []
  },
  {
   "cell_type": "code",
   "execution_count": null,
   "metadata": {},
   "outputs": [],
   "source": []
  },
  {
   "cell_type": "markdown",
   "metadata": {},
   "source": [
    "# Draft Paper"
   ]
  },
  {
   "cell_type": "markdown",
   "metadata": {},
   "source": [
    "### Static trading"
   ]
  },
  {
   "cell_type": "code",
   "execution_count": null,
   "metadata": {},
   "outputs": [],
   "source": [
    "time_event = {}\n",
    "starting_asset = 100\n",
    "bought_crypto = False\n",
    "\n",
    "\n",
    "gold_available = starting_asset \n",
    "XRP_amount = 0\n",
    "\n",
    "\n",
    "drop_limit = 0.005 # used mean on this side, actual 0.004686, but decreased abit for optimistic view \n",
    "\n",
    "stop_loss_limit = 0.02\n",
    "sell_limit = 0.005\n",
    "\n",
    "trading_data = XRP_for_testing_drop_na\n",
    "while gold_available >= 0:\n",
    "    \n",
    "    for ind, df in trading_data.iterrows():\n",
    "#         print(df['date'])\n",
    "        \n",
    "        if bought_crypto != True: # then looking to buy at drop limit or lower\n",
    "            if (( df['20min_RA_on_Close'] - df['low'] ) / df['20min_RA_on_Close'] >= drop_limit ) and (df['20min_RA_on_Close'] != df['2H_RA_on_Close']): \n",
    "                \"then buy crypto\"\n",
    "\n",
    "                XRP_amount += (gold_available/df['low']) * 0.998 # due to 0.2% fee\n",
    "\n",
    "                gold_available -= gold_available\n",
    "                \n",
    "                time_event.update({df['date']  : ( gold_available, XRP_amount , 'brought' , df['low'])})\n",
    "                \n",
    "                last_xrp_traction_price =  df['low']\n",
    "                \n",
    "                bought_crypto = True\n",
    "                \n",
    "                latest_bought_crypto_timestamp = df['date']\n",
    "                \n",
    "#                 print('last_xrp_traction_price ', last_xrp_traction_price)\n",
    "                \n",
    "        else:\n",
    "            if bought_crypto: # has crypto, either wait or sell at stoploss or profit\n",
    "#                 print('hit_sell_limit',\n",
    "#                       (df['high'] - last_xrp_traction_price)/last_xrp_traction_price >= sell_limit ,\n",
    "#                       round((df['high'] - last_xrp_traction_price),6) ,\n",
    "#                       'sell_limit ', sell_limit\n",
    "                     \n",
    "#                       )\n",
    "\n",
    "                if df['date'] - latest_bought_crypto_timestamp > 172800:\n",
    "                    \n",
    "                    gold_available += XRP_amount * df['high'] * 0.998  # sell at low price\n",
    "                    \n",
    "                    XRP_amount -= XRP_amount\n",
    "                    \n",
    "                    time_event.update({df['date']  : ( gold_available, XRP_amount , 'time_stop' ,  df['low'])})\n",
    "                    \n",
    "                    bought_crypto = False\n",
    "                    \n",
    "                \n",
    "                elif ( df['20min_RA_on_Close'] - df['low'] ) / df['20min_RA_on_Close'] >= stop_loss_limit: # then hit stop loss, force sell\n",
    "#                     print('stoppppppppppppppppppppppppp')\n",
    "                    gold_available += XRP_amount * df['low'] * 0.998  # sell at low price\n",
    "                    \n",
    "                    XRP_amount -= XRP_amount\n",
    "                    \n",
    "                    time_event.update({df['date']  : ( gold_available, XRP_amount , 'stop_loss_hit' ,  df['low'])})\n",
    "                    \n",
    "                    bought_crypto = False\n",
    "                    \n",
    "                    \n",
    "                \n",
    "                elif  (df['high'] - last_xrp_traction_price)/last_xrp_traction_price >= sell_limit: # then hit target price, sell for profit\n",
    "                    \n",
    "#                     print(last_xrp_traction_price)\n",
    "                                        \n",
    "                    gold_available += XRP_amount * df['high'] * 0.998  # sell at high price\n",
    "                    \n",
    "                    XRP_amount -= XRP_amount\n",
    "                    \n",
    "                    time_event.update({df['date']  : ( gold_available, XRP_amount , 'sell_profit' , df['high'])})\n",
    "                    \n",
    "                    bought_crypto = False\n",
    "\n",
    "    break\n",
    "                \n",
    "else:\n",
    "    print('Negative asset: bankrupt  ->>>   ',  gold_available)"
   ]
  },
  {
   "cell_type": "code",
   "execution_count": null,
   "metadata": {},
   "outputs": [],
   "source": [
    "transation_log = pd.DataFrame.from_dict(time_event, orient='index', columns= ['Gold', 'XRP_Amount', 'action', 'price_action_happened'])\n",
    "\n",
    "transation_log['datetime_real'] = [datetime.fromtimestamp(d) for d in transation_log.index]\n",
    "\n",
    "transation_log['Gold'] = round(transation_log['Gold'], 2)\n",
    "\n",
    "transation_log['XRP_Amount'] = round(transation_log['XRP_Amount'], 4)"
   ]
  },
  {
   "cell_type": "code",
   "execution_count": null,
   "metadata": {},
   "outputs": [],
   "source": [
    "transation_log[transation_log['action'] != 'brought'].set_index('datetime_real')[['Gold']].plot(figsize = (20,10))"
   ]
  },
  {
   "cell_type": "code",
   "execution_count": null,
   "metadata": {},
   "outputs": [],
   "source": [
    "transation_log"
   ]
  },
  {
   "cell_type": "code",
   "execution_count": null,
   "metadata": {},
   "outputs": [],
   "source": []
  },
  {
   "cell_type": "code",
   "execution_count": null,
   "metadata": {},
   "outputs": [],
   "source": []
  },
  {
   "cell_type": "code",
   "execution_count": null,
   "metadata": {},
   "outputs": [],
   "source": []
  },
  {
   "cell_type": "code",
   "execution_count": null,
   "metadata": {},
   "outputs": [],
   "source": []
  },
  {
   "cell_type": "code",
   "execution_count": null,
   "metadata": {},
   "outputs": [],
   "source": []
  },
  {
   "cell_type": "code",
   "execution_count": null,
   "metadata": {},
   "outputs": [],
   "source": []
  },
  {
   "cell_type": "code",
   "execution_count": null,
   "metadata": {},
   "outputs": [],
   "source": []
  },
  {
   "cell_type": "code",
   "execution_count": null,
   "metadata": {},
   "outputs": [],
   "source": []
  },
  {
   "cell_type": "code",
   "execution_count": null,
   "metadata": {},
   "outputs": [],
   "source": []
  },
  {
   "cell_type": "markdown",
   "metadata": {},
   "source": [
    "# identify sharp drop bounce back"
   ]
  },
  {
   "cell_type": "code",
   "execution_count": null,
   "metadata": {},
   "outputs": [],
   "source": [
    "XRP_for_testing_drop_na.tail(1000).set_index('date')[['close']].plot(figsize = (20,10))"
   ]
  }
 ],
 "metadata": {
  "kernelspec": {
   "display_name": "Python 3",
   "language": "python",
   "name": "python3"
  },
  "language_info": {
   "codemirror_mode": {
    "name": "ipython",
    "version": 3
   },
   "file_extension": ".py",
   "mimetype": "text/x-python",
   "name": "python",
   "nbconvert_exporter": "python",
   "pygments_lexer": "ipython3",
   "version": "3.7.2"
  }
 },
 "nbformat": 4,
 "nbformat_minor": 4
}

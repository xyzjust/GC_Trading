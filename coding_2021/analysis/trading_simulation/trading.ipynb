{
 "cells": [
  {
   "cell_type": "code",
   "execution_count": null,
   "metadata": {},
   "outputs": [],
   "source": []
  },
  {
   "cell_type": "raw",
   "metadata": {},
   "source": [
    "Imports"
   ]
  },
  {
   "cell_type": "code",
   "execution_count": 1,
   "metadata": {},
   "outputs": [],
   "source": [
    "import pandas as pd\n",
    "import numpy as np\n",
    "\n",
    "import re\n",
    "\n",
    "import matplotlib\n",
    "import matplotlib.pyplot as plt\n",
    "\n",
    "from datetime import datetime\n",
    "from difflib import get_close_matches\n",
    "\n",
    "from sklearn.metrics import confusion_matrix, plot_confusion_matrix\n",
    "from sklearn.ensemble import RandomForestClassifier\n",
    "from sklearn.multioutput import MultiOutputClassifier\n",
    "\n",
    "from sklearn.model_selection import train_test_split\n",
    "from sklearn.pipeline import Pipeline, FeatureUnion\n",
    "from sklearn.base import BaseEstimator, TransformerMixin\n",
    "from sklearn.feature_extraction.text import CountVectorizer, TfidfTransformer\n",
    "\n",
    "from sklearn.naive_bayes import MultinomialNB\n",
    "\n",
    "from sklearn.model_selection import GridSearchCV\n",
    "\n",
    "\n",
    "from sklearn.metrics import accuracy_score\n",
    "\n",
    "from sklearn.pipeline import Pipeline\n",
    "from sklearn.model_selection import GridSearchCV\n",
    "from sklearn import svm\n",
    "\n",
    "from sklearn.metrics import f1_score\n",
    "\n",
    "from xgboost import XGBClassifier, XGBRegressor, plot_importance\n",
    "\n",
    "from sklearn.utils import shuffle"
   ]
  },
  {
   "cell_type": "code",
   "execution_count": 2,
   "metadata": {},
   "outputs": [],
   "source": [
    "class DecisionMaking:\n",
    "    \"\"\"\n",
    "    A class that takes pre-trained models and product the next predicted values\n",
    "    \n",
    "    list_to_add_unit_hour - list of rolling averages to add in the unit of hour, e.g.\n",
    "                                list_to_add_unit_hour = [1, 2, 4] , will produce RAs of\n",
    "                                1H, 2H, 4H (window calculated by dividing by the index_unit)\n",
    "\n",
    "    index_unit - unit of index (whatever was used in the grouper), e.g. '15min' (takes minutes)\n",
    "\n",
    "\n",
    "    \"\"\"\n",
    "    \n",
    "    def __init__(self, columns_to_norm, base, list_to_add_unit_hour, index_unit, model_avg, model_high, model_low):\n",
    "        \n",
    "        self.columns_to_norm = columns_to_norm\n",
    "        self.base = base\n",
    "        self.list_to_add_unit_hour = list_to_add_unit_hour\n",
    "        self.index_unit = index_unit\n",
    "        \n",
    "        self.model_avg  = model_avg\n",
    "        self.model_high = model_high\n",
    "        self.model_low  = model_low\n",
    "        \n",
    "        assert base not in columns_to_norm, \"base should not be in the list of columns, as it will be dividing by 0\"\n",
    "    \n",
    "    def get_raw_data(self, df):\n",
    "        \"\"\"\n",
    "        raw 1 minute df\n",
    "        \"\"\"\n",
    "        assert df.index.dtype == '<M8[ns]', \"Index should be time\"\n",
    "        self.raw_1min_df = df.sort_index(ascending=True).copy(deep=True)\n",
    "        \n",
    "        return None\n",
    "    \n",
    "    def window_groupby(self, freq, agg_grouping, return_results=False):\n",
    "        \n",
    "        \"\"\"\n",
    "        return_results to see the table returned, otherwise, save at: self.df_windowed\n",
    "        \"\"\"\n",
    "        \n",
    "        df=self.raw_1min_df.copy(deep=True)\n",
    "        grouper_key = self.raw_1min_df.index.name\n",
    "        assert grouper_key != None, \"no grouper key\"\n",
    "        \n",
    "        df_temp = df.reset_index().groupby(pd.Grouper(key=grouper_key, freq=freq)).agg(agg_grouping)\n",
    "        if 'open_time' in agg_grouping.keys():\n",
    "            df_temp.columns = [open_time_refine(col) for col in df_temp.columns]\n",
    "\n",
    "        df_temp['avg'] = df_temp['quote_asset_volume']/df_temp['volume']\n",
    "        df_temp['avg'] = df_temp['avg'].fillna(method='ffill')  ## when volume is 0\n",
    "        \n",
    "        if return_results:\n",
    "            return df_temp\n",
    "            \n",
    "        else:\n",
    "            self.df_windowed = df_temp.copy(deep=True)\n",
    "            return None\n",
    "\n",
    "\n",
    "    \n",
    "    def add_rolling_averges(self, return_results=False):\n",
    "        \"\"\"\n",
    "        INPUT:\n",
    "        return_results - boolean, defult False\n",
    "        \n",
    "        OUTPUT:\n",
    "        (if return_results = True), dataframe with added rolling averages\n",
    "        (else, save at self.df_wind_ra)\n",
    "        \"\"\"\n",
    "\n",
    "        df_temp = self.df_windowed.copy(deep=True)\n",
    "\n",
    "        rows = float(self.index_unit.replace('min',''))/60\n",
    "\n",
    "        for ra in self.list_to_add_unit_hour:\n",
    "\n",
    "            df_temp['ra_{x}H'.format(x=ra)] = df_temp['avg'].rolling(window=int(ra/rows)).mean()\n",
    "\n",
    "        if return_results:\n",
    "            print(\".dropna(axis=0) not applied here\")\n",
    "            return df_temp\n",
    "            \n",
    "        else:\n",
    "            self.df_wind_ra = df_temp.dropna(axis=0).copy(deep=True)\n",
    "            return None\n",
    "\n",
    "\n",
    "    \n",
    "    def normalising_data(self, return_results=False):\n",
    "        \"\"\"\n",
    "        INPUT:\n",
    "        return_results - boolean, defult False\n",
    "\n",
    "        OUTPUT:\n",
    "        (if return_results = True), normalised dataframe\n",
    "        (else, save at self.df_normalised_input)\n",
    "        \"\"\"\n",
    "        \n",
    "        df_temp = self.df_wind_ra.copy(deep=True)\n",
    "\n",
    "        for col in self.columns_to_norm:\n",
    "            df_temp[col] = 100 * ((df_temp[col].astype(np.float)/df_temp[self.base]) - 1)\n",
    "\n",
    "        if return_results:\n",
    "            return df_temp\n",
    "            \n",
    "        else:\n",
    "            self.df_normalised_input = df_temp.copy(deep=True)\n",
    "            return None\n",
    "        \n",
    "    def _return_predicted_vales(self, pred, base_value):\n",
    "        final_value = (1.0 + pred/100) * base_value\n",
    "        return final_value\n",
    "    \n",
    "    def get_predictions(self):\n",
    "        \"\"\"\n",
    "        INPUTS:\n",
    "        ml_low = machine learning model for predicting low\n",
    "        ml_avg = machine learning model for predicting average\n",
    "        ml_high = machine learning model for predicting high\n",
    "        \n",
    "        Return\n",
    "        predicted: average, low, and high from the models\n",
    "        \"\"\"\n",
    "        y_pred_avg_decision = self.model_avg.predict(self.df_normalised_input[self.columns_to_norm].values)\n",
    "        y_pred_low_decision = self.model_low.predict(self.df_normalised_input[self.columns_to_norm].values)\n",
    "        y_pred_high_decision = self.model_high.predict(self.df_normalised_input[self.columns_to_norm].values)\n",
    "\n",
    "        y_pred_unscaled_avg = self._return_predicted_vales(y_pred_avg_decision[0], self.df_normalised_input[self.base].values[0])\n",
    "        y_pred_unscaled_low = self._return_predicted_vales(y_pred_low_decision[0], self.df_normalised_input[self.base].values[0])\n",
    "        y_pred_unscaled_high = self._return_predicted_vales(y_pred_high_decision[0], self.df_normalised_input[self.base].values[0])\n",
    "            \n",
    "        return {'pred_avg':y_pred_unscaled_avg,\n",
    "                'pred_low':y_pred_unscaled_low,\n",
    "                'pred_high':y_pred_unscaled_high}"
   ]
  },
  {
   "cell_type": "code",
   "execution_count": 3,
   "metadata": {},
   "outputs": [],
   "source": [
    "class MrMarket:\n",
    "    def __init__(self, usd, coin, last_event, next_event, taker_fee):\n",
    "        \n",
    "        self.usd_wallet = usd\n",
    "        self.coin_wallet = coin\n",
    "        self._LastEvent_ = last_event\n",
    "        self._NextEvent_ = next_event\n",
    "        self.buy_position = None\n",
    "        self.sell_position = None\n",
    "        self.current_low = None\n",
    "        self.current_high = None\n",
    "        \n",
    "        self.taker_fee = taker_fee\n",
    "        \n",
    "        self.history_log = [{\"time_of_event\" : datetime.now(),  ## if back testing, now() shoud be the max time \n",
    "                              \"event_name\"   : self._LastEvent_,\n",
    "                              \"usd_wallet\"   : self.usd_wallet, \n",
    "                              \"coin_wallet\"  : self.coin_wallet,\n",
    "                              \"next_action\"  : self._NextEvent_,\n",
    "                              \"pred_low\"     : self.buy_position,\n",
    "                              \"pred_high\"    : self.sell_position,\n",
    "                              \"true_low\"     : self.current_low,\n",
    "                              \"true_high\"    : self.current_high\n",
    "                            }]\n",
    "        \n",
    "        print(\"initialisation\")\n",
    "        display(pd.DataFrame(self.history_log))\n",
    "        \n",
    "        return None \n",
    "    \n",
    "    \n",
    "    \n",
    "    def _event_log(self, event):\n",
    "        \n",
    "        self.history_log.append({\"time_of_event\" : self.time,  ## if back testing, now() shoud be the max time \n",
    "                                  \"event_name\"   :  event['event_name'],\n",
    "                                  \"usd_wallet\"    : self.usd_wallet, \n",
    "                                  \"coin_wallet\"   : self.coin_wallet,\n",
    "                                  \"next_action\"   : self._NextEvent_,\n",
    "                                  \"pred_low\"     : self.buy_position,\n",
    "                                  \"pred_high\"    : self.sell_position,\n",
    "                                  \"true_low\"     : self.current_low,\n",
    "                                  \"true_high\"    : self.current_high,\n",
    "                            \"position_opened_at\" : self.position_opened_at\n",
    "                                        })\n",
    "\n",
    "        return \"Appened to history_log\"\n",
    "    \n",
    "    def _CheckOrder_(self):\n",
    "        return self._WaitingToFillOrder_, self._NextEvent_\n",
    "    \n",
    "    def data(self, row):\n",
    "        self.current_low = row['low']\n",
    "        self.current_high = row['high']\n",
    "        self.current_open = row['open']\n",
    "        self.current_close = row['close']\n",
    "        self.time = row.name ## of that minute\n",
    "        \n",
    "    \n",
    "    def open_buy_position(self, buy_price_set, sell_price_set, data_at_time):\n",
    "        self.buy_position = buy_price_set\n",
    "        self.sell_position = sell_price_set\n",
    "        \n",
    "        self._LastEvent_ = \"open_buy_position\"\n",
    "        self._NextEvent_ = \"close_buy_position\"\n",
    "        \n",
    "        self.position_opened_at = {'open_buy': data_at_time.name, 'open_sell': None}\n",
    "            \n",
    "        self.history_log.append({\"time_of_event\" : data_at_time.name,  ## if back testing, now() shoud be the max time \n",
    "                                  \"event_name\"    : self._LastEvent_,\n",
    "                                  \"usd_wallet\"    : self.usd_wallet, \n",
    "                                  \"coin_wallet\"   : self.coin_wallet,\n",
    "                                  \"next_action\"   : self._NextEvent_,\n",
    "                                  \"pred_low\"     : buy_price_set,\n",
    "                                  \"pred_high\"    : sell_price_set,\n",
    "                                  \"true_low\"     : data_at_time['low'],\n",
    "                                  \"true_high\"    : data_at_time['high'],\n",
    "                                  \"position_opened_at\" : self.position_opened_at\n",
    "                })\n",
    "        \n",
    "\n",
    "        self._WaitingToFillOrder_ = True\n",
    "    \n",
    "        return data_at_time.name\n",
    "    \n",
    "    def check_status(self, input_event):\n",
    "        assert self._NextEvent_ == input_event, \"self event: {_NextEvent_} and input: {input_event} should be the same\"\n",
    "        \n",
    "        if self._NextEvent_ == 'close_buy_position':\n",
    "            print(\"try to close buy position!!\", self.time)\n",
    "            if self.current_low < self.buy_position:\n",
    "                \n",
    "                \"Buy executed, sell position opened\"\n",
    "                self.coin_wallet = self.coin_wallet + float(self.usd_wallet / self.buy_position) * (100 - self.taker_fee)/100\n",
    "                self.usd_wallet = self.usd_wallet - self.usd_wallet\n",
    "                self._NextEvent_ = \"close_sell_position\"\n",
    "                \n",
    "                self.position_opened_at = {'open_buy': None, 'open_sell': self.time}\n",
    "                \n",
    "                self._event_log({\"event_name\": \"close_buy_position, (auto: opened sell position)\"})\n",
    "                \n",
    "                return \"Executed Buy\"\n",
    "            \n",
    "            else:\n",
    "                \n",
    "                if (self.time - self.position_opened_at['open_buy']).total_seconds() >= 30*60:\n",
    "                    assert pd.notnull(self.position_opened_at['open_buy']), \"should have a timestampe\"\n",
    "                    \n",
    "                    \"Cancel trade, price expired\"\n",
    "                    \n",
    "                    verdict = \"Buy order expired, Reset\"\n",
    "                    \n",
    "\n",
    "                    self.position_opened_at = None\n",
    "                    self._WaitingToFillOrder_ = False\n",
    "                    \n",
    "                    self._NextEvent_ = \"open_buy_position\"\n",
    "                    \n",
    "                    self._event_log({\"event_name\": \"expired buy order\"})\n",
    "                    \n",
    "                    print('heere>>>>>>>' ,verdict, self._NextEvent_, self.time)\n",
    "                    \n",
    "                    return verdict\n",
    "                \n",
    "                else:\n",
    "                    verdict = \"Buy condition not met\"\n",
    "                    self._event_log({\"event_name\": verdict})\n",
    "\n",
    "                    return verdict\n",
    "            \n",
    "            \n",
    "        elif self._NextEvent_ == 'close_sell_position':\n",
    "            if self.current_high > self.sell_position:\n",
    "                \n",
    "                \"Sell executed, waiting to open the next buy order\"\n",
    "                self.usd_wallet = self.usd_wallet + self.sell_position * self.coin_wallet * (100 - self.taker_fee)/100\n",
    "                self.coin_wallet = self.coin_wallet - self.coin_wallet\n",
    "                self._NextEvent_ = \"open_buy_position\"\n",
    "\n",
    "                \n",
    "                self._event_log({\"event_name\": \"close_sell_position\"})\n",
    "                \n",
    "                self._WaitingToFillOrder_ = False\n",
    "                \n",
    "                return \"Executed Sell\"\n",
    "            \n",
    "            else:\n",
    "                \n",
    "                if (self.time - self.position_opened_at['open_sell']).total_seconds() >= 30*60:\n",
    "                    assert pd.notnull(self.position_opened_at['open_sell']), \"should have a timestampe\"\n",
    "                    print(\"sell order taking too lond?\",  self.time)\n",
    "#                     !! ?? sell at a loss ??\n",
    "\n",
    "#                 else:\n",
    "                verdict = \"Sell condition not met\"\n",
    "                self._event_log({\"event_name\": verdict})\n",
    "\n",
    "                return verdict"
   ]
  },
  {
   "cell_type": "code",
   "execution_count": null,
   "metadata": {},
   "outputs": [],
   "source": []
  },
  {
   "cell_type": "markdown",
   "metadata": {},
   "source": [
    "### Data"
   ]
  },
  {
   "cell_type": "code",
   "execution_count": 6,
   "metadata": {},
   "outputs": [],
   "source": [
    "def window_groupby(df, grouper_key, freq, agg_grouping):\n",
    "    \n",
    "    df_temp = df.reset_index().groupby(pd.Grouper(key=grouper_key, freq=freq)).agg(agg_grouping)\n",
    "    \n",
    "    if 'open_time' in agg_grouping.keys():\n",
    "        df_temp.columns = [open_time_refine(col) for col in df_temp.columns]\n",
    "    \n",
    "    df_temp['avg'] = df_temp['quote_asset_volume']/df_temp['volume']\n",
    "    \n",
    "    return df_temp"
   ]
  },
  {
   "cell_type": "code",
   "execution_count": 7,
   "metadata": {},
   "outputs": [],
   "source": [
    "def add_rolling_averges(df, list_to_add_unit_hour, index_unit):\n",
    "    \"\"\"\n",
    "    INPUT:\n",
    "    df - dataframe (assume the datafram is already sorted)\n",
    "    list_to_add_unit_hour - list of rolling averages to add in the unit of hour, e.g.\n",
    "                            list_to_add_unit_hour = [1, 2, 4] , will produce R.As of\n",
    "                            1H, 2H, 4H (window calculated by dividing by the index_unit)\n",
    "                            \n",
    "    index_unit - unit of index (whatever was used in the grouper), e.g. '15min' (takes minutes)\n",
    "    \n",
    "    OUTPUT:\n",
    "    dataframe with added rolling averages\n",
    "    \"\"\"\n",
    "    df_temp = df\n",
    "    \n",
    "    rows = float(index_unit.replace('min',''))/60\n",
    "    \n",
    "    for ra in list_to_add_unit_hour:\n",
    "        \n",
    "        df_temp['ra_{x}H'.format(x=ra)] = df_temp['avg'].rolling(window=int(ra/rows)).mean()\n",
    "    \n",
    "    return df_temp"
   ]
  },
  {
   "cell_type": "code",
   "execution_count": 8,
   "metadata": {},
   "outputs": [],
   "source": [
    "def run_decision(decision_class, df_past_4hours):\n",
    "    decision_class.get_raw_data(df_past_4hours)\n",
    "    decision_class.window_groupby(freq='15min', \n",
    "                      agg_grouping={'open': 'first',\n",
    "                                     'high': 'max',\n",
    "                                     'low': 'min',\n",
    "                                     'close': 'last',\n",
    "                                     'volume': 'sum',\n",
    "                                     'quote_asset_volume': 'sum',\n",
    "                                     'open_time': ['min', 'max', 'count']}\n",
    "                     )\n",
    "    decision_class.add_rolling_averges()\n",
    "    decision_class.normalising_data()\n",
    "    \n",
    "#     display(decision_class.df_normalised_input[['open_time_max']])\n",
    "    return (decision_class.get_predictions() )"
   ]
  },
  {
   "cell_type": "code",
   "execution_count": null,
   "metadata": {},
   "outputs": [],
   "source": []
  },
  {
   "cell_type": "code",
   "execution_count": null,
   "metadata": {},
   "outputs": [],
   "source": []
  },
  {
   "cell_type": "code",
   "execution_count": 9,
   "metadata": {},
   "outputs": [],
   "source": [
    "df_ETHUSD_1min = pd.read_parquet('../ETH-USDT.parquet')"
   ]
  },
  {
   "cell_type": "code",
   "execution_count": 10,
   "metadata": {},
   "outputs": [],
   "source": [
    "df_ETHUSD_1min = df_ETHUSD_1min[df_ETHUSD_1min['volume'] != 0]"
   ]
  },
  {
   "cell_type": "code",
   "execution_count": 11,
   "metadata": {},
   "outputs": [
    {
     "data": {
      "text/html": [
       "<div>\n",
       "<style scoped>\n",
       "    .dataframe tbody tr th:only-of-type {\n",
       "        vertical-align: middle;\n",
       "    }\n",
       "\n",
       "    .dataframe tbody tr th {\n",
       "        vertical-align: top;\n",
       "    }\n",
       "\n",
       "    .dataframe thead th {\n",
       "        text-align: right;\n",
       "    }\n",
       "</style>\n",
       "<table border=\"1\" class=\"dataframe\">\n",
       "  <thead>\n",
       "    <tr style=\"text-align: right;\">\n",
       "      <th></th>\n",
       "      <th>open</th>\n",
       "      <th>high</th>\n",
       "      <th>low</th>\n",
       "      <th>close</th>\n",
       "      <th>volume</th>\n",
       "      <th>quote_asset_volume</th>\n",
       "      <th>number_of_trades</th>\n",
       "      <th>taker_buy_base_asset_volume</th>\n",
       "      <th>taker_buy_quote_asset_volume</th>\n",
       "    </tr>\n",
       "    <tr>\n",
       "      <th>open_time</th>\n",
       "      <th></th>\n",
       "      <th></th>\n",
       "      <th></th>\n",
       "      <th></th>\n",
       "      <th></th>\n",
       "      <th></th>\n",
       "      <th></th>\n",
       "      <th></th>\n",
       "      <th></th>\n",
       "    </tr>\n",
       "  </thead>\n",
       "  <tbody>\n",
       "    <tr>\n",
       "      <th>2017-09-12 06:10:00</th>\n",
       "      <td>309.779999</td>\n",
       "      <td>309.779999</td>\n",
       "      <td>309.779999</td>\n",
       "      <td>309.779999</td>\n",
       "      <td>0.40098</td>\n",
       "      <td>124.215584</td>\n",
       "      <td>4</td>\n",
       "      <td>0.0</td>\n",
       "      <td>0.0</td>\n",
       "    </tr>\n",
       "  </tbody>\n",
       "</table>\n",
       "</div>"
      ],
      "text/plain": [
       "                           open        high         low       close   volume  \\\n",
       "open_time                                                                      \n",
       "2017-09-12 06:10:00  309.779999  309.779999  309.779999  309.779999  0.40098   \n",
       "\n",
       "                     quote_asset_volume  number_of_trades  \\\n",
       "open_time                                                   \n",
       "2017-09-12 06:10:00          124.215584                 4   \n",
       "\n",
       "                     taker_buy_base_asset_volume  taker_buy_quote_asset_volume  \n",
       "open_time                                                                       \n",
       "2017-09-12 06:10:00                          0.0                           0.0  "
      ]
     },
     "execution_count": 11,
     "metadata": {},
     "output_type": "execute_result"
    }
   ],
   "source": [
    "df_ETHUSD_1min.loc['2017-09-12 06:10:00']"
   ]
  },
  {
   "cell_type": "code",
   "execution_count": 12,
   "metadata": {},
   "outputs": [],
   "source": [
    "# df_ETHUSD_1min['volume'] = df_ETHUSD_1min['volume'] + 1"
   ]
  },
  {
   "cell_type": "code",
   "execution_count": 13,
   "metadata": {},
   "outputs": [],
   "source": [
    "# df_ETHUSD_1min['volume'] = np.clip(df_ETHUSD_1min['volume'], 1, df_ETHUSD_1min['volume'].max()) ??"
   ]
  },
  {
   "cell_type": "code",
   "execution_count": 14,
   "metadata": {},
   "outputs": [],
   "source": [
    "df_ETHUSD_1min = df_ETHUSD_1min.sort_index(ascending=True)"
   ]
  },
  {
   "cell_type": "code",
   "execution_count": 15,
   "metadata": {},
   "outputs": [],
   "source": [
    "# df_ETHUSD_1min['avg'] = df_ETHUSD_1min['quote_asset_volume']/df_ETHUSD_1min['volume']"
   ]
  },
  {
   "cell_type": "markdown",
   "metadata": {},
   "source": [
    "low and high are different for different rolling averages, therefore, there should be 2 segment-paris (or 4 segments for):\n",
    "\n",
    "> bull low v ra <br/> bull high v ra <br/> bear low v ra <br/>  bear high v ra\n",
    "    \n",
    "    \n",
    "e.g. in a bull market, low ticker vs rolling average of X (this X needs to be found)\n",
    "(expect abs(low-ra | bull) < abs(low-ra | bear)  :: absolute value of low minus ra give bull => abs(low-ra | bull)"
   ]
  },
  {
   "cell_type": "code",
   "execution_count": 16,
   "metadata": {},
   "outputs": [],
   "source": [
    "def open_time_refine(txt):\n",
    "    if txt[0] != 'open_time':\n",
    "        return txt[0]\n",
    "    \n",
    "    else:\n",
    "        return txt[0] + '_' +txt[1]"
   ]
  },
  {
   "cell_type": "code",
   "execution_count": 17,
   "metadata": {},
   "outputs": [],
   "source": [
    "agg_grouping = {'open':'first',\n",
    "                'high':'max',\n",
    "                'low':'min',\n",
    "                'close':'last',\n",
    "                'volume':'sum',\n",
    "                'quote_asset_volume':'sum',\n",
    "                'open_time':['min','max','count']\n",
    "               }\n"
   ]
  },
  {
   "cell_type": "code",
   "execution_count": 18,
   "metadata": {},
   "outputs": [],
   "source": [
    "df_15min = window_groupby(df=df_ETHUSD_1min,\n",
    "                       grouper_key='open_time',\n",
    "                       freq='15min',\n",
    "                       agg_grouping=agg_grouping\n",
    "                         )"
   ]
  },
  {
   "cell_type": "code",
   "execution_count": 19,
   "metadata": {},
   "outputs": [],
   "source": [
    "df_prepare = add_rolling_averges(df_15min, [1,2,4], '15min').dropna(axis=0).copy(deep=True)"
   ]
  },
  {
   "cell_type": "code",
   "execution_count": 20,
   "metadata": {},
   "outputs": [],
   "source": [
    "df_prepare['y_avg'] = df_prepare['avg'].shift(-1)"
   ]
  },
  {
   "cell_type": "code",
   "execution_count": 21,
   "metadata": {},
   "outputs": [],
   "source": [
    "df_prepare['y_low'] = 100 * ((df_prepare['low'].shift(-1) - df_prepare['y_avg'])/df_prepare['y_avg'])\n",
    "df_prepare['y_high'] = 100 * ((df_prepare['high'].shift(-1) - df_prepare['y_avg'])/df_prepare['y_avg'])\n",
    "df_prepare['y_avg'] = 100 * ((df_prepare['avg'].shift(-1) - df_prepare['avg'])/df_prepare['avg'])"
   ]
  },
  {
   "cell_type": "markdown",
   "metadata": {},
   "source": [
    "2 approaches to try here:\n",
    "> 1. engineer some features and use typical ML mode\n",
    "> 2. remove most of the features (ra etc) and input into a neural network"
   ]
  },
  {
   "cell_type": "markdown",
   "metadata": {},
   "source": [
    "predict low and high:\n",
    "> if high reached first, cancel the position (since high --> low situation) <br/>\n",
    "> want low to arrive first (since low --> high situation)"
   ]
  },
  {
   "cell_type": "markdown",
   "metadata": {},
   "source": [
    "(**thinking about this**) <br/>\n",
    "for each approach, need to train 2 models:\n",
    "> model_1_low: first training, predict the low <br/>\n",
    "> model_2_higih: second training, with the low_pred value from the model before, predict the high"
   ]
  },
  {
   "cell_type": "code",
   "execution_count": null,
   "metadata": {},
   "outputs": [],
   "source": []
  },
  {
   "cell_type": "markdown",
   "metadata": {},
   "source": [
    "### Traditional Approach"
   ]
  },
  {
   "cell_type": "markdown",
   "metadata": {},
   "source": [
    "first to train a model to predict the lows and highs in the next 15minutes"
   ]
  },
  {
   "cell_type": "code",
   "execution_count": 22,
   "metadata": {},
   "outputs": [],
   "source": [
    "def normalising_data(df, columns, base):\n",
    "    \"\"\"\n",
    "    INPUT:\n",
    "    df - dataframe to normalise\n",
    "    columns - list of columns to be normalised (column/base)\n",
    "    base - name of the normalised base (denominator)\n",
    "    \n",
    "    \n",
    "    OUTPUT:\n",
    "    df - normalised dataframe\n",
    "    \"\"\"\n",
    "    assert base not in columns, \"base should not be in the list of columns, as it will be dividing by 0\"\n",
    "    \n",
    "    df_temp = df.copy(deep=True)\n",
    "    \n",
    "    for col in columns:\n",
    "        df_temp[col] = 100 * ((df_temp[col].astype(np.float)/df_temp[base]) - 1)\n",
    "    \n",
    "    return df_temp"
   ]
  },
  {
   "cell_type": "code",
   "execution_count": 23,
   "metadata": {},
   "outputs": [],
   "source": [
    "base = 'ra_1H'\n",
    "columns_to_norm = [d for d in ['open','high','low','close','avg','ra_1H','ra_2H','ra_4H'] if d != base]\n",
    "y_columns = ['y_avg','y_low','y_high']"
   ]
  },
  {
   "cell_type": "code",
   "execution_count": 24,
   "metadata": {},
   "outputs": [],
   "source": [
    "df_normalised = normalising_data(df_prepare, columns=columns_to_norm, base=base)"
   ]
  },
  {
   "cell_type": "code",
   "execution_count": 25,
   "metadata": {},
   "outputs": [],
   "source": [
    "## preparing dataframe for training\n",
    "df_input = df_normalised[columns_to_norm + y_columns].copy(deep=True)"
   ]
  },
  {
   "cell_type": "code",
   "execution_count": 26,
   "metadata": {},
   "outputs": [],
   "source": [
    "df_input = df_input[:-1]"
   ]
  },
  {
   "cell_type": "code",
   "execution_count": 27,
   "metadata": {},
   "outputs": [],
   "source": [
    "df_input_set_aside = df_input[-17000:].copy(deep=True)"
   ]
  },
  {
   "cell_type": "code",
   "execution_count": 28,
   "metadata": {},
   "outputs": [],
   "source": [
    "df_input_traintest = df_input[:-17000].copy(deep=True)"
   ]
  },
  {
   "cell_type": "code",
   "execution_count": 29,
   "metadata": {},
   "outputs": [],
   "source": [
    "df_input_traintest = shuffle(df_input_traintest)"
   ]
  },
  {
   "cell_type": "code",
   "execution_count": 30,
   "metadata": {},
   "outputs": [],
   "source": [
    "X_train, X_test, y_train, y_test = train_test_split(df_input_traintest[columns_to_norm].values, \n",
    "                                                    df_input_traintest[['y_avg','y_low','y_high']].values ,\n",
    "                                                    train_size=0.70,\n",
    "                                                    random_state=42)"
   ]
  },
  {
   "cell_type": "code",
   "execution_count": 31,
   "metadata": {},
   "outputs": [
    {
     "data": {
      "text/plain": [
       "array([[ 0.6013337 , -0.63194096,  0.40751332],\n",
       "       [-0.23544566, -0.17652541,  0.26660928],\n",
       "       [-0.27557915, -0.26616523,  0.4213655 ],\n",
       "       ...,\n",
       "       [ 0.3280987 , -0.24822368,  0.37084153],\n",
       "       [ 0.13441385, -0.1489057 ,  0.1603165 ],\n",
       "       [ 0.33140427, -0.2693424 ,  0.4294711 ]], dtype=float32)"
      ]
     },
     "execution_count": 31,
     "metadata": {},
     "output_type": "execute_result"
    }
   ],
   "source": [
    "y_train"
   ]
  },
  {
   "cell_type": "code",
   "execution_count": 32,
   "metadata": {},
   "outputs": [],
   "source": [
    "y_train_avg = y_train[:,0]\n",
    "y_train_low = y_train[:,1]\n",
    "y_train_high = y_train[:,2]\n",
    "\n",
    "y_test_avg = y_test[:,0]\n",
    "y_test_low = y_test[:,1]\n",
    "y_test_high = y_test[:,2]"
   ]
  },
  {
   "cell_type": "code",
   "execution_count": 33,
   "metadata": {},
   "outputs": [],
   "source": [
    "pipeline_xgb_avg_rel = Pipeline([\n",
    "                            ('multi_clf', XGBRegressor(n_estimators=100, learning_rate=0.1, gamma=0, subsample=0.75,\n",
    "                                       colsample_bytree=1, max_depth=7) )\n",
    "                            ])\n",
    "\n",
    "\n",
    "pipeline_xgb_low = Pipeline([\n",
    "                            ('multi_clf', XGBRegressor(n_estimators=100, learning_rate=0.1, gamma=0, subsample=0.75,\n",
    "                                       colsample_bytree=1, max_depth=7) )\n",
    "                            ])\n",
    "\n",
    "pipeline_xgb_high = Pipeline([\n",
    "                            ('multi_clf', XGBRegressor(n_estimators=100, learning_rate=0.1, gamma=0, subsample=0.75,\n",
    "                                       colsample_bytree=1, max_depth=7) )\n",
    "                            ])\n"
   ]
  },
  {
   "cell_type": "markdown",
   "metadata": {},
   "source": [
    "> try different learning rates (0.08 is the best so far)"
   ]
  },
  {
   "cell_type": "code",
   "execution_count": 34,
   "metadata": {},
   "outputs": [
    {
     "name": "stderr",
     "output_type": "stream",
     "text": [
      "/Users/zen/opt/anaconda3/envs/envloop/lib/python3.7/site-packages/xgboost/data.py:106: UserWarning: Use subset (sliced data) of np.ndarray is not recommended because it will generate extra copies and increase memory consumption\n",
      "  \"because it will generate extra copies and increase \" +\n"
     ]
    },
    {
     "data": {
      "text/plain": [
       "Pipeline(steps=[('multi_clf',\n",
       "                 XGBRegressor(base_score=0.5, booster='gbtree',\n",
       "                              colsample_bylevel=1, colsample_bynode=1,\n",
       "                              colsample_bytree=1, gamma=0, gpu_id=-1,\n",
       "                              importance_type='gain',\n",
       "                              interaction_constraints='', learning_rate=0.1,\n",
       "                              max_delta_step=0, max_depth=7, min_child_weight=1,\n",
       "                              missing=nan, monotone_constraints='()',\n",
       "                              n_estimators=100, n_jobs=8, num_parallel_tree=1,\n",
       "                              random_state=0, reg_alpha=0, reg_lambda=1,\n",
       "                              scale_pos_weight=1, subsample=0.75,\n",
       "                              tree_method='exact', validate_parameters=1,\n",
       "                              verbosity=None))])"
      ]
     },
     "execution_count": 34,
     "metadata": {},
     "output_type": "execute_result"
    }
   ],
   "source": [
    "pipeline_xgb_low.fit(X_train, y_train_low)"
   ]
  },
  {
   "cell_type": "code",
   "execution_count": 35,
   "metadata": {},
   "outputs": [
    {
     "data": {
      "text/plain": [
       "Pipeline(steps=[('multi_clf',\n",
       "                 XGBRegressor(base_score=0.5, booster='gbtree',\n",
       "                              colsample_bylevel=1, colsample_bynode=1,\n",
       "                              colsample_bytree=1, gamma=0, gpu_id=-1,\n",
       "                              importance_type='gain',\n",
       "                              interaction_constraints='', learning_rate=0.1,\n",
       "                              max_delta_step=0, max_depth=7, min_child_weight=1,\n",
       "                              missing=nan, monotone_constraints='()',\n",
       "                              n_estimators=100, n_jobs=8, num_parallel_tree=1,\n",
       "                              random_state=0, reg_alpha=0, reg_lambda=1,\n",
       "                              scale_pos_weight=1, subsample=0.75,\n",
       "                              tree_method='exact', validate_parameters=1,\n",
       "                              verbosity=None))])"
      ]
     },
     "execution_count": 35,
     "metadata": {},
     "output_type": "execute_result"
    }
   ],
   "source": [
    "pipeline_xgb_avg_rel.fit(X_train, y_train_avg)\n",
    "pipeline_xgb_high.fit(X_train, y_train_high)"
   ]
  },
  {
   "cell_type": "code",
   "execution_count": 36,
   "metadata": {},
   "outputs": [
    {
     "data": {
      "text/plain": [
       "array([[-0.29479837,  0.41735258, -0.33288374, ...,  0.15096424,\n",
       "        -0.31277909, -0.8256981 ],\n",
       "       [ 0.21139104,  0.24090149, -0.00697913, ...,  0.12179704,\n",
       "        -0.03419998,  0.07081958],\n",
       "       [-0.09362069,  0.0281841 , -0.29522087, ..., -0.14982546,\n",
       "         0.21539663,  0.73282985],\n",
       "       ...,\n",
       "       [-0.25065601,  0.56662405, -0.31051511, ...,  0.15687993,\n",
       "        -0.13565203,  0.7544979 ],\n",
       "       [-0.19601246,  0.51789303, -0.19601246, ...,  0.06569769,\n",
       "        -0.39540185, -0.55977844],\n",
       "       [-0.49914211,  0.33003339, -1.77425939, ..., -1.11705796,\n",
       "        -0.51543579,  0.0441378 ]])"
      ]
     },
     "execution_count": 36,
     "metadata": {},
     "output_type": "execute_result"
    }
   ],
   "source": [
    "X_train"
   ]
  },
  {
   "cell_type": "code",
   "execution_count": 37,
   "metadata": {},
   "outputs": [
    {
     "data": {
      "text/plain": [
       "array([0.07482548, 0.11577956, 0.13486499, 0.31539315, 0.17495988,\n",
       "       0.07335466, 0.11082234], dtype=float32)"
      ]
     },
     "execution_count": 37,
     "metadata": {},
     "output_type": "execute_result"
    }
   ],
   "source": [
    "pipeline_xgb_avg_rel._final_estimator.feature_importances_"
   ]
  },
  {
   "cell_type": "code",
   "execution_count": 38,
   "metadata": {},
   "outputs": [
    {
     "data": {
      "text/plain": [
       "array([0.16244796, 0.22256657, 0.33253646, 0.12634191, 0.0378809 ,\n",
       "       0.04472347, 0.07350275], dtype=float32)"
      ]
     },
     "execution_count": 38,
     "metadata": {},
     "output_type": "execute_result"
    }
   ],
   "source": [
    "pipeline_xgb_low._final_estimator.feature_importances_"
   ]
  },
  {
   "cell_type": "code",
   "execution_count": 39,
   "metadata": {},
   "outputs": [
    {
     "data": {
      "text/plain": [
       "array([0.04001858, 0.2308267 , 0.43596196, 0.09280872, 0.05701578,\n",
       "       0.06087828, 0.08249004], dtype=float32)"
      ]
     },
     "execution_count": 39,
     "metadata": {},
     "output_type": "execute_result"
    }
   ],
   "source": [
    "pipeline_xgb_high._final_estimator.feature_importances_"
   ]
  },
  {
   "cell_type": "code",
   "execution_count": 40,
   "metadata": {},
   "outputs": [],
   "source": [
    "data_4H = pd.DataFrame([], columns = ['open','high','low','close','volume','quote_asset_volume'])\n",
    "data_4H.index.name = 'open_time'"
   ]
  },
  {
   "cell_type": "code",
   "execution_count": 41,
   "metadata": {},
   "outputs": [],
   "source": [
    "decide = DecisionMaking(columns_to_norm = columns_to_norm,\n",
    "                        base = base,\n",
    "                        list_to_add_unit_hour = [1,2,4],\n",
    "                        index_unit = '15min',\n",
    "                        model_avg = pipeline_xgb_avg_rel,\n",
    "                        model_high = pipeline_xgb_high,\n",
    "                        model_low = pipeline_xgb_low)"
   ]
  },
  {
   "cell_type": "code",
   "execution_count": 42,
   "metadata": {},
   "outputs": [],
   "source": [
    "min_df = df_ETHUSD_1min.iloc[0].name"
   ]
  },
  {
   "cell_type": "code",
   "execution_count": 43,
   "metadata": {},
   "outputs": [],
   "source": [
    "max_df = df_ETHUSD_1min.iloc[-1].name"
   ]
  },
  {
   "cell_type": "code",
   "execution_count": 44,
   "metadata": {},
   "outputs": [],
   "source": [
    "df_ETHUSD_1min_reindex = df_ETHUSD_1min.reindex(pd.date_range(start=min_df, end=max_df, freq='min')).copy(deep=True)"
   ]
  },
  {
   "cell_type": "code",
   "execution_count": 45,
   "metadata": {},
   "outputs": [],
   "source": [
    "df_ETHUSD_1min_reindex = df_ETHUSD_1min_reindex.fillna(method='ffill')"
   ]
  },
  {
   "cell_type": "code",
   "execution_count": 46,
   "metadata": {},
   "outputs": [],
   "source": [
    "df_ETHUSD_1min_reindex.index.name = 'open_time'"
   ]
  },
  {
   "cell_type": "code",
   "execution_count": 47,
   "metadata": {},
   "outputs": [],
   "source": [
    "df_base = df_ETHUSD_1min_reindex[df_ETHUSD_1min_reindex.index >= '2020-12-01'][:239]  ## + 12 to make sure it starts on the multiples of quarter minutes\n",
    "df_continue = df_ETHUSD_1min_reindex[df_ETHUSD_1min_reindex.index >= '2020-12-01'][239:]"
   ]
  },
  {
   "cell_type": "code",
   "execution_count": null,
   "metadata": {},
   "outputs": [],
   "source": []
  },
  {
   "cell_type": "code",
   "execution_count": 48,
   "metadata": {},
   "outputs": [],
   "source": [
    "### Action"
   ]
  },
  {
   "cell_type": "code",
   "execution_count": 49,
   "metadata": {
    "collapsed": true,
    "jupyter": {
     "outputs_hidden": true
    }
   },
   "outputs": [
    {
     "name": "stdout",
     "output_type": "stream",
     "text": [
      "initialisation\n"
     ]
    },
    {
     "data": {
      "text/html": [
       "<div>\n",
       "<style scoped>\n",
       "    .dataframe tbody tr th:only-of-type {\n",
       "        vertical-align: middle;\n",
       "    }\n",
       "\n",
       "    .dataframe tbody tr th {\n",
       "        vertical-align: top;\n",
       "    }\n",
       "\n",
       "    .dataframe thead th {\n",
       "        text-align: right;\n",
       "    }\n",
       "</style>\n",
       "<table border=\"1\" class=\"dataframe\">\n",
       "  <thead>\n",
       "    <tr style=\"text-align: right;\">\n",
       "      <th></th>\n",
       "      <th>time_of_event</th>\n",
       "      <th>event_name</th>\n",
       "      <th>usd_wallet</th>\n",
       "      <th>coin_wallet</th>\n",
       "      <th>next_action</th>\n",
       "      <th>pred_low</th>\n",
       "      <th>pred_high</th>\n",
       "      <th>true_low</th>\n",
       "      <th>true_high</th>\n",
       "    </tr>\n",
       "  </thead>\n",
       "  <tbody>\n",
       "    <tr>\n",
       "      <th>0</th>\n",
       "      <td>2021-02-06 22:28:20.510985</td>\n",
       "      <td>initiation</td>\n",
       "      <td>100</td>\n",
       "      <td>0</td>\n",
       "      <td>open_buy_position</td>\n",
       "      <td>None</td>\n",
       "      <td>None</td>\n",
       "      <td>None</td>\n",
       "      <td>None</td>\n",
       "    </tr>\n",
       "  </tbody>\n",
       "</table>\n",
       "</div>"
      ],
      "text/plain": [
       "               time_of_event  event_name  usd_wallet  coin_wallet  \\\n",
       "0 2021-02-06 22:28:20.510985  initiation         100            0   \n",
       "\n",
       "         next_action pred_low pred_high true_low true_high  \n",
       "0  open_buy_position     None      None     None      None  "
      ]
     },
     "metadata": {},
     "output_type": "display_data"
    },
    {
     "name": "stdout",
     "output_type": "stream",
     "text": [
      "try to close buy position!! 2020-12-01 11:31:00\n",
      "try to close buy position!! 2020-12-01 11:32:00\n",
      "try to close buy position!! 2020-12-01 11:33:00\n",
      "try to close buy position!! 2020-12-01 11:34:00\n",
      "try to close buy position!! 2020-12-01 11:35:00\n",
      "try to close buy position!! 2020-12-01 12:32:00\n",
      "try to close buy position!! 2020-12-01 12:48:00\n",
      "sell order taking too lond? 2020-12-01 13:18:00\n",
      "sell order taking too lond? 2020-12-01 13:19:00\n",
      "sell order taking too lond? 2020-12-01 13:20:00\n",
      "sell order taking too lond? 2020-12-01 13:21:00\n",
      "sell order taking too lond? 2020-12-01 13:22:00\n",
      "sell order taking too lond? 2020-12-01 13:23:00\n",
      "sell order taking too lond? 2020-12-01 13:24:00\n",
      "sell order taking too lond? 2020-12-01 13:25:00\n",
      "sell order taking too lond? 2020-12-01 13:26:00\n",
      "sell order taking too lond? 2020-12-01 13:27:00\n",
      "sell order taking too lond? 2020-12-01 13:28:00\n",
      "sell order taking too lond? 2020-12-01 13:29:00\n",
      "sell order taking too lond? 2020-12-01 13:30:00\n",
      "sell order taking too lond? 2020-12-01 13:31:00\n",
      "sell order taking too lond? 2020-12-01 13:32:00\n",
      "sell order taking too lond? 2020-12-01 13:33:00\n",
      "sell order taking too lond? 2020-12-01 13:34:00\n",
      "sell order taking too lond? 2020-12-01 13:35:00\n",
      "sell order taking too lond? 2020-12-01 13:36:00\n",
      "sell order taking too lond? 2020-12-01 13:37:00\n",
      "sell order taking too lond? 2020-12-01 13:38:00\n",
      "sell order taking too lond? 2020-12-01 13:39:00\n",
      "sell order taking too lond? 2020-12-01 13:40:00\n",
      "sell order taking too lond? 2020-12-01 13:41:00\n",
      "sell order taking too lond? 2020-12-01 13:42:00\n",
      "sell order taking too lond? 2020-12-01 13:43:00\n",
      "2020-12-01 14:01:00\n",
      "2020-12-02 00:01:00\n",
      "2020-12-02 10:01:00\n",
      "2020-12-02 20:01:00\n",
      "2020-12-03 06:01:00\n",
      "2020-12-03 16:01:00\n",
      "2020-12-04 02:01:00\n",
      "2020-12-04 12:01:00\n",
      "2020-12-04 22:01:00\n",
      "2020-12-05 08:01:00\n",
      "2020-12-05 18:01:00\n",
      "2020-12-06 04:01:00\n",
      "2020-12-06 14:01:00\n",
      "2020-12-07 00:01:00\n",
      "2020-12-07 10:01:00\n",
      "2020-12-07 20:01:00\n",
      "2020-12-08 06:01:00\n",
      "2020-12-08 16:01:00\n",
      "2020-12-09 02:01:00\n",
      "2020-12-09 12:01:00\n",
      "2020-12-09 22:01:00\n",
      "2020-12-10 08:01:00\n",
      "2020-12-10 18:01:00\n",
      "2020-12-11 04:01:00\n",
      "2020-12-11 14:01:00\n",
      "2020-12-12 00:01:00\n",
      "2020-12-12 10:01:00\n",
      "2020-12-12 20:01:00\n",
      "2020-12-13 06:01:00\n",
      "2020-12-13 16:01:00\n",
      "2020-12-14 02:01:00\n",
      "2020-12-14 12:01:00\n",
      "2020-12-14 22:01:00\n",
      "2020-12-15 08:01:00\n",
      "2020-12-15 18:01:00\n",
      "2020-12-16 04:01:00\n",
      "2020-12-16 14:01:00\n",
      "2020-12-17 00:01:00\n",
      "2020-12-17 10:01:00\n",
      "2020-12-17 20:01:00\n",
      "2020-12-18 06:01:00\n",
      "2020-12-18 16:01:00\n",
      "2020-12-19 02:01:00\n",
      "2020-12-19 12:01:00\n",
      "2020-12-19 22:01:00\n",
      "2020-12-20 08:01:00\n",
      "2020-12-20 18:01:00\n",
      "2020-12-21 04:01:00\n",
      "2020-12-21 14:01:00\n",
      "2020-12-22 00:01:00\n",
      "2020-12-22 10:01:00\n",
      "2020-12-22 20:01:00\n",
      "2020-12-23 06:01:00\n",
      "2020-12-23 16:01:00\n",
      "try to close buy position!! 2020-12-23 22:34:00\n",
      "try to close buy position!! 2020-12-23 22:35:00\n",
      "try to close buy position!! 2020-12-23 22:36:00\n",
      "try to close buy position!! 2020-12-23 22:37:00\n",
      "try to close buy position!! 2020-12-23 22:38:00\n",
      "try to close buy position!! 2020-12-23 22:39:00\n",
      "try to close buy position!! 2020-12-23 22:40:00\n",
      "try to close buy position!! 2020-12-23 22:41:00\n",
      "try to close buy position!! 2020-12-23 22:42:00\n",
      "try to close buy position!! 2020-12-23 22:43:00\n",
      "try to close buy position!! 2020-12-23 22:44:00\n",
      "try to close buy position!! 2020-12-23 22:45:00\n",
      "try to close buy position!! 2020-12-23 22:46:00\n",
      "try to close buy position!! 2020-12-23 22:47:00\n",
      "try to close buy position!! 2020-12-23 22:48:00\n",
      "try to close buy position!! 2020-12-23 22:49:00\n",
      "try to close buy position!! 2020-12-23 22:50:00\n",
      "try to close buy position!! 2020-12-23 22:51:00\n",
      "try to close buy position!! 2020-12-23 22:52:00\n",
      "try to close buy position!! 2020-12-23 22:53:00\n",
      "try to close buy position!! 2020-12-23 22:54:00\n",
      "try to close buy position!! 2020-12-23 22:55:00\n",
      "try to close buy position!! 2020-12-23 22:56:00\n",
      "try to close buy position!! 2020-12-23 22:57:00\n",
      "try to close buy position!! 2020-12-23 22:58:00\n",
      "try to close buy position!! 2020-12-23 22:59:00\n",
      "try to close buy position!! 2020-12-23 23:00:00\n",
      "try to close buy position!! 2020-12-23 23:01:00\n",
      "try to close buy position!! 2020-12-23 23:02:00\n",
      "heere>>>>>>> Buy order expired, Reset open_buy_position 2020-12-23 23:02:00\n",
      "2020-12-24 02:02:00\n",
      "2020-12-24 12:02:00\n",
      "2020-12-24 22:02:00\n",
      "2020-12-25 08:02:00\n",
      "2020-12-25 18:02:00\n",
      "2020-12-26 04:02:00\n",
      "2020-12-26 14:02:00\n",
      "2020-12-27 00:02:00\n",
      "2020-12-27 10:02:00\n",
      "try to close buy position!! 2020-12-27 14:20:00\n",
      "try to close buy position!! 2020-12-27 14:21:00\n",
      "try to close buy position!! 2020-12-27 14:22:00\n",
      "try to close buy position!! 2020-12-27 14:23:00\n",
      "try to close buy position!! 2020-12-27 14:24:00\n",
      "try to close buy position!! 2020-12-27 14:25:00\n",
      "try to close buy position!! 2020-12-27 14:26:00\n",
      "try to close buy position!! 2020-12-27 14:27:00\n",
      "try to close buy position!! 2020-12-27 14:28:00\n",
      "try to close buy position!! 2020-12-27 14:29:00\n",
      "try to close buy position!! 2020-12-27 14:30:00\n",
      "try to close buy position!! 2020-12-27 14:31:00\n",
      "try to close buy position!! 2020-12-27 14:32:00\n",
      "try to close buy position!! 2020-12-27 14:33:00\n",
      "try to close buy position!! 2020-12-27 14:34:00\n",
      "try to close buy position!! 2020-12-27 14:35:00\n",
      "try to close buy position!! 2020-12-27 14:36:00\n",
      "try to close buy position!! 2020-12-27 14:37:00\n",
      "try to close buy position!! 2020-12-27 14:38:00\n",
      "try to close buy position!! 2020-12-27 14:39:00\n",
      "try to close buy position!! 2020-12-27 14:40:00\n",
      "try to close buy position!! 2020-12-27 14:41:00\n",
      "try to close buy position!! 2020-12-27 14:42:00\n",
      "try to close buy position!! 2020-12-27 14:43:00\n",
      "try to close buy position!! 2020-12-27 14:44:00\n",
      "try to close buy position!! 2020-12-27 14:45:00\n",
      "try to close buy position!! 2020-12-27 14:46:00\n",
      "try to close buy position!! 2020-12-27 14:47:00\n",
      "try to close buy position!! 2020-12-27 14:48:00\n",
      "heere>>>>>>> Buy order expired, Reset open_buy_position 2020-12-27 14:48:00\n",
      "try to close buy position!! 2020-12-27 16:36:00\n",
      "try to close buy position!! 2020-12-27 16:37:00\n",
      "try to close buy position!! 2020-12-27 16:38:00\n",
      "try to close buy position!! 2020-12-27 16:39:00\n",
      "try to close buy position!! 2020-12-27 16:40:00\n",
      "try to close buy position!! 2020-12-27 16:41:00\n",
      "try to close buy position!! 2020-12-27 16:42:00\n",
      "try to close buy position!! 2020-12-27 16:43:00\n",
      "try to close buy position!! 2020-12-27 16:44:00\n",
      "try to close buy position!! 2020-12-27 16:45:00\n",
      "try to close buy position!! 2020-12-27 16:46:00\n",
      "try to close buy position!! 2020-12-27 16:47:00\n",
      "try to close buy position!! 2020-12-27 16:48:00\n",
      "try to close buy position!! 2020-12-27 16:49:00\n",
      "try to close buy position!! 2020-12-27 16:50:00\n",
      "try to close buy position!! 2020-12-27 16:51:00\n",
      "try to close buy position!! 2020-12-27 16:52:00\n",
      "try to close buy position!! 2020-12-27 16:53:00\n",
      "try to close buy position!! 2020-12-27 16:54:00\n",
      "try to close buy position!! 2020-12-27 16:55:00\n",
      "try to close buy position!! 2020-12-27 16:56:00\n",
      "try to close buy position!! 2020-12-27 16:57:00\n",
      "try to close buy position!! 2020-12-27 16:58:00\n",
      "try to close buy position!! 2020-12-27 16:59:00\n",
      "try to close buy position!! 2020-12-27 17:00:00\n",
      "try to close buy position!! 2020-12-27 17:01:00\n",
      "try to close buy position!! 2020-12-27 17:02:00\n",
      "try to close buy position!! 2020-12-27 17:03:00\n",
      "try to close buy position!! 2020-12-27 17:04:00\n",
      "heere>>>>>>> Buy order expired, Reset open_buy_position 2020-12-27 17:04:00\n",
      "2020-12-27 20:04:00\n",
      "2020-12-28 06:04:00\n",
      "2020-12-28 16:04:00\n",
      "2020-12-29 02:04:00\n",
      "2020-12-29 12:04:00\n",
      "2020-12-29 22:04:00\n"
     ]
    }
   ],
   "source": [
    "\n",
    "history_log = [{'time': datetime.now(),\n",
    "                'last_event': 'start outside log',\n",
    "                'next_event': 'begin trading'}]\n",
    "n = 0\n",
    "to_skip_trade = False\n",
    "\n",
    "## fee of 0.4%\n",
    "downward_adjustment = 1  ## unit percent\n",
    "dif_high_low = 3 ## unit percent\n",
    "order_high_from_low = 1.5 ## unit percent, at least 0.4\n",
    "\n",
    "# eth_bot1 = TradingBot(100, 0)\n",
    "# next_event = eth_bot1.get_log()[-1]['next_action'] \n",
    "\n",
    "prediction_log = []\n",
    "\n",
    "number_of_window = 0\n",
    "\n",
    "_Waiting_ = False  ## waiting for orders\n",
    "_LastEvent_ = 'initiation'\n",
    "_NextEvent_ = 'open_buy_position'  # open_buy_position | close_buy_position | close_sell_position\n",
    "                                   # open_sell_position <- should be done in MrMarket\n",
    "                                    \n",
    "\n",
    "MrMarket_ETH = MrMarket(usd=100,\n",
    "                        coin=0, \n",
    "                        last_event=_LastEvent_,\n",
    "                        next_event=_NextEvent_,\n",
    "                        taker_fee=0.4)\n",
    "wait_for_one = False\n",
    "        \n",
    "for k, row in df_continue.iterrows():\n",
    "    \"\"\"4H of data\"\"\"\n",
    "    row_append =pd.Series( {'open' :row['open'],\n",
    "                          'high' :row['high'],\n",
    "                          'low'  :row['low'],\n",
    "                          'close':row['close'],\n",
    "                          'volume':row['volume'],\n",
    "                          'quote_asset_volume':row['quote_asset_volume']\n",
    "                       }, \n",
    "                     name = row.name\n",
    "                     )\n",
    "\n",
    "    df_base = df_base.append(row_append, ignore_index=False)\n",
    "    \n",
    "    ## if at 15min point, and ....\n",
    "    if (n%15 == 0) and \\\n",
    "       (_NextEvent_ == 'open_buy_position') and \\\n",
    "       (_Waiting_ == False) :\n",
    "#         print('ML training ---------------------', row.name)\n",
    "        for_log = run_decision(decide, df_base) ## apend to log\n",
    "        \n",
    "#         print(\"condition:  \", 100 * (for_log['pred_high']/for_log['pred_low'] -1) > dif_high_low, 100 * (for_log['pred_high']/for_log['pred_low'] -1))\n",
    "        \n",
    "        ## check if the margin is okay\n",
    "        if 100 * (for_log['pred_high']/for_log['pred_low'] -1) > dif_high_low:\n",
    "            number_of_window += 1\n",
    "            \n",
    "            predicted_values = run_decision(decide, df_base)\n",
    "            low_price_position = predicted_values['pred_low'] * ((100-downward_adjustment)/100)\n",
    "            high_price_position = low_price_position * (100 + order_high_from_low)/100\n",
    "\n",
    "\n",
    "            MrMarket_ETH.open_buy_position(low_price_position, high_price_position, row) # should then have a buy position opened at low price, then a sell position once that is triggered\n",
    "            _LastEvent_ = _NextEvent_\n",
    "            _Waiting_, _NextEvent_ = MrMarket_ETH._CheckOrder_() ## True, close_buy_position\n",
    "        \n",
    "            wait_for_one = True\n",
    "            \n",
    "            assert _Waiting_ in [True, False], \"_Waiting_ must be boolean\"\n",
    "            assert _NextEvent_ in ['close_buy_position','close_sell_position']\n",
    "            \n",
    "            continue\n",
    "\n",
    "        else:\n",
    "            history_log.append({'time': row.name,\n",
    "                                'last_event': \"margin not met\",\n",
    "                                'next_event': _NextEvent_,\n",
    "                                'detail'    : for_log})\n",
    "      \n",
    "    if wait_for_one:\n",
    "        wait_for_one = False\n",
    "\n",
    "    else:\n",
    "        if _Waiting_ == True:\n",
    "            ## All the below can be put in MrMarket\n",
    "\n",
    "            MrMarket_ETH.data(row)  ## provide data for MrMarket\n",
    "            if _NextEvent_ == 'close_buy_position': ## close sell position should be done with MrMarket\n",
    "                _Verdict_ = MrMarket_ETH.check_status(_NextEvent_) ## check if true_low <= pred_low\n",
    "\n",
    "                assert _Verdict_ in ['Buy condition not met', 'Executed Buy', 'Buy order expired, Reset']\n",
    "\n",
    "                if _Verdict_ == 'Executed Buy':\n",
    "                    _LastEvent_ = _NextEvent_\n",
    "                    _Waiting_, _NextEvent_ = MrMarket_ETH._CheckOrder_()  ## should have already executed buy order, and open a sell order\n",
    "                    assert _Waiting_ == True, \"Should be still waiting for the execution\"\n",
    "                    assert _NextEvent_ == 'close_sell_position', \"Next event should be close sell position\"\n",
    "\n",
    "                    history_log.append({'time': row.name,\n",
    "                                        'last_event': _LastEvent_,\n",
    "                                        'next_event': _Verdict_})\n",
    "\n",
    "                elif _Verdict_ == 'Buy condition not met':\n",
    "                    history_log.append({'time': row.name,\n",
    "                                        'last_event': _LastEvent_,\n",
    "                                        'next_event': _Verdict_})\n",
    "\n",
    "                elif _Verdict_ == 'Buy order expired, Reset':\n",
    "                    history_log.append({'time': row.name,\n",
    "                                        'last_event': _LastEvent_,\n",
    "                                        'next_event': _Verdict_})\n",
    "                    _Waiting_ = False\n",
    "                    _NextEvent_ = 'open_buy_position'\n",
    "\n",
    "                else:\n",
    "                    print(\"!! _Verdict_ is wrong!! Shouldn't show: {} \".format(_Verdict_))\n",
    "                    break \n",
    "                    #! shouldn't have anything here\n",
    "\n",
    "            else:\n",
    "                _Verdict_ = MrMarket_ETH.check_status(_NextEvent_)\n",
    "                assert _Verdict_ in ['Sell condition not met', 'Executed Sell']\n",
    "\n",
    "                if _Verdict_ == 'Executed Sell':\n",
    "                    _LastEvent_ = _NextEvent_\n",
    "                    _Waiting_, _NextEvent_ = MrMarket_ETH._CheckOrder_()  ## should have already executed sell order, and should be just waiting now\n",
    "                    assert _Waiting_ == False, \"Should not be waiting for anything, ready to accept a new buy order\"\n",
    "                    assert _NextEvent_ == 'open_buy_position', \"Next event should be open buy position\"\n",
    "\n",
    "                    history_log.append({'time': row.name,\n",
    "                                        'last_event': _LastEvent_,\n",
    "                                        'next_event': _Verdict_})\n",
    "\n",
    "                else: ## sell condition not met\n",
    "                    history_log.append({'time': row.name,\n",
    "                                        'last_event': _LastEvent_,\n",
    "                                        'next_event': _Verdict_})\n",
    "\n",
    "\n",
    "    #             elif: ## expired order\n",
    "\n",
    "\n",
    "    #             else:\n",
    "    #                 #! shouldn't have anything here\n",
    "\n",
    "        else:\n",
    "            history_log.append({'time': row.name,\n",
    "                                'last_event': \"some condition not met\",\n",
    "                                'next_event': _NextEvent_,\n",
    "                                'detail'    : for_log})\n",
    "    \n",
    "    n += 1 \n",
    "    df_base = df_base[1:]\n",
    "    \n",
    "    if n% (60*10) == 0:\n",
    "        print(row.name)"
   ]
  },
  {
   "cell_type": "code",
   "execution_count": 50,
   "metadata": {},
   "outputs": [],
   "source": [
    "trading_log = pd.DataFrame(MrMarket_ETH.history_log)"
   ]
  },
  {
   "cell_type": "code",
   "execution_count": 51,
   "metadata": {},
   "outputs": [
    {
     "data": {
      "text/html": [
       "<div>\n",
       "<style scoped>\n",
       "    .dataframe tbody tr th:only-of-type {\n",
       "        vertical-align: middle;\n",
       "    }\n",
       "\n",
       "    .dataframe tbody tr th {\n",
       "        vertical-align: top;\n",
       "    }\n",
       "\n",
       "    .dataframe thead th {\n",
       "        text-align: right;\n",
       "    }\n",
       "</style>\n",
       "<table border=\"1\" class=\"dataframe\">\n",
       "  <thead>\n",
       "    <tr style=\"text-align: right;\">\n",
       "      <th></th>\n",
       "      <th>time_of_event</th>\n",
       "      <th>event_name</th>\n",
       "      <th>usd_wallet</th>\n",
       "      <th>coin_wallet</th>\n",
       "      <th>next_action</th>\n",
       "      <th>pred_low</th>\n",
       "      <th>pred_high</th>\n",
       "      <th>true_low</th>\n",
       "      <th>true_high</th>\n",
       "      <th>position_opened_at</th>\n",
       "    </tr>\n",
       "  </thead>\n",
       "  <tbody>\n",
       "    <tr>\n",
       "      <th>0</th>\n",
       "      <td>2021-02-06 22:28:20.510985</td>\n",
       "      <td>initiation</td>\n",
       "      <td>100.000000</td>\n",
       "      <td>0.0</td>\n",
       "      <td>open_buy_position</td>\n",
       "      <td>NaN</td>\n",
       "      <td>NaN</td>\n",
       "      <td>NaN</td>\n",
       "      <td>NaN</td>\n",
       "      <td>NaN</td>\n",
       "    </tr>\n",
       "    <tr>\n",
       "      <th>1</th>\n",
       "      <td>2020-12-01 11:29:00.000000</td>\n",
       "      <td>open_buy_position</td>\n",
       "      <td>100.000000</td>\n",
       "      <td>0.0</td>\n",
       "      <td>close_buy_position</td>\n",
       "      <td>607.278732</td>\n",
       "      <td>616.387913</td>\n",
       "      <td>612.549988</td>\n",
       "      <td>615.919983</td>\n",
       "      <td>{'open_buy': 2020-12-01 11:29:00, 'open_sell':...</td>\n",
       "    </tr>\n",
       "    <tr>\n",
       "      <th>2</th>\n",
       "      <td>2020-12-01 11:31:00.000000</td>\n",
       "      <td>Buy condition not met</td>\n",
       "      <td>100.000000</td>\n",
       "      <td>0.0</td>\n",
       "      <td>close_buy_position</td>\n",
       "      <td>607.278732</td>\n",
       "      <td>616.387913</td>\n",
       "      <td>614.000000</td>\n",
       "      <td>617.609985</td>\n",
       "      <td>{'open_buy': 2020-12-01 11:29:00, 'open_sell':...</td>\n",
       "    </tr>\n",
       "    <tr>\n",
       "      <th>3</th>\n",
       "      <td>2020-12-01 11:32:00.000000</td>\n",
       "      <td>Buy condition not met</td>\n",
       "      <td>100.000000</td>\n",
       "      <td>0.0</td>\n",
       "      <td>close_buy_position</td>\n",
       "      <td>607.278732</td>\n",
       "      <td>616.387913</td>\n",
       "      <td>613.000000</td>\n",
       "      <td>615.299988</td>\n",
       "      <td>{'open_buy': 2020-12-01 11:29:00, 'open_sell':...</td>\n",
       "    </tr>\n",
       "    <tr>\n",
       "      <th>4</th>\n",
       "      <td>2020-12-01 11:33:00.000000</td>\n",
       "      <td>Buy condition not met</td>\n",
       "      <td>100.000000</td>\n",
       "      <td>0.0</td>\n",
       "      <td>close_buy_position</td>\n",
       "      <td>607.278732</td>\n",
       "      <td>616.387913</td>\n",
       "      <td>614.000000</td>\n",
       "      <td>616.799988</td>\n",
       "      <td>{'open_buy': 2020-12-01 11:29:00, 'open_sell':...</td>\n",
       "    </tr>\n",
       "    <tr>\n",
       "      <th>...</th>\n",
       "      <td>...</td>\n",
       "      <td>...</td>\n",
       "      <td>...</td>\n",
       "      <td>...</td>\n",
       "      <td>...</td>\n",
       "      <td>...</td>\n",
       "      <td>...</td>\n",
       "      <td>...</td>\n",
       "      <td>...</td>\n",
       "      <td>...</td>\n",
       "    </tr>\n",
       "    <tr>\n",
       "      <th>166</th>\n",
       "      <td>2020-12-27 17:00:00.000000</td>\n",
       "      <td>Buy condition not met</td>\n",
       "      <td>102.083172</td>\n",
       "      <td>0.0</td>\n",
       "      <td>close_buy_position</td>\n",
       "      <td>678.382488</td>\n",
       "      <td>688.558225</td>\n",
       "      <td>693.989990</td>\n",
       "      <td>696.619995</td>\n",
       "      <td>{'open_buy': 2020-12-27 16:34:00, 'open_sell':...</td>\n",
       "    </tr>\n",
       "    <tr>\n",
       "      <th>167</th>\n",
       "      <td>2020-12-27 17:01:00.000000</td>\n",
       "      <td>Buy condition not met</td>\n",
       "      <td>102.083172</td>\n",
       "      <td>0.0</td>\n",
       "      <td>close_buy_position</td>\n",
       "      <td>678.382488</td>\n",
       "      <td>688.558225</td>\n",
       "      <td>693.289978</td>\n",
       "      <td>695.950012</td>\n",
       "      <td>{'open_buy': 2020-12-27 16:34:00, 'open_sell':...</td>\n",
       "    </tr>\n",
       "    <tr>\n",
       "      <th>168</th>\n",
       "      <td>2020-12-27 17:02:00.000000</td>\n",
       "      <td>Buy condition not met</td>\n",
       "      <td>102.083172</td>\n",
       "      <td>0.0</td>\n",
       "      <td>close_buy_position</td>\n",
       "      <td>678.382488</td>\n",
       "      <td>688.558225</td>\n",
       "      <td>692.200012</td>\n",
       "      <td>694.919983</td>\n",
       "      <td>{'open_buy': 2020-12-27 16:34:00, 'open_sell':...</td>\n",
       "    </tr>\n",
       "    <tr>\n",
       "      <th>169</th>\n",
       "      <td>2020-12-27 17:03:00.000000</td>\n",
       "      <td>Buy condition not met</td>\n",
       "      <td>102.083172</td>\n",
       "      <td>0.0</td>\n",
       "      <td>close_buy_position</td>\n",
       "      <td>678.382488</td>\n",
       "      <td>688.558225</td>\n",
       "      <td>691.909973</td>\n",
       "      <td>693.880005</td>\n",
       "      <td>{'open_buy': 2020-12-27 16:34:00, 'open_sell':...</td>\n",
       "    </tr>\n",
       "    <tr>\n",
       "      <th>170</th>\n",
       "      <td>2020-12-27 17:04:00.000000</td>\n",
       "      <td>expired buy order</td>\n",
       "      <td>102.083172</td>\n",
       "      <td>0.0</td>\n",
       "      <td>open_buy_position</td>\n",
       "      <td>678.382488</td>\n",
       "      <td>688.558225</td>\n",
       "      <td>690.859985</td>\n",
       "      <td>694.150024</td>\n",
       "      <td>None</td>\n",
       "    </tr>\n",
       "  </tbody>\n",
       "</table>\n",
       "<p>171 rows × 10 columns</p>\n",
       "</div>"
      ],
      "text/plain": [
       "                 time_of_event             event_name  usd_wallet  \\\n",
       "0   2021-02-06 22:28:20.510985             initiation  100.000000   \n",
       "1   2020-12-01 11:29:00.000000      open_buy_position  100.000000   \n",
       "2   2020-12-01 11:31:00.000000  Buy condition not met  100.000000   \n",
       "3   2020-12-01 11:32:00.000000  Buy condition not met  100.000000   \n",
       "4   2020-12-01 11:33:00.000000  Buy condition not met  100.000000   \n",
       "..                         ...                    ...         ...   \n",
       "166 2020-12-27 17:00:00.000000  Buy condition not met  102.083172   \n",
       "167 2020-12-27 17:01:00.000000  Buy condition not met  102.083172   \n",
       "168 2020-12-27 17:02:00.000000  Buy condition not met  102.083172   \n",
       "169 2020-12-27 17:03:00.000000  Buy condition not met  102.083172   \n",
       "170 2020-12-27 17:04:00.000000      expired buy order  102.083172   \n",
       "\n",
       "     coin_wallet         next_action    pred_low   pred_high    true_low  \\\n",
       "0            0.0   open_buy_position         NaN         NaN         NaN   \n",
       "1            0.0  close_buy_position  607.278732  616.387913  612.549988   \n",
       "2            0.0  close_buy_position  607.278732  616.387913  614.000000   \n",
       "3            0.0  close_buy_position  607.278732  616.387913  613.000000   \n",
       "4            0.0  close_buy_position  607.278732  616.387913  614.000000   \n",
       "..           ...                 ...         ...         ...         ...   \n",
       "166          0.0  close_buy_position  678.382488  688.558225  693.989990   \n",
       "167          0.0  close_buy_position  678.382488  688.558225  693.289978   \n",
       "168          0.0  close_buy_position  678.382488  688.558225  692.200012   \n",
       "169          0.0  close_buy_position  678.382488  688.558225  691.909973   \n",
       "170          0.0   open_buy_position  678.382488  688.558225  690.859985   \n",
       "\n",
       "      true_high                                 position_opened_at  \n",
       "0           NaN                                                NaN  \n",
       "1    615.919983  {'open_buy': 2020-12-01 11:29:00, 'open_sell':...  \n",
       "2    617.609985  {'open_buy': 2020-12-01 11:29:00, 'open_sell':...  \n",
       "3    615.299988  {'open_buy': 2020-12-01 11:29:00, 'open_sell':...  \n",
       "4    616.799988  {'open_buy': 2020-12-01 11:29:00, 'open_sell':...  \n",
       "..          ...                                                ...  \n",
       "166  696.619995  {'open_buy': 2020-12-27 16:34:00, 'open_sell':...  \n",
       "167  695.950012  {'open_buy': 2020-12-27 16:34:00, 'open_sell':...  \n",
       "168  694.919983  {'open_buy': 2020-12-27 16:34:00, 'open_sell':...  \n",
       "169  693.880005  {'open_buy': 2020-12-27 16:34:00, 'open_sell':...  \n",
       "170  694.150024                                               None  \n",
       "\n",
       "[171 rows x 10 columns]"
      ]
     },
     "execution_count": 51,
     "metadata": {},
     "output_type": "execute_result"
    }
   ],
   "source": [
    "trading_log"
   ]
  },
  {
   "cell_type": "code",
   "execution_count": 52,
   "metadata": {},
   "outputs": [
    {
     "data": {
      "text/plain": [
       "False"
      ]
     },
     "execution_count": 52,
     "metadata": {},
     "output_type": "execute_result"
    }
   ],
   "source": [
    "_Waiting_"
   ]
  },
  {
   "cell_type": "code",
   "execution_count": 53,
   "metadata": {},
   "outputs": [
    {
     "data": {
      "text/plain": [
       "'open_buy_position'"
      ]
     },
     "execution_count": 53,
     "metadata": {},
     "output_type": "execute_result"
    }
   ],
   "source": [
    "_NextEvent_"
   ]
  },
  {
   "cell_type": "code",
   "execution_count": null,
   "metadata": {},
   "outputs": [],
   "source": []
  },
  {
   "cell_type": "code",
   "execution_count": null,
   "metadata": {},
   "outputs": [],
   "source": []
  },
  {
   "cell_type": "code",
   "execution_count": 54,
   "metadata": {},
   "outputs": [],
   "source": [
    "outside_log = pd.DataFrame(history_log)"
   ]
  },
  {
   "cell_type": "code",
   "execution_count": 55,
   "metadata": {},
   "outputs": [
    {
     "data": {
      "text/plain": [
       "array(['start outside log', 'margin not met', 'some condition not met',\n",
       "       'open_buy_position', 'close_buy_position', 'close_sell_position'],\n",
       "      dtype=object)"
      ]
     },
     "execution_count": 55,
     "metadata": {},
     "output_type": "execute_result"
    }
   ],
   "source": [
    "outside_log['last_event'].unique()"
   ]
  },
  {
   "cell_type": "code",
   "execution_count": 56,
   "metadata": {},
   "outputs": [
    {
     "data": {
      "text/plain": [
       "{'pred_avg': 605.6286606646917,\n",
       " 'pred_low': 604.6603675244602,\n",
       " 'pred_high': 609.5173300483716}"
      ]
     },
     "execution_count": 56,
     "metadata": {},
     "output_type": "execute_result"
    }
   ],
   "source": [
    "outside_log['detail'][1]"
   ]
  },
  {
   "cell_type": "code",
   "execution_count": 57,
   "metadata": {},
   "outputs": [
    {
     "data": {
      "text/plain": [
       "{'pred_avg': 605.9243583522174,\n",
       " 'pred_low': 602.9375390004077,\n",
       " 'pred_high': 606.2747683090927}"
      ]
     },
     "execution_count": 57,
     "metadata": {},
     "output_type": "execute_result"
    }
   ],
   "source": [
    "outside_log['detail'][100]"
   ]
  },
  {
   "cell_type": "code",
   "execution_count": 58,
   "metadata": {},
   "outputs": [
    {
     "data": {
      "text/html": [
       "<div>\n",
       "<style scoped>\n",
       "    .dataframe tbody tr th:only-of-type {\n",
       "        vertical-align: middle;\n",
       "    }\n",
       "\n",
       "    .dataframe tbody tr th {\n",
       "        vertical-align: top;\n",
       "    }\n",
       "\n",
       "    .dataframe thead th {\n",
       "        text-align: right;\n",
       "    }\n",
       "</style>\n",
       "<table border=\"1\" class=\"dataframe\">\n",
       "  <thead>\n",
       "    <tr style=\"text-align: right;\">\n",
       "      <th></th>\n",
       "      <th>time</th>\n",
       "      <th>last_event</th>\n",
       "      <th>next_event</th>\n",
       "      <th>detail</th>\n",
       "    </tr>\n",
       "  </thead>\n",
       "  <tbody>\n",
       "    <tr>\n",
       "      <th>0</th>\n",
       "      <td>2021-02-06 22:28:20.510789</td>\n",
       "      <td>start outside log</td>\n",
       "      <td>begin trading</td>\n",
       "      <td>NaN</td>\n",
       "    </tr>\n",
       "    <tr>\n",
       "      <th>607</th>\n",
       "      <td>2020-12-01 13:38:00.000000</td>\n",
       "      <td>close_buy_position</td>\n",
       "      <td>Sell condition not met</td>\n",
       "      <td>NaN</td>\n",
       "    </tr>\n",
       "    <tr>\n",
       "      <th>608</th>\n",
       "      <td>2020-12-01 13:39:00.000000</td>\n",
       "      <td>close_buy_position</td>\n",
       "      <td>Sell condition not met</td>\n",
       "      <td>NaN</td>\n",
       "    </tr>\n",
       "    <tr>\n",
       "      <th>609</th>\n",
       "      <td>2020-12-01 13:40:00.000000</td>\n",
       "      <td>close_buy_position</td>\n",
       "      <td>Sell condition not met</td>\n",
       "      <td>NaN</td>\n",
       "    </tr>\n",
       "    <tr>\n",
       "      <th>610</th>\n",
       "      <td>2020-12-01 13:41:00.000000</td>\n",
       "      <td>close_buy_position</td>\n",
       "      <td>Sell condition not met</td>\n",
       "      <td>NaN</td>\n",
       "    </tr>\n",
       "    <tr>\n",
       "      <th>611</th>\n",
       "      <td>2020-12-01 13:42:00.000000</td>\n",
       "      <td>close_buy_position</td>\n",
       "      <td>Sell condition not met</td>\n",
       "      <td>NaN</td>\n",
       "    </tr>\n",
       "    <tr>\n",
       "      <th>612</th>\n",
       "      <td>2020-12-01 13:43:00.000000</td>\n",
       "      <td>close_buy_position</td>\n",
       "      <td>Sell condition not met</td>\n",
       "      <td>NaN</td>\n",
       "    </tr>\n",
       "    <tr>\n",
       "      <th>613</th>\n",
       "      <td>2020-12-01 13:44:00.000000</td>\n",
       "      <td>close_sell_position</td>\n",
       "      <td>Executed Sell</td>\n",
       "      <td>NaN</td>\n",
       "    </tr>\n",
       "    <tr>\n",
       "      <th>614</th>\n",
       "      <td>2020-12-01 13:45:00.000000</td>\n",
       "      <td>some condition not met</td>\n",
       "      <td>open_buy_position</td>\n",
       "      <td>{'pred_avg': 604.8725064857432, 'pred_low': 59...</td>\n",
       "    </tr>\n",
       "    <tr>\n",
       "      <th>615</th>\n",
       "      <td>2020-12-01 13:46:00.000000</td>\n",
       "      <td>some condition not met</td>\n",
       "      <td>open_buy_position</td>\n",
       "      <td>{'pred_avg': 604.8725064857432, 'pred_low': 59...</td>\n",
       "    </tr>\n",
       "    <tr>\n",
       "      <th>616</th>\n",
       "      <td>2020-12-01 13:47:00.000000</td>\n",
       "      <td>margin not met</td>\n",
       "      <td>open_buy_position</td>\n",
       "      <td>{'pred_avg': 581.8376668272108, 'pred_low': 57...</td>\n",
       "    </tr>\n",
       "    <tr>\n",
       "      <th>617</th>\n",
       "      <td>2020-12-01 13:47:00.000000</td>\n",
       "      <td>some condition not met</td>\n",
       "      <td>open_buy_position</td>\n",
       "      <td>{'pred_avg': 581.8376668272108, 'pred_low': 57...</td>\n",
       "    </tr>\n",
       "    <tr>\n",
       "      <th>618</th>\n",
       "      <td>2020-12-01 13:48:00.000000</td>\n",
       "      <td>some condition not met</td>\n",
       "      <td>open_buy_position</td>\n",
       "      <td>{'pred_avg': 581.8376668272108, 'pred_low': 57...</td>\n",
       "    </tr>\n",
       "    <tr>\n",
       "      <th>619</th>\n",
       "      <td>2020-12-01 13:49:00.000000</td>\n",
       "      <td>some condition not met</td>\n",
       "      <td>open_buy_position</td>\n",
       "      <td>{'pred_avg': 581.8376668272108, 'pred_low': 57...</td>\n",
       "    </tr>\n",
       "    <tr>\n",
       "      <th>620</th>\n",
       "      <td>2020-12-01 13:50:00.000000</td>\n",
       "      <td>some condition not met</td>\n",
       "      <td>open_buy_position</td>\n",
       "      <td>{'pred_avg': 581.8376668272108, 'pred_low': 57...</td>\n",
       "    </tr>\n",
       "    <tr>\n",
       "      <th>621</th>\n",
       "      <td>2020-12-01 13:51:00.000000</td>\n",
       "      <td>some condition not met</td>\n",
       "      <td>open_buy_position</td>\n",
       "      <td>{'pred_avg': 581.8376668272108, 'pred_low': 57...</td>\n",
       "    </tr>\n",
       "    <tr>\n",
       "      <th>622</th>\n",
       "      <td>2020-12-01 13:52:00.000000</td>\n",
       "      <td>some condition not met</td>\n",
       "      <td>open_buy_position</td>\n",
       "      <td>{'pred_avg': 581.8376668272108, 'pred_low': 57...</td>\n",
       "    </tr>\n",
       "    <tr>\n",
       "      <th>623</th>\n",
       "      <td>2020-12-01 13:53:00.000000</td>\n",
       "      <td>some condition not met</td>\n",
       "      <td>open_buy_position</td>\n",
       "      <td>{'pred_avg': 581.8376668272108, 'pred_low': 57...</td>\n",
       "    </tr>\n",
       "    <tr>\n",
       "      <th>624</th>\n",
       "      <td>2020-12-01 13:54:00.000000</td>\n",
       "      <td>some condition not met</td>\n",
       "      <td>open_buy_position</td>\n",
       "      <td>{'pred_avg': 581.8376668272108, 'pred_low': 57...</td>\n",
       "    </tr>\n",
       "    <tr>\n",
       "      <th>625</th>\n",
       "      <td>2020-12-01 13:55:00.000000</td>\n",
       "      <td>some condition not met</td>\n",
       "      <td>open_buy_position</td>\n",
       "      <td>{'pred_avg': 581.8376668272108, 'pred_low': 57...</td>\n",
       "    </tr>\n",
       "  </tbody>\n",
       "</table>\n",
       "</div>"
      ],
      "text/plain": [
       "                          time              last_event  \\\n",
       "0   2021-02-06 22:28:20.510789       start outside log   \n",
       "607 2020-12-01 13:38:00.000000      close_buy_position   \n",
       "608 2020-12-01 13:39:00.000000      close_buy_position   \n",
       "609 2020-12-01 13:40:00.000000      close_buy_position   \n",
       "610 2020-12-01 13:41:00.000000      close_buy_position   \n",
       "611 2020-12-01 13:42:00.000000      close_buy_position   \n",
       "612 2020-12-01 13:43:00.000000      close_buy_position   \n",
       "613 2020-12-01 13:44:00.000000     close_sell_position   \n",
       "614 2020-12-01 13:45:00.000000  some condition not met   \n",
       "615 2020-12-01 13:46:00.000000  some condition not met   \n",
       "616 2020-12-01 13:47:00.000000          margin not met   \n",
       "617 2020-12-01 13:47:00.000000  some condition not met   \n",
       "618 2020-12-01 13:48:00.000000  some condition not met   \n",
       "619 2020-12-01 13:49:00.000000  some condition not met   \n",
       "620 2020-12-01 13:50:00.000000  some condition not met   \n",
       "621 2020-12-01 13:51:00.000000  some condition not met   \n",
       "622 2020-12-01 13:52:00.000000  some condition not met   \n",
       "623 2020-12-01 13:53:00.000000  some condition not met   \n",
       "624 2020-12-01 13:54:00.000000  some condition not met   \n",
       "625 2020-12-01 13:55:00.000000  some condition not met   \n",
       "\n",
       "                 next_event                                             detail  \n",
       "0             begin trading                                                NaN  \n",
       "607  Sell condition not met                                                NaN  \n",
       "608  Sell condition not met                                                NaN  \n",
       "609  Sell condition not met                                                NaN  \n",
       "610  Sell condition not met                                                NaN  \n",
       "611  Sell condition not met                                                NaN  \n",
       "612  Sell condition not met                                                NaN  \n",
       "613           Executed Sell                                                NaN  \n",
       "614       open_buy_position  {'pred_avg': 604.8725064857432, 'pred_low': 59...  \n",
       "615       open_buy_position  {'pred_avg': 604.8725064857432, 'pred_low': 59...  \n",
       "616       open_buy_position  {'pred_avg': 581.8376668272108, 'pred_low': 57...  \n",
       "617       open_buy_position  {'pred_avg': 581.8376668272108, 'pred_low': 57...  \n",
       "618       open_buy_position  {'pred_avg': 581.8376668272108, 'pred_low': 57...  \n",
       "619       open_buy_position  {'pred_avg': 581.8376668272108, 'pred_low': 57...  \n",
       "620       open_buy_position  {'pred_avg': 581.8376668272108, 'pred_low': 57...  \n",
       "621       open_buy_position  {'pred_avg': 581.8376668272108, 'pred_low': 57...  \n",
       "622       open_buy_position  {'pred_avg': 581.8376668272108, 'pred_low': 57...  \n",
       "623       open_buy_position  {'pred_avg': 581.8376668272108, 'pred_low': 57...  \n",
       "624       open_buy_position  {'pred_avg': 581.8376668272108, 'pred_low': 57...  \n",
       "625       open_buy_position  {'pred_avg': 581.8376668272108, 'pred_low': 57...  "
      ]
     },
     "execution_count": 58,
     "metadata": {},
     "output_type": "execute_result"
    }
   ],
   "source": [
    "outside_log[outside_log['time'] >= '2020-12-01 13:38:00'].head(20)"
   ]
  },
  {
   "cell_type": "code",
   "execution_count": 59,
   "metadata": {},
   "outputs": [
    {
     "data": {
      "text/html": [
       "<div>\n",
       "<style scoped>\n",
       "    .dataframe tbody tr th:only-of-type {\n",
       "        vertical-align: middle;\n",
       "    }\n",
       "\n",
       "    .dataframe tbody tr th {\n",
       "        vertical-align: top;\n",
       "    }\n",
       "\n",
       "    .dataframe thead th {\n",
       "        text-align: right;\n",
       "    }\n",
       "</style>\n",
       "<table border=\"1\" class=\"dataframe\">\n",
       "  <thead>\n",
       "    <tr style=\"text-align: right;\">\n",
       "      <th></th>\n",
       "      <th>time_of_event</th>\n",
       "      <th>event_name</th>\n",
       "      <th>usd_wallet</th>\n",
       "      <th>coin_wallet</th>\n",
       "      <th>next_action</th>\n",
       "      <th>pred_low</th>\n",
       "      <th>pred_high</th>\n",
       "      <th>true_low</th>\n",
       "      <th>true_high</th>\n",
       "      <th>position_opened_at</th>\n",
       "    </tr>\n",
       "  </thead>\n",
       "  <tbody>\n",
       "    <tr>\n",
       "      <th>151</th>\n",
       "      <td>2020-12-27 16:45:00</td>\n",
       "      <td>Buy condition not met</td>\n",
       "      <td>102.083172</td>\n",
       "      <td>0.0</td>\n",
       "      <td>close_buy_position</td>\n",
       "      <td>678.382488</td>\n",
       "      <td>688.558225</td>\n",
       "      <td>693.960022</td>\n",
       "      <td>697.659973</td>\n",
       "      <td>{'open_buy': 2020-12-27 16:34:00, 'open_sell':...</td>\n",
       "    </tr>\n",
       "    <tr>\n",
       "      <th>152</th>\n",
       "      <td>2020-12-27 16:46:00</td>\n",
       "      <td>Buy condition not met</td>\n",
       "      <td>102.083172</td>\n",
       "      <td>0.0</td>\n",
       "      <td>close_buy_position</td>\n",
       "      <td>678.382488</td>\n",
       "      <td>688.558225</td>\n",
       "      <td>692.000000</td>\n",
       "      <td>695.000000</td>\n",
       "      <td>{'open_buy': 2020-12-27 16:34:00, 'open_sell':...</td>\n",
       "    </tr>\n",
       "    <tr>\n",
       "      <th>153</th>\n",
       "      <td>2020-12-27 16:47:00</td>\n",
       "      <td>Buy condition not met</td>\n",
       "      <td>102.083172</td>\n",
       "      <td>0.0</td>\n",
       "      <td>close_buy_position</td>\n",
       "      <td>678.382488</td>\n",
       "      <td>688.558225</td>\n",
       "      <td>693.020020</td>\n",
       "      <td>695.070007</td>\n",
       "      <td>{'open_buy': 2020-12-27 16:34:00, 'open_sell':...</td>\n",
       "    </tr>\n",
       "    <tr>\n",
       "      <th>154</th>\n",
       "      <td>2020-12-27 16:48:00</td>\n",
       "      <td>Buy condition not met</td>\n",
       "      <td>102.083172</td>\n",
       "      <td>0.0</td>\n",
       "      <td>close_buy_position</td>\n",
       "      <td>678.382488</td>\n",
       "      <td>688.558225</td>\n",
       "      <td>691.059998</td>\n",
       "      <td>693.820007</td>\n",
       "      <td>{'open_buy': 2020-12-27 16:34:00, 'open_sell':...</td>\n",
       "    </tr>\n",
       "    <tr>\n",
       "      <th>155</th>\n",
       "      <td>2020-12-27 16:49:00</td>\n",
       "      <td>Buy condition not met</td>\n",
       "      <td>102.083172</td>\n",
       "      <td>0.0</td>\n",
       "      <td>close_buy_position</td>\n",
       "      <td>678.382488</td>\n",
       "      <td>688.558225</td>\n",
       "      <td>692.700012</td>\n",
       "      <td>695.559998</td>\n",
       "      <td>{'open_buy': 2020-12-27 16:34:00, 'open_sell':...</td>\n",
       "    </tr>\n",
       "    <tr>\n",
       "      <th>156</th>\n",
       "      <td>2020-12-27 16:50:00</td>\n",
       "      <td>Buy condition not met</td>\n",
       "      <td>102.083172</td>\n",
       "      <td>0.0</td>\n",
       "      <td>close_buy_position</td>\n",
       "      <td>678.382488</td>\n",
       "      <td>688.558225</td>\n",
       "      <td>693.059998</td>\n",
       "      <td>695.489990</td>\n",
       "      <td>{'open_buy': 2020-12-27 16:34:00, 'open_sell':...</td>\n",
       "    </tr>\n",
       "    <tr>\n",
       "      <th>157</th>\n",
       "      <td>2020-12-27 16:51:00</td>\n",
       "      <td>Buy condition not met</td>\n",
       "      <td>102.083172</td>\n",
       "      <td>0.0</td>\n",
       "      <td>close_buy_position</td>\n",
       "      <td>678.382488</td>\n",
       "      <td>688.558225</td>\n",
       "      <td>688.700012</td>\n",
       "      <td>693.309998</td>\n",
       "      <td>{'open_buy': 2020-12-27 16:34:00, 'open_sell':...</td>\n",
       "    </tr>\n",
       "    <tr>\n",
       "      <th>158</th>\n",
       "      <td>2020-12-27 16:52:00</td>\n",
       "      <td>Buy condition not met</td>\n",
       "      <td>102.083172</td>\n",
       "      <td>0.0</td>\n",
       "      <td>close_buy_position</td>\n",
       "      <td>678.382488</td>\n",
       "      <td>688.558225</td>\n",
       "      <td>685.460022</td>\n",
       "      <td>691.650024</td>\n",
       "      <td>{'open_buy': 2020-12-27 16:34:00, 'open_sell':...</td>\n",
       "    </tr>\n",
       "    <tr>\n",
       "      <th>159</th>\n",
       "      <td>2020-12-27 16:53:00</td>\n",
       "      <td>Buy condition not met</td>\n",
       "      <td>102.083172</td>\n",
       "      <td>0.0</td>\n",
       "      <td>close_buy_position</td>\n",
       "      <td>678.382488</td>\n",
       "      <td>688.558225</td>\n",
       "      <td>687.799988</td>\n",
       "      <td>690.679993</td>\n",
       "      <td>{'open_buy': 2020-12-27 16:34:00, 'open_sell':...</td>\n",
       "    </tr>\n",
       "    <tr>\n",
       "      <th>160</th>\n",
       "      <td>2020-12-27 16:54:00</td>\n",
       "      <td>Buy condition not met</td>\n",
       "      <td>102.083172</td>\n",
       "      <td>0.0</td>\n",
       "      <td>close_buy_position</td>\n",
       "      <td>678.382488</td>\n",
       "      <td>688.558225</td>\n",
       "      <td>690.590027</td>\n",
       "      <td>695.169983</td>\n",
       "      <td>{'open_buy': 2020-12-27 16:34:00, 'open_sell':...</td>\n",
       "    </tr>\n",
       "    <tr>\n",
       "      <th>161</th>\n",
       "      <td>2020-12-27 16:55:00</td>\n",
       "      <td>Buy condition not met</td>\n",
       "      <td>102.083172</td>\n",
       "      <td>0.0</td>\n",
       "      <td>close_buy_position</td>\n",
       "      <td>678.382488</td>\n",
       "      <td>688.558225</td>\n",
       "      <td>693.690002</td>\n",
       "      <td>695.989990</td>\n",
       "      <td>{'open_buy': 2020-12-27 16:34:00, 'open_sell':...</td>\n",
       "    </tr>\n",
       "    <tr>\n",
       "      <th>162</th>\n",
       "      <td>2020-12-27 16:56:00</td>\n",
       "      <td>Buy condition not met</td>\n",
       "      <td>102.083172</td>\n",
       "      <td>0.0</td>\n",
       "      <td>close_buy_position</td>\n",
       "      <td>678.382488</td>\n",
       "      <td>688.558225</td>\n",
       "      <td>695.609985</td>\n",
       "      <td>697.000000</td>\n",
       "      <td>{'open_buy': 2020-12-27 16:34:00, 'open_sell':...</td>\n",
       "    </tr>\n",
       "    <tr>\n",
       "      <th>163</th>\n",
       "      <td>2020-12-27 16:57:00</td>\n",
       "      <td>Buy condition not met</td>\n",
       "      <td>102.083172</td>\n",
       "      <td>0.0</td>\n",
       "      <td>close_buy_position</td>\n",
       "      <td>678.382488</td>\n",
       "      <td>688.558225</td>\n",
       "      <td>695.059998</td>\n",
       "      <td>696.950012</td>\n",
       "      <td>{'open_buy': 2020-12-27 16:34:00, 'open_sell':...</td>\n",
       "    </tr>\n",
       "    <tr>\n",
       "      <th>164</th>\n",
       "      <td>2020-12-27 16:58:00</td>\n",
       "      <td>Buy condition not met</td>\n",
       "      <td>102.083172</td>\n",
       "      <td>0.0</td>\n",
       "      <td>close_buy_position</td>\n",
       "      <td>678.382488</td>\n",
       "      <td>688.558225</td>\n",
       "      <td>694.619995</td>\n",
       "      <td>696.030029</td>\n",
       "      <td>{'open_buy': 2020-12-27 16:34:00, 'open_sell':...</td>\n",
       "    </tr>\n",
       "    <tr>\n",
       "      <th>165</th>\n",
       "      <td>2020-12-27 16:59:00</td>\n",
       "      <td>Buy condition not met</td>\n",
       "      <td>102.083172</td>\n",
       "      <td>0.0</td>\n",
       "      <td>close_buy_position</td>\n",
       "      <td>678.382488</td>\n",
       "      <td>688.558225</td>\n",
       "      <td>694.539978</td>\n",
       "      <td>696.679993</td>\n",
       "      <td>{'open_buy': 2020-12-27 16:34:00, 'open_sell':...</td>\n",
       "    </tr>\n",
       "    <tr>\n",
       "      <th>166</th>\n",
       "      <td>2020-12-27 17:00:00</td>\n",
       "      <td>Buy condition not met</td>\n",
       "      <td>102.083172</td>\n",
       "      <td>0.0</td>\n",
       "      <td>close_buy_position</td>\n",
       "      <td>678.382488</td>\n",
       "      <td>688.558225</td>\n",
       "      <td>693.989990</td>\n",
       "      <td>696.619995</td>\n",
       "      <td>{'open_buy': 2020-12-27 16:34:00, 'open_sell':...</td>\n",
       "    </tr>\n",
       "    <tr>\n",
       "      <th>167</th>\n",
       "      <td>2020-12-27 17:01:00</td>\n",
       "      <td>Buy condition not met</td>\n",
       "      <td>102.083172</td>\n",
       "      <td>0.0</td>\n",
       "      <td>close_buy_position</td>\n",
       "      <td>678.382488</td>\n",
       "      <td>688.558225</td>\n",
       "      <td>693.289978</td>\n",
       "      <td>695.950012</td>\n",
       "      <td>{'open_buy': 2020-12-27 16:34:00, 'open_sell':...</td>\n",
       "    </tr>\n",
       "    <tr>\n",
       "      <th>168</th>\n",
       "      <td>2020-12-27 17:02:00</td>\n",
       "      <td>Buy condition not met</td>\n",
       "      <td>102.083172</td>\n",
       "      <td>0.0</td>\n",
       "      <td>close_buy_position</td>\n",
       "      <td>678.382488</td>\n",
       "      <td>688.558225</td>\n",
       "      <td>692.200012</td>\n",
       "      <td>694.919983</td>\n",
       "      <td>{'open_buy': 2020-12-27 16:34:00, 'open_sell':...</td>\n",
       "    </tr>\n",
       "    <tr>\n",
       "      <th>169</th>\n",
       "      <td>2020-12-27 17:03:00</td>\n",
       "      <td>Buy condition not met</td>\n",
       "      <td>102.083172</td>\n",
       "      <td>0.0</td>\n",
       "      <td>close_buy_position</td>\n",
       "      <td>678.382488</td>\n",
       "      <td>688.558225</td>\n",
       "      <td>691.909973</td>\n",
       "      <td>693.880005</td>\n",
       "      <td>{'open_buy': 2020-12-27 16:34:00, 'open_sell':...</td>\n",
       "    </tr>\n",
       "    <tr>\n",
       "      <th>170</th>\n",
       "      <td>2020-12-27 17:04:00</td>\n",
       "      <td>expired buy order</td>\n",
       "      <td>102.083172</td>\n",
       "      <td>0.0</td>\n",
       "      <td>open_buy_position</td>\n",
       "      <td>678.382488</td>\n",
       "      <td>688.558225</td>\n",
       "      <td>690.859985</td>\n",
       "      <td>694.150024</td>\n",
       "      <td>None</td>\n",
       "    </tr>\n",
       "  </tbody>\n",
       "</table>\n",
       "</div>"
      ],
      "text/plain": [
       "          time_of_event             event_name  usd_wallet  coin_wallet  \\\n",
       "151 2020-12-27 16:45:00  Buy condition not met  102.083172          0.0   \n",
       "152 2020-12-27 16:46:00  Buy condition not met  102.083172          0.0   \n",
       "153 2020-12-27 16:47:00  Buy condition not met  102.083172          0.0   \n",
       "154 2020-12-27 16:48:00  Buy condition not met  102.083172          0.0   \n",
       "155 2020-12-27 16:49:00  Buy condition not met  102.083172          0.0   \n",
       "156 2020-12-27 16:50:00  Buy condition not met  102.083172          0.0   \n",
       "157 2020-12-27 16:51:00  Buy condition not met  102.083172          0.0   \n",
       "158 2020-12-27 16:52:00  Buy condition not met  102.083172          0.0   \n",
       "159 2020-12-27 16:53:00  Buy condition not met  102.083172          0.0   \n",
       "160 2020-12-27 16:54:00  Buy condition not met  102.083172          0.0   \n",
       "161 2020-12-27 16:55:00  Buy condition not met  102.083172          0.0   \n",
       "162 2020-12-27 16:56:00  Buy condition not met  102.083172          0.0   \n",
       "163 2020-12-27 16:57:00  Buy condition not met  102.083172          0.0   \n",
       "164 2020-12-27 16:58:00  Buy condition not met  102.083172          0.0   \n",
       "165 2020-12-27 16:59:00  Buy condition not met  102.083172          0.0   \n",
       "166 2020-12-27 17:00:00  Buy condition not met  102.083172          0.0   \n",
       "167 2020-12-27 17:01:00  Buy condition not met  102.083172          0.0   \n",
       "168 2020-12-27 17:02:00  Buy condition not met  102.083172          0.0   \n",
       "169 2020-12-27 17:03:00  Buy condition not met  102.083172          0.0   \n",
       "170 2020-12-27 17:04:00      expired buy order  102.083172          0.0   \n",
       "\n",
       "            next_action    pred_low   pred_high    true_low   true_high  \\\n",
       "151  close_buy_position  678.382488  688.558225  693.960022  697.659973   \n",
       "152  close_buy_position  678.382488  688.558225  692.000000  695.000000   \n",
       "153  close_buy_position  678.382488  688.558225  693.020020  695.070007   \n",
       "154  close_buy_position  678.382488  688.558225  691.059998  693.820007   \n",
       "155  close_buy_position  678.382488  688.558225  692.700012  695.559998   \n",
       "156  close_buy_position  678.382488  688.558225  693.059998  695.489990   \n",
       "157  close_buy_position  678.382488  688.558225  688.700012  693.309998   \n",
       "158  close_buy_position  678.382488  688.558225  685.460022  691.650024   \n",
       "159  close_buy_position  678.382488  688.558225  687.799988  690.679993   \n",
       "160  close_buy_position  678.382488  688.558225  690.590027  695.169983   \n",
       "161  close_buy_position  678.382488  688.558225  693.690002  695.989990   \n",
       "162  close_buy_position  678.382488  688.558225  695.609985  697.000000   \n",
       "163  close_buy_position  678.382488  688.558225  695.059998  696.950012   \n",
       "164  close_buy_position  678.382488  688.558225  694.619995  696.030029   \n",
       "165  close_buy_position  678.382488  688.558225  694.539978  696.679993   \n",
       "166  close_buy_position  678.382488  688.558225  693.989990  696.619995   \n",
       "167  close_buy_position  678.382488  688.558225  693.289978  695.950012   \n",
       "168  close_buy_position  678.382488  688.558225  692.200012  694.919983   \n",
       "169  close_buy_position  678.382488  688.558225  691.909973  693.880005   \n",
       "170   open_buy_position  678.382488  688.558225  690.859985  694.150024   \n",
       "\n",
       "                                    position_opened_at  \n",
       "151  {'open_buy': 2020-12-27 16:34:00, 'open_sell':...  \n",
       "152  {'open_buy': 2020-12-27 16:34:00, 'open_sell':...  \n",
       "153  {'open_buy': 2020-12-27 16:34:00, 'open_sell':...  \n",
       "154  {'open_buy': 2020-12-27 16:34:00, 'open_sell':...  \n",
       "155  {'open_buy': 2020-12-27 16:34:00, 'open_sell':...  \n",
       "156  {'open_buy': 2020-12-27 16:34:00, 'open_sell':...  \n",
       "157  {'open_buy': 2020-12-27 16:34:00, 'open_sell':...  \n",
       "158  {'open_buy': 2020-12-27 16:34:00, 'open_sell':...  \n",
       "159  {'open_buy': 2020-12-27 16:34:00, 'open_sell':...  \n",
       "160  {'open_buy': 2020-12-27 16:34:00, 'open_sell':...  \n",
       "161  {'open_buy': 2020-12-27 16:34:00, 'open_sell':...  \n",
       "162  {'open_buy': 2020-12-27 16:34:00, 'open_sell':...  \n",
       "163  {'open_buy': 2020-12-27 16:34:00, 'open_sell':...  \n",
       "164  {'open_buy': 2020-12-27 16:34:00, 'open_sell':...  \n",
       "165  {'open_buy': 2020-12-27 16:34:00, 'open_sell':...  \n",
       "166  {'open_buy': 2020-12-27 16:34:00, 'open_sell':...  \n",
       "167  {'open_buy': 2020-12-27 16:34:00, 'open_sell':...  \n",
       "168  {'open_buy': 2020-12-27 16:34:00, 'open_sell':...  \n",
       "169  {'open_buy': 2020-12-27 16:34:00, 'open_sell':...  \n",
       "170                                               None  "
      ]
     },
     "execution_count": 59,
     "metadata": {},
     "output_type": "execute_result"
    }
   ],
   "source": [
    "trading_log.tail(20)"
   ]
  },
  {
   "cell_type": "code",
   "execution_count": null,
   "metadata": {},
   "outputs": [],
   "source": []
  },
  {
   "cell_type": "code",
   "execution_count": 60,
   "metadata": {},
   "outputs": [
    {
     "data": {
      "text/plain": [
       "0.7426339872678378"
      ]
     },
     "execution_count": 60,
     "metadata": {},
     "output_type": "execute_result"
    }
   ],
   "source": [
    "100 * (for_log['pred_high']/for_log['pred_low'] -1)"
   ]
  },
  {
   "cell_type": "code",
   "execution_count": 61,
   "metadata": {},
   "outputs": [
    {
     "data": {
      "text/plain": [
       "3"
      ]
     },
     "execution_count": 61,
     "metadata": {},
     "output_type": "execute_result"
    }
   ],
   "source": [
    "dif_high_low"
   ]
  },
  {
   "cell_type": "code",
   "execution_count": 62,
   "metadata": {},
   "outputs": [
    {
     "data": {
      "text/plain": [
       "False"
      ]
     },
     "execution_count": 62,
     "metadata": {},
     "output_type": "execute_result"
    }
   ],
   "source": [
    "100 * (for_log['pred_high']/for_log['pred_low'] -1) > dif_high_low"
   ]
  },
  {
   "cell_type": "code",
   "execution_count": null,
   "metadata": {},
   "outputs": [],
   "source": []
  },
  {
   "cell_type": "code",
   "execution_count": 63,
   "metadata": {},
   "outputs": [
    {
     "data": {
      "text/plain": [
       "{'pred_avg': 605.6286606646917,\n",
       " 'pred_low': 604.6603675244602,\n",
       " 'pred_high': 609.5173300483716}"
      ]
     },
     "execution_count": 63,
     "metadata": {},
     "output_type": "execute_result"
    }
   ],
   "source": [
    "pd.DataFrame(history_log)['detail'][1]"
   ]
  },
  {
   "cell_type": "code",
   "execution_count": 64,
   "metadata": {},
   "outputs": [
    {
     "data": {
      "text/plain": [
       "{'pred_avg': 605.9243583522174,\n",
       " 'pred_low': 602.9375390004077,\n",
       " 'pred_high': 606.2747683090927}"
      ]
     },
     "execution_count": 64,
     "metadata": {},
     "output_type": "execute_result"
    }
   ],
   "source": [
    "pd.DataFrame(history_log)['detail'][100]"
   ]
  },
  {
   "cell_type": "code",
   "execution_count": null,
   "metadata": {},
   "outputs": [],
   "source": []
  },
  {
   "cell_type": "code",
   "execution_count": 65,
   "metadata": {},
   "outputs": [],
   "source": [
    "trading_log['position_opened_at_decode'] = trading_log['position_opened_at'].apply(lambda x: None if pd.isnull(x) else (x['open_buy'], x['open_sell']))"
   ]
  },
  {
   "cell_type": "code",
   "execution_count": null,
   "metadata": {},
   "outputs": [],
   "source": []
  },
  {
   "cell_type": "code",
   "execution_count": 66,
   "metadata": {},
   "outputs": [],
   "source": [
    "a = trading_log.head(25).loc[8]"
   ]
  },
  {
   "cell_type": "code",
   "execution_count": 67,
   "metadata": {},
   "outputs": [
    {
     "data": {
      "text/plain": [
       "Timestamp('2020-12-01 11:37:00')"
      ]
     },
     "execution_count": 67,
     "metadata": {},
     "output_type": "execute_result"
    }
   ],
   "source": [
    "a['time_of_event']"
   ]
  },
  {
   "cell_type": "code",
   "execution_count": 68,
   "metadata": {},
   "outputs": [
    {
     "data": {
      "text/plain": [
       "Timestamp('2020-12-01 11:35:00', freq='T')"
      ]
     },
     "execution_count": 68,
     "metadata": {},
     "output_type": "execute_result"
    }
   ],
   "source": [
    "a['position_opened_at_decode'][1]"
   ]
  },
  {
   "cell_type": "code",
   "execution_count": 69,
   "metadata": {},
   "outputs": [
    {
     "data": {
      "text/plain": [
       "0.0"
      ]
     },
     "execution_count": 69,
     "metadata": {},
     "output_type": "execute_result"
    }
   ],
   "source": [
    "(a['position_opened_at_decode'][1] - a['position_opened_at_decode'][1]).total_seconds()"
   ]
  },
  {
   "cell_type": "code",
   "execution_count": null,
   "metadata": {},
   "outputs": [],
   "source": []
  },
  {
   "cell_type": "code",
   "execution_count": null,
   "metadata": {},
   "outputs": [],
   "source": []
  },
  {
   "cell_type": "code",
   "execution_count": 70,
   "metadata": {},
   "outputs": [],
   "source": [
    "a = trading_log.head(25).loc[12]"
   ]
  },
  {
   "cell_type": "code",
   "execution_count": 71,
   "metadata": {},
   "outputs": [
    {
     "data": {
      "text/plain": [
       "Timestamp('2020-12-01 11:41:00')"
      ]
     },
     "execution_count": 71,
     "metadata": {},
     "output_type": "execute_result"
    }
   ],
   "source": [
    "a['time_of_event']"
   ]
  },
  {
   "cell_type": "code",
   "execution_count": 72,
   "metadata": {},
   "outputs": [
    {
     "data": {
      "text/plain": [
       "Timestamp('2020-12-01 11:35:00', freq='T')"
      ]
     },
     "execution_count": 72,
     "metadata": {},
     "output_type": "execute_result"
    }
   ],
   "source": [
    "a['position_opened_at_decode'][1]"
   ]
  },
  {
   "cell_type": "code",
   "execution_count": 73,
   "metadata": {},
   "outputs": [
    {
     "data": {
      "text/plain": [
       "360.0"
      ]
     },
     "execution_count": 73,
     "metadata": {},
     "output_type": "execute_result"
    }
   ],
   "source": [
    "(a['time_of_event'] - a['position_opened_at_decode'][1]).total_seconds()"
   ]
  },
  {
   "cell_type": "code",
   "execution_count": null,
   "metadata": {},
   "outputs": [],
   "source": []
  },
  {
   "cell_type": "code",
   "execution_count": null,
   "metadata": {},
   "outputs": [],
   "source": []
  },
  {
   "cell_type": "code",
   "execution_count": null,
   "metadata": {},
   "outputs": [],
   "source": []
  },
  {
   "cell_type": "code",
   "execution_count": 75,
   "metadata": {},
   "outputs": [
    {
     "data": {
      "text/html": [
       "<div>\n",
       "<style scoped>\n",
       "    .dataframe tbody tr th:only-of-type {\n",
       "        vertical-align: middle;\n",
       "    }\n",
       "\n",
       "    .dataframe tbody tr th {\n",
       "        vertical-align: top;\n",
       "    }\n",
       "\n",
       "    .dataframe thead th {\n",
       "        text-align: right;\n",
       "    }\n",
       "</style>\n",
       "<table border=\"1\" class=\"dataframe\">\n",
       "  <thead>\n",
       "    <tr style=\"text-align: right;\">\n",
       "      <th></th>\n",
       "      <th>time_of_event</th>\n",
       "      <th>event_name</th>\n",
       "      <th>usd_wallet</th>\n",
       "      <th>coin_wallet</th>\n",
       "      <th>next_action</th>\n",
       "      <th>pred_low</th>\n",
       "      <th>pred_high</th>\n",
       "      <th>true_low</th>\n",
       "      <th>true_high</th>\n",
       "      <th>position_opened_at</th>\n",
       "      <th>position_opened_at_decode</th>\n",
       "    </tr>\n",
       "  </thead>\n",
       "  <tbody>\n",
       "    <tr>\n",
       "      <th>166</th>\n",
       "      <td>2020-12-27 17:00:00</td>\n",
       "      <td>Buy condition not met</td>\n",
       "      <td>102.083172</td>\n",
       "      <td>0.0</td>\n",
       "      <td>close_buy_position</td>\n",
       "      <td>678.382488</td>\n",
       "      <td>688.558225</td>\n",
       "      <td>693.989990</td>\n",
       "      <td>696.619995</td>\n",
       "      <td>{'open_buy': 2020-12-27 16:34:00, 'open_sell':...</td>\n",
       "      <td>(2020-12-27 16:34:00, None)</td>\n",
       "    </tr>\n",
       "    <tr>\n",
       "      <th>167</th>\n",
       "      <td>2020-12-27 17:01:00</td>\n",
       "      <td>Buy condition not met</td>\n",
       "      <td>102.083172</td>\n",
       "      <td>0.0</td>\n",
       "      <td>close_buy_position</td>\n",
       "      <td>678.382488</td>\n",
       "      <td>688.558225</td>\n",
       "      <td>693.289978</td>\n",
       "      <td>695.950012</td>\n",
       "      <td>{'open_buy': 2020-12-27 16:34:00, 'open_sell':...</td>\n",
       "      <td>(2020-12-27 16:34:00, None)</td>\n",
       "    </tr>\n",
       "    <tr>\n",
       "      <th>168</th>\n",
       "      <td>2020-12-27 17:02:00</td>\n",
       "      <td>Buy condition not met</td>\n",
       "      <td>102.083172</td>\n",
       "      <td>0.0</td>\n",
       "      <td>close_buy_position</td>\n",
       "      <td>678.382488</td>\n",
       "      <td>688.558225</td>\n",
       "      <td>692.200012</td>\n",
       "      <td>694.919983</td>\n",
       "      <td>{'open_buy': 2020-12-27 16:34:00, 'open_sell':...</td>\n",
       "      <td>(2020-12-27 16:34:00, None)</td>\n",
       "    </tr>\n",
       "    <tr>\n",
       "      <th>169</th>\n",
       "      <td>2020-12-27 17:03:00</td>\n",
       "      <td>Buy condition not met</td>\n",
       "      <td>102.083172</td>\n",
       "      <td>0.0</td>\n",
       "      <td>close_buy_position</td>\n",
       "      <td>678.382488</td>\n",
       "      <td>688.558225</td>\n",
       "      <td>691.909973</td>\n",
       "      <td>693.880005</td>\n",
       "      <td>{'open_buy': 2020-12-27 16:34:00, 'open_sell':...</td>\n",
       "      <td>(2020-12-27 16:34:00, None)</td>\n",
       "    </tr>\n",
       "    <tr>\n",
       "      <th>170</th>\n",
       "      <td>2020-12-27 17:04:00</td>\n",
       "      <td>expired buy order</td>\n",
       "      <td>102.083172</td>\n",
       "      <td>0.0</td>\n",
       "      <td>open_buy_position</td>\n",
       "      <td>678.382488</td>\n",
       "      <td>688.558225</td>\n",
       "      <td>690.859985</td>\n",
       "      <td>694.150024</td>\n",
       "      <td>None</td>\n",
       "      <td>None</td>\n",
       "    </tr>\n",
       "  </tbody>\n",
       "</table>\n",
       "</div>"
      ],
      "text/plain": [
       "          time_of_event             event_name  usd_wallet  coin_wallet  \\\n",
       "166 2020-12-27 17:00:00  Buy condition not met  102.083172          0.0   \n",
       "167 2020-12-27 17:01:00  Buy condition not met  102.083172          0.0   \n",
       "168 2020-12-27 17:02:00  Buy condition not met  102.083172          0.0   \n",
       "169 2020-12-27 17:03:00  Buy condition not met  102.083172          0.0   \n",
       "170 2020-12-27 17:04:00      expired buy order  102.083172          0.0   \n",
       "\n",
       "            next_action    pred_low   pred_high    true_low   true_high  \\\n",
       "166  close_buy_position  678.382488  688.558225  693.989990  696.619995   \n",
       "167  close_buy_position  678.382488  688.558225  693.289978  695.950012   \n",
       "168  close_buy_position  678.382488  688.558225  692.200012  694.919983   \n",
       "169  close_buy_position  678.382488  688.558225  691.909973  693.880005   \n",
       "170   open_buy_position  678.382488  688.558225  690.859985  694.150024   \n",
       "\n",
       "                                    position_opened_at  \\\n",
       "166  {'open_buy': 2020-12-27 16:34:00, 'open_sell':...   \n",
       "167  {'open_buy': 2020-12-27 16:34:00, 'open_sell':...   \n",
       "168  {'open_buy': 2020-12-27 16:34:00, 'open_sell':...   \n",
       "169  {'open_buy': 2020-12-27 16:34:00, 'open_sell':...   \n",
       "170                                               None   \n",
       "\n",
       "       position_opened_at_decode  \n",
       "166  (2020-12-27 16:34:00, None)  \n",
       "167  (2020-12-27 16:34:00, None)  \n",
       "168  (2020-12-27 16:34:00, None)  \n",
       "169  (2020-12-27 16:34:00, None)  \n",
       "170                         None  "
      ]
     },
     "execution_count": 75,
     "metadata": {},
     "output_type": "execute_result"
    }
   ],
   "source": [
    "trading_log.tail()"
   ]
  },
  {
   "cell_type": "code",
   "execution_count": null,
   "metadata": {},
   "outputs": [],
   "source": []
  },
  {
   "cell_type": "code",
   "execution_count": null,
   "metadata": {},
   "outputs": [],
   "source": []
  },
  {
   "cell_type": "code",
   "execution_count": null,
   "metadata": {},
   "outputs": [],
   "source": []
  },
  {
   "cell_type": "code",
   "execution_count": null,
   "metadata": {},
   "outputs": [],
   "source": []
  }
 ],
 "metadata": {
  "kernelspec": {
   "display_name": "Python 3",
   "language": "python",
   "name": "python3"
  },
  "language_info": {
   "codemirror_mode": {
    "name": "ipython",
    "version": 3
   },
   "file_extension": ".py",
   "mimetype": "text/x-python",
   "name": "python",
   "nbconvert_exporter": "python",
   "pygments_lexer": "ipython3",
   "version": "3.7.9"
  }
 },
 "nbformat": 4,
 "nbformat_minor": 4
}

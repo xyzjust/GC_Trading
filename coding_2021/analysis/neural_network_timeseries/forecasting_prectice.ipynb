{
 "cells": [
  {
   "cell_type": "code",
   "execution_count": 1,
   "metadata": {},
   "outputs": [],
   "source": [
    "import pandas as pd\n",
    "import numpy as np"
   ]
  },
  {
   "cell_type": "code",
   "execution_count": 2,
   "metadata": {},
   "outputs": [],
   "source": [
    "import re"
   ]
  },
  {
   "cell_type": "code",
   "execution_count": 3,
   "metadata": {},
   "outputs": [],
   "source": [
    "import matplotlib\n",
    "import matplotlib.pyplot as plt"
   ]
  },
  {
   "cell_type": "code",
   "execution_count": 4,
   "metadata": {},
   "outputs": [],
   "source": [
    "from datetime import datetime\n",
    "from difflib import get_close_matches"
   ]
  },
  {
   "cell_type": "code",
   "execution_count": 5,
   "metadata": {},
   "outputs": [],
   "source": [
    "from sklearn.metrics import confusion_matrix, plot_confusion_matrix\n",
    "from sklearn.ensemble import RandomForestClassifier\n",
    "from sklearn.multioutput import MultiOutputClassifier\n",
    "\n",
    "from sklearn.model_selection import train_test_split\n",
    "from sklearn.pipeline import Pipeline, FeatureUnion\n",
    "from sklearn.base import BaseEstimator, TransformerMixin\n",
    "from sklearn.feature_extraction.text import CountVectorizer, TfidfTransformer\n",
    "\n",
    "from sklearn.naive_bayes import MultinomialNB\n",
    "\n",
    "from sklearn.model_selection import GridSearchCV\n",
    "\n",
    "\n",
    "from sklearn.metrics import accuracy_score\n",
    "\n",
    "from sklearn.pipeline import Pipeline\n",
    "from sklearn.model_selection import GridSearchCV\n",
    "from sklearn import svm\n",
    "\n",
    "from sklearn.metrics import f1_score"
   ]
  },
  {
   "cell_type": "code",
   "execution_count": 6,
   "metadata": {},
   "outputs": [],
   "source": [
    "from xgboost import XGBClassifier, XGBRegressor, plot_importance"
   ]
  },
  {
   "cell_type": "code",
   "execution_count": 7,
   "metadata": {},
   "outputs": [],
   "source": [
    "from sklearn.utils import shuffle"
   ]
  },
  {
   "cell_type": "code",
   "execution_count": null,
   "metadata": {},
   "outputs": [],
   "source": []
  },
  {
   "cell_type": "code",
   "execution_count": 8,
   "metadata": {},
   "outputs": [],
   "source": [
    "# BTCUSD_1H = pd.read_csv('../data/Binance_BTCUSDT_1h.csv', skiprows=1)"
   ]
  },
  {
   "cell_type": "code",
   "execution_count": 9,
   "metadata": {},
   "outputs": [],
   "source": [
    "df_ETHUSD_1min = pd.read_parquet('../ETH-USDT.parquet')"
   ]
  },
  {
   "cell_type": "code",
   "execution_count": 10,
   "metadata": {},
   "outputs": [],
   "source": [
    "df_ETHUSD_1min = df_ETHUSD_1min.sort_index(ascending=True)"
   ]
  },
  {
   "cell_type": "code",
   "execution_count": 11,
   "metadata": {},
   "outputs": [],
   "source": [
    "# df_ETHUSD_1min['avg'] = df_ETHUSD_1min['quote_asset_volume']/df_ETHUSD_1min['volume']"
   ]
  },
  {
   "cell_type": "markdown",
   "metadata": {},
   "source": [
    "low and high are different for different rolling averages, therefore, there should be 2 segment-paris (or 4 segments for):\n",
    "\n",
    "> bull low v ra <br/> bull high v ra <br/> bear low v ra <br/>  bear high v ra\n",
    "    \n",
    "    \n",
    "e.g. in a bull market, low ticker vs rolling average of X (this X needs to be found)\n",
    "(expect abs(low-ra | bull) < abs(low-ra | bear)  :: absolute value of low minus ra give bull => abs(low-ra | bull)"
   ]
  },
  {
   "cell_type": "code",
   "execution_count": 12,
   "metadata": {},
   "outputs": [],
   "source": [
    "# df_ETHUSD_1min.drop(['volume',\n",
    "#              'quote_asset_volume',\n",
    "#              'number_of_trades',\n",
    "#              'taker_buy_base_asset_volume',\n",
    "#              'taker_buy_quote_asset_volume'],\n",
    "#             axis = 1,\n",
    "# #             inplace=True\n",
    "#                    )"
   ]
  },
  {
   "cell_type": "code",
   "execution_count": 13,
   "metadata": {},
   "outputs": [],
   "source": [
    "agg_grouping = {'open':'first',\n",
    "                'high':'max',\n",
    "                'low':'min',\n",
    "                'close':'last',\n",
    "                'volume':'sum',\n",
    "                'quote_asset_volume':'sum',\n",
    "                'open_time':['min','max','count']\n",
    "               }\n"
   ]
  },
  {
   "cell_type": "code",
   "execution_count": 14,
   "metadata": {},
   "outputs": [],
   "source": [
    "def open_time_refine(txt):\n",
    "    if txt[0] != 'open_time':\n",
    "        return txt[0]\n",
    "    \n",
    "    else:\n",
    "        return txt[0] + '_' +txt[1]"
   ]
  },
  {
   "cell_type": "code",
   "execution_count": 15,
   "metadata": {},
   "outputs": [],
   "source": [
    "def window_groupby(df, grouper_key, freq, agg_grouping):\n",
    "    \n",
    "    df_temp = df.reset_index().groupby(pd.Grouper(key=grouper_key, freq=freq)).agg(agg_grouping)\n",
    "    \n",
    "    if 'open_time' in agg_grouping.keys():\n",
    "        df_temp.columns = [open_time_refine(col) for col in df_temp.columns]\n",
    "    \n",
    "    df_temp['avg'] = df_temp['quote_asset_volume']/df_temp['volume']\n",
    "    \n",
    "    return df_temp"
   ]
  },
  {
   "cell_type": "code",
   "execution_count": 16,
   "metadata": {},
   "outputs": [],
   "source": [
    "df_15min = window_groupby(df=df_ETHUSD_1min,\n",
    "                       grouper_key='open_time',\n",
    "                       freq='15min',\n",
    "                       agg_grouping=agg_grouping\n",
    "                         )"
   ]
  },
  {
   "cell_type": "code",
   "execution_count": 17,
   "metadata": {},
   "outputs": [],
   "source": [
    "def add_rolling_averges(df, list_to_add_unit_hour, index_unit):\n",
    "    \"\"\"\n",
    "    INPUT:\n",
    "    df - dataframe (assume the datafram is already sorted)\n",
    "    list_to_add_unit_hour - list of rolling averages to add in the unit of hour, e.g.\n",
    "                            list_to_add_unit_hour = [1, 2, 4] , will produce R.As of\n",
    "                            1H, 2H, 4H (window calculated by dividing by the index_unit)\n",
    "                            \n",
    "    index_unit - unit of index (whatever was used in the grouper), e.g. '15min' (takes minutes)\n",
    "    \n",
    "    OUTPUT:\n",
    "    dataframe with added rolling averages\n",
    "    \"\"\"\n",
    "    df_temp = df\n",
    "    \n",
    "    rows = float(index_unit.replace('min',''))/60\n",
    "    \n",
    "    for ra in list_to_add_unit_hour:\n",
    "        \n",
    "        df_temp['ra_{x}H'.format(x=ra)] = df_temp['avg'].rolling(window=int(ra/rows)).mean()\n",
    "    \n",
    "    return df_temp"
   ]
  },
  {
   "cell_type": "code",
   "execution_count": 87,
   "metadata": {},
   "outputs": [],
   "source": [
    "df_prepare = add_rolling_averges(df_15min, [1,2,4], '15min').dropna(axis=0).copy(deep=True)"
   ]
  },
  {
   "cell_type": "code",
   "execution_count": 88,
   "metadata": {},
   "outputs": [],
   "source": [
    "df_prepare['y_avg'] = df_prepare['avg'].shift(-1)"
   ]
  },
  {
   "cell_type": "code",
   "execution_count": 89,
   "metadata": {},
   "outputs": [],
   "source": [
    "df_prepare['y_low'] = 100 * ((df_prepare['low'].shift(-1) - df_prepare['y_avg'])/df_prepare['y_avg'])\n",
    "df_prepare['y_high'] = 100 * ((df_prepare['high'].shift(-1) - df_prepare['y_avg'])/df_prepare['y_avg'])\n",
    "df_prepare['y_avg'] = 100 * ((df_prepare['avg'].shift(-1) - df_prepare['avg'])/df_prepare['avg'])"
   ]
  },
  {
   "cell_type": "markdown",
   "metadata": {},
   "source": [
    "2 approaches to try here:\n",
    "> 1. engineer some features and use typical ML mode\n",
    "> 2. remove most of the features (ra etc) and input into a neural network"
   ]
  },
  {
   "cell_type": "markdown",
   "metadata": {},
   "source": [
    "predict low and high:\n",
    "> if high reached first, cancel the position (since high --> low situation) <br/>\n",
    "> want low to arrive first (since low --> high situation)"
   ]
  },
  {
   "cell_type": "markdown",
   "metadata": {},
   "source": [
    "(**thinking about this**) <br/>\n",
    "for each approach, need to train 2 models:\n",
    "> model_1_low: first training, predict the low <br/>\n",
    "> model_2_higih: second training, with the low_pred value from the model before, predict the high"
   ]
  },
  {
   "cell_type": "code",
   "execution_count": null,
   "metadata": {},
   "outputs": [],
   "source": []
  },
  {
   "cell_type": "markdown",
   "metadata": {},
   "source": [
    "### Traditional Approach"
   ]
  },
  {
   "cell_type": "markdown",
   "metadata": {},
   "source": [
    "first to train a model to predict the lows and highs in the next 15minutes"
   ]
  },
  {
   "cell_type": "code",
   "execution_count": 91,
   "metadata": {},
   "outputs": [],
   "source": [
    "def normalising_data(df, columns, base):\n",
    "    \"\"\"\n",
    "    INPUT:\n",
    "    df - dataframe to normalise\n",
    "    columns - list of columns to be normalised (column/base)\n",
    "    base - name of the normalised base (denominator)\n",
    "    \n",
    "    \n",
    "    OUTPUT:\n",
    "    df - normalised dataframe\n",
    "    \"\"\"\n",
    "    assert base not in columns, \"base should not be in the list of columns, as it will be dividing by 0\"\n",
    "    \n",
    "    df_temp = df.copy(deep=True)\n",
    "    \n",
    "    for col in columns:\n",
    "        df_temp[col] = 100 * ((df_temp[col].astype(np.float)/df_temp[base]) - 1)\n",
    "    \n",
    "    return df_temp"
   ]
  },
  {
   "cell_type": "code",
   "execution_count": 111,
   "metadata": {},
   "outputs": [],
   "source": [
    "base = 'ra_1H'\n",
    "columns_to_norm = [d for d in ['open','high','low','close','avg','ra_1H','ra_2H','ra_4H'] if d != base]\n",
    "y_columns = ['y_avg','y_low','y_high']"
   ]
  },
  {
   "cell_type": "code",
   "execution_count": 112,
   "metadata": {},
   "outputs": [],
   "source": [
    "df_normalised = normalising_data(df_prepare, columns=columns_to_norm, base=base)"
   ]
  },
  {
   "cell_type": "code",
   "execution_count": 114,
   "metadata": {},
   "outputs": [],
   "source": [
    "## preparing dataframe for training\n",
    "df_input = df_normalised[columns_to_norm + y_columns].copy(deep=True)"
   ]
  },
  {
   "cell_type": "code",
   "execution_count": 115,
   "metadata": {},
   "outputs": [],
   "source": [
    "df_input = df_input[:-1]"
   ]
  },
  {
   "cell_type": "code",
   "execution_count": 116,
   "metadata": {},
   "outputs": [],
   "source": [
    "df_input_set_aside = df_input[-17000:].copy(deep=True)"
   ]
  },
  {
   "cell_type": "code",
   "execution_count": 117,
   "metadata": {},
   "outputs": [],
   "source": [
    "df_input_traintest = df_input[:-17000].copy(deep=True)"
   ]
  },
  {
   "cell_type": "code",
   "execution_count": 118,
   "metadata": {},
   "outputs": [],
   "source": [
    "df_input_traintest = shuffle(df_input_traintest)"
   ]
  },
  {
   "cell_type": "code",
   "execution_count": 120,
   "metadata": {},
   "outputs": [],
   "source": [
    "X_train, X_test, y_train, y_test = train_test_split(df_input_traintest[columns_to_norm].values, \n",
    "                                                    df_input_traintest[['y_avg','y_low','y_high']].values ,\n",
    "                                                    train_size=0.70,\n",
    "                                                    random_state=42)"
   ]
  },
  {
   "cell_type": "code",
   "execution_count": 124,
   "metadata": {},
   "outputs": [
    {
     "data": {
      "text/plain": [
       "array([-1.0234627 , -0.61181164,  0.9770703 ], dtype=float32)"
      ]
     },
     "execution_count": 124,
     "metadata": {},
     "output_type": "execute_result"
    }
   ],
   "source": [
    "y_train"
   ]
  },
  {
   "cell_type": "code",
   "execution_count": 125,
   "metadata": {},
   "outputs": [],
   "source": [
    "y_train_avg = y_train[:,0]\n",
    "y_train_low = y_train[:,1]\n",
    "y_train_high = y_train[:,2]\n",
    "\n",
    "y_test_avg = y_test[:,0]\n",
    "y_test_low = y_test[:,1]\n",
    "y_test_high = y_test[:,2]"
   ]
  },
  {
   "cell_type": "code",
   "execution_count": 126,
   "metadata": {},
   "outputs": [],
   "source": [
    "pipeline_xgb_avg_rel = Pipeline([\n",
    "                            ('multi_clf', XGBRegressor(n_estimators=100, learning_rate=0.1, gamma=0, subsample=0.75,\n",
    "                                       colsample_bytree=1, max_depth=7) )\n",
    "                            ])\n",
    "\n",
    "\n",
    "pipeline_xgb_low = Pipeline([\n",
    "                            ('multi_clf', XGBRegressor(n_estimators=100, learning_rate=0.1, gamma=0, subsample=0.75,\n",
    "                                       colsample_bytree=1, max_depth=7) )\n",
    "                            ])\n",
    "\n",
    "pipeline_xgb_high = Pipeline([\n",
    "                            ('multi_clf', XGBRegressor(n_estimators=100, learning_rate=0.1, gamma=0, subsample=0.75,\n",
    "                                       colsample_bytree=1, max_depth=7) )\n",
    "                            ])\n"
   ]
  },
  {
   "cell_type": "markdown",
   "metadata": {},
   "source": [
    "> try different learning rates (0.08 is the best so far)"
   ]
  },
  {
   "cell_type": "code",
   "execution_count": 127,
   "metadata": {},
   "outputs": [
    {
     "name": "stderr",
     "output_type": "stream",
     "text": [
      "/Users/zen/opt/anaconda3/envs/envloop/lib/python3.7/site-packages/xgboost/data.py:106: UserWarning: Use subset (sliced data) of np.ndarray is not recommended because it will generate extra copies and increase memory consumption\n",
      "  \"because it will generate extra copies and increase \" +\n"
     ]
    },
    {
     "data": {
      "text/plain": [
       "Pipeline(steps=[('multi_clf',\n",
       "                 XGBRegressor(base_score=0.5, booster='gbtree',\n",
       "                              colsample_bylevel=1, colsample_bynode=1,\n",
       "                              colsample_bytree=1, gamma=0, gpu_id=-1,\n",
       "                              importance_type='gain',\n",
       "                              interaction_constraints='', learning_rate=0.1,\n",
       "                              max_delta_step=0, max_depth=7, min_child_weight=1,\n",
       "                              missing=nan, monotone_constraints='()',\n",
       "                              n_estimators=100, n_jobs=12, num_parallel_tree=1,\n",
       "                              random_state=0, reg_alpha=0, reg_lambda=1,\n",
       "                              scale_pos_weight=1, subsample=0.75,\n",
       "                              tree_method='exact', validate_parameters=1,\n",
       "                              verbosity=None))])"
      ]
     },
     "execution_count": 127,
     "metadata": {},
     "output_type": "execute_result"
    }
   ],
   "source": [
    "pipeline_xgb_avg_rel.fit(X_train, y_train_avg)\n",
    "pipeline_xgb_low.fit(X_train, y_train_low)\n",
    "pipeline_xgb_high.fit(X_train, y_train_high)"
   ]
  },
  {
   "cell_type": "code",
   "execution_count": 128,
   "metadata": {},
   "outputs": [],
   "source": [
    "y_pred_avg = pipeline_xgb_avg_rel.predict(X_test)\n",
    "y_pred_low = pipeline_xgb_low.predict(X_test)\n",
    "y_pred_high = pipeline_xgb_high.predict(X_test)\n",
    "\n",
    "pipeline_xgb_avg_rel._final_estimator.feature_importances_\n",
    "pipeline_xgb_low._final_estimator.feature_importances_\n",
    "pipeline_xgb_high._final_estimator.feature_importances_"
   ]
  },
  {
   "cell_type": "code",
   "execution_count": null,
   "metadata": {},
   "outputs": [],
   "source": []
  },
  {
   "cell_type": "code",
   "execution_count": null,
   "metadata": {},
   "outputs": [],
   "source": []
  },
  {
   "cell_type": "code",
   "execution_count": 129,
   "metadata": {},
   "outputs": [
    {
     "data": {
      "text/plain": [
       "array([-0.30922097, -0.29865402, -0.18592359, ..., -0.42976528,\n",
       "       -0.15823592, -0.5902675 ], dtype=float32)"
      ]
     },
     "execution_count": 129,
     "metadata": {},
     "output_type": "execute_result"
    }
   ],
   "source": [
    "y_pred_low"
   ]
  },
  {
   "cell_type": "code",
   "execution_count": null,
   "metadata": {},
   "outputs": [],
   "source": [
    ")"
   ]
  },
  {
   "cell_type": "code",
   "execution_count": 166,
   "metadata": {},
   "outputs": [
    {
     "data": {
      "text/plain": [
       "0.46586594381013174"
      ]
     },
     "execution_count": 166,
     "metadata": {},
     "output_type": "execute_result"
    }
   ],
   "source": [
    "## naive prediction\n",
    "sum(abs(np.append(np.array([0.16655789]),y_test_avg)[:-1] - y_test_avg))/len(y_test_avg)"
   ]
  },
  {
   "cell_type": "code",
   "execution_count": 167,
   "metadata": {},
   "outputs": [
    {
     "data": {
      "text/plain": [
       "0.24536526182156856"
      ]
     },
     "execution_count": 167,
     "metadata": {},
     "output_type": "execute_result"
    }
   ],
   "source": [
    "sum(abs(y_pred_avg - y_test_avg))/len(y_pred_avg)"
   ]
  },
  {
   "cell_type": "code",
   "execution_count": 168,
   "metadata": {},
   "outputs": [
    {
     "data": {
      "text/plain": [
       "0.1555974651859939"
      ]
     },
     "execution_count": 168,
     "metadata": {},
     "output_type": "execute_result"
    }
   ],
   "source": [
    "sum(abs(y_pred_low - y_test_low))/len(y_test_low)"
   ]
  },
  {
   "cell_type": "code",
   "execution_count": 169,
   "metadata": {},
   "outputs": [
    {
     "data": {
      "text/plain": [
       "0.15694326098503328"
      ]
     },
     "execution_count": 169,
     "metadata": {},
     "output_type": "execute_result"
    }
   ],
   "source": [
    "sum(abs(y_pred_high - y_test_high))/len(y_test_low)"
   ]
  },
  {
   "cell_type": "code",
   "execution_count": null,
   "metadata": {},
   "outputs": [],
   "source": []
  },
  {
   "cell_type": "code",
   "execution_count": null,
   "metadata": {},
   "outputs": [],
   "source": []
  },
  {
   "cell_type": "code",
   "execution_count": null,
   "metadata": {},
   "outputs": [],
   "source": []
  },
  {
   "cell_type": "code",
   "execution_count": 171,
   "metadata": {},
   "outputs": [],
   "source": [
    "y_pred_avg_unseen = pipeline_xgb_avg_rel.predict(df_input_set_aside[columns_to_norm].values)\n",
    "y_pred_low_unseen = pipeline_xgb_low.predict(df_input_set_aside[columns_to_norm].values)\n",
    "y_pred_high_unseen = pipeline_xgb_high.predict(df_input_set_aside[columns_to_norm].values)"
   ]
  },
  {
   "cell_type": "code",
   "execution_count": null,
   "metadata": {},
   "outputs": [],
   "source": []
  },
  {
   "cell_type": "code",
   "execution_count": 172,
   "metadata": {},
   "outputs": [
    {
     "data": {
      "text/plain": [
       "0.12379686146799256"
      ]
     },
     "execution_count": 172,
     "metadata": {},
     "output_type": "execute_result"
    }
   ],
   "source": [
    "sum(abs(y_pred_low_unseen - df_input_set_aside['y_low'].values))/len(df_input_set_aside)"
   ]
  },
  {
   "cell_type": "code",
   "execution_count": 173,
   "metadata": {},
   "outputs": [
    {
     "data": {
      "text/plain": [
       "0.12195271166107234"
      ]
     },
     "execution_count": 173,
     "metadata": {},
     "output_type": "execute_result"
    }
   ],
   "source": [
    "sum(abs(y_pred_high_unseen - df_input_set_aside['y_high'].values))/len(df_input_set_aside)"
   ]
  },
  {
   "cell_type": "code",
   "execution_count": null,
   "metadata": {},
   "outputs": [],
   "source": []
  },
  {
   "cell_type": "code",
   "execution_count": 176,
   "metadata": {},
   "outputs": [],
   "source": [
    "df_input_set_aside['pred_y_avg'] = y_pred_avg_unseen\n",
    "df_input_set_aside['pred_y_low'] = y_pred_low_unseen\n",
    "df_input_set_aside['pred_y_high'] = y_pred_high_unseen"
   ]
  },
  {
   "cell_type": "code",
   "execution_count": null,
   "metadata": {},
   "outputs": [],
   "source": [
    "### continue here"
   ]
  },
  {
   "cell_type": "code",
   "execution_count": 197,
   "metadata": {},
   "outputs": [
    {
     "data": {
      "text/html": [
       "<div>\n",
       "<style scoped>\n",
       "    .dataframe tbody tr th:only-of-type {\n",
       "        vertical-align: middle;\n",
       "    }\n",
       "\n",
       "    .dataframe tbody tr th {\n",
       "        vertical-align: top;\n",
       "    }\n",
       "\n",
       "    .dataframe thead th {\n",
       "        text-align: right;\n",
       "    }\n",
       "</style>\n",
       "<table border=\"1\" class=\"dataframe\">\n",
       "  <thead>\n",
       "    <tr style=\"text-align: right;\">\n",
       "      <th></th>\n",
       "      <th>open</th>\n",
       "      <th>high</th>\n",
       "      <th>low</th>\n",
       "      <th>close</th>\n",
       "      <th>avg</th>\n",
       "      <th>ra_2H</th>\n",
       "      <th>ra_4H</th>\n",
       "      <th>y_avg</th>\n",
       "      <th>y_low</th>\n",
       "      <th>y_high</th>\n",
       "      <th>pred_y_low</th>\n",
       "      <th>pred_y_high</th>\n",
       "      <th>pred_y_avg</th>\n",
       "    </tr>\n",
       "    <tr>\n",
       "      <th>open_time</th>\n",
       "      <th></th>\n",
       "      <th></th>\n",
       "      <th></th>\n",
       "      <th></th>\n",
       "      <th></th>\n",
       "      <th></th>\n",
       "      <th></th>\n",
       "      <th></th>\n",
       "      <th></th>\n",
       "      <th></th>\n",
       "      <th></th>\n",
       "      <th></th>\n",
       "      <th></th>\n",
       "    </tr>\n",
       "  </thead>\n",
       "  <tbody>\n",
       "    <tr>\n",
       "      <th>2020-07-05 04:00:00</th>\n",
       "      <td>0.056864</td>\n",
       "      <td>0.118240</td>\n",
       "      <td>-0.048348</td>\n",
       "      <td>-0.035197</td>\n",
       "      <td>0.036575</td>\n",
       "      <td>0.010673</td>\n",
       "      <td>0.228604</td>\n",
       "      <td>-0.082986</td>\n",
       "      <td>-0.058928</td>\n",
       "      <td>0.072655</td>\n",
       "      <td>-0.142248</td>\n",
       "      <td>0.147808</td>\n",
       "      <td>-0.057132</td>\n",
       "    </tr>\n",
       "    <tr>\n",
       "      <th>2020-07-05 04:15:00</th>\n",
       "      <td>-0.043062</td>\n",
       "      <td>0.022700</td>\n",
       "      <td>-0.108818</td>\n",
       "      <td>-0.025523</td>\n",
       "      <td>-0.049919</td>\n",
       "      <td>-0.039900</td>\n",
       "      <td>0.184051</td>\n",
       "      <td>-0.024997</td>\n",
       "      <td>-0.077814</td>\n",
       "      <td>0.097676</td>\n",
       "      <td>-0.134758</td>\n",
       "      <td>0.133254</td>\n",
       "      <td>0.018110</td>\n",
       "    </tr>\n",
       "    <tr>\n",
       "      <th>2020-07-05 04:30:00</th>\n",
       "      <td>-0.010542</td>\n",
       "      <td>0.037688</td>\n",
       "      <td>-0.137698</td>\n",
       "      <td>-0.054390</td>\n",
       "      <td>-0.059930</td>\n",
       "      <td>-0.036454</td>\n",
       "      <td>0.162012</td>\n",
       "      <td>0.089724</td>\n",
       "      <td>-0.106023</td>\n",
       "      <td>0.078079</td>\n",
       "      <td>-0.155272</td>\n",
       "      <td>0.143000</td>\n",
       "      <td>-0.015860</td>\n",
       "    </tr>\n",
       "    <tr>\n",
       "      <th>2020-07-05 04:45:00</th>\n",
       "      <td>-0.036977</td>\n",
       "      <td>0.112109</td>\n",
       "      <td>-0.072056</td>\n",
       "      <td>0.077030</td>\n",
       "      <td>0.034003</td>\n",
       "      <td>-0.016647</td>\n",
       "      <td>0.137629</td>\n",
       "      <td>0.004541</td>\n",
       "      <td>-0.119320</td>\n",
       "      <td>0.082296</td>\n",
       "      <td>-0.143140</td>\n",
       "      <td>0.141604</td>\n",
       "      <td>0.013658</td>\n",
       "    </tr>\n",
       "    <tr>\n",
       "      <th>2020-07-05 05:00:00</th>\n",
       "      <td>0.071712</td>\n",
       "      <td>0.124328</td>\n",
       "      <td>-0.077372</td>\n",
       "      <td>0.010324</td>\n",
       "      <td>0.041998</td>\n",
       "      <td>0.009610</td>\n",
       "      <td>0.117044</td>\n",
       "      <td>-0.041720</td>\n",
       "      <td>-0.064479</td>\n",
       "      <td>0.067068</td>\n",
       "      <td>-0.147087</td>\n",
       "      <td>0.144392</td>\n",
       "      <td>-0.031078</td>\n",
       "    </tr>\n",
       "    <tr>\n",
       "      <th>...</th>\n",
       "      <td>...</td>\n",
       "      <td>...</td>\n",
       "      <td>...</td>\n",
       "      <td>...</td>\n",
       "      <td>...</td>\n",
       "      <td>...</td>\n",
       "      <td>...</td>\n",
       "      <td>...</td>\n",
       "      <td>...</td>\n",
       "      <td>...</td>\n",
       "      <td>...</td>\n",
       "      <td>...</td>\n",
       "      <td>...</td>\n",
       "    </tr>\n",
       "    <tr>\n",
       "      <th>2020-12-29 22:30:00</th>\n",
       "      <td>-0.085690</td>\n",
       "      <td>0.059024</td>\n",
       "      <td>-0.242812</td>\n",
       "      <td>0.047995</td>\n",
       "      <td>-0.105896</td>\n",
       "      <td>0.189503</td>\n",
       "      <td>0.162304</td>\n",
       "      <td>0.573928</td>\n",
       "      <td>-0.411984</td>\n",
       "      <td>0.184758</td>\n",
       "      <td>-0.181254</td>\n",
       "      <td>0.174627</td>\n",
       "      <td>0.127186</td>\n",
       "    </tr>\n",
       "    <tr>\n",
       "      <th>2020-12-29 22:45:00</th>\n",
       "      <td>-0.082146</td>\n",
       "      <td>0.511038</td>\n",
       "      <td>-0.087648</td>\n",
       "      <td>0.420206</td>\n",
       "      <td>0.325678</td>\n",
       "      <td>0.054681</td>\n",
       "      <td>0.076264</td>\n",
       "      <td>-0.066708</td>\n",
       "      <td>-0.338645</td>\n",
       "      <td>0.285952</td>\n",
       "      <td>-0.301818</td>\n",
       "      <td>0.284875</td>\n",
       "      <td>0.143304</td>\n",
       "    </tr>\n",
       "    <tr>\n",
       "      <th>2020-12-29 23:00:00</th>\n",
       "      <td>0.345342</td>\n",
       "      <td>0.471866</td>\n",
       "      <td>-0.153889</td>\n",
       "      <td>0.040023</td>\n",
       "      <td>0.185384</td>\n",
       "      <td>-0.055493</td>\n",
       "      <td>0.038943</td>\n",
       "      <td>-0.134920</td>\n",
       "      <td>-0.404695</td>\n",
       "      <td>0.451687</td>\n",
       "      <td>-0.272968</td>\n",
       "      <td>0.275617</td>\n",
       "      <td>-0.089878</td>\n",
       "    </tr>\n",
       "    <tr>\n",
       "      <th>2020-12-29 23:15:00</th>\n",
       "      <td>-0.003350</td>\n",
       "      <td>0.459928</td>\n",
       "      <td>-0.396524</td>\n",
       "      <td>0.314208</td>\n",
       "      <td>0.008204</td>\n",
       "      <td>-0.121517</td>\n",
       "      <td>0.001118</td>\n",
       "      <td>0.793768</td>\n",
       "      <td>-0.515320</td>\n",
       "      <td>0.257947</td>\n",
       "      <td>-0.339148</td>\n",
       "      <td>0.339456</td>\n",
       "      <td>0.245641</td>\n",
       "    </tr>\n",
       "    <tr>\n",
       "      <th>2020-12-29 23:30:00</th>\n",
       "      <td>0.013614</td>\n",
       "      <td>0.768885</td>\n",
       "      <td>-0.008322</td>\n",
       "      <td>0.762025</td>\n",
       "      <td>0.509623</td>\n",
       "      <td>-0.272703</td>\n",
       "      <td>-0.247584</td>\n",
       "      <td>0.197125</td>\n",
       "      <td>-0.445628</td>\n",
       "      <td>0.353332</td>\n",
       "      <td>-0.381536</td>\n",
       "      <td>0.324361</td>\n",
       "      <td>0.341907</td>\n",
       "    </tr>\n",
       "  </tbody>\n",
       "</table>\n",
       "<p>17000 rows × 13 columns</p>\n",
       "</div>"
      ],
      "text/plain": [
       "                         open      high       low     close       avg  \\\n",
       "open_time                                                               \n",
       "2020-07-05 04:00:00  0.056864  0.118240 -0.048348 -0.035197  0.036575   \n",
       "2020-07-05 04:15:00 -0.043062  0.022700 -0.108818 -0.025523 -0.049919   \n",
       "2020-07-05 04:30:00 -0.010542  0.037688 -0.137698 -0.054390 -0.059930   \n",
       "2020-07-05 04:45:00 -0.036977  0.112109 -0.072056  0.077030  0.034003   \n",
       "2020-07-05 05:00:00  0.071712  0.124328 -0.077372  0.010324  0.041998   \n",
       "...                       ...       ...       ...       ...       ...   \n",
       "2020-12-29 22:30:00 -0.085690  0.059024 -0.242812  0.047995 -0.105896   \n",
       "2020-12-29 22:45:00 -0.082146  0.511038 -0.087648  0.420206  0.325678   \n",
       "2020-12-29 23:00:00  0.345342  0.471866 -0.153889  0.040023  0.185384   \n",
       "2020-12-29 23:15:00 -0.003350  0.459928 -0.396524  0.314208  0.008204   \n",
       "2020-12-29 23:30:00  0.013614  0.768885 -0.008322  0.762025  0.509623   \n",
       "\n",
       "                        ra_2H     ra_4H     y_avg     y_low    y_high  \\\n",
       "open_time                                                               \n",
       "2020-07-05 04:00:00  0.010673  0.228604 -0.082986 -0.058928  0.072655   \n",
       "2020-07-05 04:15:00 -0.039900  0.184051 -0.024997 -0.077814  0.097676   \n",
       "2020-07-05 04:30:00 -0.036454  0.162012  0.089724 -0.106023  0.078079   \n",
       "2020-07-05 04:45:00 -0.016647  0.137629  0.004541 -0.119320  0.082296   \n",
       "2020-07-05 05:00:00  0.009610  0.117044 -0.041720 -0.064479  0.067068   \n",
       "...                       ...       ...       ...       ...       ...   \n",
       "2020-12-29 22:30:00  0.189503  0.162304  0.573928 -0.411984  0.184758   \n",
       "2020-12-29 22:45:00  0.054681  0.076264 -0.066708 -0.338645  0.285952   \n",
       "2020-12-29 23:00:00 -0.055493  0.038943 -0.134920 -0.404695  0.451687   \n",
       "2020-12-29 23:15:00 -0.121517  0.001118  0.793768 -0.515320  0.257947   \n",
       "2020-12-29 23:30:00 -0.272703 -0.247584  0.197125 -0.445628  0.353332   \n",
       "\n",
       "                     pred_y_low  pred_y_high  pred_y_avg  \n",
       "open_time                                                 \n",
       "2020-07-05 04:00:00   -0.142248     0.147808   -0.057132  \n",
       "2020-07-05 04:15:00   -0.134758     0.133254    0.018110  \n",
       "2020-07-05 04:30:00   -0.155272     0.143000   -0.015860  \n",
       "2020-07-05 04:45:00   -0.143140     0.141604    0.013658  \n",
       "2020-07-05 05:00:00   -0.147087     0.144392   -0.031078  \n",
       "...                         ...          ...         ...  \n",
       "2020-12-29 22:30:00   -0.181254     0.174627    0.127186  \n",
       "2020-12-29 22:45:00   -0.301818     0.284875    0.143304  \n",
       "2020-12-29 23:00:00   -0.272968     0.275617   -0.089878  \n",
       "2020-12-29 23:15:00   -0.339148     0.339456    0.245641  \n",
       "2020-12-29 23:30:00   -0.381536     0.324361    0.341907  \n",
       "\n",
       "[17000 rows x 13 columns]"
      ]
     },
     "execution_count": 197,
     "metadata": {},
     "output_type": "execute_result"
    }
   ],
   "source": [
    "df_input_set_aside"
   ]
  },
  {
   "cell_type": "code",
   "execution_count": 216,
   "metadata": {},
   "outputs": [],
   "source": [
    "def undo_normalising_data(df, columns, base):\n",
    "    \"\"\"\n",
    "    INPUT:\n",
    "    df - dataframe to normalise\n",
    "    columns - list of columns to be normalised (column/base)\n",
    "    base - name of the normalised base (denominator)\n",
    "    \n",
    "    \n",
    "    OUTPUT:\n",
    "    df - normalised dataframe\n",
    "    \"\"\"\n",
    "#     assert base not in columns, \"base should not be in the list of columns, as it will be dividing by 0\"\n",
    "    new_columns = [d for d in columns if d != base]\n",
    "    \n",
    "    df_temp = df.copy(deep=True)\n",
    "    \n",
    "    for col in new_columns:\n",
    "        df_temp[col] = (1 + df_temp[col].astype(np.float)/100) * df_temp[base]\n",
    "    \n",
    "    return df_temp"
   ]
  },
  {
   "cell_type": "code",
   "execution_count": 217,
   "metadata": {},
   "outputs": [],
   "source": [
    "df_validate_results = df_input_set_aside.merge(df_normalised[[base]], left_index=True, right_index=True, how='left')"
   ]
  },
  {
   "cell_type": "code",
   "execution_count": 218,
   "metadata": {},
   "outputs": [
    {
     "data": {
      "text/html": [
       "<div>\n",
       "<style scoped>\n",
       "    .dataframe tbody tr th:only-of-type {\n",
       "        vertical-align: middle;\n",
       "    }\n",
       "\n",
       "    .dataframe tbody tr th {\n",
       "        vertical-align: top;\n",
       "    }\n",
       "\n",
       "    .dataframe thead th {\n",
       "        text-align: right;\n",
       "    }\n",
       "</style>\n",
       "<table border=\"1\" class=\"dataframe\">\n",
       "  <thead>\n",
       "    <tr style=\"text-align: right;\">\n",
       "      <th></th>\n",
       "      <th>open</th>\n",
       "      <th>high</th>\n",
       "      <th>low</th>\n",
       "      <th>close</th>\n",
       "      <th>avg</th>\n",
       "      <th>ra_2H</th>\n",
       "      <th>ra_4H</th>\n",
       "      <th>y_avg</th>\n",
       "      <th>y_low</th>\n",
       "      <th>y_high</th>\n",
       "      <th>pred_y_low</th>\n",
       "      <th>pred_y_high</th>\n",
       "      <th>pred_y_avg</th>\n",
       "      <th>ra_1H</th>\n",
       "    </tr>\n",
       "    <tr>\n",
       "      <th>open_time</th>\n",
       "      <th></th>\n",
       "      <th></th>\n",
       "      <th></th>\n",
       "      <th></th>\n",
       "      <th></th>\n",
       "      <th></th>\n",
       "      <th></th>\n",
       "      <th></th>\n",
       "      <th></th>\n",
       "      <th></th>\n",
       "      <th></th>\n",
       "      <th></th>\n",
       "      <th></th>\n",
       "      <th></th>\n",
       "    </tr>\n",
       "  </thead>\n",
       "  <tbody>\n",
       "    <tr>\n",
       "      <th>2020-07-05 04:00:00</th>\n",
       "      <td>0.056864</td>\n",
       "      <td>0.11824</td>\n",
       "      <td>-0.048348</td>\n",
       "      <td>-0.035197</td>\n",
       "      <td>0.036575</td>\n",
       "      <td>0.010673</td>\n",
       "      <td>0.228604</td>\n",
       "      <td>-0.082986</td>\n",
       "      <td>-0.058928</td>\n",
       "      <td>0.072655</td>\n",
       "      <td>-0.142248</td>\n",
       "      <td>0.147808</td>\n",
       "      <td>-0.057132</td>\n",
       "      <td>228.100288</td>\n",
       "    </tr>\n",
       "    <tr>\n",
       "      <th>2020-07-05 04:15:00</th>\n",
       "      <td>-0.043062</td>\n",
       "      <td>0.02270</td>\n",
       "      <td>-0.108818</td>\n",
       "      <td>-0.025523</td>\n",
       "      <td>-0.049919</td>\n",
       "      <td>-0.039900</td>\n",
       "      <td>0.184051</td>\n",
       "      <td>-0.024997</td>\n",
       "      <td>-0.077814</td>\n",
       "      <td>0.097676</td>\n",
       "      <td>-0.134758</td>\n",
       "      <td>0.133254</td>\n",
       "      <td>0.018110</td>\n",
       "      <td>228.108223</td>\n",
       "    </tr>\n",
       "  </tbody>\n",
       "</table>\n",
       "</div>"
      ],
      "text/plain": [
       "                         open     high       low     close       avg  \\\n",
       "open_time                                                              \n",
       "2020-07-05 04:00:00  0.056864  0.11824 -0.048348 -0.035197  0.036575   \n",
       "2020-07-05 04:15:00 -0.043062  0.02270 -0.108818 -0.025523 -0.049919   \n",
       "\n",
       "                        ra_2H     ra_4H     y_avg     y_low    y_high  \\\n",
       "open_time                                                               \n",
       "2020-07-05 04:00:00  0.010673  0.228604 -0.082986 -0.058928  0.072655   \n",
       "2020-07-05 04:15:00 -0.039900  0.184051 -0.024997 -0.077814  0.097676   \n",
       "\n",
       "                     pred_y_low  pred_y_high  pred_y_avg       ra_1H  \n",
       "open_time                                                             \n",
       "2020-07-05 04:00:00   -0.142248     0.147808   -0.057132  228.100288  \n",
       "2020-07-05 04:15:00   -0.134758     0.133254    0.018110  228.108223  "
      ]
     },
     "execution_count": 218,
     "metadata": {},
     "output_type": "execute_result"
    }
   ],
   "source": [
    "df_validate_results.head(2)"
   ]
  },
  {
   "cell_type": "code",
   "execution_count": 219,
   "metadata": {},
   "outputs": [],
   "source": [
    "df_testing_model_results = undo_normalising_data(df_validate_results, ['open', 'high', 'low', 'close',\n",
    "                                                                       'avg', 'ra_1H', 'ra_2H', 'ra_4H',\n",
    "                                                                       'y_avg','y_low','y_high',\n",
    "                                                                       'pred_y_avg','pred_y_low','pred_y_high'], base)"
   ]
  },
  {
   "cell_type": "code",
   "execution_count": null,
   "metadata": {},
   "outputs": [],
   "source": []
  },
  {
   "cell_type": "code",
   "execution_count": 233,
   "metadata": {},
   "outputs": [
    {
     "data": {
      "text/plain": [
       "<AxesSubplot:xlabel='open_time'>"
      ]
     },
     "execution_count": 233,
     "metadata": {},
     "output_type": "execute_result"
    },
    {
     "data": {
      "image/png": "[encoded data removed]",
      "text/plain": [
       "<Figure size 432x288 with 1 Axes>"
      ]
     },
     "metadata": {
      "needs_background": "light"
     },
     "output_type": "display_data"
    }
   ],
   "source": [
    "df_testing_model_results[[\n",
    "#                           'high','pred_y_high', \n",
    "#                           'low','pred_y_low',\n",
    "                          'avg','pred_y_avg'\n",
    "                        ]][150:200].plot()"
   ]
  },
  {
   "cell_type": "code",
   "execution_count": 223,
   "metadata": {},
   "outputs": [],
   "source": [
    "df_testing_model_results['high_diff_prec'] = 100 * (df_testing_model_results['pred_y_high'] - df_testing_model_results['y_high'])/df_testing_model_results['y_high']"
   ]
  },
  {
   "cell_type": "code",
   "execution_count": 224,
   "metadata": {},
   "outputs": [],
   "source": [
    "df_testing_model_results['low_diff_prec'] = 100 * (df_testing_model_results['pred_y_low'] - df_testing_model_results['y_low'])/df_testing_model_results['y_low']"
   ]
  },
  {
   "cell_type": "code",
   "execution_count": 225,
   "metadata": {},
   "outputs": [
    {
     "data": {
      "text/plain": [
       "<AxesSubplot:>"
      ]
     },
     "execution_count": 225,
     "metadata": {},
     "output_type": "execute_result"
    },
    {
     "data": {
      "image/png": "[encoded data removed]",
      "text/plain": [
       "<Figure size 432x288 with 1 Axes>"
      ]
     },
     "metadata": {
      "needs_background": "light"
     },
     "output_type": "display_data"
    }
   ],
   "source": [
    "df_testing_model_results['high_diff_prec'].hist(bins =100)"
   ]
  },
  {
   "cell_type": "code",
   "execution_count": 226,
   "metadata": {},
   "outputs": [
    {
     "data": {
      "text/html": [
       "<div>\n",
       "<style scoped>\n",
       "    .dataframe tbody tr th:only-of-type {\n",
       "        vertical-align: middle;\n",
       "    }\n",
       "\n",
       "    .dataframe tbody tr th {\n",
       "        vertical-align: top;\n",
       "    }\n",
       "\n",
       "    .dataframe thead th {\n",
       "        text-align: right;\n",
       "    }\n",
       "</style>\n",
       "<table border=\"1\" class=\"dataframe\">\n",
       "  <thead>\n",
       "    <tr style=\"text-align: right;\">\n",
       "      <th></th>\n",
       "      <th>high_diff_prec</th>\n",
       "      <th>low_diff_prec</th>\n",
       "    </tr>\n",
       "  </thead>\n",
       "  <tbody>\n",
       "    <tr>\n",
       "      <th>count</th>\n",
       "      <td>17000.000000</td>\n",
       "      <td>17000.000000</td>\n",
       "    </tr>\n",
       "    <tr>\n",
       "      <th>mean</th>\n",
       "      <td>0.023089</td>\n",
       "      <td>-0.013765</td>\n",
       "    </tr>\n",
       "    <tr>\n",
       "      <th>std</th>\n",
       "      <td>0.199100</td>\n",
       "      <td>0.221607</td>\n",
       "    </tr>\n",
       "    <tr>\n",
       "      <th>min</th>\n",
       "      <td>-9.724090</td>\n",
       "      <td>-3.466483</td>\n",
       "    </tr>\n",
       "    <tr>\n",
       "      <th>25%</th>\n",
       "      <td>-0.029632</td>\n",
       "      <td>-0.108451</td>\n",
       "    </tr>\n",
       "    <tr>\n",
       "      <th>50%</th>\n",
       "      <td>0.050940</td>\n",
       "      <td>-0.046441</td>\n",
       "    </tr>\n",
       "    <tr>\n",
       "      <th>75%</th>\n",
       "      <td>0.109879</td>\n",
       "      <td>0.038696</td>\n",
       "    </tr>\n",
       "    <tr>\n",
       "      <th>max</th>\n",
       "      <td>1.916119</td>\n",
       "      <td>12.144664</td>\n",
       "    </tr>\n",
       "  </tbody>\n",
       "</table>\n",
       "</div>"
      ],
      "text/plain": [
       "       high_diff_prec  low_diff_prec\n",
       "count    17000.000000   17000.000000\n",
       "mean         0.023089      -0.013765\n",
       "std          0.199100       0.221607\n",
       "min         -9.724090      -3.466483\n",
       "25%         -0.029632      -0.108451\n",
       "50%          0.050940      -0.046441\n",
       "75%          0.109879       0.038696\n",
       "max          1.916119      12.144664"
      ]
     },
     "execution_count": 226,
     "metadata": {},
     "output_type": "execute_result"
    }
   ],
   "source": [
    "df_testing_model_results[['high_diff_prec','low_diff_prec']].describe()"
   ]
  },
  {
   "cell_type": "code",
   "execution_count": null,
   "metadata": {},
   "outputs": [],
   "source": []
  },
  {
   "cell_type": "code",
   "execution_count": null,
   "metadata": {},
   "outputs": [],
   "source": []
  },
  {
   "cell_type": "code",
   "execution_count": null,
   "metadata": {},
   "outputs": [],
   "source": []
  },
  {
   "cell_type": "code",
   "execution_count": 489,
   "metadata": {},
   "outputs": [],
   "source": [
    "class DecisionMaking:\n",
    "    \"\"\"\n",
    "    A class that takes pre-trained models and product the next predicted values\n",
    "    \n",
    "    list_to_add_unit_hour - list of rolling averages to add in the unit of hour, e.g.\n",
    "                                list_to_add_unit_hour = [1, 2, 4] , will produce RAs of\n",
    "                                1H, 2H, 4H (window calculated by dividing by the index_unit)\n",
    "\n",
    "    index_unit - unit of index (whatever was used in the grouper), e.g. '15min' (takes minutes)\n",
    "\n",
    "\n",
    "    \"\"\"\n",
    "    \n",
    "    def __init__(self, columns_to_norm, base, list_to_add_unit_hour, index_unit, model_avg, model_high, model_low):\n",
    "        \n",
    "        self.columns_to_norm = columns_to_norm\n",
    "        self.base = base\n",
    "        self.list_to_add_unit_hour = list_to_add_unit_hour\n",
    "        self.index_unit = index_unit\n",
    "        \n",
    "        self.model_avg  = model_avg\n",
    "        self.model_high = model_high\n",
    "        self.model_low  = model_low\n",
    "        \n",
    "        assert base not in columns_to_norm, \"base should not be in the list of columns, as it will be dividing by 0\"\n",
    "    \n",
    "    def get_raw_data(self, df):\n",
    "        \"\"\"\n",
    "        raw 1 minute df\n",
    "        \"\"\"\n",
    "        assert df.index.dtype == '<M8[ns]', \"Index should be time\"\n",
    "        self.raw_1min_df = df.sort_index(ascending=True).copy(deep=True)\n",
    "        \n",
    "        return None\n",
    "    \n",
    "    def window_groupby(self, freq, agg_grouping, return_results=False):\n",
    "        \n",
    "        \"\"\"\n",
    "        return_results to see the table returned, otherwise, save at: self.df_windowed\n",
    "        \"\"\"\n",
    "        \n",
    "        df=self.raw_1min_df.copy(deep=True)\n",
    "        grouper_key = self.raw_1min_df.index.name\n",
    "        assert grouper_key != None, \"no grouper key\"\n",
    "        \n",
    "        df_temp = df.reset_index().groupby(pd.Grouper(key=grouper_key, freq=freq)).agg(agg_grouping)\n",
    "        if 'open_time' in agg_grouping.keys():\n",
    "            df_temp.columns = [open_time_refine(col) for col in df_temp.columns]\n",
    "\n",
    "        df_temp['avg'] = df_temp['quote_asset_volume']/df_temp['volume']\n",
    "        \n",
    "        if return_results:\n",
    "            return df_temp\n",
    "            \n",
    "        else:\n",
    "            self.df_windowed = df_temp.copy(deep=True)\n",
    "            return None\n",
    "\n",
    "\n",
    "    \n",
    "    def add_rolling_averges(self, return_results=False):\n",
    "        \"\"\"\n",
    "        INPUT:\n",
    "        return_results - boolean, defult False\n",
    "        \n",
    "        OUTPUT:\n",
    "        (if return_results = True), dataframe with added rolling averages\n",
    "        (else, save at self.df_wind_ra)\n",
    "        \"\"\"\n",
    "\n",
    "        df_temp = self.df_windowed.copy(deep=True)\n",
    "\n",
    "        rows = float(self.index_unit.replace('min',''))/60\n",
    "\n",
    "        for ra in self.list_to_add_unit_hour:\n",
    "\n",
    "            df_temp['ra_{x}H'.format(x=ra)] = df_temp['avg'].rolling(window=int(ra/rows)).mean()\n",
    "\n",
    "        if return_results:\n",
    "            print(\".dropna(axis=0) not applied here\")\n",
    "            return df_temp\n",
    "            \n",
    "        else:\n",
    "            self.df_wind_ra = df_temp.dropna(axis=0).copy(deep=True)\n",
    "            return None\n",
    "\n",
    "\n",
    "    \n",
    "    def normalising_data(self, return_results=False):\n",
    "        \"\"\"\n",
    "        INPUT:\n",
    "        return_results - boolean, defult False\n",
    "\n",
    "        OUTPUT:\n",
    "        (if return_results = True), normalised dataframe\n",
    "        (else, save at self.df_normalised_input)\n",
    "        \"\"\"\n",
    "        \n",
    "        df_temp = self.df_wind_ra.copy(deep=True)\n",
    "\n",
    "        for col in self.columns_to_norm:\n",
    "            df_temp[col] = 100 * ((df_temp[col].astype(np.float)/df_temp[self.base]) - 1)\n",
    "\n",
    "        if return_results:\n",
    "            return df_temp\n",
    "            \n",
    "        else:\n",
    "            self.df_normalised_input = df_temp.copy(deep=True)\n",
    "            return None\n",
    "        \n",
    "    def _return_predicted_vales(self, pred, base_value):\n",
    "        final_value = (1.0 + pred/100) * base_value\n",
    "        return final_value\n",
    "    \n",
    "    def get_predictions(self):\n",
    "        \"\"\"\n",
    "        return predicted: average, low, and high from the models\n",
    "        \"\"\"\n",
    "        y_pred_avg_decision = pipeline_xgb_avg_rel.predict(self.df_normalised_input[self.columns_to_norm].values)\n",
    "        y_pred_low_decision = pipeline_xgb_low.predict(self.df_normalised_input[self.columns_to_norm].values)\n",
    "        y_pred_high_decision = pipeline_xgb_high.predict(self.df_normalised_input[self.columns_to_norm].values)\n",
    "\n",
    "        y_pred_unscaled_avg = self._return_predicted_vales(y_pred_avg_decision[0], self.df_normalised_input[self.base].values[0])\n",
    "        y_pred_unscaled_low = self._return_predicted_vales(y_pred_low_decision[0], self.df_normalised_input[self.base].values[0])\n",
    "        y_pred_unscaled_high = self._return_predicted_vales(y_pred_high_decision[0], self.df_normalised_input[self.base].values[0])\n",
    "            \n",
    "        return {'pred_avg':y_pred_unscaled_avg,\n",
    "                'pred_low':y_pred_unscaled_low,\n",
    "                'pred_high':y_pred_unscaled_high}"
   ]
  },
  {
   "cell_type": "code",
   "execution_count": null,
   "metadata": {},
   "outputs": [],
   "source": []
  },
  {
   "cell_type": "code",
   "execution_count": 555,
   "metadata": {},
   "outputs": [],
   "source": [
    "data_4H = pd.DataFrame([], columns = ['open','high','low','close','volume','quote_asset_volume'])\n",
    "data_4H.index.name = 'open_time'"
   ]
  },
  {
   "cell_type": "code",
   "execution_count": null,
   "metadata": {},
   "outputs": [],
   "source": []
  },
  {
   "cell_type": "code",
   "execution_count": 556,
   "metadata": {},
   "outputs": [],
   "source": [
    "decide = DecisionMaking(columns_to_norm = columns_to_norm,\n",
    "                        base = base,\n",
    "                        list_to_add_unit_hour = [1,2,4],\n",
    "                        index_unit = '15min',\n",
    "                        model_avg = pipeline_xgb_avg_rel,\n",
    "                        model_high = pipeline_xgb_low,\n",
    "                        model_low = pipeline_xgb_high)"
   ]
  },
  {
   "cell_type": "code",
   "execution_count": 579,
   "metadata": {},
   "outputs": [],
   "source": [
    "def run_decision(decision_class, df_past_4hours):\n",
    "    decision_class.get_raw_data(df_past_4hours)\n",
    "    decision_class.window_groupby(freq='15min', \n",
    "                      agg_grouping={'open': 'first',\n",
    "                                     'high': 'max',\n",
    "                                     'low': 'min',\n",
    "                                     'close': 'last',\n",
    "                                     'volume': 'sum',\n",
    "                                     'quote_asset_volume': 'sum',\n",
    "                                     'open_time': ['min', 'max', 'count']}\n",
    "                     )\n",
    "    decision_class.add_rolling_averges()\n",
    "    decision_class.normalising_data()\n",
    "    \n",
    "    display(decision_class.df_normalised_input[['open_time_max']])\n",
    "    return (decision_class.get_predictions() )"
   ]
  },
  {
   "cell_type": "code",
   "execution_count": 666,
   "metadata": {},
   "outputs": [],
   "source": [
    "df_base = df_ETHUSD_1min[17000*15+12:][:239]  ## + 12 to make sure it starts on the multiples of quarter minutes\n",
    "df_continue = df_ETHUSD_1min[17000*15+12:][239:]"
   ]
  },
  {
   "cell_type": "code",
   "execution_count": 667,
   "metadata": {},
   "outputs": [
    {
     "data": {
      "text/html": [
       "<div>\n",
       "<style scoped>\n",
       "    .dataframe tbody tr th:only-of-type {\n",
       "        vertical-align: middle;\n",
       "    }\n",
       "\n",
       "    .dataframe tbody tr th {\n",
       "        vertical-align: top;\n",
       "    }\n",
       "\n",
       "    .dataframe thead th {\n",
       "        text-align: right;\n",
       "    }\n",
       "</style>\n",
       "<table border=\"1\" class=\"dataframe\">\n",
       "  <thead>\n",
       "    <tr style=\"text-align: right;\">\n",
       "      <th></th>\n",
       "      <th>open_time_max</th>\n",
       "    </tr>\n",
       "    <tr>\n",
       "      <th>open_time</th>\n",
       "      <th></th>\n",
       "    </tr>\n",
       "  </thead>\n",
       "  <tbody>\n",
       "    <tr>\n",
       "      <th>2018-02-12 06:45:00</th>\n",
       "      <td>2018-02-12 06:59:00</td>\n",
       "    </tr>\n",
       "  </tbody>\n",
       "</table>\n",
       "</div>"
      ],
      "text/plain": [
       "                          open_time_max\n",
       "open_time                              \n",
       "2018-02-12 06:45:00 2018-02-12 06:59:00"
      ]
     },
     "metadata": {},
     "output_type": "display_data"
    },
    {
     "name": "stdout",
     "output_type": "stream",
     "text": [
      "{'pred_avg': 841.7409620771197, 'pred_low': 839.6416649661468, 'pred_high': 842.8589525308636}\n"
     ]
    },
    {
     "data": {
      "text/html": [
       "<div>\n",
       "<style scoped>\n",
       "    .dataframe tbody tr th:only-of-type {\n",
       "        vertical-align: middle;\n",
       "    }\n",
       "\n",
       "    .dataframe tbody tr th {\n",
       "        vertical-align: top;\n",
       "    }\n",
       "\n",
       "    .dataframe thead th {\n",
       "        text-align: right;\n",
       "    }\n",
       "</style>\n",
       "<table border=\"1\" class=\"dataframe\">\n",
       "  <thead>\n",
       "    <tr style=\"text-align: right;\">\n",
       "      <th></th>\n",
       "      <th>open_time_max</th>\n",
       "    </tr>\n",
       "    <tr>\n",
       "      <th>open_time</th>\n",
       "      <th></th>\n",
       "    </tr>\n",
       "  </thead>\n",
       "  <tbody>\n",
       "    <tr>\n",
       "      <th>2018-02-12 07:00:00</th>\n",
       "      <td>2018-02-12 07:14:00</td>\n",
       "    </tr>\n",
       "  </tbody>\n",
       "</table>\n",
       "</div>"
      ],
      "text/plain": [
       "                          open_time_max\n",
       "open_time                              \n",
       "2018-02-12 07:00:00 2018-02-12 07:14:00"
      ]
     },
     "metadata": {},
     "output_type": "display_data"
    },
    {
     "name": "stdout",
     "output_type": "stream",
     "text": [
      "{'pred_avg': 842.930133947711, 'pred_low': 838.5703297898781, 'pred_high': 844.0674853489961}\n"
     ]
    },
    {
     "data": {
      "text/html": [
       "<div>\n",
       "<style scoped>\n",
       "    .dataframe tbody tr th:only-of-type {\n",
       "        vertical-align: middle;\n",
       "    }\n",
       "\n",
       "    .dataframe tbody tr th {\n",
       "        vertical-align: top;\n",
       "    }\n",
       "\n",
       "    .dataframe thead th {\n",
       "        text-align: right;\n",
       "    }\n",
       "</style>\n",
       "<table border=\"1\" class=\"dataframe\">\n",
       "  <thead>\n",
       "    <tr style=\"text-align: right;\">\n",
       "      <th></th>\n",
       "      <th>open_time_max</th>\n",
       "    </tr>\n",
       "    <tr>\n",
       "      <th>open_time</th>\n",
       "      <th></th>\n",
       "    </tr>\n",
       "  </thead>\n",
       "  <tbody>\n",
       "    <tr>\n",
       "      <th>2018-02-12 07:15:00</th>\n",
       "      <td>2018-02-12 07:29:00</td>\n",
       "    </tr>\n",
       "  </tbody>\n",
       "</table>\n",
       "</div>"
      ],
      "text/plain": [
       "                          open_time_max\n",
       "open_time                              \n",
       "2018-02-12 07:15:00 2018-02-12 07:29:00"
      ]
     },
     "metadata": {},
     "output_type": "display_data"
    },
    {
     "name": "stdout",
     "output_type": "stream",
     "text": [
      "{'pred_avg': 846.4196799742556, 'pred_low': 838.252723719507, 'pred_high': 845.7844669887999}\n"
     ]
    },
    {
     "data": {
      "text/html": [
       "<div>\n",
       "<style scoped>\n",
       "    .dataframe tbody tr th:only-of-type {\n",
       "        vertical-align: middle;\n",
       "    }\n",
       "\n",
       "    .dataframe tbody tr th {\n",
       "        vertical-align: top;\n",
       "    }\n",
       "\n",
       "    .dataframe thead th {\n",
       "        text-align: right;\n",
       "    }\n",
       "</style>\n",
       "<table border=\"1\" class=\"dataframe\">\n",
       "  <thead>\n",
       "    <tr style=\"text-align: right;\">\n",
       "      <th></th>\n",
       "      <th>open_time_max</th>\n",
       "    </tr>\n",
       "    <tr>\n",
       "      <th>open_time</th>\n",
       "      <th></th>\n",
       "    </tr>\n",
       "  </thead>\n",
       "  <tbody>\n",
       "    <tr>\n",
       "      <th>2018-02-12 07:30:00</th>\n",
       "      <td>2018-02-12 07:44:00</td>\n",
       "    </tr>\n",
       "  </tbody>\n",
       "</table>\n",
       "</div>"
      ],
      "text/plain": [
       "                          open_time_max\n",
       "open_time                              \n",
       "2018-02-12 07:30:00 2018-02-12 07:44:00"
      ]
     },
     "metadata": {},
     "output_type": "display_data"
    },
    {
     "name": "stdout",
     "output_type": "stream",
     "text": [
      "{'pred_avg': 844.4234190209713, 'pred_low': 840.8894732097549, 'pred_high': 846.7995563277085}\n"
     ]
    },
    {
     "data": {
      "text/html": [
       "<div>\n",
       "<style scoped>\n",
       "    .dataframe tbody tr th:only-of-type {\n",
       "        vertical-align: middle;\n",
       "    }\n",
       "\n",
       "    .dataframe tbody tr th {\n",
       "        vertical-align: top;\n",
       "    }\n",
       "\n",
       "    .dataframe thead th {\n",
       "        text-align: right;\n",
       "    }\n",
       "</style>\n",
       "<table border=\"1\" class=\"dataframe\">\n",
       "  <thead>\n",
       "    <tr style=\"text-align: right;\">\n",
       "      <th></th>\n",
       "      <th>open_time_max</th>\n",
       "    </tr>\n",
       "    <tr>\n",
       "      <th>open_time</th>\n",
       "      <th></th>\n",
       "    </tr>\n",
       "  </thead>\n",
       "  <tbody>\n",
       "    <tr>\n",
       "      <th>2018-02-12 07:45:00</th>\n",
       "      <td>2018-02-12 07:59:00</td>\n",
       "    </tr>\n",
       "  </tbody>\n",
       "</table>\n",
       "</div>"
      ],
      "text/plain": [
       "                          open_time_max\n",
       "open_time                              \n",
       "2018-02-12 07:45:00 2018-02-12 07:59:00"
      ]
     },
     "metadata": {},
     "output_type": "display_data"
    },
    {
     "name": "stdout",
     "output_type": "stream",
     "text": [
      "{'pred_avg': 844.7975448139516, 'pred_low': 842.4418855891518, 'pred_high': 847.6978407555772}\n"
     ]
    }
   ],
   "source": [
    "\n",
    "history_log = {}\n",
    "n = 0\n",
    "for k, row in df_continue.iterrows():\n",
    "    \"\"\"4H of data\"\"\"\n",
    "    row_append =pd.Series( {'open' :row['open'],\n",
    "                          'high' :row['high'],\n",
    "                          'low'  :row['low'],\n",
    "                          'close':row['close'],\n",
    "                          'volume':row['volume'],\n",
    "                          'quote_asset_volume':row['quote_asset_volume']\n",
    "                       }, \n",
    "                     name = row.name\n",
    "                     )\n",
    "    \n",
    "    df_base = df_base.append(row_append, ignore_index=False)\n",
    "    \n",
    "\n",
    "    if n%15 == 0:\n",
    "        print(run_decision(decide, df_base))\n",
    "\n",
    "    df_base= df_base[1:]\n",
    "    n+=1\n",
    "    \n",
    "    if n > 65:\n",
    "        break"
   ]
  },
  {
   "cell_type": "code",
   "execution_count": null,
   "metadata": {},
   "outputs": [],
   "source": []
  },
  {
   "cell_type": "code",
   "execution_count": null,
   "metadata": {},
   "outputs": [],
   "source": []
  },
  {
   "cell_type": "code",
   "execution_count": null,
   "metadata": {},
   "outputs": [],
   "source": []
  },
  {
   "cell_type": "markdown",
   "metadata": {},
   "source": [
    "code up the trading bot, open and close order has 2 pairs of 2 possibilities each:\n",
    "> open to buy crypto, open to sell crypto <br/>\n",
    "> execute to buy crypto, execute to seel cryto"
   ]
  },
  {
   "cell_type": "code",
   "execution_count": 668,
   "metadata": {},
   "outputs": [
    {
     "ename": "SyntaxError",
     "evalue": "invalid syntax (<ipython-input-668-46a217fbc25e>, line 15)",
     "output_type": "error",
     "traceback": [
      "\u001b[0;36m  File \u001b[0;32m\"<ipython-input-668-46a217fbc25e>\"\u001b[0;36m, line \u001b[0;32m15\u001b[0m\n\u001b[0;31m    def place_order(self)L:\u001b[0m\n\u001b[0m                         ^\u001b[0m\n\u001b[0;31mSyntaxError\u001b[0m\u001b[0;31m:\u001b[0m invalid syntax\n"
     ]
    }
   ],
   "source": [
    "class TradingBot:\n",
    "    def __init__(self, usd_wallet, coin_wallet, maker_fee=0.1, taker_fee=0.2):\n",
    "        \"\"\"should alway pay the maker fee (fee in the unit of percentage)\"\"\"\n",
    "        self.usd_wallet = usd_wallet\n",
    "        self.coin_wallet = coin_wallet\n",
    "        self.maker_fee = maker_fee\n",
    "        self.taker_fee = taker_fee\n",
    "        self.trade_log = {} \n",
    "        \n",
    "        self.open_order = False # True means currently there is a buy order; to buy crypto using USD\n",
    "\n",
    "    def _get_log(self):\n",
    "        return self.trade_log\n",
    "    \n",
    "    def _buy_crypto(self, low):\n",
    "        self.buy_position = low  ## open a position on the low price\n",
    "        self.open_order = True\n",
    "        return None \n",
    "    \n",
    "    def _sell_crypto(self, high):\n",
    "    \n",
    "    \n",
    "    def trading(self, pred_low, pred_high, current_low, current_high):\n",
    "        \n",
    "        if self.open_order == False: ## no open order, looking to open a position\n",
    "            self.buy_position(pred_low)\n",
    "            self.open_order = True\n",
    "            \n",
    "        else: ## has open order, looking to sell\n",
    "        "
   ]
  },
  {
   "cell_type": "code",
   "execution_count": null,
   "metadata": {},
   "outputs": [],
   "source": []
  },
  {
   "cell_type": "code",
   "execution_count": null,
   "metadata": {},
   "outputs": [],
   "source": []
  },
  {
   "cell_type": "code",
   "execution_count": null,
   "metadata": {},
   "outputs": [],
   "source": []
  },
  {
   "cell_type": "code",
   "execution_count": null,
   "metadata": {},
   "outputs": [],
   "source": []
  },
  {
   "cell_type": "code",
   "execution_count": null,
   "metadata": {},
   "outputs": [],
   "source": []
  },
  {
   "cell_type": "code",
   "execution_count": null,
   "metadata": {},
   "outputs": [],
   "source": []
  },
  {
   "cell_type": "code",
   "execution_count": null,
   "metadata": {},
   "outputs": [],
   "source": []
  },
  {
   "cell_type": "code",
   "execution_count": null,
   "metadata": {},
   "outputs": [],
   "source": []
  },
  {
   "cell_type": "code",
   "execution_count": null,
   "metadata": {},
   "outputs": [],
   "source": []
  },
  {
   "cell_type": "code",
   "execution_count": null,
   "metadata": {},
   "outputs": [],
   "source": []
  },
  {
   "cell_type": "code",
   "execution_count": null,
   "metadata": {},
   "outputs": [],
   "source": []
  },
  {
   "cell_type": "code",
   "execution_count": null,
   "metadata": {},
   "outputs": [],
   "source": []
  },
  {
   "cell_type": "code",
   "execution_count": null,
   "metadata": {},
   "outputs": [],
   "source": []
  },
  {
   "cell_type": "code",
   "execution_count": null,
   "metadata": {},
   "outputs": [],
   "source": []
  },
  {
   "cell_type": "code",
   "execution_count": null,
   "metadata": {},
   "outputs": [],
   "source": []
  },
  {
   "cell_type": "code",
   "execution_count": null,
   "metadata": {},
   "outputs": [],
   "source": []
  },
  {
   "cell_type": "code",
   "execution_count": null,
   "metadata": {},
   "outputs": [],
   "source": []
  },
  {
   "cell_type": "code",
   "execution_count": null,
   "metadata": {},
   "outputs": [],
   "source": []
  },
  {
   "cell_type": "code",
   "execution_count": null,
   "metadata": {},
   "outputs": [],
   "source": []
  },
  {
   "cell_type": "code",
   "execution_count": null,
   "metadata": {},
   "outputs": [],
   "source": []
  },
  {
   "cell_type": "code",
   "execution_count": null,
   "metadata": {},
   "outputs": [],
   "source": []
  },
  {
   "cell_type": "code",
   "execution_count": null,
   "metadata": {},
   "outputs": [],
   "source": []
  },
  {
   "cell_type": "code",
   "execution_count": 492,
   "metadata": {},
   "outputs": [
    {
     "data": {
      "text/html": [
       "<div>\n",
       "<style scoped>\n",
       "    .dataframe tbody tr th:only-of-type {\n",
       "        vertical-align: middle;\n",
       "    }\n",
       "\n",
       "    .dataframe tbody tr th {\n",
       "        vertical-align: top;\n",
       "    }\n",
       "\n",
       "    .dataframe thead th {\n",
       "        text-align: right;\n",
       "    }\n",
       "</style>\n",
       "<table border=\"1\" class=\"dataframe\">\n",
       "  <thead>\n",
       "    <tr style=\"text-align: right;\">\n",
       "      <th></th>\n",
       "      <th>open</th>\n",
       "      <th>high</th>\n",
       "      <th>low</th>\n",
       "      <th>close</th>\n",
       "      <th>volume</th>\n",
       "      <th>quote_asset_volume</th>\n",
       "    </tr>\n",
       "    <tr>\n",
       "      <th>open_time</th>\n",
       "      <th></th>\n",
       "      <th></th>\n",
       "      <th></th>\n",
       "      <th></th>\n",
       "      <th></th>\n",
       "      <th></th>\n",
       "    </tr>\n",
       "  </thead>\n",
       "  <tbody>\n",
       "    <tr>\n",
       "      <th>2017-08-17 04:00:00</th>\n",
       "      <td>301.130005</td>\n",
       "      <td>301.130005</td>\n",
       "      <td>301.130005</td>\n",
       "      <td>301.130005</td>\n",
       "      <td>0.426430</td>\n",
       "      <td>128.410873</td>\n",
       "    </tr>\n",
       "    <tr>\n",
       "      <th>2017-08-17 04:01:00</th>\n",
       "      <td>301.130005</td>\n",
       "      <td>301.130005</td>\n",
       "      <td>301.130005</td>\n",
       "      <td>301.130005</td>\n",
       "      <td>2.757870</td>\n",
       "      <td>830.477417</td>\n",
       "    </tr>\n",
       "    <tr>\n",
       "      <th>2017-08-17 04:02:00</th>\n",
       "      <td>300.000000</td>\n",
       "      <td>300.000000</td>\n",
       "      <td>300.000000</td>\n",
       "      <td>300.000000</td>\n",
       "      <td>0.099300</td>\n",
       "      <td>29.790001</td>\n",
       "    </tr>\n",
       "    <tr>\n",
       "      <th>2017-08-17 04:03:00</th>\n",
       "      <td>300.000000</td>\n",
       "      <td>300.000000</td>\n",
       "      <td>300.000000</td>\n",
       "      <td>300.000000</td>\n",
       "      <td>0.313890</td>\n",
       "      <td>94.167000</td>\n",
       "    </tr>\n",
       "    <tr>\n",
       "      <th>2017-08-17 04:04:00</th>\n",
       "      <td>301.130005</td>\n",
       "      <td>301.130005</td>\n",
       "      <td>301.130005</td>\n",
       "      <td>301.130005</td>\n",
       "      <td>0.232020</td>\n",
       "      <td>69.868179</td>\n",
       "    </tr>\n",
       "    <tr>\n",
       "      <th>...</th>\n",
       "      <td>...</td>\n",
       "      <td>...</td>\n",
       "      <td>...</td>\n",
       "      <td>...</td>\n",
       "      <td>...</td>\n",
       "      <td>...</td>\n",
       "    </tr>\n",
       "    <tr>\n",
       "      <th>2017-08-17 07:55:00</th>\n",
       "      <td>305.619995</td>\n",
       "      <td>305.619995</td>\n",
       "      <td>305.619995</td>\n",
       "      <td>305.619995</td>\n",
       "      <td>20.245859</td>\n",
       "      <td>6187.539551</td>\n",
       "    </tr>\n",
       "    <tr>\n",
       "      <th>2017-08-17 07:56:00</th>\n",
       "      <td>305.619995</td>\n",
       "      <td>305.619995</td>\n",
       "      <td>305.619995</td>\n",
       "      <td>305.619995</td>\n",
       "      <td>3.419050</td>\n",
       "      <td>1044.930054</td>\n",
       "    </tr>\n",
       "    <tr>\n",
       "      <th>2017-08-17 07:57:00</th>\n",
       "      <td>307.089996</td>\n",
       "      <td>307.089996</td>\n",
       "      <td>304.950012</td>\n",
       "      <td>304.950012</td>\n",
       "      <td>21.217360</td>\n",
       "      <td>6495.988770</td>\n",
       "    </tr>\n",
       "    <tr>\n",
       "      <th>2017-08-17 07:58:00</th>\n",
       "      <td>307.959991</td>\n",
       "      <td>307.959991</td>\n",
       "      <td>307.959991</td>\n",
       "      <td>307.959991</td>\n",
       "      <td>6.739120</td>\n",
       "      <td>2075.379395</td>\n",
       "    </tr>\n",
       "    <tr>\n",
       "      <th>2017-08-17 07:59:00</th>\n",
       "      <td>307.959991</td>\n",
       "      <td>307.959991</td>\n",
       "      <td>307.959991</td>\n",
       "      <td>307.959991</td>\n",
       "      <td>3.073430</td>\n",
       "      <td>946.493530</td>\n",
       "    </tr>\n",
       "  </tbody>\n",
       "</table>\n",
       "<p>240 rows × 6 columns</p>\n",
       "</div>"
      ],
      "text/plain": [
       "                           open        high         low       close  \\\n",
       "open_time                                                             \n",
       "2017-08-17 04:00:00  301.130005  301.130005  301.130005  301.130005   \n",
       "2017-08-17 04:01:00  301.130005  301.130005  301.130005  301.130005   \n",
       "2017-08-17 04:02:00  300.000000  300.000000  300.000000  300.000000   \n",
       "2017-08-17 04:03:00  300.000000  300.000000  300.000000  300.000000   \n",
       "2017-08-17 04:04:00  301.130005  301.130005  301.130005  301.130005   \n",
       "...                         ...         ...         ...         ...   \n",
       "2017-08-17 07:55:00  305.619995  305.619995  305.619995  305.619995   \n",
       "2017-08-17 07:56:00  305.619995  305.619995  305.619995  305.619995   \n",
       "2017-08-17 07:57:00  307.089996  307.089996  304.950012  304.950012   \n",
       "2017-08-17 07:58:00  307.959991  307.959991  307.959991  307.959991   \n",
       "2017-08-17 07:59:00  307.959991  307.959991  307.959991  307.959991   \n",
       "\n",
       "                        volume  quote_asset_volume  \n",
       "open_time                                           \n",
       "2017-08-17 04:00:00   0.426430          128.410873  \n",
       "2017-08-17 04:01:00   2.757870          830.477417  \n",
       "2017-08-17 04:02:00   0.099300           29.790001  \n",
       "2017-08-17 04:03:00   0.313890           94.167000  \n",
       "2017-08-17 04:04:00   0.232020           69.868179  \n",
       "...                        ...                 ...  \n",
       "2017-08-17 07:55:00  20.245859         6187.539551  \n",
       "2017-08-17 07:56:00   3.419050         1044.930054  \n",
       "2017-08-17 07:57:00  21.217360         6495.988770  \n",
       "2017-08-17 07:58:00   6.739120         2075.379395  \n",
       "2017-08-17 07:59:00   3.073430          946.493530  \n",
       "\n",
       "[240 rows x 6 columns]"
      ]
     },
     "execution_count": 492,
     "metadata": {},
     "output_type": "execute_result"
    }
   ],
   "source": [
    "data_4H"
   ]
  },
  {
   "cell_type": "code",
   "execution_count": 493,
   "metadata": {},
   "outputs": [],
   "source": [
    "decision_data = window_groupby(df=data_4H,\n",
    "                       grouper_key='open_time',\n",
    "                       freq='15min',\n",
    "                       agg_grouping=agg_grouping\n",
    "                         )"
   ]
  },
  {
   "cell_type": "code",
   "execution_count": 494,
   "metadata": {},
   "outputs": [],
   "source": [
    "decision_data = add_rolling_averges(decision_data, [1,2,4], '15min').dropna(axis=0)"
   ]
  },
  {
   "cell_type": "code",
   "execution_count": 495,
   "metadata": {},
   "outputs": [],
   "source": [
    "decision_data = normalising_data(decision_data, columns=columns_to_norm, base=base)"
   ]
  },
  {
   "cell_type": "code",
   "execution_count": 496,
   "metadata": {},
   "outputs": [],
   "source": [
    "y_pred_avg_decision = pipeline_xgb_avg_rel.predict(decision_data[columns_to_norm].values)\n",
    "y_pred_low_decision = pipeline_xgb_low.predict(decision_data[columns_to_norm].values)\n",
    "y_pred_high_decision = pipeline_xgb_high.predict(decision_data[columns_to_norm].values)"
   ]
  },
  {
   "cell_type": "code",
   "execution_count": 497,
   "metadata": {},
   "outputs": [
    {
     "data": {
      "text/plain": [
       "0.76718926"
      ]
     },
     "execution_count": 497,
     "metadata": {},
     "output_type": "execute_result"
    }
   ],
   "source": [
    "y_pred_avg_decision[0]"
   ]
  },
  {
   "cell_type": "code",
   "execution_count": 498,
   "metadata": {},
   "outputs": [
    {
     "data": {
      "text/plain": [
       "open_time\n",
       "2017-08-17 07:45:00    304.309785\n",
       "Freq: 15T, Name: ra_1H, dtype: float64"
      ]
     },
     "execution_count": 498,
     "metadata": {},
     "output_type": "execute_result"
    }
   ],
   "source": [
    "decision_data[base]"
   ]
  },
  {
   "cell_type": "code",
   "execution_count": 499,
   "metadata": {},
   "outputs": [],
   "source": [
    "def return_predicted_vales(pred, base_value):\n",
    "    return (1 + pred/100) * base_value"
   ]
  },
  {
   "cell_type": "code",
   "execution_count": 500,
   "metadata": {},
   "outputs": [
    {
     "data": {
      "text/plain": [
       "302.33998123080994"
      ]
     },
     "execution_count": 500,
     "metadata": {},
     "output_type": "execute_result"
    }
   ],
   "source": [
    "return_predicted_vales(y_pred_low_decision[0], decision_data[base].values[0])"
   ]
  },
  {
   "cell_type": "code",
   "execution_count": 501,
   "metadata": {},
   "outputs": [
    {
     "data": {
      "text/plain": [
       "305.9711363344182"
      ]
     },
     "execution_count": 501,
     "metadata": {},
     "output_type": "execute_result"
    }
   ],
   "source": [
    "return_predicted_vales(y_pred_high_decision[0], decision_data[base].values[0])"
   ]
  },
  {
   "cell_type": "code",
   "execution_count": null,
   "metadata": {},
   "outputs": [],
   "source": []
  },
  {
   "cell_type": "code",
   "execution_count": null,
   "metadata": {},
   "outputs": [],
   "source": []
  },
  {
   "cell_type": "code",
   "execution_count": null,
   "metadata": {},
   "outputs": [],
   "source": []
  },
  {
   "cell_type": "code",
   "execution_count": null,
   "metadata": {},
   "outputs": [],
   "source": []
  },
  {
   "cell_type": "code",
   "execution_count": 562,
   "metadata": {},
   "outputs": [],
   "source": [
    "decide.get_raw_data(data_4H)"
   ]
  },
  {
   "cell_type": "code",
   "execution_count": 563,
   "metadata": {},
   "outputs": [],
   "source": [
    "decide.window_groupby(freq='15min', \n",
    "                      agg_grouping={'open': 'first',\n",
    "                                     'high': 'max',\n",
    "                                     'low': 'min',\n",
    "                                     'close': 'last',\n",
    "                                     'volume': 'sum',\n",
    "                                     'quote_asset_volume': 'sum',\n",
    "                                     'open_time': ['min', 'max', 'count']}\n",
    "                     )"
   ]
  },
  {
   "cell_type": "code",
   "execution_count": 564,
   "metadata": {},
   "outputs": [],
   "source": [
    "decide.add_rolling_averges()#return_results=True).dropna(axis=0)"
   ]
  },
  {
   "cell_type": "code",
   "execution_count": 565,
   "metadata": {},
   "outputs": [],
   "source": [
    "decide.normalising_data()"
   ]
  },
  {
   "cell_type": "code",
   "execution_count": 566,
   "metadata": {},
   "outputs": [
    {
     "data": {
      "text/plain": [
       "{'pred_avg': 306.6444166469812,\n",
       " 'pred_low': 302.33998123080994,\n",
       " 'pred_high': 305.9711363344182}"
      ]
     },
     "execution_count": 566,
     "metadata": {},
     "output_type": "execute_result"
    }
   ],
   "source": [
    "decide.get_predictions()"
   ]
  },
  {
   "cell_type": "code",
   "execution_count": null,
   "metadata": {},
   "outputs": [],
   "source": []
  },
  {
   "cell_type": "code",
   "execution_count": null,
   "metadata": {},
   "outputs": [],
   "source": []
  },
  {
   "cell_type": "code",
   "execution_count": null,
   "metadata": {},
   "outputs": [],
   "source": []
  },
  {
   "cell_type": "code",
   "execution_count": null,
   "metadata": {},
   "outputs": [],
   "source": []
  },
  {
   "cell_type": "code",
   "execution_count": 536,
   "metadata": {},
   "outputs": [],
   "source": [
    "class t1:\n",
    "    def __init__(self, x):\n",
    "        self.x = x"
   ]
  },
  {
   "cell_type": "code",
   "execution_count": 537,
   "metadata": {},
   "outputs": [],
   "source": [
    "tn = t1(21)"
   ]
  },
  {
   "cell_type": "code",
   "execution_count": 538,
   "metadata": {},
   "outputs": [],
   "source": [
    "def t2(t, n):\n",
    "    t.x = n"
   ]
  },
  {
   "cell_type": "code",
   "execution_count": 539,
   "metadata": {},
   "outputs": [
    {
     "data": {
      "text/plain": [
       "21"
      ]
     },
     "execution_count": 539,
     "metadata": {},
     "output_type": "execute_result"
    }
   ],
   "source": [
    "tn.x"
   ]
  },
  {
   "cell_type": "code",
   "execution_count": 540,
   "metadata": {},
   "outputs": [],
   "source": [
    "t2(tn, 129921)"
   ]
  },
  {
   "cell_type": "code",
   "execution_count": 541,
   "metadata": {},
   "outputs": [
    {
     "data": {
      "text/plain": [
       "129921"
      ]
     },
     "execution_count": 541,
     "metadata": {},
     "output_type": "execute_result"
    }
   ],
   "source": [
    "tn.x"
   ]
  },
  {
   "cell_type": "code",
   "execution_count": 530,
   "metadata": {},
   "outputs": [
    {
     "data": {
      "text/plain": [
       "129921"
      ]
     },
     "execution_count": 530,
     "metadata": {},
     "output_type": "execute_result"
    }
   ],
   "source": [
    "t1.x"
   ]
  },
  {
   "cell_type": "code",
   "execution_count": 531,
   "metadata": {},
   "outputs": [
    {
     "data": {
      "text/plain": [
       "__main__.t1"
      ]
     },
     "execution_count": 531,
     "metadata": {},
     "output_type": "execute_result"
    }
   ],
   "source": [
    "t1"
   ]
  },
  {
   "cell_type": "code",
   "execution_count": null,
   "metadata": {},
   "outputs": [],
   "source": []
  },
  {
   "cell_type": "code",
   "execution_count": null,
   "metadata": {},
   "outputs": [],
   "source": []
  },
  {
   "cell_type": "code",
   "execution_count": null,
   "metadata": {},
   "outputs": [],
   "source": []
  }
 ],
 "metadata": {
  "kernelspec": {
   "display_name": "Python 3",
   "language": "python",
   "name": "python3"
  },
  "language_info": {
   "codemirror_mode": {
    "name": "ipython",
    "version": 3
   },
   "file_extension": ".py",
   "mimetype": "text/x-python",
   "name": "python",
   "nbconvert_exporter": "python",
   "pygments_lexer": "ipython3",
   "version": "3.7.9"
  }
 },
 "nbformat": 4,
 "nbformat_minor": 4
}

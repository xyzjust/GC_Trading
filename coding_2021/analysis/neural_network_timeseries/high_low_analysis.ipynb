{
 "cells": [
  {
   "cell_type": "code",
   "execution_count": 1,
   "metadata": {},
   "outputs": [],
   "source": [
    "import pandas as pd\n",
    "import numpy as np"
   ]
  },
  {
   "cell_type": "code",
   "execution_count": 2,
   "metadata": {},
   "outputs": [],
   "source": [
    "import re"
   ]
  },
  {
   "cell_type": "code",
   "execution_count": 3,
   "metadata": {},
   "outputs": [],
   "source": [
    "import matplotlib\n",
    "import matplotlib.pyplot as plt"
   ]
  },
  {
   "cell_type": "code",
   "execution_count": 4,
   "metadata": {},
   "outputs": [],
   "source": [
    "from datetime import datetime\n",
    "from difflib import get_close_matches"
   ]
  },
  {
   "cell_type": "code",
   "execution_count": 5,
   "metadata": {},
   "outputs": [],
   "source": [
    "from sklearn.metrics import confusion_matrix, plot_confusion_matrix\n",
    "from sklearn.ensemble import RandomForestClassifier\n",
    "from sklearn.multioutput import MultiOutputClassifier\n",
    "\n",
    "from sklearn.model_selection import train_test_split\n",
    "from sklearn.pipeline import Pipeline, FeatureUnion\n",
    "from sklearn.base import BaseEstimator, TransformerMixin\n",
    "from sklearn.feature_extraction.text import CountVectorizer, TfidfTransformer\n",
    "\n",
    "from sklearn.naive_bayes import MultinomialNB\n",
    "\n",
    "from sklearn.model_selection import GridSearchCV\n",
    "\n",
    "\n",
    "from sklearn.metrics import accuracy_score\n",
    "\n",
    "from sklearn.pipeline import Pipeline\n",
    "from sklearn.model_selection import GridSearchCV\n",
    "from sklearn import svm\n",
    "\n",
    "from sklearn.metrics import f1_score"
   ]
  },
  {
   "cell_type": "code",
   "execution_count": 6,
   "metadata": {},
   "outputs": [],
   "source": [
    "from xgboost import XGBClassifier, XGBRegressor, plot_importance"
   ]
  },
  {
   "cell_type": "code",
   "execution_count": 7,
   "metadata": {},
   "outputs": [],
   "source": [
    "from sklearn.utils import shuffle"
   ]
  },
  {
   "cell_type": "code",
   "execution_count": null,
   "metadata": {},
   "outputs": [],
   "source": []
  },
  {
   "cell_type": "code",
   "execution_count": 8,
   "metadata": {},
   "outputs": [],
   "source": [
    "# BTCUSD_1H = pd.read_csv('../data/Binance_BTCUSDT_1h.csv', skiprows=1)"
   ]
  },
  {
   "cell_type": "code",
   "execution_count": 9,
   "metadata": {},
   "outputs": [],
   "source": [
    "df_ETHUSD_1min = pd.read_parquet('../ETH-USDT.parquet')"
   ]
  },
  {
   "cell_type": "code",
   "execution_count": 10,
   "metadata": {},
   "outputs": [],
   "source": [
    "df_ETHUSD_1min = df_ETHUSD_1min[df_ETHUSD_1min['volume'] != 0]"
   ]
  },
  {
   "cell_type": "code",
   "execution_count": 11,
   "metadata": {},
   "outputs": [],
   "source": [
    "df_ETHUSD_1min = df_ETHUSD_1min.sort_index(ascending=True)"
   ]
  },
  {
   "cell_type": "code",
   "execution_count": 12,
   "metadata": {},
   "outputs": [],
   "source": [
    "# df_ETHUSD_1min['avg'] = df_ETHUSD_1min['quote_asset_volume']/df_ETHUSD_1min['volume']"
   ]
  },
  {
   "cell_type": "markdown",
   "metadata": {},
   "source": [
    "low and high are different for different rolling averages, therefore, there should be 2 segment-paris (or 4 segments for):\n",
    "\n",
    "> bull low v ra <br/> bull high v ra <br/> bear low v ra <br/>  bear high v ra\n",
    "    \n",
    "    \n",
    "e.g. in a bull market, low ticker vs rolling average of X (this X needs to be found)\n",
    "(expect abs(low-ra | bull) < abs(low-ra | bear)  :: absolute value of low minus ra give bull => abs(low-ra | bull)"
   ]
  },
  {
   "cell_type": "code",
   "execution_count": 13,
   "metadata": {},
   "outputs": [],
   "source": [
    "# df_ETHUSD_1min.drop(['volume',\n",
    "#              'quote_asset_volume',\n",
    "#              'number_of_trades',\n",
    "#              'taker_buy_base_asset_volume',\n",
    "#              'taker_buy_quote_asset_volume'],\n",
    "#             axis = 1,\n",
    "# #             inplace=True\n",
    "#                    )"
   ]
  },
  {
   "cell_type": "code",
   "execution_count": 14,
   "metadata": {},
   "outputs": [],
   "source": [
    "agg_grouping = {'open':'first',\n",
    "                'high':'max',\n",
    "                'low':'min',\n",
    "                'close':'last',\n",
    "                'volume':'sum',\n",
    "                'quote_asset_volume':'sum',\n",
    "                'open_time':['min','max','count']\n",
    "               }\n"
   ]
  },
  {
   "cell_type": "code",
   "execution_count": 15,
   "metadata": {},
   "outputs": [],
   "source": [
    "def open_time_refine(txt):\n",
    "    if txt[0] != 'open_time':\n",
    "        return txt[0]\n",
    "    \n",
    "    else:\n",
    "        return txt[0] + '_' +txt[1]"
   ]
  },
  {
   "cell_type": "code",
   "execution_count": 16,
   "metadata": {},
   "outputs": [],
   "source": [
    "def window_groupby(df, grouper_key, freq, agg_grouping):\n",
    "    \n",
    "    df_temp = df.reset_index().groupby(pd.Grouper(key=grouper_key, freq=freq)).agg(agg_grouping)\n",
    "    \n",
    "    if 'open_time' in agg_grouping.keys():\n",
    "        df_temp.columns = [open_time_refine(col) for col in df_temp.columns]\n",
    "    \n",
    "    df_temp['avg'] = df_temp['quote_asset_volume']/df_temp['volume']\n",
    "    \n",
    "    return df_temp"
   ]
  },
  {
   "cell_type": "code",
   "execution_count": 17,
   "metadata": {},
   "outputs": [],
   "source": [
    "df_15min = window_groupby(df=df_ETHUSD_1min,\n",
    "                       grouper_key='open_time',\n",
    "                       freq='15min',\n",
    "                       agg_grouping=agg_grouping\n",
    "                         )"
   ]
  },
  {
   "cell_type": "code",
   "execution_count": 44,
   "metadata": {},
   "outputs": [],
   "source": [
    "df_15min['high_low_dif'] = 100*(df_15min['high'] - df_15min['low'])/df_15min['low']"
   ]
  },
  {
   "cell_type": "code",
   "execution_count": null,
   "metadata": {},
   "outputs": [],
   "source": []
  },
  {
   "cell_type": "code",
   "execution_count": 65,
   "metadata": {},
   "outputs": [
    {
     "data": {
      "text/html": [
       "<div>\n",
       "<style scoped>\n",
       "    .dataframe tbody tr th:only-of-type {\n",
       "        vertical-align: middle;\n",
       "    }\n",
       "\n",
       "    .dataframe tbody tr th {\n",
       "        vertical-align: top;\n",
       "    }\n",
       "\n",
       "    .dataframe thead th {\n",
       "        text-align: right;\n",
       "    }\n",
       "</style>\n",
       "<table border=\"1\" class=\"dataframe\">\n",
       "  <thead>\n",
       "    <tr style=\"text-align: right;\">\n",
       "      <th></th>\n",
       "      <th>count</th>\n",
       "      <th>mean</th>\n",
       "      <th>std</th>\n",
       "      <th>min</th>\n",
       "      <th>25%</th>\n",
       "      <th>50%</th>\n",
       "      <th>75%</th>\n",
       "      <th>max</th>\n",
       "    </tr>\n",
       "  </thead>\n",
       "  <tbody>\n",
       "    <tr>\n",
       "      <th>high_low_dif</th>\n",
       "      <td>117466.0</td>\n",
       "      <td>0.710512</td>\n",
       "      <td>0.676803</td>\n",
       "      <td>0.0</td>\n",
       "      <td>0.324162</td>\n",
       "      <td>0.51434</td>\n",
       "      <td>0.851519</td>\n",
       "      <td>9.796008</td>\n",
       "    </tr>\n",
       "  </tbody>\n",
       "</table>\n",
       "</div>"
      ],
      "text/plain": [
       "                 count      mean       std  min       25%      50%       75%  \\\n",
       "high_low_dif  117466.0  0.710512  0.676803  0.0  0.324162  0.51434  0.851519   \n",
       "\n",
       "                   max  \n",
       "high_low_dif  9.796008  "
      ]
     },
     "execution_count": 65,
     "metadata": {},
     "output_type": "execute_result"
    }
   ],
   "source": [
    "df_15min[df_15min['high_low_dif'] <= 10][['high_low_dif']].describe().T"
   ]
  },
  {
   "cell_type": "code",
   "execution_count": 63,
   "metadata": {},
   "outputs": [
    {
     "data": {
      "image/png": "[encoded data removed]",
      "text/plain": [
       "<Figure size 576x288 with 1 Axes>"
      ]
     },
     "metadata": {
      "needs_background": "light"
     },
     "output_type": "display_data"
    }
   ],
   "source": [
    "fig, ax = plt.subplots(figsize =(8,4))\n",
    "\n",
    "# the histogram of the data\n",
    "n, bins, patches = ax.hist(df_15min[df_15min['high_low_dif'] <= 10]['high_low_dif'], 100, density=False)\n",
    "\n",
    "ax.set_xlabel('Percentage Difference (%)', fontsize=14)\n",
    "ax.set_ylabel('Numer of Times (-)', fontsize=14)\n",
    "ax.set_title(\"Distribution of High-Low difference\", fontsize=18)\n",
    "\n",
    "# Tweak spacing to prevent clipping of ylabel\n",
    "fig.tight_layout()\n",
    "plt.grid()\n",
    "plt.show()"
   ]
  },
  {
   "cell_type": "code",
   "execution_count": null,
   "metadata": {},
   "outputs": [],
   "source": []
  },
  {
   "cell_type": "code",
   "execution_count": null,
   "metadata": {},
   "outputs": [],
   "source": []
  },
  {
   "cell_type": "code",
   "execution_count": null,
   "metadata": {},
   "outputs": [],
   "source": []
  },
  {
   "cell_type": "code",
   "execution_count": 66,
   "metadata": {},
   "outputs": [],
   "source": [
    "def add_rolling_averges(df, list_to_add_unit_hour, index_unit):\n",
    "    \"\"\"\n",
    "    INPUT:\n",
    "    df - dataframe (assume the datafram is already sorted)\n",
    "    list_to_add_unit_hour - list of rolling averages to add in the unit of hour, e.g.\n",
    "                            list_to_add_unit_hour = [1, 2, 4] , will produce R.As of\n",
    "                            1H, 2H, 4H (window calculated by dividing by the index_unit)\n",
    "                            \n",
    "    index_unit - unit of index (whatever was used in the grouper), e.g. '15min' (takes minutes)\n",
    "    \n",
    "    OUTPUT:\n",
    "    dataframe with added rolling averages\n",
    "    \"\"\"\n",
    "    df_temp = df\n",
    "    \n",
    "    rows = float(index_unit.replace('min',''))/60\n",
    "    \n",
    "    for ra in list_to_add_unit_hour:\n",
    "        \n",
    "        df_temp['ra_{x}H'.format(x=ra)] = df_temp['avg'].rolling(window=int(ra/rows)).mean()\n",
    "    \n",
    "    return df_temp"
   ]
  },
  {
   "cell_type": "code",
   "execution_count": 67,
   "metadata": {},
   "outputs": [],
   "source": [
    "df_prepare = add_rolling_averges(df_15min, [1,2,4], '15min').dropna(axis=0).copy(deep=True)"
   ]
  },
  {
   "cell_type": "code",
   "execution_count": 68,
   "metadata": {},
   "outputs": [],
   "source": [
    "df_prepare['y_avg'] = df_prepare['avg'].shift(-1)"
   ]
  },
  {
   "cell_type": "code",
   "execution_count": 69,
   "metadata": {},
   "outputs": [],
   "source": [
    "df_prepare['y_low'] = 100 * ((df_prepare['low'].shift(-1) - df_prepare['y_avg'])/df_prepare['y_avg'])\n",
    "df_prepare['y_high'] = 100 * ((df_prepare['high'].shift(-1) - df_prepare['y_avg'])/df_prepare['y_avg'])\n",
    "df_prepare['y_avg'] = 100 * ((df_prepare['avg'].shift(-1) - df_prepare['avg'])/df_prepare['avg'])"
   ]
  },
  {
   "cell_type": "code",
   "execution_count": 70,
   "metadata": {},
   "outputs": [],
   "source": [
    "def normalising_data(df, columns, base):\n",
    "    \"\"\"\n",
    "    INPUT:\n",
    "    df - dataframe to normalise\n",
    "    columns - list of columns to be normalised (column/base)\n",
    "    base - name of the normalised base (denominator)\n",
    "    \n",
    "    \n",
    "    OUTPUT:\n",
    "    df - normalised dataframe\n",
    "    \"\"\"\n",
    "    assert base not in columns, \"base should not be in the list of columns, as it will be dividing by 0\"\n",
    "    \n",
    "    df_temp = df.copy(deep=True)\n",
    "    \n",
    "    for col in columns:\n",
    "        df_temp[col] = 100 * ((df_temp[col].astype(np.float)/df_temp[base]) - 1)\n",
    "    \n",
    "    return df_temp"
   ]
  },
  {
   "cell_type": "code",
   "execution_count": 71,
   "metadata": {},
   "outputs": [],
   "source": [
    "base = 'ra_1H'\n",
    "columns_to_norm = [d for d in ['open','high','low','close','avg','ra_1H','ra_2H','ra_4H'] if d != base]\n",
    "y_columns = ['y_avg','y_low','y_high']"
   ]
  },
  {
   "cell_type": "code",
   "execution_count": 72,
   "metadata": {},
   "outputs": [],
   "source": [
    "df_normalised = normalising_data(df_prepare, columns=columns_to_norm, base=base)"
   ]
  },
  {
   "cell_type": "code",
   "execution_count": 73,
   "metadata": {},
   "outputs": [],
   "source": [
    "## preparing dataframe for training\n",
    "df_input = df_normalised[columns_to_norm + y_columns].copy(deep=True)"
   ]
  },
  {
   "cell_type": "code",
   "execution_count": 74,
   "metadata": {},
   "outputs": [],
   "source": [
    "df_input = df_input[:-1]"
   ]
  },
  {
   "cell_type": "code",
   "execution_count": 75,
   "metadata": {},
   "outputs": [],
   "source": [
    "df_input_set_aside = df_input[-17000:].copy(deep=True)"
   ]
  },
  {
   "cell_type": "code",
   "execution_count": 76,
   "metadata": {},
   "outputs": [],
   "source": [
    "df_input_traintest = df_input[:-17000].copy(deep=True)"
   ]
  },
  {
   "cell_type": "code",
   "execution_count": 77,
   "metadata": {},
   "outputs": [],
   "source": [
    "df_input_traintest = shuffle(df_input_traintest)"
   ]
  },
  {
   "cell_type": "code",
   "execution_count": 78,
   "metadata": {},
   "outputs": [],
   "source": [
    "X_train, X_test, y_train, y_test = train_test_split(df_input_traintest[columns_to_norm].values, \n",
    "                                                    df_input_traintest[['y_avg','y_low','y_high']].values ,\n",
    "                                                    train_size=0.70,\n",
    "                                                    random_state=42)"
   ]
  },
  {
   "cell_type": "code",
   "execution_count": 79,
   "metadata": {},
   "outputs": [
    {
     "data": {
      "text/plain": [
       "array([[-0.07550727, -0.39801058,  0.3813181 ],\n",
       "       [-0.44017327, -0.3010713 ,  0.41812408],\n",
       "       [-0.15528002, -0.09825329,  0.1550426 ],\n",
       "       ...,\n",
       "       [-0.45989737, -0.36805335,  0.23153839],\n",
       "       [ 0.20437823, -0.49347216,  0.28655067],\n",
       "       [-0.05622311, -0.08081666,  0.10620449]], dtype=float32)"
      ]
     },
     "execution_count": 79,
     "metadata": {},
     "output_type": "execute_result"
    }
   ],
   "source": [
    "y_train"
   ]
  },
  {
   "cell_type": "code",
   "execution_count": 80,
   "metadata": {},
   "outputs": [],
   "source": [
    "y_train_avg = y_train[:,0]\n",
    "y_train_low = y_train[:,1]\n",
    "y_train_high = y_train[:,2]\n",
    "\n",
    "y_test_avg = y_test[:,0]\n",
    "y_test_low = y_test[:,1]\n",
    "y_test_high = y_test[:,2]"
   ]
  },
  {
   "cell_type": "code",
   "execution_count": 81,
   "metadata": {},
   "outputs": [],
   "source": [
    "pipeline_xgb_avg_rel = Pipeline([\n",
    "                            ('multi_clf', XGBRegressor(n_estimators=100, learning_rate=0.1, gamma=0, subsample=0.75,\n",
    "                                       colsample_bytree=1, max_depth=7) )\n",
    "                            ])\n",
    "\n",
    "\n",
    "pipeline_xgb_low = Pipeline([\n",
    "                            ('multi_clf', XGBRegressor(n_estimators=100, learning_rate=0.1, gamma=0, subsample=0.75,\n",
    "                                       colsample_bytree=1, max_depth=7) )\n",
    "                            ])\n",
    "\n",
    "pipeline_xgb_high = Pipeline([\n",
    "                            ('multi_clf', XGBRegressor(n_estimators=100, learning_rate=0.1, gamma=0, subsample=0.75,\n",
    "                                       colsample_bytree=1, max_depth=7) )\n",
    "                            ])\n"
   ]
  },
  {
   "cell_type": "markdown",
   "metadata": {},
   "source": [
    "> try different learning rates (0.08 is the best so far)"
   ]
  },
  {
   "cell_type": "code",
   "execution_count": 82,
   "metadata": {},
   "outputs": [
    {
     "name": "stderr",
     "output_type": "stream",
     "text": [
      "/Users/zen/opt/anaconda3/envs/envloop/lib/python3.7/site-packages/xgboost/data.py:106: UserWarning: Use subset (sliced data) of np.ndarray is not recommended because it will generate extra copies and increase memory consumption\n",
      "  \"because it will generate extra copies and increase \" +\n"
     ]
    },
    {
     "data": {
      "text/plain": [
       "Pipeline(steps=[('multi_clf',\n",
       "                 XGBRegressor(base_score=0.5, booster='gbtree',\n",
       "                              colsample_bylevel=1, colsample_bynode=1,\n",
       "                              colsample_bytree=1, gamma=0, gpu_id=-1,\n",
       "                              importance_type='gain',\n",
       "                              interaction_constraints='', learning_rate=0.1,\n",
       "                              max_delta_step=0, max_depth=7, min_child_weight=1,\n",
       "                              missing=nan, monotone_constraints='()',\n",
       "                              n_estimators=100, n_jobs=8, num_parallel_tree=1,\n",
       "                              random_state=0, reg_alpha=0, reg_lambda=1,\n",
       "                              scale_pos_weight=1, subsample=0.75,\n",
       "                              tree_method='exact', validate_parameters=1,\n",
       "                              verbosity=None))])"
      ]
     },
     "execution_count": 82,
     "metadata": {},
     "output_type": "execute_result"
    }
   ],
   "source": [
    "pipeline_xgb_low.fit(X_train, y_train_low)"
   ]
  },
  {
   "cell_type": "code",
   "execution_count": 83,
   "metadata": {},
   "outputs": [
    {
     "data": {
      "text/plain": [
       "Pipeline(steps=[('multi_clf',\n",
       "                 XGBRegressor(base_score=0.5, booster='gbtree',\n",
       "                              colsample_bylevel=1, colsample_bynode=1,\n",
       "                              colsample_bytree=1, gamma=0, gpu_id=-1,\n",
       "                              importance_type='gain',\n",
       "                              interaction_constraints='', learning_rate=0.1,\n",
       "                              max_delta_step=0, max_depth=7, min_child_weight=1,\n",
       "                              missing=nan, monotone_constraints='()',\n",
       "                              n_estimators=100, n_jobs=8, num_parallel_tree=1,\n",
       "                              random_state=0, reg_alpha=0, reg_lambda=1,\n",
       "                              scale_pos_weight=1, subsample=0.75,\n",
       "                              tree_method='exact', validate_parameters=1,\n",
       "                              verbosity=None))])"
      ]
     },
     "execution_count": 83,
     "metadata": {},
     "output_type": "execute_result"
    }
   ],
   "source": [
    "pipeline_xgb_avg_rel.fit(X_train, y_train_avg)\n",
    "pipeline_xgb_high.fit(X_train, y_train_high)"
   ]
  },
  {
   "cell_type": "code",
   "execution_count": 84,
   "metadata": {},
   "outputs": [
    {
     "data": {
      "text/plain": [
       "array([[ 7.95640289e-01,  1.21198552e+00,  5.37624535e-01, ...,\n",
       "         9.03701610e-01, -5.51901702e-01, -1.69016939e-01],\n",
       "       [-3.11736091e-01, -2.69282027e-01, -1.06542935e+00, ...,\n",
       "        -6.70157883e-01,  7.93870539e-01,  1.13209436e+00],\n",
       "       [ 6.82518709e-01,  1.19549935e+00,  4.77321375e-01, ...,\n",
       "         8.71553442e-01,  1.21785409e-01, -3.80751421e-01],\n",
       "       ...,\n",
       "       [ 2.81595756e-01,  3.95609121e-01, -1.74457708e-01, ...,\n",
       "         1.00805519e-01, -6.96322505e-01, -1.29968035e+00],\n",
       "       [ 5.23313869e-02,  1.10422984e-01, -9.83303965e-01, ...,\n",
       "        -4.64688455e-01, -4.63489776e-01, -1.67340907e+00],\n",
       "       [ 6.03648046e-04,  5.99422510e-02, -1.64232512e-01, ...,\n",
       "        -5.36844329e-02,  8.27081664e-02,  8.44214369e-02]])"
      ]
     },
     "execution_count": 84,
     "metadata": {},
     "output_type": "execute_result"
    }
   ],
   "source": [
    "X_train"
   ]
  },
  {
   "cell_type": "code",
   "execution_count": 85,
   "metadata": {},
   "outputs": [
    {
     "data": {
      "text/plain": [
       "array([0.07977045, 0.11500423, 0.13748656, 0.30002093, 0.183668  ,\n",
       "       0.09259993, 0.09144989], dtype=float32)"
      ]
     },
     "execution_count": 85,
     "metadata": {},
     "output_type": "execute_result"
    }
   ],
   "source": [
    "pipeline_xgb_avg_rel._final_estimator.feature_importances_"
   ]
  },
  {
   "cell_type": "code",
   "execution_count": 86,
   "metadata": {},
   "outputs": [
    {
     "data": {
      "text/plain": [
       "array([0.03164284, 0.27198616, 0.4500798 , 0.05624718, 0.04635257,\n",
       "       0.05778133, 0.08591016], dtype=float32)"
      ]
     },
     "execution_count": 86,
     "metadata": {},
     "output_type": "execute_result"
    }
   ],
   "source": [
    "pipeline_xgb_low._final_estimator.feature_importances_"
   ]
  },
  {
   "cell_type": "code",
   "execution_count": 87,
   "metadata": {},
   "outputs": [
    {
     "data": {
      "text/plain": [
       "array([0.03279427, 0.222204  , 0.4522849 , 0.07069437, 0.062928  ,\n",
       "       0.06243833, 0.09665612], dtype=float32)"
      ]
     },
     "execution_count": 87,
     "metadata": {},
     "output_type": "execute_result"
    }
   ],
   "source": [
    "pipeline_xgb_high._final_estimator.feature_importances_"
   ]
  },
  {
   "cell_type": "code",
   "execution_count": null,
   "metadata": {},
   "outputs": [],
   "source": []
  },
  {
   "cell_type": "code",
   "execution_count": 88,
   "metadata": {},
   "outputs": [],
   "source": [
    "y_pred_avg = pipeline_xgb_avg_rel.predict(X_test)\n",
    "y_pred_low = pipeline_xgb_low.predict(X_test)\n",
    "y_pred_high = pipeline_xgb_high.predict(X_test)"
   ]
  },
  {
   "cell_type": "code",
   "execution_count": null,
   "metadata": {},
   "outputs": [],
   "source": []
  },
  {
   "cell_type": "code",
   "execution_count": 89,
   "metadata": {},
   "outputs": [],
   "source": [
    "y_pred_avg_unseen = pipeline_xgb_avg_rel.predict(df_input_set_aside[columns_to_norm].values)\n",
    "y_pred_low_unseen = pipeline_xgb_low.predict(df_input_set_aside[columns_to_norm].values)\n",
    "y_pred_high_unseen = pipeline_xgb_high.predict(df_input_set_aside[columns_to_norm].values)"
   ]
  },
  {
   "cell_type": "code",
   "execution_count": null,
   "metadata": {},
   "outputs": [],
   "source": []
  },
  {
   "cell_type": "code",
   "execution_count": 90,
   "metadata": {},
   "outputs": [],
   "source": [
    "df_input_set_aside['pred_y_avg'] = y_pred_avg_unseen\n",
    "df_input_set_aside['pred_y_low'] = y_pred_low_unseen\n",
    "df_input_set_aside['pred_y_high'] = y_pred_high_unseen"
   ]
  },
  {
   "cell_type": "code",
   "execution_count": 91,
   "metadata": {},
   "outputs": [],
   "source": [
    "### continue here"
   ]
  },
  {
   "cell_type": "code",
   "execution_count": 92,
   "metadata": {},
   "outputs": [
    {
     "data": {
      "text/html": [
       "<div>\n",
       "<style scoped>\n",
       "    .dataframe tbody tr th:only-of-type {\n",
       "        vertical-align: middle;\n",
       "    }\n",
       "\n",
       "    .dataframe tbody tr th {\n",
       "        vertical-align: top;\n",
       "    }\n",
       "\n",
       "    .dataframe thead th {\n",
       "        text-align: right;\n",
       "    }\n",
       "</style>\n",
       "<table border=\"1\" class=\"dataframe\">\n",
       "  <thead>\n",
       "    <tr style=\"text-align: right;\">\n",
       "      <th></th>\n",
       "      <th>open</th>\n",
       "      <th>high</th>\n",
       "      <th>low</th>\n",
       "      <th>close</th>\n",
       "      <th>avg</th>\n",
       "      <th>ra_2H</th>\n",
       "      <th>ra_4H</th>\n",
       "      <th>y_avg</th>\n",
       "      <th>y_low</th>\n",
       "      <th>y_high</th>\n",
       "      <th>pred_y_avg</th>\n",
       "      <th>pred_y_low</th>\n",
       "      <th>pred_y_high</th>\n",
       "    </tr>\n",
       "    <tr>\n",
       "      <th>open_time</th>\n",
       "      <th></th>\n",
       "      <th></th>\n",
       "      <th></th>\n",
       "      <th></th>\n",
       "      <th></th>\n",
       "      <th></th>\n",
       "      <th></th>\n",
       "      <th></th>\n",
       "      <th></th>\n",
       "      <th></th>\n",
       "      <th></th>\n",
       "      <th></th>\n",
       "      <th></th>\n",
       "    </tr>\n",
       "  </thead>\n",
       "  <tbody>\n",
       "    <tr>\n",
       "      <th>2020-07-05 04:00:00</th>\n",
       "      <td>0.056864</td>\n",
       "      <td>0.118240</td>\n",
       "      <td>-0.048348</td>\n",
       "      <td>-0.035197</td>\n",
       "      <td>0.036575</td>\n",
       "      <td>0.010673</td>\n",
       "      <td>0.228604</td>\n",
       "      <td>-0.082986</td>\n",
       "      <td>-0.058928</td>\n",
       "      <td>0.072655</td>\n",
       "      <td>-0.061740</td>\n",
       "      <td>-0.142081</td>\n",
       "      <td>0.144570</td>\n",
       "    </tr>\n",
       "    <tr>\n",
       "      <th>2020-07-05 04:15:00</th>\n",
       "      <td>-0.043062</td>\n",
       "      <td>0.022700</td>\n",
       "      <td>-0.108818</td>\n",
       "      <td>-0.025523</td>\n",
       "      <td>-0.049919</td>\n",
       "      <td>-0.039900</td>\n",
       "      <td>0.184051</td>\n",
       "      <td>-0.024997</td>\n",
       "      <td>-0.077814</td>\n",
       "      <td>0.097676</td>\n",
       "      <td>0.015729</td>\n",
       "      <td>-0.137477</td>\n",
       "      <td>0.137976</td>\n",
       "    </tr>\n",
       "    <tr>\n",
       "      <th>2020-07-05 04:30:00</th>\n",
       "      <td>-0.010542</td>\n",
       "      <td>0.037688</td>\n",
       "      <td>-0.137698</td>\n",
       "      <td>-0.054390</td>\n",
       "      <td>-0.059930</td>\n",
       "      <td>-0.036454</td>\n",
       "      <td>0.162012</td>\n",
       "      <td>0.089724</td>\n",
       "      <td>-0.106023</td>\n",
       "      <td>0.078079</td>\n",
       "      <td>-0.034404</td>\n",
       "      <td>-0.153175</td>\n",
       "      <td>0.146408</td>\n",
       "    </tr>\n",
       "    <tr>\n",
       "      <th>2020-07-05 04:45:00</th>\n",
       "      <td>-0.036977</td>\n",
       "      <td>0.112109</td>\n",
       "      <td>-0.072056</td>\n",
       "      <td>0.077030</td>\n",
       "      <td>0.034003</td>\n",
       "      <td>-0.016647</td>\n",
       "      <td>0.137629</td>\n",
       "      <td>0.004541</td>\n",
       "      <td>-0.119320</td>\n",
       "      <td>0.082296</td>\n",
       "      <td>0.026017</td>\n",
       "      <td>-0.143031</td>\n",
       "      <td>0.142655</td>\n",
       "    </tr>\n",
       "    <tr>\n",
       "      <th>2020-07-05 05:00:00</th>\n",
       "      <td>0.071712</td>\n",
       "      <td>0.124328</td>\n",
       "      <td>-0.077372</td>\n",
       "      <td>0.010324</td>\n",
       "      <td>0.041998</td>\n",
       "      <td>0.009610</td>\n",
       "      <td>0.117044</td>\n",
       "      <td>-0.041720</td>\n",
       "      <td>-0.064479</td>\n",
       "      <td>0.067068</td>\n",
       "      <td>-0.031381</td>\n",
       "      <td>-0.143031</td>\n",
       "      <td>0.144596</td>\n",
       "    </tr>\n",
       "    <tr>\n",
       "      <th>...</th>\n",
       "      <td>...</td>\n",
       "      <td>...</td>\n",
       "      <td>...</td>\n",
       "      <td>...</td>\n",
       "      <td>...</td>\n",
       "      <td>...</td>\n",
       "      <td>...</td>\n",
       "      <td>...</td>\n",
       "      <td>...</td>\n",
       "      <td>...</td>\n",
       "      <td>...</td>\n",
       "      <td>...</td>\n",
       "      <td>...</td>\n",
       "    </tr>\n",
       "    <tr>\n",
       "      <th>2020-12-29 22:30:00</th>\n",
       "      <td>-0.085690</td>\n",
       "      <td>0.059024</td>\n",
       "      <td>-0.242812</td>\n",
       "      <td>0.047995</td>\n",
       "      <td>-0.105896</td>\n",
       "      <td>0.189503</td>\n",
       "      <td>0.162304</td>\n",
       "      <td>0.573928</td>\n",
       "      <td>-0.411984</td>\n",
       "      <td>0.184758</td>\n",
       "      <td>0.135182</td>\n",
       "      <td>-0.184909</td>\n",
       "      <td>0.183646</td>\n",
       "    </tr>\n",
       "    <tr>\n",
       "      <th>2020-12-29 22:45:00</th>\n",
       "      <td>-0.082146</td>\n",
       "      <td>0.511038</td>\n",
       "      <td>-0.087648</td>\n",
       "      <td>0.420206</td>\n",
       "      <td>0.325678</td>\n",
       "      <td>0.054681</td>\n",
       "      <td>0.076264</td>\n",
       "      <td>-0.066708</td>\n",
       "      <td>-0.338645</td>\n",
       "      <td>0.285952</td>\n",
       "      <td>0.145711</td>\n",
       "      <td>-0.294092</td>\n",
       "      <td>0.287438</td>\n",
       "    </tr>\n",
       "    <tr>\n",
       "      <th>2020-12-29 23:00:00</th>\n",
       "      <td>0.345342</td>\n",
       "      <td>0.471866</td>\n",
       "      <td>-0.153889</td>\n",
       "      <td>0.040023</td>\n",
       "      <td>0.185384</td>\n",
       "      <td>-0.055493</td>\n",
       "      <td>0.038943</td>\n",
       "      <td>-0.134920</td>\n",
       "      <td>-0.404695</td>\n",
       "      <td>0.451687</td>\n",
       "      <td>-0.115008</td>\n",
       "      <td>-0.263152</td>\n",
       "      <td>0.275885</td>\n",
       "    </tr>\n",
       "    <tr>\n",
       "      <th>2020-12-29 23:15:00</th>\n",
       "      <td>-0.003350</td>\n",
       "      <td>0.459928</td>\n",
       "      <td>-0.396524</td>\n",
       "      <td>0.314208</td>\n",
       "      <td>0.008204</td>\n",
       "      <td>-0.121517</td>\n",
       "      <td>0.001118</td>\n",
       "      <td>0.793768</td>\n",
       "      <td>-0.515320</td>\n",
       "      <td>0.257947</td>\n",
       "      <td>0.287853</td>\n",
       "      <td>-0.341227</td>\n",
       "      <td>0.331845</td>\n",
       "    </tr>\n",
       "    <tr>\n",
       "      <th>2020-12-29 23:30:00</th>\n",
       "      <td>0.013614</td>\n",
       "      <td>0.768885</td>\n",
       "      <td>-0.008322</td>\n",
       "      <td>0.762025</td>\n",
       "      <td>0.509623</td>\n",
       "      <td>-0.272703</td>\n",
       "      <td>-0.247584</td>\n",
       "      <td>0.197125</td>\n",
       "      <td>-0.445628</td>\n",
       "      <td>0.353332</td>\n",
       "      <td>0.315067</td>\n",
       "      <td>-0.406152</td>\n",
       "      <td>0.340747</td>\n",
       "    </tr>\n",
       "  </tbody>\n",
       "</table>\n",
       "<p>17000 rows × 13 columns</p>\n",
       "</div>"
      ],
      "text/plain": [
       "                         open      high       low     close       avg  \\\n",
       "open_time                                                               \n",
       "2020-07-05 04:00:00  0.056864  0.118240 -0.048348 -0.035197  0.036575   \n",
       "2020-07-05 04:15:00 -0.043062  0.022700 -0.108818 -0.025523 -0.049919   \n",
       "2020-07-05 04:30:00 -0.010542  0.037688 -0.137698 -0.054390 -0.059930   \n",
       "2020-07-05 04:45:00 -0.036977  0.112109 -0.072056  0.077030  0.034003   \n",
       "2020-07-05 05:00:00  0.071712  0.124328 -0.077372  0.010324  0.041998   \n",
       "...                       ...       ...       ...       ...       ...   \n",
       "2020-12-29 22:30:00 -0.085690  0.059024 -0.242812  0.047995 -0.105896   \n",
       "2020-12-29 22:45:00 -0.082146  0.511038 -0.087648  0.420206  0.325678   \n",
       "2020-12-29 23:00:00  0.345342  0.471866 -0.153889  0.040023  0.185384   \n",
       "2020-12-29 23:15:00 -0.003350  0.459928 -0.396524  0.314208  0.008204   \n",
       "2020-12-29 23:30:00  0.013614  0.768885 -0.008322  0.762025  0.509623   \n",
       "\n",
       "                        ra_2H     ra_4H     y_avg     y_low    y_high  \\\n",
       "open_time                                                               \n",
       "2020-07-05 04:00:00  0.010673  0.228604 -0.082986 -0.058928  0.072655   \n",
       "2020-07-05 04:15:00 -0.039900  0.184051 -0.024997 -0.077814  0.097676   \n",
       "2020-07-05 04:30:00 -0.036454  0.162012  0.089724 -0.106023  0.078079   \n",
       "2020-07-05 04:45:00 -0.016647  0.137629  0.004541 -0.119320  0.082296   \n",
       "2020-07-05 05:00:00  0.009610  0.117044 -0.041720 -0.064479  0.067068   \n",
       "...                       ...       ...       ...       ...       ...   \n",
       "2020-12-29 22:30:00  0.189503  0.162304  0.573928 -0.411984  0.184758   \n",
       "2020-12-29 22:45:00  0.054681  0.076264 -0.066708 -0.338645  0.285952   \n",
       "2020-12-29 23:00:00 -0.055493  0.038943 -0.134920 -0.404695  0.451687   \n",
       "2020-12-29 23:15:00 -0.121517  0.001118  0.793768 -0.515320  0.257947   \n",
       "2020-12-29 23:30:00 -0.272703 -0.247584  0.197125 -0.445628  0.353332   \n",
       "\n",
       "                     pred_y_avg  pred_y_low  pred_y_high  \n",
       "open_time                                                 \n",
       "2020-07-05 04:00:00   -0.061740   -0.142081     0.144570  \n",
       "2020-07-05 04:15:00    0.015729   -0.137477     0.137976  \n",
       "2020-07-05 04:30:00   -0.034404   -0.153175     0.146408  \n",
       "2020-07-05 04:45:00    0.026017   -0.143031     0.142655  \n",
       "2020-07-05 05:00:00   -0.031381   -0.143031     0.144596  \n",
       "...                         ...         ...          ...  \n",
       "2020-12-29 22:30:00    0.135182   -0.184909     0.183646  \n",
       "2020-12-29 22:45:00    0.145711   -0.294092     0.287438  \n",
       "2020-12-29 23:00:00   -0.115008   -0.263152     0.275885  \n",
       "2020-12-29 23:15:00    0.287853   -0.341227     0.331845  \n",
       "2020-12-29 23:30:00    0.315067   -0.406152     0.340747  \n",
       "\n",
       "[17000 rows x 13 columns]"
      ]
     },
     "execution_count": 92,
     "metadata": {},
     "output_type": "execute_result"
    }
   ],
   "source": [
    "df_input_set_aside"
   ]
  },
  {
   "cell_type": "code",
   "execution_count": 93,
   "metadata": {},
   "outputs": [],
   "source": [
    "def undo_normalising_data(df, columns, base):\n",
    "    \"\"\"\n",
    "    INPUT:\n",
    "    df - dataframe to normalise\n",
    "    columns - list of columns to be normalised (column/base)\n",
    "    base - name of the normalised base (denominator)\n",
    "    \n",
    "    \n",
    "    OUTPUT:\n",
    "    df - normalised dataframe\n",
    "    \"\"\"\n",
    "#     assert base not in columns, \"base should not be in the list of columns, as it will be dividing by 0\"\n",
    "    new_columns = [d for d in columns if d != base]\n",
    "    \n",
    "    df_temp = df.copy(deep=True)\n",
    "    \n",
    "    for col in new_columns:\n",
    "        df_temp[col] = (1 + df_temp[col].astype(np.float)/100) * df_temp[base]\n",
    "    \n",
    "    return df_temp"
   ]
  },
  {
   "cell_type": "code",
   "execution_count": 94,
   "metadata": {},
   "outputs": [],
   "source": [
    "df_validate_results = df_input_set_aside.merge(df_normalised[[base]], left_index=True, right_index=True, how='left')"
   ]
  },
  {
   "cell_type": "code",
   "execution_count": 95,
   "metadata": {},
   "outputs": [
    {
     "data": {
      "text/html": [
       "<div>\n",
       "<style scoped>\n",
       "    .dataframe tbody tr th:only-of-type {\n",
       "        vertical-align: middle;\n",
       "    }\n",
       "\n",
       "    .dataframe tbody tr th {\n",
       "        vertical-align: top;\n",
       "    }\n",
       "\n",
       "    .dataframe thead th {\n",
       "        text-align: right;\n",
       "    }\n",
       "</style>\n",
       "<table border=\"1\" class=\"dataframe\">\n",
       "  <thead>\n",
       "    <tr style=\"text-align: right;\">\n",
       "      <th></th>\n",
       "      <th>open</th>\n",
       "      <th>high</th>\n",
       "      <th>low</th>\n",
       "      <th>close</th>\n",
       "      <th>avg</th>\n",
       "      <th>ra_2H</th>\n",
       "      <th>ra_4H</th>\n",
       "      <th>y_avg</th>\n",
       "      <th>y_low</th>\n",
       "      <th>y_high</th>\n",
       "      <th>pred_y_avg</th>\n",
       "      <th>pred_y_low</th>\n",
       "      <th>pred_y_high</th>\n",
       "      <th>ra_1H</th>\n",
       "    </tr>\n",
       "    <tr>\n",
       "      <th>open_time</th>\n",
       "      <th></th>\n",
       "      <th></th>\n",
       "      <th></th>\n",
       "      <th></th>\n",
       "      <th></th>\n",
       "      <th></th>\n",
       "      <th></th>\n",
       "      <th></th>\n",
       "      <th></th>\n",
       "      <th></th>\n",
       "      <th></th>\n",
       "      <th></th>\n",
       "      <th></th>\n",
       "      <th></th>\n",
       "    </tr>\n",
       "  </thead>\n",
       "  <tbody>\n",
       "    <tr>\n",
       "      <th>2020-07-05 04:00:00</th>\n",
       "      <td>0.056864</td>\n",
       "      <td>0.11824</td>\n",
       "      <td>-0.048348</td>\n",
       "      <td>-0.035197</td>\n",
       "      <td>0.036575</td>\n",
       "      <td>0.010673</td>\n",
       "      <td>0.228604</td>\n",
       "      <td>-0.082986</td>\n",
       "      <td>-0.058928</td>\n",
       "      <td>0.072655</td>\n",
       "      <td>-0.061740</td>\n",
       "      <td>-0.142081</td>\n",
       "      <td>0.144570</td>\n",
       "      <td>228.100288</td>\n",
       "    </tr>\n",
       "    <tr>\n",
       "      <th>2020-07-05 04:15:00</th>\n",
       "      <td>-0.043062</td>\n",
       "      <td>0.02270</td>\n",
       "      <td>-0.108818</td>\n",
       "      <td>-0.025523</td>\n",
       "      <td>-0.049919</td>\n",
       "      <td>-0.039900</td>\n",
       "      <td>0.184051</td>\n",
       "      <td>-0.024997</td>\n",
       "      <td>-0.077814</td>\n",
       "      <td>0.097676</td>\n",
       "      <td>0.015729</td>\n",
       "      <td>-0.137477</td>\n",
       "      <td>0.137976</td>\n",
       "      <td>228.108223</td>\n",
       "    </tr>\n",
       "  </tbody>\n",
       "</table>\n",
       "</div>"
      ],
      "text/plain": [
       "                         open     high       low     close       avg  \\\n",
       "open_time                                                              \n",
       "2020-07-05 04:00:00  0.056864  0.11824 -0.048348 -0.035197  0.036575   \n",
       "2020-07-05 04:15:00 -0.043062  0.02270 -0.108818 -0.025523 -0.049919   \n",
       "\n",
       "                        ra_2H     ra_4H     y_avg     y_low    y_high  \\\n",
       "open_time                                                               \n",
       "2020-07-05 04:00:00  0.010673  0.228604 -0.082986 -0.058928  0.072655   \n",
       "2020-07-05 04:15:00 -0.039900  0.184051 -0.024997 -0.077814  0.097676   \n",
       "\n",
       "                     pred_y_avg  pred_y_low  pred_y_high       ra_1H  \n",
       "open_time                                                             \n",
       "2020-07-05 04:00:00   -0.061740   -0.142081     0.144570  228.100288  \n",
       "2020-07-05 04:15:00    0.015729   -0.137477     0.137976  228.108223  "
      ]
     },
     "execution_count": 95,
     "metadata": {},
     "output_type": "execute_result"
    }
   ],
   "source": [
    "df_validate_results.head(2)"
   ]
  },
  {
   "cell_type": "code",
   "execution_count": 96,
   "metadata": {},
   "outputs": [],
   "source": [
    "df_testing_model_results = undo_normalising_data(df_validate_results, ['open', 'high', 'low', 'close',\n",
    "                                                                       'avg', 'ra_1H', 'ra_2H', 'ra_4H',\n",
    "                                                                       'y_avg','y_low','y_high',\n",
    "                                                                       'pred_y_avg','pred_y_low','pred_y_high'], base)"
   ]
  },
  {
   "cell_type": "code",
   "execution_count": null,
   "metadata": {},
   "outputs": [],
   "source": []
  },
  {
   "cell_type": "code",
   "execution_count": 101,
   "metadata": {},
   "outputs": [
    {
     "data": {
      "text/plain": [
       "<AxesSubplot:xlabel='open_time'>"
      ]
     },
     "execution_count": 101,
     "metadata": {},
     "output_type": "execute_result"
    },
    {
     "data": {
      "image/png": "[encoded data removed]",
      "text/plain": [
       "<Figure size 432x288 with 1 Axes>"
      ]
     },
     "metadata": {
      "needs_background": "light"
     },
     "output_type": "display_data"
    }
   ],
   "source": [
    "df_testing_model_results[[\n",
    "#                           'high','pred_y_high', \n",
    "                          'low','pred_y_low',\n",
    "                          'avg','pred_y_avg'\n",
    "                        ]][150:200].plot()"
   ]
  },
  {
   "cell_type": "code",
   "execution_count": 61,
   "metadata": {},
   "outputs": [],
   "source": [
    "df_testing_model_results['high_diff_prec'] = 100 * (df_testing_model_results['pred_y_high'] - df_testing_model_results['y_high'])/df_testing_model_results['y_high']"
   ]
  },
  {
   "cell_type": "code",
   "execution_count": 62,
   "metadata": {},
   "outputs": [],
   "source": [
    "df_testing_model_results['low_diff_prec'] = 100 * (df_testing_model_results['pred_y_low'] - df_testing_model_results['y_low'])/df_testing_model_results['y_low']"
   ]
  },
  {
   "cell_type": "code",
   "execution_count": 63,
   "metadata": {},
   "outputs": [
    {
     "data": {
      "text/plain": [
       "<AxesSubplot:>"
      ]
     },
     "execution_count": 63,
     "metadata": {},
     "output_type": "execute_result"
    },
    {
     "data": {
      "image/png": "[encoded data removed]",
      "text/plain": [
       "<Figure size 432x288 with 1 Axes>"
      ]
     },
     "metadata": {
      "needs_background": "light"
     },
     "output_type": "display_data"
    }
   ],
   "source": [
    "df_testing_model_results['high_diff_prec'].hist(bins =100)"
   ]
  },
  {
   "cell_type": "code",
   "execution_count": 64,
   "metadata": {},
   "outputs": [
    {
     "data": {
      "text/html": [
       "<div>\n",
       "<style scoped>\n",
       "    .dataframe tbody tr th:only-of-type {\n",
       "        vertical-align: middle;\n",
       "    }\n",
       "\n",
       "    .dataframe tbody tr th {\n",
       "        vertical-align: top;\n",
       "    }\n",
       "\n",
       "    .dataframe thead th {\n",
       "        text-align: right;\n",
       "    }\n",
       "</style>\n",
       "<table border=\"1\" class=\"dataframe\">\n",
       "  <thead>\n",
       "    <tr style=\"text-align: right;\">\n",
       "      <th></th>\n",
       "      <th>high_diff_prec</th>\n",
       "      <th>low_diff_prec</th>\n",
       "    </tr>\n",
       "  </thead>\n",
       "  <tbody>\n",
       "    <tr>\n",
       "      <th>count</th>\n",
       "      <td>17000.000000</td>\n",
       "      <td>17000.000000</td>\n",
       "    </tr>\n",
       "    <tr>\n",
       "      <th>mean</th>\n",
       "      <td>0.022514</td>\n",
       "      <td>-0.013283</td>\n",
       "    </tr>\n",
       "    <tr>\n",
       "      <th>std</th>\n",
       "      <td>0.202948</td>\n",
       "      <td>0.228170</td>\n",
       "    </tr>\n",
       "    <tr>\n",
       "      <th>min</th>\n",
       "      <td>-9.788994</td>\n",
       "      <td>-9.380300</td>\n",
       "    </tr>\n",
       "    <tr>\n",
       "      <th>25%</th>\n",
       "      <td>-0.030837</td>\n",
       "      <td>-0.107434</td>\n",
       "    </tr>\n",
       "    <tr>\n",
       "      <th>50%</th>\n",
       "      <td>0.050209</td>\n",
       "      <td>-0.046360</td>\n",
       "    </tr>\n",
       "    <tr>\n",
       "      <th>75%</th>\n",
       "      <td>0.108723</td>\n",
       "      <td>0.038580</td>\n",
       "    </tr>\n",
       "    <tr>\n",
       "      <th>max</th>\n",
       "      <td>4.626032</td>\n",
       "      <td>11.976549</td>\n",
       "    </tr>\n",
       "  </tbody>\n",
       "</table>\n",
       "</div>"
      ],
      "text/plain": [
       "       high_diff_prec  low_diff_prec\n",
       "count    17000.000000   17000.000000\n",
       "mean         0.022514      -0.013283\n",
       "std          0.202948       0.228170\n",
       "min         -9.788994      -9.380300\n",
       "25%         -0.030837      -0.107434\n",
       "50%          0.050209      -0.046360\n",
       "75%          0.108723       0.038580\n",
       "max          4.626032      11.976549"
      ]
     },
     "execution_count": 64,
     "metadata": {},
     "output_type": "execute_result"
    }
   ],
   "source": [
    "df_testing_model_results[['high_diff_prec','low_diff_prec']].describe()"
   ]
  },
  {
   "cell_type": "code",
   "execution_count": 65,
   "metadata": {},
   "outputs": [
    {
     "data": {
      "text/html": [
       "<div>\n",
       "<style scoped>\n",
       "    .dataframe tbody tr th:only-of-type {\n",
       "        vertical-align: middle;\n",
       "    }\n",
       "\n",
       "    .dataframe tbody tr th {\n",
       "        vertical-align: top;\n",
       "    }\n",
       "\n",
       "    .dataframe thead th {\n",
       "        text-align: right;\n",
       "    }\n",
       "</style>\n",
       "<table border=\"1\" class=\"dataframe\">\n",
       "  <thead>\n",
       "    <tr style=\"text-align: right;\">\n",
       "      <th></th>\n",
       "      <th>0</th>\n",
       "    </tr>\n",
       "  </thead>\n",
       "  <tbody>\n",
       "    <tr>\n",
       "      <th>count</th>\n",
       "      <td>17000.000000</td>\n",
       "    </tr>\n",
       "    <tr>\n",
       "      <th>mean</th>\n",
       "      <td>0.584821</td>\n",
       "    </tr>\n",
       "    <tr>\n",
       "      <th>std</th>\n",
       "      <td>0.510629</td>\n",
       "    </tr>\n",
       "    <tr>\n",
       "      <th>min</th>\n",
       "      <td>0.029838</td>\n",
       "    </tr>\n",
       "    <tr>\n",
       "      <th>25%</th>\n",
       "      <td>0.308154</td>\n",
       "    </tr>\n",
       "    <tr>\n",
       "      <th>50%</th>\n",
       "      <td>0.462848</td>\n",
       "    </tr>\n",
       "    <tr>\n",
       "      <th>75%</th>\n",
       "      <td>0.702226</td>\n",
       "    </tr>\n",
       "    <tr>\n",
       "      <th>max</th>\n",
       "      <td>26.415386</td>\n",
       "    </tr>\n",
       "  </tbody>\n",
       "</table>\n",
       "</div>"
      ],
      "text/plain": [
       "                  0\n",
       "count  17000.000000\n",
       "mean       0.584821\n",
       "std        0.510629\n",
       "min        0.029838\n",
       "25%        0.308154\n",
       "50%        0.462848\n",
       "75%        0.702226\n",
       "max       26.415386"
      ]
     },
     "execution_count": 65,
     "metadata": {},
     "output_type": "execute_result"
    }
   ],
   "source": [
    "pd.DataFrame(100*(df_testing_model_results['high'] - df_testing_model_results['low'])/df_testing_model_results['low']).describe()"
   ]
  },
  {
   "cell_type": "code",
   "execution_count": null,
   "metadata": {},
   "outputs": [],
   "source": []
  },
  {
   "cell_type": "code",
   "execution_count": null,
   "metadata": {},
   "outputs": [],
   "source": []
  },
  {
   "cell_type": "code",
   "execution_count": 66,
   "metadata": {},
   "outputs": [],
   "source": [
    "class DecisionMaking:\n",
    "    \"\"\"\n",
    "    A class that takes pre-trained models and product the next predicted values\n",
    "    \n",
    "    list_to_add_unit_hour - list of rolling averages to add in the unit of hour, e.g.\n",
    "                                list_to_add_unit_hour = [1, 2, 4] , will produce RAs of\n",
    "                                1H, 2H, 4H (window calculated by dividing by the index_unit)\n",
    "\n",
    "    index_unit - unit of index (whatever was used in the grouper), e.g. '15min' (takes minutes)\n",
    "\n",
    "\n",
    "    \"\"\"\n",
    "    \n",
    "    def __init__(self, columns_to_norm, base, list_to_add_unit_hour, index_unit, model_avg, model_high, model_low):\n",
    "        \n",
    "        self.columns_to_norm = columns_to_norm\n",
    "        self.base = base\n",
    "        self.list_to_add_unit_hour = list_to_add_unit_hour\n",
    "        self.index_unit = index_unit\n",
    "        \n",
    "        self.model_avg  = model_avg\n",
    "        self.model_high = model_high\n",
    "        self.model_low  = model_low\n",
    "        \n",
    "        assert base not in columns_to_norm, \"base should not be in the list of columns, as it will be dividing by 0\"\n",
    "    \n",
    "    def get_raw_data(self, df):\n",
    "        \"\"\"\n",
    "        raw 1 minute df\n",
    "        \"\"\"\n",
    "        assert df.index.dtype == '<M8[ns]', \"Index should be time\"\n",
    "        self.raw_1min_df = df.sort_index(ascending=True).copy(deep=True)\n",
    "        \n",
    "        return None\n",
    "    \n",
    "    def window_groupby(self, freq, agg_grouping, return_results=False):\n",
    "        \n",
    "        \"\"\"\n",
    "        return_results to see the table returned, otherwise, save at: self.df_windowed\n",
    "        \"\"\"\n",
    "        \n",
    "        df=self.raw_1min_df.copy(deep=True)\n",
    "        grouper_key = self.raw_1min_df.index.name\n",
    "        assert grouper_key != None, \"no grouper key\"\n",
    "        \n",
    "        df_temp = df.reset_index().groupby(pd.Grouper(key=grouper_key, freq=freq)).agg(agg_grouping)\n",
    "        if 'open_time' in agg_grouping.keys():\n",
    "            df_temp.columns = [open_time_refine(col) for col in df_temp.columns]\n",
    "\n",
    "        df_temp['avg'] = df_temp['quote_asset_volume']/df_temp['volume']\n",
    "        df_temp['avg'] = df_temp['avg'].fillna(method='ffill')  ## when volume is 0\n",
    "        \n",
    "        if return_results:\n",
    "            return df_temp\n",
    "            \n",
    "        else:\n",
    "            self.df_windowed = df_temp.copy(deep=True)\n",
    "            return None\n",
    "\n",
    "\n",
    "    \n",
    "    def add_rolling_averges(self, return_results=False):\n",
    "        \"\"\"\n",
    "        INPUT:\n",
    "        return_results - boolean, defult False\n",
    "        \n",
    "        OUTPUT:\n",
    "        (if return_results = True), dataframe with added rolling averages\n",
    "        (else, save at self.df_wind_ra)\n",
    "        \"\"\"\n",
    "\n",
    "        df_temp = self.df_windowed.copy(deep=True)\n",
    "\n",
    "        rows = float(self.index_unit.replace('min',''))/60\n",
    "\n",
    "        for ra in self.list_to_add_unit_hour:\n",
    "\n",
    "            df_temp['ra_{x}H'.format(x=ra)] = df_temp['avg'].rolling(window=int(ra/rows)).mean()\n",
    "\n",
    "        if return_results:\n",
    "            print(\".dropna(axis=0) not applied here\")\n",
    "            return df_temp\n",
    "            \n",
    "        else:\n",
    "            self.df_wind_ra = df_temp.dropna(axis=0).copy(deep=True)\n",
    "            return None\n",
    "\n",
    "\n",
    "    \n",
    "    def normalising_data(self, return_results=False):\n",
    "        \"\"\"\n",
    "        INPUT:\n",
    "        return_results - boolean, defult False\n",
    "\n",
    "        OUTPUT:\n",
    "        (if return_results = True), normalised dataframe\n",
    "        (else, save at self.df_normalised_input)\n",
    "        \"\"\"\n",
    "        \n",
    "        df_temp = self.df_wind_ra.copy(deep=True)\n",
    "\n",
    "        for col in self.columns_to_norm:\n",
    "            df_temp[col] = 100 * ((df_temp[col].astype(np.float)/df_temp[self.base]) - 1)\n",
    "\n",
    "        if return_results:\n",
    "            return df_temp\n",
    "            \n",
    "        else:\n",
    "            self.df_normalised_input = df_temp.copy(deep=True)\n",
    "            return None\n",
    "        \n",
    "    def _return_predicted_vales(self, pred, base_value):\n",
    "        final_value = (1.0 + pred/100) * base_value\n",
    "        return final_value\n",
    "    \n",
    "    def get_predictions(self):\n",
    "        \"\"\"\n",
    "        return predicted: average, low, and high from the models\n",
    "        \"\"\"\n",
    "        y_pred_avg_decision = pipeline_xgb_avg_rel.predict(self.df_normalised_input[self.columns_to_norm].values)\n",
    "        y_pred_low_decision = pipeline_xgb_low.predict(self.df_normalised_input[self.columns_to_norm].values)\n",
    "        y_pred_high_decision = pipeline_xgb_high.predict(self.df_normalised_input[self.columns_to_norm].values)\n",
    "\n",
    "        y_pred_unscaled_avg = self._return_predicted_vales(y_pred_avg_decision[0], self.df_normalised_input[self.base].values[0])\n",
    "        y_pred_unscaled_low = self._return_predicted_vales(y_pred_low_decision[0], self.df_normalised_input[self.base].values[0])\n",
    "        y_pred_unscaled_high = self._return_predicted_vales(y_pred_high_decision[0], self.df_normalised_input[self.base].values[0])\n",
    "            \n",
    "        return {'pred_avg':y_pred_unscaled_avg,\n",
    "                'pred_low':y_pred_unscaled_low,\n",
    "                'pred_high':y_pred_unscaled_high}"
   ]
  },
  {
   "cell_type": "code",
   "execution_count": 67,
   "metadata": {},
   "outputs": [
    {
     "ename": "SyntaxError",
     "evalue": "invalid syntax (<ipython-input-67-a5cd62f7b008>, line 136)",
     "output_type": "error",
     "traceback": [
      "\u001b[0;36m  File \u001b[0;32m\"<ipython-input-67-a5cd62f7b008>\"\u001b[0;36m, line \u001b[0;32m136\u001b[0m\n\u001b[0;31m    if\u001b[0m\n\u001b[0m       ^\u001b[0m\n\u001b[0;31mSyntaxError\u001b[0m\u001b[0;31m:\u001b[0m invalid syntax\n"
     ]
    }
   ],
   "source": [
    "class TradingBot:\n",
    "    def __init__(self, usd_wallet, coin_wallet, maker_fee=0.1, taker_fee=0.2):\n",
    "        \"\"\"should alway pay the maker fee (fee in the unit of percentage)\"\"\"\n",
    "        self.usd_wallet = usd_wallet\n",
    "        self.coin_wallet = coin_wallet\n",
    "        \n",
    "        ## maybe add floating position here? self.usd_float, self.crypto_float \n",
    "        ## what happens if trading multiple crypto? (they are all from the same wallet)\n",
    "        \n",
    "        self.maker_fee = maker_fee\n",
    "        self.taker_fee = taker_fee\n",
    " \n",
    "        \n",
    "        self.next_action = 'open_buy_position'  ## can be from {'open_buy_position', 'open_sell_position',\n",
    "                                                ##              'close_buy_position', 'close_sell_position'}\n",
    "        \n",
    "        self.open_order = False # True means currently there is a buy order; to buy crypto using USD\n",
    "        self.current_low = None  ## will be compared to lows\n",
    "        self.current_high = None  ## will be compared to highs\n",
    "        self.pred_low = None\n",
    "        self.pred_high = None\n",
    "        \n",
    "        self.trade_log = [{\"time_of_event\" : datetime.now(),  ## if back testing, now() shoud be the max time \n",
    "                          \"event_name\"    : \"initialisation\",\n",
    "                          \"usd_wallet\"    : self.usd_wallet, \n",
    "                          \"coin_wallet\"   : self.coin_wallet,\n",
    "                          \"next_action\"   : self.next_action,\n",
    "                           \"open_order\"   : self.open_order,\n",
    "                           \"pred_low\"     : self.pred_low,\n",
    "                           \"pred_high\"    : self.pred_high,\n",
    "                           \"true_low\"     : self.current_low,\n",
    "                           \"true_high\"    : self.current_high\n",
    "                         }]\n",
    "\n",
    "    def get_log(self):\n",
    "        return self.trade_log\n",
    "    \n",
    "    def _add_to_log(self, time, event_name, usd_wallet, coin_wallet, next_action):\n",
    "        self.trade_log.append(\n",
    "                         {\"time_of_event\" : time,  ## if back testing, now() shoud be the max time \n",
    "                          \"event_name\"    : event_name,\n",
    "                          \"usd_wallet\"    : usd_wallet, \n",
    "                          \"coin_wallet\"   : coin_wallet,\n",
    "                          \"next_action\"   : next_action,\n",
    "                          \"open_order\"    : self.open_order,\n",
    "                          \"pred_low\"     : self.pred_low,\n",
    "                          \"pred_high\"    : self.pred_high,\n",
    "                          \"true_low\"     : self.current_low,\n",
    "                          \"true_high\"    : self.current_high\n",
    "        })\n",
    "        \n",
    "        return None\n",
    "\n",
    "    def _open_buy_position(self, pred_low):\n",
    "        self.buy_position = pred_low  ## open a position on the low price, can make adjustments here\n",
    "        self.open_order = True\n",
    "        self.next_action = \"close_buy_position\"\n",
    "        \n",
    "        self._add_to_log(self.time,\n",
    "                         \"open_buy_position\",\n",
    "                         self.usd_wallet,\n",
    "                         self.coin_wallet,\n",
    "                         self.next_action\n",
    "                        )\n",
    "        \n",
    "        return None \n",
    "    \n",
    "    def _execute_buy_position(self, true_low):\n",
    "        if true_low < self.buy_position:\n",
    "            \n",
    "            self.open_order = False\n",
    "            self.coin_wallet = self.coin_wallet + float(self.usd_wallet / self.buy_position) * (100 - self.taker_fee)/100\n",
    "            self.usd_wallet = self.usd_wallet - self.usd_wallet ## (second one should be actual usd spent)\n",
    "            self.next_action = \"open_sell_position\"\n",
    "            \n",
    "            self._add_to_log(self.time, \n",
    "                             \"close_buy_position\",\n",
    "                             self.usd_wallet,\n",
    "                             self.coin_wallet,\n",
    "                             self.next_action\n",
    "                            )\n",
    "            return None\n",
    "            \n",
    "        else:\n",
    "            self._add_to_log(self.time,\n",
    "                             \"waiting_to_close_buy_position\",\n",
    "                             self.usd_wallet,\n",
    "                             self.coin_wallet,\n",
    "                             self.next_action\n",
    "                            )\n",
    "            return None\n",
    "            \n",
    "    \n",
    "    def _open_sell_position(self, pred_high):\n",
    "        self.sell_position = pred_high\n",
    "        self.open_order = True\n",
    "        self.next_action = \"close_sell_position\"   \n",
    "        \n",
    "        self._add_to_log(self.time, \n",
    "                         \"open_sell_position\",\n",
    "                         self.usd_wallet,\n",
    "                         self.coin_wallet,\n",
    "                         self.next_action\n",
    "                        )\n",
    "        \n",
    "        return None\n",
    "    \n",
    "    \n",
    "    def _execute_sell_position(self, true_high):\n",
    "        if true_high > self.sell_position:\n",
    "            self.open_order = False\n",
    "            \n",
    "            self.usd_wallet = self.usd_wallet + self.sell_position * self.coin_wallet * (100 - self.taker_fee)/100\n",
    "            self.coin_wallet = self.coin_wallet - self.coin_wallet\n",
    "\n",
    "            self.next_action = \"open_buy_position\"\n",
    "            self._add_to_log(self.time,\n",
    "                             \"close_sell_position\",\n",
    "                             self.usd_wallet,\n",
    "                             self.coin_wallet,\n",
    "                             self.next_action\n",
    "                            )\n",
    "            return None\n",
    "    \n",
    "        else:\n",
    "            self._add_to_log(self.time, \n",
    "                             \"waiting_to_close_sell_position\",\n",
    "                             self.usd_wallet,\n",
    "                             self.coin_wallet,\n",
    "                             self.next_action\n",
    "                            )\n",
    "            return None\n",
    "    \n",
    "    def cancel_position(self):\n",
    "        self.open_order = False\n",
    "        if \n",
    "        self.next_action = 'open_buy_position'\n",
    "\n",
    "        self._add_to_log(self.time, \n",
    "                             \"cancel_trade\",\n",
    "                             self.usd_wallet,\n",
    "                             self.coin_wallet,\n",
    "                             self.next_action\n",
    "                            )\n",
    "        \n",
    "        return None\n",
    "    \n",
    "    def trading(self, current_low, current_high, time, input_pred_low=None, input_pred_high=None, skip_trade=False):\n",
    "        self.time = time\n",
    "        self.current_low = current_low\n",
    "        self.current_high = current_high\n",
    "        \n",
    "        assert self.usd_wallet + self.coin_wallet > 0 , \"must have money\"\n",
    "        \n",
    "        if skip_trade and self.open_order == False:\n",
    "            self._add_to_log(self.time, \n",
    "                             \"unfavourable conditions, waiting\",\n",
    "                             self.usd_wallet,\n",
    "                             self.coin_wallet,\n",
    "                             self.next_action\n",
    "                            )\n",
    "        \n",
    "        \n",
    "        else:\n",
    "            if self.open_order == False: ## no open order, looking to open a position\n",
    "                if self.next_action == 'open_buy_position':\n",
    "                    self.pred_low = input_pred_low\n",
    "                    self._open_buy_position(self.pred_low)  ## opened a buy position at pred_low price\n",
    "\n",
    "                elif self.next_action == 'open_sell_position':\n",
    "                    self.pred_high = input_pred_high\n",
    "                    self._open_sell_position(self.pred_high)\n",
    "\n",
    "                else:\n",
    "                    assert False, \"self.next_action is {action} when there is NO Open Order, this should not happen\".format(action=self.next_action)\n",
    "\n",
    "            else: ## has open order, looking to sell\n",
    "                assert self.open_order == True, \"has to be True here (boolean), got: {value}\".format(value=self.open_order)\n",
    "\n",
    "                if self.next_action == 'close_buy_position':\n",
    "                    self._execute_buy_position(current_low)\n",
    "\n",
    "                elif self.next_action == 'close_sell_position':\n",
    "                    self._execute_sell_position(current_high)\n",
    "\n",
    "                else:\n",
    "                    assert False, \"self.next_action is {action} when there is an Open Order, this should not happen\".format(action=self.next_action)"
   ]
  },
  {
   "cell_type": "code",
   "execution_count": null,
   "metadata": {},
   "outputs": [],
   "source": []
  },
  {
   "cell_type": "code",
   "execution_count": null,
   "metadata": {},
   "outputs": [],
   "source": []
  },
  {
   "cell_type": "code",
   "execution_count": null,
   "metadata": {},
   "outputs": [],
   "source": []
  },
  {
   "cell_type": "code",
   "execution_count": 68,
   "metadata": {},
   "outputs": [],
   "source": [
    "data_4H = pd.DataFrame([], columns = ['open','high','low','close','volume','quote_asset_volume'])\n",
    "data_4H.index.name = 'open_time'"
   ]
  },
  {
   "cell_type": "code",
   "execution_count": 69,
   "metadata": {},
   "outputs": [],
   "source": [
    "decide = DecisionMaking(columns_to_norm = columns_to_norm,\n",
    "                        base = base,\n",
    "                        list_to_add_unit_hour = [1,2,4],\n",
    "                        index_unit = '15min',\n",
    "                        model_avg = pipeline_xgb_avg_rel,\n",
    "                        model_high = pipeline_xgb_low,\n",
    "                        model_low = pipeline_xgb_high)"
   ]
  },
  {
   "cell_type": "code",
   "execution_count": 70,
   "metadata": {},
   "outputs": [],
   "source": [
    "def run_decision(decision_class, df_past_4hours):\n",
    "    decision_class.get_raw_data(df_past_4hours)\n",
    "    decision_class.window_groupby(freq='15min', \n",
    "                      agg_grouping={'open': 'first',\n",
    "                                     'high': 'max',\n",
    "                                     'low': 'min',\n",
    "                                     'close': 'last',\n",
    "                                     'volume': 'sum',\n",
    "                                     'quote_asset_volume': 'sum',\n",
    "                                     'open_time': ['min', 'max', 'count']}\n",
    "                     )\n",
    "    decision_class.add_rolling_averges()\n",
    "    decision_class.normalising_data()\n",
    "    \n",
    "#     display(decision_class.df_normalised_input[['open_time_max']])\n",
    "    return (decision_class.get_predictions() )"
   ]
  },
  {
   "cell_type": "code",
   "execution_count": null,
   "metadata": {},
   "outputs": [],
   "source": []
  },
  {
   "cell_type": "code",
   "execution_count": 71,
   "metadata": {},
   "outputs": [],
   "source": [
    "min_df = df_ETHUSD_1min.iloc[0].name"
   ]
  },
  {
   "cell_type": "code",
   "execution_count": 72,
   "metadata": {},
   "outputs": [],
   "source": [
    "max_df = df_ETHUSD_1min.iloc[-1].name"
   ]
  },
  {
   "cell_type": "code",
   "execution_count": 73,
   "metadata": {},
   "outputs": [],
   "source": [
    "df_ETHUSD_1min_reindex = df_ETHUSD_1min.reindex(pd.date_range(start=min_df, end=max_df, freq='min')).copy(deep=True)"
   ]
  },
  {
   "cell_type": "code",
   "execution_count": 74,
   "metadata": {},
   "outputs": [],
   "source": [
    "df_ETHUSD_1min_reindex = df_ETHUSD_1min_reindex.fillna(method='ffill')"
   ]
  },
  {
   "cell_type": "code",
   "execution_count": 75,
   "metadata": {},
   "outputs": [],
   "source": [
    "df_ETHUSD_1min_reindex.index.name = 'open_time'"
   ]
  },
  {
   "cell_type": "code",
   "execution_count": 76,
   "metadata": {},
   "outputs": [],
   "source": [
    "df_base = df_ETHUSD_1min_reindex[df_ETHUSD_1min_reindex.index >= '2020-12-01'][:239]  ## + 12 to make sure it starts on the multiples of quarter minutes\n",
    "df_continue = df_ETHUSD_1min_reindex[df_ETHUSD_1min_reindex.index >= '2020-12-01'][239:]"
   ]
  },
  {
   "cell_type": "code",
   "execution_count": null,
   "metadata": {},
   "outputs": [],
   "source": []
  },
  {
   "cell_type": "code",
   "execution_count": 78,
   "metadata": {},
   "outputs": [
    {
     "ename": "NameError",
     "evalue": "name 'TradingBot' is not defined",
     "output_type": "error",
     "traceback": [
      "\u001b[0;31m---------------------------------------------------------------------------\u001b[0m",
      "\u001b[0;31mNameError\u001b[0m                                 Traceback (most recent call last)",
      "\u001b[0;32m<ipython-input-78-6d91bcbd706c>\u001b[0m in \u001b[0;36m<module>\u001b[0;34m\u001b[0m\n\u001b[1;32m      8\u001b[0m \u001b[0morder_high_from_low\u001b[0m \u001b[0;34m=\u001b[0m \u001b[0;36m1.5\u001b[0m \u001b[0;31m## unit percent, at least 0.4\u001b[0m\u001b[0;34m\u001b[0m\u001b[0;34m\u001b[0m\u001b[0m\n\u001b[1;32m      9\u001b[0m \u001b[0;34m\u001b[0m\u001b[0m\n\u001b[0;32m---> 10\u001b[0;31m \u001b[0meth_bot1\u001b[0m \u001b[0;34m=\u001b[0m \u001b[0mTradingBot\u001b[0m\u001b[0;34m(\u001b[0m\u001b[0;36m100\u001b[0m\u001b[0;34m,\u001b[0m \u001b[0;36m0\u001b[0m\u001b[0;34m)\u001b[0m\u001b[0;34m\u001b[0m\u001b[0;34m\u001b[0m\u001b[0m\n\u001b[0m\u001b[1;32m     11\u001b[0m \u001b[0mnext_event\u001b[0m \u001b[0;34m=\u001b[0m \u001b[0meth_bot1\u001b[0m\u001b[0;34m.\u001b[0m\u001b[0mget_log\u001b[0m\u001b[0;34m(\u001b[0m\u001b[0;34m)\u001b[0m\u001b[0;34m[\u001b[0m\u001b[0;34m-\u001b[0m\u001b[0;36m1\u001b[0m\u001b[0;34m]\u001b[0m\u001b[0;34m[\u001b[0m\u001b[0;34m'next_action'\u001b[0m\u001b[0;34m]\u001b[0m\u001b[0;34m\u001b[0m\u001b[0;34m\u001b[0m\u001b[0m\n\u001b[1;32m     12\u001b[0m \u001b[0;34m\u001b[0m\u001b[0m\n",
      "\u001b[0;31mNameError\u001b[0m: name 'TradingBot' is not defined"
     ]
    }
   ],
   "source": [
    "\n",
    "history_log = {}\n",
    "n = 0\n",
    "to_skip_trade = False\n",
    "\n",
    "## fee of 0.4%\n",
    "downward_adjustment = 1  ## unit percent\n",
    "dif_high_low = 3 ## unit percent\n",
    "order_high_from_low = 1.5 ## unit percent, at least 0.4\n",
    "\n",
    "eth_bot1 = TradingBot(100, 0)\n",
    "next_event = eth_bot1.get_log()[-1]['next_action'] \n",
    "\n",
    "prediction_log = []\n",
    "\n",
    "number_of_window = 0\n",
    "\n",
    "for k, row in df_continue.iterrows():\n",
    "    \"\"\"4H of data\"\"\"\n",
    "    row_append =pd.Series( {'open' :row['open'],\n",
    "                          'high' :row['high'],\n",
    "                          'low'  :row['low'],\n",
    "                          'close':row['close'],\n",
    "                          'volume':row['volume'],\n",
    "                          'quote_asset_volume':row['quote_asset_volume']\n",
    "                       }, \n",
    "                     name = row.name\n",
    "                     )\n",
    "\n",
    "    df_base = df_base.append(row_append, ignore_index=False)\n",
    "    \n",
    "    if n%15 == 0:\n",
    "        for_log = run_decision(decide, df_base)\n",
    "        if 100 * (for_log['pred_high']/for_log['pred_low'] -1) > dif_high_low:\n",
    "            number_of_window += 1\n",
    "\n",
    "    if n%15 == 0 and next_event in ['open_sell_position','open_buy_position']:\n",
    "        \n",
    "        predicted_values = run_decision(decide, df_base)\n",
    "        low_price_position = predicted_values['pred_low'] * ((100-downward_adjustment)/100)\n",
    "        high_price_position = low_price_position * (100 + order_high_from_low)/100\n",
    "        \n",
    "        prediction_log.append((row.name, predicted_values))\n",
    "\n",
    "#         print(100 * (predicted_values['pred_high']/predicted_values['pred_low'] -1))\n",
    "        \n",
    "        if 100 * (predicted_values['pred_high']/predicted_values['pred_low'] -1) > dif_high_low:\n",
    "            to_skip_trade = True\n",
    "\n",
    "        else:\n",
    "            to_skip_trade = False\n",
    "            print('finally', to_skip_trade, row.name)\n",
    "\n",
    "    df_base= df_base[1:]\n",
    "    n+=1\n",
    "    \n",
    "    if n%(60*24) == 0:\n",
    "        print(row.name, \n",
    "              eth_bot1.usd_wallet, \n",
    "              eth_bot1.coin_wallet,\n",
    "              eth_bot1.coin_wallet * row['close'],\n",
    "              high_price_position, \n",
    "              high_price_position * eth_bot1.coin_wallet,\n",
    "              'window: ' , number_of_window)\n",
    "\n",
    "        \n",
    "    else:\n",
    "        pass\n",
    "    \n",
    "    eth_bot1.trading(current_low=row['low'], \n",
    "                     current_high=row['high'],\n",
    "                     time=row.name,\n",
    "                     input_pred_low= low_price_position, \n",
    "                     input_pred_high= high_price_position,\n",
    "                     skip_trade=to_skip_trade)\n",
    "    \n",
    "    next_event = eth_bot1.get_log()[-1]['next_action'] \n",
    "    \n",
    "    \n",
    "#     if row.name == pd.to_datetime(df_continue.iloc[-1:].index.values)[0]:\n",
    "#         break\n",
    "    if n > 24*60*8:\n",
    "        break"
   ]
  },
  {
   "cell_type": "code",
   "execution_count": null,
   "metadata": {},
   "outputs": [],
   "source": [
    "eth_bot1.usd_wallet"
   ]
  },
  {
   "cell_type": "code",
   "execution_count": 79,
   "metadata": {},
   "outputs": [
    {
     "ename": "NameError",
     "evalue": "name 'eth_bot1' is not defined",
     "output_type": "error",
     "traceback": [
      "\u001b[0;31m---------------------------------------------------------------------------\u001b[0m",
      "\u001b[0;31mNameError\u001b[0m                                 Traceback (most recent call last)",
      "\u001b[0;32m<ipython-input-79-8cefacb7034c>\u001b[0m in \u001b[0;36m<module>\u001b[0;34m\u001b[0m\n\u001b[0;32m----> 1\u001b[0;31m \u001b[0meth_bot1\u001b[0m\u001b[0;34m.\u001b[0m\u001b[0mcoin_wallet\u001b[0m\u001b[0;34m\u001b[0m\u001b[0;34m\u001b[0m\u001b[0m\n\u001b[0m",
      "\u001b[0;31mNameError\u001b[0m: name 'eth_bot1' is not defined"
     ]
    }
   ],
   "source": [
    "eth_bot1.coin_wallet"
   ]
  },
  {
   "cell_type": "code",
   "execution_count": 80,
   "metadata": {},
   "outputs": [
    {
     "ename": "NameError",
     "evalue": "name 'eth_bot1' is not defined",
     "output_type": "error",
     "traceback": [
      "\u001b[0;31m---------------------------------------------------------------------------\u001b[0m",
      "\u001b[0;31mNameError\u001b[0m                                 Traceback (most recent call last)",
      "\u001b[0;32m<ipython-input-80-32bdd3db25a7>\u001b[0m in \u001b[0;36m<module>\u001b[0;34m\u001b[0m\n\u001b[0;32m----> 1\u001b[0;31m \u001b[0mtrade_bot_log\u001b[0m \u001b[0;34m=\u001b[0m \u001b[0mpd\u001b[0m\u001b[0;34m.\u001b[0m\u001b[0mDataFrame\u001b[0m\u001b[0;34m(\u001b[0m\u001b[0meth_bot1\u001b[0m\u001b[0;34m.\u001b[0m\u001b[0mget_log\u001b[0m\u001b[0;34m(\u001b[0m\u001b[0;34m)\u001b[0m\u001b[0;34m)\u001b[0m\u001b[0;34m\u001b[0m\u001b[0;34m\u001b[0m\u001b[0m\n\u001b[0m",
      "\u001b[0;31mNameError\u001b[0m: name 'eth_bot1' is not defined"
     ]
    }
   ],
   "source": [
    "trade_bot_log = pd.DataFrame(eth_bot1.get_log())"
   ]
  },
  {
   "cell_type": "code",
   "execution_count": 81,
   "metadata": {},
   "outputs": [
    {
     "ename": "NameError",
     "evalue": "name 'trade_bot_log' is not defined",
     "output_type": "error",
     "traceback": [
      "\u001b[0;31m---------------------------------------------------------------------------\u001b[0m",
      "\u001b[0;31mNameError\u001b[0m                                 Traceback (most recent call last)",
      "\u001b[0;32m<ipython-input-81-fa1b35ba36b8>\u001b[0m in \u001b[0;36m<module>\u001b[0;34m\u001b[0m\n\u001b[0;32m----> 1\u001b[0;31m \u001b[0mtrade_bot_log\u001b[0m\u001b[0;34m[\u001b[0m\u001b[0;34m'event_name'\u001b[0m\u001b[0;34m]\u001b[0m\u001b[0;34m.\u001b[0m\u001b[0munique\u001b[0m\u001b[0;34m(\u001b[0m\u001b[0;34m)\u001b[0m\u001b[0;34m\u001b[0m\u001b[0;34m\u001b[0m\u001b[0m\n\u001b[0m",
      "\u001b[0;31mNameError\u001b[0m: name 'trade_bot_log' is not defined"
     ]
    }
   ],
   "source": [
    "trade_bot_log['event_name'].unique()"
   ]
  },
  {
   "cell_type": "code",
   "execution_count": 82,
   "metadata": {},
   "outputs": [
    {
     "ename": "NameError",
     "evalue": "name 'trade_bot_log' is not defined",
     "output_type": "error",
     "traceback": [
      "\u001b[0;31m---------------------------------------------------------------------------\u001b[0m",
      "\u001b[0;31mNameError\u001b[0m                                 Traceback (most recent call last)",
      "\u001b[0;32m<ipython-input-82-2611e3335a37>\u001b[0m in \u001b[0;36m<module>\u001b[0;34m\u001b[0m\n\u001b[0;32m----> 1\u001b[0;31m \u001b[0mtrade_bot_log\u001b[0m\u001b[0;34m[\u001b[0m\u001b[0mtrade_bot_log\u001b[0m\u001b[0;34m[\u001b[0m\u001b[0;34m'event_name'\u001b[0m\u001b[0;34m]\u001b[0m\u001b[0;34m.\u001b[0m\u001b[0mapply\u001b[0m\u001b[0;34m(\u001b[0m\u001b[0;32mlambda\u001b[0m \u001b[0mx\u001b[0m\u001b[0;34m:\u001b[0m \u001b[0;34m'waiting'\u001b[0m \u001b[0;32mnot\u001b[0m \u001b[0;32min\u001b[0m \u001b[0mx\u001b[0m\u001b[0;34m)\u001b[0m\u001b[0;34m]\u001b[0m\u001b[0;34m.\u001b[0m\u001b[0mhead\u001b[0m\u001b[0;34m(\u001b[0m\u001b[0;36m60\u001b[0m\u001b[0;34m)\u001b[0m\u001b[0;34m\u001b[0m\u001b[0;34m\u001b[0m\u001b[0m\n\u001b[0m",
      "\u001b[0;31mNameError\u001b[0m: name 'trade_bot_log' is not defined"
     ]
    }
   ],
   "source": [
    "trade_bot_log[trade_bot_log['event_name'].apply(lambda x: 'waiting' not in x)].head(60)"
   ]
  },
  {
   "cell_type": "code",
   "execution_count": null,
   "metadata": {},
   "outputs": [],
   "source": []
  },
  {
   "cell_type": "code",
   "execution_count": 83,
   "metadata": {},
   "outputs": [
    {
     "data": {
      "text/plain": [
       "<AxesSubplot:xlabel='open_time'>"
      ]
     },
     "execution_count": 83,
     "metadata": {},
     "output_type": "execute_result"
    },
    {
     "data": {
      "image/png": "[encoded data removed]",
      "text/plain": [
       "<Figure size 432x288 with 1 Axes>"
      ]
     },
     "metadata": {
      "needs_background": "light"
     },
     "output_type": "display_data"
    }
   ],
   "source": [
    "df_continue[['open']].plot()"
   ]
  },
  {
   "cell_type": "code",
   "execution_count": null,
   "metadata": {},
   "outputs": [],
   "source": []
  },
  {
   "cell_type": "code",
   "execution_count": null,
   "metadata": {},
   "outputs": [],
   "source": []
  },
  {
   "cell_type": "code",
   "execution_count": null,
   "metadata": {},
   "outputs": [],
   "source": []
  },
  {
   "cell_type": "code",
   "execution_count": null,
   "metadata": {},
   "outputs": [],
   "source": []
  },
  {
   "cell_type": "code",
   "execution_count": null,
   "metadata": {},
   "outputs": [],
   "source": []
  },
  {
   "cell_type": "code",
   "execution_count": null,
   "metadata": {},
   "outputs": [],
   "source": []
  },
  {
   "cell_type": "code",
   "execution_count": null,
   "metadata": {},
   "outputs": [],
   "source": []
  },
  {
   "cell_type": "code",
   "execution_count": null,
   "metadata": {},
   "outputs": [],
   "source": []
  },
  {
   "cell_type": "code",
   "execution_count": null,
   "metadata": {},
   "outputs": [],
   "source": []
  },
  {
   "cell_type": "code",
   "execution_count": null,
   "metadata": {},
   "outputs": [],
   "source": []
  },
  {
   "cell_type": "code",
   "execution_count": null,
   "metadata": {},
   "outputs": [],
   "source": []
  },
  {
   "cell_type": "code",
   "execution_count": null,
   "metadata": {},
   "outputs": [],
   "source": []
  },
  {
   "cell_type": "code",
   "execution_count": null,
   "metadata": {},
   "outputs": [],
   "source": []
  },
  {
   "cell_type": "code",
   "execution_count": null,
   "metadata": {},
   "outputs": [],
   "source": []
  },
  {
   "cell_type": "code",
   "execution_count": null,
   "metadata": {},
   "outputs": [],
   "source": []
  },
  {
   "cell_type": "code",
   "execution_count": null,
   "metadata": {},
   "outputs": [],
   "source": []
  },
  {
   "cell_type": "code",
   "execution_count": null,
   "metadata": {},
   "outputs": [],
   "source": []
  },
  {
   "cell_type": "code",
   "execution_count": null,
   "metadata": {},
   "outputs": [],
   "source": []
  },
  {
   "cell_type": "code",
   "execution_count": null,
   "metadata": {},
   "outputs": [],
   "source": []
  }
 ],
 "metadata": {
  "kernelspec": {
   "display_name": "Python 3",
   "language": "python",
   "name": "python3"
  },
  "language_info": {
   "codemirror_mode": {
    "name": "ipython",
    "version": 3
   },
   "file_extension": ".py",
   "mimetype": "text/x-python",
   "name": "python",
   "nbconvert_exporter": "python",
   "pygments_lexer": "ipython3",
   "version": "3.7.9"
  }
 },
 "nbformat": 4,
 "nbformat_minor": 4
}

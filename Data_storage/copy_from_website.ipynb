{
 "cells": [
  {
   "cell_type": "code",
   "execution_count": 1,
   "metadata": {},
   "outputs": [],
   "source": [
    "import numpy as np"
   ]
  },
  {
   "cell_type": "code",
   "execution_count": 2,
   "metadata": {},
   "outputs": [],
   "source": [
    "from TFANN import ANNR\n",
    "import matplotlib.pyplot as mpl\n",
    "from sklearn.preprocessing import scale"
   ]
  },
  {
   "cell_type": "code",
   "execution_count": 3,
   "metadata": {},
   "outputs": [],
   "source": [
    "import datetime as dt"
   ]
  },
  {
   "cell_type": "code",
   "execution_count": 4,
   "metadata": {},
   "outputs": [],
   "source": [
    "from datetime import datetime"
   ]
  },
  {
   "cell_type": "code",
   "execution_count": 5,
   "metadata": {},
   "outputs": [],
   "source": [
    "class PastSampler:\n",
    "    '''\n",
    "    Forms training samples for predicting future values from past value\n",
    "    '''\n",
    "\n",
    "    def __init__(self, N, K):\n",
    "        '''\n",
    "        Predict K future sample using N previous samples\n",
    "        '''\n",
    "        self.K = K\n",
    "        self.N = N\n",
    "\n",
    "    def transform(self, A, Y = None):\n",
    "        M = self.N + self.K     #Number of samples per row (sample + target)\n",
    "        #Matrix of sample indices like: {{1, 2..., M}, {2, 3, ..., M + 1}}\n",
    "        I = np.arange(M) + np.arange(A.shape[0] - M + 1).reshape(-1, 1)\n",
    "        B = A[I].reshape(-1, M * A.shape[1], *A.shape[2:])\n",
    "        ci = self.N * A.shape[1]    #Number of features per sample\n",
    "        return B[:, :ci], B[:, ci:] #Sample matrix, Target matrix\n"
   ]
  },
  {
   "cell_type": "code",
   "execution_count": 6,
   "metadata": {},
   "outputs": [],
   "source": [
    "import numpy as np\n",
    "import os\n",
    "import pandas as pd\n",
    "import urllib.request\n",
    "     "
   ]
  },
  {
   "cell_type": "code",
   "execution_count": 7,
   "metadata": {},
   "outputs": [],
   "source": [
    "def GetAPIUrl(cur, sts = 1420070400):\n",
    "    '''\n",
    "    Makes a URL for querying historical prices of a cyrpto from Poloniex\n",
    "    cur:    3 letter abbreviation for cryptocurrency (BTC, LTC, etc)\n",
    "    '''\n",
    "    return 'https://poloniex.com/public?command=returnChartData&currencyPair=USDT_{:s}&start={:d}&end=9999999999&period=7200'.format(cur, sts)\n",
    " \n",
    "def GetCurDF(cur, fp):\n",
    "    '''\n",
    "    cur:    3 letter abbreviation for cryptocurrency (BTC, LTC, etc)\n",
    "    fp:     File path (to save price data to CSV)\n",
    "    '''\n",
    "    openUrl = urllib.request.urlopen(GetAPIUrl(cur))\n",
    "    r = openUrl.read()\n",
    "    openUrl.close()\n",
    "    df = pd.read_json(r.decode())\n",
    "    df['date'] = df['date'].astype(np.int64) // 1000000000   ## datetime.fromtimestamp(1424138400) to convert back\n",
    "    return df\n",
    " "
   ]
  },
  {
   "cell_type": "code",
   "execution_count": null,
   "metadata": {},
   "outputs": [],
   "source": []
  },
  {
   "cell_type": "code",
   "execution_count": null,
   "metadata": {},
   "outputs": [],
   "source": []
  },
  {
   "cell_type": "code",
   "execution_count": 4,
   "metadata": {},
   "outputs": [],
   "source": [
    "#%%Path to store cached currency data\n",
    "datPath = 'CurDat/'\n",
    "if not os.path.exists(datPath):\n",
    "    os.mkdir(datPath)\n",
    "#Different cryptocurrency types\n",
    "cl = ['BTC', 'LTC', 'ETH', 'XMR']\n",
    "#Columns of price data to use\n",
    "CN = ['close', 'high', 'low', 'open', 'volume']\n",
    "#Store data frames for each of above types\n",
    "D = []\n",
    "for ci in cl:\n",
    "    dfp = os.path.join(datPath, ci + '.csv')\n",
    "    try:\n",
    "        df = pd.read_csv(dfp, sep = ',')\n",
    "    except FileNotFoundError:\n",
    "        df = GetCurDF(ci, dfp)\n",
    "    D.append(df)\n",
    "#%%Only keep range of data that is common to all currency types\n",
    "cr = min(Di.shape[0] for Di in D)\n",
    "for i in range(len(cl)):\n",
    "    D[i] = D[i][(D[i].shape[0] - cr):]"
   ]
  },
  {
   "cell_type": "code",
   "execution_count": 6,
   "metadata": {},
   "outputs": [],
   "source": []
  },
  {
   "cell_type": "code",
   "execution_count": null,
   "metadata": {},
   "outputs": [],
   "source": []
  },
  {
   "cell_type": "code",
   "execution_count": null,
   "metadata": {},
   "outputs": [],
   "source": []
  },
  {
   "cell_type": "code",
   "execution_count": null,
   "metadata": {},
   "outputs": [],
   "source": []
  },
  {
   "cell_type": "code",
   "execution_count": null,
   "metadata": {},
   "outputs": [],
   "source": []
  },
  {
   "cell_type": "code",
   "execution_count": 11,
   "metadata": {},
   "outputs": [
    {
     "name": "stderr",
     "output_type": "stream",
     "text": [
      "c:\\users\\zhen\\appdata\\local\\programs\\python\\python37\\lib\\site-packages\\ipykernel_launcher.py:2: FutureWarning: arrays to stack must be passed as a \"sequence\" type such as list or tuple. Support for non-sequence iterables such as generators is deprecated as of NumPy 1.16 and will raise an error in the future.\n",
      "  \n"
     ]
    }
   ],
   "source": [
    " #%%Features are channels\n",
    "C = np.hstack((Di[CN] for Di in D))[:, None, :]\n",
    "HP = 16                 #Holdout period\n",
    "A = C[0:-HP]                \n",
    "SV = A.mean(axis = 0)   #Scale vector\n",
    "C /= SV                 #Basic scaling of data\n",
    "#%%Make samples of temporal sequences of pricing data (channel)\n",
    "NPS, NFS = 256, 16         #Number of past and future samples\n",
    "ps = PastSampler(NPS, NFS)\n",
    "B, Y = ps.transform(A)"
   ]
  },
  {
   "cell_type": "code",
   "execution_count": null,
   "metadata": {},
   "outputs": [
    {
     "name": "stdout",
     "output_type": "stream",
     "text": [
      "\n",
      "WARNING: The TensorFlow contrib module will not be included in TensorFlow 2.0.\n",
      "For more information, please see:\n",
      "  * https://github.com/tensorflow/community/blob/master/rfcs/20180907-contrib-sunset.md\n",
      "  * https://github.com/tensorflow/addons\n",
      "If you depend on functionality not listed there, please file an issue.\n",
      "\n",
      "WARNING:tensorflow:From c:\\users\\zhen\\appdata\\local\\programs\\python\\python37\\lib\\site-packages\\tensorflow\\python\\framework\\op_def_library.py:263: colocate_with (from tensorflow.python.framework.ops) is deprecated and will be removed in a future version.\n",
      "Instructions for updating:\n",
      "Colocations handled automatically by placer.\n",
      "Iter     1\t      2.21880901 (Batch Size:    32)\n",
      "Iter     2\t      1.40079356 (Batch Size:    32)\n",
      "Iter     3\t      1.26190415 (Batch Size:    32)\n",
      "Iter     4\t      1.28964048 (Batch Size:    32)\n",
      "Iter     5\t      1.20333381 (Batch Size:    32)\n",
      "Iter     6\t      1.25754469 (Batch Size:    32)\n",
      "Iter     7\t      1.17831665 (Batch Size:    32)\n",
      "Iter     8\t      1.22378321 (Batch Size:    32)\n",
      "Iter     9\t      1.09095768 (Batch Size:    32)\n",
      "Iter    10\t      1.20038292 (Batch Size:    32)\n",
      "Iter    11\t      1.14522488 (Batch Size:    32)\n",
      "Iter    12\t      1.11465864 (Batch Size:    32)\n",
      "Iter    13\t      1.15011923 (Batch Size:    32)\n",
      "Iter    14\t      1.11985506 (Batch Size:    32)\n",
      "Iter    15\t      1.05688612 (Batch Size:    32)\n"
     ]
    }
   ],
   "source": [
    "from TFANN import ANNR\n",
    " \n",
    "NC = B.shape[2]\n",
    "#2 1-D conv layers with relu followed by 1-d conv output layer\n",
    "ns = [('C1d', [8, NC, NC * 2], 4), ('AF', 'relu'), \n",
    "      ('C1d', [8, NC * 2, NC * 2], 2), ('AF', 'relu'), \n",
    "      ('C1d', [8, NC * 2, NC], 2)]\n",
    "#Create the neural network in TensorFlow\n",
    "cnnr = ANNR(B[0].shape, ns, batchSize = 32, learnRate = 2e-5, \n",
    "            maxIter = 64, reg = 1e-5, tol = 1e-2, verbose = True)\n",
    "cnnr.fit(B, Y)"
   ]
  },
  {
   "cell_type": "code",
   "execution_count": null,
   "metadata": {},
   "outputs": [],
   "source": [
    "PTS = []                        #Predicted time sequences\n",
    "P, YH = B[[-1]], Y[[-1]]        #Most recent time sequence\n",
    "for i in range(HP // NFS):  #Repeat prediction\n",
    "    P = np.concatenate([P[:, NFS:], YH], axis = 1)\n",
    "    YH = cnnr.predict(P)\n",
    "    PTS.append(YH)\n",
    "PTS = np.hstack(PTS).transpose((1, 0, 2))\n",
    "A = np.vstack([A, PTS]) #Combine predictions with original data\n",
    "A = np.squeeze(A) * SV  #Remove unittime dimension and rescale\n",
    "C = np.squeeze(C) * SV"
   ]
  },
  {
   "cell_type": "code",
   "execution_count": null,
   "metadata": {},
   "outputs": [],
   "source": [
    "import matplotlib.pyplot as mpl\n",
    " \n",
    "nt = 4\n",
    "PF = cnnr.PredictFull(B[:nt])\n",
    "for i in range(nt):\n",
    "    fig, ax = mpl.subplots(1, 4, figsize = (16 / 1.24, 10 / 1.25))\n",
    "    ax[0].plot(PF[0][i])\n",
    "    ax[0].set_title('Input')\n",
    "    ax[1].plot(PF[2][i])\n",
    "    ax[1].set_title('Layer 1')\n",
    "    ax[2].plot(PF[4][i])\n",
    "    ax[2].set_title('Layer 2')\n",
    "    ax[3].plot(PF[5][i])\n",
    "    ax[3].set_title('Output')\n",
    "    fig.text(0.5, 0.06, 'Time', ha='center')\n",
    "    fig.text(0.06, 0.5, 'Activation', va='center', rotation='vertical')\n",
    "    mpl.show()"
   ]
  },
  {
   "cell_type": "code",
   "execution_count": null,
   "metadata": {},
   "outputs": [],
   "source": [
    "CI = list(range(C.shape[0]))\n",
    "AI = list(range(C.shape[0] + PTS.shape[0] - HP))\n",
    "NDP = PTS.shape[0] #Number of days predicted\n",
    "for i, cli in enumerate(cl):\n",
    "    fig, ax = mpl.subplots(figsize = (16 / 1.5, 10 / 1.5))\n",
    "    hind = i * len(CN) + CN.index('high')\n",
    "    ax.plot(CI[-4 * HP:], C[-4 * HP:, hind], label = 'Actual')\n",
    "    ax.plot(AI[-(NDP + 1):], A[-(NDP + 1):, hind], '--', label = 'Prediction')\n",
    "    ax.legend(loc = 'upper left')\n",
    "    ax.set_title(cli + ' (High)')\n",
    "    ax.set_ylabel('USD')\n",
    "    ax.set_xlabel('Time')\n",
    "    ax.axes.xaxis.set_ticklabels([])\n",
    "    mpl.show()"
   ]
  }
 ],
 "metadata": {
  "kernelspec": {
   "display_name": "Python 3",
   "language": "python",
   "name": "python3"
  },
  "language_info": {
   "codemirror_mode": {
    "name": "ipython",
    "version": 3
   },
   "file_extension": ".py",
   "mimetype": "text/x-python",
   "name": "python",
   "nbconvert_exporter": "python",
   "pygments_lexer": "ipython3",
   "version": "3.7.2"
  }
 },
 "nbformat": 4,
 "nbformat_minor": 2
}
